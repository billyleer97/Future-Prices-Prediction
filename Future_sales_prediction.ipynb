{
  "nbformat": 4,
  "nbformat_minor": 0,
  "metadata": {
    "colab": {
      "name": "Future sales prediction.ipynb",
      "provenance": [],
      "authorship_tag": "ABX9TyOg9w461ZwtYU0GhY07kvDG",
      "include_colab_link": true
    },
    "kernelspec": {
      "name": "python3",
      "display_name": "Python 3"
    },
    "language_info": {
      "name": "python"
    }
  },
  "cells": [
    {
      "cell_type": "markdown",
      "metadata": {
        "id": "view-in-github",
        "colab_type": "text"
      },
      "source": [
        "<a href=\"https://colab.research.google.com/github/billyleer97/Future-Prices-Prediction/blob/main/Future_sales_prediction.ipynb\" target=\"_parent\"><img src=\"https://colab.research.google.com/assets/colab-badge.svg\" alt=\"Open In Colab\"/></a>"
      ]
    },
    {
      "cell_type": "markdown",
      "metadata": {
        "id": "j_u20ZWvGqQV"
      },
      "source": [
        "# Importing Data"
      ]
    },
    {
      "cell_type": "markdown",
      "metadata": {
        "id": "Wd82_T71J6xL"
      },
      "source": [
        "Using kaggle api to download data. "
      ]
    },
    {
      "cell_type": "markdown",
      "metadata": {
        "id": "R1jyvVjcyZ2K"
      },
      "source": [
        "I will be using guidance from this notebook mainly so all credit to this notebook:\n",
        "https://www.kaggle.com/jerifate/future-sales-time-series-visualization/data\n"
      ]
    },
    {
      "cell_type": "code",
      "metadata": {
        "colab": {
          "resources": {
            "http://localhost:8080/nbextensions/google.colab/files.js": {
              "data": "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",
              "ok": true,
              "headers": [
                [
                  "content-type",
                  "application/javascript"
                ]
              ],
              "status": 200,
              "status_text": ""
            }
          },
          "base_uri": "https://localhost:8080/",
          "height": 301
        },
        "id": "c2PFO1RJGwWw",
        "outputId": "04c351e3-3c8b-4777-879f-f5876699a1e7"
      },
      "source": [
        "!pip install kaggle\n",
        "from google.colab import files\n",
        "\n",
        "\n",
        "files.upload()"
      ],
      "execution_count": 5,
      "outputs": [
        {
          "output_type": "stream",
          "text": [
            "Requirement already satisfied: kaggle in /usr/local/lib/python3.7/dist-packages (1.5.12)\n",
            "Requirement already satisfied: certifi in /usr/local/lib/python3.7/dist-packages (from kaggle) (2021.5.30)\n",
            "Requirement already satisfied: six>=1.10 in /usr/local/lib/python3.7/dist-packages (from kaggle) (1.15.0)\n",
            "Requirement already satisfied: python-slugify in /usr/local/lib/python3.7/dist-packages (from kaggle) (5.0.2)\n",
            "Requirement already satisfied: urllib3 in /usr/local/lib/python3.7/dist-packages (from kaggle) (1.24.3)\n",
            "Requirement already satisfied: python-dateutil in /usr/local/lib/python3.7/dist-packages (from kaggle) (2.8.1)\n",
            "Requirement already satisfied: tqdm in /usr/local/lib/python3.7/dist-packages (from kaggle) (4.41.1)\n",
            "Requirement already satisfied: requests in /usr/local/lib/python3.7/dist-packages (from kaggle) (2.23.0)\n",
            "Requirement already satisfied: text-unidecode>=1.3 in /usr/local/lib/python3.7/dist-packages (from python-slugify->kaggle) (1.3)\n",
            "Requirement already satisfied: idna<3,>=2.5 in /usr/local/lib/python3.7/dist-packages (from requests->kaggle) (2.10)\n",
            "Requirement already satisfied: chardet<4,>=3.0.2 in /usr/local/lib/python3.7/dist-packages (from requests->kaggle) (3.0.4)\n"
          ],
          "name": "stdout"
        },
        {
          "output_type": "display_data",
          "data": {
            "text/html": [
              "\n",
              "     <input type=\"file\" id=\"files-bd1c933b-2447-4a39-aa9e-801d6b2cf26c\" name=\"files[]\" multiple disabled\n",
              "        style=\"border:none\" />\n",
              "     <output id=\"result-bd1c933b-2447-4a39-aa9e-801d6b2cf26c\">\n",
              "      Upload widget is only available when the cell has been executed in the\n",
              "      current browser session. Please rerun this cell to enable.\n",
              "      </output>\n",
              "      <script src=\"/nbextensions/google.colab/files.js\"></script> "
            ],
            "text/plain": [
              "<IPython.core.display.HTML object>"
            ]
          },
          "metadata": {
            "tags": []
          }
        },
        {
          "output_type": "stream",
          "text": [
            "Saving kaggle.json to kaggle.json\n"
          ],
          "name": "stdout"
        },
        {
          "output_type": "execute_result",
          "data": {
            "text/plain": [
              "{'kaggle.json': b'{\"username\":\"bigbillsinthehouse\",\"key\":\"76e066fb45dc64c45b362b0bc67d508f\"}'}"
            ]
          },
          "metadata": {
            "tags": []
          },
          "execution_count": 5
        }
      ]
    },
    {
      "cell_type": "code",
      "metadata": {
        "id": "AVPhaLzPHQfl"
      },
      "source": [
        "import csv as csv\n",
        "import pandas as pd\n",
        "import numpy as np\n",
        "import matplotlib.pyplot as plt\n",
        "import seaborn as sns\n",
        "import zipfile "
      ],
      "execution_count": 6,
      "outputs": []
    },
    {
      "cell_type": "code",
      "metadata": {
        "id": "g3nBzyPxHekh"
      },
      "source": [
        "! mkdir ~/.kaggle\n",
        "! cp kaggle.json ~/.kaggle/"
      ],
      "execution_count": 7,
      "outputs": []
    },
    {
      "cell_type": "code",
      "metadata": {
        "colab": {
          "base_uri": "https://localhost:8080/"
        },
        "id": "sNJtDDf0Hgo3",
        "outputId": "73fbf5e6-7e2b-4107-91e0-83dbfe8ce09c"
      },
      "source": [
        "! chmod 600 ~/.kaggle/kaggle.json\n",
        "!kaggle competitions download -c competitive-data-science-predict-future-sales"
      ],
      "execution_count": 8,
      "outputs": [
        {
          "output_type": "stream",
          "text": [
            "Warning: Looks like you're using an outdated API Version, please consider updating (server 1.5.12 / client 1.5.4)\n",
            "Downloading items.csv.zip to /content\n",
            "  0% 0.00/368k [00:00<?, ?B/s]\n",
            "100% 368k/368k [00:00<00:00, 54.6MB/s]\n",
            "Downloading item_categories.csv to /content\n",
            "  0% 0.00/3.49k [00:00<?, ?B/s]\n",
            "100% 3.49k/3.49k [00:00<00:00, 3.27MB/s]\n",
            "Downloading shops.csv to /content\n",
            "  0% 0.00/2.91k [00:00<?, ?B/s]\n",
            "100% 2.91k/2.91k [00:00<00:00, 2.96MB/s]\n",
            "Downloading sales_train.csv.zip to /content\n",
            "  0% 0.00/13.3M [00:00<?, ?B/s]\n",
            "100% 13.3M/13.3M [00:00<00:00, 121MB/s]\n",
            "Downloading sample_submission.csv.zip to /content\n",
            "  0% 0.00/468k [00:00<?, ?B/s]\n",
            "100% 468k/468k [00:00<00:00, 139MB/s]\n",
            "Downloading test.csv.zip to /content\n",
            "  0% 0.00/1.02M [00:00<?, ?B/s]\n",
            "100% 1.02M/1.02M [00:00<00:00, 148MB/s]\n"
          ],
          "name": "stdout"
        }
      ]
    },
    {
      "cell_type": "markdown",
      "metadata": {
        "id": "evG7cdFKJto-"
      },
      "source": [
        "# Preparing Data"
      ]
    },
    {
      "cell_type": "markdown",
      "metadata": {
        "id": "lJoZD5yhJwwz"
      },
      "source": [
        "now I will read the data into a pandas dataframe, and check for null values, get a better sense of the shape and size of dataset. "
      ]
    },
    {
      "cell_type": "code",
      "metadata": {
        "id": "8obyovp1Hr0r"
      },
      "source": [
        "train_data = pd.read_csv('sales_train.csv.zip', compression='zip')\n",
        "test_data = pd.read_csv('test.csv.zip', compression='zip')"
      ],
      "execution_count": 104,
      "outputs": []
    },
    {
      "cell_type": "code",
      "metadata": {
        "colab": {
          "base_uri": "https://localhost:8080/",
          "height": 0
        },
        "id": "n9QEprDMJXKP",
        "outputId": "397382b4-6701-425e-e05b-1645344c9ad3"
      },
      "source": [
        "# pd.set_option('display.max_rows', 500) # unnecessary \n",
        "# pd.set_option('display.max_columns', 500) #unnecessary for this dataset, sometimes nice to see the whole set\n",
        "train_data.head()"
      ],
      "execution_count": 105,
      "outputs": [
        {
          "output_type": "execute_result",
          "data": {
            "text/html": [
              "<div>\n",
              "<style scoped>\n",
              "    .dataframe tbody tr th:only-of-type {\n",
              "        vertical-align: middle;\n",
              "    }\n",
              "\n",
              "    .dataframe tbody tr th {\n",
              "        vertical-align: top;\n",
              "    }\n",
              "\n",
              "    .dataframe thead th {\n",
              "        text-align: right;\n",
              "    }\n",
              "</style>\n",
              "<table border=\"1\" class=\"dataframe\">\n",
              "  <thead>\n",
              "    <tr style=\"text-align: right;\">\n",
              "      <th></th>\n",
              "      <th>date</th>\n",
              "      <th>date_block_num</th>\n",
              "      <th>shop_id</th>\n",
              "      <th>item_id</th>\n",
              "      <th>item_price</th>\n",
              "      <th>item_cnt_day</th>\n",
              "    </tr>\n",
              "  </thead>\n",
              "  <tbody>\n",
              "    <tr>\n",
              "      <th>0</th>\n",
              "      <td>02.01.2013</td>\n",
              "      <td>0</td>\n",
              "      <td>59</td>\n",
              "      <td>22154</td>\n",
              "      <td>999.00</td>\n",
              "      <td>1.0</td>\n",
              "    </tr>\n",
              "    <tr>\n",
              "      <th>1</th>\n",
              "      <td>03.01.2013</td>\n",
              "      <td>0</td>\n",
              "      <td>25</td>\n",
              "      <td>2552</td>\n",
              "      <td>899.00</td>\n",
              "      <td>1.0</td>\n",
              "    </tr>\n",
              "    <tr>\n",
              "      <th>2</th>\n",
              "      <td>05.01.2013</td>\n",
              "      <td>0</td>\n",
              "      <td>25</td>\n",
              "      <td>2552</td>\n",
              "      <td>899.00</td>\n",
              "      <td>-1.0</td>\n",
              "    </tr>\n",
              "    <tr>\n",
              "      <th>3</th>\n",
              "      <td>06.01.2013</td>\n",
              "      <td>0</td>\n",
              "      <td>25</td>\n",
              "      <td>2554</td>\n",
              "      <td>1709.05</td>\n",
              "      <td>1.0</td>\n",
              "    </tr>\n",
              "    <tr>\n",
              "      <th>4</th>\n",
              "      <td>15.01.2013</td>\n",
              "      <td>0</td>\n",
              "      <td>25</td>\n",
              "      <td>2555</td>\n",
              "      <td>1099.00</td>\n",
              "      <td>1.0</td>\n",
              "    </tr>\n",
              "  </tbody>\n",
              "</table>\n",
              "</div>"
            ],
            "text/plain": [
              "         date  date_block_num  shop_id  item_id  item_price  item_cnt_day\n",
              "0  02.01.2013               0       59    22154      999.00           1.0\n",
              "1  03.01.2013               0       25     2552      899.00           1.0\n",
              "2  05.01.2013               0       25     2552      899.00          -1.0\n",
              "3  06.01.2013               0       25     2554     1709.05           1.0\n",
              "4  15.01.2013               0       25     2555     1099.00           1.0"
            ]
          },
          "metadata": {
            "tags": []
          },
          "execution_count": 105
        }
      ]
    },
    {
      "cell_type": "markdown",
      "metadata": {
        "id": "n3ttpcEKMpq1"
      },
      "source": [
        "6 columns, but very extensive data set in terms of items. Date value is going to need some engineering to make use of for sure. We have supplemental data, we could join together through sql-esque data merging.\n",
        "\n"
      ]
    },
    {
      "cell_type": "code",
      "metadata": {
        "colab": {
          "base_uri": "https://localhost:8080/",
          "height": 0
        },
        "id": "ONPUcV2WKSvC",
        "outputId": "d04bfb3f-4639-4608-bbe3-8dc10f6e08f8"
      },
      "source": [
        "train_data.describe()"
      ],
      "execution_count": 106,
      "outputs": [
        {
          "output_type": "execute_result",
          "data": {
            "text/html": [
              "<div>\n",
              "<style scoped>\n",
              "    .dataframe tbody tr th:only-of-type {\n",
              "        vertical-align: middle;\n",
              "    }\n",
              "\n",
              "    .dataframe tbody tr th {\n",
              "        vertical-align: top;\n",
              "    }\n",
              "\n",
              "    .dataframe thead th {\n",
              "        text-align: right;\n",
              "    }\n",
              "</style>\n",
              "<table border=\"1\" class=\"dataframe\">\n",
              "  <thead>\n",
              "    <tr style=\"text-align: right;\">\n",
              "      <th></th>\n",
              "      <th>date_block_num</th>\n",
              "      <th>shop_id</th>\n",
              "      <th>item_id</th>\n",
              "      <th>item_price</th>\n",
              "      <th>item_cnt_day</th>\n",
              "    </tr>\n",
              "  </thead>\n",
              "  <tbody>\n",
              "    <tr>\n",
              "      <th>count</th>\n",
              "      <td>2.935849e+06</td>\n",
              "      <td>2.935849e+06</td>\n",
              "      <td>2.935849e+06</td>\n",
              "      <td>2.935849e+06</td>\n",
              "      <td>2.935849e+06</td>\n",
              "    </tr>\n",
              "    <tr>\n",
              "      <th>mean</th>\n",
              "      <td>1.456991e+01</td>\n",
              "      <td>3.300173e+01</td>\n",
              "      <td>1.019723e+04</td>\n",
              "      <td>8.908532e+02</td>\n",
              "      <td>1.242641e+00</td>\n",
              "    </tr>\n",
              "    <tr>\n",
              "      <th>std</th>\n",
              "      <td>9.422988e+00</td>\n",
              "      <td>1.622697e+01</td>\n",
              "      <td>6.324297e+03</td>\n",
              "      <td>1.729800e+03</td>\n",
              "      <td>2.618834e+00</td>\n",
              "    </tr>\n",
              "    <tr>\n",
              "      <th>min</th>\n",
              "      <td>0.000000e+00</td>\n",
              "      <td>0.000000e+00</td>\n",
              "      <td>0.000000e+00</td>\n",
              "      <td>-1.000000e+00</td>\n",
              "      <td>-2.200000e+01</td>\n",
              "    </tr>\n",
              "    <tr>\n",
              "      <th>25%</th>\n",
              "      <td>7.000000e+00</td>\n",
              "      <td>2.200000e+01</td>\n",
              "      <td>4.476000e+03</td>\n",
              "      <td>2.490000e+02</td>\n",
              "      <td>1.000000e+00</td>\n",
              "    </tr>\n",
              "    <tr>\n",
              "      <th>50%</th>\n",
              "      <td>1.400000e+01</td>\n",
              "      <td>3.100000e+01</td>\n",
              "      <td>9.343000e+03</td>\n",
              "      <td>3.990000e+02</td>\n",
              "      <td>1.000000e+00</td>\n",
              "    </tr>\n",
              "    <tr>\n",
              "      <th>75%</th>\n",
              "      <td>2.300000e+01</td>\n",
              "      <td>4.700000e+01</td>\n",
              "      <td>1.568400e+04</td>\n",
              "      <td>9.990000e+02</td>\n",
              "      <td>1.000000e+00</td>\n",
              "    </tr>\n",
              "    <tr>\n",
              "      <th>max</th>\n",
              "      <td>3.300000e+01</td>\n",
              "      <td>5.900000e+01</td>\n",
              "      <td>2.216900e+04</td>\n",
              "      <td>3.079800e+05</td>\n",
              "      <td>2.169000e+03</td>\n",
              "    </tr>\n",
              "  </tbody>\n",
              "</table>\n",
              "</div>"
            ],
            "text/plain": [
              "       date_block_num       shop_id       item_id    item_price  item_cnt_day\n",
              "count    2.935849e+06  2.935849e+06  2.935849e+06  2.935849e+06  2.935849e+06\n",
              "mean     1.456991e+01  3.300173e+01  1.019723e+04  8.908532e+02  1.242641e+00\n",
              "std      9.422988e+00  1.622697e+01  6.324297e+03  1.729800e+03  2.618834e+00\n",
              "min      0.000000e+00  0.000000e+00  0.000000e+00 -1.000000e+00 -2.200000e+01\n",
              "25%      7.000000e+00  2.200000e+01  4.476000e+03  2.490000e+02  1.000000e+00\n",
              "50%      1.400000e+01  3.100000e+01  9.343000e+03  3.990000e+02  1.000000e+00\n",
              "75%      2.300000e+01  4.700000e+01  1.568400e+04  9.990000e+02  1.000000e+00\n",
              "max      3.300000e+01  5.900000e+01  2.216900e+04  3.079800e+05  2.169000e+03"
            ]
          },
          "metadata": {
            "tags": []
          },
          "execution_count": 106
        }
      ]
    },
    {
      "cell_type": "markdown",
      "metadata": {
        "id": "to7Mosi-Mlh5"
      },
      "source": [
        "check for null values"
      ]
    },
    {
      "cell_type": "code",
      "metadata": {
        "colab": {
          "base_uri": "https://localhost:8080/"
        },
        "id": "I8G9T0z-MKod",
        "outputId": "7de7a6e3-6b80-47f7-b223-8016fff7498c"
      },
      "source": [
        "train_data.isna().sum()"
      ],
      "execution_count": 107,
      "outputs": [
        {
          "output_type": "execute_result",
          "data": {
            "text/plain": [
              "date              0\n",
              "date_block_num    0\n",
              "shop_id           0\n",
              "item_id           0\n",
              "item_price        0\n",
              "item_cnt_day      0\n",
              "dtype: int64"
            ]
          },
          "metadata": {
            "tags": []
          },
          "execution_count": 107
        }
      ]
    },
    {
      "cell_type": "markdown",
      "metadata": {
        "id": "VjQPADlcNh4b"
      },
      "source": [
        "no null values in any of the 6 columns. Now let's check the supplemental information. \n"
      ]
    },
    {
      "cell_type": "code",
      "metadata": {
        "colab": {
          "base_uri": "https://localhost:8080/"
        },
        "id": "fEeU7EAfNqrB",
        "outputId": "5985ef45-2636-4870-d4d9-65e6c61d9643"
      },
      "source": [
        "train_data['date'].value_counts()"
      ],
      "execution_count": 108,
      "outputs": [
        {
          "output_type": "execute_result",
          "data": {
            "text/plain": [
              "28.12.2013    9434\n",
              "29.12.2013    9335\n",
              "30.12.2014    9324\n",
              "30.12.2013    9138\n",
              "31.12.2014    8347\n",
              "              ... \n",
              "14.05.2015    1174\n",
              "28.04.2015    1154\n",
              "06.10.2015    1152\n",
              "13.05.2015    1128\n",
              "12.05.2015    1123\n",
              "Name: date, Length: 1034, dtype: int64"
            ]
          },
          "metadata": {
            "tags": []
          },
          "execution_count": 108
        }
      ]
    },
    {
      "cell_type": "code",
      "metadata": {
        "id": "JPw_-qpxN5Nc"
      },
      "source": [
        "items = pd.read_csv('items.csv.zip', compression='zip')\n",
        "item_categories = pd.read_csv('item_categories.csv')\n",
        "shops = pd.read_csv('shops.csv')"
      ],
      "execution_count": 109,
      "outputs": []
    },
    {
      "cell_type": "code",
      "metadata": {
        "colab": {
          "base_uri": "https://localhost:8080/",
          "height": 0
        },
        "id": "jE9rISvLRSyB",
        "outputId": "ef97a8e2-d6bf-4050-b674-12c23b6933f1"
      },
      "source": [
        "items.head()"
      ],
      "execution_count": 110,
      "outputs": [
        {
          "output_type": "execute_result",
          "data": {
            "text/html": [
              "<div>\n",
              "<style scoped>\n",
              "    .dataframe tbody tr th:only-of-type {\n",
              "        vertical-align: middle;\n",
              "    }\n",
              "\n",
              "    .dataframe tbody tr th {\n",
              "        vertical-align: top;\n",
              "    }\n",
              "\n",
              "    .dataframe thead th {\n",
              "        text-align: right;\n",
              "    }\n",
              "</style>\n",
              "<table border=\"1\" class=\"dataframe\">\n",
              "  <thead>\n",
              "    <tr style=\"text-align: right;\">\n",
              "      <th></th>\n",
              "      <th>item_name</th>\n",
              "      <th>item_id</th>\n",
              "      <th>item_category_id</th>\n",
              "    </tr>\n",
              "  </thead>\n",
              "  <tbody>\n",
              "    <tr>\n",
              "      <th>0</th>\n",
              "      <td>! ВО ВЛАСТИ НАВАЖДЕНИЯ (ПЛАСТ.)         D</td>\n",
              "      <td>0</td>\n",
              "      <td>40</td>\n",
              "    </tr>\n",
              "    <tr>\n",
              "      <th>1</th>\n",
              "      <td>!ABBYY FineReader 12 Professional Edition Full...</td>\n",
              "      <td>1</td>\n",
              "      <td>76</td>\n",
              "    </tr>\n",
              "    <tr>\n",
              "      <th>2</th>\n",
              "      <td>***В ЛУЧАХ СЛАВЫ   (UNV)                    D</td>\n",
              "      <td>2</td>\n",
              "      <td>40</td>\n",
              "    </tr>\n",
              "    <tr>\n",
              "      <th>3</th>\n",
              "      <td>***ГОЛУБАЯ ВОЛНА  (Univ)                      D</td>\n",
              "      <td>3</td>\n",
              "      <td>40</td>\n",
              "    </tr>\n",
              "    <tr>\n",
              "      <th>4</th>\n",
              "      <td>***КОРОБКА (СТЕКЛО)                       D</td>\n",
              "      <td>4</td>\n",
              "      <td>40</td>\n",
              "    </tr>\n",
              "  </tbody>\n",
              "</table>\n",
              "</div>"
            ],
            "text/plain": [
              "                                           item_name  item_id  item_category_id\n",
              "0          ! ВО ВЛАСТИ НАВАЖДЕНИЯ (ПЛАСТ.)         D        0                40\n",
              "1  !ABBYY FineReader 12 Professional Edition Full...        1                76\n",
              "2      ***В ЛУЧАХ СЛАВЫ   (UNV)                    D        2                40\n",
              "3    ***ГОЛУБАЯ ВОЛНА  (Univ)                      D        3                40\n",
              "4        ***КОРОБКА (СТЕКЛО)                       D        4                40"
            ]
          },
          "metadata": {
            "tags": []
          },
          "execution_count": 110
        }
      ]
    },
    {
      "cell_type": "code",
      "metadata": {
        "colab": {
          "base_uri": "https://localhost:8080/",
          "height": 0
        },
        "id": "lctMw3ndRYYS",
        "outputId": "03c75256-2c92-4bc9-8572-b1a792e1c972"
      },
      "source": [
        "item_categories.head()"
      ],
      "execution_count": 111,
      "outputs": [
        {
          "output_type": "execute_result",
          "data": {
            "text/html": [
              "<div>\n",
              "<style scoped>\n",
              "    .dataframe tbody tr th:only-of-type {\n",
              "        vertical-align: middle;\n",
              "    }\n",
              "\n",
              "    .dataframe tbody tr th {\n",
              "        vertical-align: top;\n",
              "    }\n",
              "\n",
              "    .dataframe thead th {\n",
              "        text-align: right;\n",
              "    }\n",
              "</style>\n",
              "<table border=\"1\" class=\"dataframe\">\n",
              "  <thead>\n",
              "    <tr style=\"text-align: right;\">\n",
              "      <th></th>\n",
              "      <th>item_category_name</th>\n",
              "      <th>item_category_id</th>\n",
              "    </tr>\n",
              "  </thead>\n",
              "  <tbody>\n",
              "    <tr>\n",
              "      <th>0</th>\n",
              "      <td>PC - Гарнитуры/Наушники</td>\n",
              "      <td>0</td>\n",
              "    </tr>\n",
              "    <tr>\n",
              "      <th>1</th>\n",
              "      <td>Аксессуары - PS2</td>\n",
              "      <td>1</td>\n",
              "    </tr>\n",
              "    <tr>\n",
              "      <th>2</th>\n",
              "      <td>Аксессуары - PS3</td>\n",
              "      <td>2</td>\n",
              "    </tr>\n",
              "    <tr>\n",
              "      <th>3</th>\n",
              "      <td>Аксессуары - PS4</td>\n",
              "      <td>3</td>\n",
              "    </tr>\n",
              "    <tr>\n",
              "      <th>4</th>\n",
              "      <td>Аксессуары - PSP</td>\n",
              "      <td>4</td>\n",
              "    </tr>\n",
              "  </tbody>\n",
              "</table>\n",
              "</div>"
            ],
            "text/plain": [
              "        item_category_name  item_category_id\n",
              "0  PC - Гарнитуры/Наушники                 0\n",
              "1         Аксессуары - PS2                 1\n",
              "2         Аксессуары - PS3                 2\n",
              "3         Аксессуары - PS4                 3\n",
              "4         Аксессуары - PSP                 4"
            ]
          },
          "metadata": {
            "tags": []
          },
          "execution_count": 111
        }
      ]
    },
    {
      "cell_type": "markdown",
      "metadata": {
        "id": "xIwoIw7UaVcL"
      },
      "source": [
        "Unsure how much shop name will help, if we already have ID. SO I will not be merging this onto the dataset. "
      ]
    },
    {
      "cell_type": "code",
      "metadata": {
        "colab": {
          "base_uri": "https://localhost:8080/",
          "height": 0
        },
        "id": "wiuxwm4eRbMm",
        "outputId": "2dc20fd5-5cf2-4e19-aa13-6f76f92c1df4"
      },
      "source": [
        "shops.head()"
      ],
      "execution_count": 112,
      "outputs": [
        {
          "output_type": "execute_result",
          "data": {
            "text/html": [
              "<div>\n",
              "<style scoped>\n",
              "    .dataframe tbody tr th:only-of-type {\n",
              "        vertical-align: middle;\n",
              "    }\n",
              "\n",
              "    .dataframe tbody tr th {\n",
              "        vertical-align: top;\n",
              "    }\n",
              "\n",
              "    .dataframe thead th {\n",
              "        text-align: right;\n",
              "    }\n",
              "</style>\n",
              "<table border=\"1\" class=\"dataframe\">\n",
              "  <thead>\n",
              "    <tr style=\"text-align: right;\">\n",
              "      <th></th>\n",
              "      <th>shop_name</th>\n",
              "      <th>shop_id</th>\n",
              "    </tr>\n",
              "  </thead>\n",
              "  <tbody>\n",
              "    <tr>\n",
              "      <th>0</th>\n",
              "      <td>!Якутск Орджоникидзе, 56 фран</td>\n",
              "      <td>0</td>\n",
              "    </tr>\n",
              "    <tr>\n",
              "      <th>1</th>\n",
              "      <td>!Якутск ТЦ \"Центральный\" фран</td>\n",
              "      <td>1</td>\n",
              "    </tr>\n",
              "    <tr>\n",
              "      <th>2</th>\n",
              "      <td>Адыгея ТЦ \"Мега\"</td>\n",
              "      <td>2</td>\n",
              "    </tr>\n",
              "    <tr>\n",
              "      <th>3</th>\n",
              "      <td>Балашиха ТРК \"Октябрь-Киномир\"</td>\n",
              "      <td>3</td>\n",
              "    </tr>\n",
              "    <tr>\n",
              "      <th>4</th>\n",
              "      <td>Волжский ТЦ \"Волга Молл\"</td>\n",
              "      <td>4</td>\n",
              "    </tr>\n",
              "  </tbody>\n",
              "</table>\n",
              "</div>"
            ],
            "text/plain": [
              "                        shop_name  shop_id\n",
              "0   !Якутск Орджоникидзе, 56 фран        0\n",
              "1   !Якутск ТЦ \"Центральный\" фран        1\n",
              "2                Адыгея ТЦ \"Мега\"        2\n",
              "3  Балашиха ТРК \"Октябрь-Киномир\"        3\n",
              "4        Волжский ТЦ \"Волга Молл\"        4"
            ]
          },
          "metadata": {
            "tags": []
          },
          "execution_count": 112
        }
      ]
    },
    {
      "cell_type": "code",
      "metadata": {
        "colab": {
          "base_uri": "https://localhost:8080/",
          "height": 0
        },
        "id": "GkBCGjgJSF83",
        "outputId": "84bc9723-22d4-4982-b22c-be88d3ab0a00"
      },
      "source": [
        "items_table = pd.merge(items, item_categories, how='left', on='item_category_id')\n",
        "\n",
        "items_table.head()"
      ],
      "execution_count": 113,
      "outputs": [
        {
          "output_type": "execute_result",
          "data": {
            "text/html": [
              "<div>\n",
              "<style scoped>\n",
              "    .dataframe tbody tr th:only-of-type {\n",
              "        vertical-align: middle;\n",
              "    }\n",
              "\n",
              "    .dataframe tbody tr th {\n",
              "        vertical-align: top;\n",
              "    }\n",
              "\n",
              "    .dataframe thead th {\n",
              "        text-align: right;\n",
              "    }\n",
              "</style>\n",
              "<table border=\"1\" class=\"dataframe\">\n",
              "  <thead>\n",
              "    <tr style=\"text-align: right;\">\n",
              "      <th></th>\n",
              "      <th>item_name</th>\n",
              "      <th>item_id</th>\n",
              "      <th>item_category_id</th>\n",
              "      <th>item_category_name</th>\n",
              "    </tr>\n",
              "  </thead>\n",
              "  <tbody>\n",
              "    <tr>\n",
              "      <th>0</th>\n",
              "      <td>! ВО ВЛАСТИ НАВАЖДЕНИЯ (ПЛАСТ.)         D</td>\n",
              "      <td>0</td>\n",
              "      <td>40</td>\n",
              "      <td>Кино - DVD</td>\n",
              "    </tr>\n",
              "    <tr>\n",
              "      <th>1</th>\n",
              "      <td>!ABBYY FineReader 12 Professional Edition Full...</td>\n",
              "      <td>1</td>\n",
              "      <td>76</td>\n",
              "      <td>Программы - Для дома и офиса (Цифра)</td>\n",
              "    </tr>\n",
              "    <tr>\n",
              "      <th>2</th>\n",
              "      <td>***В ЛУЧАХ СЛАВЫ   (UNV)                    D</td>\n",
              "      <td>2</td>\n",
              "      <td>40</td>\n",
              "      <td>Кино - DVD</td>\n",
              "    </tr>\n",
              "    <tr>\n",
              "      <th>3</th>\n",
              "      <td>***ГОЛУБАЯ ВОЛНА  (Univ)                      D</td>\n",
              "      <td>3</td>\n",
              "      <td>40</td>\n",
              "      <td>Кино - DVD</td>\n",
              "    </tr>\n",
              "    <tr>\n",
              "      <th>4</th>\n",
              "      <td>***КОРОБКА (СТЕКЛО)                       D</td>\n",
              "      <td>4</td>\n",
              "      <td>40</td>\n",
              "      <td>Кино - DVD</td>\n",
              "    </tr>\n",
              "  </tbody>\n",
              "</table>\n",
              "</div>"
            ],
            "text/plain": [
              "                                           item_name  ...                    item_category_name\n",
              "0          ! ВО ВЛАСТИ НАВАЖДЕНИЯ (ПЛАСТ.)         D  ...                            Кино - DVD\n",
              "1  !ABBYY FineReader 12 Professional Edition Full...  ...  Программы - Для дома и офиса (Цифра)\n",
              "2      ***В ЛУЧАХ СЛАВЫ   (UNV)                    D  ...                            Кино - DVD\n",
              "3    ***ГОЛУБАЯ ВОЛНА  (Univ)                      D  ...                            Кино - DVD\n",
              "4        ***КОРОБКА (СТЕКЛО)                       D  ...                            Кино - DVD\n",
              "\n",
              "[5 rows x 4 columns]"
            ]
          },
          "metadata": {
            "tags": []
          },
          "execution_count": 113
        }
      ]
    },
    {
      "cell_type": "code",
      "metadata": {
        "id": "Pjf-MzfnU6uZ",
        "colab": {
          "base_uri": "https://localhost:8080/",
          "height": 0
        },
        "outputId": "9837c576-6103-4544-bba2-1007ef63c9e9"
      },
      "source": [
        "train_data.head()\n",
        "#items_table['item_category_name'].value_counts()"
      ],
      "execution_count": 114,
      "outputs": [
        {
          "output_type": "execute_result",
          "data": {
            "text/html": [
              "<div>\n",
              "<style scoped>\n",
              "    .dataframe tbody tr th:only-of-type {\n",
              "        vertical-align: middle;\n",
              "    }\n",
              "\n",
              "    .dataframe tbody tr th {\n",
              "        vertical-align: top;\n",
              "    }\n",
              "\n",
              "    .dataframe thead th {\n",
              "        text-align: right;\n",
              "    }\n",
              "</style>\n",
              "<table border=\"1\" class=\"dataframe\">\n",
              "  <thead>\n",
              "    <tr style=\"text-align: right;\">\n",
              "      <th></th>\n",
              "      <th>date</th>\n",
              "      <th>date_block_num</th>\n",
              "      <th>shop_id</th>\n",
              "      <th>item_id</th>\n",
              "      <th>item_price</th>\n",
              "      <th>item_cnt_day</th>\n",
              "    </tr>\n",
              "  </thead>\n",
              "  <tbody>\n",
              "    <tr>\n",
              "      <th>0</th>\n",
              "      <td>02.01.2013</td>\n",
              "      <td>0</td>\n",
              "      <td>59</td>\n",
              "      <td>22154</td>\n",
              "      <td>999.00</td>\n",
              "      <td>1.0</td>\n",
              "    </tr>\n",
              "    <tr>\n",
              "      <th>1</th>\n",
              "      <td>03.01.2013</td>\n",
              "      <td>0</td>\n",
              "      <td>25</td>\n",
              "      <td>2552</td>\n",
              "      <td>899.00</td>\n",
              "      <td>1.0</td>\n",
              "    </tr>\n",
              "    <tr>\n",
              "      <th>2</th>\n",
              "      <td>05.01.2013</td>\n",
              "      <td>0</td>\n",
              "      <td>25</td>\n",
              "      <td>2552</td>\n",
              "      <td>899.00</td>\n",
              "      <td>-1.0</td>\n",
              "    </tr>\n",
              "    <tr>\n",
              "      <th>3</th>\n",
              "      <td>06.01.2013</td>\n",
              "      <td>0</td>\n",
              "      <td>25</td>\n",
              "      <td>2554</td>\n",
              "      <td>1709.05</td>\n",
              "      <td>1.0</td>\n",
              "    </tr>\n",
              "    <tr>\n",
              "      <th>4</th>\n",
              "      <td>15.01.2013</td>\n",
              "      <td>0</td>\n",
              "      <td>25</td>\n",
              "      <td>2555</td>\n",
              "      <td>1099.00</td>\n",
              "      <td>1.0</td>\n",
              "    </tr>\n",
              "  </tbody>\n",
              "</table>\n",
              "</div>"
            ],
            "text/plain": [
              "         date  date_block_num  shop_id  item_id  item_price  item_cnt_day\n",
              "0  02.01.2013               0       59    22154      999.00           1.0\n",
              "1  03.01.2013               0       25     2552      899.00           1.0\n",
              "2  05.01.2013               0       25     2552      899.00          -1.0\n",
              "3  06.01.2013               0       25     2554     1709.05           1.0\n",
              "4  15.01.2013               0       25     2555     1099.00           1.0"
            ]
          },
          "metadata": {
            "tags": []
          },
          "execution_count": 114
        }
      ]
    },
    {
      "cell_type": "code",
      "metadata": {
        "colab": {
          "base_uri": "https://localhost:8080/",
          "height": 0
        },
        "id": "cAK5oMgPcUAO",
        "outputId": "6b444794-3f8e-472d-caca-fcbf7ef7a745"
      },
      "source": [
        "full_data = pd.merge(train_data, items_table, how='inner', on='item_id')\n",
        "\n",
        "full_data.head()"
      ],
      "execution_count": 115,
      "outputs": [
        {
          "output_type": "execute_result",
          "data": {
            "text/html": [
              "<div>\n",
              "<style scoped>\n",
              "    .dataframe tbody tr th:only-of-type {\n",
              "        vertical-align: middle;\n",
              "    }\n",
              "\n",
              "    .dataframe tbody tr th {\n",
              "        vertical-align: top;\n",
              "    }\n",
              "\n",
              "    .dataframe thead th {\n",
              "        text-align: right;\n",
              "    }\n",
              "</style>\n",
              "<table border=\"1\" class=\"dataframe\">\n",
              "  <thead>\n",
              "    <tr style=\"text-align: right;\">\n",
              "      <th></th>\n",
              "      <th>date</th>\n",
              "      <th>date_block_num</th>\n",
              "      <th>shop_id</th>\n",
              "      <th>item_id</th>\n",
              "      <th>item_price</th>\n",
              "      <th>item_cnt_day</th>\n",
              "      <th>item_name</th>\n",
              "      <th>item_category_id</th>\n",
              "      <th>item_category_name</th>\n",
              "    </tr>\n",
              "  </thead>\n",
              "  <tbody>\n",
              "    <tr>\n",
              "      <th>0</th>\n",
              "      <td>02.01.2013</td>\n",
              "      <td>0</td>\n",
              "      <td>59</td>\n",
              "      <td>22154</td>\n",
              "      <td>999.0</td>\n",
              "      <td>1.0</td>\n",
              "      <td>ЯВЛЕНИЕ 2012 (BD)</td>\n",
              "      <td>37</td>\n",
              "      <td>Кино - Blu-Ray</td>\n",
              "    </tr>\n",
              "    <tr>\n",
              "      <th>1</th>\n",
              "      <td>23.01.2013</td>\n",
              "      <td>0</td>\n",
              "      <td>24</td>\n",
              "      <td>22154</td>\n",
              "      <td>999.0</td>\n",
              "      <td>1.0</td>\n",
              "      <td>ЯВЛЕНИЕ 2012 (BD)</td>\n",
              "      <td>37</td>\n",
              "      <td>Кино - Blu-Ray</td>\n",
              "    </tr>\n",
              "    <tr>\n",
              "      <th>2</th>\n",
              "      <td>20.01.2013</td>\n",
              "      <td>0</td>\n",
              "      <td>27</td>\n",
              "      <td>22154</td>\n",
              "      <td>999.0</td>\n",
              "      <td>1.0</td>\n",
              "      <td>ЯВЛЕНИЕ 2012 (BD)</td>\n",
              "      <td>37</td>\n",
              "      <td>Кино - Blu-Ray</td>\n",
              "    </tr>\n",
              "    <tr>\n",
              "      <th>3</th>\n",
              "      <td>02.01.2013</td>\n",
              "      <td>0</td>\n",
              "      <td>25</td>\n",
              "      <td>22154</td>\n",
              "      <td>999.0</td>\n",
              "      <td>1.0</td>\n",
              "      <td>ЯВЛЕНИЕ 2012 (BD)</td>\n",
              "      <td>37</td>\n",
              "      <td>Кино - Blu-Ray</td>\n",
              "    </tr>\n",
              "    <tr>\n",
              "      <th>4</th>\n",
              "      <td>03.01.2013</td>\n",
              "      <td>0</td>\n",
              "      <td>25</td>\n",
              "      <td>22154</td>\n",
              "      <td>999.0</td>\n",
              "      <td>1.0</td>\n",
              "      <td>ЯВЛЕНИЕ 2012 (BD)</td>\n",
              "      <td>37</td>\n",
              "      <td>Кино - Blu-Ray</td>\n",
              "    </tr>\n",
              "  </tbody>\n",
              "</table>\n",
              "</div>"
            ],
            "text/plain": [
              "         date  date_block_num  ...  item_category_id  item_category_name\n",
              "0  02.01.2013               0  ...                37      Кино - Blu-Ray\n",
              "1  23.01.2013               0  ...                37      Кино - Blu-Ray\n",
              "2  20.01.2013               0  ...                37      Кино - Blu-Ray\n",
              "3  02.01.2013               0  ...                37      Кино - Blu-Ray\n",
              "4  03.01.2013               0  ...                37      Кино - Blu-Ray\n",
              "\n",
              "[5 rows x 9 columns]"
            ]
          },
          "metadata": {
            "tags": []
          },
          "execution_count": 115
        }
      ]
    },
    {
      "cell_type": "code",
      "metadata": {
        "id": "XFPKSnsBigkf"
      },
      "source": [
        "full_data['date'] = pd.to_datetime(full_data['date'])"
      ],
      "execution_count": 116,
      "outputs": []
    },
    {
      "cell_type": "code",
      "metadata": {
        "colab": {
          "base_uri": "https://localhost:8080/"
        },
        "id": "zdbKG87tkNjn",
        "outputId": "6d084b40-e249-409f-85ee-6cccec2d6275"
      },
      "source": [
        "full_data['date_block_num'].unique()"
      ],
      "execution_count": 117,
      "outputs": [
        {
          "output_type": "execute_result",
          "data": {
            "text/plain": [
              "array([ 0,  1,  2,  3,  7,  8,  9, 11, 30, 31, 32, 33,  4,  6, 17, 28,  5,\n",
              "       10, 12, 13, 14, 18, 19, 21, 15, 24, 16, 20, 22, 23, 25, 26, 27, 29])"
            ]
          },
          "metadata": {
            "tags": []
          },
          "execution_count": 117
        }
      ]
    },
    {
      "cell_type": "markdown",
      "metadata": {
        "id": "7ENtAW_bo5is"
      },
      "source": [
        "# Check outliers"
      ]
    },
    {
      "cell_type": "code",
      "metadata": {
        "colab": {
          "base_uri": "https://localhost:8080/",
          "height": 0
        },
        "id": "-xv8sDVfo7-V",
        "outputId": "23cb1ff9-c5a7-4337-a314-5270c5ebfcd1"
      },
      "source": [
        "full_data['item_price'].plot(kind='box', showfliers='False')"
      ],
      "execution_count": 118,
      "outputs": [
        {
          "output_type": "execute_result",
          "data": {
            "text/plain": [
              "<matplotlib.axes._subplots.AxesSubplot at 0x7f7acff5df50>"
            ]
          },
          "metadata": {
            "tags": []
          },
          "execution_count": 118
        },
        {
          "output_type": "display_data",
          "data": {
            "image/png": "[encoded data removed]",
            "text/plain": [
              "<Figure size 432x288 with 1 Axes>"
            ]
          },
          "metadata": {
            "tags": [],
            "needs_background": "light"
          }
        }
      ]
    },
    {
      "cell_type": "code",
      "metadata": {
        "colab": {
          "base_uri": "https://localhost:8080/"
        },
        "id": "kb-qwXZkpCDA",
        "outputId": "d2642a58-7d8e-453d-f1a9-04a5343198cf"
      },
      "source": [
        "full_data['item_price'].sort_values()"
      ],
      "execution_count": 119,
      "outputs": [
        {
          "output_type": "execute_result",
          "data": {
            "text/plain": [
              "56049          -1.0000\n",
              "1117532         0.0700\n",
              "798519          0.0700\n",
              "960084          0.0875\n",
              "1029366         0.0900\n",
              "              ...     \n",
              "2934260     42990.0000\n",
              "2771879     49782.0000\n",
              "2294618     50999.0000\n",
              "1180083     59200.0000\n",
              "2163826    307980.0000\n",
              "Name: item_price, Length: 2935849, dtype: float64"
            ]
          },
          "metadata": {
            "tags": []
          },
          "execution_count": 119
        }
      ]
    },
    {
      "cell_type": "markdown",
      "metadata": {
        "id": "3fKLJMfgsqJ4"
      },
      "source": [
        "There is a negative price, and a huge outlier sale price in 307980.0000. we will definitely remove these. Everything else may be fair game. "
      ]
    },
    {
      "cell_type": "code",
      "metadata": {
        "colab": {
          "base_uri": "https://localhost:8080/",
          "height": 0
        },
        "id": "jlp0p0owFNZe",
        "outputId": "4ca3663a-0d37-4543-d6b9-8723bebab777"
      },
      "source": [
        "full_data = full_data.drop(full_data[full_data['item_price']<0].index)\n",
        "full_data = full_data.drop(full_data[full_data['item_price']>300000].index)\n",
        "\n",
        "full_data['item_price'].plot(kind='box', showfliers='False')"
      ],
      "execution_count": 120,
      "outputs": [
        {
          "output_type": "execute_result",
          "data": {
            "text/plain": [
              "<matplotlib.axes._subplots.AxesSubplot at 0x7f7acff366d0>"
            ]
          },
          "metadata": {
            "tags": []
          },
          "execution_count": 120
        },
        {
          "output_type": "display_data",
          "data": {
            "image/png": "[encoded data removed]",
            "text/plain": [
              "<Figure size 432x288 with 1 Axes>"
            ]
          },
          "metadata": {
            "tags": [],
            "needs_background": "light"
          }
        }
      ]
    },
    {
      "cell_type": "markdown",
      "metadata": {
        "id": "_6b8LSe_GnHW"
      },
      "source": [
        "Nevermind. Maybe not fair game. Still extremely right skewed. This does not look good. We will have to remove further. "
      ]
    },
    {
      "cell_type": "code",
      "metadata": {
        "colab": {
          "base_uri": "https://localhost:8080/"
        },
        "id": "xpKxZWkaG37D",
        "outputId": "f533673a-73da-4e4d-8e78-fbdf54be9cb5"
      },
      "source": [
        "series = full_data['item_price']\n",
        "\n",
        "Q1 = series.quantile(.25)\n",
        "Q3 = series.quantile(.75)\n",
        "IQR = Q3-Q1\n",
        "\n",
        "((series<(Q1-1.5*IQR)) | (series>(Q3+1.5*IQR))).sum()"
      ],
      "execution_count": 121,
      "outputs": [
        {
          "output_type": "execute_result",
          "data": {
            "text/plain": [
              "258941"
            ]
          },
          "metadata": {
            "tags": []
          },
          "execution_count": 121
        }
      ]
    },
    {
      "cell_type": "markdown",
      "metadata": {
        "id": "xIs5qdOd6byW"
      },
      "source": [
        "258941 is a lot. Let's try to reduce those numbers. reference: https://www.kaggle.com/ffsniceboobs/feature-engineering-model-tuning-and-stacking#Step-1.-First-look-at-the-data"
      ]
    },
    {
      "cell_type": "code",
      "metadata": {
        "colab": {
          "base_uri": "https://localhost:8080/"
        },
        "id": "5VdCH1Es7h-Y",
        "outputId": "6c4f4bf5-b271-4623-a3cc-b1e96129d435"
      },
      "source": [
        "low = series.quantile(0.01)\n",
        "high = series.quantile(0.99)\n",
        "\n",
        "full_data[(series < low) | (series > high)].shape"
      ],
      "execution_count": 122,
      "outputs": [
        {
          "output_type": "execute_result",
          "data": {
            "text/plain": [
              "(35031, 9)"
            ]
          },
          "metadata": {
            "tags": []
          },
          "execution_count": 122
        }
      ]
    },
    {
      "cell_type": "code",
      "metadata": {
        "colab": {
          "base_uri": "https://localhost:8080/",
          "height": 0
        },
        "id": "mH62_QHj8QRZ",
        "outputId": "f902afa9-1f81-43bf-f7cf-7b63abec6805"
      },
      "source": [
        "sns.boxplot(full_data['item_price'])"
      ],
      "execution_count": 123,
      "outputs": [
        {
          "output_type": "stream",
          "text": [
            "/usr/local/lib/python3.7/dist-packages/seaborn/_decorators.py:43: FutureWarning: Pass the following variable as a keyword arg: x. From version 0.12, the only valid positional argument will be `data`, and passing other arguments without an explicit keyword will result in an error or misinterpretation.\n",
            "  FutureWarning\n"
          ],
          "name": "stderr"
        },
        {
          "output_type": "execute_result",
          "data": {
            "text/plain": [
              "<matplotlib.axes._subplots.AxesSubplot at 0x7f7acfead290>"
            ]
          },
          "metadata": {
            "tags": []
          },
          "execution_count": 123
        },
        {
          "output_type": "display_data",
          "data": {
            "image/png": "[encoded data removed]",
            "text/plain": [
              "<Figure size 432x288 with 1 Axes>"
            ]
          },
          "metadata": {
            "tags": [],
            "needs_background": "light"
          }
        }
      ]
    },
    {
      "cell_type": "code",
      "metadata": {
        "colab": {
          "base_uri": "https://localhost:8080/"
        },
        "id": "soqeOA1q8xba",
        "outputId": "1ed028f1-99b6-4ece-9b6a-2788de76920a"
      },
      "source": [
        "with pd.option_context(\"display.float_format\", lambda x: \"%.2f\" % x):\n",
        "  print(full_data['item_price'].describe())"
      ],
      "execution_count": 124,
      "outputs": [
        {
          "output_type": "stream",
          "text": [
            "count   2935847.00\n",
            "mean        890.75\n",
            "std        1720.49\n",
            "min           0.07\n",
            "25%         249.00\n",
            "50%         399.00\n",
            "75%         999.00\n",
            "max       59200.00\n",
            "Name: item_price, dtype: float64\n"
          ],
          "name": "stdout"
        }
      ]
    },
    {
      "cell_type": "markdown",
      "metadata": {
        "id": "-gRoozht9K6t"
      },
      "source": [
        "will remove all datapoints 40,000 and up."
      ]
    },
    {
      "cell_type": "code",
      "metadata": {
        "id": "gLdPPfBp8N9a"
      },
      "source": [
        "# full_data = full_data.drop(full_data[full_data['item_price']<0].index)\n",
        "full_data = full_data.drop(full_data[full_data['item_price']>=40000].index)"
      ],
      "execution_count": 125,
      "outputs": []
    },
    {
      "cell_type": "code",
      "metadata": {
        "colab": {
          "base_uri": "https://localhost:8080/"
        },
        "id": "_yUc4iCOs4Cq",
        "outputId": "89691843-a644-4c91-9a68-4ccf8f584568"
      },
      "source": [
        "full_data.dtypes"
      ],
      "execution_count": 126,
      "outputs": [
        {
          "output_type": "execute_result",
          "data": {
            "text/plain": [
              "date                  datetime64[ns]\n",
              "date_block_num                 int64\n",
              "shop_id                        int64\n",
              "item_id                        int64\n",
              "item_price                   float64\n",
              "item_cnt_day                 float64\n",
              "item_name                     object\n",
              "item_category_id               int64\n",
              "item_category_name            object\n",
              "dtype: object"
            ]
          },
          "metadata": {
            "tags": []
          },
          "execution_count": 126
        }
      ]
    },
    {
      "cell_type": "code",
      "metadata": {
        "colab": {
          "base_uri": "https://localhost:8080/",
          "height": 0
        },
        "id": "DUXumo6bufu_",
        "outputId": "7b30286c-5742-4d22-d808-8a91c5a30aab"
      },
      "source": [
        "full_data['item_cnt_day'].plot(kind='box')"
      ],
      "execution_count": 127,
      "outputs": [
        {
          "output_type": "execute_result",
          "data": {
            "text/plain": [
              "<matplotlib.axes._subplots.AxesSubplot at 0x7f7acfe1ec10>"
            ]
          },
          "metadata": {
            "tags": []
          },
          "execution_count": 127
        },
        {
          "output_type": "display_data",
          "data": {
            "image/png": "[encoded data removed]",
            "text/plain": [
              "<Figure size 432x288 with 1 Axes>"
            ]
          },
          "metadata": {
            "tags": [],
            "needs_background": "light"
          }
        }
      ]
    },
    {
      "cell_type": "code",
      "metadata": {
        "colab": {
          "base_uri": "https://localhost:8080/"
        },
        "id": "95yDjF7jum8B",
        "outputId": "b7901a16-139a-46b8-c412-f339ece3f80f"
      },
      "source": [
        "full_data['item_cnt_day'].sort_values()"
      ],
      "execution_count": 128,
      "outputs": [
        {
          "output_type": "execute_result",
          "data": {
            "text/plain": [
              "906649      -22.0\n",
              "1488007     -16.0\n",
              "2454331      -9.0\n",
              "1176639      -6.0\n",
              "1776803      -6.0\n",
              "            ...  \n",
              "2832929     624.0\n",
              "2857896     637.0\n",
              "2858746     669.0\n",
              "1494614    1000.0\n",
              "1181188    2169.0\n",
              "Name: item_cnt_day, Length: 2935834, dtype: float64"
            ]
          },
          "metadata": {
            "tags": []
          },
          "execution_count": 128
        }
      ]
    },
    {
      "cell_type": "markdown",
      "metadata": {
        "id": "kIeNMowGu56Q"
      },
      "source": [
        "So someone made 1000 purchases, and 2169 purchases in one day? interesting. There are negative numbers which are also interesting. "
      ]
    },
    {
      "cell_type": "code",
      "metadata": {
        "id": "YsKbd8I_u5qv",
        "colab": {
          "base_uri": "https://localhost:8080/",
          "height": 0
        },
        "outputId": "6baaf9e5-1a25-42ff-fddb-a87c2e6c531b"
      },
      "source": [
        "full_data[(full_data['item_cnt_day']<0 )]\n"
      ],
      "execution_count": 129,
      "outputs": [
        {
          "output_type": "execute_result",
          "data": {
            "text/html": [
              "<div>\n",
              "<style scoped>\n",
              "    .dataframe tbody tr th:only-of-type {\n",
              "        vertical-align: middle;\n",
              "    }\n",
              "\n",
              "    .dataframe tbody tr th {\n",
              "        vertical-align: top;\n",
              "    }\n",
              "\n",
              "    .dataframe thead th {\n",
              "        text-align: right;\n",
              "    }\n",
              "</style>\n",
              "<table border=\"1\" class=\"dataframe\">\n",
              "  <thead>\n",
              "    <tr style=\"text-align: right;\">\n",
              "      <th></th>\n",
              "      <th>date</th>\n",
              "      <th>date_block_num</th>\n",
              "      <th>shop_id</th>\n",
              "      <th>item_id</th>\n",
              "      <th>item_price</th>\n",
              "      <th>item_cnt_day</th>\n",
              "      <th>item_name</th>\n",
              "      <th>item_category_id</th>\n",
              "      <th>item_category_name</th>\n",
              "    </tr>\n",
              "  </thead>\n",
              "  <tbody>\n",
              "    <tr>\n",
              "      <th>60</th>\n",
              "      <td>2013-05-01</td>\n",
              "      <td>0</td>\n",
              "      <td>25</td>\n",
              "      <td>2552</td>\n",
              "      <td>899.0</td>\n",
              "      <td>-1.0</td>\n",
              "      <td>DEEP PURPLE  The House Of Blue Light  LP</td>\n",
              "      <td>58</td>\n",
              "      <td>Музыка - Винил</td>\n",
              "    </tr>\n",
              "    <tr>\n",
              "      <th>64</th>\n",
              "      <td>2013-05-14</td>\n",
              "      <td>4</td>\n",
              "      <td>6</td>\n",
              "      <td>2552</td>\n",
              "      <td>949.0</td>\n",
              "      <td>-1.0</td>\n",
              "      <td>DEEP PURPLE  The House Of Blue Light  LP</td>\n",
              "      <td>58</td>\n",
              "      <td>Музыка - Винил</td>\n",
              "    </tr>\n",
              "    <tr>\n",
              "      <th>1985</th>\n",
              "      <td>2014-07-07</td>\n",
              "      <td>18</td>\n",
              "      <td>31</td>\n",
              "      <td>2574</td>\n",
              "      <td>399.0</td>\n",
              "      <td>-1.0</td>\n",
              "      <td>DEL REY LANA  Born To Die  The Paradise Editio...</td>\n",
              "      <td>55</td>\n",
              "      <td>Музыка - CD локального производства</td>\n",
              "    </tr>\n",
              "    <tr>\n",
              "      <th>2543</th>\n",
              "      <td>2015-06-26</td>\n",
              "      <td>29</td>\n",
              "      <td>16</td>\n",
              "      <td>2574</td>\n",
              "      <td>449.0</td>\n",
              "      <td>-1.0</td>\n",
              "      <td>DEL REY LANA  Born To Die  The Paradise Editio...</td>\n",
              "      <td>55</td>\n",
              "      <td>Музыка - CD локального производства</td>\n",
              "    </tr>\n",
              "    <tr>\n",
              "      <th>2557</th>\n",
              "      <td>2015-11-07</td>\n",
              "      <td>30</td>\n",
              "      <td>42</td>\n",
              "      <td>2574</td>\n",
              "      <td>449.0</td>\n",
              "      <td>-1.0</td>\n",
              "      <td>DEL REY LANA  Born To Die  The Paradise Editio...</td>\n",
              "      <td>55</td>\n",
              "      <td>Музыка - CD локального производства</td>\n",
              "    </tr>\n",
              "    <tr>\n",
              "      <th>...</th>\n",
              "      <td>...</td>\n",
              "      <td>...</td>\n",
              "      <td>...</td>\n",
              "      <td>...</td>\n",
              "      <td>...</td>\n",
              "      <td>...</td>\n",
              "      <td>...</td>\n",
              "      <td>...</td>\n",
              "      <td>...</td>\n",
              "    </tr>\n",
              "    <tr>\n",
              "      <th>2934862</th>\n",
              "      <td>2015-10-25</td>\n",
              "      <td>33</td>\n",
              "      <td>48</td>\n",
              "      <td>5908</td>\n",
              "      <td>3199.0</td>\n",
              "      <td>-1.0</td>\n",
              "      <td>Pro Evolution Soccer 2016 [Xbox 360, русские с...</td>\n",
              "      <td>23</td>\n",
              "      <td>Игры - XBOX 360</td>\n",
              "    </tr>\n",
              "    <tr>\n",
              "      <th>2935309</th>\n",
              "      <td>2015-10-31</td>\n",
              "      <td>33</td>\n",
              "      <td>47</td>\n",
              "      <td>4056</td>\n",
              "      <td>2999.0</td>\n",
              "      <td>-1.0</td>\n",
              "      <td>Just Dance 2016. Unlimited [Xbox One, русская ...</td>\n",
              "      <td>24</td>\n",
              "      <td>Игры - XBOX ONE</td>\n",
              "    </tr>\n",
              "    <tr>\n",
              "      <th>2935585</th>\n",
              "      <td>2015-10-14</td>\n",
              "      <td>33</td>\n",
              "      <td>9</td>\n",
              "      <td>18103</td>\n",
              "      <td>3799.0</td>\n",
              "      <td>-1.0</td>\n",
              "      <td>Рюкзак Batman With Logo с капюшоном</td>\n",
              "      <td>61</td>\n",
              "      <td>Подарки - Атрибутика</td>\n",
              "    </tr>\n",
              "    <tr>\n",
              "      <th>2935731</th>\n",
              "      <td>2015-04-10</td>\n",
              "      <td>33</td>\n",
              "      <td>9</td>\n",
              "      <td>21036</td>\n",
              "      <td>1899.0</td>\n",
              "      <td>-1.0</td>\n",
              "      <td>Футболка Bloodborne Bossfight White L</td>\n",
              "      <td>61</td>\n",
              "      <td>Подарки - Атрибутика</td>\n",
              "    </tr>\n",
              "    <tr>\n",
              "      <th>2935837</th>\n",
              "      <td>2015-05-10</td>\n",
              "      <td>33</td>\n",
              "      <td>25</td>\n",
              "      <td>13476</td>\n",
              "      <td>7998.0</td>\n",
              "      <td>-1.0</td>\n",
              "      <td>Комплект «Sony PS3 (320 Gb) (CECH-2508B)» + иг...</td>\n",
              "      <td>11</td>\n",
              "      <td>Игровые консоли - PS3</td>\n",
              "    </tr>\n",
              "  </tbody>\n",
              "</table>\n",
              "<p>7356 rows × 9 columns</p>\n",
              "</div>"
            ],
            "text/plain": [
              "              date  ...                   item_category_name\n",
              "60      2013-05-01  ...                       Музыка - Винил\n",
              "64      2013-05-14  ...                       Музыка - Винил\n",
              "1985    2014-07-07  ...  Музыка - CD локального производства\n",
              "2543    2015-06-26  ...  Музыка - CD локального производства\n",
              "2557    2015-11-07  ...  Музыка - CD локального производства\n",
              "...            ...  ...                                  ...\n",
              "2934862 2015-10-25  ...                      Игры - XBOX 360\n",
              "2935309 2015-10-31  ...                      Игры - XBOX ONE\n",
              "2935585 2015-10-14  ...                 Подарки - Атрибутика\n",
              "2935731 2015-04-10  ...                 Подарки - Атрибутика\n",
              "2935837 2015-05-10  ...                Игровые консоли - PS3\n",
              "\n",
              "[7356 rows x 9 columns]"
            ]
          },
          "metadata": {
            "tags": []
          },
          "execution_count": 129
        }
      ]
    },
    {
      "cell_type": "markdown",
      "metadata": {
        "id": "lLf19HK90vtZ"
      },
      "source": [
        "7356 rows have negative values of item count. They are also across many different items and stores. It seems to be rather random. "
      ]
    },
    {
      "cell_type": "code",
      "metadata": {
        "id": "p6SAMZWjCYBB"
      },
      "source": [
        "full_data = full_data.drop(full_data[full_data['item_cnt_day']<0].index)"
      ],
      "execution_count": 130,
      "outputs": []
    },
    {
      "cell_type": "code",
      "metadata": {
        "colab": {
          "base_uri": "https://localhost:8080/"
        },
        "id": "zXsUaYHL9tWY",
        "outputId": "685bca10-7bbe-434b-e24c-061baea0c31f"
      },
      "source": [
        "with pd.option_context(\"display.float_format\", lambda x: \"%.2f\" % x):\n",
        "  print(full_data['item_cnt_day'].describe())"
      ],
      "execution_count": 131,
      "outputs": [
        {
          "output_type": "stream",
          "text": [
            "count   2928478.00\n",
            "mean          1.25\n",
            "std           2.62\n",
            "min           1.00\n",
            "25%           1.00\n",
            "50%           1.00\n",
            "75%           1.00\n",
            "max        2169.00\n",
            "Name: item_cnt_day, dtype: float64\n"
          ],
          "name": "stdout"
        }
      ]
    },
    {
      "cell_type": "markdown",
      "metadata": {
        "id": "zo5lAU1F93Wk"
      },
      "source": [
        "min 1.0, mean 1.25, 25% 1.00, 75% 1.00. But the max is 2169. We should definitely look to remove the upper outliers as well. "
      ]
    },
    {
      "cell_type": "code",
      "metadata": {
        "colab": {
          "base_uri": "https://localhost:8080/",
          "height": 0
        },
        "id": "IAUK8I57-FPV",
        "outputId": "0f2405a9-7fc3-4be4-a5ed-585a61da2c38"
      },
      "source": [
        "sns.boxplot(full_data['item_cnt_day'])"
      ],
      "execution_count": 132,
      "outputs": [
        {
          "output_type": "stream",
          "text": [
            "/usr/local/lib/python3.7/dist-packages/seaborn/_decorators.py:43: FutureWarning: Pass the following variable as a keyword arg: x. From version 0.12, the only valid positional argument will be `data`, and passing other arguments without an explicit keyword will result in an error or misinterpretation.\n",
            "  FutureWarning\n"
          ],
          "name": "stderr"
        },
        {
          "output_type": "execute_result",
          "data": {
            "text/plain": [
              "<matplotlib.axes._subplots.AxesSubplot at 0x7f7acfe07dd0>"
            ]
          },
          "metadata": {
            "tags": []
          },
          "execution_count": 132
        },
        {
          "output_type": "display_data",
          "data": {
            "image/png": "[encoded data removed]",
            "text/plain": [
              "<Figure size 432x288 with 1 Axes>"
            ]
          },
          "metadata": {
            "tags": [],
            "needs_background": "light"
          }
        }
      ]
    },
    {
      "cell_type": "code",
      "metadata": {
        "id": "fzt6Q1CU-PVN"
      },
      "source": [
        "#full_data = full_data.drop(full_data[full_data['item_cnt_day']>=1000].index)\n",
        "full_data = full_data.drop(full_data[full_data['item_cnt_day']>=600].index)"
      ],
      "execution_count": 133,
      "outputs": []
    },
    {
      "cell_type": "code",
      "metadata": {
        "colab": {
          "base_uri": "https://localhost:8080/"
        },
        "id": "9D3yy6_x-dx6",
        "outputId": "876c622b-7327-49c5-e7c4-c37ca6bbca0c"
      },
      "source": [
        "full_data.shape"
      ],
      "execution_count": 134,
      "outputs": [
        {
          "output_type": "execute_result",
          "data": {
            "text/plain": [
              "(2928473, 9)"
            ]
          },
          "metadata": {
            "tags": []
          },
          "execution_count": 134
        }
      ]
    },
    {
      "cell_type": "markdown",
      "metadata": {
        "id": "v0oGcSrm-_4X"
      },
      "source": [
        "# Feature engineering\n"
      ]
    },
    {
      "cell_type": "markdown",
      "metadata": {
        "id": "eKGRGFzRLZuc"
      },
      "source": [
        "Let's make a sales column, very simple using item price and item_cnt_day and multiplying the two values together."
      ]
    },
    {
      "cell_type": "code",
      "metadata": {
        "colab": {
          "base_uri": "https://localhost:8080/",
          "height": 0
        },
        "id": "3LihZTN5BEyq",
        "outputId": "f979edaf-77fb-43b3-e6cd-bab83a8f7fda"
      },
      "source": [
        "full_data['sales'] = full_data['item_price'] * full_data['item_cnt_day']\n",
        "full_data.head(10)"
      ],
      "execution_count": 135,
      "outputs": [
        {
          "output_type": "execute_result",
          "data": {
            "text/html": [
              "<div>\n",
              "<style scoped>\n",
              "    .dataframe tbody tr th:only-of-type {\n",
              "        vertical-align: middle;\n",
              "    }\n",
              "\n",
              "    .dataframe tbody tr th {\n",
              "        vertical-align: top;\n",
              "    }\n",
              "\n",
              "    .dataframe thead th {\n",
              "        text-align: right;\n",
              "    }\n",
              "</style>\n",
              "<table border=\"1\" class=\"dataframe\">\n",
              "  <thead>\n",
              "    <tr style=\"text-align: right;\">\n",
              "      <th></th>\n",
              "      <th>date</th>\n",
              "      <th>date_block_num</th>\n",
              "      <th>shop_id</th>\n",
              "      <th>item_id</th>\n",
              "      <th>item_price</th>\n",
              "      <th>item_cnt_day</th>\n",
              "      <th>item_name</th>\n",
              "      <th>item_category_id</th>\n",
              "      <th>item_category_name</th>\n",
              "      <th>sales</th>\n",
              "    </tr>\n",
              "  </thead>\n",
              "  <tbody>\n",
              "    <tr>\n",
              "      <th>0</th>\n",
              "      <td>2013-02-01</td>\n",
              "      <td>0</td>\n",
              "      <td>59</td>\n",
              "      <td>22154</td>\n",
              "      <td>999.0</td>\n",
              "      <td>1.0</td>\n",
              "      <td>ЯВЛЕНИЕ 2012 (BD)</td>\n",
              "      <td>37</td>\n",
              "      <td>Кино - Blu-Ray</td>\n",
              "      <td>999.0</td>\n",
              "    </tr>\n",
              "    <tr>\n",
              "      <th>1</th>\n",
              "      <td>2013-01-23</td>\n",
              "      <td>0</td>\n",
              "      <td>24</td>\n",
              "      <td>22154</td>\n",
              "      <td>999.0</td>\n",
              "      <td>1.0</td>\n",
              "      <td>ЯВЛЕНИЕ 2012 (BD)</td>\n",
              "      <td>37</td>\n",
              "      <td>Кино - Blu-Ray</td>\n",
              "      <td>999.0</td>\n",
              "    </tr>\n",
              "    <tr>\n",
              "      <th>2</th>\n",
              "      <td>2013-01-20</td>\n",
              "      <td>0</td>\n",
              "      <td>27</td>\n",
              "      <td>22154</td>\n",
              "      <td>999.0</td>\n",
              "      <td>1.0</td>\n",
              "      <td>ЯВЛЕНИЕ 2012 (BD)</td>\n",
              "      <td>37</td>\n",
              "      <td>Кино - Blu-Ray</td>\n",
              "      <td>999.0</td>\n",
              "    </tr>\n",
              "    <tr>\n",
              "      <th>3</th>\n",
              "      <td>2013-02-01</td>\n",
              "      <td>0</td>\n",
              "      <td>25</td>\n",
              "      <td>22154</td>\n",
              "      <td>999.0</td>\n",
              "      <td>1.0</td>\n",
              "      <td>ЯВЛЕНИЕ 2012 (BD)</td>\n",
              "      <td>37</td>\n",
              "      <td>Кино - Blu-Ray</td>\n",
              "      <td>999.0</td>\n",
              "    </tr>\n",
              "    <tr>\n",
              "      <th>4</th>\n",
              "      <td>2013-03-01</td>\n",
              "      <td>0</td>\n",
              "      <td>25</td>\n",
              "      <td>22154</td>\n",
              "      <td>999.0</td>\n",
              "      <td>1.0</td>\n",
              "      <td>ЯВЛЕНИЕ 2012 (BD)</td>\n",
              "      <td>37</td>\n",
              "      <td>Кино - Blu-Ray</td>\n",
              "      <td>999.0</td>\n",
              "    </tr>\n",
              "    <tr>\n",
              "      <th>5</th>\n",
              "      <td>2013-01-20</td>\n",
              "      <td>0</td>\n",
              "      <td>25</td>\n",
              "      <td>22154</td>\n",
              "      <td>999.0</td>\n",
              "      <td>1.0</td>\n",
              "      <td>ЯВЛЕНИЕ 2012 (BD)</td>\n",
              "      <td>37</td>\n",
              "      <td>Кино - Blu-Ray</td>\n",
              "      <td>999.0</td>\n",
              "    </tr>\n",
              "    <tr>\n",
              "      <th>6</th>\n",
              "      <td>2013-01-23</td>\n",
              "      <td>0</td>\n",
              "      <td>25</td>\n",
              "      <td>22154</td>\n",
              "      <td>999.0</td>\n",
              "      <td>1.0</td>\n",
              "      <td>ЯВЛЕНИЕ 2012 (BD)</td>\n",
              "      <td>37</td>\n",
              "      <td>Кино - Blu-Ray</td>\n",
              "      <td>999.0</td>\n",
              "    </tr>\n",
              "    <tr>\n",
              "      <th>7</th>\n",
              "      <td>2013-01-26</td>\n",
              "      <td>0</td>\n",
              "      <td>25</td>\n",
              "      <td>22154</td>\n",
              "      <td>999.0</td>\n",
              "      <td>1.0</td>\n",
              "      <td>ЯВЛЕНИЕ 2012 (BD)</td>\n",
              "      <td>37</td>\n",
              "      <td>Кино - Blu-Ray</td>\n",
              "      <td>999.0</td>\n",
              "    </tr>\n",
              "    <tr>\n",
              "      <th>8</th>\n",
              "      <td>2013-01-27</td>\n",
              "      <td>0</td>\n",
              "      <td>6</td>\n",
              "      <td>22154</td>\n",
              "      <td>999.0</td>\n",
              "      <td>1.0</td>\n",
              "      <td>ЯВЛЕНИЕ 2012 (BD)</td>\n",
              "      <td>37</td>\n",
              "      <td>Кино - Blu-Ray</td>\n",
              "      <td>999.0</td>\n",
              "    </tr>\n",
              "    <tr>\n",
              "      <th>9</th>\n",
              "      <td>2013-10-01</td>\n",
              "      <td>0</td>\n",
              "      <td>15</td>\n",
              "      <td>22154</td>\n",
              "      <td>999.0</td>\n",
              "      <td>1.0</td>\n",
              "      <td>ЯВЛЕНИЕ 2012 (BD)</td>\n",
              "      <td>37</td>\n",
              "      <td>Кино - Blu-Ray</td>\n",
              "      <td>999.0</td>\n",
              "    </tr>\n",
              "  </tbody>\n",
              "</table>\n",
              "</div>"
            ],
            "text/plain": [
              "        date  date_block_num  ...  item_category_name  sales\n",
              "0 2013-02-01               0  ...      Кино - Blu-Ray  999.0\n",
              "1 2013-01-23               0  ...      Кино - Blu-Ray  999.0\n",
              "2 2013-01-20               0  ...      Кино - Blu-Ray  999.0\n",
              "3 2013-02-01               0  ...      Кино - Blu-Ray  999.0\n",
              "4 2013-03-01               0  ...      Кино - Blu-Ray  999.0\n",
              "5 2013-01-20               0  ...      Кино - Blu-Ray  999.0\n",
              "6 2013-01-23               0  ...      Кино - Blu-Ray  999.0\n",
              "7 2013-01-26               0  ...      Кино - Blu-Ray  999.0\n",
              "8 2013-01-27               0  ...      Кино - Blu-Ray  999.0\n",
              "9 2013-10-01               0  ...      Кино - Blu-Ray  999.0\n",
              "\n",
              "[10 rows x 10 columns]"
            ]
          },
          "metadata": {
            "tags": []
          },
          "execution_count": 135
        }
      ]
    },
    {
      "cell_type": "code",
      "metadata": {
        "colab": {
          "base_uri": "https://localhost:8080/",
          "height": 0
        },
        "id": "hlVXZlajBkLt",
        "outputId": "2144a129-05ed-4aca-c845-6b3d87113fe4"
      },
      "source": [
        "grouped = full_data.groupby(['date_block_num', 'shop_id', 'item_id']).agg({'item_cnt_day':['sum']})\n",
        "grouped.columns = ['item_cnt_month']\n",
        "grouped.reset_index(inplace=True)\n",
        "grouped.head()"
      ],
      "execution_count": 136,
      "outputs": [
        {
          "output_type": "execute_result",
          "data": {
            "text/html": [
              "<div>\n",
              "<style scoped>\n",
              "    .dataframe tbody tr th:only-of-type {\n",
              "        vertical-align: middle;\n",
              "    }\n",
              "\n",
              "    .dataframe tbody tr th {\n",
              "        vertical-align: top;\n",
              "    }\n",
              "\n",
              "    .dataframe thead th {\n",
              "        text-align: right;\n",
              "    }\n",
              "</style>\n",
              "<table border=\"1\" class=\"dataframe\">\n",
              "  <thead>\n",
              "    <tr style=\"text-align: right;\">\n",
              "      <th></th>\n",
              "      <th>date_block_num</th>\n",
              "      <th>shop_id</th>\n",
              "      <th>item_id</th>\n",
              "      <th>item_cnt_month</th>\n",
              "    </tr>\n",
              "  </thead>\n",
              "  <tbody>\n",
              "    <tr>\n",
              "      <th>0</th>\n",
              "      <td>0</td>\n",
              "      <td>0</td>\n",
              "      <td>32</td>\n",
              "      <td>6.0</td>\n",
              "    </tr>\n",
              "    <tr>\n",
              "      <th>1</th>\n",
              "      <td>0</td>\n",
              "      <td>0</td>\n",
              "      <td>33</td>\n",
              "      <td>3.0</td>\n",
              "    </tr>\n",
              "    <tr>\n",
              "      <th>2</th>\n",
              "      <td>0</td>\n",
              "      <td>0</td>\n",
              "      <td>35</td>\n",
              "      <td>1.0</td>\n",
              "    </tr>\n",
              "    <tr>\n",
              "      <th>3</th>\n",
              "      <td>0</td>\n",
              "      <td>0</td>\n",
              "      <td>43</td>\n",
              "      <td>1.0</td>\n",
              "    </tr>\n",
              "    <tr>\n",
              "      <th>4</th>\n",
              "      <td>0</td>\n",
              "      <td>0</td>\n",
              "      <td>51</td>\n",
              "      <td>2.0</td>\n",
              "    </tr>\n",
              "  </tbody>\n",
              "</table>\n",
              "</div>"
            ],
            "text/plain": [
              "   date_block_num  shop_id  item_id  item_cnt_month\n",
              "0               0        0       32             6.0\n",
              "1               0        0       33             3.0\n",
              "2               0        0       35             1.0\n",
              "3               0        0       43             1.0\n",
              "4               0        0       51             2.0"
            ]
          },
          "metadata": {
            "tags": []
          },
          "execution_count": 136
        }
      ]
    },
    {
      "cell_type": "markdown",
      "metadata": {
        "id": "21cf_mWYN-tB"
      },
      "source": [
        "references:\n",
        "https://jamesrledoux.com/code/group-by-aggregate-pandas\n",
        "\n",
        "\n",
        "\n",
        "https://www.kaggle.com/jerifate/future-sales-time-series-visualization"
      ]
    },
    {
      "cell_type": "code",
      "metadata": {
        "id": "7OBUjDN0R7oQ"
      },
      "source": [
        "agg_dataset = pd.merge(full_data, grouped, how='left', on=['date_block_num', 'shop_id', 'item_id'])\n",
        "agg_dataset['item_cnt_month'] = (agg_dataset['item_cnt_month'].fillna(0).astype(np.float16))"
      ],
      "execution_count": 137,
      "outputs": []
    },
    {
      "cell_type": "markdown",
      "metadata": {
        "id": "Xx8KC_82UA_r"
      },
      "source": [
        "quick check on what happened."
      ]
    },
    {
      "cell_type": "code",
      "metadata": {
        "id": "4vqGW1QcThLx",
        "colab": {
          "base_uri": "https://localhost:8080/",
          "height": 0
        },
        "outputId": "4f9256ff-4622-478c-d650-d2a6b9c6c749"
      },
      "source": [
        "agg_dataset[(\n",
        "    agg_dataset['shop_id'] == 31) & (agg_dataset['item_id'] == 4906) & (agg_dataset['date_block_num'] == 0)].head()\n"
      ],
      "execution_count": 138,
      "outputs": [
        {
          "output_type": "execute_result",
          "data": {
            "text/html": [
              "<div>\n",
              "<style scoped>\n",
              "    .dataframe tbody tr th:only-of-type {\n",
              "        vertical-align: middle;\n",
              "    }\n",
              "\n",
              "    .dataframe tbody tr th {\n",
              "        vertical-align: top;\n",
              "    }\n",
              "\n",
              "    .dataframe thead th {\n",
              "        text-align: right;\n",
              "    }\n",
              "</style>\n",
              "<table border=\"1\" class=\"dataframe\">\n",
              "  <thead>\n",
              "    <tr style=\"text-align: right;\">\n",
              "      <th></th>\n",
              "      <th>date</th>\n",
              "      <th>date_block_num</th>\n",
              "      <th>shop_id</th>\n",
              "      <th>item_id</th>\n",
              "      <th>item_price</th>\n",
              "      <th>item_cnt_day</th>\n",
              "      <th>item_name</th>\n",
              "      <th>item_category_id</th>\n",
              "      <th>item_category_name</th>\n",
              "      <th>sales</th>\n",
              "      <th>item_cnt_month</th>\n",
              "    </tr>\n",
              "  </thead>\n",
              "  <tbody>\n",
              "    <tr>\n",
              "      <th>185790</th>\n",
              "      <td>2013-03-01</td>\n",
              "      <td>0</td>\n",
              "      <td>31</td>\n",
              "      <td>4906</td>\n",
              "      <td>1794.0</td>\n",
              "      <td>2.0</td>\n",
              "      <td>Mortal Kombat. Komplete Edition [PS3, русская ...</td>\n",
              "      <td>19</td>\n",
              "      <td>Игры - PS3</td>\n",
              "      <td>3588.0</td>\n",
              "      <td>11.0</td>\n",
              "    </tr>\n",
              "    <tr>\n",
              "      <th>185791</th>\n",
              "      <td>2013-02-01</td>\n",
              "      <td>0</td>\n",
              "      <td>31</td>\n",
              "      <td>4906</td>\n",
              "      <td>1789.0</td>\n",
              "      <td>1.0</td>\n",
              "      <td>Mortal Kombat. Komplete Edition [PS3, русская ...</td>\n",
              "      <td>19</td>\n",
              "      <td>Игры - PS3</td>\n",
              "      <td>1789.0</td>\n",
              "      <td>11.0</td>\n",
              "    </tr>\n",
              "    <tr>\n",
              "      <th>185792</th>\n",
              "      <td>2013-12-01</td>\n",
              "      <td>0</td>\n",
              "      <td>31</td>\n",
              "      <td>4906</td>\n",
              "      <td>1799.0</td>\n",
              "      <td>1.0</td>\n",
              "      <td>Mortal Kombat. Komplete Edition [PS3, русская ...</td>\n",
              "      <td>19</td>\n",
              "      <td>Игры - PS3</td>\n",
              "      <td>1799.0</td>\n",
              "      <td>11.0</td>\n",
              "    </tr>\n",
              "    <tr>\n",
              "      <th>185793</th>\n",
              "      <td>2013-01-14</td>\n",
              "      <td>0</td>\n",
              "      <td>31</td>\n",
              "      <td>4906</td>\n",
              "      <td>1799.0</td>\n",
              "      <td>1.0</td>\n",
              "      <td>Mortal Kombat. Komplete Edition [PS3, русская ...</td>\n",
              "      <td>19</td>\n",
              "      <td>Игры - PS3</td>\n",
              "      <td>1799.0</td>\n",
              "      <td>11.0</td>\n",
              "    </tr>\n",
              "    <tr>\n",
              "      <th>185794</th>\n",
              "      <td>2013-01-19</td>\n",
              "      <td>0</td>\n",
              "      <td>31</td>\n",
              "      <td>4906</td>\n",
              "      <td>1799.0</td>\n",
              "      <td>1.0</td>\n",
              "      <td>Mortal Kombat. Komplete Edition [PS3, русская ...</td>\n",
              "      <td>19</td>\n",
              "      <td>Игры - PS3</td>\n",
              "      <td>1799.0</td>\n",
              "      <td>11.0</td>\n",
              "    </tr>\n",
              "  </tbody>\n",
              "</table>\n",
              "</div>"
            ],
            "text/plain": [
              "             date  date_block_num  ...   sales  item_cnt_month\n",
              "185790 2013-03-01               0  ...  3588.0            11.0\n",
              "185791 2013-02-01               0  ...  1789.0            11.0\n",
              "185792 2013-12-01               0  ...  1799.0            11.0\n",
              "185793 2013-01-14               0  ...  1799.0            11.0\n",
              "185794 2013-01-19               0  ...  1799.0            11.0\n",
              "\n",
              "[5 rows x 11 columns]"
            ]
          },
          "metadata": {
            "tags": []
          },
          "execution_count": 138
        }
      ]
    },
    {
      "cell_type": "markdown",
      "metadata": {
        "id": "rclSiYx0X_vk"
      },
      "source": [
        "we can also drop duplicates of rows based on the same columns, specifying shop id, item id, date block num, and item cnt month. \n",
        "\n",
        "This would eliminate the entries that are from the same shop, same item, with the same amount of item_count a month from the same date block. These are items that are redundant as the item count a month will be the same."
      ]
    },
    {
      "cell_type": "code",
      "metadata": {
        "colab": {
          "base_uri": "https://localhost:8080/"
        },
        "id": "3bjqNs0gUtzJ",
        "outputId": "7787f22c-709c-497f-e734-eda1249d4e39"
      },
      "source": [
        "print(agg_dataset.shape)\n",
        "agg_dataset = agg_dataset.drop_duplicates(['date_block_num','shop_id','item_id','item_cnt_month'])\n",
        "print(agg_dataset.shape)"
      ],
      "execution_count": 139,
      "outputs": [
        {
          "output_type": "stream",
          "text": [
            "(2928473, 11)\n",
            "(1608214, 11)\n"
          ],
          "name": "stdout"
        }
      ]
    },
    {
      "cell_type": "code",
      "metadata": {
        "colab": {
          "base_uri": "https://localhost:8080/",
          "height": 0
        },
        "id": "-_Alv_TOyuX5",
        "outputId": "4196fd4d-dafc-46f2-eadb-d4d0c0c3cc69"
      },
      "source": [
        "sns.kdeplot(agg_dataset['item_price'])"
      ],
      "execution_count": 140,
      "outputs": [
        {
          "output_type": "execute_result",
          "data": {
            "text/plain": [
              "<matplotlib.axes._subplots.AxesSubplot at 0x7f7acfd1b9d0>"
            ]
          },
          "metadata": {
            "tags": []
          },
          "execution_count": 140
        },
        {
          "output_type": "display_data",
          "data": {
            "image/png": "[encoded data removed]",
            "text/plain": [
              "<Figure size 432x288 with 1 Axes>"
            ]
          },
          "metadata": {
            "tags": [],
            "needs_background": "light"
          }
        }
      ]
    },
    {
      "cell_type": "markdown",
      "metadata": {
        "id": "5Ei-D681ytr8"
      },
      "source": [
        "We already know in advance that the distribution is abnormal because of the heavy amount of upper outliers.A lognormal distribution tends to look quite similar. It may work in fixing our distribution. ![log normal dist.webp](data:image/webp;base64,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)"
      ]
    },
    {
      "cell_type": "code",
      "metadata": {
        "id": "CexzsJ-EY6KI",
        "colab": {
          "base_uri": "https://localhost:8080/",
          "height": 0
        },
        "outputId": "bea9d3bb-1531-4fb0-bc31-52bb4fbacb52"
      },
      "source": [
        "agg_dataset['log_prices'] = np.log1p(agg_dataset['item_price'])\n",
        "agg_dataset.head()"
      ],
      "execution_count": 141,
      "outputs": [
        {
          "output_type": "execute_result",
          "data": {
            "text/html": [
              "<div>\n",
              "<style scoped>\n",
              "    .dataframe tbody tr th:only-of-type {\n",
              "        vertical-align: middle;\n",
              "    }\n",
              "\n",
              "    .dataframe tbody tr th {\n",
              "        vertical-align: top;\n",
              "    }\n",
              "\n",
              "    .dataframe thead th {\n",
              "        text-align: right;\n",
              "    }\n",
              "</style>\n",
              "<table border=\"1\" class=\"dataframe\">\n",
              "  <thead>\n",
              "    <tr style=\"text-align: right;\">\n",
              "      <th></th>\n",
              "      <th>date</th>\n",
              "      <th>date_block_num</th>\n",
              "      <th>shop_id</th>\n",
              "      <th>item_id</th>\n",
              "      <th>item_price</th>\n",
              "      <th>item_cnt_day</th>\n",
              "      <th>item_name</th>\n",
              "      <th>item_category_id</th>\n",
              "      <th>item_category_name</th>\n",
              "      <th>sales</th>\n",
              "      <th>item_cnt_month</th>\n",
              "      <th>log_prices</th>\n",
              "    </tr>\n",
              "  </thead>\n",
              "  <tbody>\n",
              "    <tr>\n",
              "      <th>0</th>\n",
              "      <td>2013-02-01</td>\n",
              "      <td>0</td>\n",
              "      <td>59</td>\n",
              "      <td>22154</td>\n",
              "      <td>999.0</td>\n",
              "      <td>1.0</td>\n",
              "      <td>ЯВЛЕНИЕ 2012 (BD)</td>\n",
              "      <td>37</td>\n",
              "      <td>Кино - Blu-Ray</td>\n",
              "      <td>999.0</td>\n",
              "      <td>1.0</td>\n",
              "      <td>6.907755</td>\n",
              "    </tr>\n",
              "    <tr>\n",
              "      <th>1</th>\n",
              "      <td>2013-01-23</td>\n",
              "      <td>0</td>\n",
              "      <td>24</td>\n",
              "      <td>22154</td>\n",
              "      <td>999.0</td>\n",
              "      <td>1.0</td>\n",
              "      <td>ЯВЛЕНИЕ 2012 (BD)</td>\n",
              "      <td>37</td>\n",
              "      <td>Кино - Blu-Ray</td>\n",
              "      <td>999.0</td>\n",
              "      <td>1.0</td>\n",
              "      <td>6.907755</td>\n",
              "    </tr>\n",
              "    <tr>\n",
              "      <th>2</th>\n",
              "      <td>2013-01-20</td>\n",
              "      <td>0</td>\n",
              "      <td>27</td>\n",
              "      <td>22154</td>\n",
              "      <td>999.0</td>\n",
              "      <td>1.0</td>\n",
              "      <td>ЯВЛЕНИЕ 2012 (BD)</td>\n",
              "      <td>37</td>\n",
              "      <td>Кино - Blu-Ray</td>\n",
              "      <td>999.0</td>\n",
              "      <td>1.0</td>\n",
              "      <td>6.907755</td>\n",
              "    </tr>\n",
              "    <tr>\n",
              "      <th>3</th>\n",
              "      <td>2013-02-01</td>\n",
              "      <td>0</td>\n",
              "      <td>25</td>\n",
              "      <td>22154</td>\n",
              "      <td>999.0</td>\n",
              "      <td>1.0</td>\n",
              "      <td>ЯВЛЕНИЕ 2012 (BD)</td>\n",
              "      <td>37</td>\n",
              "      <td>Кино - Blu-Ray</td>\n",
              "      <td>999.0</td>\n",
              "      <td>5.0</td>\n",
              "      <td>6.907755</td>\n",
              "    </tr>\n",
              "    <tr>\n",
              "      <th>8</th>\n",
              "      <td>2013-01-27</td>\n",
              "      <td>0</td>\n",
              "      <td>6</td>\n",
              "      <td>22154</td>\n",
              "      <td>999.0</td>\n",
              "      <td>1.0</td>\n",
              "      <td>ЯВЛЕНИЕ 2012 (BD)</td>\n",
              "      <td>37</td>\n",
              "      <td>Кино - Blu-Ray</td>\n",
              "      <td>999.0</td>\n",
              "      <td>1.0</td>\n",
              "      <td>6.907755</td>\n",
              "    </tr>\n",
              "  </tbody>\n",
              "</table>\n",
              "</div>"
            ],
            "text/plain": [
              "        date  date_block_num  shop_id  ...  sales  item_cnt_month  log_prices\n",
              "0 2013-02-01               0       59  ...  999.0             1.0    6.907755\n",
              "1 2013-01-23               0       24  ...  999.0             1.0    6.907755\n",
              "2 2013-01-20               0       27  ...  999.0             1.0    6.907755\n",
              "3 2013-02-01               0       25  ...  999.0             5.0    6.907755\n",
              "8 2013-01-27               0        6  ...  999.0             1.0    6.907755\n",
              "\n",
              "[5 rows x 12 columns]"
            ]
          },
          "metadata": {
            "tags": []
          },
          "execution_count": 141
        }
      ]
    },
    {
      "cell_type": "code",
      "metadata": {
        "colab": {
          "base_uri": "https://localhost:8080/",
          "height": 0
        },
        "id": "fagiCMecyjwD",
        "outputId": "e764c125-940d-45c1-de12-4594492515d8"
      },
      "source": [
        "sns.boxplot(agg_dataset['log_prices'])"
      ],
      "execution_count": 142,
      "outputs": [
        {
          "output_type": "stream",
          "text": [
            "/usr/local/lib/python3.7/dist-packages/seaborn/_decorators.py:43: FutureWarning: Pass the following variable as a keyword arg: x. From version 0.12, the only valid positional argument will be `data`, and passing other arguments without an explicit keyword will result in an error or misinterpretation.\n",
            "  FutureWarning\n"
          ],
          "name": "stderr"
        },
        {
          "output_type": "execute_result",
          "data": {
            "text/plain": [
              "<matplotlib.axes._subplots.AxesSubplot at 0x7f7acfcc9090>"
            ]
          },
          "metadata": {
            "tags": []
          },
          "execution_count": 142
        },
        {
          "output_type": "display_data",
          "data": {
            "image/png": "[encoded data removed]",
            "text/plain": [
              "<Figure size 432x288 with 1 Axes>"
            ]
          },
          "metadata": {
            "tags": [],
            "needs_background": "light"
          }
        }
      ]
    },
    {
      "cell_type": "markdown",
      "metadata": {
        "id": "Zut-Ca2D0Xx1"
      },
      "source": [
        "Dropping useless columns from our data."
      ]
    },
    {
      "cell_type": "code",
      "metadata": {
        "colab": {
          "base_uri": "https://localhost:8080/",
          "height": 0
        },
        "id": "xqajJpNdGmpQ",
        "outputId": "57ed50f5-c1ed-4e36-8748-99f7a4193552"
      },
      "source": [
        "agg_dataset.head()"
      ],
      "execution_count": 143,
      "outputs": [
        {
          "output_type": "execute_result",
          "data": {
            "text/html": [
              "<div>\n",
              "<style scoped>\n",
              "    .dataframe tbody tr th:only-of-type {\n",
              "        vertical-align: middle;\n",
              "    }\n",
              "\n",
              "    .dataframe tbody tr th {\n",
              "        vertical-align: top;\n",
              "    }\n",
              "\n",
              "    .dataframe thead th {\n",
              "        text-align: right;\n",
              "    }\n",
              "</style>\n",
              "<table border=\"1\" class=\"dataframe\">\n",
              "  <thead>\n",
              "    <tr style=\"text-align: right;\">\n",
              "      <th></th>\n",
              "      <th>date</th>\n",
              "      <th>date_block_num</th>\n",
              "      <th>shop_id</th>\n",
              "      <th>item_id</th>\n",
              "      <th>item_price</th>\n",
              "      <th>item_cnt_day</th>\n",
              "      <th>item_name</th>\n",
              "      <th>item_category_id</th>\n",
              "      <th>item_category_name</th>\n",
              "      <th>sales</th>\n",
              "      <th>item_cnt_month</th>\n",
              "      <th>log_prices</th>\n",
              "    </tr>\n",
              "  </thead>\n",
              "  <tbody>\n",
              "    <tr>\n",
              "      <th>0</th>\n",
              "      <td>2013-02-01</td>\n",
              "      <td>0</td>\n",
              "      <td>59</td>\n",
              "      <td>22154</td>\n",
              "      <td>999.0</td>\n",
              "      <td>1.0</td>\n",
              "      <td>ЯВЛЕНИЕ 2012 (BD)</td>\n",
              "      <td>37</td>\n",
              "      <td>Кино - Blu-Ray</td>\n",
              "      <td>999.0</td>\n",
              "      <td>1.0</td>\n",
              "      <td>6.907755</td>\n",
              "    </tr>\n",
              "    <tr>\n",
              "      <th>1</th>\n",
              "      <td>2013-01-23</td>\n",
              "      <td>0</td>\n",
              "      <td>24</td>\n",
              "      <td>22154</td>\n",
              "      <td>999.0</td>\n",
              "      <td>1.0</td>\n",
              "      <td>ЯВЛЕНИЕ 2012 (BD)</td>\n",
              "      <td>37</td>\n",
              "      <td>Кино - Blu-Ray</td>\n",
              "      <td>999.0</td>\n",
              "      <td>1.0</td>\n",
              "      <td>6.907755</td>\n",
              "    </tr>\n",
              "    <tr>\n",
              "      <th>2</th>\n",
              "      <td>2013-01-20</td>\n",
              "      <td>0</td>\n",
              "      <td>27</td>\n",
              "      <td>22154</td>\n",
              "      <td>999.0</td>\n",
              "      <td>1.0</td>\n",
              "      <td>ЯВЛЕНИЕ 2012 (BD)</td>\n",
              "      <td>37</td>\n",
              "      <td>Кино - Blu-Ray</td>\n",
              "      <td>999.0</td>\n",
              "      <td>1.0</td>\n",
              "      <td>6.907755</td>\n",
              "    </tr>\n",
              "    <tr>\n",
              "      <th>3</th>\n",
              "      <td>2013-02-01</td>\n",
              "      <td>0</td>\n",
              "      <td>25</td>\n",
              "      <td>22154</td>\n",
              "      <td>999.0</td>\n",
              "      <td>1.0</td>\n",
              "      <td>ЯВЛЕНИЕ 2012 (BD)</td>\n",
              "      <td>37</td>\n",
              "      <td>Кино - Blu-Ray</td>\n",
              "      <td>999.0</td>\n",
              "      <td>5.0</td>\n",
              "      <td>6.907755</td>\n",
              "    </tr>\n",
              "    <tr>\n",
              "      <th>8</th>\n",
              "      <td>2013-01-27</td>\n",
              "      <td>0</td>\n",
              "      <td>6</td>\n",
              "      <td>22154</td>\n",
              "      <td>999.0</td>\n",
              "      <td>1.0</td>\n",
              "      <td>ЯВЛЕНИЕ 2012 (BD)</td>\n",
              "      <td>37</td>\n",
              "      <td>Кино - Blu-Ray</td>\n",
              "      <td>999.0</td>\n",
              "      <td>1.0</td>\n",
              "      <td>6.907755</td>\n",
              "    </tr>\n",
              "  </tbody>\n",
              "</table>\n",
              "</div>"
            ],
            "text/plain": [
              "        date  date_block_num  shop_id  ...  sales  item_cnt_month  log_prices\n",
              "0 2013-02-01               0       59  ...  999.0             1.0    6.907755\n",
              "1 2013-01-23               0       24  ...  999.0             1.0    6.907755\n",
              "2 2013-01-20               0       27  ...  999.0             1.0    6.907755\n",
              "3 2013-02-01               0       25  ...  999.0             5.0    6.907755\n",
              "8 2013-01-27               0        6  ...  999.0             1.0    6.907755\n",
              "\n",
              "[5 rows x 12 columns]"
            ]
          },
          "metadata": {
            "tags": []
          },
          "execution_count": 143
        }
      ]
    },
    {
      "cell_type": "code",
      "metadata": {
        "id": "wwvRmi8tytGB"
      },
      "source": [
        "agg_dataset = agg_dataset.drop(['date', 'item_price', 'item_cnt_day', 'sales', 'item_category_name', ], axis=1)"
      ],
      "execution_count": 144,
      "outputs": []
    },
    {
      "cell_type": "code",
      "metadata": {
        "colab": {
          "base_uri": "https://localhost:8080/",
          "height": 0
        },
        "id": "g5ysXNdjoWjW",
        "outputId": "788726d6-c84e-410d-ee81-b3f5ab0b164e"
      },
      "source": [
        "agg_dataset.head()"
      ],
      "execution_count": 145,
      "outputs": [
        {
          "output_type": "execute_result",
          "data": {
            "text/html": [
              "<div>\n",
              "<style scoped>\n",
              "    .dataframe tbody tr th:only-of-type {\n",
              "        vertical-align: middle;\n",
              "    }\n",
              "\n",
              "    .dataframe tbody tr th {\n",
              "        vertical-align: top;\n",
              "    }\n",
              "\n",
              "    .dataframe thead th {\n",
              "        text-align: right;\n",
              "    }\n",
              "</style>\n",
              "<table border=\"1\" class=\"dataframe\">\n",
              "  <thead>\n",
              "    <tr style=\"text-align: right;\">\n",
              "      <th></th>\n",
              "      <th>date_block_num</th>\n",
              "      <th>shop_id</th>\n",
              "      <th>item_id</th>\n",
              "      <th>item_name</th>\n",
              "      <th>item_category_id</th>\n",
              "      <th>item_cnt_month</th>\n",
              "      <th>log_prices</th>\n",
              "    </tr>\n",
              "  </thead>\n",
              "  <tbody>\n",
              "    <tr>\n",
              "      <th>0</th>\n",
              "      <td>0</td>\n",
              "      <td>59</td>\n",
              "      <td>22154</td>\n",
              "      <td>ЯВЛЕНИЕ 2012 (BD)</td>\n",
              "      <td>37</td>\n",
              "      <td>1.0</td>\n",
              "      <td>6.907755</td>\n",
              "    </tr>\n",
              "    <tr>\n",
              "      <th>1</th>\n",
              "      <td>0</td>\n",
              "      <td>24</td>\n",
              "      <td>22154</td>\n",
              "      <td>ЯВЛЕНИЕ 2012 (BD)</td>\n",
              "      <td>37</td>\n",
              "      <td>1.0</td>\n",
              "      <td>6.907755</td>\n",
              "    </tr>\n",
              "    <tr>\n",
              "      <th>2</th>\n",
              "      <td>0</td>\n",
              "      <td>27</td>\n",
              "      <td>22154</td>\n",
              "      <td>ЯВЛЕНИЕ 2012 (BD)</td>\n",
              "      <td>37</td>\n",
              "      <td>1.0</td>\n",
              "      <td>6.907755</td>\n",
              "    </tr>\n",
              "    <tr>\n",
              "      <th>3</th>\n",
              "      <td>0</td>\n",
              "      <td>25</td>\n",
              "      <td>22154</td>\n",
              "      <td>ЯВЛЕНИЕ 2012 (BD)</td>\n",
              "      <td>37</td>\n",
              "      <td>5.0</td>\n",
              "      <td>6.907755</td>\n",
              "    </tr>\n",
              "    <tr>\n",
              "      <th>8</th>\n",
              "      <td>0</td>\n",
              "      <td>6</td>\n",
              "      <td>22154</td>\n",
              "      <td>ЯВЛЕНИЕ 2012 (BD)</td>\n",
              "      <td>37</td>\n",
              "      <td>1.0</td>\n",
              "      <td>6.907755</td>\n",
              "    </tr>\n",
              "  </tbody>\n",
              "</table>\n",
              "</div>"
            ],
            "text/plain": [
              "   date_block_num  shop_id  ...  item_cnt_month log_prices\n",
              "0               0       59  ...             1.0   6.907755\n",
              "1               0       24  ...             1.0   6.907755\n",
              "2               0       27  ...             1.0   6.907755\n",
              "3               0       25  ...             5.0   6.907755\n",
              "8               0        6  ...             1.0   6.907755\n",
              "\n",
              "[5 rows x 7 columns]"
            ]
          },
          "metadata": {
            "tags": []
          },
          "execution_count": 145
        }
      ]
    },
    {
      "cell_type": "code",
      "metadata": {
        "id": "S3FvqCi8oc1r"
      },
      "source": [
        "# agg_dataset = agg_dataset.drop(['item_category_name'], axis=1)"
      ],
      "execution_count": 146,
      "outputs": []
    },
    {
      "cell_type": "code",
      "metadata": {
        "id": "SHG6BPl0omM7"
      },
      "source": [
        "agg_dataset = agg_dataset.drop(['item_name'], axis=1)"
      ],
      "execution_count": 147,
      "outputs": []
    },
    {
      "cell_type": "code",
      "metadata": {
        "colab": {
          "base_uri": "https://localhost:8080/",
          "height": 0
        },
        "id": "kY3tXC5aopEu",
        "outputId": "1297b68e-0445-4fb3-897b-e5a0d792a12f"
      },
      "source": [
        "print(agg_dataset.shape)\n",
        "agg_dataset.head()"
      ],
      "execution_count": 148,
      "outputs": [
        {
          "output_type": "stream",
          "text": [
            "(1608214, 6)\n"
          ],
          "name": "stdout"
        },
        {
          "output_type": "execute_result",
          "data": {
            "text/html": [
              "<div>\n",
              "<style scoped>\n",
              "    .dataframe tbody tr th:only-of-type {\n",
              "        vertical-align: middle;\n",
              "    }\n",
              "\n",
              "    .dataframe tbody tr th {\n",
              "        vertical-align: top;\n",
              "    }\n",
              "\n",
              "    .dataframe thead th {\n",
              "        text-align: right;\n",
              "    }\n",
              "</style>\n",
              "<table border=\"1\" class=\"dataframe\">\n",
              "  <thead>\n",
              "    <tr style=\"text-align: right;\">\n",
              "      <th></th>\n",
              "      <th>date_block_num</th>\n",
              "      <th>shop_id</th>\n",
              "      <th>item_id</th>\n",
              "      <th>item_category_id</th>\n",
              "      <th>item_cnt_month</th>\n",
              "      <th>log_prices</th>\n",
              "    </tr>\n",
              "  </thead>\n",
              "  <tbody>\n",
              "    <tr>\n",
              "      <th>0</th>\n",
              "      <td>0</td>\n",
              "      <td>59</td>\n",
              "      <td>22154</td>\n",
              "      <td>37</td>\n",
              "      <td>1.0</td>\n",
              "      <td>6.907755</td>\n",
              "    </tr>\n",
              "    <tr>\n",
              "      <th>1</th>\n",
              "      <td>0</td>\n",
              "      <td>24</td>\n",
              "      <td>22154</td>\n",
              "      <td>37</td>\n",
              "      <td>1.0</td>\n",
              "      <td>6.907755</td>\n",
              "    </tr>\n",
              "    <tr>\n",
              "      <th>2</th>\n",
              "      <td>0</td>\n",
              "      <td>27</td>\n",
              "      <td>22154</td>\n",
              "      <td>37</td>\n",
              "      <td>1.0</td>\n",
              "      <td>6.907755</td>\n",
              "    </tr>\n",
              "    <tr>\n",
              "      <th>3</th>\n",
              "      <td>0</td>\n",
              "      <td>25</td>\n",
              "      <td>22154</td>\n",
              "      <td>37</td>\n",
              "      <td>5.0</td>\n",
              "      <td>6.907755</td>\n",
              "    </tr>\n",
              "    <tr>\n",
              "      <th>8</th>\n",
              "      <td>0</td>\n",
              "      <td>6</td>\n",
              "      <td>22154</td>\n",
              "      <td>37</td>\n",
              "      <td>1.0</td>\n",
              "      <td>6.907755</td>\n",
              "    </tr>\n",
              "  </tbody>\n",
              "</table>\n",
              "</div>"
            ],
            "text/plain": [
              "   date_block_num  shop_id  ...  item_cnt_month  log_prices\n",
              "0               0       59  ...             1.0    6.907755\n",
              "1               0       24  ...             1.0    6.907755\n",
              "2               0       27  ...             1.0    6.907755\n",
              "3               0       25  ...             5.0    6.907755\n",
              "8               0        6  ...             1.0    6.907755\n",
              "\n",
              "[5 rows x 6 columns]"
            ]
          },
          "metadata": {
            "tags": []
          },
          "execution_count": 148
        }
      ]
    },
    {
      "cell_type": "markdown",
      "metadata": {
        "id": "Gfg6E0Iuu-kX"
      },
      "source": [
        "This looks to be okay. We have removed a lot of the features that were in the set when we merged the items table, and just kept the logprices with item cnt a month as that will be critical to prediction. Then we have shop id item id, but we do not need their names or their category names either. As long as we have their ids, it is much better to deal with numerical values then encoding the string values with something else. "
      ]
    },
    {
      "cell_type": "markdown",
      "metadata": {
        "id": "ZJKEbsSzuUz1"
      },
      "source": [
        "# Test data engineering"
      ]
    },
    {
      "cell_type": "code",
      "metadata": {
        "colab": {
          "base_uri": "https://localhost:8080/",
          "height": 0
        },
        "id": "X-V8ESe7sY8p",
        "outputId": "b76f7027-9036-42f6-93ba-a5d0ac94e22e"
      },
      "source": [
        "print(test_data.shape)\n",
        "test_data.head()"
      ],
      "execution_count": 149,
      "outputs": [
        {
          "output_type": "stream",
          "text": [
            "(214200, 3)\n"
          ],
          "name": "stdout"
        },
        {
          "output_type": "execute_result",
          "data": {
            "text/html": [
              "<div>\n",
              "<style scoped>\n",
              "    .dataframe tbody tr th:only-of-type {\n",
              "        vertical-align: middle;\n",
              "    }\n",
              "\n",
              "    .dataframe tbody tr th {\n",
              "        vertical-align: top;\n",
              "    }\n",
              "\n",
              "    .dataframe thead th {\n",
              "        text-align: right;\n",
              "    }\n",
              "</style>\n",
              "<table border=\"1\" class=\"dataframe\">\n",
              "  <thead>\n",
              "    <tr style=\"text-align: right;\">\n",
              "      <th></th>\n",
              "      <th>ID</th>\n",
              "      <th>shop_id</th>\n",
              "      <th>item_id</th>\n",
              "    </tr>\n",
              "  </thead>\n",
              "  <tbody>\n",
              "    <tr>\n",
              "      <th>0</th>\n",
              "      <td>0</td>\n",
              "      <td>5</td>\n",
              "      <td>5037</td>\n",
              "    </tr>\n",
              "    <tr>\n",
              "      <th>1</th>\n",
              "      <td>1</td>\n",
              "      <td>5</td>\n",
              "      <td>5320</td>\n",
              "    </tr>\n",
              "    <tr>\n",
              "      <th>2</th>\n",
              "      <td>2</td>\n",
              "      <td>5</td>\n",
              "      <td>5233</td>\n",
              "    </tr>\n",
              "    <tr>\n",
              "      <th>3</th>\n",
              "      <td>3</td>\n",
              "      <td>5</td>\n",
              "      <td>5232</td>\n",
              "    </tr>\n",
              "    <tr>\n",
              "      <th>4</th>\n",
              "      <td>4</td>\n",
              "      <td>5</td>\n",
              "      <td>5268</td>\n",
              "    </tr>\n",
              "  </tbody>\n",
              "</table>\n",
              "</div>"
            ],
            "text/plain": [
              "   ID  shop_id  item_id\n",
              "0   0        5     5037\n",
              "1   1        5     5320\n",
              "2   2        5     5233\n",
              "3   3        5     5232\n",
              "4   4        5     5268"
            ]
          },
          "metadata": {
            "tags": []
          },
          "execution_count": 149
        }
      ]
    },
    {
      "cell_type": "markdown",
      "metadata": {
        "id": "DtR3HlyXuZ6Z"
      },
      "source": [
        "So here we have an issue of test data not having the same amount of features as the training data. One common way to deal with datasets like this I see quite a bit is to concatenate the two datasets together into a train + test big dataset, then split the big dataset into separate train sets and test sets. This seems to be the simplest way of dealing with it, without a lot of coding. "
      ]
    },
    {
      "cell_type": "code",
      "metadata": {
        "colab": {
          "base_uri": "https://localhost:8080/",
          "height": 0
        },
        "id": "4v0mNzeuw1Fz",
        "outputId": "7a61d8d1-6157-46f2-e4bc-e7790af7915f"
      },
      "source": [
        "test_data['date_block_num'] = 34 \n",
        "#last date block to fill in the test data, as it is future prediction anyways\n",
        "test_data.tail()"
      ],
      "execution_count": 150,
      "outputs": [
        {
          "output_type": "execute_result",
          "data": {
            "text/html": [
              "<div>\n",
              "<style scoped>\n",
              "    .dataframe tbody tr th:only-of-type {\n",
              "        vertical-align: middle;\n",
              "    }\n",
              "\n",
              "    .dataframe tbody tr th {\n",
              "        vertical-align: top;\n",
              "    }\n",
              "\n",
              "    .dataframe thead th {\n",
              "        text-align: right;\n",
              "    }\n",
              "</style>\n",
              "<table border=\"1\" class=\"dataframe\">\n",
              "  <thead>\n",
              "    <tr style=\"text-align: right;\">\n",
              "      <th></th>\n",
              "      <th>ID</th>\n",
              "      <th>shop_id</th>\n",
              "      <th>item_id</th>\n",
              "      <th>date_block_num</th>\n",
              "    </tr>\n",
              "  </thead>\n",
              "  <tbody>\n",
              "    <tr>\n",
              "      <th>214195</th>\n",
              "      <td>214195</td>\n",
              "      <td>45</td>\n",
              "      <td>18454</td>\n",
              "      <td>34</td>\n",
              "    </tr>\n",
              "    <tr>\n",
              "      <th>214196</th>\n",
              "      <td>214196</td>\n",
              "      <td>45</td>\n",
              "      <td>16188</td>\n",
              "      <td>34</td>\n",
              "    </tr>\n",
              "    <tr>\n",
              "      <th>214197</th>\n",
              "      <td>214197</td>\n",
              "      <td>45</td>\n",
              "      <td>15757</td>\n",
              "      <td>34</td>\n",
              "    </tr>\n",
              "    <tr>\n",
              "      <th>214198</th>\n",
              "      <td>214198</td>\n",
              "      <td>45</td>\n",
              "      <td>19648</td>\n",
              "      <td>34</td>\n",
              "    </tr>\n",
              "    <tr>\n",
              "      <th>214199</th>\n",
              "      <td>214199</td>\n",
              "      <td>45</td>\n",
              "      <td>969</td>\n",
              "      <td>34</td>\n",
              "    </tr>\n",
              "  </tbody>\n",
              "</table>\n",
              "</div>"
            ],
            "text/plain": [
              "            ID  shop_id  item_id  date_block_num\n",
              "214195  214195       45    18454              34\n",
              "214196  214196       45    16188              34\n",
              "214197  214197       45    15757              34\n",
              "214198  214198       45    19648              34\n",
              "214199  214199       45      969              34"
            ]
          },
          "metadata": {
            "tags": []
          },
          "execution_count": 150
        }
      ]
    },
    {
      "cell_type": "code",
      "metadata": {
        "colab": {
          "base_uri": "https://localhost:8080/",
          "height": 0
        },
        "id": "y3kWSMSTsdJI",
        "outputId": "855bdabe-7885-49e5-b49f-c488d6a63a74"
      },
      "source": [
        "item_dict = {}\n",
        "items_table.head()"
      ],
      "execution_count": 151,
      "outputs": [
        {
          "output_type": "execute_result",
          "data": {
            "text/html": [
              "<div>\n",
              "<style scoped>\n",
              "    .dataframe tbody tr th:only-of-type {\n",
              "        vertical-align: middle;\n",
              "    }\n",
              "\n",
              "    .dataframe tbody tr th {\n",
              "        vertical-align: top;\n",
              "    }\n",
              "\n",
              "    .dataframe thead th {\n",
              "        text-align: right;\n",
              "    }\n",
              "</style>\n",
              "<table border=\"1\" class=\"dataframe\">\n",
              "  <thead>\n",
              "    <tr style=\"text-align: right;\">\n",
              "      <th></th>\n",
              "      <th>item_name</th>\n",
              "      <th>item_id</th>\n",
              "      <th>item_category_id</th>\n",
              "      <th>item_category_name</th>\n",
              "    </tr>\n",
              "  </thead>\n",
              "  <tbody>\n",
              "    <tr>\n",
              "      <th>0</th>\n",
              "      <td>! ВО ВЛАСТИ НАВАЖДЕНИЯ (ПЛАСТ.)         D</td>\n",
              "      <td>0</td>\n",
              "      <td>40</td>\n",
              "      <td>Кино - DVD</td>\n",
              "    </tr>\n",
              "    <tr>\n",
              "      <th>1</th>\n",
              "      <td>!ABBYY FineReader 12 Professional Edition Full...</td>\n",
              "      <td>1</td>\n",
              "      <td>76</td>\n",
              "      <td>Программы - Для дома и офиса (Цифра)</td>\n",
              "    </tr>\n",
              "    <tr>\n",
              "      <th>2</th>\n",
              "      <td>***В ЛУЧАХ СЛАВЫ   (UNV)                    D</td>\n",
              "      <td>2</td>\n",
              "      <td>40</td>\n",
              "      <td>Кино - DVD</td>\n",
              "    </tr>\n",
              "    <tr>\n",
              "      <th>3</th>\n",
              "      <td>***ГОЛУБАЯ ВОЛНА  (Univ)                      D</td>\n",
              "      <td>3</td>\n",
              "      <td>40</td>\n",
              "      <td>Кино - DVD</td>\n",
              "    </tr>\n",
              "    <tr>\n",
              "      <th>4</th>\n",
              "      <td>***КОРОБКА (СТЕКЛО)                       D</td>\n",
              "      <td>4</td>\n",
              "      <td>40</td>\n",
              "      <td>Кино - DVD</td>\n",
              "    </tr>\n",
              "  </tbody>\n",
              "</table>\n",
              "</div>"
            ],
            "text/plain": [
              "                                           item_name  ...                    item_category_name\n",
              "0          ! ВО ВЛАСТИ НАВАЖДЕНИЯ (ПЛАСТ.)         D  ...                            Кино - DVD\n",
              "1  !ABBYY FineReader 12 Professional Edition Full...  ...  Программы - Для дома и офиса (Цифра)\n",
              "2      ***В ЛУЧАХ СЛАВЫ   (UNV)                    D  ...                            Кино - DVD\n",
              "3    ***ГОЛУБАЯ ВОЛНА  (Univ)                      D  ...                            Кино - DVD\n",
              "4        ***КОРОБКА (СТЕКЛО)                       D  ...                            Кино - DVD\n",
              "\n",
              "[5 rows x 4 columns]"
            ]
          },
          "metadata": {
            "tags": []
          },
          "execution_count": 151
        }
      ]
    },
    {
      "cell_type": "code",
      "metadata": {
        "colab": {
          "base_uri": "https://localhost:8080/"
        },
        "id": "ppOPIvjWzQq6",
        "outputId": "3f906e76-d417-4668-8af3-d079bcf0072c"
      },
      "source": [
        "item_dict = {key:val for key,val in zip(items_table['item_id'], items_table['item_category_id'])}\n",
        "print(len(item_dict))"
      ],
      "execution_count": 152,
      "outputs": [
        {
          "output_type": "stream",
          "text": [
            "22170\n"
          ],
          "name": "stdout"
        }
      ]
    },
    {
      "cell_type": "code",
      "metadata": {
        "colab": {
          "base_uri": "https://localhost:8080/",
          "height": 0
        },
        "id": "95b4_blXz4JN",
        "outputId": "50e287d0-3317-47e7-96a4-185cd9430620"
      },
      "source": [
        "test_datas = test_data.merge(items_table[['item_id', 'item_category_id']], on='item_id', how='left')\n",
        "test_datas.head()"
      ],
      "execution_count": 153,
      "outputs": [
        {
          "output_type": "execute_result",
          "data": {
            "text/html": [
              "<div>\n",
              "<style scoped>\n",
              "    .dataframe tbody tr th:only-of-type {\n",
              "        vertical-align: middle;\n",
              "    }\n",
              "\n",
              "    .dataframe tbody tr th {\n",
              "        vertical-align: top;\n",
              "    }\n",
              "\n",
              "    .dataframe thead th {\n",
              "        text-align: right;\n",
              "    }\n",
              "</style>\n",
              "<table border=\"1\" class=\"dataframe\">\n",
              "  <thead>\n",
              "    <tr style=\"text-align: right;\">\n",
              "      <th></th>\n",
              "      <th>ID</th>\n",
              "      <th>shop_id</th>\n",
              "      <th>item_id</th>\n",
              "      <th>date_block_num</th>\n",
              "      <th>item_category_id</th>\n",
              "    </tr>\n",
              "  </thead>\n",
              "  <tbody>\n",
              "    <tr>\n",
              "      <th>0</th>\n",
              "      <td>0</td>\n",
              "      <td>5</td>\n",
              "      <td>5037</td>\n",
              "      <td>34</td>\n",
              "      <td>19</td>\n",
              "    </tr>\n",
              "    <tr>\n",
              "      <th>1</th>\n",
              "      <td>1</td>\n",
              "      <td>5</td>\n",
              "      <td>5320</td>\n",
              "      <td>34</td>\n",
              "      <td>55</td>\n",
              "    </tr>\n",
              "    <tr>\n",
              "      <th>2</th>\n",
              "      <td>2</td>\n",
              "      <td>5</td>\n",
              "      <td>5233</td>\n",
              "      <td>34</td>\n",
              "      <td>19</td>\n",
              "    </tr>\n",
              "    <tr>\n",
              "      <th>3</th>\n",
              "      <td>3</td>\n",
              "      <td>5</td>\n",
              "      <td>5232</td>\n",
              "      <td>34</td>\n",
              "      <td>23</td>\n",
              "    </tr>\n",
              "    <tr>\n",
              "      <th>4</th>\n",
              "      <td>4</td>\n",
              "      <td>5</td>\n",
              "      <td>5268</td>\n",
              "      <td>34</td>\n",
              "      <td>20</td>\n",
              "    </tr>\n",
              "  </tbody>\n",
              "</table>\n",
              "</div>"
            ],
            "text/plain": [
              "   ID  shop_id  item_id  date_block_num  item_category_id\n",
              "0   0        5     5037              34                19\n",
              "1   1        5     5320              34                55\n",
              "2   2        5     5233              34                19\n",
              "3   3        5     5232              34                23\n",
              "4   4        5     5268              34                20"
            ]
          },
          "metadata": {
            "tags": []
          },
          "execution_count": 153
        }
      ]
    },
    {
      "cell_type": "code",
      "metadata": {
        "colab": {
          "base_uri": "https://localhost:8080/"
        },
        "id": "X-JwaSGwKnbo",
        "outputId": "ef08532c-dd6a-42cf-8928-c4fae18607b5"
      },
      "source": [
        "test_datas['item_category_id'].isna().sum()"
      ],
      "execution_count": 154,
      "outputs": [
        {
          "output_type": "execute_result",
          "data": {
            "text/plain": [
              "0"
            ]
          },
          "metadata": {
            "tags": []
          },
          "execution_count": 154
        }
      ]
    },
    {
      "cell_type": "code",
      "metadata": {
        "id": "oAbao2QsNkMh"
      },
      "source": [
        "# test_data.head()"
      ],
      "execution_count": 155,
      "outputs": []
    },
    {
      "cell_type": "code",
      "metadata": {
        "colab": {
          "base_uri": "https://localhost:8080/",
          "height": 0
        },
        "id": "uPIclmBCONbT",
        "outputId": "4df7ea2e-edda-4b5a-d90f-e8ba0a653a25"
      },
      "source": [
        "#test_data = test_data.drop('item_category_id_y', axis=1) \n",
        "#mistake with adding item category id twice, had to remove\n",
        "test_data.head()"
      ],
      "execution_count": 156,
      "outputs": [
        {
          "output_type": "execute_result",
          "data": {
            "text/html": [
              "<div>\n",
              "<style scoped>\n",
              "    .dataframe tbody tr th:only-of-type {\n",
              "        vertical-align: middle;\n",
              "    }\n",
              "\n",
              "    .dataframe tbody tr th {\n",
              "        vertical-align: top;\n",
              "    }\n",
              "\n",
              "    .dataframe thead th {\n",
              "        text-align: right;\n",
              "    }\n",
              "</style>\n",
              "<table border=\"1\" class=\"dataframe\">\n",
              "  <thead>\n",
              "    <tr style=\"text-align: right;\">\n",
              "      <th></th>\n",
              "      <th>ID</th>\n",
              "      <th>shop_id</th>\n",
              "      <th>item_id</th>\n",
              "      <th>date_block_num</th>\n",
              "    </tr>\n",
              "  </thead>\n",
              "  <tbody>\n",
              "    <tr>\n",
              "      <th>0</th>\n",
              "      <td>0</td>\n",
              "      <td>5</td>\n",
              "      <td>5037</td>\n",
              "      <td>34</td>\n",
              "    </tr>\n",
              "    <tr>\n",
              "      <th>1</th>\n",
              "      <td>1</td>\n",
              "      <td>5</td>\n",
              "      <td>5320</td>\n",
              "      <td>34</td>\n",
              "    </tr>\n",
              "    <tr>\n",
              "      <th>2</th>\n",
              "      <td>2</td>\n",
              "      <td>5</td>\n",
              "      <td>5233</td>\n",
              "      <td>34</td>\n",
              "    </tr>\n",
              "    <tr>\n",
              "      <th>3</th>\n",
              "      <td>3</td>\n",
              "      <td>5</td>\n",
              "      <td>5232</td>\n",
              "      <td>34</td>\n",
              "    </tr>\n",
              "    <tr>\n",
              "      <th>4</th>\n",
              "      <td>4</td>\n",
              "      <td>5</td>\n",
              "      <td>5268</td>\n",
              "      <td>34</td>\n",
              "    </tr>\n",
              "  </tbody>\n",
              "</table>\n",
              "</div>"
            ],
            "text/plain": [
              "   ID  shop_id  item_id  date_block_num\n",
              "0   0        5     5037              34\n",
              "1   1        5     5320              34\n",
              "2   2        5     5233              34\n",
              "3   3        5     5232              34\n",
              "4   4        5     5268              34"
            ]
          },
          "metadata": {
            "tags": []
          },
          "execution_count": 156
        }
      ]
    },
    {
      "cell_type": "code",
      "metadata": {
        "id": "_UohfDeyOiFr"
      },
      "source": [
        "# test_data['item_cnt_month'] = 0\n",
        "# test_data = test_data.drop('item_cnt_month', axis=1)\n",
        "# test_data.head()"
      ],
      "execution_count": 157,
      "outputs": []
    },
    {
      "cell_type": "code",
      "metadata": {
        "id": "dNy1B0tQrtD9"
      },
      "source": [
        "#fulltests = pd.merge(test_data, agg_dataset, how='left', on=['item_id', 'shop_id'])\n",
        "#fulltests.head()"
      ],
      "execution_count": 158,
      "outputs": []
    },
    {
      "cell_type": "markdown",
      "metadata": {
        "id": "0VwmMs0M6WJN"
      },
      "source": [
        "attempt to concatenate datasets using pd.concat, did not work as prices are not being recorded for the items in test data. We can drop the ID column completely but need values for item_cnt_month and log prices. need to find a way to get prices onto test data. "
      ]
    },
    {
      "cell_type": "code",
      "metadata": {
        "id": "yo_f2C8rt3O5"
      },
      "source": [
        "# train_test = pd.concat(objs=[agg_dataset, test_data], axis=0)\n",
        "# train_test.tail()\n"
      ],
      "execution_count": 159,
      "outputs": []
    },
    {
      "cell_type": "code",
      "metadata": {
        "id": "3U0yZOSG6jzY"
      },
      "source": [
        "# train_test = pd.merge(test_data, agg_dataset,  \n",
        "#                               on=['shop_id', 'item_id', 'item_category_id', 'date_block_num'], how='left')\n",
        "# train_test.shape"
      ],
      "execution_count": 160,
      "outputs": []
    },
    {
      "cell_type": "code",
      "metadata": {
        "colab": {
          "base_uri": "https://localhost:8080/",
          "height": 0
        },
        "id": "8D0_NttI7cnj",
        "outputId": "c01637c6-93a2-4734-c8f4-0f593d179558"
      },
      "source": [
        "test_datas.head()"
      ],
      "execution_count": 161,
      "outputs": [
        {
          "output_type": "execute_result",
          "data": {
            "text/html": [
              "<div>\n",
              "<style scoped>\n",
              "    .dataframe tbody tr th:only-of-type {\n",
              "        vertical-align: middle;\n",
              "    }\n",
              "\n",
              "    .dataframe tbody tr th {\n",
              "        vertical-align: top;\n",
              "    }\n",
              "\n",
              "    .dataframe thead th {\n",
              "        text-align: right;\n",
              "    }\n",
              "</style>\n",
              "<table border=\"1\" class=\"dataframe\">\n",
              "  <thead>\n",
              "    <tr style=\"text-align: right;\">\n",
              "      <th></th>\n",
              "      <th>ID</th>\n",
              "      <th>shop_id</th>\n",
              "      <th>item_id</th>\n",
              "      <th>date_block_num</th>\n",
              "      <th>item_category_id</th>\n",
              "    </tr>\n",
              "  </thead>\n",
              "  <tbody>\n",
              "    <tr>\n",
              "      <th>0</th>\n",
              "      <td>0</td>\n",
              "      <td>5</td>\n",
              "      <td>5037</td>\n",
              "      <td>34</td>\n",
              "      <td>19</td>\n",
              "    </tr>\n",
              "    <tr>\n",
              "      <th>1</th>\n",
              "      <td>1</td>\n",
              "      <td>5</td>\n",
              "      <td>5320</td>\n",
              "      <td>34</td>\n",
              "      <td>55</td>\n",
              "    </tr>\n",
              "    <tr>\n",
              "      <th>2</th>\n",
              "      <td>2</td>\n",
              "      <td>5</td>\n",
              "      <td>5233</td>\n",
              "      <td>34</td>\n",
              "      <td>19</td>\n",
              "    </tr>\n",
              "    <tr>\n",
              "      <th>3</th>\n",
              "      <td>3</td>\n",
              "      <td>5</td>\n",
              "      <td>5232</td>\n",
              "      <td>34</td>\n",
              "      <td>23</td>\n",
              "    </tr>\n",
              "    <tr>\n",
              "      <th>4</th>\n",
              "      <td>4</td>\n",
              "      <td>5</td>\n",
              "      <td>5268</td>\n",
              "      <td>34</td>\n",
              "      <td>20</td>\n",
              "    </tr>\n",
              "  </tbody>\n",
              "</table>\n",
              "</div>"
            ],
            "text/plain": [
              "   ID  shop_id  item_id  date_block_num  item_category_id\n",
              "0   0        5     5037              34                19\n",
              "1   1        5     5320              34                55\n",
              "2   2        5     5233              34                19\n",
              "3   3        5     5232              34                23\n",
              "4   4        5     5268              34                20"
            ]
          },
          "metadata": {
            "tags": []
          },
          "execution_count": 161
        }
      ]
    },
    {
      "cell_type": "code",
      "metadata": {
        "colab": {
          "base_uri": "https://localhost:8080/"
        },
        "id": "gFXxOsI7JaSK",
        "outputId": "e6c45fb7-352f-459e-8b24-b6d0bd9058d2"
      },
      "source": [
        "price_dict = {key:value for key, value in zip(full_data['item_id'], full_data['item_price'])}\n",
        "#calling back to full data, as item price is not available in agg_dataset.\n",
        "print(len(price_dict))\n",
        "logprice_dict = {key:value for key, value in zip(agg_dataset['item_id'], agg_dataset['log_prices'])}\n",
        "print(len(logprice_dict))\n",
        "print(logprice_dict)"
      ],
      "execution_count": 162,
      "outputs": [
        {
          "output_type": "stream",
          "text": [
            "21799\n",
            "21799\n",
            "{22154: 5.703782474656201, 2552: 6.856461984594587, 2554: 7.444277888835313, 2555: 7.047517221357296, 2564: 5.521460917862246, 2565: 6.309918278226516, 2572: 5.703782474656201, 2573: 5.521460917862246, 2574: 6.1092475827643655, 2593: 5.003946305945459, 2604: 5.703782474656201, 2607: 5.703782474656201, 2609: 7.003065458786462, 2548: 7.495541943884256, 2611: 5.703782474656201, 2546: 5.703782474656201, 2515: 7.600902459542082, 2705: 7.495541943884256, 2715: 5.857933154483459, 2716: 5.0106352940962555, 2719: 5.991464547107982, 2720: 5.988961416889864, 2473: 6.802394763324311, 2480: 4.07753744390572, 2731: 6.396929655216146, 2746: 4.543294782270004, 2748: 6.684611727667927, 2522: 7.600902459542082, 2614: 5.703782474656201, 2798: 5.0106352940962555, 2833: 4.59511985013459, 2835: 6.685236532436769, 2836: 7.1693500166706, 2844: 6.110358077048392, 2845: 6.396929655216146, 2847: 5.855071922202427, 2848: 4.07753744390572, 2854: 4.605170185988092, 2857: 6.907755278982137, 2920: 6.212606095751519, 2795: 6.856461984594587, 2808: 7.313220387090301, 2628: 5.703782474656201, 2629: 5.703782474656201, 2631: 5.703782474656201, 2640: 5.521460917862246, 2822: 5.003946305945459, 2704: 7.495541943884256, 2703: 5.517452896464707, 2088: 7.4673710669175595, 2090: 6.309918278226516, 2092: 6.396929655216146, 2100: 5.857933154483459, 2102: 5.857933154483459, 2103: 5.517452896464707, 2106: 6.309918278226516, 2108: 5.298317366548036, 2111: 4.07753744390572, 2117: 5.634789603169249, 2121: 5.517452896464707, 2122: 7.313220387090301, 2123: 5.703782474656201, 2149: 5.991464547107982, 2151: 6.774223886357614, 2160: 6.802394763324311, 2164: 7.919356190660617, 2389: 5.517452896464707, 2179: 4.59511985013459, 2186: 7.089243155027514, 2340: 5.298317366548036, 2189: 5.0106352940962555, 2281: 6.907755278982137, 2321: 4.59511985013459, 2333: 6.309918278226516, 2252: 5.991464547107982, 2253: 7.24422751560335, 2254: 7.24422751560335, 2255: 3.367295829986474, 2256: 3.367295829986474, 2257: 3.367295829986474, 2258: 3.367295829986474, 2199: 7.27931883541462, 2439: 5.703782474656201, 2441: 5.988961416889864, 2461: 6.214608098422191, 2678: 6.907755278982137, 2462: 4.07753744390572, 2680: 6.802394763324311, 2682: 7.313220387090301, 2437: 5.648974238161206, 2202: 7.003065458786462, 2209: 7.313220387090301, 2220: 8.646641258603124, 2221: 7.820439515262181, 2412: 8.57376254290413, 2222: 4.59511985013459, 2415: 5.703782474656201, 2416: 6.551080335043404, 2417: 5.857933154483459, 2225: 5.703782474656201, 2235: 5.991464547107982, 2924: 4.07753744390572, 3168: 5.703782474656201, 3172: 4.07753744390572, 3174: 5.703782474656201, 3175: 5.703782474656201, 3253: 6.802394763324311, 3268: 5.857933154483459, 3269: 5.703782474656201, 3394: 7.170119543449628, 3402: 6.309918278226516, 3417: 5.507524252123373, 3432: 6.1092475827643655, 3164: 5.703782474656201, 3223: 5.988961416889864, 3112: 5.857933154483459, 3128: 6.620073206530356, 3203: 3.367295829986474, 3204: 4.605170185988092, 3209: 5.0106352940962555, 3210: 5.0106352940962555, 3214: 4.59511985013459, 3130: 5.703782474656201, 3141: 7.074116816197362, 3147: 7.523481312573497, 3146: 7.85979918056211, 3148: 7.523481312573497, 3158: 7.1631723908466425, 3429: 5.988961416889864, 3437: 7.438383530044307, 3438: 7.7142311448490855, 3467: 5.0106352940962555, 3468: 4.07753744390572, 3286: 5.857933154483459, 3428: 7.937374696163295, 3433: 6.907755278982137, 3434: 7.313220387090301, 3427: 6.214608098422191, 3193: 3.367295829986474, 2973: 7.513911082352455, 2974: 7.243512974665482, 2649: 4.955827057601261, 2650: 6.745236349484362, 2972: 5.293304824724492, 2929: 4.605170185988092, 2931: 4.605170185988092, 2934: 6.09807428216624, 2939: 6.09807428216624, 2946: 6.1092475827643655, 2953: 5.988961416889864, 3017: 5.293304824724492, 2956: 5.988961416889864, 2960: 5.41610040220442, 3186: 5.635860458170742, 3187: 7.170119543449628, 3095: 5.703782474656201, 3098: 7.170119543449628, 3093: 5.298317366548036, 3036: 5.293304824724492, 3045: 7.1308988302963465, 3046: 5.988961416889864, 3050: 3.367295829986474, 3056: 6.802394763324311, 3057: 6.54965074223381, 3076: 7.090076835776092, 3077: 7.090076835776092, 3080: 7.495541943884256, 3081: 7.7406644019172415, 2662: 5.003946305945459, 2319: 5.700443573390686, 2309: 6.907755278982137, 1359: 5.988961416889864, 1261: 5.991464547107982, 1362: 4.07753744390572, 1266: 5.703782474656201, 1268: 5.293304824724492, 1270: 5.703782474656201, 1375: 5.700443573390686, 1409: 5.517452896464707, 1410: 5.517452896464707, 1418: 5.857933154483459, 1420: 5.857933154483459, 1423: 6.396929655216146, 1438: 4.605170185988092, 1291: 5.703782474656201, 1292: 7.170119543449628, 1300: 6.907755278982137, 1249: 5.703782474656201, 1302: 5.703782474656201, 1205: 7.170119543449628, 1206: 6.745236349484362, 1217: 5.703782474656201, 1225: 6.802394763324311, 1228: 7.52294091807237, 1243: 3.367295829986474, 1247: 5.703782474656201, 1315: 6.1092475827643655, 1471: 6.353343427053224, 1472: 7.24422751560335, 1475: 6.396929655216146, 1481: 7.3777589082278725, 1318: 5.703782474656201, 1326: 5.703782474656201, 1332: 6.214608098422191, 1333: 7.6004023345004, 1463: 5.988961416889864, 1467: 7.090076835776092, 1470: 5.700443573390686, 1203: 6.476972362889683, 1202: 7.600902459542082, 1195: 5.703782474656201, 1187: 7.307202314764738, 1000: 3.367295829986474, 1002: 4.07753744390572, 1003: 4.248495242049359, 1004: 4.07753744390572, 1005: 4.07753744390572, 1006: 5.991464547107982, 1008: 5.703782474656201, 1013: 5.703782474656201, 1017: 5.293304824724492, 1018: 5.003946305945459, 1021: 6.1092475827643655, 1022: 5.517452896464707, 999: 4.07753744390572, 998: 4.248495242049359, 785: 5.857933154483459, 791: 6.398594934535208, 804: 5.484796933490655, 810: 5.298317366548036, 829: 8.101980731853192, 832: 5.703782474656201, 839: 8.101980731853192, 944: 4.605170185988092, 965: 5.298317366548036, 970: 5.857933154483459, 977: 4.382026634673881, 987: 4.605170185988092, 990: 4.07753744390572, 993: 4.07753744390572, 1023: 5.003946305945459, 1102: 5.703782474656201, 1103: 5.521460917862246, 1105: 4.07753744390572, 1110: 3.912023005428146, 1113: 5.0106352940962555, 1118: 3.367295829986474, 1119: 5.991464547107982, 1122: 5.703782474656201, 1126: 5.703782474656201, 1131: 6.1092475827643655, 1132: 5.857933154483459, 1142: 7.824046010856292, 1144: 5.857933154483459, 1151: 7.490529402060711, 1153: 8.073402968986406, 1166: 8.261268150577648, 1167: 7.00397413672268, 1101: 5.703782474656201, 1025: 5.517452896464707, 1027: 3.367295829986474, 1031: 3.367295829986474, 1032: 5.703782474656201, 1034: 4.07753744390572, 1036: 3.367295829986474, 1047: 5.988961416889864, 1048: 5.988961416889864, 1051: 5.517452896464707, 1054: 5.988961416889864, 1070: 4.59511985013459, 1081: 7.590852123688581, 1082: 7.590852123688581, 1097: 4.07753744390572, 1931: 3.367295829986474, 1953: 7.312553498102598, 1956: 5.517452896464707, 1697: 7.170119543449628, 1701: 7.090076835776092, 1729: 5.703782474656201, 1731: 5.703782474656201, 1740: 5.857933154483459, 1741: 5.857933154483459, 1750: 6.309918278226516, 1751: 5.703782474656201, 1987: 6.396929655216146, 1676: 5.703782474656201, 1924: 5.521460917862246, 1916: 5.521460917862246, 1918: 5.521460917862246, 1920: 5.521460917862246, 1921: 5.521460917862246, 1922: 5.043425116919247, 1671: 5.703782474656201, 1985: 7.438383530044307, 1986: 6.802394763324311, 1992: 6.215607598755275, 2307: 7.170119543449628, 2308: 5.703782474656201, 1763: 5.521460917862246, 2058: 3.4011973816621555, 1776: 5.703782474656201, 1777: 5.703782474656201, 2068: 4.59511985013459, 2067: 5.700443573390686, 2302: 7.089243155027514, 2330: 5.54907608489522, 2304: 7.089243155027514, 2247: 5.988961416889864, 1913: 5.521460917862246, 1782: 6.1092475827643655, 1624: 5.293304824724492, 1790: 7.24422751560335, 1800: 5.003946305945459, 1801: 6.906754778648554, 1802: 6.620073206530356, 1830: 6.396929655216146, 1611: 6.1092475827643655, 1342: 4.59511985013459, 1600: 4.07753744390572, 1482: 6.309918278226516, 1523: 6.684611727667927, 1524: 7.6004023345004, 1525: 5.966146739123692, 1528: 5.966146739123692, 1593: 7.495541943884256, 1597: 6.152732694704104, 1598: 7.090076835776092, 1832: 6.54965074223381, 1833: 5.857933154483459, 1897: 5.521460917862246, 1898: 5.521460917862246, 1901: 5.521460917862246, 1904: 5.521460917862246, 1905: 5.521460917862246, 1908: 5.521460917862246, 1911: 5.521460917862246, 1912: 5.521460917862246, 1896: 3.367295829986474, 1894: 5.700443573390686, 1889: 5.293304824724492, 1829: 5.988961416889864, 1835: 6.684611727667927, 1836: 7.089243155027514, 1837: 7.089243155027514, 1869: 6.684611727667927, 1871: 5.703782474656201, 1630: 7.466799475018602, 1641: 6.745236349484362, 1646: 6.620073206530356, 1651: 7.2078598714324755, 1661: 5.991464547107982, 5256: 6.212606095751519, 5260: 5.703782474656201, 5261: 6.54965074223381, 5263: 5.241747015059643, 5275: 7.090076835776092, 5272: 5.703782474656201, 5224: 5.293304824724492, 4988: 7.170119543449628, 4714: 6.620073206530356, 4715: 5.703782474656201, 4968: 3.367295829986474, 5092: 6.396929655216146, 5095: 6.309918278226516, 5101: 6.214608098422191, 5115: 6.956545443151569, 5125: 7.090076835776092, 5126: 5.564520407322694, 5128: 6.214608098422191, 5145: 6.396929655216146, 5155: 5.991464547107982, 5168: 5.991464547107982, 5179: 5.857933154483459, 5195: 6.1092475827643655, 5197: 6.1092475827643655, 5198: 5.159055299214529, 4975: 7.649692623711514, 4982: 5.703782474656201, 5313: 6.1092475827643655, 5324: 5.703782474656201, 5406: 5.3981627015177525, 5328: 5.703782474656201, 5334: 5.634789603169249, 5341: 7.52294091807237, 5343: 5.703782474656201, 5344: 5.703782474656201, 5346: 5.703782474656201, 5348: 5.703782474656201, 5306: 5.703782474656201, 5384: 8.157943507105037, 5378: 7.969357742016346, 5273: 6.684611727667927, 5274: 6.684611727667927, 5031: 5.517452896464707, 5032: 5.700443573390686, 5033: 5.703782474656201, 4713: 7.313220387090301, 5034: 7.089826804520882, 5287: 7.003065458786462, 5051: 5.857933154483459, 5288: 7.090076835776092, 5060: 5.857933154483459, 5070: 7.237778191923443, 5301: 6.1092475827643655, 5364: 8.036249942132116, 4712: 5.703782474656201, 4832: 6.212606095751519, 4611: 7.24422751560335, 4612: 7.002155954403621, 4614: 5.857933154483459, 4617: 5.517452896464707, 4620: 5.991464547107982, 4625: 6.620073206530356, 4627: 5.703782474656201, 4861: 7.823645930834952, 4632: 5.298317366548036, 4652: 5.857933154483459, 4657: 6.309918278226516, 4884: 5.703782474656201, 4680: 5.857933154483459, 4885: 7.495541943884256, 4886: 7.495541943884256, 4831: 6.907755278982137, 4792: 7.089243155027514, 4793: 6.906754778648554, 4586: 7.575584651557793, 4800: 5.003946305945459, 4802: 5.991464547107982, 4809: 5.703782474656201, 4810: 6.0979394416149875, 4811: 6.684611727667927, 4814: 6.802394763324311, 4812: 6.396929655216146, 4598: 5.703782474656201, 5349: 5.293304824724492, 4910: 6.1092475827643655, 4920: 7.224753405767971, 4922: 6.907755278982137, 4688: 7.313220387090301, 4691: 6.551080335043404, 4960: 6.802394763324311, 4694: 5.703782474656201, 4697: 5.521460917862246, 4698: 5.521460917862246, 4699: 5.521460917862246, 4700: 5.521460917862246, 4701: 5.703782474656201, 4702: 5.521460917862246, 4703: 5.703782474656201, 4907: 7.600902459542082, 4890: 5.700443573390686, 4906: 7.600902459542082, 4791: 6.684611727667927, 5350: 5.703782474656201, 5416: 4.59511985013459, 5627: 7.6004023345004, 5629: 7.695757990554761, 5632: 7.494986233950533, 5635: 7.243512974665482, 5641: 7.649216319820633, 5643: 8.098946748943339, 5651: 6.54965074223381, 5649: 5.988961416889864, 5652: 7.820439515262181, 5941: 5.703782474656201, 5945: 5.857933154483459, 5946: 5.857933154483459, 5623: 5.700443573390686, 5613: 8.342601680684194, 5576: 7.243512974665482, 5578: 6.54965074223381, 5581: 6.214608098422191, 5582: 5.700443573390686, 5583: 6.551080335043404, 5591: 7.372118028337787, 5592: 7.695757990554761, 5594: 5.988961416889864, 5595: 5.293304824724492, 5596: 4.07753744390572, 5599: 5.988961416889864, 5601: 6.396929655216146, 5604: 5.4680601411351315, 5587: 4.844187086458591, 5588: 3.367295829986474, 5610: 7.243512974665482, 5612: 7.6004023345004, 5955: 6.956545443151569, 5970: 6.620073206530356, 6093: 5.298317366548036, 6095: 5.700443573390686, 6019: 5.703782474656201, 6027: 5.703782474656201, 6033: 8.006367567650246, 6036: 7.313220387090301, 6122: 6.212606095751519, 6123: 7.313220387090301, 6131: 5.4680601411351315, 6139: 7.313220387090301, 6143: 6.802394763324311, 6144: 6.396929655216146, 6045: 5.857933154483459, 6080: 7.600902459542082, 6078: 6.802394763324311, 5976: 4.59511985013459, 5994: 5.4680601411351315, 5992: 6.212606095751519, 6000: 5.703782474656201, 5575: 5.700443573390686, 6004: 5.857933154483459, 6009: 6.498282149476434, 6072: 6.802394763324311, 6076: 6.108135853911675, 6077: 6.5998704992128365, 5574: 5.003946305945459, 5501: 8.131530710604252, 5506: 7.937374696163295, 5508: 5.003946305945459, 5786: 4.59511985013459, 5787: 4.59511985013459, 5788: 4.59511985013459, 5790: 5.703782474656201, 5791: 4.59511985013459, 5792: 4.59511985013459, 5793: 5.003946305945459, 5796: 5.703782474656201, 5800: 5.703782474656201, 5802: 3.367295829986474, 5806: 4.07753744390572, 5808: 5.703782474656201, 5810: 5.703782474656201, 5811: 4.59511985013459, 5497: 8.131530710604252, 5487: 6.745236349484362, 5417: 7.919719760924575, 5418: 7.504391559161238, 5427: 8.438366410870266, 5712: 7.372118028337787, 5735: 6.1092475827643655, 5438: 5.517452896464707, 5443: 5.703782474656201, 5446: 5.703782474656201, 5448: 5.003946305945459, 5820: 8.131530710604252, 5452: 7.682943169878292, 5454: 5.703782474656201, 5756: 6.3818160174060985, 5457: 5.703782474656201, 5459: 5.857933154483459, 5460: 7.003065458786462, 5464: 6.745236349484362, 5475: 7.803843303538772, 5753: 8.157943507105037, 5821: 7.003065458786462, 5822: 7.047517221357296, 5549: 7.346010209913293, 5922: 5.517452896464707, 5916: 5.298317366548036, 5918: 7.313220387090301, 5571: 5.988961416889864, 5572: 7.490529402060711, 5573: 5.517452896464707, 5895: 6.906754778648554, 5894: 5.293304824724492, 5823: 7.937374696163295, 5525: 3.367295829986474, 5848: 4.605170185988092, 5862: 6.54965074223381, 5865: 6.906754778648554, 5867: 7.377133712833954, 5869: 7.313220387090301, 5870: 7.313220387090301, 5871: 5.988961416889864, 5537: 6.802394763324311, 5538: 5.703782474656201, 5542: 6.620073206530356, 5892: 6.907755278982137, 4790: 5.5053315359323625, 3702: 6.1092475827643655, 3705: 7.313220387090301, 3718: 5.517452896464707, 3719: 6.684611727667927, 3743: 6.212606095751519, 3612: 5.703782474656201, 3578: 5.703782474656201, 3580: 6.1092475827643655, 3676: 6.946591302767335, 3679: 5.0106352940962555, 3582: 3.367295829986474, 3591: 6.212606095751519, 3593: 5.988961416889864, 3603: 3.367295829986474, 3686: 7.090076835776092, 3693: 6.396929655216146, 3698: 6.024488213555164, 3610: 5.703782474656201, 3747: 6.551080335043404, 3851: 7.090076835776092, 3799: 6.802394763324311, 3801: 5.703782474656201, 3810: 5.634789603169249, 3811: 5.293304824724492, 3869: 7.090076835776092, 3870: 5.298317366548036, 3776: 8.48673398393153, 3617: 5.703782474656201, 3618: 5.703782474656201, 3619: 6.1092475827643655, 3620: 5.703782474656201, 3622: 5.703782474656201, 3624: 5.703782474656201, 3577: 4.59511985013459, 3650: 6.212606095751519, 3651: 5.438079308923196, 3652: 5.438079308923196, 3653: 7.24422751560335, 3834: 6.8709253057314195, 3773: 5.703782474656201, 3647: 5.003946305945459, 3576: 5.703782474656201, 3569: 5.293304824724492, 3325: 5.003946305945459, 3326: 4.605170185988092, 3327: 5.0106352940962555, 3328: 6.54965074223381, 3320: 6.907755278982137, 3289: 6.956545443151569, 3292: 5.635503633902907, 3294: 5.517452896464707, 3295: 5.293304824724492, 3296: 5.857933154483459, 3470: 5.857933154483459, 3298: 5.298317366548036, 3307: 5.298317366548036, 3317: 5.988961416889864, 3367: 6.684611727667927, 3476: 6.684611727667927, 3509: 5.003946305945459, 3528: 7.43307534889858, 3379: 5.703782474656201, 3533: 6.684611727667927, 3384: 5.703782474656201, 3540: 3.367295829986474, 3541: 5.991464547107982, 3554: 7.600902459542082, 3556: 7.170119543449628, 3562: 4.882801922586371, 3366: 5.992713766508414, 3321: 6.54965074223381, 3322: 6.684611727667927, 3323: 7.090076835776092, 3362: 3.367295829986474, 4331: 7.495541943884256, 4332: 5.517452896464707, 4464: 6.396929655216146, 4366: 6.1092475827643655, 4370: 5.700443573390686, 4371: 6.212606095751519, 4372: 7.438383530044307, 4373: 7.1693500166706, 4330: 6.498282149476434, 4462: 6.476972362889683, 4093: 7.346010209913293, 4095: 5.517452896464707, 4100: 6.1092475827643655, 4105: 5.003946305945459, 4110: 5.857933154483459, 4112: 6.476972362889683, 4117: 7.7406644019172415, 4124: 5.521460917862246, 4277: 6.906754778648554, 4282: 5.820082930352362, 4287: 5.298317366548036, 4300: 6.1092475827643655, 4458: 8.003363058629947, 4307: 7.2078598714324755, 4320: 6.309918278226516, 4321: 6.309918278226516, 4325: 5.857933154483459, 4375: 6.1092475827643655, 4384: 9.51044496442652, 4410: 5.703782474656201, 4723: 5.003946305945459, 4724: 6.54965074223381, 4548: 7.645397699428633, 4551: 5.703782474656201, 4565: 5.703782474656201, 4773: 5.991464547107982, 4779: 5.703782474656201, 4780: 6.54965074223381, 4781: 5.988961416889864, 4518: 6.396929655216146, 4511: 7.313220387090301, 4420: 5.703782474656201, 4421: 5.703782474656201, 4474: 6.802394763324311, 4475: 5.988961416889864, 4481: 6.802394763324311, 4476: 7.313220387090301, 4482: 6.802394763324311, 4484: 6.396929655216146, 4487: 5.517452896464707, 4443: 5.703782474656201, 4445: 5.703782474656201, 4446: 5.703782474656201, 4453: 4.07753744390572, 4506: 5.703782474656201, 4510: 5.703782474656201, 4092: 5.857933154483459, 3960: 5.703782474656201, 3965: 5.703782474656201, 3974: 7.7406644019172415, 3976: 5.703782474656201, 3980: 5.703782474656201, 4029: 4.07753744390572, 4035: 6.802394763324311, 4036: 6.142897250868192, 4037: 5.521460917862246, 4038: 5.521460917862246, 4039: 5.521460917862246, 4041: 5.521460917862246, 3996: 6.396929655216146, 4006: 5.703782474656201, 4015: 5.703782474656201, 4016: 7.313220387090301, 4068: 5.293304824724492, 4127: 6.684611727667927, 4147: 7.692113339595466, 3954: 7.718685495198466, 3953: 5.703782474656201, 3947: 6.1092475827643655, 3871: 6.907755278982137, 4161: 6.56244409369372, 3876: 5.855071922202427, 3878: 7.090076835776092, 3885: 6.802394763324311, 3826: 5.703782474656201, 3897: 5.991464547107982, 3902: 5.991464547107982, 3903: 5.703782474656201, 3942: 5.298317366548036, 4248: 7.600902459542082, 4249: 7.3777589082278725, 4251: 5.521460917862246, 4252: 5.989963420981715, 4265: 4.07753744390572, 4244: 7.170119543449628, 4240: 7.170119543449628, 4163: 7.0825485693553, 4164: 6.856461984594587, 4211: 7.307202314764738, 4069: 4.59511985013459, 4075: 5.703782474656201, 4227: 6.802394763324311, 4229: 6.212606095751519, 715: 5.0106352940962555, 4485: 6.396929655216146, 4573: 5.857933154483459, 4807: 5.991464547107982, 4823: 6.907755278982137, 4610: 5.857933154483459, 4293: 5.703782474656201, 4376: 6.212606095751519, 4422: 6.802394763324311, 5068: 7.692113339595466, 5363: 5.293304824724492, 5371: 8.934718614016768, 4887: 6.54965074223381, 4901: 7.783224016336037, 4923: 6.907755278982137, 5228: 5.703782474656201, 5262: 5.992713766508414, 4696: 5.521460917862246, 5414: 7.090076835776092, 3615: 5.003946305945459, 3661: 5.857933154483459, 3665: 4.605170185988092, 3369: 5.991464547107982, 3527: 3.367295829986474, 3822: 6.214608098422191, 3890: 3.367295829986474, 3941: 5.293304824724492, 4013: 5.703782474656201, 4128: 6.396929655216146, 4148: 7.307202314764738, 5449: 5.293304824724492, 5748: 10.518429918794682, 7169: 7.438383530044307, 7171: 7.438383530044307, 7175: 5.298317366548036, 7218: 7.3777589082278725, 7220: 7.170119543449628, 7221: 6.802394763324311, 7299: 5.991464547107982, 7333: 5.521460917862246, 7343: 5.703782474656201, 7356: 5.521460917862246, 7391: 5.703782474656201, 7396: 5.703782474656201, 7445: 5.298317366548036, 7459: 5.857933154483459, 7471: 6.1092475827643655, 7511: 5.703782474656201, 7512: 5.703782474656201, 7524: 5.703782474656201, 7738: 4.07753744390572, 7737: 4.59511985013459, 7131: 6.309918278226516, 7130: 5.991464547107982, 6740: 6.907755278982137, 6351: 6.1092475827643655, 6354: 6.309918278226516, 6751: 5.003946305945459, 6777: 4.59511985013459, 6904: 4.07753744390572, 6916: 7.313220387090301, 6917: 6.620073206530356, 6953: 4.59511985013459, 6857: 6.1092475827643655, 7066: 5.700443573390686, 7078: 5.700443573390686, 7118: 5.700443573390686, 7770: 7.003065458786462, 7814: 7.9599745280805365, 7938: 7.475152144236126, 7945: 9.258273025731485, 7977: 6.212606095751519, 7978: 7.312553498102598, 7979: 6.212606095751519, 7907: 7.243512974665482, 7912: 5.517452896464707, 7916: 6.85593553025234, 8032: 5.703782474656201, 8092: 5.0106352940962555, 8093: 6.856461984594587, 8096: 5.298317366548036, 8140: 5.298317366548036, 8147: 3.367295829986474, 8155: 5.991464547107982, 7895: 7.0825485693553, 7894: 7.736743682453495, 7815: 8.57376254290413, 7819: 9.010791269515602, 7820: 7.3727463664043285, 7709: 5.0106352940962555, 7849: 5.886104031450156, 7860: 5.991464547107982, 7856: 7.090076835776092, 7735: 7.089243155027514, 7882: 5.700443573390686, 7893: 8.003363058629947, 7670: 5.991464547107982, 6727: 7.24422751560335, 6721: 7.089243155027514, 6717: 5.703782474656201, 5580: 4.59511985013459, 5603: 5.700443573390686, 5605: 6.551080335043404, 5491: 5.703782474656201, 5801: 4.07753744390572, 5778: 4.59511985013459, 5527: 2.70805020110221, 5553: 5.991464547107982, 5554: 6.878326468291325, 6109: 6.214608098422191, 6490: 5.523458920524919, 6508: 6.396929655216146, 6286: 5.703782474656201, 6289: 5.703782474656201, 6574: 5.703782474656201, 6588: 5.703782474656201, 6594: 5.703782474656201, 6595: 5.703782474656201, 6622: 5.298317366548036, 6303: 5.298317366548036, 6635: 5.003946305945459, 6651: 7.438383530044307, 6653: 7.438383530044307, 6660: 5.988961416889864, 6665: 8.411610428841172, 6681: 7.495541943884256, 6699: 5.910796644040527, 6480: 6.214608098422191, 6495: 5.523458920524919, 6147: 5.003946305945459, 6185: 6.214608098422191, 6406: 4.59511985013459, 6268: 6.684611727667927, 6453: 7.192182058713246, 6466: 6.551080335043404, 6467: 4.59511985013459, 6475: 5.703782474656201, 1273: 4.605170185988092, 1301: 5.703782474656201, 1311: 5.521460917862246, 1317: 5.703782474656201, 1321: 5.703782474656201, 1357: 6.923628628138427, 1356: 6.923628628138427, 1227: 5.521460917862246, 677: 5.0106352940962555, 687: 6.398594934535208, 700: 5.298317366548036, 795: 8.101980731853192, 816: 4.605170185988092, 835: 8.434028950155469, 963: 3.367295829986474, 971: 5.857933154483459, 975: 5.857933154483459, 1112: 6.214608098422191, 1226: 5.703782474656201, 1628: 7.823645930834952, 1653: 8.5657928612523, 1915: 5.521460917862246, 1928: 6.906754778648554, 1530: 4.07753744390572, 1607: 8.186185994226083, 657: 5.298317366548036, 1826: 3.367295829986474, 651: 5.0106352940962555, 642: 5.0106352940962555, 21567: 5.438079308923196, 21570: 4.07753744390572, 21771: 6.802394763324311, 21619: 6.214608098422191, 21785: 4.59511985013459, 21732: 4.499809670330265, 21747: 5.808142489980444, 21759: 5.521460917862246, 21766: 4.59511985013459, 21982: 5.521460917862246, 21983: 5.521460917862246, 21987: 5.988961416889864, 21861: 5.0106352940962555, 21865: 3.912023005428146, 21871: 3.367295829986474, 21876: 5.0106352940962555, 21906: 4.605170185988092, 21914: 5.0106352940962555, 21996: 5.298317366548036, 22014: 5.0106352940962555, 21562: 5.438079308923196, 21552: 5.0106352940962555, 21536: 5.438079308923196, 20298: 4.605170185988092, 20299: 5.201255653704905, 20300: 4.07753744390572, 20315: 5.703782474656201, 21329: 5.0106352940962555, 21336: 5.298317366548036, 21347: 5.517452896464707, 21494: 5.0106352940962555, 21498: 5.0106352940962555, 21499: 5.0106352940962555, 21413: 5.0106352940962555, 21422: 4.59511985013459, 21424: 5.991464547107982, 21425: 5.988961416889864, 21432: 6.214608098422191, 21434: 3.367295829986474, 21500: 5.988961416889864, 21447: 5.0106352940962555, 21452: 5.299966006793561, 21456: 5.0106352940962555, 21460: 5.135798437050262, 21455: 5.298317366548036, 21465: 3.367295829986474, 21523: 6.214608098422191, 155: 5.857933154483459, 156: 5.857933154483459, 257: 5.521460917862246, 258: 5.521460917862246, 372: 5.521460917862246, 407: 5.521460917862246, 410: 5.521460917862246, 481: 5.802118375377063, 482: 8.006700845440367, 484: 5.707110264748875, 496: 8.434028950155469, 498: 5.521460917862246, 534: 6.684611727667927, 560: 5.298317366548036, 154: 5.857933154483459, 151: 5.521460917862246, 98: 5.700443573390686, 22015: 5.298317366548036, 22079: 3.367295829986474, 22016: 5.298317366548036, 22111: 5.991464547107982, 22130: 5.857933154483459, 22134: 5.700443573390686, 22139: 5.991464547107982, 22151: 5.991464547107982, 32: 5.0106352940962555, 33: 5.298317366548036, 34: 5.0106352940962555, 45: 5.703782474656201, 51: 5.703782474656201, 49: 5.703782474656201, 60: 5.521460917862246, 85: 5.299966006793561, 8460: 5.857933154483459, 1958: 3.367295829986474, 1722: 5.991464547107982, 3152: 7.736743682453495, 3159: 6.673297967767654, 3138: 7.490529402060711, 3140: 7.030857476116121, 3007: 7.645397699428633, 3014: 7.1631723908466425, 2670: 5.521460917862246, 3278: 7.575584651557793, 3291: 6.309918278226516, 3293: 5.517452896464707, 3314: 5.003946305945459, 3318: 5.988961416889864, 2346: 5.521460917862246, 2349: 3.367295829986474, 2099: 6.214608098422191, 2110: 4.59511985013459, 2167: 6.396929655216146, 2171: 5.857933154483459, 2218: 8.291797105048733, 2219: 8.908018322784887, 2828: 6.212606095751519, 2925: 4.07753744390572, 2967: 6.684611727667927, 2503: 5.703782474656201, 2558: 5.703782474656201, 2579: 5.991464547107982, 2801: 3.367295829986474, 2504: 5.703782474656201, 8475: 5.857933154483459, 8478: 5.857933154483459, 8492: 5.857933154483459, 18925: 4.382026634673881, 18928: 5.0106352940962555, 18935: 5.0106352940962555, 18976: 3.9579519373165457, 18977: 5.293304824724492, 18990: 3.367295829986474, 19046: 5.857933154483459, 19057: 3.367295829986474, 19062: 5.0106352940962555, 19110: 5.0106352940962555, 19129: 5.003946305945459, 19142: 5.298317366548036, 19464: 5.521460917862246, 19467: 5.521460917862246, 19468: 5.521460917862246, 19476: 5.521460917862246, 19154: 4.605170185988092, 19164: 5.0106352940962555, 19413: 4.605170185988092, 19166: 4.605170185988092, 18896: 4.59511985013459, 18617: 5.214935757608986, 18619: 5.438079308923196, 18621: 4.07753744390572, 19350: 5.703782474656201, 18663: 4.07753744390572, 18664: 3.912023005428146, 18669: 5.298317366548036, 18699: 5.298317366548036, 18713: 4.0943445622221, 18720: 4.59511985013459, 19362: 7.600902459542082, 19365: 5.857933154483459, 18761: 4.605170185988092, 18820: 3.367295829986474, 18823: 5.293304824724492, 18826: 3.367295829986474, 18846: 4.23410650459726, 18899: 5.0106352940962555, 19200: 4.605170185988092, 19232: 4.07753744390572, 19990: 5.298317366548036, 19789: 5.298317366548036, 19790: 5.991464547107982, 20002: 4.07753744390572, 20003: 4.605170185988092, 19803: 5.0106352940962555, 19811: 5.293304824724492, 19826: 3.367295829986474, 19844: 5.003946305945459, 19863: 6.396929655216146, 20014: 5.003946305945459, 19899: 4.219507705176107, 19914: 5.0106352940962555, 19915: 3.8918202981106265, 20053: 3.367295829986474, 20077: 2.70805020110221, 20085: 4.07753744390572, 19234: 4.463952184072554, 19240: 5.703782474656201, 19569: 5.298317366548036, 19577: 3.912023005428146, 19597: 5.135798437050262, 19601: 5.298317366548036, 19929: 6.396929655216146, 19634: 5.703782474656201, 19637: 5.991464547107982, 18612: 4.605170185988092, 19674: 6.856461984594587, 19716: 3.367295829986474, 19717: 5.0106352940962555, 19718: 3.367295829986474, 19719: 4.59511985013459, 19749: 6.620073206530356, 19750: 5.556828061699537, 19776: 5.0106352940962555, 19779: 5.298317366548036, 19793: 4.605170185988092, 18586: 5.991464547107982, 18580: 5.703782474656201, 17036: 5.298317366548036, 17064: 5.135798437050262, 17069: 6.396929655216146, 17082: 4.07753744390572, 17086: 4.59511985013459, 17122: 4.59511985013459, 17647: 5.521460917862246, 17161: 5.0106352940962555, 17210: 6.774555260018726, 17213: 3.912023005428146, 17241: 5.0106352940962555, 17273: 4.07753744390572, 17278: 3.912023005428146, 17710: 6.802394763324311, 17318: 6.551080335043404, 17343: 5.075173815233827, 17345: 5.003946305945459, 17361: 5.857933154483459, 17362: 4.07753744390572, 17378: 2.70805020110221, 17379: 3.4011973816621555, 17380: 3.912023005428146, 17381: 2.70805020110221, 17625: 5.703782474656201, 17018: 4.07753744390572, 17017: 5.438079308923196, 16994: 5.298317366548036, 16482: 5.521460917862246, 16483: 6.309918278226516, 16519: 4.59511985013459, 16526: 3.367295829986474, 16587: 4.51085950651685, 16594: 5.293304824724492, 16623: 5.0106352940962555, 16624: 5.703782474656201, 17398: 5.135798437050262, 16644: 5.003946305945459, 16662: 3.367295829986474, 16698: 3.367295829986474, 16740: 3.367295829986474, 16865: 3.653252276470785, 16890: 5.0106352940962555, 16932: 5.298317366548036, 16934: 5.298317366548036, 16950: 4.605170185988092, 16986: 5.0106352940962555, 16659: 5.517452896464707, 20101: 3.367295829986474, 17422: 5.0106352940962555, 17433: 3.152736022363656, 18214: 5.521460917862246, 18271: 3.367295829986474, 18282: 5.298317366548036, 18294: 5.703782474656201, 18300: 3.367295829986474, 18318: 5.298317366548036, 18328: 5.298317366548036, 18350: 4.59511985013459, 18362: 6.1092475827643655, 18366: 5.298317366548036, 18380: 5.298317366548036, 18384: 5.298317366548036, 18392: 5.003946305945459, 18449: 4.59511985013459, 18450: 3.367295829986474, 18462: 5.438079308923196, 18465: 5.298317366548036, 18473: 4.07753744390572, 18506: 4.07753744390572, 18507: 3.367295829986474, 18544: 4.605170185988092, 18557: 2.639057329615259, 18206: 5.703782474656201, 18200: 5.991464547107982, 18194: 5.703782474656201, 17452: 5.0106352940962555, 17737: 8.291797105048733, 17480: 5.0106352940962555, 17481: 6.551080335043404, 17482: 5.991464547107982, 17489: 4.59511985013459, 17527: 5.438079308923196, 17543: 6.907755278982137, 17544: 5.703782474656201, 17786: 4.07753744390572, 17429: 5.703782474656201, 17801: 3.367295829986474, 17862: 5.991464547107982, 17863: 5.247024072160486, 17914: 6.214608098422191, 17916: 4.2626798770413155, 17918: 5.0106352940962555, 17930: 5.293304824724492, 17955: 5.0106352940962555, 18111: 3.912023005428146, 19259: 5.521460917862246, 19273: 3.367295829986474, 18169: 4.59511985013459, 18181: 5.298317366548036, 17809: 5.857933154483459, 20104: 5.521460917862246, 20108: 4.07753744390572, 111: 5.521460917862246, 113: 5.521460917862246, 136: 4.499809670330265, 149: 5.521460917862246, 153: 6.214608098422191, 50: 5.521460917862246, 52: 5.703782474656201, 53: 5.703782474656201, 54: 5.703782474656201, 59: 5.521460917862246, 72: 4.382026634673881, 75: 5.0106352940962555, 88: 5.0106352940962555, 89: 3.367295829986474, 93: 5.521460917862246, 202: 5.521460917862246, 210: 5.521460917862246, 535: 7.438971592395862, 556: 5.298317366548036, 213: 5.521460917862246, 259: 5.521460917862246, 267: 5.521460917862246, 276: 5.521460917862246, 306: 5.521460917862246, 308: 5.521460917862246, 317: 5.703782474656201, 321: 5.703782474656201, 325: 5.521460917862246, 48: 5.521460917862246, 389: 5.521460917862246, 421: 5.703782474656201, 424: 5.521460917862246, 439: 5.5254529391317835, 451: 5.521460917862246, 471: 5.991464547107982, 375: 5.521460917862246, 44: 5.703782474656201, 42: 5.703782474656201, 21428: 6.54965074223381, 21446: 4.07753744390572, 21537: 5.0106352940962555, 21538: 3.912023005428146, 21578: 5.0106352940962555, 21582: 5.0106352940962555, 21586: 4.382026634673881, 21650: 3.367295829986474, 21655: 3.912023005428146, 21782: 3.367295829986474, 21809: 5.293304824724492, 21980: 5.521460917862246, 21840: 4.59511985013459, 21862: 5.0106352940962555, 21866: 5.0106352940962555, 21870: 4.605170185988092, 20109: 3.367295829986474, 20194: 6.580639137284949, 20199: 5.521460917862246, 20228: 5.003946305945459, 20229: 6.907755278982137, 20230: 5.991464547107982, 20236: 4.59511985013459, 20237: 4.61015772749913, 21916: 4.59511985013459, 20245: 5.703782474656201, 20249: 4.31748811353631, 20948: 6.156978985585555, 20963: 4.07753744390572, 21333: 4.605170185988092, 21393: 4.07753744390572, 21395: 5.703782474656201, 21490: 4.564348191467836, 21497: 5.0106352940962555, 20244: 5.003946305945459, 20106: 3.367295829986474, 21917: 4.07753744390572, 21928: 5.438079308923196, 35: 5.003946305945459, 22140: 5.480638923341991, 10260: 3.367295829986474, 16762: 3.6635616461296463, 16772: 3.6635616461296463, 16775: 3.367295829986474, 17690: 3.4339872044851463, 17691: 3.4339872044851463, 19: 3.367295829986474, 16760: 3.6635616461296463, 16461: 5.438079308923196, 16451: 5.521460917862246, 11095: 4.59511985013459, 11357: 5.521460917862246, 11359: 5.47037812763293, 11360: 5.700443573390686, 11135: 2.833213344056216, 11136: 4.59511985013459, 11176: 5.991464547107982, 11184: 5.438079308923196, 11378: 5.703782474656201, 11199: 5.0106352940962555, 11380: 5.298317366548036, 11228: 3.367295829986474, 11231: 4.59511985013459, 11232: 5.703782474656201, 11388: 6.802394763324311, 11391: 7.090076835776092, 11407: 4.07753744390572, 8066: 4.59511985013459, 8067: 5.857933154483459, 11433: 5.438079308923196, 11454: 3.912023005428146, 11456: 5.0106352940962555, 11513: 3.8918202981106265, 11544: 5.521460917862246, 11576: 4.605170185988092, 11580: 5.0106352940962555, 11094: 4.605170185988092, 11079: 3.367295829986474, 10836: 3.367295829986474, 10855: 5.703782474656201, 11304: 5.003946305945459, 11305: 5.700443573390686, 10921: 5.298317366548036, 10927: 5.438079308923196, 10928: 5.438079308923196, 10939: 5.298317366548036, 10944: 5.298317366548036, 10949: 5.703782474656201, 11013: 5.298317366548036, 11016: 5.700443573390686, 11031: 7.313220387090301, 11041: 5.003946305945459, 11346: 3.367295829986474, 11064: 3.367295829986474, 11065: 5.438079308923196, 11082: 5.0106352940962555, 11590: 4.07753744390572, 11599: 5.0106352940962555, 11606: 5.0106352940962555, 12229: 5.703782474656201, 12051: 3.367295829986474, 12062: 4.382026634673881, 12064: 5.135798437050262, 12266: 3.367295829986474, 12244: 5.003946305945459, 12245: 4.07753744390572, 13071: 6.396929655216146, 12331: 4.07753744390572, 12337: 6.214608098422191, 12342: 4.07753744390572, 12361: 5.0106352940962555, 12365: 5.700443573390686, 12401: 3.367295829986474, 12406: 3.367295829986474, 12416: 4.07753744390572, 13108: 5.703782474656201, 12426: 4.07753744390572, 12429: 5.298317366548036, 12432: 4.59511985013459, 12433: 4.07753744390572, 12465: 5.438079308923196, 13119: 5.703782474656201, 12492: 4.07753744390572, 12026: 3.367295829986474, 12190: 5.293304824724492, 11950: 5.0106352940962555, 11938: 5.0106352940962555, 11622: 6.214608098422191, 11623: 3.367295829986474, 11822: 5.857933154483459, 11651: 3.367295829986474, 11656: 6.126869184114185, 11657: 6.551080335043404, 11829: 6.309918278226516, 11671: 5.521460917862246, 11714: 5.076423034634259, 11756: 4.07753744390572, 11777: 6.309918278226516, 11894: 4.605170185988092, 11899: 4.382026634673881, 11909: 5.991464547107982, 12112: 6.309918278226516, 12134: 5.991464547107982, 12135: 5.991464547107982, 11935: 3.367295829986474, 10800: 6.551080335043404, 10775: 5.703782474656201, 10774: 5.703782474656201, 9222: 5.703782474656201, 9223: 5.703782474656201, 8849: 5.703782474656201, 8863: 5.521460917862246, 8877: 6.214608098422191, 8960: 3.367295829986474, 8965: 3.367295829986474, 9033: 5.135798437050262, 9037: 3.367295829986474, 9041: 5.0106352940962555, 9042: 5.0106352940962555, 9043: 4.07753744390572, 9044: 5.703782474656201, 9075: 4.07753744390572, 9078: 4.59511985013459, 9090: 5.298317366548036, 9485: 4.07753744390572, 9507: 5.135798437050262, 10181: 5.521460917862246, 10185: 5.703782474656201, 9547: 5.0106352940962555, 8769: 4.605170185988092, 8764: 5.0106352940962555, 8749: 5.003946305945459, 8707: 3.912023005428146, 8497: 5.857933154483459, 8195: 4.499809670330265, 8233: 6.396929655216146, 8235: 5.0106352940962555, 8303: 5.0106352940962555, 8528: 6.7464121285733745, 8536: 5.517452896464707, 8328: 4.59511985013459, 8329: 4.382026634673881, 8344: 4.02535169073515, 8358: 5.298317366548036, 8542: 3.367295829986474, 8376: 5.003946305945459, 8564: 5.5254529391317835, 8576: 4.59511985013459, 8645: 5.0106352940962555, 8661: 4.605170185988092, 8662: 4.605170185988092, 8663: 3.367295829986474, 8665: 4.59511985013459, 8683: 5.298317366548036, 8357: 5.438079308923196, 12520: 5.003946305945459, 10191: 5.521460917862246, 9634: 4.59511985013459, 10111: 4.382026634673881, 10159: 5.438079308923196, 10160: 5.438079308923196, 10161: 5.438079308923196, 10285: 5.703782474656201, 10171: 3.332204510175204, 10308: 6.214608098422191, 10325: 5.135798437050262, 10331: 5.135798437050262, 10359: 4.248495242049359, 10576: 5.521460917862246, 10578: 5.703782474656201, 10591: 5.298317366548036, 10392: 4.59511985013459, 10423: 6.907755278982137, 10426: 4.343805421853684, 10610: 5.703782474656201, 10452: 4.605170185988092, 10459: 4.07753744390572, 10510: 5.19295685089021, 10758: 3.367295829986474, 10766: 3.367295829986474, 10773: 5.703782474656201, 10106: 5.991464547107982, 10097: 4.605170185988092, 9640: 6.745236349484362, 9661: 5.988961416889864, 9698: 6.745236349484362, 9711: 5.991464547107982, 9741: 5.298317366548036, 9742: 6.551080335043404, 9755: 5.991464547107982, 10193: 6.396929655216146, 9769: 5.652664603477591, 9800: 5.0106352940962555, 9801: 5.703782474656201, 9803: 3.367295829986474, 9589: 4.382026634673881, 9804: 5.293304824724492, 10225: 5.521460917862246, 10243: 5.521460917862246, 9906: 6.802394763324311, 9976: 5.298317366548036, 10265: 5.703782474656201, 10039: 5.521460917862246, 10277: 5.521460917862246, 12533: 5.438079308923196, 12550: 5.298317366548036, 15100: 3.367295829986474, 14627: 5.438079308923196, 15146: 5.703782474656201, 15148: 5.293304824724492, 15149: 5.703782474656201, 14730: 4.252771798816619, 14733: 4.382026634673881, 14752: 5.991464547107982, 14768: 6.214608098422191, 14777: 5.25227342804663, 14783: 4.59511985013459, 14798: 5.517452896464707, 14805: 7.090076835776092, 14863: 5.0106352940962555, 14869: 4.59511985013459, 14870: 5.003946305945459, 14873: 3.367295829986474, 14880: 5.298317366548036, 14905: 4.605170185988092, 14498: 4.07753744390572, 14511: 5.003946305945459, 14516: 5.0106352940962555, 14523: 3.367295829986474, 14527: 5.521460917862246, 14549: 4.59511985013459, 14560: 4.07753744390572, 14561: 4.07753744390572, 14564: 3.367295829986474, 14571: 3.367295829986474, 15038: 6.309918278226516, 15039: 6.309918278226516, 14579: 4.59511985013459, 15070: 3.367295829986474, 15060: 4.07753744390572, 15540: 4.07753744390572, 16382: 3.332204510175204, 16385: 5.293304824724492, 16428: 5.293304824724492, 16430: 4.07753744390572, 16450: 5.0106352940962555, 16381: 5.298317366548036, 15541: 5.703782474656201, 15944: 7.596392304064196, 15550: 5.0106352940962555, 15551: 3.912023005428146, 15991: 5.991464547107982, 16253: 5.703782474656201, 15592: 4.59511985013459, 15613: 3.367295829986474, 15660: 4.07753744390572, 16316: 7.346010209913293, 15683: 5.0106352940962555, 15695: 3.367295829986474, 15016: 4.59511985013459, 15700: 5.0106352940962555, 15729: 5.700109069289892, 15734: 5.0106352940962555, 16333: 5.298317366548036, 16355: 5.991464547107982, 16363: 5.703782474656201, 15822: 3.367295829986474, 15830: 6.211603589401893, 15723: 5.0106352940962555, 15015: 5.703782474656201, 12807: 4.499809670330265, 12817: 5.135798437050262, 13569: 4.07753744390572, 12828: 4.605170185988092, 12829: 4.07753744390572, 12874: 4.59511985013459, 12903: 5.703782474656201, 12946: 5.0106352940962555, 12947: 4.605170185988092, 12974: 5.521460917862246, 13733: 5.7430031878094825, 13736: 5.293304824724492, 13033: 3.367295829986474, 13038: 5.0106352940962555, 13042: 5.298317366548036, 13774: 5.0106352940962555, 13832: 5.293304824724492, 14158: 4.605170185988092, 13854: 5.703782474656201, 12805: 5.135798437050262, 12797: 5.438079308923196, 12787: 5.0106352940962555, 12737: 5.298317366548036, 12551: 5.298317366548036, 12554: 5.298317366548036, 13155: 5.521460917862246, 13157: 5.521460917862246, 13158: 5.521460917862246, 13160: 5.521460917862246, 13166: 5.521460917862246, 12597: 4.59511985013459, 13176: 5.857933154483459, 12614: 5.521460917862246, 12617: 5.298317366548036, 13868: 5.703782474656201, 12650: 4.59511985013459, 12651: 5.0106352940962555, 12677: 5.135798437050262, 12691: 6.1092475827643655, 12716: 3.367295829986474, 12718: 5.703782474656201, 12719: 3.367295829986474, 13484: 8.76389700713946, 13511: 7.313220387090301, 13429: 8.699348067653093, 13431: 8.779357435881062, 13450: 7.937374696163295, 12539: 6.1092475827643655, 13870: 5.521460917862246, 13872: 5.594711379601839, 14320: 5.135798437050262, 14345: 5.517452896464707, 14346: 5.0106352940962555, 14386: 5.0106352940962555, 14387: 5.0106352940962555, 14389: 5.135798437050262, 14390: 5.135798437050262, 14403: 4.07753744390572, 14404: 5.703782474656201, 14408: 4.605170185988092, 14411: 5.857933154483459, 14433: 5.003946305945459, 14447: 5.991464547107982, 14262: 5.0106352940962555, 14261: 4.605170185988092, 14257: 4.382026634673881, 13881: 6.492239835020471, 13901: 5.991464547107982, 13937: 4.59511985013459, 13946: 5.135798437050262, 13950: 4.59511985013459, 13953: 5.521460917862246, 13957: 5.521460917862246, 14014: 5.703782474656201, 14005: 4.59511985013459, 14006: 4.07753744390572, 14212: 5.857933154483459, 14221: 5.123963979403259, 14037: 4.0943445622221, 14050: 4.59511985013459, 14066: 4.605170185988092, 14081: 4.248495242049359, 14109: 5.0106352940962555, 14117: 5.703782474656201, 14254: 5.521460917862246, 14349: 3.912023005428146, 14354: 3.367295829986474, 14367: 5.517452896464707, 14373: 5.298317366548036, 14376: 3.367295829986474, 14380: 4.59511985013459, 14397: 5.0106352940962555, 14401: 7.600902459542082, 14417: 3.367295829986474, 14936: 5.703782474656201, 14937: 5.703782474656201, 14938: 6.504288173536645, 14939: 7.600902459542082, 14266: 5.298317366548036, 14271: 3.367295829986474, 14280: 5.857933154483459, 14291: 3.367295829986474, 14292: 3.367295829986474, 14309: 5.298317366548036, 14315: 5.135798437050262, 14325: 4.59511985013459, 14328: 5.0106352940962555, 14332: 5.0106352940962555, 14453: 4.07753744390572, 14456: 4.07753744390572, 14470: 5.703782474656201, 15024: 5.298317366548036, 14488: 4.59511985013459, 14500: 5.298317366548036, 14503: 5.003946305945459, 14504: 5.517452896464707, 14515: 3.367295829986474, 14517: 5.298317366548036, 14518: 5.298317366548036, 14522: 4.605170185988092, 15014: 5.703782474656201, 15013: 5.521460917862246, 14461: 4.07753744390572, 14462: 3.367295829986474, 15005: 5.521460917862246, 15010: 5.521460917862246, 14432: 4.605170185988092, 14249: 5.438079308923196, 14439: 4.605170185988092, 14248: 5.703782474656201, 14215: 5.703782474656201, 14216: 5.703782474656201, 14217: 5.703782474656201, 14218: 5.703782474656201, 14220: 5.703782474656201, 14222: 5.703782474656201, 14226: 5.703782474656201, 14230: 5.0106352940962555, 14031: 3.912023005428146, 14234: 4.07753744390572, 14039: 4.248495242049359, 14042: 4.0943445622221, 14213: 5.003946305945459, 14004: 5.003946305945459, 13915: 5.0106352940962555, 13923: 5.135798437050262, 14169: 3.367295829986474, 13951: 6.214608098422191, 13952: 5.521460917862246, 13954: 4.912654885736052, 13955: 5.521460917862246, 13959: 5.0106352940962555, 13972: 5.0106352940962555, 13974: 5.298317366548036, 13977: 4.07753744390572, 13979: 5.0106352940962555, 13978: 5.0106352940962555, 14182: 5.991464547107982, 14183: 6.1092475827643655, 14012: 5.293304824724492, 13988: 5.521460917862246, 14000: 5.0106352940962555, 14210: 5.517452896464707, 14060: 3.367295829986474, 14137: 5.521460917862246, 14138: 5.700443573390686, 14140: 5.521460917862246, 14148: 5.521460917862246, 14239: 5.0106352940962555, 14931: 6.684611727667927, 14245: 5.0106352940962555, 14119: 4.07753744390572, 14110: 3.367295829986474, 14069: 3.367295829986474, 14076: 3.367295829986474, 14079: 4.07753744390572, 14080: 3.912023005428146, 14083: 4.59511985013459, 14085: 4.59511985013459, 14090: 3.367295829986474, 14103: 5.438079308923196, 14524: 5.293304824724492, 15026: 5.703782474656201, 14799: 5.703782474656201, 14800: 3.367295829986474, 14804: 5.991464547107982, 14806: 3.367295829986474, 15192: 7.090076835776092, 14811: 5.517452896464707, 14826: 5.298317366548036, 14788: 3.367295829986474, 14732: 3.912023005428146, 14738: 5.0106352940962555, 14743: 3.367295829986474, 14746: 5.703782474656201, 14763: 5.298317366548036, 14767: 3.367295829986474, 14769: 4.59511985013459, 14773: 3.367295829986474, 14780: 5.991464547107982, 14782: 3.367295829986474, 15203: 5.703782474656201, 15204: 5.517452896464707, 15205: 5.703782474656201, 14879: 5.703782474656201, 14886: 5.92775235113638, 14891: 7.24422751560335, 14894: 2.70805020110221, 14898: 3.367295829986474, 14899: 5.857933154483459, 15209: 5.293304824724492, 14901: 3.367295829986474, 14902: 3.367295829986474, 15202: 5.703782474656201, 14827: 6.4457198193855785, 14856: 5.0106352940962555, 14862: 3.367295829986474, 15194: 4.532599493153256, 15195: 5.521460917862246, 15196: 5.521460917862246, 15198: 5.703782474656201, 14708: 3.367295829986474, 14702: 5.0106352940962555, 15090: 5.834810737062605, 15106: 7.090076835776092, 15091: 6.7912214627261855, 15092: 6.756932389247553, 15094: 6.131226489483141, 15101: 6.897704943128636, 15031: 6.19644412779452, 15102: 6.808575622399392, 14611: 5.19295685089021, 14612: 5.19295685089021, 14617: 5.298317366548036, 15139: 5.298317366548036, 14626: 4.59511985013459, 14633: 5.517452896464707, 14634: 5.003946305945459, 14641: 5.857933154483459, 14646: 5.0106352940962555, 14652: 5.298317366548036, 14661: 5.298317366548036, 15147: 4.07753744390572, 14669: 4.07753744390572, 14670: 5.298317366548036, 14682: 3.367295829986474, 14693: 3.367295829986474, 15104: 7.495541943884256, 14594: 6.1092475827643655, 14595: 4.605170185988092, 14603: 5.0106352940962555, 14607: 4.605170185988092, 15107: 5.988961416889864, 15114: 5.521460917862246, 15118: 5.521460917862246, 15128: 5.521460917862246, 15129: 5.19295685089021, 14610: 5.19295685089021, 14604: 5.0106352940962555, 13911: 3.367295829986474, 13354: 3.4339872044851463, 13355: 5.298317366548036, 13351: 3.7376696182833684, 12727: 7.307202314764738, 13370: 5.703782474656201, 13383: 5.703782474656201, 13384: 5.703782474656201, 13454: 7.313220387090301, 13460: 7.003065458786462, 13478: 8.188411308079031, 13350: 2.772588722239781, 13480: 8.76389700713946, 13344: 3.258096538021482, 13345: 2.639057329615259, 13346: 5.0106352940962555, 13418: 6.907755278982137, 13419: 6.907755278982137, 13425: 8.293799608846818, 13430: 8.77940359789435, 13517: 7.736743682453495, 12738: 5.521460917862246, 12741: 3.8918202981106265, 13417: 7.090076835776092, 13490: 9.07096335550754, 13510: 7.897668150726906, 13413: 7.600902459542082, 13165: 5.521460917862246, 13169: 5.293304824724492, 12569: 5.991464547107982, 12576: 5.517452896464707, 12582: 4.07753744390572, 13175: 6.620073206530356, 12615: 4.382026634673881, 12618: 3.912023005428146, 12623: 6.476972362889683, 12625: 5.298317366548036, 12626: 3.8918202981106265, 12627: 5.0106352940962555, 12628: 4.6568134191399295, 12632: 4.290459441148391, 12565: 5.298317366548036, 13163: 5.521460917862246, 12552: 5.298317366548036, 12553: 6.856461984594587, 12555: 5.298317366548036, 12559: 5.298317366548036, 12562: 7.090076835776092, 12563: 5.298317366548036, 12564: 5.298317366548036, 13137: 5.521460917862246, 13141: 5.521460917862246, 13147: 5.521460917862246, 13156: 5.521460917862246, 12750: 3.367295829986474, 12641: 5.991464547107982, 12678: 5.991464547107982, 12679: 5.991464547107982, 12684: 5.521460917862246, 13203: 4.787491742782046, 13204: 5.703782474656201, 12676: 4.382026634673881, 12644: 5.0106352940962555, 13185: 5.857933154483459, 13186: 4.605170185988092, 12649: 5.991464547107982, 13196: 5.857933154483459, 12652: 4.1892000932347795, 12653: 4.59511985013459, 12654: 3.367295829986474, 12658: 5.293304824724492, 12661: 5.991464547107982, 12668: 5.991464547107982, 12674: 3.367295829986474, 14911: 5.300015923183619, 12755: 3.912023005428146, 12757: 5.0106352940962555, 13806: 3.367295829986474, 13814: 3.367295829986474, 13817: 5.0106352940962555, 13831: 5.003946305945459, 13835: 4.59511985013459, 13850: 6.1092475827643655, 13851: 4.867534450455582, 13789: 5.298317366548036, 13008: 4.59511985013459, 13018: 5.0106352940962555, 13019: 5.0106352940962555, 13020: 3.367295829986474, 13029: 7.1308988302963465, 13030: 7.003065458786462, 13035: 5.0106352940962555, 13039: 3.912023005428146, 13040: 5.0106352940962555, 13068: 5.298317366548036, 13760: 5.0106352940962555, 13761: 5.0106352940962555, 13771: 5.0106352940962555, 13779: 5.0106352940962555, 13785: 4.605170185988092, 14150: 5.521460917862246, 13788: 5.703782474656201, 14160: 7.313220387090301, 13890: 5.991464547107982, 13891: 5.988961416889864, 13892: 5.003946305945459, 13898: 5.703782474656201, 13903: 5.438079308923196, 13905: 5.857933154483459, 13853: 6.755792204600291, 14161: 5.521460917862246, 13876: 4.07753744390572, 13879: 4.59511985013459, 14164: 5.799092654460526, 13884: 4.59511985013459, 13735: 6.1092475827643655, 12809: 4.605170185988092, 12810: 6.476972362889683, 12822: 3.367295829986474, 12827: 2.70805020110221, 12804: 4.07753744390572, 12803: 6.744059186311348, 12766: 3.912023005428146, 12767: 4.605170185988092, 12774: 5.703782474656201, 12780: 3.367295829986474, 12783: 5.700443573390686, 13573: 5.857933154483459, 12790: 3.3232358401924436, 12795: 5.521460917862246, 12796: 5.703782474656201, 12830: 5.298317366548036, 13602: 3.367295829986474, 12933: 5.135798437050262, 12943: 5.0106352940962555, 12948: 5.990714265717278, 12951: 5.857933154483459, 13605: 5.799092654460526, 12953: 5.298317366548036, 12958: 5.438079308923196, 12962: 5.298317366548036, 12967: 5.438079308923196, 12968: 5.298317366548036, 12970: 5.438079308923196, 12975: 5.298317366548036, 13610: 5.703782474656201, 13006: 5.857933154483459, 13601: 4.07753744390572, 12927: 4.605170185988092, 12832: 5.003946305945459, 12835: 4.605170185988092, 12839: 4.605170185988092, 12849: 3.367295829986474, 12858: 5.991464547107982, 12859: 5.857933154483459, 12860: 5.135798437050262, 12876: 6.214608098422191, 12892: 5.298317366548036, 12897: 4.07753744390572, 12911: 5.0106352940962555, 12913: 5.0106352940962555, 12915: 5.0106352940962555, 12917: 5.521460917862246, 12921: 5.298317366548036, 12922: 5.003946305945459, 12879: 3.367295829986474, 14923: 4.605170185988092, 16993: 4.605170185988092, 17008: 5.293304824724492, 17009: 5.293304824724492, 17620: 5.703782474656201, 17020: 5.857933154483459, 17621: 5.703782474656201, 17624: 5.857933154483459, 17038: 4.605170185988092, 17058: 4.31748811353631, 16891: 6.214608098422191, 16893: 4.07753744390572, 16894: 4.382026634673881, 16913: 5.768945800562614, 16919: 5.517452896464707, 16929: 4.07753744390572, 16931: 5.298317366548036, 16935: 6.47543271670409, 16939: 5.0106352940962555, 16966: 3.367295829986474, 16971: 5.417477231717294, 16982: 4.59511985013459, 16987: 5.521460917862246, 17610: 5.799092654460526, 16991: 3.367295829986474, 17060: 3.367295829986474, 17061: 3.367295829986474, 17063: 5.135798437050262, 17180: 4.02535169073515, 17184: 5.135798437050262, 17185: 5.0106352940962555, 17192: 5.298317366548036, 17194: 5.003946305945459, 17207: 5.0106352940962555, 17221: 5.0106352940962555, 17222: 5.298317366548036, 17236: 4.59511985013459, 17238: 3.367295829986474, 17173: 6.214608098422191, 17172: 4.605170185988092, 17170: 5.703782474656201, 17652: 5.521460917862246, 17065: 5.135798437050262, 17066: 5.135798437050262, 17068: 6.476972362889683, 17075: 5.857933154483459, 17081: 5.857933154483459, 17070: 5.857933154483459, 17084: 5.703782474656201, 17089: 5.991464547107982, 17090: 5.991464547107982, 17095: 3.367295829986474, 17102: 5.3867860145356445, 17111: 4.605170185988092, 17118: 4.07753744390572, 17644: 7.090076835776092, 17148: 5.0106352940962555, 17154: 4.07753744390572, 17163: 5.703782474656201, 16626: 5.703782474656201, 16640: 4.59511985013459, 16647: 5.0106352940962555, 16652: 4.07753744390572, 16656: 5.0106352940962555, 16665: 7.600902459542082, 16669: 3.367295829986474, 16679: 5.703782474656201, 16682: 4.59511985013459, 16828: 4.2626798770413155, 16829: 4.51085950651685, 16831: 3.828641396489095, 16580: 5.298317366548036, 16588: 5.298317366548036, 16822: 5.703782474656201, 16832: 3.828641396489095, 16599: 4.59511985013459, 16620: 6.214608098422191, 16859: 3.332204510175204, 16870: 5.940171252720432, 16873: 5.0106352940962555, 16874: 3.367295829986474, 16877: 3.367295829986474, 16878: 3.367295829986474, 16882: 4.248495242049359, 16857: 5.003946305945459, 16856: 5.0106352940962555, 16852: 4.59511985013459, 16693: 3.367295829986474, 16704: 5.517452896464707, 16713: 4.983606621708336, 16726: 3.367295829986474, 16746: 4.07753744390572, 16747: 4.07753744390572, 16579: 4.605170185988092, 17547: 5.0106352940962555, 17556: 4.07753744390572, 17560: 5.293304824724492, 17561: 4.59511985013459, 17567: 4.59511985013459, 17576: 5.991464547107982, 17762: 4.07753744390572, 17765: 5.298317366548036, 18014: 5.521460917862246, 17794: 4.382026634673881, 17795: 5.700443573390686, 17790: 6.396929655216146, 17545: 5.0106352940962555, 17533: 6.309918278226516, 17483: 3.332204510175204, 17491: 5.298317366548036, 17750: 8.157943507105037, 17497: 5.0106352940962555, 17503: 5.003946305945459, 17505: 8.242756345714477, 17506: 5.990213765206329, 17811: 5.135798437050262, 17909: 4.07753744390572, 18022: 6.2166061010848646, 17819: 3.367295829986474, 17835: 5.0106352940962555, 17837: 5.003946305945459, 17838: 5.670294630495212, 17843: 5.0106352940962555, 18058: 5.521460917862246, 17854: 4.605170185988092, 17860: 5.991464547107982, 17861: 5.991464547107982, 17853: 3.367295829986474, 17479: 5.0106352940962555, 17280: 4.59511985013459, 17282: 4.605170185988092, 17284: 5.299966006793561, 17285: 6.214608098422191, 17706: 6.396929655216146, 17707: 6.802394763324311, 17708: 6.54965074223381, 17313: 4.59511985013459, 17317: 4.382026634673881, 17242: 4.605170185988092, 17267: 4.59511985013459, 17696: 7.600902459542082, 17277: 4.59511985013459, 17417: 5.991214515852772, 17418: 5.135798437050262, 17424: 3.367295829986474, 17426: 5.857933154483459, 17444: 3.367295829986474, 17472: 5.700443573390686, 17473: 5.703782474656201, 17475: 3.367295829986474, 17476: 6.907755278982137, 17477: 5.517452896464707, 17396: 5.298317366548036, 17394: 5.0106352940962555, 17393: 5.4116460518550396, 17386: 4.59511985013459, 17319: 5.48180490998196, 17322: 5.135798437050262, 17327: 4.59511985013459, 17717: 5.501258210544727, 17337: 5.703782474656201, 17338: 4.07753744390572, 17339: 5.0106352940962555, 17342: 3.367295829986474, 17350: 4.07753744390572, 17363: 3.367295829986474, 16546: 5.0106352940962555, 16167: 6.684611727667927, 16146: 7.495541943884256, 16182: 7.595889917718538, 16176: 6.173786103901937, 16180: 7.824046010856292, 16183: 7.937374696163295, 16184: 5.703782474656201, 16160: 7.824046010856292, 16159: 6.684611727667927, 16106: 6.684611727667927, 16108: 5.703782474656201, 16122: 6.907755278982137, 16125: 6.214608098422191, 16128: 7.495541943884256, 16134: 6.802394763324311, 16135: 5.703782474656201, 16144: 5.703782474656201, 16147: 6.396929655216146, 16149: 6.345636360828596, 16154: 6.684611727667927, 16189: 5.703782474656201, 16227: 6.214608098422191, 16229: 5.799092654460526, 16230: 6.551080335043404, 16235: 7.600902459542082, 16244: 5.703782474656201, 16219: 6.063785208687608, 16217: 6.1092475827643655, 16202: 6.396929655216146, 16203: 6.214608098422191, 16092: 5.521460917862246, 16205: 5.886104031450156, 16206: 6.684611727667927, 16209: 5.991464547107982, 16210: 5.991464547107982, 15273: 6.396929655216146, 15274: 6.396929655216146, 15297: 6.866933284461882, 15298: 7.138866999945524, 15313: 6.212606095751519, 15314: 5.568344503761097, 15363: 6.040254711277414, 15369: 6.040254711277414, 15378: 5.988961416889864, 15428: 6.040254711277414, 15443: 6.4457198193855785, 15450: 6.907755278982137, 15456: 6.476972362889683, 15458: 6.461468176353717, 15482: 6.745236349484362, 15272: 6.396929655216146, 15259: 7.047517221357296, 14925: 6.907755278982137, 14926: 6.684611727667927, 14927: 6.906754778648554, 15241: 6.212606095751519, 15255: 5.991464547107982, 15533: 3.8918202981106265, 15256: 5.991464547107982, 15257: 5.991464547107982, 15258: 6.4457198193855785, 16010: 5.768320995793772, 16011: 7.313220387090301, 16014: 6.309918278226516, 16043: 7.600902459542082, 16044: 6.907755278982137, 16060: 6.907755278982137, 16071: 5.703782474656201, 16072: 6.947168281338972, 16009: 7.313220387090301, 16022: 7.824046010856292, 15535: 5.0106352940962555, 15880: 5.988961416889864, 15549: 3.912023005428146, 15980: 4.07753744390572, 15981: 4.07753744390572, 15558: 4.605170185988092, 15559: 3.332204510175204, 15561: 4.07753744390572, 16020: 6.551080335043404, 16021: 7.495541943884256, 15983: 3.367295829986474, 16562: 3.367295829986474, 16427: 6.212606095751519, 16438: 5.298317366548036, 16439: 5.298317366548036, 16441: 4.605170185988092, 16429: 5.703782474656201, 15836: 5.135798437050262, 15838: 3.367295829986474, 15843: 5.298317366548036, 15846: 4.07753744390572, 16402: 5.517452896464707, 16404: 5.0106352940962555, 16406: 4.07753744390572, 16408: 6.309918278226516, 16409: 3.367295829986474, 16462: 5.293304824724492, 16472: 3.367295829986474, 16492: 5.0106352940962555, 16510: 5.700443573390686, 16517: 3.367295829986474, 16457: 5.298317366548036, 15833: 5.135798437050262, 16456: 4.07753744390572, 15823: 5.135798437050262, 16289: 6.866933284461882, 16290: 6.906754778648554, 16311: 7.438383530044307, 16313: 7.346010209913293, 16315: 7.313220387090301, 16296: 6.212606095751519, 15673: 5.0106352940962555, 15675: 4.897839799950911, 15676: 3.912023005428146, 15677: 3.367295829986474, 15698: 4.605170185988092, 15666: 4.07753744390572, 15662: 5.703782474656201, 15661: 4.07753744390572, 16245: 7.003065458786462, 15568: 5.298317366548036, 15569: 5.298317366548036, 15579: 5.703782474656201, 16257: 5.003946305945459, 15583: 5.857933154483459, 15584: 6.684611727667927, 15600: 4.07753744390572, 15604: 4.59511985013459, 15611: 4.605170185988092, 15622: 4.59511985013459, 15627: 3.367295829986474, 15644: 5.0106352940962555, 15585: 5.0106352940962555, 15761: 3.367295829986474, 15765: 4.59511985013459, 15768: 4.07753744390572, 15769: 4.605170185988092, 15770: 5.703782474656201, 16332: 7.313220387090301, 15782: 4.634728988229636, 15791: 4.07753744390572, 15800: 4.07753744390572, 15801: 3.367295829986474, 15811: 5.438079308923196, 15758: 3.367295829986474, 16328: 5.703782474656201, 15736: 4.07753744390572, 15701: 5.991464547107982, 15702: 5.0106352940962555, 15715: 5.8971538676367405, 15719: 2.639057329615259, 15721: 4.442886522930644, 15728: 5.0106352940962555, 15731: 5.298317366548036, 15735: 5.19295685089021, 8094: 6.856461984594587, 8095: 5.991464547107982, 8106: 3.367295829986474, 8107: 5.703782474656201, 8090: 3.8918202981106265, 8436: 5.521460917862246, 8034: 6.802394763324311, 7913: 7.312553498102598, 7990: 5.703782474656201, 7995: 7.7406644019172415, 8007: 7.495541943884256, 8010: 5.703782474656201, 8012: 5.703782474656201, 8013: 6.684611727667927, 8019: 2.9444389791664403, 8020: 3.044522437723423, 8022: 2.772588722239781, 8042: 5.003946305945459, 8046: 4.07753744390572, 8438: 5.703782474656201, 8129: 3.367295829986474, 8136: 3.367295829986474, 8498: 5.857933154483459, 8199: 5.4680601411351315, 8203: 3.367295829986474, 8209: 4.07753744390572, 8224: 6.802394763324311, 8234: 5.991464547107982, 8242: 5.298317366548036, 8246: 3.367295829986474, 8248: 4.605170185988092, 8253: 5.003946305945459, 8257: 5.0106352940962555, 8261: 4.59511985013459, 8264: 5.298317366548036, 8265: 4.07753744390572, 8484: 5.857933154483459, 8480: 5.857933154483459, 8139: 5.298317366548036, 8142: 5.298317366548036, 8144: 5.0106352940962555, 8154: 5.0106352940962555, 8161: 3.367295829986474, 8173: 5.857933154483459, 8445: 7.494986233950533, 8194: 5.857933154483459, 8459: 5.857933154483459, 8464: 5.857933154483459, 8479: 5.703782474656201, 7867: 6.396929655216146, 7869: 5.298317366548036, 7734: 7.600902459542082, 7875: 6.396929655216146, 7884: 7.243512974665482, 7672: 5.703782474656201, 7674: 7.24422751560335, 7678: 4.59511985013459, 7679: 3.4011973816621555, 7682: 5.003946305945459, 7702: 5.0106352940962555, 7850: 5.298317366548036, 7857: 5.075173815233827, 7859: 8.006367567650246, 7974: 7.089243155027514, 7987: 6.54965074223381, 7911: 7.090543393587734, 7905: 8.070593539949519, 7956: 8.960724500330858, 7946: 8.85352256068954, 8266: 5.703782474656201, 8267: 3.367295829986474, 9257: 4.07753744390572, 8926: 3.367295829986474, 8928: 5.003946305945459, 8927: 4.07753744390572, 8937: 4.605170185988092, 8940: 5.003946305945459, 8941: 5.003946305945459, 8942: 5.0106352940962555, 8958: 6.214608098422191, 9281: 5.950642552587727, 8963: 6.214608098422191, 8973: 3.367295829986474, 8980: 5.0106352940962555, 9256: 4.07753744390572, 8989: 5.0106352940962555, 8903: 3.367295829986474, 8814: 5.703782474656201, 8816: 7.313220387090301, 8820: 3.367295829986474, 8829: 4.248495242049359, 8827: 5.703782474656201, 8828: 5.703782474656201, 8831: 4.248495242049359, 8835: 6.396929655216146, 8845: 5.703782474656201, 8846: 5.0106352940962555, 8872: 5.298317366548036, 8873: 5.298317366548036, 8878: 6.1092475827643655, 8906: 5.19295685089021, 8992: 5.991464547107982, 9000: 7.955425088912672, 9443: 5.003946305945459, 9444: 5.703782474656201, 9445: 5.703782474656201, 9040: 7.003065458786462, 9440: 4.07753744390572, 9433: 6.214608098422191, 9428: 6.214608098422191, 9005: 3.912023005428146, 9006: 3.367295829986474, 9008: 4.59511985013459, 9022: 3.367295829986474, 9031: 3.367295829986474, 9320: 5.303304908059076, 9336: 5.991464547107982, 8812: 4.07753744390572, 9346: 5.298317366548036, 9348: 5.298317366548036, 9362: 5.293304824724492, 9363: 5.517452896464707, 9364: 5.003946305945459, 9383: 3.367295829986474, 9384: 3.367295829986474, 8809: 4.605170185988092, 8807: 3.367295829986474, 8330: 6.396929655216146, 8339: 3.4011973816621555, 8345: 5.003946305945459, 8540: 5.703782474656201, 8371: 4.07753744390572, 8372: 4.07753744390572, 8377: 4.605170185988092, 8555: 5.484796933490655, 8396: 5.0106352940962555, 8403: 3.367295829986474, 8558: 5.521460917862246, 8567: 5.521460917862246, 8419: 5.991464547107982, 8432: 4.59511985013459, 9169: 4.07753744390572, 8575: 5.19295685089021, 8325: 5.298317366548036, 8272: 5.521460917862246, 8277: 4.59511985013459, 8281: 3.367295829986474, 8282: 5.0106352940962555, 8287: 4.07753744390572, 8508: 6.551080335043404, 8509: 5.521460917862246, 8313: 4.07753744390572, 8318: 4.605170185988092, 9171: 5.991464547107982, 8717: 4.07753744390572, 8718: 6.1092475827643655, 8719: 4.02535169073515, 8721: 5.0106352940962555, 8724: 4.59511985013459, 8727: 4.59511985013459, 8730: 4.07753744390572, 8743: 5.135798437050262, 9216: 5.703782474656201, 8753: 5.988961416889864, 8759: 4.605170185988092, 8765: 5.298317366548036, 8772: 5.857933154483459, 8776: 6.309918278226516, 8778: 5.135798437050262, 8780: 5.649326288860142, 8716: 5.0106352940962555, 8714: 3.912023005428146, 8710: 5.0106352940962555, 9172: 5.857933154483459, 8584: 5.0106352940962555, 8586: 3.332204510175204, 8587: 4.59511985013459, 9173: 5.857933154483459, 9174: 5.703782474656201, 8599: 5.298317366548036, 8602: 3.367295829986474, 8609: 5.0106352940962555, 8578: 4.789157022101107, 8611: 3.367295829986474, 8628: 4.59511985013459, 8634: 5.0106352940962555, 8664: 4.605170185988092, 8673: 4.07753744390572, 9186: 5.703782474656201, 8685: 5.438079308923196, 8690: 5.438079308923196, 8695: 6.54965074223381, 8705: 5.0106352940962555, 8612: 4.07753744390572, 7661: 3.367295829986474, 6491: 5.703782474656201, 6492: 6.214608098422191, 6493: 5.988961416889864, 6573: 6.309918278226516, 6575: 5.703782474656201, 6576: 5.703782474656201, 6577: 5.703782474656201, 6482: 5.523458920524919, 6484: 5.267961246533138, 6488: 5.963579343618446, 6578: 5.703782474656201, 6582: 6.309918278226516, 6300: 5.703782474656201, 6616: 6.54965074223381, 6304: 3.367295829986474, 6306: 5.298317366548036, 6310: 6.802394763324311, 6626: 5.703782474656201, 6315: 5.298317366548036, 6652: 6.745236349484362, 6659: 7.600902459542082, 6661: 5.988961416889864, 6672: 8.92252495730139, 6666: 7.644440761556566, 6668: 7.8628820346414905, 6298: 5.703782474656201, 6613: 7.313220387090301, 6583: 5.703782474656201, 6586: 5.703782474656201, 6587: 5.703782474656201, 6589: 6.309918278226516, 6590: 5.703782474656201, 6592: 5.703782474656201, 6593: 5.703782474656201, 6596: 5.703782474656201, 6479: 5.298317366548036, 6597: 5.703782474656201, 6598: 7.047517221357296, 6599: 7.047517221357296, 6600: 6.396929655216146, 6607: 6.396929655216146, 6608: 6.396929655216146, 6611: 7.052721049232323, 6612: 7.313220387090301, 6255: 5.703782474656201, 6258: 5.703782474656201, 6412: 4.59511985013459, 6277: 7.2078598714324755, 6278: 7.549609165154532, 6432: 4.59511985013459, 6451: 5.988961416889864, 6452: 7.003065458786462, 6283: 5.991464547107982, 6284: 5.298317366548036, 6245: 7.346010209913293, 6241: 7.3777589082278725, 6235: 4.07753744390572, 6233: 5.703782474656201, 6154: 6.802394763324311, 6050: 6.856461984594587, 6188: 6.802394763324311, 6190: 7.313220387090301, 6202: 6.1092475827643655, 6402: 7.192182058713246, 6216: 6.212606095751519, 6405: 5.703782474656201, 6228: 5.003946305945459, 6187: 5.517452896464707, 6468: 3.367295829986474, 6478: 5.541302760075785, 6477: 5.517452896464707, 6700: 6.906754778648554, 7196: 6.212606095751519, 7199: 6.212606095751519, 7245: 6.214608098422191, 7248: 6.1092475827643655, 7263: 5.703782474656201, 7276: 7.762170607138205, 7290: 5.003946305945459, 7285: 6.54965074223381, 7305: 5.003946305945459, 7319: 6.1092475827643655, 6890: 5.703782474656201, 7156: 5.703782474656201, 7163: 7.003065458786462, 7339: 4.07753744390572, 7520: 6.1092475827643655, 7525: 5.991464547107982, 7535: 5.703782474656201, 7536: 5.703782474656201, 7539: 5.991464547107982, 7552: 3.2268439945173775, 7559: 6.856461984594587, 7744: 5.7430031878094825, 7575: 5.940171252720432, 7588: 6.476972362889683, 7591: 7.31986492980897, 7653: 6.1092475827643655, 7659: 4.59511985013459, 7519: 5.991464547107982, 7518: 4.836281906951478, 7510: 5.298317366548036, 7378: 6.1092475827643655, 7380: 5.703782474656201, 7385: 5.521460917862246, 7389: 5.703782474656201, 7403: 5.857933154483459, 7415: 5.857933154483459, 7423: 5.298317366548036, 7424: 5.003946305945459, 7426: 5.857933154483459, 7435: 5.298317366548036, 7439: 5.703782474656201, 7448: 5.703782474656201, 7469: 5.857933154483459, 7483: 5.857933154483459, 7489: 5.703782474656201, 7495: 5.703782474656201, 6752: 6.192362489474872, 6761: 6.309918278226516, 6765: 6.214608098422191, 6363: 4.07753744390572, 6364: 6.802394763324311, 6372: 5.703782474656201, 6778: 5.991464547107982, 6780: 5.703782474656201, 6909: 7.170119543449628, 6910: 7.170119543449628, 6911: 6.1092475827643655, 6352: 7.718685495198466, 6708: 5.700443573390686, 6722: 5.631211781821365, 6326: 6.54965074223381, 6724: 6.396929655216146, 6725: 6.338081579406941, 6735: 5.181783550292085, 6342: 5.857933154483459, 6347: 5.991464547107982, 6323: 5.003946305945459, 6845: 5.703782474656201, 6861: 6.212606095751519, 6884: 3.367295829986474, 7081: 5.988961416889864, 7082: 6.54965074223381, 6798: 7.346010209913293, 6803: 7.346010209913293, 6805: 8.216088098632316, 6812: 7.7406644019172415, 6816: 5.703782474656201, 6818: 5.703782474656201, 6820: 7.1308988302963465, 6827: 6.802394763324311, 6835: 6.1092475827643655, 6841: 7.783224016336037, 6842: 6.396929655216146, 11625: 3.367295829986474, 11626: 4.07753744390572, 11644: 3.367295829986474, 11645: 5.298317366548036, 11653: 5.0106352940962555, 11655: 7.600902459542082, 11828: 6.802394763324311, 11830: 5.703782474656201, 11679: 5.417477231717294, 11689: 5.0106352940962555, 11612: 5.857933154483459, 11560: 5.521460917862246, 11562: 3.367295829986474, 11566: 5.991464547107982, 11568: 4.59511985013459, 11575: 5.0106352940962555, 11578: 5.44673737166631, 11598: 3.367295829986474, 11604: 3.8918202981106265, 11607: 5.298317366548036, 11691: 3.912023005428146, 11880: 5.799092654460526, 11758: 4.605170185988092, 11776: 4.499809670330265, 11780: 3.367295829986474, 11782: 4.07753744390572, 11783: 5.003946305945459, 11786: 3.367295829986474, 11917: 3.367295829986474, 11744: 6.214608098422191, 11865: 3.858622228701031, 11707: 6.551080335043404, 11712: 5.298317366548036, 11832: 3.367295829986474, 11833: 4.07753744390572, 11834: 3.367295829986474, 11731: 3.367295829986474, 11856: 3.332204510175204, 11860: 3.367295829986474, 11861: 3.367295829986474, 11863: 3.367295829986474, 11501: 4.59511985013459, 11494: 5.517452896464707, 11224: 4.59511985013459, 11227: 4.605170185988092, 11235: 5.991464547107982, 11236: 5.991464547107982, 11241: 4.605170185988092, 11246: 3.367295829986474, 11389: 6.802394763324311, 11249: 4.59511985013459, 11221: 4.59511985013459, 11220: 3.367295829986474, 11212: 4.59511985013459, 11160: 6.551080335043404, 11167: 4.07753744390572, 11168: 3.367295829986474, 11172: 5.0106352940962555, 11175: 5.703782474656201, 11191: 5.0106352940962555, 11374: 5.517452896464707, 11377: 5.991464547107982, 11379: 5.298317366548036, 11381: 5.298317366548036, 11447: 3.367295829986474, 11464: 4.59511985013459, 11468: 5.0106352940962555, 11471: 4.31748811353631, 11477: 3.367295829986474, 11481: 4.605170185988092, 11484: 4.605170185988092, 11485: 5.517452896464707, 11487: 3.367295829986474, 11493: 5.517452896464707, 11445: 3.912023005428146, 11441: 4.31748811353631, 11439: 5.0106352940962555, 11250: 5.517452896464707, 11251: 3.367295829986474, 11255: 4.248495242049359, 11256: 5.299966006793561, 11258: 3.367295829986474, 8081: 5.703782474656201, 8070: 3.912023005428146, 8076: 5.0106352940962555, 11415: 4.605170185988092, 11417: 5.95316540917378, 11427: 3.367295829986474, 11159: 6.1092475827643655, 12113: 7.003065458786462, 12131: 7.090076835776092, 12320: 4.61512051684126, 12349: 4.07753744390572, 12352: 5.135798437050262, 13079: 5.484796933490655, 12355: 5.991464547107982, 12370: 5.0106352940962555, 12376: 4.59511985013459, 12381: 4.59511985013459, 12384: 3.367295829986474, 12386: 5.298317366548036, 12389: 4.07753744390572, 12390: 5.0106352940962555, 12318: 4.605170185988092, 12260: 5.293304824724492, 12295: 7.377133712833954, 12302: 7.494986233950533, 12306: 6.212606095751519, 12248: 5.0106352940962555, 12254: 4.07753744390572, 12313: 3.367295829986474, 13085: 5.857933154483459, 12475: 5.438079308923196, 12476: 7.600902459542082, 12477: 5.438079308923196, 13118: 5.703782474656201, 12483: 4.59511985013459, 12497: 5.521460917862246, 12498: 5.521460917862246, 12521: 5.298317366548036, 12537: 5.298317366548036, 12541: 5.298317366548036, 12542: 5.298317366548036, 12543: 5.298317366548036, 12549: 5.438079308923196, 12466: 7.549609165154532, 12464: 7.438383530044307, 13086: 7.3777589082278725, 13101: 7.307202314764738, 13102: 6.792344427470809, 12414: 6.063785208687608, 12418: 3.367295829986474, 12259: 5.517452896464707, 12431: 3.367295829986474, 12434: 5.298317366548036, 12442: 3.367295829986474, 12444: 5.293304824724492, 12457: 3.367295829986474, 12459: 5.703782474656201, 12461: 5.298317366548036, 12424: 5.298317366548036, 12257: 5.293304824724492, 12286: 3.367295829986474, 12184: 5.700443573390686, 12188: 6.802394763324311, 11947: 5.008633291425583, 11948: 4.382026634673881, 11954: 4.07753744390572, 12133: 5.991464547107982, 12168: 3.367295829986474, 11964: 5.0106352940962555, 12172: 4.59511985013459, 12173: 3.367295829986474, 11928: 5.0106352940962555, 12197: 5.857933154483459, 12058: 4.382026634673881, 12063: 6.396929655216146, 12065: 6.396929655216146, 12069: 5.703782474656201, 12071: 4.59511985013459, 12072: 6.1092475827643655, 12075: 4.605170185988092, 12077: 5.700443573390686, 12085: 4.382026634673881, 12086: 3.912023005428146, 12095: 3.367295829986474, 12101: 4.07753744390572, 12269: 6.54965074223381, 12273: 6.309918278226516, 12275: 5.700443573390686, 12053: 5.298317366548036, 12232: 5.860786223465865, 12231: 5.860786223465865, 12199: 5.5254529391317835, 12200: 5.703782474656201, 11992: 5.298317366548036, 12205: 5.484796933490655, 12211: 6.633318433280377, 11998: 5.0106352940962555, 12006: 4.59511985013459, 12009: 3.367295829986474, 12011: 3.367295829986474, 12013: 3.367295829986474, 12014: 5.517452896464707, 12015: 3.367295829986474, 12029: 3.367295829986474, 12033: 4.605170185988092, 12041: 4.59511985013459, 12042: 5.0106352940962555, 12045: 5.298317366548036, 11150: 5.517452896464707, 9890: 3.367295829986474, 9891: 4.59511985013459, 9895: 3.367295829986474, 9898: 4.07753744390572, 9907: 5.293304824724492, 9910: 4.605170185988092, 9913: 5.003946305945459, 9902: 4.605170185988092, 9903: 5.0106352940962555, 9905: 7.01211529430638, 9936: 5.299966006793561, 9937: 4.07753744390572, 9939: 5.293304824724492, 9943: 3.367295829986474, 9945: 4.59511985013459, 9946: 5.703782474656201, 9950: 4.605170185988092, 9955: 5.988961416889864, 9960: 5.0106352940962555, 9883: 5.298317366548036, 10254: 3.367295829986474, 10242: 4.8283137373023015, 9813: 4.07753744390572, 9817: 4.07753744390572, 9833: 4.07753744390572, 9839: 6.396929655216146, 9842: 4.605170185988092, 9844: 5.417210896488447, 9865: 4.605170185988092, 9871: 4.382026634673881, 9969: 3.367295829986474, 10096: 4.605170185988092, 10107: 5.298317366548036, 10127: 5.0106352940962555, 10130: 3.367295829986474, 10145: 8.648221453822641, 10283: 6.956545443151569, 10163: 7.27931883541462, 10172: 3.367295829986474, 10095: 3.367295829986474, 10089: 4.59511985013459, 9977: 7.090076835776092, 9997: 5.991464547107982, 10000: 4.943782987108415, 10004: 3.367295829986474, 10008: 4.59511985013459, 10272: 6.222576268071369, 10010: 5.991464547107982, 10012: 4.605170185988092, 10036: 6.214608098422191, 10049: 5.594711379601839, 10051: 4.605170185988092, 10063: 5.0106352940962555, 10064: 5.298317366548036, 10085: 3.367295829986474, 9802: 5.857933154483459, 9479: 5.298317366548036, 9484: 6.214608098422191, 9511: 5.0106352940962555, 9518: 5.480638923341991, 9535: 5.0106352940962555, 10180: 5.521460917862246, 10182: 5.521460917862246, 10183: 5.521460917862246, 9539: 5.438079308923196, 9546: 5.703782474656201, 9552: 5.857933154483459, 9556: 3.367295829986474, 9564: 4.59511985013459, 9468: 5.860786223465865, 9165: 5.703782474656201, 9049: 4.605170185988092, 9447: 5.293304824724492, 9568: 5.991464547107982, 9063: 5.003946305945459, 9086: 3.367295829986474, 9465: 5.707110264748875, 9153: 5.0106352940962555, 9064: 3.367295829986474, 9570: 5.0106352940962555, 9572: 5.0106352940962555, 9717: 4.07753744390572, 9719: 6.214608098422191, 9745: 6.620073206530356, 9746: 6.745236349484362, 9749: 3.367295829986474, 9751: 3.367295829986474, 9753: 6.745236349484362, 10197: 6.396929655216146, 9764: 3.367295829986474, 9765: 3.367295829986474, 9768: 6.684611727667927, 9778: 3.367295829986474, 9780: 5.0106352940962555, 9715: 5.298317366548036, 9709: 3.367295829986474, 9697: 7.495541943884256, 9587: 5.521460917862246, 9591: 5.003946305945459, 9593: 5.293304824724492, 9594: 5.298317366548036, 9601: 6.745236349484362, 9606: 5.293304824724492, 9609: 6.309918278226516, 9622: 3.367295829986474, 9571: 5.0106352940962555, 9630: 5.700443573390686, 9639: 7.1308988302963465, 9641: 5.700443573390686, 9659: 6.745236349484362, 9662: 5.857933154483459, 9665: 6.802394763324311, 9670: 5.700443573390686, 9672: 6.214608098422191, 9674: 6.214608098422191, 9687: 6.745236349484362, 9696: 6.309918278226516, 9633: 6.551080335043404, 11154: 3.367295829986474, 10945: 5.799092654460526, 11332: 5.0106352940962555, 11335: 5.521460917862246, 10953: 5.0106352940962555, 11336: 6.309918278226516, 11337: 5.521460917862246, 10980: 3.4011973816621555, 10996: 6.620073206530356, 10999: 4.605170185988092, 11005: 5.0106352940962555, 11012: 5.438079308923196, 11027: 5.003946305945459, 10938: 5.0106352940962555, 10908: 5.298317366548036, 11303: 6.1092475827643655, 10841: 4.605170185988092, 10846: 4.07753744390572, 10849: 4.59511985013459, 10853: 5.0106352940962555, 10863: 5.517452896464707, 10865: 5.703782474656201, 10871: 4.59511985013459, 10881: 5.293304824724492, 11315: 4.07753744390572, 11316: 4.07753744390572, 11317: 4.07753744390572, 11319: 4.07753744390572, 11321: 5.003946305945459, 10906: 5.298317366548036, 10907: 5.298317366548036, 11028: 5.991464547107982, 11029: 6.214608098422191, 11352: 9.209439966733019, 11083: 6.214608098422191, 11099: 5.135798437050262, 11107: 3.367295829986474, 11111: 5.521460917862246, 11119: 4.248495242049359, 11122: 4.07753744390572, 11131: 5.0106352940962555, 11134: 5.135798437050262, 11151: 5.700443573390686, 11153: 5.517452896464707, 11148: 5.517452896464707, 11062: 3.367295829986474, 11032: 6.907755278982137, 11035: 6.214608098422191, 10838: 2.639057329615259, 10815: 4.605170185988092, 10575: 5.003946305945459, 10370: 3.367295829986474, 10371: 3.8918202981106265, 10391: 5.521460917862246, 10394: 5.008633291425583, 10401: 6.551080335043404, 10415: 3.367295829986474, 10417: 5.003946305945459, 10418: 3.367295829986474, 10599: 5.703782474656201, 10421: 6.684611727667927, 10620: 6.956545443151569, 10632: 6.7464121285733745, 10641: 6.76849321164863, 10657: 5.293304824724492, 10658: 6.396929655216146, 10574: 5.703782474656201, 10356: 8.517193191416238, 10348: 5.135798437050262, 10286: 5.857933154483459, 10287: 4.59511985013459, 10561: 6.212606095751519, 10309: 5.991464547107982, 10323: 7.7406644019172415, 10661: 7.313220387090301, 10563: 7.438383530044307, 10567: 5.703782474656201, 10328: 5.991464547107982, 10334: 5.135798437050262, 10335: 4.07753744390572, 10340: 5.135798437050262, 10343: 5.135798437050262, 10667: 6.684611727667927, 10679: 6.856461984594587, 11287: 5.857933154483459, 10724: 4.07753744390572, 11288: 5.703782474656201, 10740: 4.605170185988092, 10754: 5.0106352940962555, 10755: 5.0106352940962555, 10759: 4.07753744390572, 10764: 3.367295829986474, 10782: 5.521460917862246, 10783: 5.521460917862246, 10788: 5.521460917862246, 10797: 3.367295829986474, 10798: 5.0106352940962555, 10801: 5.0106352940962555, 10803: 5.0106352940962555, 10807: 3.367295829986474, 10810: 4.07753744390572, 10722: 4.07753744390572, 10721: 4.605170185988092, 10715: 3.367295829986474, 10558: 5.0106352940962555, 10683: 6.311734809152915, 10687: 6.956545443151569, 10450: 5.293304824724492, 10457: 5.0106352940962555, 10468: 4.605170185988092, 10469: 4.605170185988092, 10494: 5.003946305945459, 10697: 5.993961427306569, 10501: 5.438079308923196, 10677: 6.856461984594587, 10544: 2.833213344056216, 10703: 5.521460917862246, 10549: 5.0106352940962555, 10708: 5.521460917862246, 10709: 5.521460917862246, 20931: 5.5254529391317835, 20251: 4.31748811353631, 20250: 5.298317366548036, 19186: 5.0106352940962555, 19187: 4.07753744390572, 19191: 3.367295829986474, 19192: 3.367295829986474, 19221: 5.298317366548036, 19223: 5.703782474656201, 19516: 6.608000625296087, 19236: 5.0106352940962555, 19564: 5.700443573390686, 19588: 5.991464547107982, 19598: 5.293304824724492, 19153: 4.605170185988092, 18929: 3.367295829986474, 18947: 5.44673737166631, 18967: 3.367295829986474, 18968: 4.605170185988092, 18999: 4.324132656254979, 19041: 5.703782474656201, 19052: 5.521460917862246, 19071: 4.59511985013459, 19114: 5.293304824724492, 19120: 5.0106352940962555, 19122: 4.59511985013459, 19141: 5.0106352940962555, 19600: 5.135798437050262, 19989: 7.313220387090301, 19818: 6.396929655216146, 19827: 3.912023005428146, 19830: 3.8918202981106265, 19860: 4.605170185988092, 19866: 4.59511985013459, 19780: 3.912023005428146, 19778: 5.0106352940962555, 19763: 5.517452896464707, 19638: 6.214608098422191, 19650: 5.703782474656201, 19672: 5.991464547107982, 19694: 4.07753744390572, 19728: 4.59511985013459, 19729: 3.367295829986474, 19731: 4.59511985013459, 19732: 5.0106352940962555, 19736: 4.07753744390572, 19738: 3.367295829986474, 19740: 4.02535169073515, 19712: 3.367295829986474, 19720: 3.367295829986474, 19723: 3.367295829986474, 19727: 4.59511985013459, 19730: 4.07753744390572, 19879: 4.07753744390572, 18130: 3.367295829986474, 18170: 4.59511985013459, 18171: 3.367295829986474, 18201: 5.991464547107982, 18231: 5.298317366548036, 18249: 5.298317366548036, 18264: 5.298317366548036, 18284: 5.298317366548036, 18320: 5.438079308923196, 18329: 5.703782474656201, 18364: 5.298317366548036, 18387: 3.367295829986474, 18406: 5.298317366548036, 18413: 5.298317366548036, 18417: 5.438079308923196, 18422: 4.07753744390572, 18443: 4.07753744390572, 18444: 4.07753744390572, 18120: 3.912023005428146, 18119: 4.59511985013459, 18008: 6.214608098422191, 17526: 5.298317366548036, 17546: 5.700443573390686, 17758: 4.02535169073515, 17777: 3.367295829986474, 17845: 4.07753744390572, 17866: 6.303790450472523, 17876: 3.367295829986474, 18065: 6.54965074223381, 17967: 3.367295829986474, 17992: 5.0106352940962555, 18100: 5.799092654460526, 18118: 3.367295829986474, 19366: 5.991464547107982, 19367: 5.991464547107982, 18753: 5.44673737166631, 18845: 5.0106352940962555, 18872: 5.0106352940962555, 18875: 5.298317366548036, 18888: 5.293304824724492, 18898: 4.59511985013459, 18749: 5.0106352940962555, 18733: 5.988961416889864, 18491: 5.438079308923196, 18495: 3.367295829986474, 19312: 5.703782474656201, 18527: 4.07753744390572, 18549: 4.59511985013459, 18550: 4.59511985013459, 18596: 5.0106352940962555, 18620: 5.438079308923196, 18666: 5.521460917862246, 18688: 5.298317366548036, 18716: 4.248495242049359, 18721: 4.0943445622221, 18638: 5.0106352940962555, 21872: 4.07753744390572, 21873: 5.075173815233827, 21991: 4.07753744390572, 21891: 5.0106352940962555, 21894: 4.07753744390572, 22040: 5.0106352940962555, 22087: 4.787491742782046, 22088: 4.564348191467836, 22091: 5.19295685089021, 22092: 5.19295685089021, 22057: 3.367295829986474, 21857: 5.0106352940962555, 22108: 5.857933154483459, 21768: 4.59511985013459, 21643: 5.293304824724492, 21644: 6.476972362889683, 21688: 6.214608098422191, 21695: 5.0106352940962555, 21716: 5.0106352940962555, 21723: 5.298317366548036, 21767: 4.110873864173311, 21808: 5.003946305945459, 21811: 5.298317366548036, 21963: 6.621405651764134, 21964: 6.634633357861686, 464: 5.703782474656201, 479: 5.703782474656201, 354: 5.556828061699537, 335: 5.521460917862246, 22135: 5.003946305945459, 21585: 5.0106352940962555, 133: 5.521460917862246, 320: 5.703782474656201, 22160: 3.367295829986474, 21584: 5.0106352940962555, 20383: 7.114769448366463, 20388: 7.495541943884256, 20391: 7.600902459542082, 20517: 7.740446986979978, 20541: 7.090076835776092, 20689: 7.090076835776092, 20881: 6.802394763324311, 20235: 5.003946305945459, 20248: 4.07753744390572, 20254: 5.0106352940962555, 20936: 5.700443573390686, 20942: 5.003946305945459, 20946: 4.605170185988092, 20307: 5.993961427306569, 20382: 7.114769448366463, 20381: 7.450079569807499, 20377: 7.549609165154532, 20044: 3.8918202981106265, 20054: 3.8918202981106265, 20078: 4.605170185988092, 20149: 6.802394763324311, 20151: 5.700443573390686, 20158: 6.684611727667927, 20173: 6.54965074223381, 20083: 5.0106352940962555, 20118: 3.367295829986474, 20322: 3.367295829986474, 20205: 3.367295829986474, 20216: 5.703782474656201, 20227: 6.214608098422191, 20329: 4.07753744390572, 20221: 6.1092475827643655, 21353: 8.242756345714477, 21356: 5.703782474656201, 21511: 4.07753744390572, 21512: 4.07753744390572, 21513: 4.07753744390572, 21517: 4.07753744390572, 21524: 5.0106352940962555, 21526: 5.991464547107982, 21565: 5.857933154483459, 21566: 5.517452896464707, 21401: 2.70805020110221, 21488: 5.988961416889864, 17502: 5.003946305945459, 14539: 4.324132656254979, 14569: 3.367295829986474, 14505: 3.367295829986474, 14495: 3.367295829986474, 15012: 5.521460917862246, 15008: 5.521460917862246, 14479: 5.991464547107982, 15061: 6.309918278226516, 14584: 5.298317366548036, 14776: 5.0106352940962555, 14599: 3.367295829986474, 15115: 5.521460917862246, 15121: 5.521460917862246, 14620: 5.19295685089021, 14628: 5.438079308923196, 14653: 3.912023005428146, 14660: 5.298317366548036, 14754: 5.517452896464707, 13833: 5.857933154483459, 13836: 5.857933154483459, 13841: 5.293304824724492, 13852: 6.206898455352139, 13878: 5.298317366548036, 13896: 5.003946305945459, 13043: 5.0106352940962555, 12831: 4.59511985013459, 12840: 5.135798437050262, 12862: 3.367295829986474, 12905: 5.298317366548036, 13933: 3.367295829986474, 12934: 5.003946305945459, 12963: 3.367295829986474, 12972: 5.298317366548036, 12990: 5.438079308923196, 15315: 5.988961416889864, 14344: 4.07753744390572, 14355: 4.07753744390572, 14375: 5.991464547107982, 14008: 5.0106352940962555, 14011: 5.0106352940962555, 14231: 5.0106352940962555, 14038: 5.0106352940962555, 14043: 4.248495242049359, 14116: 4.59511985013459, 14136: 6.744059186311348, 15427: 5.003946305945459, 15445: 6.721425700790643, 16661: 5.0106352940962555, 16697: 5.0106352940962555, 16860: 4.605170185988092, 16945: 4.59511985013459, 16507: 5.0106352940962555, 16536: 5.298317366548036, 16567: 4.605170185988092, 17007: 6.396929655216146, 17323: 6.684611727667927, 17348: 4.07753744390572, 17404: 4.605170185988092, 17407: 4.07753744390572, 17412: 4.605170185988092, 17455: 4.59511985013459, 17067: 7.438383530044307, 17114: 3.367295829986474, 17224: 5.438079308923196, 17251: 4.59511985013459, 17305: 3.367295829986474, 16161: 6.492239835020471, 16162: 6.492239835020471, 16148: 6.345636360828596, 15459: 7.114769448366463, 15527: 3.367295829986474, 15552: 6.856461984594587, 15562: 5.703782474656201, 15442: 6.396929655216146, 15779: 5.298317366548036, 15802: 5.298317366548036, 15825: 5.988961416889864, 16405: 5.991464547107982, 16416: 4.605170185988092, 15621: 5.517452896464707, 15693: 5.703782474656201, 6481: 6.212606095751519, 6602: 7.047517221357296, 6606: 6.396929655216146, 6609: 7.047517221357296, 6397: 5.910796644040527, 5874: 6.906754778648554, 5555: 6.580639137284949, 5566: 7.313886831633462, 5590: 6.54965074223381, 5628: 7.649216319820633, 6621: 6.396929655216146, 7137: 5.988961416889864, 7191: 5.476463551931511, 7192: 4.59511985013459, 7198: 6.212606095751519, 7035: 5.703782474656201, 6872: 6.212606095751519, 6702: 6.684611727667927, 6707: 5.700443573390686, 6736: 5.869296913133774, 6764: 2.70805020110221, 5809: 4.59511985013459, 4281: 6.551080335043404, 7311: 5.521460917862246, 5377: 8.098946748943339, 8062: 5.857933154483459, 5736: 4.59511985013459, 5075: 5.991464547107982, 5087: 6.1092475827643655, 5144: 6.802394763324311, 10592: 4.48863636973214, 10413: 3.4011973816621555, 10642: 6.956545443151569, 10678: 7.313220387090301, 10700: 5.521460917862246, 11341: 5.521460917862246, 10321: 3.367295829986474, 9509: 5.293304824724492, 10184: 6.396929655216146, 9619: 6.214608098422191, 9733: 6.745236349484362, 10226: 5.703782474656201, 10249: 7.824046010856292, 10274: 5.703782474656201, 10086: 5.991464547107982, 11014: 3.367295829986474, 11017: 3.367295829986474, 11867: 3.367295829986474, 11746: 4.31748811353631, 11888: 4.07753744390572, 12130: 6.684611727667927, 12218: 7.3783837129967145, 12224: 4.605170185988092, 11628: 4.59511985013459, 11545: 5.521460917862246, 9466: 5.484796933490655, 8023: 2.772588722239781, 8485: 4.07753744390572, 8486: 5.857933154483459, 8487: 3.367295829986474, 8494: 5.703782474656201, 7830: 5.043425116919247, 7858: 5.003946305945459, 7855: 3.367295829986474, 9434: 6.214608098422191, 9441: 6.214608098422191, 9448: 5.703782474656201, 9453: 5.521460917862246, 9460: 5.860786223465865, 9430: 6.214608098422191, 9304: 3.367295829986474, 8324: 5.003946305945459, 8539: 5.857933154483459, 8751: 5.003946305945459, 8847: 5.857933154483459, 8913: 5.0106352940962555, 945: 5.0106352940962555, 992: 4.07753744390572, 996: 3.367295829986474, 997: 3.367295829986474, 1010: 5.988961416889864, 1015: 6.1092475827643655, 1016: 5.293304824724492, 808: 5.298317366548036, 813: 5.298317366548036, 831: 8.434028950155469, 1067: 5.517452896464707, 1807: 4.9344739331306915, 1824: 3.367295829986474, 1874: 3.367295829986474, 1648: 6.620073206530356, 1164: 6.734591659972948, 1345: 8.852378886511985, 1382: 3.367295829986474, 1419: 5.857933154483459, 802: 5.5254529391317835, 491: 6.398594934535208, 541: 5.298317366548036, 553: 5.0106352940962555, 478: 9.62911649414402, 790: 5.484796933490655, 638: 5.940171252720432, 784: 5.521460917862246, 3297: 3.912023005428146, 3160: 7.390798521735676, 3391: 5.293304824724492, 3625: 6.856461984594587, 3844: 6.2166061010848646, 3861: 4.948759890378168, 3621: 6.802394763324311, 3360: 3.367295829986474, 1900: 5.521460917862246, 1906: 5.521460917862246, 1907: 5.521460917862246, 2681: 6.516193076042964, 1923: 5.521460917862246, 2249: 5.988961416889864, 2804: 6.803227749628203, 12806: 4.59511985013459, 3669: 3.367295829986474, 3596: 5.703782474656201, 3478: 7.3777589082278725, 3852: 6.54965074223381, 3788: 5.003946305945459, 3873: 5.993961427306569, 3823: 5.703782474656201, 3963: 5.703782474656201, 3964: 5.991464547107982, 3745: 6.396929655216146, 3752: 6.214608098422191, 3656: 5.857933154483459, 3836: 7.90100705199242, 3775: 4.07753744390572, 3850: 6.802394763324311, 3107: 5.857933154483459, 3019: 6.54965074223381, 3066: 5.293304824724492, 3067: 5.517452896464707, 3084: 5.703782474656201, 3316: 5.298317366548036, 3280: 5.857933154483459, 3281: 5.003946305945459, 4686: 5.703782474656201, 4705: 5.703782474656201, 4711: 5.703782474656201, 4607: 5.857933154483459, 4867: 5.003946305945459, 4643: 4.59511985013459, 4651: 5.703782474656201, 5156: 6.396929655216146, 5283: 5.298317366548036, 5052: 5.988961416889864, 5361: 3.367295829986474, 5686: 4.605170185988092, 5480: 6.745236349484362, 5178: 6.1092475827643655, 4115: 5.703782474656201, 4309: 6.620073206530356, 4245: 6.215607598755275, 4023: 5.703782474656201, 4503: 5.517452896464707, 4520: 7.4673710669175595, 4564: 6.214608098422191, 4579: 6.1092475827643655, 4489: 7.186901020411631, 4486: 7.002155954403621, 4399: 5.521460917862246, 5481: 8.656781205623291, 1037: 8.160803920954665, 1058: 5.003946305945459, 1143: 5.991464547107982, 1224: 6.1092475827643655, 1372: 7.089243155027514, 1823: 3.367295829986474, 1536: 7.495541943884256, 1026: 5.003946305945459, 1791: 7.495541943884256, 22061: 3.367295829986474, 27: 6.212606095751519, 21818: 3.367295829986474, 21832: 4.605170185988092, 21839: 5.703782474656201, 21841: 6.1092475827643655, 21858: 5.700443573390686, 22041: 6.214608098422191, 991: 4.07753744390572, 995: 3.367295829986474, 1011: 5.703782474656201, 47: 5.521460917862246, 96: 5.0106352940962555, 2718: 5.298317366548036, 2527: 5.703782474656201, 2456: 4.31748811353631, 2679: 5.700443573390686, 2957: 5.293304824724492, 2635: 5.857933154483459, 2639: 6.1092475827643655, 2827: 6.396929655216146, 2846: 5.937536205082426, 2855: 6.214608098422191, 2223: 5.703782474656201, 2195: 5.991464547107982, 1677: 5.517452896464707, 1712: 3.367295829986474, 1715: 5.703782474656201, 1973: 5.648974238161206, 1781: 5.703782474656201, 2245: 5.241747015059643, 1635: 6.802394763324311, 1893: 6.714752884579914, 2112: 7.495541943884256, 2184: 5.703782474656201, 2190: 5.703782474656201, 2314: 7.782807262839695, 12037: 5.0106352940962555, 10422: 5.293304824724492, 10427: 5.517452896464707, 10619: 6.111467339502679, 10647: 6.745236349484362, 10669: 6.802394763324311, 10676: 6.802394763324311, 10503: 4.07753744390572, 10536: 5.0106352940962555, 11295: 3.367295829986474, 10802: 4.07753744390572, 10324: 6.620073206530356, 10329: 6.309918278226516, 10389: 5.991464547107982, 11080: 3.367295829986474, 11383: 4.59511985013459, 11222: 5.703782474656201, 11244: 4.248495242049359, 10892: 5.438079308923196, 10900: 5.0106352940962555, 10904: 5.298317366548036, 10914: 5.438079308923196, 10915: 5.438079308923196, 10926: 5.298317366548036, 10942: 5.438079308923196, 10943: 5.438079308923196, 10951: 3.367295829986474, 11015: 5.298317366548036, 11030: 5.135798437050262, 9996: 5.703782474656201, 9987: 4.07753744390572, 9300: 7.243512974665482, 9024: 5.0106352940962555, 9282: 5.950642552587727, 9278: 4.07753744390572, 8723: 4.07753744390572, 8747: 4.59511985013459, 8784: 4.248495242049359, 8787: 3.6375861597263857, 8879: 5.703782474656201, 8883: 5.071416766356115, 8953: 5.666426688112432, 10228: 7.377133712833954, 10230: 7.495541943884256, 9911: 4.07753744390572, 9482: 5.991464547107982, 9506: 6.214608098422191, 9510: 5.857933154483459, 9540: 5.298317366548036, 9598: 6.551080335043404, 9612: 5.988961416889864, 9618: 6.745236349484362, 9632: 6.551080335043404, 9651: 5.700443573390686, 9748: 6.214608098422191, 8715: 3.912023005428146, 13146: 5.521460917862246, 12570: 5.703782474656201, 12584: 3.367295829986474, 12607: 3.367295829986474, 12645: 3.367295829986474, 12662: 7.600902459542082, 12473: 5.438079308923196, 12472: 5.438079308923196, 12247: 5.0106352940962555, 12379: 4.605170185988092, 12383: 5.521460917862246, 12387: 5.298317366548036, 12463: 5.438079308923196, 12681: 6.1092475827643655, 12740: 4.59511985013459, 12782: 5.991464547107982, 13563: 4.59511985013459, 12714: 5.0106352940962555, 13473: 8.699348067653093, 13482: 9.249464926660233, 13502: 8.293799608846818, 11613: 7.313220387090301, 11614: 6.309918278226516, 11647: 4.59511985013459, 11658: 5.991464547107982, 11659: 6.214608098422191, 11669: 5.298317366548036, 11727: 3.367295829986474, 11853: 3.367295829986474, 11858: 3.367295829986474, 11815: 6.802394763324311, 11577: 5.0106352940962555, 8069: 3.6375861597263857, 11437: 5.298317366548036, 11573: 4.07753744390572, 11810: 5.298317366548036, 12174: 5.003946305945459, 12208: 6.54965074223381, 12002: 4.07753744390572, 12003: 3.367295829986474, 12007: 4.07753744390572, 12012: 5.517452896464707, 12039: 3.367295829986474, 9184: 4.832305758571839, 6483: 5.293304824724492, 6427: 6.212606095751519, 6683: 6.396929655216146, 6318: 5.521460917862246, 6705: 7.1308988302963465, 6584: 6.309918278226516, 6604: 6.042632833682381, 6205: 5.003946305945459, 6605: 7.047517221357296, 6636: 7.24422751560335, 6313: 4.59511985013459, 6200: 5.703782474656201, 5598: 5.988961416889864, 5602: 5.293304824724492, 5851: 6.1092475827643655, 5863: 7.170119543449628, 5893: 6.212606095751519, 5552: 5.703782474656201, 5872: 5.700443573390686, 6098: 7.600902459542082, 6021: 5.991464547107982, 6044: 5.703782474656201, 6149: 6.745824411835916, 6156: 4.605170185988092, 6056: 5.703782474656201, 6007: 5.857933154483459, 6005: 5.857933154483459, 5636: 7.494986233950533, 5609: 7.243512974665482, 5680: 4.07753744390572, 6001: 5.703782474656201, 8677: 3.367295829986474, 7892: 7.6004023345004, 8016: 3.044522437723423, 8024: 2.772588722239781, 8041: 5.517452896464707, 8028: 4.37449836825309, 8278: 6.214608098422191, 8294: 3.367295829986474, 8321: 5.298317366548036, 8346: 5.298317366548036, 8347: 6.309918278226516, 8408: 3.367295829986474, 8423: 4.605170185988092, 8621: 3.367295829986474, 8655: 5.0106352940962555, 9183: 5.521460917862246, 8232: 5.521460917862246, 8121: 5.857933154483459, 8131: 3.367295829986474, 8143: 4.59511985013459, 8151: 5.0106352940962555, 8158: 4.605170185988092, 8160: 4.605170185988092, 8128: 3.367295829986474, 7700: 5.0106352940962555, 7695: 3.332204510175204, 7685: 4.248495242049359, 6788: 5.298317366548036, 6885: 4.07753744390572, 7064: 5.298317366548036, 6744: 7.02108396428914, 6329: 4.59511985013459, 6745: 6.802394763324311, 6755: 6.161207321695077, 6359: 4.59511985013459, 6782: 5.703782474656201, 7399: 5.318119993844216, 7416: 5.857933154483459, 7419: 7.243512974665482, 7431: 5.703782474656201, 7457: 6.1092475827643655, 7500: 6.1092475827643655, 7501: 6.1092475827643655, 7347: 5.521460917862246, 7294: 5.703782474656201, 7269: 5.703782474656201, 7164: 3.367295829986474, 7209: 5.988961416889864, 7243: 4.382026634673881, 7247: 5.703782474656201, 3786: 5.703782474656201, 3959: 7.27931883541462, 4266: 5.991464547107982, 4305: 5.991464547107982, 4488: 7.089243155027514, 4444: 4.59511985013459, 3642: 4.59511985013459, 3574: 4.07753744390572, 3680: 6.39792915554923, 3613: 5.703782474656201, 3383: 5.703782474656201, 6013: 5.521460917862246, 6133: 6.54965074223381, 6048: 5.634789603169249, 6424: 6.104793232414985, 6448: 6.54965074223381, 6784: 4.07753744390572, 7177: 4.07753744390572, 7226: 6.802394763324311, 6640: 6.214608098422191, 6343: 5.703782474656201, 5016: 8.409830673087738, 5017: 8.515391569469609, 5022: 5.703782474656201, 5048: 5.293304824724492, 4818: 5.517452896464707, 5980: 5.991464547107982, 5338: 7.27931883541462, 5303: 5.703782474656201, 5692: 6.985641817639208, 5744: 3.367295829986474, 5455: 5.991464547107982, 63: 4.59511985013459, 95: 5.293304824724492, 177: 5.521460917862246, 199: 5.521460917862246, 277: 5.5254529391317835, 384: 5.521460917862246, 408: 5.521460917862246, 453: 5.521460917862246, 21896: 5.0106352940962555, 21994: 8.567886305731756, 21904: 5.008633291425583, 21933: 3.367295829986474, 1235: 5.703782474656201, 1241: 5.703782474656201, 1259: 5.003946305945459, 1269: 5.003946305945459, 819: 5.0106352940962555, 954: 5.857933154483459, 1065: 5.298317366548036, 1069: 5.521460917862246, 1072: 3.367295829986474, 1098: 4.59511985013459, 21824: 5.0106352940962555, 19766: 3.367295829986474, 19791: 3.367295829986474, 19804: 5.298317366548036, 19820: 5.0106352940962555, 19838: 4.59511985013459, 19873: 5.298317366548036, 19904: 5.0106352940962555, 19649: 5.0106352940962555, 19633: 5.0106352940962555, 19082: 4.605170185988092, 19083: 4.07753744390572, 19145: 5.298317366548036, 19461: 5.521460917862246, 19471: 5.003946305945459, 19473: 5.521460917862246, 19474: 5.521460917862246, 19177: 5.298317366548036, 19209: 4.07753744390572, 19518: 5.521460917862246, 19522: 5.0106352940962555, 19920: 4.9596928153586815, 19565: 5.298317366548036, 19567: 5.298317366548036, 19936: 4.07753744390572, 19938: 5.521460917862246, 19939: 5.521460917862246, 20143: 3.713572066704308, 21405: 3.367295829986474, 21426: 6.856461984594587, 21501: 7.377133712833954, 21525: 3.332204510175204, 21553: 5.298317366548036, 21613: 4.382026634673881, 20145: 3.367295829986474, 20146: 3.367295829986474, 20066: 4.59511985013459, 20161: 6.551080335043404, 20179: 6.745236349484362, 20105: 4.59511985013459, 20111: 6.1092475827643655, 20119: 5.003946305945459, 20140: 3.367295829986474, 20384: 7.696212639346407, 20595: 7.824046010856292, 20806: 7.847762537473608, 20372: 7.114769448366463, 2626: 5.703782474656201, 2821: 5.3981627015177525, 2406: 3.367295829986474, 2242: 5.703782474656201, 2475: 5.703782474656201, 2539: 5.703782474656201, 3211: 3.367295829986474, 2980: 5.003946305945459, 2126: 4.07753744390572, 1603: 5.857933154483459, 1738: 5.703782474656201, 2083: 5.703782474656201, 2097: 5.003946305945459, 2104: 6.1092475827643655, 1760: 3.367295829986474, 1768: 5.517452896464707, 7320: 6.1092475827643655, 14883: 4.59511985013459, 14889: 5.857933154483459, 14910: 5.0106352940962555, 15967: 5.703782474656201, 15651: 5.857933154483459, 15737: 3.367295829986474, 15753: 3.367295829986474, 14812: 3.367295829986474, 15058: 3.367295829986474, 15098: 5.293304824724492, 14674: 3.367295829986474, 14678: 5.438079308923196, 14774: 3.367295829986474, 15766: 5.0106352940962555, 16459: 5.991464547107982, 16549: 5.438079308923196, 15772: 3.367295829986474, 15773: 3.367295829986474, 16354: 5.521460917862246, 13895: 5.298317366548036, 13939: 5.0106352940962555, 13949: 3.8918202981106265, 14177: 5.521460917862246, 14001: 4.59511985013459, 14002: 5.0106352940962555, 14209: 4.07753744390572, 14211: 4.07753744390572, 14219: 5.703782474656201, 13883: 5.298317366548036, 13731: 5.703782474656201, 13041: 4.605170185988092, 13755: 5.799092654460526, 13061: 5.298317366548036, 13062: 5.298317366548036, 13770: 5.0106352940962555, 13776: 5.0106352940962555, 13782: 5.0106352940962555, 14086: 3.367295829986474, 13842: 4.382026634673881, 16723: 4.248495242049359, 14438: 4.59511985013459, 14448: 5.003946305945459, 14535: 4.59511985013459, 14548: 5.293304824724492, 14559: 4.59511985013459, 14568: 4.07753744390572, 14247: 5.438079308923196, 14258: 5.703782474656201, 14294: 3.367295829986474, 14312: 5.438079308923196, 14313: 4.983606621708336, 14112: 5.988961416889864, 14330: 5.003946305945459, 16845: 5.703782474656201, 19064: 4.605170185988092, 19070: 4.600157644164547, 19080: 5.0106352940962555, 19508: 6.620073206530356, 19208: 4.59511985013459, 19230: 6.1092475827643655, 19043: 5.438079308923196, 18989: 3.912023005428146, 18741: 6.620073206530356, 18744: 5.0106352940962555, 18817: 5.0106352940962555, 18821: 5.0106352940962555, 18822: 3.912023005428146, 19420: 5.857933154483459, 19422: 5.857933154483459, 19927: 5.799092654460526, 19928: 5.703782474656201, 19632: 5.857933154483459, 19828: 5.298317366548036, 19872: 5.003946305945459, 19908: 5.521460917862246, 20026: 5.703782474656201, 20049: 5.910091788642244, 20096: 5.41761037273602, 19652: 5.0106352940962555, 19654: 5.298317366548036, 19661: 3.367295829986474, 18678: 5.298317366548036, 19739: 4.59511985013459, 19747: 3.367295829986474, 19777: 3.912023005428146, 19993: 3.367295829986474, 19995: 5.517452896464707, 19710: 4.59511985013459, 17203: 4.248495242049359, 17230: 5.0106352940962555, 17231: 3.367295829986474, 17240: 3.4011973816621555, 17730: 5.293304824724492, 17735: 5.521460917862246, 17438: 3.367295829986474, 17736: 8.157943507105037, 17465: 5.293304824724492, 17585: 3.367295829986474, 17589: 5.521460917862246, 17593: 5.857933154483459, 17535: 3.367295829986474, 17024: 4.07753744390572, 17623: 5.293304824724492, 17033: 4.59511985013459, 17002: 5.003946305945459, 16846: 3.367295829986474, 18324: 5.703782474656201, 18337: 5.521460917862246, 18410: 5.298317366548036, 18439: 5.438079308923196, 18461: 5.703782474656201, 18467: 5.298317366548036, 18498: 5.438079308923196, 19314: 5.703782474656201, 18581: 5.517452896464707, 18613: 3.367295829986474, 18630: 5.991464547107982, 18647: 4.59511985013459, 18655: 5.0106352940962555, 18657: 3.367295829986474, 18279: 5.703782474656201, 18218: 4.07753744390572, 17771: 3.367295829986474, 18016: 6.2166061010848646, 17812: 5.003946305945459, 17827: 3.367295829986474, 17852: 3.367295829986474, 17922: 5.298317366548036, 18083: 7.170119543449628, 19258: 5.799092654460526, 19261: 3.367295829986474, 19272: 4.59511985013459, 18166: 3.367295829986474, 18191: 5.799092654460526, 18192: 5.799092654460526, 18196: 4.59511985013459, 17921: 5.438079308923196, 19063: 4.07753744390572, 12965: 5.298317366548036, 8855: 5.703782474656201, 8859: 5.298317366548036, 8991: 3.367295829986474, 9480: 4.324132656254979, 8750: 3.367295829986474, 8334: 6.214608098422191, 8553: 5.517452896464707, 8425: 4.605170185988092, 8595: 5.0106352940962555, 8597: 5.298317366548036, 8636: 4.59511985013459, 8647: 4.59511985013459, 8652: 5.0106352940962555, 9181: 5.521460917862246, 8687: 5.438079308923196, 9565: 5.135798437050262, 9934: 5.0106352940962555, 9935: 4.59511985013459, 9973: 4.07753744390572, 9975: 4.59511985013459, 9982: 5.0106352940962555, 10268: 4.605170185988092, 10038: 4.07753744390572, 10040: 4.59511985013459, 10056: 3.367295829986474, 9853: 5.298317366548036, 9603: 5.298317366548036, 9608: 6.551080335043404, 9669: 3.367295829986474, 9728: 3.367295829986474, 9735: 5.293304824724492, 9744: 6.551080335043404, 9770: 5.703782474656201, 9771: 5.0106352940962555, 9773: 4.59511985013459, 9775: 4.59511985013459, 9825: 5.298317366548036, 9829: 5.298317366548036, 7825: 5.517452896464707, 7831: 5.517452896464707, 7687: 4.248495242049359, 7699: 5.0106352940962555, 7354: 5.318119993844216, 7364: 5.857933154483459, 7404: 5.857933154483459, 7418: 5.857933154483459, 7453: 5.521460917862246, 7516: 5.703782474656201, 8031: 5.703782474656201, 8167: 5.857933154483459, 8458: 5.703782474656201, 8477: 5.857933154483459, 8211: 5.298317366548036, 13609: 5.799092654460526, 12030: 4.59511985013459, 12034: 5.298317366548036, 12238: 3.367295829986474, 12241: 5.521460917862246, 13100: 7.208600337960199, 12423: 4.07753744390572, 11999: 4.605170185988092, 11748: 5.703782474656201, 11895: 5.857933154483459, 12146: 3.332204510175204, 11933: 4.07753744390572, 13167: 6.0014148779611505, 13567: 3.367295829986474, 12865: 3.367295829986474, 12956: 3.367295829986474, 12794: 5.003946305945459, 12761: 3.367295829986474, 13500: 8.342530232549555, 11668: 5.293304824724492, 10716: 3.367295829986474, 10739: 2.70805020110221, 10809: 5.991464547107982, 10834: 3.367295829986474, 10848: 5.298317366548036, 10537: 5.293304824724492, 10535: 4.605170185988092, 10164: 5.438079308923196, 10294: 6.214608098422191, 10572: 5.521460917862246, 10589: 6.551080335043404, 10458: 4.543294782270004, 10470: 3.367295829986474, 10474: 5.0106352940962555, 11192: 3.367295829986474, 11424: 6.1092475827643655, 11428: 6.670766320845874, 11130: 6.214608098422191, 10947: 5.799092654460526, 11334: 5.703782474656201, 11343: 4.07753744390572, 11076: 6.214608098422191, 19059: 6.214608098422191, 41: 5.521460917862246, 228: 5.521460917862246, 448: 5.521460917862246, 21769: 3.367295829986474, 21787: 5.521460917862246, 21731: 3.367295829986474, 21816: 5.298317366548036, 21856: 4.605170185988092, 22031: 5.293304824724492, 1001: 4.07753744390572, 1201: 5.703782474656201, 1204: 5.703782474656201, 1397: 5.988961416889864, 953: 4.07753744390572, 21445: 3.912023005428146, 989: 4.07753744390572, 21495: 5.0106352940962555, 19605: 5.703782474656201, 19612: 3.367295829986474, 19626: 5.298317366548036, 19948: 5.5254529391317835, 19957: 5.860786223465865, 19981: 6.309918278226516, 19737: 4.07753744390572, 19584: 3.367295829986474, 19583: 5.0106352940962555, 19582: 5.0106352940962555, 18844: 4.07753744390572, 19402: 5.703782474656201, 19017: 5.634789603169249, 19019: 5.634789603169249, 19119: 4.382026634673881, 19475: 4.59511985013459, 19557: 4.605170185988092, 19924: 7.003065458786462, 20932: 4.07753744390572, 20306: 6.212606095751519, 21470: 5.521460917862246, 21334: 5.298317366548036, 21346: 5.293304824724492, 21359: 5.703782474656201, 21484: 5.802118375377063, 20215: 4.906015244966153, 20212: 5.703782474656201, 20132: 5.298317366548036, 20150: 6.745236349484362, 20170: 6.003887067106539, 20177: 6.551080335043404, 20187: 5.991464547107982, 20188: 5.991464547107982, 20191: 5.857933154483459, 20193: 5.521460917862246, 20185: 5.484796933490655, 18748: 4.07753744390572, 3165: 5.703782474656201, 3267: 5.703782474656201, 3879: 6.214608098422191, 4004: 5.293304824724492, 3492: 6.396929655216146, 1739: 5.857933154483459, 1520: 7.090076835776092, 2525: 5.703782474656201, 2350: 6.907755278982137, 2182: 5.703782474656201, 19346: 5.993961427306569, 15025: 5.703782474656201, 15028: 5.968707559985366, 13956: 5.521460917862246, 13991: 5.521460917862246, 14206: 5.517452896464707, 14223: 5.703782474656201, 15079: 3.367295829986474, 15082: 3.367295829986474, 15095: 5.517452896464707, 15032: 5.968707559985366, 15036: 5.968707559985366, 13148: 5.521460917862246, 13150: 5.521460917862246, 12666: 4.07753744390572, 12540: 6.396929655216146, 13120: 5.703782474656201, 12278: 5.700443573390686, 13391: 5.707110264748875, 13547: 5.993961427306569, 12781: 5.0106352940962555, 13380: 5.703782474656201, 12726: 6.111467339502679, 18059: 5.521460917862246, 17920: 3.367295829986474, 18074: 5.703782474656201, 18075: 5.703782474656201, 18076: 5.703782474656201, 17932: 4.07753744390572, 17935: 5.0106352940962555, 17946: 5.703782474656201, 18187: 5.703782474656201, 18193: 4.07753744390572, 18333: 5.799092654460526, 18338: 5.799092654460526, 18346: 4.07753744390572, 19294: 6.90875477931522, 17349: 4.59511985013459, 17734: 5.521460917862246, 19299: 6.907755278982137, 19302: 6.90875477931522, 19337: 5.860786223465865, 19338: 5.857933154483459, 19340: 6.214608098422191, 19345: 5.993961427306569, 19304: 6.90875477931522, 19306: 6.90875477931522, 19315: 5.703782474656201, 18539: 5.298317366548036, 18589: 4.605170185988092, 19330: 5.857933154483459, 19331: 5.860786223465865, 19334: 5.332718793265369, 19335: 6.214608098422191, 19336: 5.860786223465865, 17311: 5.0106352940962555, 16254: 5.703782474656201, 16295: 6.212606095751519, 15756: 4.07753744390572, 16359: 5.521460917862246, 16755: 6.55250788703459, 15452: 6.551080335043404, 15208: 4.59511985013459, 17640: 5.991464547107982, 17641: 5.484796933490655, 17667: 6.68586094706836, 17668: 4.605170185988092, 17208: 5.746203190540153, 17212: 4.605170185988092, 17695: 6.214608098422191, 17711: 7.090076835776092, 17712: 5.802118375377063, 17713: 6.684611727667927, 17051: 5.300015923183619, 16823: 5.484796933490655, 16869: 5.700443573390686, 17604: 5.707110264748875, 4241: 5.988961416889864, 15116: 5.521460917862246, 15133: 5.298317366548036, 14654: 5.0106352940962555, 15141: 3.367295829986474, 14775: 4.07753744390572, 14824: 4.59511985013459, 14825: 6.214608098422191, 14978: 5.703782474656201, 14405: 5.0106352940962555, 14449: 4.382026634673881, 15438: 6.956545443151569, 15447: 7.170119543449628, 15479: 6.322565239927284, 15505: 6.4457198193855785, 15530: 5.0106352940962555, 15969: 5.700443573390686, 16018: 6.551080335043404, 15303: 6.866933284461882, 14833: 5.247024072160486, 14835: 5.247024072160486, 14837: 5.225746673713202, 13538: 6.54965074223381, 12775: 3.8918202981106265, 12818: 5.700443573390686, 12952: 3.367295829986474, 13514: 5.703782474656201, 12428: 5.991464547107982, 13017: 3.4011973816621555, 12580: 4.07753744390572, 13188: 5.003946305945459, 14041: 4.0943445622221, 14252: 5.438079308923196, 13945: 5.298317366548036, 14167: 5.521460917862246, 13862: 4.07753744390572, 13874: 3.367295829986474, 18080: 5.521460917862246, 17951: 4.605170185988092, 17973: 3.367295829986474, 17995: 5.298317366548036, 18168: 5.521460917862246, 18172: 4.59511985013459, 18260: 4.709530201312334, 18306: 5.298317366548036, 18309: 3.367295829986474, 18317: 5.298317366548036, 18339: 5.799092654460526, 18376: 4.59511985013459, 18463: 5.298317366548036, 17178: 3.367295829986474, 17423: 5.0106352940962555, 17490: 4.6568134191399295, 18464: 5.438079308923196, 19378: 3.367295829986474, 18802: 5.298317366548036, 18946: 4.605170185988092, 18960: 3.367295829986474, 18964: 4.324132656254979, 18559: 4.605170185988092, 19321: 5.857933154483459, 18602: 5.298317366548036, 18603: 2.70805020110221, 18604: 4.943782987108415, 18605: 5.298317366548036, 18606: 5.298317366548036, 18607: 4.605170185988092, 18608: 4.941642422609304, 17050: 3.367295829986474, 18671: 6.1092475827643655, 18680: 5.298317366548036, 18696: 6.1092475827643655, 18718: 5.0106352940962555, 19360: 6.54965074223381, 17622: 5.857933154483459, 15672: 5.298317366548036, 15716: 4.02535169073515, 15757: 5.438079308923196, 15656: 3.367295829986474, 15655: 5.0106352940962555, 16126: 5.703782474656201, 16151: 6.345636360828596, 16181: 5.857933154483459, 16898: 6.907755278982137, 16954: 5.521460917862246, 16471: 5.0106352940962555, 16648: 5.991464547107982, 16660: 4.59511985013459, 16830: 3.258096538021482, 6031: 5.703782474656201, 6125: 7.494986233950533, 6140: 6.212606095751519, 6227: 5.700443573390686, 6449: 6.212606095751519, 6450: 5.517452896464707, 7412: 6.1092475827643655, 7745: 4.59511985013459, 7216: 6.802394763324311, 7176: 5.298317366548036, 6746: 6.212606095751519, 4572: 5.703782474656201, 4106: 5.703782474656201, 4291: 5.003946305945459, 4328: 5.0106352940962555, 4519: 4.59511985013459, 4531: 5.703782474656201, 4735: 5.003946305945459, 4559: 5.703782474656201, 7701: 4.59511985013459, 6010: 7.313220387090301, 6011: 6.620073206530356, 4990: 7.8632667240095735, 5065: 5.438079308923196, 5466: 6.745236349484362, 5500: 7.4673710669175595, 5780: 5.247024072160486, 10929: 5.003946305945459, 10930: 5.438079308923196, 11340: 5.0106352940962555, 10730: 4.59511985013459, 10728: 4.59511985013459, 10579: 5.857933154483459, 10626: 6.856461984594587, 10627: 6.956545443151569, 10650: 6.856461984594587, 10654: 6.551080335043404, 10660: 7.170119543449628, 10674: 6.684611727667927, 10689: 6.684611727667927, 10506: 5.298317366548036, 11857: 4.59511985013459, 12198: 5.703782474656201, 12219: 7.3783837129967145, 11662: 5.0106352940962555, 11392: 6.802394763324311, 11446: 5.517452896464707, 11574: 5.0106352940962555, 10337: 5.135798437050262, 8340: 3.367295829986474, 8556: 5.521460917862246, 8557: 5.5254529391317835, 8563: 5.521460917862246, 8568: 5.521460917862246, 9175: 5.521460917862246, 9179: 6.551080335043404, 8619: 4.6568134191399295, 8650: 5.0106352940962555, 9217: 4.07753744390572, 9231: 5.521460917862246, 8311: 4.07753744390572, 8297: 6.309918278226516, 8434: 5.521460917862246, 9868: 5.0106352940962555, 9981: 6.1092475827643655, 10082: 5.0106352940962555, 10238: 5.703782474656201, 9809: 3.367295829986474, 9237: 7.090076835776092, 9007: 6.776826211655738, 9305: 5.703782474656201, 9382: 3.367295829986474, 9548: 4.07753744390572, 9615: 5.857933154483459, 9694: 6.551080335043404, 7664: 6.476972362889683, 7481: 5.857933154483459, 7482: 5.857933154483459, 7513: 5.703782474656201, 7673: 5.857933154483459, 7681: 3.912023005428146, 7733: 5.517452896464707, 7832: 7.438383530044307, 6858: 6.54965074223381, 6876: 5.298317366548036, 6878: 5.857933154483459, 6915: 7.3777589082278725, 6919: 6.396929655216146, 6787: 5.159055299214529, 6795: 5.703782474656201, 6821: 6.476972362889683, 7178: 5.700443573390686, 7258: 5.703782474656201, 7282: 7.047517221357296, 7288: 5.991464547107982, 7300: 8.45531778769815, 7363: 5.857933154483459, 7387: 5.521460917862246, 7394: 5.298317366548036, 7425: 5.703782474656201, 7949: 7.494986233950533, 8559: 5.5254529391317835, 8424: 3.912023005428146, 8427: 5.003946305945459, 8572: 5.298317366548036, 9170: 5.521460917862246, 8200: 4.59511985013459, 8290: 5.0106352940962555, 8292: 3.912023005428146, 8299: 4.07753744390572, 8312: 5.293304824724492, 8319: 4.59511985013459, 8775: 3.367295829986474, 9228: 5.703782474656201, 8788: 3.4011973816621555, 8794: 3.912023005428146, 8813: 5.703782474656201, 8854: 4.709530201312334, 8748: 3.828641396489095, 8600: 5.135798437050262, 8629: 4.07753744390572, 8641: 3.367295829986474, 8709: 4.248495242049359, 8740: 4.07753744390572, 8014: 3.044522437723423, 8015: 3.044522437723423, 8017: 3.044522437723423, 8018: 2.9444389791664403, 7989: 9.126850061477157, 7901: 9.08239335764556, 7957: 8.712595487748722, 8097: 3.367295829986474, 8098: 3.367295829986474, 8103: 4.59511985013459, 8105: 3.367295829986474, 8050: 3.044522437723423, 8051: 3.044522437723423, 5683: 6.906754778648554, 5952: 7.313220387090301, 6008: 5.857933154483459, 5630: 7.494986233950533, 6012: 5.857933154483459, 6158: 5.298317366548036, 6240: 5.703782474656201, 6272: 5.703782474656201, 6023: 5.703782474656201, 6142: 7.170119543449628, 5470: 7.1308988302963465, 5471: 7.003065458786462, 5498: 5.857933154483459, 5807: 5.703782474656201, 5514: 5.703782474656201, 5519: 4.07753744390572, 5432: 5.003946305945459, 5333: 5.991464547107982, 5347: 6.476972362889683, 5353: 5.438079308923196, 5354: 5.298317366548036, 5357: 5.703782474656201, 5919: 7.313220387090301, 5586: 5.003946305945459, 5593: 4.59511985013459, 5579: 5.003946305945459, 6591: 5.703782474656201, 6601: 6.396929655216146, 6348: 5.988961416889864, 6349: 5.703782474656201, 6365: 6.802394763324311, 6366: 7.27931883541462, 6325: 5.991464547107982, 6494: 5.859360706474645, 6572: 5.703782474656201, 6579: 5.703782474656201, 6581: 5.991464547107982, 8876: 7.824046010856292, 11837: 3.8918202981106265, 11843: 3.8918202981106265, 11725: 5.003946305945459, 11869: 3.367295829986474, 11870: 3.367295829986474, 11872: 3.367295829986474, 11741: 4.59511985013459, 11742: 3.367295829986474, 11709: 5.298317366548036, 11716: 5.298317366548036, 11790: 5.003946305945459, 11886: 5.521460917862246, 12114: 7.003065458786462, 12147: 5.703782474656201, 12160: 3.367295829986474, 11661: 4.382026634673881, 11405: 3.912023005428146, 11425: 5.857933154483459, 11226: 4.07753744390572, 11589: 4.59511985013459, 11624: 4.07753744390572, 11627: 3.367295829986474, 11633: 3.367295829986474, 11824: 5.857933154483459, 11638: 5.298317366548036, 11444: 5.0106352940962555, 11451: 5.700443573390686, 11435: 5.438079308923196, 11499: 4.07753744390572, 11376: 5.521460917862246, 11940: 4.59511985013459, 13171: 5.857933154483459, 12588: 3.367295829986474, 12616: 4.07753744390572, 13187: 5.700443573390686, 12620: 4.59511985013459, 12624: 3.367295829986474, 13195: 5.521460917862246, 13170: 4.07753744390572, 13164: 5.521460917862246, 12548: 5.438079308923196, 12558: 5.521460917862246, 13153: 5.293304824724492, 13154: 5.293304824724492, 13161: 5.521460917862246, 12724: 5.517452896464707, 13393: 9.104868739033948, 13471: 9.21024036697585, 13487: 9.29550838434606, 12686: 6.476972362889683, 12665: 5.991464547107982, 12544: 5.438079308923196, 12096: 3.367295829986474, 12268: 5.003946305945459, 12311: 5.988961416889864, 12094: 3.367295829986474, 12196: 5.521460917862246, 11972: 4.605170185988092, 11977: 3.912023005428146, 11979: 4.248495242049359, 11981: 3.4011973816621555, 11982: 4.248495242049359, 12066: 5.135798437050262, 12073: 5.521460917862246, 11955: 5.0106352940962555, 12437: 4.59511985013459, 12440: 5.808142489980444, 12467: 8.1886891244442, 12485: 5.438079308923196, 12491: 5.003946305945459, 13107: 5.703782474656201, 12415: 5.0106352940962555, 12323: 5.298317366548036, 12330: 4.709530201312334, 12316: 6.620073206530356, 12388: 3.367295829986474, 11375: 5.521460917862246, 9889: 3.367295829986474, 9713: 5.857933154483459, 9729: 5.521460917862246, 9758: 5.298317366548036, 10222: 5.703782474656201, 9811: 4.07753744390572, 10110: 5.8111409929767, 10114: 3.367295829986474, 9940: 4.605170185988092, 9941: 4.07753744390572, 9999: 5.0106352940962555, 10267: 5.521460917862246, 10018: 4.59511985013459, 10022: 3.367295829986474, 10033: 5.298317366548036, 10035: 5.298317366548036, 10263: 5.521460917862246, 9682: 6.551080335043404, 9656: 6.802394763324311, 9010: 5.438079308923196, 9315: 5.857933154483459, 9316: 5.991464547107982, 9386: 6.1092475827643655, 8994: 6.214608098422191, 9301: 6.907755278982137, 8884: 4.07753744390572, 8894: 5.703782474656201, 8914: 3.367295829986474, 8943: 3.367295829986474, 9280: 5.950642552587727, 10167: 5.517452896464707, 9455: 5.521460917862246, 9092: 5.438079308923196, 9145: 3.367295829986474, 9489: 3.8918202981106265, 9638: 5.988961416889864, 9073: 3.367295829986474, 9451: 5.991464547107982, 9052: 3.912023005428146, 9449: 5.857933154483459, 10920: 4.330733340286331, 11331: 4.330733340286331, 11009: 3.367295829986474, 10917: 5.298317366548036, 11313: 4.07753744390572, 11323: 5.703782474656201, 10887: 5.438079308923196, 10891: 5.438079308923196, 10902: 5.0106352940962555, 10910: 5.298317366548036, 10911: 5.298317366548036, 10913: 5.0106352940962555, 11328: 5.521460917862246, 11077: 4.248495242049359, 11078: 3.912023005428146, 11081: 5.135798437050262, 11126: 4.605170185988092, 11138: 4.382026634673881, 11152: 5.517452896464707, 11149: 5.700443573390686, 11158: 3.4011973816621555, 11067: 3.367295829986474, 11045: 4.07753744390572, 11046: 4.605170185988092, 11347: 4.59511985013459, 10409: 5.293304824724492, 10608: 5.521460917862246, 10609: 5.991464547107982, 10638: 6.956545443151569, 10643: 6.956545443151569, 10326: 4.59511985013459, 10347: 5.135798437050262, 10178: 4.2626798770413155, 10777: 5.991464547107982, 10786: 5.703782474656201, 10787: 5.521460917862246, 10789: 5.521460917862246, 10813: 6.620073206530356, 10819: 3.367295829986474, 10829: 4.07753744390572, 10832: 5.991464547107982, 10686: 6.856461984594587, 10692: 6.956545443151569, 10463: 3.367295829986474, 10466: 6.907755278982137, 10492: 4.248495242049359, 10493: 5.0106352940962555, 10526: 5.0106352940962555, 215: 5.521460917862246, 244: 5.521460917862246, 366: 5.521460917862246, 385: 5.521460917862246, 423: 5.298317366548036, 1050: 4.59511985013459, 1059: 5.988961416889864, 1079: 7.408530566894626, 1124: 5.857933154483459, 152: 5.521460917862246, 10256: 3.367295829986474, 10259: 3.367295829986474, 10261: 3.828641396489095, 11297: 3.367295829986474, 14945: 3.9318256327243257, 14949: 3.9318256327243257, 14950: 3.367295829986474, 15517: 4.2626798770413155, 16765: 3.6635616461296463, 16783: 4.2626798770413155, 17682: 3.367295829986474, 17683: 3.367295829986474, 17687: 3.4339872044851463, 17688: 3.4339872044851463, 19943: 3.6635616461296463, 19947: 3.6635616461296463, 29: 7.089243155027514, 10255: 4.2626798770413155, 9288: 3.367295829986474, 9270: 3.9318256327243257, 9258: 3.367295829986474, 9260: 3.9318256327243257, 9261: 3.367295829986474, 9263: 4.454347296253507, 9269: 3.367295829986474, 43: 4.59511985013459, 56: 5.703782474656201, 40: 5.521460917862246, 1870: 6.380122536899765, 1631: 7.783224016336037, 1645: 6.856461984594587, 1736: 5.703782474656201, 1675: 5.703782474656201, 1442: 6.54965074223381, 1443: 5.517452896464707, 1304: 5.703782474656201, 1308: 5.521460917862246, 1216: 5.703782474656201, 1219: 5.857933154483459, 1358: 6.54965074223381, 1371: 5.700443573390686, 1274: 2.70805020110221, 20028: 5.0106352940962555, 20032: 3.367295829986474, 20039: 3.367295829986474, 20052: 5.521460917862246, 20067: 3.367295829986474, 20152: 6.54965074223381, 20166: 6.54965074223381, 20087: 4.07753744390572, 20117: 5.0106352940962555, 20121: 3.367295829986474, 20008: 5.700443573390686, 19822: 5.293304824724492, 19834: 4.59511985013459, 19864: 5.298317366548036, 20019: 5.799092654460526, 20020: 5.703782474656201, 19883: 3.367295829986474, 20130: 5.0106352940962555, 20327: 5.991464547107982, 20211: 6.214608098422191, 20390: 7.114769448366463, 20470: 7.24422751560335, 20503: 7.090076835776092, 20507: 7.090076835776092, 20592: 7.438383530044307, 20669: 7.549609165154532, 20671: 6.398594934535208, 20673: 7.549609165154532, 20674: 7.495541943884256, 19178: 5.703782474656201, 19185: 4.59511985013459, 19189: 4.59511985013459, 19190: 4.59511985013459, 19482: 5.988961416889864, 19216: 4.605170185988092, 19016: 5.857933154483459, 19027: 5.0072963928307415, 19235: 5.293304824724492, 19104: 3.367295829986474, 19108: 3.367295829986474, 20676: 6.86714159609684, 19653: 5.303304908059076, 19662: 5.298317366548036, 19670: 4.07753744390572, 19675: 4.07753744390572, 19679: 7.600902459542082, 19960: 5.857933154483459, 19751: 5.135798437050262, 19950: 6.476972362889683, 19527: 3.367295829986474, 19560: 4.02535169073515, 19576: 5.298317366548036, 19587: 5.298317366548036, 19602: 5.135798437050262, 19606: 5.298317366548036, 20693: 7.090076835776092, 20696: 6.328293862826008, 21666: 3.367295829986474, 21697: 5.293304824724492, 21711: 5.703782474656201, 21821: 5.703782474656201, 21834: 3.3178157727231046, 21533: 5.703782474656201, 21549: 5.0106352940962555, 21579: 5.0106352940962555, 21581: 5.0106352940962555, 21597: 5.438079308923196, 21598: 5.298317366548036, 22055: 5.991464547107982, 21883: 5.0106352940962555, 21899: 5.703782474656201, 21912: 4.07753744390572, 21930: 5.298317366548036, 20962: 5.521460917862246, 20966: 6.684611727667927, 20971: 5.988961416889864, 20972: 5.988961416889864, 20973: 6.684611727667927, 21477: 5.703782474656201, 21358: 6.309918278226516, 20697: 7.549609165154532, 20889: 7.783224016336037, 20898: 7.377133712833954, 20246: 4.61015772749913, 20255: 4.59511985013459, 20257: 4.59511985013459, 20938: 5.517452896464707, 21448: 5.298317366548036, 21451: 3.367295829986474, 21454: 6.214608098422191, 21510: 4.07753744390572, 21489: 5.0106352940962555, 3961: 5.991464547107982, 3967: 5.703782474656201, 3983: 3.367295829986474, 3958: 5.991464547107982, 3921: 5.703782474656201, 4323: 5.991464547107982, 4327: 6.1092475827643655, 3704: 6.906754778648554, 3563: 3.367295829986474, 3670: 2.70805020110221, 3771: 4.59511985013459, 3628: 5.521460917862246, 5096: 7.090076835776092, 5111: 6.1092475827643655, 5147: 6.907755278982137, 5181: 6.907755278982137, 5045: 5.703782474656201, 4440: 4.605170185988092, 4512: 5.700443573390686, 4430: 5.991464547107982, 4522: 6.1092475827643655, 4411: 5.703782474656201, 4418: 5.703782474656201, 4602: 5.857933154483459, 2460: 4.59511985013459, 2721: 5.0106352940962555, 2477: 5.703782474656201, 2493: 7.6255950721324535, 2760: 5.991464547107982, 2432: 5.648974238161206, 2514: 6.476972362889683, 2588: 6.1092475827643655, 2125: 4.07753744390572, 2132: 5.003946305945459, 2185: 6.461468176353717, 2194: 5.703782474656201, 2198: 5.003946305945459, 2077: 5.703782474656201, 3276: 3.367295829986474, 3515: 5.700443573390686, 3378: 5.703782474656201, 3049: 5.003946305945459, 2653: 5.703782474656201, 2674: 5.703782474656201, 3086: 5.857933154483459, 3270: 6.476972362889683, 3100: 5.703782474656201, 3120: 5.991464547107982, 3201: 4.07753744390572, 1109: 2.70805020110221, 282: 5.521460917862246, 1604: 5.988961416889864, 1340: 5.003946305945459, 22032: 5.988961416889864, 21892: 5.991464547107982, 21893: 3.367295829986474, 21895: 4.59511985013459, 21909: 4.605170185988092, 21915: 3.367295829986474, 21929: 5.438079308923196, 22094: 3.9318256327243257, 22044: 5.0106352940962555, 22149: 3.367295829986474, 2851: 7.24422751560335, 2724: 3.367295829986474, 2595: 4.59511985013459, 3200: 5.0106352940962555, 1954: 7.089243155027514, 1718: 5.003946305945459, 1780: 3.367295829986474, 2303: 6.906754778648554, 1665: 5.703782474656201, 2241: 5.991464547107982, 2463: 3.367295829986474, 2094: 3.367295829986474, 21990: 6.309918278226516, 20894: 7.494986233950533, 20672: 7.090076835776092, 20417: 7.313220387090301, 20424: 6.907755278982137, 20506: 6.54965074223381, 20508: 7.090076835776092, 20515: 7.7406644019172415, 20516: 7.7406644019172415, 20597: 7.90100705199242, 21323: 5.298317366548036, 21331: 5.003946305945459, 21332: 5.0106352940962555, 21337: 4.07753744390572, 21338: 4.07753744390572, 21341: 3.367295829986474, 21478: 7.1308988302963465, 21479: 5.991464547107982, 21348: 5.703782474656201, 21390: 5.003946305945459, 20961: 5.521460917862246, 20247: 5.003946305945459, 20933: 5.521460917862246, 20937: 5.700443573390686, 19831: 4.028916756899646, 19882: 5.298317366548036, 19889: 5.0106352940962555, 19898: 5.0106352940962555, 19903: 5.991464547107982, 19905: 5.19295685089021, 19917: 6.063785208687608, 19829: 5.991464547107982, 19802: 5.0106352940962555, 19807: 5.293304824724492, 19810: 4.605170185988092, 21408: 5.438079308923196, 20103: 5.0106352940962555, 20141: 3.367295829986474, 20144: 0.09531017980432487, 20058: 5.991464547107982, 20064: 3.367295829986474, 20176: 6.212606095751519, 21754: 4.07753744390572, 21764: 3.912023005428146, 21804: 4.59511985013459, 21815: 5.293304824724492, 21817: 4.31748811353631, 21750: 3.367295829986474, 21734: 5.703782474656201, 21629: 4.07753744390572, 21638: 5.0106352940962555, 21780: 5.0106352940962555, 21649: 5.003946305945459, 21634: 4.07753744390572, 21667: 5.0106352940962555, 21691: 5.700443573390686, 21696: 5.293304824724492, 21712: 4.290459441148391, 21784: 5.857933154483459, 21786: 5.272999558563747, 21738: 5.293304824724492, 21966: 6.429719478039138, 21833: 5.298317366548036, 21985: 5.521460917862246, 21844: 6.620073206530356, 21846: 6.214608098422191, 21847: 4.382026634673881, 21615: 5.003946305945459, 21611: 5.521460917862246, 21571: 5.298317366548036, 21572: 5.003946305945459, 21607: 3.367295829986474, 21550: 2.70805020110221, 6361: 5.857933154483459, 6671: 9.21024036697585, 6682: 7.377133712833954, 7262: 5.703782474656201, 7316: 5.703782474656201, 7210: 7.24422751560335, 6197: 5.703782474656201, 6212: 5.703782474656201, 6177: 5.003946305945459, 6067: 4.59511985013459, 6094: 6.212606095751519, 6485: 3.3575937441800234, 6580: 6.309918278226516, 8938: 4.605170185988092, 9019: 3.367295829986474, 8643: 5.0106352940962555, 9988: 4.840716504019344, 9991: 4.59511985013459, 10138: 4.07753744390572, 10141: 4.07753744390572, 9859: 5.298317366548036, 9505: 7.090076835776092, 9675: 5.298317366548036, 9739: 5.298317366548036, 9816: 4.59511985013459, 9834: 5.003946305945459, 9645: 3.367295829986474, 8566: 5.521460917862246, 7710: 5.0106352940962555, 7706: 4.59511985013459, 7698: 4.955827057601261, 7711: 5.0106352940962555, 8156: 3.367295829986474, 8341: 4.59511985013459, 8089: 5.438079308923196, 7951: 7.487173694213739, 7906: 9.082336531391816, 20005: 5.521460917862246, 3663: 3.367295829986474, 3830: 5.991464547107982, 4003: 6.1092475827643655, 4154: 7.307202314764738, 5380: 8.157943507105037, 5456: 5.703782474656201, 5600: 5.700443573390686, 5617: 7.377133712833954, 5642: 8.098946748943339, 4439: 5.521460917862246, 4547: 7.969357742016346, 4768: 3.367295829986474, 4267: 5.991464547107982, 4934: 6.898714534329988, 5073: 4.07753744390572, 5189: 7.090076835776092, 4645: 4.59511985013459, 4658: 5.703782474656201, 14815: 3.367295829986474, 14816: 4.59511985013459, 15199: 5.703782474656201, 14686: 3.367295829986474, 14687: 5.298317366548036, 14757: 4.605170185988092, 14781: 6.214608098422191, 14785: 6.620073206530356, 14789: 5.703782474656201, 14791: 4.59511985013459, 14920: 3.367295829986474, 14666: 5.298317366548036, 14665: 5.298317366548036, 14484: 3.367295829986474, 14528: 4.59511985013459, 14531: 5.298317366548036, 14465: 5.703782474656201, 14472: 6.214608098422191, 15119: 5.19295685089021, 15122: 5.521460917862246, 15132: 5.19295685089021, 15134: 5.521460917862246, 15109: 6.866933284461882, 14582: 3.367295829986474, 15444: 6.7912214627261855, 15603: 4.543294782270004, 15669: 4.07753744390572, 15674: 3.367295829986474, 15694: 5.298317366548036, 16353: 5.521460917862246, 16357: 5.521460917862246, 15808: 5.293304824724492, 16403: 4.59511985013459, 15720: 4.59511985013459, 15977: 4.07753744390572, 15506: 4.59511985013459, 15529: 4.59511985013459, 15531: 4.605170185988092, 16178: 5.480638923341991, 14443: 4.605170185988092, 13028: 5.438079308923196, 13067: 5.0106352940962555, 13757: 5.0106352940962555, 13792: 4.07753744390572, 13808: 5.703782474656201, 12977: 5.298317366548036, 12979: 4.932673752626544, 12984: 3.367295829986474, 12986: 4.07753744390572, 12987: 5.293304824724492, 12991: 3.367295829986474, 13007: 5.003946305945459, 13847: 6.551080335043404, 13433: 9.169414205363537, 13435: 8.92252495730139, 12778: 5.438079308923196, 12785: 5.298317366548036, 14263: 5.298317366548036, 14264: 5.0106352940962555, 14270: 3.367295829986474, 14273: 5.0106352940962555, 14295: 4.605170185988092, 14317: 4.59511985013459, 14324: 3.367295829986474, 14113: 3.367295829986474, 14118: 4.605170185988092, 14428: 4.605170185988092, 14377: 5.298317366548036, 14460: 5.003946305945459, 13940: 5.298317366548036, 13947: 5.298317366548036, 13944: 5.521460917862246, 13973: 6.551080335043404, 14180: 4.59511985013459, 14061: 4.31748811353631, 14082: 5.298317366548036, 14089: 3.367295829986474, 14047: 3.9219733362813143, 18672: 6.1092475827643655, 18677: 5.298317366548036, 18684: 5.135798437050262, 18685: 5.521460917862246, 18690: 5.298317366548036, 18701: 5.298317366548036, 18648: 5.0106352940962555, 18643: 5.857933154483459, 18631: 5.135798437050262, 19313: 5.799092654460526, 18526: 5.594711379601839, 18534: 3.367295829986474, 18538: 3.367295829986474, 18540: 3.367295829986474, 18555: 5.438079308923196, 18562: 4.605170185988092, 18616: 3.912023005428146, 18731: 4.07753744390572, 18842: 5.0106352940962555, 18746: 5.0106352940962555, 18762: 5.0106352940962555, 18768: 3.367295829986474, 18783: 5.247024072160486, 18787: 5.991464547107982, 18800: 3.367295829986474, 18806: 5.298317366548036, 18811: 3.367295829986474, 18525: 5.135798437050262, 18509: 4.07753744390572, 18113: 3.367295829986474, 18117: 5.298317366548036, 18121: 5.298317366548036, 18159: 3.367295829986474, 18238: 5.703782474656201, 18099: 5.799092654460526, 18096: 5.857933154483459, 17924: 7.27931883541462, 17925: 5.003946305945459, 18241: 4.59511985013459, 18081: 5.521460917862246, 17954: 3.367295829986474, 18089: 4.955827057601261, 18248: 5.298317366548036, 18460: 5.703782474656201, 18468: 4.07753744390572, 18416: 5.298317366548036, 18253: 5.703782474656201, 18285: 5.123963979403259, 18288: 3.367295829986474, 18289: 5.298317366548036, 18307: 5.298317366548036, 18311: 5.298317366548036, 18312: 4.07753744390572, 18336: 5.703782474656201, 18361: 5.799092654460526, 19287: 5.298317366548036, 18378: 5.298317366548036, 18381: 5.298317366548036, 18344: 5.438079308923196, 17868: 5.0106352940962555, 19238: 5.991464547107982, 19239: 6.1092475827643655, 19241: 3.367295829986474, 19521: 3.8918202981106265, 19534: 4.59511985013459, 19481: 6.396929655216146, 19483: 6.396929655216146, 19203: 4.59511985013459, 19543: 3.367295829986474, 19636: 6.802394763324311, 19954: 5.700443573390686, 19958: 5.857933154483459, 19792: 3.912023005428146, 19635: 7.438383530044307, 18966: 5.0106352940962555, 19421: 6.309918278226516, 18943: 6.396929655216146, 18936: 6.214608098422191, 18862: 5.703782474656201, 18882: 4.382026634673881, 18927: 4.59511985013459, 19105: 3.8918202981106265, 19102: 5.521460917862246, 19014: 5.0106352940962555, 19018: 5.0106352940962555, 19060: 4.59511985013459, 17867: 5.298317366548036, 16696: 4.07753744390572, 16706: 6.212606095751519, 16707: 5.700443573390686, 16742: 3.367295829986474, 16631: 4.59511985013459, 16796: 5.298317366548036, 16545: 4.605170185988092, 16550: 3.367295829986474, 16563: 5.521460917862246, 16564: 3.367295829986474, 16595: 4.605170185988092, 16611: 5.0106352940962555, 16862: 2.70805020110221, 17599: 4.07753744390572, 16953: 4.605170185988092, 16955: 5.0106352940962555, 16866: 4.605170185988092, 16875: 4.605170185988092, 16479: 5.298317366548036, 16489: 4.59511985013459, 16786: 5.521460917862246, 16506: 5.521460917862246, 16467: 3.367295829986474, 17725: 5.517452896464707, 17400: 5.135798437050262, 17401: 5.293304824724492, 17411: 5.0106352940962555, 17430: 5.799092654460526, 17463: 5.991464547107982, 17464: 5.080410082029073, 17749: 3.367295829986474, 17354: 4.59511985013459, 18021: 5.521460917862246, 17788: 4.59511985013459, 17756: 5.991464547107982, 17478: 5.857933154483459, 17553: 6.551080335043404, 17304: 3.367295829986474, 17303: 5.700443573390686, 17062: 6.1092475827643655, 17083: 5.517452896464707, 17646: 5.521460917862246, 17648: 5.521460917862246, 17145: 5.0106352940962555, 17035: 3.332204510175204, 16998: 4.07753744390572, 17166: 3.367295829986474, 17256: 5.293304824724492, 17265: 3.367295829986474, 17276: 5.517452896464707, 17283: 4.59511985013459, 17291: 5.857933154483459, 17177: 4.248495242049359, 17189: 4.07753744390572, 19012: 4.07753744390572, 12586: 4.59511985013459, 13773: 5.0106352940962555, 13797: 5.438079308923196, 13820: 6.214608098422191, 13843: 5.0106352940962555, 12765: 6.551080335043404, 12360: 5.703782474656201, 11507: 6.551080335043404, 11053: 5.293304824724492, 11096: 5.003946305945459, 11699: 4.605170185988092, 11965: 5.003946305945459, 12087: 5.493061443340548, 12150: 5.478970866241294, 11862: 3.367295829986474, 11873: 0.09531017980432487, 11747: 5.0106352940962555, 12142: 4.07753744390572, 11778: 6.907755278982137, 14729: 3.367295829986474, 14813: 4.07753744390572, 15123: 5.521460917862246, 15117: 5.521460917862246, 16150: 6.396929655216146, 16152: 6.345636360828596, 14838: 6.255750041753367, 15197: 5.521460917862246, 14928: 5.988961416889864, 15312: 5.700443573390686, 15439: 6.551080335043404, 14015: 5.0106352940962555, 13993: 6.907755278982137, 13994: 5.521460917862246, 14040: 5.0106352940962555, 14157: 7.313220387090301, 13871: 5.298317366548036, 13927: 5.0106352940962555, 14260: 4.605170185988092, 14374: 5.0106352940962555, 14415: 5.293304824724492, 14463: 3.367295829986474, 7040: 5.700443573390686, 7125: 5.517452896464707, 7461: 5.703782474656201, 6157: 5.883322388488279, 6305: 4.07753744390572, 6664: 8.630700432209832, 6701: 6.620739651073516, 9971: 5.0106352940962555, 10092: 5.0106352940962555, 9614: 6.620073206530356, 9666: 6.214608098422191, 9851: 6.214608098422191, 10843: 5.0106352940962555, 11025: 4.59511985013459, 10538: 4.59511985013459, 10358: 5.0106352940962555, 10373: 3.367295829986474, 10624: 6.684611727667927, 10691: 6.856461984594587, 10465: 5.521460917862246, 9549: 5.703782474656201, 8159: 6.620073206530356, 8317: 4.07753744390572, 8333: 3.367295829986474, 8343: 5.700443573390686, 8414: 6.214608098422191, 8617: 3.367295829986474, 7899: 8.00603417874901, 8631: 4.07753744390572, 9347: 5.298317366548036, 9360: 6.507277712385012, 9314: 5.857933154483459, 9014: 5.298317366548036, 8646: 5.0106352940962555, 8786: 3.6375861597263857, 8935: 5.003946305945459, 1049: 5.988961416889864, 1092: 4.07753744390572, 1236: 5.703782474656201, 1007: 6.906754778648554, 1331: 5.703782474656201, 265: 5.521460917862246, 16771: 3.6635616461296463, 14951: 3.367295829986474, 22000: 3.367295829986474, 22034: 5.0106352940962555, 22103: 5.703782474656201, 329: 5.5254529391317835, 22147: 3.367295829986474, 10606: 3.367295829986474, 333: 5.521460917862246, 1720: 5.703782474656201, 2161: 7.090076835776092, 2168: 6.620073206530356, 2216: 5.003946305945459, 17088: 4.59511985013459, 17551: 5.0106352940962555, 18489: 5.703782474656201, 19344: 5.993961427306569, 18639: 5.19295685089021, 18698: 5.298317366548036, 18424: 5.438079308923196, 18358: 5.703782474656201, 18332: 5.799092654460526, 17759: 4.709530201312334, 18079: 5.521460917862246, 18223: 4.07753744390572, 18270: 3.367295829986474, 15654: 5.293304824724492, 16288: 6.906754778648554, 16294: 6.212606095751519, 15682: 5.700443573390686, 18704: 5.521460917862246, 16606: 5.0106352940962555, 16608: 5.0106352940962555, 16612: 6.309918278226516, 16678: 4.59511985013459, 16714: 5.0106352940962555, 20256: 4.23410650459726, 20944: 5.003946305945459, 20168: 6.684611727667927, 20171: 6.551080335043404, 20200: 4.59511985013459, 20283: 5.298317366548036, 21730: 4.07753744390572, 21850: 4.605170185988092, 21659: 4.59511985013459, 20976: 6.551080335043404, 21396: 5.293304824724492, 21411: 5.003946305945459, 20139: 3.367295829986474, 21583: 5.0106352940962555, 20040: 3.367295829986474, 19097: 3.367295829986474, 19369: 6.309918278226516, 18788: 4.59511985013459, 18799: 3.912023005428146, 19911: 3.912023005428146, 19227: 5.521460917862246, 19546: 4.59511985013459, 19548: 3.367295829986474, 19840: 5.298317366548036, 20133: 4.07753744390572, 20098: 4.59511985013459, 20074: 4.07753744390572, 20167: 6.551080335043404, 20175: 6.745236349484362, 19572: 4.59511985013459, 19575: 3.367295829986474, 19579: 5.991464547107982, 19622: 5.003946305945459, 19237: 5.991464547107982, 19547: 4.07753744390572, 19551: 6.309918278226516, 19961: 5.703782474656201, 19982: 5.857933154483459, 19756: 3.367295829986474, 19762: 5.517452896464707, 19781: 3.367295829986474, 19782: 3.367295829986474, 19959: 5.857933154483459, 19671: 5.703782474656201, 21568: 3.367295829986474, 21602: 4.382026634673881, 21618: 5.298317366548036, 21637: 5.0106352940962555, 21652: 6.214608098422191, 21529: 5.991464547107982, 21546: 3.367295829986474, 21556: 5.135798437050262, 21409: 4.07753744390572, 20551: 7.3777589082278725, 20574: 7.090076835776092, 20899: 7.090076835776092, 20468: 6.54965074223381, 21476: 5.857933154483459, 21391: 3.367295829986474, 21392: 3.367295829986474, 20977: 6.551080335043404, 20974: 6.684611727667927, 20939: 5.293304824724492, 20288: 5.298317366548036, 20291: 3.367295829986474, 20314: 5.991464547107982, 20967: 6.684611727667927, 20968: 6.684611727667927, 20969: 6.684611727667927, 20970: 6.684611727667927, 18599: 4.59511985013459, 18609: 5.438079308923196, 19333: 5.860786223465865, 18546: 3.912023005428146, 18548: 3.912023005428146, 18564: 5.0106352940962555, 18587: 5.003946305945459, 19332: 5.857933154483459, 18651: 5.991464547107982, 18652: 5.634789603169249, 18735: 4.07753744390572, 18658: 3.367295829986474, 18689: 6.551080335043404, 18692: 5.298317366548036, 18693: 4.59511985013459, 18697: 5.0106352940962555, 19357: 3.367295829986474, 18545: 3.912023005428146, 18151: 5.0106352940962555, 18161: 3.367295829986474, 18210: 3.367295829986474, 18232: 4.07753744390572, 18240: 5.703782474656201, 19285: 5.298317366548036, 18263: 4.07753744390572, 18269: 4.59511985013459, 18078: 5.521460917862246, 17949: 5.517452896464707, 17950: 5.0106352940962555, 17969: 5.634789603169249, 17972: 5.480638923341991, 18095: 5.293304824724492, 17991: 4.382026634673881, 17999: 6.214608098422191, 18001: 5.003946305945459, 17966: 5.298317366548036, 18488: 4.07753744390572, 18502: 5.135798437050262, 18522: 3.367295829986474, 19316: 4.59511985013459, 18535: 3.912023005428146, 18399: 3.367295829986474, 18297: 3.367295829986474, 18411: 5.438079308923196, 18448: 4.07753744390572, 18469: 4.59511985013459, 18471: 3.367295829986474, 18472: 3.367295829986474, 19123: 5.003946305945459, 19131: 4.382026634673881, 19140: 5.298317366548036, 19466: 3.367295829986474, 19469: 5.003946305945459, 19152: 3.367295829986474, 19072: 4.605170185988092, 19456: 5.521460917862246, 19215: 5.991464547107982, 19194: 4.59511985013459, 19477: 5.703782474656201, 18866: 2.70805020110221, 18873: 4.605170185988092, 18890: 3.367295829986474, 18932: 5.0106352940962555, 18789: 5.0106352940962555, 18798: 5.0106352940962555, 18980: 3.912023005428146, 19009: 5.517452896464707, 19011: 5.298317366548036, 19035: 5.991464547107982, 19435: 5.521460917862246, 18970: 5.0106352940962555, 18971: 3.367295829986474, 21660: 5.003946305945459, 3410: 5.523458920524919, 2824: 6.54965074223381, 2849: 6.907755278982137, 2709: 4.59511985013459, 2479: 5.703782474656201, 3232: 6.1092475827643655, 3062: 3.4011973816621555, 2977: 3.367295829986474, 5402: 7.313220387090301, 5750: 8.364275084991524, 5129: 5.857933154483459, 5526: 3.367295829986474, 5645: 6.212606095751519, 5998: 5.991464547107982, 6002: 5.991464547107982, 6006: 6.54965074223381, 4057: 7.495541943884256, 4902: 5.003946305945459, 4398: 3.367295829986474, 4288: 5.991464547107982, 4507: 5.703782474656201, 22052: 5.703782474656201, 22024: 4.605170185988092, 22069: 4.59511985013459, 22075: 5.298317366548036, 22124: 5.857933154483459, 22128: 4.59511985013459, 21931: 4.59511985013459, 22131: 6.309918278226516, 21838: 5.293304824724492, 21814: 4.07753744390572, 21728: 4.07753744390572, 21737: 5.003946305945459, 21739: 5.0106352940962555, 21744: 3.367295829986474, 21807: 4.07753744390572, 21763: 7.346010209913293, 21905: 5.517452896464707, 21908: 3.4011973816621555, 21988: 4.59511985013459, 2057: 5.648974238161206, 994: 3.367295829986474, 1085: 7.408530566894626, 1347: 6.040968742011071, 13172: 5.857933154483459, 12595: 5.241747015059643, 12538: 6.212606095751519, 12462: 5.298317366548036, 12495: 5.0106352940962555, 12102: 5.293304824724492, 11934: 4.07753744390572, 12293: 5.293304824724492, 12300: 6.212606095751519, 12305: 6.212606095751519, 12291: 6.212606095751519, 12261: 6.212606095751519, 12271: 6.54965074223381, 12281: 5.517452896464707, 12284: 4.59511985013459, 12255: 5.003946305945459, 14163: 5.703782474656201, 14149: 6.214608098422191, 14224: 5.703782474656201, 13893: 5.438079308923196, 13894: 5.438079308923196, 13781: 5.0106352940962555, 13778: 5.0106352940962555, 13777: 5.0106352940962555, 12873: 5.298317366548036, 13598: 3.044522437723423, 13537: 4.07753744390572, 12760: 4.07753744390572, 12924: 3.367295829986474, 13027: 5.438079308923196, 13032: 4.07753744390572, 13037: 3.912023005428146, 13065: 5.438079308923196, 13756: 5.0106352940962555, 13772: 3.9889840465642745, 13603: 4.59511985013459, 13607: 5.799092654460526, 11792: 5.991464547107982, 9918: 3.367295829986474, 9978: 5.703782474656201, 10271: 6.212606095751519, 9663: 5.856503561673865, 9690: 3.367295829986474, 9691: 5.003946305945459, 10330: 5.703782474656201, 10352: 8.48673398393153, 10142: 4.07753744390572, 9626: 3.367295829986474, 8931: 4.07753744390572, 8951: 4.605170185988092, 8962: 4.605170185988092, 8984: 4.59511985013459, 9312: 5.857933154483459, 9224: 5.521460917862246, 8779: 5.135798437050262, 8781: 3.4011973816621555, 8782: 3.367295829986474, 8783: 4.248495242049359, 8853: 5.703782474656201, 9091: 3.367295829986474, 9544: 3.367295829986474, 9350: 6.745236349484362, 10355: 8.517193191416238, 11261: 5.438079308923196, 11129: 5.0106352940962555, 11361: 5.703782474656201, 11183: 3.367295829986474, 11210: 4.59511985013459, 11693: 6.161207321695077, 11842: 3.367295829986474, 11855: 5.003946305945459, 11864: 3.367295829986474, 11866: 3.367295829986474, 11868: 3.367295829986474, 10451: 4.605170185988092, 10509: 3.367295829986474, 10743: 5.0106352940962555, 10651: 6.802394763324311, 10387: 4.382026634673881, 10390: 5.521460917862246, 10424: 5.703782474656201, 10625: 6.802394763324311, 10772: 5.521460917862246, 11039: 5.0106352940962555, 11060: 5.438079308923196, 11330: 5.521460917862246, 10816: 3.912023005428146, 10844: 5.988961416889864, 10864: 4.59511985013459, 10889: 5.438079308923196, 10948: 5.703782474656201, 14107: 3.367295829986474, 17619: 6.551080335043404, 17697: 7.377133712833954, 17287: 4.59511985013459, 17099: 5.0106352940962555, 17223: 4.07753744390572, 16432: 3.367295829986474, 16654: 5.0106352940962555, 16666: 4.07753744390572, 16668: 3.367295829986474, 16720: 3.367295829986474, 16458: 5.298317366548036, 16460: 5.298317366548036, 16544: 4.605170185988092, 16559: 5.0106352940962555, 16584: 3.367295829986474, 16593: 5.298317366548036, 18656: 4.59511985013459, 18679: 6.1092475827643655, 18710: 4.653960350157523, 19317: 5.799092654460526, 19318: 4.07753744390572, 18902: 4.382026634673881, 18857: 5.517452896464707, 18860: 4.59511985013459, 18861: 4.59511985013459, 18427: 5.703782474656201, 17554: 5.703782474656201, 17562: 4.59511985013459, 17800: 4.59511985013459, 17832: 6.214608098422191, 17724: 4.59511985013459, 18195: 5.703782474656201, 18331: 5.003946305945459, 17880: 6.214608098422191, 18003: 5.0106352940962555, 18128: 3.8918202981106265, 15099: 5.700443573390686, 15089: 3.367295829986474, 14361: 5.991464547107982, 14372: 3.367295829986474, 14326: 5.003946305945459, 14489: 3.367295829986474, 14494: 3.367295829986474, 14510: 3.4011973816621555, 14563: 3.367295829986474, 14565: 3.367295829986474, 15847: 3.367295829986474, 16310: 7.154615356913663, 15824: 4.59511985013459, 16338: 4.02535169073515, 15377: 5.700443573390686, 15435: 6.214608098422191, 14871: 5.293304824724492, 14885: 3.367295829986474, 14904: 4.02535169073515, 14924: 4.59511985013459, 15536: 3.367295829986474, 16039: 6.906754778648554, 4072: 5.703782474656201, 4419: 6.802394763324311, 4425: 5.703782474656201, 4120: 6.684611727667927, 3969: 5.703782474656201, 3909: 5.991464547107982, 3895: 5.003946305945459, 5102: 6.907755278982137, 5142: 6.214608098422191, 5159: 6.745236349484362, 5180: 6.802394763324311, 5015: 5.703782474656201, 4532: 6.802394763324311, 4570: 4.07753744390572, 4655: 5.521460917862246, 4577: 6.551080335043404, 4808: 5.991464547107982, 2858: 7.24422751560335, 3116: 5.634789603169249, 3126: 5.703782474656201, 3069: 5.988961416889864, 2727: 6.182084906716632, 2557: 6.212606095751519, 2559: 6.684611727667927, 2820: 5.857933154483459, 2610: 7.495541943884256, 2620: 5.703782474656201, 3614: 5.703782474656201, 3508: 4.543294782270004, 3382: 4.59511985013459, 3254: 5.0106352940962555, 7470: 6.1092475827643655, 7280: 7.313220387090301, 7420: 7.762170607138205, 7703: 4.59511985013459, 7714: 5.703782474656201, 7689: 5.0106352940962555, 6336: 5.703782474656201, 6779: 5.991464547107982, 6781: 6.396929655216146, 6879: 5.298317366548036, 7162: 5.857933154483459, 8026: 2.772588722239781, 8620: 5.0106352940962555, 8630: 4.59511985013459, 8229: 5.298317366548036, 8541: 5.703782474656201, 7943: 9.126850061477157, 8004: 6.1092475827643655, 7954: 7.494986233950533, 6020: 6.396929655216146, 6116: 3.4011973816621555, 5682: 5.003946305945459, 5979: 6.476972362889683, 5795: 5.703782474656201, 5875: 6.54965074223381, 6510: 6.396929655216146, 5524: 3.367295829986474, 6148: 5.293304824724492, 6237: 4.59511985013459, 6267: 3.367295829986474, 4727: 4.07753744390572, 4989: 5.988961416889864, 5476: 5.003946305945459, 7707: 2.70805020110221, 7372: 5.703782474656201, 7991: 5.703782474656201, 7139: 6.907755278982137, 2684: 7.090076835776092, 2621: 5.703782474656201, 1595: 7.24422751560335, 1343: 4.07753744390572, 1742: 5.857933154483459, 3950: 7.823645930834952, 4074: 5.003946305945459, 3265: 7.495541943884256, 3266: 6.54965074223381, 3202: 4.07753744390572, 3666: 4.07753744390572, 3667: 3.367295829986474, 3668: 3.367295829986474, 3592: 5.700443573390686, 3439: 7.937374696163295, 3279: 5.703782474656201, 17557: 4.07753744390572, 17908: 5.0106352940962555, 18155: 3.367295829986474, 18156: 4.07753744390572, 18217: 4.07753744390572, 18225: 3.367295829986474, 18255: 5.298317366548036, 18265: 5.298317366548036, 18308: 5.703782474656201, 18315: 5.703782474656201, 17049: 4.07753744390572, 15316: 6.212606095751519, 15548: 5.438079308923196, 15635: 5.0106352940962555, 16320: 7.673223121121708, 14814: 4.59511985013459, 15826: 3.367295829986474, 16417: 5.003946305945459, 18805: 4.59511985013459, 22082: 3.367295829986474, 22083: 6.396929655216146, 46: 5.521460917862246, 21580: 5.0106352940962555, 21603: 3.367295829986474, 21654: 4.07753744390572, 21661: 3.367295829986474, 55: 5.521460917862246, 1029: 5.293304824724492, 824: 5.521460917862246, 19685: 5.0106352940962555, 19711: 4.59511985013459, 19390: 4.07753744390572, 19526: 4.07753744390572, 20279: 3.367295829986474, 20802: 6.907755278982137, 19842: 3.367295829986474, 20015: 6.906754778648554, 19896: 6.063785208687608, 20325: 3.367295829986474, 20134: 4.59511985013459, 11455: 3.912023005428146, 11483: 5.991464547107982, 11823: 5.857933154483459, 11327: 4.07753744390572, 11124: 5.298317366548036, 11670: 3.912023005428146, 12000: 5.298317366548036, 13070: 6.395261598115449, 11675: 3.367295829986474, 10790: 4.07753744390572, 8785: 4.248495242049359, 8869: 4.07753744390572, 8907: 3.332204510175204, 8910: 5.0106352940962555, 8966: 3.367295829986474, 8996: 4.59511985013459, 8370: 5.517452896464707, 8633: 4.59511985013459, 8697: 5.0106352940962555, 10276: 5.521460917862246, 10067: 3.367295829986474, 10293: 6.214608098422191, 10534: 4.07753744390572, 10270: 5.521460917862246, 9716: 6.745236349484362, 9757: 3.367295829986474, 10269: 5.298317366548036, 13036: 5.0106352940962555, 13877: 4.59511985013459, 12985: 5.298317366548036, 13576: 6.906754778648554, 12836: 5.0106352940962555, 12843: 4.07753744390572, 12998: 3.367295829986474, 13907: 5.0106352940962555, 14567: 3.367295829986474, 14029: 4.07753744390572, 14035: 3.367295829986474, 14063: 6.620073206530356, 13180: 4.605170185988092, 12345: 5.003946305945459, 12439: 4.07753744390572, 11506: 5.0106352940962555, 11854: 4.07753744390572, 11859: 3.367295829986474, 10065: 4.59511985013459, 10637: 6.802394763324311, 12359: 4.605170185988092, 11759: 3.367295829986474, 11884: 3.367295829986474, 12137: 4.07753744390572, 8660: 4.07753744390572, 8712: 4.07753744390572, 8925: 3.367295829986474, 9180: 5.517452896464707, 8571: 5.991464547107982, 7952: 7.494986233950533, 8045: 3.367295829986474, 13357: 3.091042453358316, 17218: 5.991464547107982, 17250: 3.367295829986474, 17286: 3.367295829986474, 17288: 5.0106352940962555, 16871: 6.309918278226516, 18854: 4.938781190328272, 17719: 5.003946305945459, 17799: 5.703782474656201, 17828: 3.367295829986474, 18182: 3.367295829986474, 18215: 3.367295829986474, 13063: 4.709530201312334, 14238: 5.293304824724492, 12964: 5.438079308923196, 13434: 9.249464926660233, 12756: 5.991464547107982, 15380: 6.54965074223381, 14698: 5.0106352940962555, 14616: 5.19295685089021, 15030: 5.916202062607435, 3068: 4.59511985013459, 3205: 3.367295829986474, 2926: 5.003946305945459, 3505: 5.700443573390686, 1430: 6.54965074223381, 2109: 4.07753744390572, 1926: 5.521460917862246, 5633: 6.212606095751519, 6238: 5.703782474656201, 3687: 5.988961416889864, 18914: 4.07753744390572, 12566: 5.0106352940962555, 13461: 6.95683111662873, 12808: 3.367295829986474, 14159: 3.367295829986474, 8774: 4.59511985013459, 9600: 7.003065458786462, 9611: 5.293304824724492, 7811: 5.857933154483459, 7960: 7.214504414151143, 8030: 6.802394763324311, 10566: 6.396929655216146, 10545: 4.59511985013459, 94: 4.07753744390572, 115: 5.298317366548036, 197: 5.521460917862246, 1271: 5.521460917862246, 1272: 3.912023005428146, 15062: 6.212606095751519, 16337: 7.313220387090301, 15780: 5.438079308923196, 19991: 5.700443573390686, 18856: 5.700443573390686, 19275: 3.367295829986474, 18259: 5.298317366548036, 1902: 5.521460917862246, 1531: 5.293304824724492, 3021: 5.703782474656201, 2853: 7.24422751560335, 1222: 5.703782474656201, 20425: 6.684611727667927, 20504: 7.090076835776092, 20518: 7.7406644019172415, 20798: 6.212606095751519, 18930: 5.0106352940962555, 18997: 4.07753744390572, 22095: 4.110873864173311, 22168: 6.684611727667927, 21324: 5.298317366548036, 6486: 6.551080335043404, 6489: 6.551080335043404, 4882: 7.24422751560335, 4333: 7.495541943884256, 4076: 5.703782474656201, 15794: 7.003065458786462, 15593: 4.07753744390572, 15809: 4.07753744390572, 16387: 4.77912349311153, 16440: 5.700443573390686, 16515: 5.298317366548036, 14639: 4.07753744390572, 14685: 3.367295829986474, 15188: 6.212606095751519, 16017: 6.309918278226516, 16124: 5.988961416889864, 15455: 6.745236349484362, 15537: 4.605170185988092, 17344: 4.605170185988092, 17392: 4.605170185988092, 17428: 3.367295829986474, 18202: 3.367295829986474, 18242: 5.703782474656201, 18292: 4.59511985013459, 18415: 8.006367567650246, 18420: 4.07753744390572, 18458: 4.07753744390572, 18139: 5.598421958998375, 17579: 5.0106352940962555, 18019: 3.367295829986474, 17883: 5.0106352940962555, 17994: 5.703782474656201, 16701: 5.521460917862246, 16705: 5.293304824724492, 16719: 5.517452896464707, 16592: 4.59511985013459, 16600: 7.1308988302963465, 17092: 5.481471909645883, 17115: 3.367295829986474, 17175: 5.0106352940962555, 17029: 4.59511985013459, 16915: 5.0106352940962555, 12573: 2.639057329615259, 12638: 7.003065458786462, 12639: 5.991464547107982, 12640: 5.517452896464707, 12413: 5.521460917862246, 12419: 4.07753744390572, 12484: 5.703782474656201, 13456: 7.6004023345004, 12371: 5.0106352940962555, 11919: 4.07753744390572, 11726: 5.298317366548036, 12270: 5.517452896464707, 12283: 7.089243155027514, 12327: 5.521460917862246, 11990: 5.438079308923196, 14278: 6.551080335043404, 14096: 3.367295829986474, 14114: 5.298317366548036, 14512: 5.298317366548036, 14467: 5.703782474656201, 15019: 7.377133712833954, 12872: 4.59511985013459, 13565: 5.517452896464707, 12930: 5.703782474656201, 13926: 5.0106352940962555, 12994: 5.517452896464707, 13758: 5.0106352940962555, 13768: 5.0106352940962555, 2468: 5.703782474656201, 2803: 5.988961416889864, 2852: 6.907755278982137, 1821: 3.367295829986474, 3606: 4.59511985013459, 3206: 3.367295829986474, 3178: 5.293304824724492, 19836: 4.605170185988092, 19865: 5.700443573390686, 19625: 4.382026634673881, 19734: 3.367295829986474, 20509: 7.090076835776092, 20466: 7.090076835776092, 18948: 5.0106352940962555, 18987: 3.367295829986474, 18644: 5.521460917862246, 18712: 5.003946305945459, 18758: 6.620073206530356, 19172: 5.703782474656201, 19202: 4.983606621708336, 19222: 7.003065458786462, 19532: 4.605170185988092, 19112: 3.367295829986474, 19101: 5.703782474656201, 1091: 3.367295829986474, 1591: 8.294049640102028, 1455: 6.212606095751519, 21668: 5.0106352940962555, 21843: 6.251903883165888, 20978: 6.550365794105536, 22119: 3.367295829986474, 22042: 5.298317366548036, 21989: 5.521460917862246, 3507: 4.59511985013459, 3514: 5.988961416889864, 3518: 4.07753744390572, 3877: 6.212606095751519, 3806: 5.521460917862246, 3639: 5.703782474656201, 3658: 5.857933154483459, 3660: 5.857933154483459, 3778: 7.3777589082278725, 3096: 7.989560449333865, 3285: 5.991464547107982, 3288: 5.703782474656201, 3827: 5.703782474656201, 4587: 6.956545443151569, 4423: 6.396929655216146, 4530: 3.367295829986474, 4604: 6.1092475827643655, 4648: 4.59511985013459, 4665: 5.988961416889864, 4677: 5.003946305945459, 3924: 6.1092475827643655, 3925: 7.575584651557793, 3948: 8.160518247477505, 3993: 4.59511985013459, 4040: 5.521460917862246, 4116: 7.346010209913293, 4301: 7.919356190660617, 4322: 6.309918278226516, 4096: 6.551080335043404, 1766: 5.703782474656201, 2064: 6.396929655216146, 1621: 4.59511985013459, 1279: 5.703782474656201, 1283: 5.703782474656201, 1452: 5.700443573390686, 1055: 5.003946305945459, 1329: 6.214608098422191, 1165: 7.696667081526462, 1210: 6.684611727667927, 1596: 7.24422751560335, 1606: 8.213652703029998, 1609: 7.762170607138205, 2637: 7.7406644019172415, 2636: 7.047517221357296, 3179: 4.31748811353631, 2157: 7.003065458786462, 2175: 5.298317366548036, 2192: 6.802394763324311, 2197: 0.4054651081081644, 2485: 6.906754778648554, 2528: 5.991464547107982, 2530: 7.495541943884256, 2540: 7.7406644019172415, 9221: 5.703782474656201, 9158: 3.367295829986474, 8987: 6.309918278226516, 8952: 5.991464547107982, 8188: 7.824046010856292, 8082: 5.0689042022202315, 8088: 5.298317366548036, 8127: 4.59511985013459, 8132: 5.703782474656201, 7993: 5.703782474656201, 7953: 7.494986233950533, 10880: 2.70805020110221, 10941: 5.0106352940962555, 10649: 6.802394763324311, 10664: 6.311734809152915, 11470: 4.07753744390572, 11502: 4.382026634673881, 11504: 3.367295829986474, 11348: 4.59511985013459, 11182: 3.367295829986474, 9812: 5.0106352940962555, 10223: 5.703782474656201, 9578: 4.605170185988092, 9607: 5.298317366548036, 9673: 5.003946305945459, 9947: 4.59511985013459, 10366: 4.07753744390572, 10399: 3.367295829986474, 10414: 5.293304824724492, 10601: 5.703782474656201, 10140: 4.07753744390572, 10146: 8.422882511944996, 10162: 7.52294091807237, 10088: 5.700443573390686, 6053: 4.07753744390572, 6211: 5.298317366548036, 6425: 6.396929655216146, 6025: 7.90100705199242, 5550: 5.703782474656201, 5304: 5.703782474656201, 5132: 5.991464547107982, 5231: 5.703782474656201, 5547: 5.857933154483459, 5887: 6.906754778648554, 5431: 5.293304824724492, 5465: 4.59511985013459, 5794: 5.521460917862246, 6895: 3.858622228701031, 7253: 5.298317366548036, 6848: 4.59511985013459, 7309: 6.907755278982137, 7633: 8.202482446576537, 7654: 5.298317366548036, 7377: 4.59511985013459, 7437: 5.700443573390686, 7438: 3.332204510175204, 6844: 6.551080335043404, 7488: 5.481471909645883, 7517: 5.703782474656201, 6840: 6.684611727667927, 6302: 5.703782474656201, 6637: 7.24422751560335, 6317: 3.367295829986474, 6793: 7.27931883541462, 6331: 6.802394763324311, 11059: 5.0106352940962555, 11061: 5.135798437050262, 11093: 3.367295829986474, 10933: 5.0106352940962555, 10974: 6.214608098422191, 11393: 6.57507584059962, 8068: 4.248495242049359, 11166: 5.0106352940962555, 10922: 3.367295829986474, 10916: 5.298317366548036, 10611: 4.59511985013459, 10851: 3.367295829986474, 11318: 4.07753744390572, 11320: 3.367295829986474, 11324: 5.703782474656201, 10894: 5.298317366548036, 10765: 5.003946305945459, 10794: 3.367295829986474, 10757: 4.59511985013459, 11426: 4.07753744390572, 11978: 3.4011973816621555, 12055: 3.367295829986474, 12056: 3.367295829986474, 12141: 5.293304824724492, 12277: 6.212606095751519, 12297: 5.517452896464707, 12242: 4.07753744390572, 11821: 5.298317366548036, 11831: 3.367295829986474, 11508: 5.003946305945459, 11510: 4.59511985013459, 11516: 6.214608098422191, 11791: 5.293304824724492, 11898: 6.396929655216146, 11911: 5.0106352940962555, 11918: 4.605170185988092, 12111: 3.332204510175204, 11757: 3.367295829986474, 8610: 4.07753744390572, 8616: 4.59511985013459, 8640: 3.367295829986474, 8648: 4.07753744390572, 8385: 5.298317366548036, 8418: 5.298317366548036, 8770: 5.438079308923196, 8777: 6.214608098422191, 8844: 4.07753744390572, 9182: 4.77912349311153, 8688: 4.59511985013459, 9191: 5.521460917862246, 7890: 7.243512974665482, 8259: 3.367295829986474, 8289: 3.367295829986474, 8104: 4.07753744390572, 9909: 6.309918278226516, 9912: 6.309918278226516, 9914: 6.309918278226516, 9926: 3.4011973816621555, 9962: 5.0106352940962555, 10562: 4.290459441148391, 10275: 5.521460917862246, 10048: 3.367295829986474, 10080: 5.517452896464707, 10081: 5.703782474656201, 9446: 5.703782474656201, 9089: 5.438079308923196, 9483: 3.367295829986474, 9492: 3.367295829986474, 9318: 4.02535169073515, 9676: 5.298317366548036, 9693: 5.517452896464707, 9704: 7.2078598714324755, 9705: 6.476972362889683, 9722: 3.367295829986474, 9723: 3.367295829986474, 9743: 5.521460917862246, 9584: 4.59511985013459, 9621: 6.745236349484362, 9635: 4.07753744390572, 9636: 5.298317366548036, 9655: 3.367295829986474, 13089: 3.367295829986474, 15083: 4.59511985013459, 14492: 4.07753744390572, 14497: 4.07753744390572, 14750: 4.59511985013459, 14771: 3.367295829986474, 14487: 4.07753744390572, 14416: 4.07753744390572, 14340: 3.367295829986474, 14394: 4.59511985013459, 15819: 3.367295829986474, 16390: 5.293304824724492, 15848: 5.857933154483459, 15555: 4.07753744390572, 15556: 5.293304824724492, 15557: 5.521460917862246, 15207: 5.003946305945459, 15570: 4.59511985013459, 15582: 4.59511985013459, 16309: 6.161207321695077, 13352: 5.860786223465865, 13453: 7.600902459542082, 13145: 5.521460917862246, 13162: 5.703782474656201, 12587: 3.367295829986474, 12636: 6.396929655216146, 14196: 5.521460917862246, 14009: 4.59511985013459, 14111: 3.367295829986474, 12929: 5.298317366548036, 12978: 5.298317366548036, 12982: 5.991464547107982, 12996: 3.367295829986474, 12866: 5.857933154483459, 13044: 5.298317366548036, 13763: 5.0106352940962555, 13764: 5.0106352940962555, 13765: 5.0106352940962555, 3198: 3.367295829986474, 3065: 6.906754778648554, 2661: 5.703782474656201, 3166: 5.991464547107982, 2761: 5.293304824724492, 3767: 5.521460917862246, 3748: 6.1092475827643655, 3503: 5.517452896464707, 3542: 6.620073206530356, 1264: 5.703782474656201, 1592: 8.294049640102028, 198: 4.762173934797756, 351: 4.499809670330265, 438: 5.703782474656201, 61: 5.857933154483459, 783: 5.0106352940962555, 947: 4.07753744390572, 952: 4.605170185988092, 668: 5.0106352940962555, 699: 5.298317366548036, 1752: 5.703782474656201, 2078: 6.214608098422191, 2144: 5.703782474656201, 2163: 5.703782474656201, 1917: 5.521460917862246, 1903: 5.521460917862246, 1909: 5.521460917862246, 6657: 5.700443573390686, 7538: 4.59511985013459, 7254: 5.481471909645883, 7268: 3.367295829986474, 7475: 5.003946305945459, 7854: 3.332204510175204, 7677: 5.003946305945459, 7683: 3.367295829986474, 7688: 4.59511985013459, 7690: 2.70805020110221, 7693: 4.248495242049359, 7697: 4.59511985013459, 7708: 5.0106352940962555, 6321: 5.703782474656201, 6704: 6.1092475827643655, 7065: 6.212606095751519, 4815: 6.802394763324311, 4656: 5.521460917862246, 4167: 7.85979918056211, 5522: 4.248495242049359, 5771: 7.820439515262181, 5797: 5.703782474656201, 5775: 3.332204510175204, 5783: 4.07753744390572, 5534: 5.003946305945459, 4695: 5.521460917862246, 4690: 6.551080335043404, 4687: 6.912742820493176, 5030: 5.988961416889864, 5292: 7.377446359389572, 5298: 5.003946305945459, 16478: 4.07753744390572, 11450: 4.07753744390572, 11198: 4.59511985013459, 11620: 4.709530201312334, 12100: 5.293304824724492, 11634: 5.703782474656201, 11640: 4.07753744390572, 11739: 4.07753744390572, 11891: 6.309918278226516, 11929: 5.0106352940962555, 11091: 5.298317366548036, 10723: 5.0106352940962555, 10831: 5.0106352940962555, 10322: 3.367295829986474, 10361: 3.367295829986474, 10919: 5.0106352940962555, 10874: 3.367295829986474, 10903: 4.290459441148391, 10912: 5.0106352940962555, 12844: 5.0106352940962555, 12868: 3.367295829986474, 12878: 5.0106352940962555, 13462: 8.131236549696116, 13910: 5.521460917862246, 13943: 3.367295829986474, 14016: 5.003946305945459, 13795: 5.0106352940962555, 12450: 4.59511985013459, 12621: 4.07753744390572, 7060: 6.684611727667927, 7214: 5.648974238161206, 6206: 5.003946305945459, 6231: 5.521460917862246, 6585: 5.703782474656201, 9734: 5.700443573390686, 9747: 4.07753744390572, 8936: 5.298317366548036, 9772: 5.003946305945459, 9942: 4.07753744390572, 9846: 5.135798437050262, 7986: 6.395261598115449, 8598: 5.298317366548036, 14003: 5.703782474656201, 19589: 5.298317366548036, 19592: 4.605170185988092, 19562: 5.0106352940962555, 19167: 4.382026634673881, 19231: 4.709530201312334, 19695: 4.59511985013459, 19846: 3.367295829986474, 19871: 3.367295829986474, 19909: 5.298317366548036, 19808: 5.515362359400377, 19805: 4.248495242049359, 19758: 3.367295829986474, 18717: 4.174387269895637, 18379: 5.298317366548036, 18408: 5.298317366548036, 18537: 3.367295829986474, 18905: 3.367295829986474, 18906: 3.367295829986474, 18950: 3.367295829986474, 19038: 5.298317366548036, 18808: 5.298317366548036, 21911: 4.07753744390572, 21729: 4.59511985013459, 20692: 7.090076835776092, 20073: 5.293304824724492, 20102: 3.367295829986474, 21539: 3.367295829986474, 21559: 3.367295829986474, 21464: 3.367295829986474, 18352: 5.298317366548036, 15108: 6.522092798170152, 15628: 3.367295829986474, 15449: 6.214608098422191, 14562: 3.367295829986474, 14501: 4.605170185988092, 17353: 3.367295829986474, 17449: 5.0106352940962555, 17257: 3.8918202981106265, 17275: 4.59511985013459, 17938: 3.367295829986474, 17983: 5.293304824724492, 18097: 5.860786223465865, 18141: 5.703782474656201, 18258: 5.298317366548036, 18291: 5.298317366548036, 17530: 3.367295829986474, 17542: 5.991464547107982, 17813: 5.517452896464707, 17836: 5.135798437050262, 15845: 4.59511985013459, 15733: 3.367295829986474, 16495: 4.59511985013459, 16920: 5.521460917862246, 16990: 3.367295829986474, 17006: 4.59511985013459, 17074: 4.59511985013459, 16497: 4.59511985013459, 16610: 5.0106352940962555, 16658: 5.0106352940962555, 6155: 6.54965074223381, 19942: 3.367295829986474, 19585: 5.298317366548036, 19570: 5.298317366548036, 19992: 7.600902459542082, 20001: 3.332204510175204, 19821: 5.517452896464707, 19743: 5.0106352940962555, 18807: 5.700443573390686, 19848: 4.07753744390572, 19137: 3.367295829986474, 19201: 5.0106352940962555, 18973: 3.367295829986474, 18756: 5.517452896464707, 21462: 5.135798437050262, 21474: 5.703782474656201, 21491: 4.564348191467836, 21727: 4.59511985013459, 21753: 4.07753744390572, 21640: 3.912023005428146, 21616: 5.293304824724492, 20063: 5.293304824724492, 20069: 4.59511985013459, 20138: 5.293304824724492, 20930: 5.521460917862246, 20324: 3.367295829986474, 20418: 7.170119543449628, 20869: 5.003946305945459, 17300: 5.298317366548036, 17127: 4.248495242049359, 17149: 3.8918202981106265, 17155: 5.988961416889864, 17206: 4.07753744390572, 17227: 4.59511985013459, 17721: 3.367295829986474, 17434: 3.367295829986474, 17437: 5.517452896464707, 17443: 5.293304824724492, 16712: 5.0106352940962555, 16725: 5.408157832227569, 16486: 5.0106352940962555, 16577: 5.298317366548036, 16609: 5.0106352940962555, 16646: 6.214608098422191, 17003: 3.367295829986474, 17025: 5.857933154483459, 17041: 5.0106352940962555, 17588: 5.521460917862246, 16940: 5.003946305945459, 16968: 5.0106352940962555, 16978: 3.367295829986474, 18447: 3.367295829986474, 18508: 3.367295829986474, 18510: 3.367295829986474, 18515: 3.367295829986474, 19293: 3.332204510175204, 18528: 5.703782474656201, 18412: 5.298317366548036, 18432: 4.07753744390572, 18674: 5.703782474656201, 19368: 4.07753744390572, 18283: 4.709530201312334, 17534: 5.703782474656201, 17536: 3.332204510175204, 17537: 3.367295829986474, 18180: 5.003946305945459, 18227: 5.517452896464707, 18272: 5.298317366548036, 18287: 5.703782474656201, 18281: 5.298317366548036, 18158: 4.07753744390572, 17934: 5.703782474656201, 16473: 3.332204510175204, 4246: 7.034387929915503, 5523: 2.70805020110221, 5510: 5.703782474656201, 6132: 6.551080335043404, 4626: 5.634789603169249, 807: 4.204692619390966, 1594: 8.070906088787819, 22039: 5.298317366548036, 21999: 5.003946305945459, 21831: 4.605170185988092, 3059: 5.0106352940962555, 1933: 5.521460917862246, 1753: 5.703782474656201, 2055: 5.4680601411351315, 1910: 5.521460917862246, 2177: 5.521460917862246, 2343: 5.241747015059643, 1959: 6.620073206530356, 1899: 5.521460917862246, 1068: 5.703782474656201, 1093: 3.367295829986474, 1136: 5.857933154483459, 1242: 5.988961416889864, 1056: 5.247024072160486, 3261: 5.988961416889864, 3132: 3.367295829986474, 2702: 6.551080335043404, 2484: 6.214608098422191, 2930: 4.605170185988092, 18853: 4.07753744390572, 18668: 3.367295829986474, 19669: 4.59511985013459, 19677: 5.003946305945459, 18423: 5.298317366548036, 18405: 5.298317366548036, 19260: 3.367295829986474, 18234: 3.367295829986474, 18367: 3.367295829986474, 17821: 3.912023005428146, 17499: 5.298317366548036, 9266: 3.367295829986474, 9267: 4.454347296253507, 9272: 4.454347296253507, 9291: 3.713572066704308, 9293: 3.713572066704308, 10604: 4.2626798770413155, 11845: 3.9318256327243257, 11846: 3.8918202981106265, 11848: 4.454347296253507, 14944: 3.9318256327243257, 14952: 3.9318256327243257, 413: 5.521460917862246, 15514: 4.2626798770413155, 16768: 3.6635616461296463, 19944: 4.2626798770413155, 57: 5.703782474656201, 73: 3.367295829986474, 200: 5.521460917862246, 19812: 7.090076835776092, 21577: 4.943782987108415, 7771: 5.910796644040527, 7602: 5.940171252720432, 7348: 5.703782474656201, 7367: 5.703782474656201, 7279: 5.703782474656201, 6771: 4.07753744390572, 7166: 3.2917544702807735, 7197: 6.212606095751519, 9759: 5.298317366548036, 10195: 6.212606095751519, 9888: 3.367295829986474, 9752: 5.521460917862246, 9034: 6.396929655216146, 9167: 6.309918278226516, 9610: 3.367295829986474, 9631: 6.476972362889683, 9650: 5.298317366548036, 9679: 3.367295829986474, 9680: 5.003946305945459, 10014: 3.367295829986474, 10670: 6.956545443151569, 10527: 4.59511985013459, 10119: 4.07753744390572, 8243: 4.59511985013459, 8535: 5.517452896464707, 7992: 5.703782474656201, 8887: 5.293304824724492, 8889: 5.298317366548036, 8932: 5.703782474656201, 8934: 4.59511985013459, 9029: 5.703782474656201, 9188: 5.703782474656201, 9168: 3.367295829986474, 8582: 3.912023005428146, 8585: 4.356708826689592, 4601: 5.703782474656201, 3608: 5.521460917862246, 3530: 3.367295829986474, 3999: 6.476972362889683, 3995: 6.476972362889683, 3887: 5.857933154483459, 6207: 5.988961416889864, 5700: 7.581209826196346, 5799: 5.293304824724492, 5062: 5.493061443340548, 5622: 5.988961416889864, 5876: 7.6004023345004, 5539: 5.703782474656201, 5888: 6.161207321695077, 16491: 4.605170185988092, 4536: 7.170119543449628, 3750: 4.59511985013459, 4987: 4.59511985013459, 5008: 7.24422751560335, 5866: 7.495541943884256, 5868: 7.089243155027514, 2509: 5.293304824724492, 13535: 5.700443573390686, 12777: 5.298317366548036, 12779: 3.367295829986474, 12800: 4.59511985013459, 15730: 5.298317366548036, 14688: 3.367295829986474, 14690: 5.521460917862246, 16466: 4.07753744390572, 15771: 4.605170185988092, 7527: 5.703782474656201, 6817: 6.396929655216146, 8003: 5.21422898616575, 10858: 4.59511985013459, 10313: 4.605170185988092, 11601: 3.367295829986474, 11033: 4.07753744390572, 8618: 3.367295829986474, 8291: 3.367295829986474, 9613: 6.620073206530356, 7251: 6.1092475827643655, 7329: 5.703782474656201, 7494: 5.703782474656201, 6320: 6.802394763324311, 6287: 6.684611727667927, 6785: 5.29931686688112, 6912: 6.212606095751519, 6340: 5.521460917862246, 6327: 6.684611727667927, 6748: 7.243512974665482, 9620: 4.07753744390572, 9671: 3.367295829986474, 9685: 4.07753744390572, 9703: 5.293304824724492, 9714: 4.07753744390572, 10198: 7.313220387090301, 10235: 5.857933154483459, 9061: 3.367295829986474, 9452: 5.521460917862246, 9087: 7.1308988302963465, 9516: 3.367295829986474, 9916: 5.298317366548036, 8114: 5.298317366548036, 8909: 5.003946305945459, 8912: 5.517452896464707, 8446: 3.367295829986474, 8198: 3.367295829986474, 8384: 3.367295829986474, 8395: 3.912023005428146, 4581: 6.802394763324311, 4404: 6.684611727667927, 4613: 6.956545443151569, 4659: 7.24422751560335, 3962: 5.966146739123692, 3977: 6.476972362889683, 4021: 4.07753744390572, 3798: 7.090076835776092, 4111: 5.700443573390686, 4114: 4.59511985013459, 4977: 7.718685495198466, 5937: 4.59511985013459, 6244: 6.684611727667927, 6469: 6.684611727667927, 6186: 7.919356190660617, 6028: 7.937374696163295, 5339: 7.27931883541462, 5461: 6.745236349484362, 5492: 6.745236349484362, 5803: 4.07753744390572, 17128: 4.07753744390572, 17191: 5.298317366548036, 17594: 5.857933154483459, 17913: 3.367295829986474, 18082: 5.857933154483459, 19265: 3.367295829986474, 19280: 5.521460917862246, 18251: 5.247024072160486, 18266: 3.367295829986474, 17356: 4.59511985013459, 16198: 6.54965074223381, 16168: 6.4457198193855785, 16082: 6.396929655216146, 15599: 3.367295829986474, 15713: 3.367295829986474, 15820: 3.367295829986474, 20691: 6.54965074223381, 20122: 3.367295829986474, 20147: 5.521460917862246, 20162: 6.54965074223381, 20164: 6.54965074223381, 18687: 5.298317366548036, 19364: 5.003946305945459, 18819: 5.517452896464707, 19401: 4.07753744390572, 19297: 5.857933154483459, 19414: 6.212606095751519, 19699: 5.298317366548036, 19745: 5.703782474656201, 19169: 6.212606095751519, 19228: 3.367295829986474, 12334: 4.07753744390572, 12372: 5.298317366548036, 12249: 5.298317366548036, 12536: 5.521460917862246, 12547: 5.298317366548036, 13149: 5.521460917862246, 11211: 4.07753744390572, 10886: 5.298317366548036, 10888: 5.521460917862246, 11751: 4.07753744390572, 11440: 5.0106352940962555, 11443: 5.293304824724492, 11482: 5.003946305945459, 11505: 3.332204510175204, 11672: 3.367295829986474, 11698: 4.59511985013459, 14473: 6.684611727667927, 14342: 5.003946305945459, 15457: 5.857933154483459, 15110: 6.907755278982137, 14667: 5.298317366548036, 14684: 3.367295829986474, 14695: 3.912023005428146, 14890: 7.003065458786462, 14940: 7.8632667240095735, 12855: 6.47543271670409, 12902: 4.07753744390572, 12983: 4.07753744390572, 12759: 4.59511985013459, 12754: 5.3867860145356445, 14214: 5.703782474656201, 13855: 7.090076835776092, 15978: 4.07753744390572, 15985: 4.189654742026425, 15620: 3.367295829986474, 15652: 5.0106352940962555, 16292: 6.906754778648554, 16321: 7.494986233950533, 16325: 5.521460917862246, 14570: 3.367295829986474, 14578: 6.309918278226516, 14619: 5.19295685089021, 18257: 5.298317366548036, 19263: 5.0106352940962555, 17878: 3.367295829986474, 18093: 5.293304824724492, 18611: 4.07753744390572, 18673: 3.367295829986474, 18694: 5.703782474656201, 18434: 5.0106352940962555, 18466: 5.438079308923196, 18013: 6.1092475827643655, 18503: 5.991464547107982, 17586: 5.293304824724492, 16636: 6.396929655216146, 16686: 4.07753744390572, 17357: 3.367295829986474, 17466: 3.367295829986474, 17308: 3.367295829986474, 17140: 4.07753744390572, 17188: 5.0106352940962555, 17274: 4.59511985013459, 12153: 5.003946305945459, 11879: 5.799092654460526, 12560: 5.298317366548036, 13152: 5.521460917862246, 12294: 4.543294782270004, 11049: 3.367295829986474, 10852: 3.367295829986474, 11511: 6.214608098422191, 11512: 3.367295829986474, 11602: 3.367295829986474, 11630: 3.367295829986474, 11509: 6.214608098422191, 11420: 5.988961416889864, 13780: 5.0106352940962555, 13767: 5.0106352940962555, 13769: 5.0106352940962555, 13775: 5.0106352940962555, 13941: 5.298317366548036, 14104: 5.298317366548036, 13985: 5.003946305945459, 12660: 5.293304824724492, 12682: 6.907755278982137, 12919: 4.59511985013459, 12966: 5.0106352940962555, 13550: 5.700443573390686, 2589: 5.634789603169249, 2091: 7.600902459542082, 2146: 7.495541943884256, 2229: 7.4673710669175595, 1650: 6.802394763324311, 1947: 5.003946305945459, 3315: 5.988961416889864, 3607: 3.367295829986474, 2667: 5.857933154483459, 3283: 7.696212639346407, 19887: 3.367295829986474, 20890: 7.377133712833954, 19008: 3.367295829986474, 18766: 3.367295829986474, 18863: 4.07753744390572, 21516: 4.330733340286331, 19726: 4.59511985013459, 19556: 4.07753744390572, 19949: 5.517452896464707, 86: 3.367295829986474, 22066: 3.367295829986474, 11635: 4.07753744390572, 10952: 5.003946305945459, 11333: 5.521460917862246, 10663: 6.478509642208569, 10533: 5.700443573390686, 11329: 5.521460917862246, 10950: 5.521460917862246, 11705: 5.003946305945459, 11809: 5.298317366548036, 8588: 3.332204510175204, 8674: 3.367295829986474, 8742: 5.0106352940962555, 7999: 3.367295829986474, 8515: 5.0106352940962555, 10332: 3.367295829986474, 9877: 3.367295829986474, 9514: 4.59511985013459, 9557: 3.367295829986474, 9558: 3.367295829986474, 9559: 3.367295829986474, 9508: 5.517452896464707, 15865: 6.897704943128636, 15130: 5.19295685089021, 15131: 5.521460917862246, 16414: 3.367295829986474, 16300: 5.988961416889864, 12870: 5.293304824724492, 13794: 3.367295829986474, 12585: 4.59511985013459, 3766: 5.521460917862246, 4508: 5.991464547107982, 3706: 6.212606095751519, 3052: 6.906754778648554, 3189: 4.59511985013459, 3495: 3.367295829986474, 3529: 3.4011973816621555, 6772: 3.1354942159291497, 6819: 7.27931883541462, 6603: 7.047517221357296, 6715: 6.040254711277414, 7289: 5.991464547107982, 5597: 6.212606095751519, 6220: 5.703782474656201, 6103: 7.24422751560335, 6753: 6.498282149476434, 6773: 5.517452896464707, 6610: 7.329093736246591, 4883: 7.090076835776092, 11885: 5.857933154483459, 12099: 4.605170185988092, 11254: 5.521460917862246, 13356: 5.389071729816501, 7208: 5.988961416889864, 7522: 5.703782474656201, 19558: 5.003946305945459, 19524: 4.59511985013459, 19922: 5.517452896464707, 17146: 3.912023005428146, 18642: 4.07753744390572, 18818: 2.70805020110221, 18867: 4.59511985013459, 18084: 5.521460917862246, 2948: 5.003946305945459, 2494: 4.59511985013459, 230: 5.5254529391317835, 373: 5.521460917862246, 21724: 5.517452896464707, 1932: 6.620739651073516, 10825: 5.991464547107982, 9297: 7.162397497355718, 7694: 4.248495242049359, 8649: 3.367295829986474, 11106: 5.438079308923196, 10923: 3.367295829986474, 10977: 6.214608098422191, 11472: 5.0106352940962555, 5585: 4.07753744390572, 5584: 5.003946305945459, 5855: 7.3777589082278725, 5859: 7.089243155027514, 4578: 6.551080335043404, 6749: 5.705447753975262, 6656: 7.600902459542082, 20163: 6.212606095751519, 20222: 5.298317366548036, 20481: 6.856461984594587, 18880: 4.07753744390572, 1590: 7.8632667240095735, 21651: 4.07753744390572, 388: 5.521460917862246, 14450: 4.59511985013459, 14955: 6.551080335043404, 14668: 5.991464547107982, 15081: 4.07753744390572, 12824: 4.59511985013459, 12885: 4.07753744390572, 12886: 4.07753744390572, 12887: 3.367295829986474, 12888: 4.59511985013459, 13424: 9.035867930125628, 12758: 4.07753744390572, 12791: 4.59511985013459, 13992: 4.07753744390572, 18433: 3.367295829986474, 18063: 5.700443573390686, 16170: 7.649692623711514, 16172: 5.968707559985366, 14929: 6.54965074223381, 15437: 5.857933154483459, 15618: 5.003946305945459, 4234: 6.182084906716632, 4278: 6.54965074223381, 3883: 5.991964422149633, 6324: 5.521460917862246, 7346: 5.298317366548036, 7357: 5.703782474656201, 7362: 6.907755278982137, 6965: 3.367295829986474, 5403: 5.4680601411351315, 5337: 5.703782474656201, 5779: 5.003946305945459, 6203: 7.600902459542082, 1137: 5.703782474656201, 9271: 3.367295829986474, 14946: 3.367295829986474, 16773: 3.713572066704308, 17680: 3.4339872044851463, 17684: 3.4339872044851463, 17689: 3.4339872044851463, 1276: 5.521460917862246, 19876: 3.367295829986474, 20120: 4.07753744390572, 20129: 5.0106352940962555, 21461: 5.135798437050262, 21733: 4.605170185988092, 3208: 4.605170185988092, 3129: 5.703782474656201, 3131: 4.07753744390572, 2251: 5.293304824724492, 1684: 5.003946305945459, 2147: 6.476972362889683, 18254: 5.298317366548036, 17574: 3.367295829986474, 18177: 5.003946305945459, 19627: 5.293304824724492, 16615: 5.0106352940962555, 16407: 4.07753744390572, 16412: 3.367295829986474, 591: 5.0106352940962555, 637: 5.298317366548036, 648: 5.0106352940962555, 818: 4.59511985013459, 828: 5.0106352940962555, 887: 5.0106352940962555, 21322: 4.07753744390572, 21496: 5.0106352940962555, 20292: 5.0106352940962555, 19843: 4.07753744390572, 22129: 4.59511985013459, 28: 5.298317366548036, 8920: 5.293304824724492, 8950: 3.367295829986474, 9707: 5.003946305945459, 9708: 4.59511985013459, 9880: 3.367295829986474, 8632: 3.367295829986474, 8832: 6.1092475827643655, 8833: 5.700443573390686, 10673: 5.700443573390686, 7873: 7.313220387090301, 7456: 6.1092475827643655, 8021: 2.772588722239781, 8025: 2.772588722239781, 8052: 3.044522437723423, 7944: 9.29550838434606, 14622: 5.19295685089021, 15184: 3.367295829986474, 11844: 3.8918202981106265, 11993: 3.367295829986474, 10713: 5.0106352940962555, 10796: 5.0106352940962555, 10837: 3.9219733362813143, 11365: 7.287788612495825, 9720: 5.521460917862246, 8561: 5.5254529391317835, 9215: 5.438079308923196, 9604: 5.298317366548036, 9726: 3.367295829986474, 11369: 6.5771657055190795, 11373: 5.159055299214529, 12216: 7.3783837129967145, 11366: 5.7477993600729755, 11370: 5.968707559985366, 7080: 7.13854948922687, 7284: 7.170119543449628, 6511: 5.991464547107982, 19877: 5.521460917862246, 18859: 3.367295829986474, 19207: 5.003946305945459, 20498: 7.450079569807499, 20505: 7.090076835776092, 12837: 5.703782474656201, 13800: 3.367295829986474, 13206: 7.824046010856292, 13362: 5.703782474656201, 15029: 5.916202062607435, 14749: 4.605170185988092, 15361: 3.367295829986474, 15990: 5.993961427306569, 16335: 5.003946305945459, 18824: 4.605170185988092, 474: 6.2166061010848646, 1980: 6.906754778648554, 1979: 5.988961416889864, 22117: 4.59511985013459, 14725: 3.367295829986474, 14532: 5.521460917862246, 18098: 3.091042453358316, 18256: 4.07753744390572, 17600: 4.6443908991413725, 17073: 5.003946305945459, 2923: 5.003946305945459, 4600: 4.59511985013459, 3711: 5.857933154483459, 834: 5.484796933490655, 686: 7.313886831633462, 708: 5.298317366548036, 1192: 7.313886831633462, 1280: 4.07753744390572, 14070: 3.367295829986474, 14748: 5.0106352940962555, 12578: 4.59511985013459, 18803: 3.367295829986474, 19073: 3.367295829986474, 16979: 3.367295829986474, 18157: 4.59511985013459, 17368: 4.59511985013459, 17796: 5.293304824724492, 5782: 4.07753744390572, 7696: 4.59511985013459, 7417: 5.857933154483459, 435: 5.5254529391317835, 3122: 5.703782474656201, 2224: 5.521460917862246, 2740: 4.955827057601261, 10859: 5.293304824724492, 11090: 3.8918202981106265, 8075: 3.6375861597263857, 11646: 5.991464547107982, 8405: 4.605170185988092, 8447: 5.703782474656201, 8880: 5.703782474656201, 8982: 5.0106352940962555, 5097: 6.1092475827643655, 5116: 6.309918278226516, 5114: 7.0817085861055755, 5110: 5.991464547107982, 5098: 6.1092475827643655, 4099: 5.703782474656201, 4546: 7.596392304064196, 5646: 5.700443573390686, 6030: 5.857933154483459, 5372: 8.89439598980643, 5362: 5.988961416889864, 5428: 7.303843225277705, 5021: 5.703782474656201, 5286: 5.2832037287379885, 5545: 8.101677747454572, 5860: 7.494986233950533, 5921: 6.212606095751519, 5513: 5.703782474656201, 5798: 3.367295829986474, 3188: 6.906754778648554, 2560: 5.991464547107982, 2545: 5.703782474656201, 2762: 7.992944547318106, 3389: 4.07753744390572, 3555: 7.783224016336037, 3355: 5.003946305945459, 3302: 3.367295829986474, 9629: 6.802394763324311, 9567: 5.700443573390686, 9059: 3.367295829986474, 9074: 4.07753744390572, 9454: 5.703782474656201, 9678: 5.988961416889864, 9725: 3.367295829986474, 9427: 6.214608098422191, 9429: 6.214608098422191, 9436: 5.293304824724492, 9439: 6.214608098422191, 9438: 6.214608098422191, 9319: 3.332204510175204, 8999: 4.07753744390572, 10496: 4.382026634673881, 10744: 4.59511985013459, 11314: 4.07753744390572, 10821: 3.367295829986474, 10806: 5.0106352940962555, 11308: 3.367295829986474, 10857: 4.59511985013459, 9979: 4.07753744390572, 9968: 3.367295829986474, 9954: 3.367295829986474, 9948: 4.02535169073515, 10350: 5.293304824724492, 10345: 4.59511985013459, 10442: 4.59511985013459, 10338: 5.293304824724492, 10173: 5.003946305945459, 7061: 7.438383530044307, 8466: 5.703782474656201, 8383: 3.367295829986474, 8363: 5.298317366548036, 8402: 5.857933154483459, 8255: 5.0106352940962555, 7287: 5.991464547107982, 7278: 5.003946305945459, 7200: 5.703782474656201, 7441: 4.07753744390572, 7414: 5.857933154483459, 6877: 5.298317366548036, 8579: 5.003946305945459, 8268: 3.367295829986474, 6373: 7.24422751560335, 11594: 5.0106352940962555, 11515: 4.07753744390572, 11262: 3.367295829986474, 11473: 4.59511985013459, 11944: 4.07753744390572, 12340: 4.605170185988092, 12253: 5.298317366548036, 9677: 3.367295829986474, 9150: 5.703782474656201, 9866: 5.003946305945459, 9225: 5.703782474656201, 8768: 5.135798437050262, 8908: 3.367295829986474, 10818: 4.59511985013459, 10824: 4.59511985013459, 10899: 4.59511985013459, 10129: 4.59511985013459, 10128: 4.07753744390572, 10122: 5.0106352940962555, 10264: 6.551080335043404, 10147: 5.517452896464707, 10569: 6.684611727667927, 1681: 3.367295829986474, 2145: 5.703782474656201, 2133: 5.521460917862246, 2725: 4.02535169073515, 316: 5.703782474656201, 21823: 3.367295829986474, 21993: 8.68270762989381, 1106: 4.07753744390572, 4377: 6.802394763324311, 4826: 3.367295829986474, 4820: 5.517452896464707, 5469: 7.8632667240095735, 4961: 6.212606095751519, 5255: 5.517452896464707, 3124: 5.003946305945459, 3952: 7.782807262839695, 3824: 5.703782474656201, 3559: 5.293304824724492, 226: 5.521460917862246, 246: 5.5254529391317835, 1052: 5.988961416889864, 21475: 5.703782474656201, 21473: 5.703782474656201, 20258: 3.912023005428146, 19761: 3.367295829986474, 20186: 5.303304908059076, 21710: 5.003946305945459, 1710: 6.212606095751519, 1313: 5.703782474656201, 1168: 7.467942332285852, 1140: 5.700443573390686, 1223: 5.521460917862246, 1616: 5.857933154483459, 1339: 5.857933154483459, 14727: 4.59511985013459, 14975: 5.5254529391317835, 14581: 4.382026634673881, 14519: 4.59511985013459, 14466: 5.703782474656201, 13536: 5.991464547107982, 13504: 7.9008218496583416, 12659: 5.700443573390686, 12655: 4.07753744390572, 14232: 5.521460917862246, 14120: 4.605170185988092, 13882: 5.703782474656201, 18414: 6.551080335043404, 18686: 5.521460917862246, 18675: 5.521460917862246, 18056: 5.703782474656201, 17820: 3.912023005428146, 17793: 5.003946305945459, 17578: 4.02535169073515, 18203: 5.703782474656201, 19264: 4.59511985013459, 19542: 4.07753744390572, 19061: 5.857933154483459, 18812: 5.517452896464707, 18790: 5.0106352940962555, 18926: 5.521460917862246, 16864: 3.367295829986474, 16607: 4.07753744390572, 15670: 5.003946305945459, 17336: 3.367295829986474, 17728: 5.003946305945459, 17139: 3.367295829986474, 4304: 5.703782474656201, 4299: 5.293304824724492, 4272: 5.003946305945459, 5226: 6.684611727667927, 5093: 6.1092475827643655, 3260: 5.988961416889864, 2800: 6.214608098422191, 11600: 3.367295829986474, 10475: 5.293304824724492, 12240: 3.367295829986474, 13975: 6.212606095751519, 13928: 4.59511985013459, 12999: 3.367295829986474, 12368: 4.02535169073515, 10121: 3.912023005428146, 6414: 4.07753744390572, 6096: 7.377133712833954, 8481: 4.997212273764115, 8627: 4.07753744390572, 20469: 6.906754778648554, 20137: 5.298317366548036, 20975: 6.684611727667927, 20852: 7.549609165154532, 20804: 7.847762537473608, 19735: 3.367295829986474, 19733: 3.152736022363656, 19533: 5.003946305945459, 19839: 5.0106352940962555, 21901: 4.605170185988092, 21900: 5.0106352940962555, 22068: 6.214608098422191, 22049: 3.367295829986474, 21444: 3.367295829986474, 21492: 5.0106352940962555, 21633: 4.605170185988092, 21646: 4.59511985013459, 21631: 3.367295829986474, 7318: 5.633360010359655, 7302: 5.703782474656201, 7680: 5.0106352940962555, 6923: 5.700443573390686, 5358: 4.07753744390572, 4666: 5.703782474656201, 4849: 5.003946305945459, 6179: 4.07753744390572, 6052: 5.003946305945459, 6273: 5.703782474656201, 6230: 5.703782474656201, 12070: 5.876726869637559, 11988: 3.367295829986474, 13001: 3.367295829986474, 12944: 3.367295829986474, 12768: 3.8918202981106265, 8978: 3.367295829986474, 8745: 3.367295829986474, 7955: 8.215817791832453, 10826: 3.367295829986474, 10524: 5.863972026592705, 9660: 4.07753744390572, 9046: 6.620073206530356, 9824: 5.703782474656201, 14544: 3.367295829986474, 15440: 6.907755278982137, 16745: 4.07753744390572, 19452: 5.700443573390686, 19055: 5.003946305945459, 18892: 5.0106352940962555, 18883: 3.367295829986474, 17733: 4.07753744390572, 17484: 6.214608098422191, 3768: 5.521460917862246, 4010: 5.521460917862246, 2089: 3.367295829986474, 2465: 5.521460917862246, 3162: 5.703782474656201, 13917: 4.07753744390572, 13909: 5.003946305945459, 13863: 3.367295829986474, 14059: 5.700443573390686, 14097: 5.0106352940962555, 12842: 5.0106352940962555, 13759: 5.0106352940962555, 13815: 5.517452896464707, 12969: 3.367295829986474, 14770: 3.367295829986474, 14794: 5.703782474656201, 14636: 4.07753744390572, 14697: 3.8918202981106265, 15145: 5.0106352940962555, 14331: 5.703782474656201, 14259: 4.605170185988092, 14431: 4.59511985013459, 11503: 4.59511985013459, 11753: 4.07753744390572, 11356: 5.521460917862246, 11018: 3.367295829986474, 11263: 5.0106352940962555, 11213: 4.59511985013459, 11205: 4.59511985013459, 11203: 3.367295829986474, 11363: 7.307202314764738, 11394: 5.521460917862246, 12596: 4.605170185988092, 12592: 3.367295829986474, 12581: 5.0106352940962555, 13130: 5.521460917862246, 12687: 3.367295829986474, 12446: 4.07753744390572, 12246: 4.59511985013459, 18066: 4.07753744390572, 18092: 5.293304824724492, 18173: 4.07753744390572, 17245: 5.857933154483459, 17740: 6.19644412779452, 18874: 6.1092475827643655, 18864: 4.07753744390572, 19218: 4.07753744390572, 19136: 4.59511985013459, 19457: 5.521460917862246, 18809: 4.59511985013459, 18601: 4.59511985013459, 18554: 4.59511985013459, 18615: 5.517452896464707, 18765: 3.912023005428146, 18665: 5.298317366548036, 14864: 3.367295829986474, 15641: 4.07753744390572, 16708: 6.212606095751519, 16598: 5.0106352940962555, 16575: 4.59511985013459, 17039: 4.07753744390572, 17645: 6.54965074223381, 17119: 3.367295829986474, 17059: 6.906754778648554, 16293: 7.824046010856292, 1627: 4.07753744390572, 1678: 3.367295829986474, 1257: 5.703782474656201, 2467: 5.703782474656201, 21692: 5.521460917862246, 21418: 4.07753744390572, 21527: 4.59511985013459, 21926: 5.135798437050262, 22038: 5.0106352940962555, 7443: 5.521460917862246, 7361: 5.703782474656201, 7261: 5.703782474656201, 7692: 4.248495242049359, 8959: 4.59511985013459, 9517: 3.367295829986474, 9597: 6.620073206530356, 9807: 5.003946305945459, 8659: 4.59511985013459, 4972: 5.703782474656201, 3905: 3.367295829986474, 6293: 5.857933154483459, 5483: 6.856461984594587, 6101: 6.802394763324311, 5986: 5.634789603169249, 17183: 5.293304824724492, 17263: 3.367295829986474, 16938: 5.857933154483459, 16886: 4.07753744390572, 17085: 3.367295829986474, 17877: 3.367295829986474, 17825: 4.59511985013459, 17850: 3.367295829986474, 19267: 3.367295829986474, 17953: 5.517452896464707, 17431: 5.700443573390686, 17447: 3.367295829986474, 17454: 4.59511985013459, 17744: 6.19644412779452, 17573: 3.912023005428146, 17787: 4.59511985013459, 17518: 3.367295829986474, 17525: 5.298317366548036, 18199: 4.07753744390572, 16291: 5.988961416889864, 15722: 5.991464547107982, 15726: 3.367295829986474, 16171: 5.988961416889864, 16616: 3.367295829986474, 16619: 5.0106352940962555, 16475: 3.367295829986474, 19862: 3.367295829986474, 20051: 3.8918202981106265, 20062: 5.703782474656201, 20142: 0.09531017980432487, 20031: 4.59511985013459, 19932: 6.040968742011071, 19757: 5.293304824724492, 19962: 5.521460917862246, 19678: 3.367295829986474, 20321: 3.367295829986474, 18670: 5.703782474656201, 18637: 5.703782474656201, 18340: 4.07753744390572, 18351: 4.59511985013459, 18354: 4.59511985013459, 18244: 3.367295829986474, 18261: 4.07753744390572, 18299: 3.367295829986474, 18304: 3.367295829986474, 18305: 5.703782474656201, 18565: 3.367295829986474, 18505: 4.59511985013459, 19107: 5.298317366548036, 19047: 5.298317366548036, 19168: 5.857933154483459, 19170: 5.857933154483459, 19171: 5.298317366548036, 19480: 6.396929655216146, 18881: 3.367295829986474, 18889: 3.367295829986474, 19418: 9.047821442478408, 18949: 3.367295829986474, 18959: 5.298317366548036, 5864: 7.495541943884256, 5861: 6.906754778648554, 5856: 7.6004023345004, 6924: 6.906754778648554, 4269: 4.07753744390572, 3531: 5.241747015059643, 17395: 5.293304824724492, 17414: 5.003946305945459, 18268: 3.367295829986474, 17416: 5.135798437050262, 18018: 3.367295829986474, 20178: 6.551080335043404, 12109: 3.367295829986474, 12262: 5.293304824724492, 12155: 4.59511985013459, 9577: 3.8918202981106265, 9998: 4.59511985013459, 13501: 8.242493153187626, 13414: 7.90100705199242, 14406: 5.521460917862246, 14272: 5.703782474656201, 12864: 4.59511985013459, 15460: 6.1092475827643655, 15789: 3.8918202981106265, 15614: 3.367295829986474, 15080: 5.293304824724492, 15113: 5.19295685089021, 14689: 3.367295829986474, 11042: 7.090076835776092, 11177: 3.367295829986474, 10573: 5.703782474656201, 10742: 5.0106352940962555, 11632: 4.59511985013459, 11932: 4.59511985013459, 12307: 7.494986233950533, 12314: 4.709530201312334, 20791: 6.212606095751519, 20871: 3.367295829986474, 19693: 5.293304824724492, 19243: 3.367295829986474, 1060: 5.988961416889864, 21981: 5.521460917862246, 21626: 5.521460917862246, 17258: 4.31748811353631, 17504: 5.521460917862246, 17580: 5.298317366548036, 17351: 4.59511985013459, 17397: 4.605170185988092, 16741: 3.367295829986474, 16824: 5.521460917862246, 19182: 3.332204510175204, 18700: 5.298317366548036, 18556: 3.367295829986474, 2474: 8.1886891244442, 2542: 7.047517221357296, 2553: 5.003946305945459, 2563: 6.745236349484362, 2228: 4.59511985013459, 2583: 7.24422751560335, 2596: 7.170119543449628, 2618: 6.476972362889683, 2619: 7.170119543449628, 2188: 6.476972362889683, 2203: 5.703782474656201, 2082: 5.703782474656201, 2107: 3.367295829986474, 3275: 5.003946305945459, 3123: 6.551080335043404, 3199: 5.0106352940962555, 3087: 6.214608098422191, 1316: 5.857933154483459, 1320: 5.703782474656201, 1260: 6.906754778648554, 1265: 6.684611727667927, 1267: 4.07753744390572, 1095: 5.0106352940962555, 1234: 6.214608098422191, 1213: 6.214608098422191, 1660: 5.003946305945459, 1658: 5.293304824724492, 1713: 6.54965074223381, 1656: 6.745236349484362, 1637: 6.745236349484362, 1644: 6.745236349484362, 1649: 6.745236349484362, 5090: 6.1092475827643655, 5112: 6.1092475827643655, 4525: 6.476972362889683, 4527: 6.396929655216146, 4590: 6.476972362889683, 4560: 7.762170607138205, 5784: 4.07753744390572, 5430: 5.517452896464707, 5445: 4.07753744390572, 5472: 9.546812608597396, 5186: 6.1092475827643655, 5193: 5.991464547107982, 4985: 5.991464547107982, 5162: 6.1092475827643655, 5133: 5.991464547107982, 3390: 4.07753744390572, 3581: 5.722865889132468, 3303: 3.367295829986474, 4097: 5.857933154483459, 4071: 5.703782474656201, 4324: 7.170119543449628, 3922: 6.745236349484362, 3975: 7.549609165154532, 3979: 6.745236349484362, 3970: 5.703782474656201, 14683: 3.367295829986474, 16301: 6.212606095751519, 12893: 4.59511985013459, 19623: 6.214608098422191, 21569: 4.59511985013459, 19319: 6.53813982376767, 20694: 7.170119543449628, 20068: 3.367295829986474, 20284: 3.367295829986474, 21493: 5.0106352940962555, 18349: 3.367295829986474, 371: 5.298317366548036, 937: 5.991464547107982, 109: 5.521460917862246, 12138: 3.367295829986474, 12136: 3.367295829986474, 12722: 5.003946305945459, 12577: 5.0106352940962555, 10555: 4.07753744390572, 10364: 5.298317366548036, 12067: 5.003946305945459, 12089: 3.332204510175204, 11987: 3.332204510175204, 12008: 5.003946305945459, 12092: 4.162003210695915, 12243: 3.367295829986474, 11788: 6.620073206530356, 11740: 4.605170185988092, 12149: 5.703782474656201, 12605: 4.248495242049359, 12594: 4.07753744390572, 13353: 3.091042453358316, 13358: 5.768320995793772, 12583: 4.59511985013459, 12395: 5.0106352940962555, 12402: 4.59511985013459, 12417: 3.367295829986474, 12454: 4.59511985013459, 12478: 7.52294091807237, 12510: 4.07753744390572, 11026: 5.700443573390686, 11120: 5.293304824724492, 11121: 3.912023005428146, 10792: 4.59511985013459, 10520: 5.517452896464707, 10885: 5.298317366548036, 11569: 3.367295829986474, 11597: 5.0106352940962555, 11476: 3.367295829986474, 11500: 5.293304824724492, 11398: 5.517452896464707, 11434: 3.367295829986474, 14530: 6.907755278982137, 14537: 4.07753744390572, 14514: 4.248495242049359, 15018: 7.377133712833954, 14471: 6.214608098422191, 14591: 4.07753744390572, 15210: 5.521460917862246, 14651: 5.298317366548036, 14681: 5.135798437050262, 14726: 5.0106352940962555, 14747: 5.003946305945459, 15111: 7.003065458786462, 14772: 4.07753744390572, 12928: 4.07753744390572, 12856: 5.991464547107982, 12997: 3.367295829986474, 13012: 3.367295829986474, 12821: 5.988961416889864, 12788: 4.61015772749913, 14235: 5.703782474656201, 14181: 3.367295829986474, 13897: 3.367295829986474, 6859: 7.313220387090301, 6868: 5.988961416889864, 6887: 4.07753744390572, 7271: 5.29931686688112, 6337: 7.346010209913293, 6341: 5.703782474656201, 6783: 6.309918278226516, 6809: 7.346010209913293, 6813: 7.003065458786462, 6838: 7.600902459542082, 8006: 5.003946305945459, 7533: 5.521460917862246, 7660: 5.991464547107982, 5925: 3.912023005428146, 5972: 6.856461984594587, 5990: 3.367295829986474, 6201: 6.1092475827643655, 6018: 5.703782474656201, 6026: 7.937374696163295, 6210: 6.476972362889683, 6251: 6.309918278226516, 6262: 5.703782474656201, 6271: 5.703782474656201, 6279: 7.718685495198466, 9924: 5.521460917862246, 9860: 5.298317366548036, 10252: 3.367295829986474, 10052: 4.07753744390572, 9545: 5.703782474656201, 9553: 5.298317366548036, 9562: 3.367295829986474, 9779: 5.293304824724492, 9754: 5.700443573390686, 10076: 3.367295829986474, 9736: 5.700443573390686, 10440: 3.367295829986474, 10432: 5.517452896464707, 10136: 5.247024072160486, 10139: 5.298317366548036, 10170: 5.003946305945459, 9493: 4.248495242049359, 8381: 3.367295829986474, 8413: 6.1092475827643655, 8603: 4.07753744390572, 8433: 5.521460917862246, 8036: 5.003946305945459, 8271: 4.59511985013459, 8179: 5.298317366548036, 9491: 5.0106352940962555, 9339: 6.897704943128636, 9152: 5.517452896464707, 9229: 5.703782474656201, 8810: 5.298317366548036, 9235: 4.07753744390572, 8708: 5.0106352940962555, 8741: 5.293304824724492, 8840: 5.988961416889864, 9239: 5.521460917862246, 8896: 3.367295829986474, 11907: 4.59511985013459, 11728: 6.214608098422191, 10342: 5.703782474656201, 10339: 5.703782474656201, 10530: 6.620073206530356, 12567: 3.367295829986474, 10017: 4.59511985013459, 9082: 4.890349128221754, 7902: 8.977020214210413, 17037: 3.367295829986474, 17439: 6.396929655216146, 15834: 6.396929655216146, 19921: 4.48863636973214, 19769: 3.367295829986474, 14589: 4.59511985013459, 14566: 3.367295829986474, 12739: 5.0106352940962555, 12988: 5.298317366548036, 14007: 4.07753744390572, 15534: 5.003946305945459, 15508: 5.700443573390686, 14793: 3.367295829986474, 6043: 6.877296071497429, 4592: 3.152736022363656, 5201: 7.8632667240095735, 8623: 2.70805020110221, 9076: 3.367295829986474, 8915: 3.367295829986474, 6614: 8.006367567650246, 7509: 5.857933154483459, 7691: 4.248495242049359, 7157: 3.367295829986474, 1787: 6.907755278982137, 1786: 6.907755278982137, 21551: 3.367295829986474, 21639: 6.214608098422191, 1381: 5.703782474656201, 22116: 3.367295829986474, 3910: 4.364371699435161, 4153: 7.645397699428633, 17563: 5.003946305945459, 17289: 5.293304824724492, 17271: 4.59511985013459, 16048: 5.988961416889864, 15539: 5.0106352940962555, 15839: 4.59511985013459, 15668: 3.8918202981106265, 21554: 5.298317366548036, 21472: 5.703782474656201, 18532: 4.605170185988092, 18313: 5.521460917862246, 19151: 5.0106352940962555, 11418: 5.521460917862246, 11596: 3.367295829986474, 11906: 5.703782474656201, 9624: 3.367295829986474, 9543: 5.298317366548036, 9298: 7.736307096548285, 8977: 4.07753744390572, 9490: 3.367295829986474, 9060: 3.367295829986474, 10781: 5.521460917862246, 14366: 3.367295829986474, 14644: 6.309918278226516, 14623: 7.600902459542082, 14508: 4.59511985013459, 13349: 4.718498871295094, 12556: 6.1092475827643655, 13475: 8.987071812848821, 13455: 7.600902459542082, 13376: 5.707110264748875, 12861: 3.367295829986474, 13143: 5.521460917862246, 12265: 6.54965074223381, 13912: 4.59511985013459, 12949: 5.0106352940962555, 7904: 8.30622521603216, 7958: 8.977020214210413, 7195: 6.396929655216146, 7228: 8.852378886511985, 20943: 5.517452896464707, 20467: 6.54965074223381, 19931: 3.367295829986474, 20330: 7.580699752224563, 20172: 5.988961416889864, 1378: 6.361302477572996, 18645: 5.521460917862246, 16635: 5.988961416889864, 21888: 4.59511985013459, 5746: 5.988961416889864, 4065: 6.212606095751519, 3519: 5.293304824724492, 9192: 3.4011973816621555, 7998: 7.3777589082278725, 11397: 3.367295829986474, 11024: 4.07753744390572, 10982: 3.367295829986474, 9750: 6.551080335043404, 10693: 6.802394763324311, 12154: 5.293304824724492, 7560: 6.877296071497429, 7395: 5.076423034634259, 7775: 6.161207321695077, 5804: 5.003946305945459, 15538: 3.367295829986474, 14555: 4.07753744390572, 14600: 4.07753744390572, 13469: 9.104868739033948, 11969: 3.367295829986474, 1602: 3.367295829986474, 357: 5.521460917862246, 263: 5.5254529391317835, 1064: 3.367295829986474, 19676: 5.0106352940962555, 18869: 5.003946305945459, 20318: 3.367295829986474, 5278: 6.684611727667927, 5222: 6.54965074223381, 4879: 6.182084906716632, 3510: 5.003946305945459, 2772: 3.367295829986474, 1629: 8.354438940114811, 3213: 4.07753744390572, 8946: 3.367295829986474, 8239: 7.407924322559599, 15454: 5.857933154483459, 13078: 5.327876168789581, 12288: 7.6004023345004, 12264: 6.212606095751519, 12103: 3.8720339972117825, 12010: 5.0106352940962555, 12057: 5.4680601411351315, 19984: 5.1647859739235145, 19910: 5.298317366548036, 21903: 4.59511985013459, 20082: 3.367295829986474, 20181: 6.684611727667927, 20690: 7.090076835776092, 20282: 4.07753744390572, 18150: 5.0106352940962555, 18000: 6.214608098422191, 17998: 4.59511985013459, 17676: 3.367295829986474, 1667: 5.003946305945459, 84: 5.0106352940962555, 22010: 2.70805020110221, 12590: 4.07753744390572, 12490: 6.906754778648554, 11100: 3.367295829986474, 11737: 3.367295829986474, 12152: 5.703782474656201, 16323: 7.779048644925556, 16298: 5.988961416889864, 14115: 3.367295829986474, 15864: 8.086410275323782, 14483: 4.07753744390572, 14185: 5.003946305945459, 12992: 3.367295829986474, 12422: 4.59511985013459, 12825: 5.003946305945459, 12931: 5.521460917862246, 12880: 5.575949103146316, 18585: 3.367295829986474, 18727: 4.543294782270004, 18369: 3.367295829986474, 16324: 7.824046010856292, 15827: 3.367295829986474, 14706: 5.0106352940962555, 15211: 4.48863636973214, 16516: 5.991464547107982, 16632: 5.517452896464707, 6217: 4.07753744390572, 3700: 6.68311060154166, 10433: 4.59511985013459, 10896: 5.14166355650266, 8560: 5.5254529391317835, 8338: 3.367295829986474, 8307: 3.367295829986474, 8680: 6.396929655216146, 7732: 5.293304824724492, 9234: 5.703782474656201, 8767: 3.367295829986474, 9299: 6.802394763324311, 3512: 5.517452896464707, 1096: 4.07753744390572, 1071: 5.0106352940962555, 6124: 7.824046010856292, 5873: 6.633318433280377, 5356: 5.703782474656201, 13087: 4.07753744390572, 10682: 4.07753744390572, 10681: 4.59511985013459, 10655: 4.07753744390572, 11386: 5.293304824724492, 6068: 6.212606095751519, 5923: 3.332204510175204, 6178: 3.367295829986474, 19271: 4.59511985013459, 17726: 5.293304824724492, 16744: 5.003946305945459, 20851: 5.988961416889864, 20495: 6.86714159609684, 13468: 8.987071812848821, 13207: 3.367295829986474, 16107: 7.170119543449628, 15486: 4.07753744390572, 15388: 5.003946305945459, 15389: 5.293304824724492, 14878: 5.0106352940962555, 14621: 7.600902459542082, 2677: 6.907755278982137, 2246: 7.937017489515453, 2259: 6.212606095751519, 20232: 3.367295829986474, 1244: 5.003946305945459, 1107: 5.0106352940962555, 8948: 4.07753744390572, 9605: 4.59511985013459, 8404: 5.135798437050262, 8270: 4.59511985013459, 6261: 5.703782474656201, 5993: 5.293304824724492, 12250: 3.367295829986474, 10636: 6.311734809152915, 8583: 5.0106352940962555, 19270: 4.59511985013459, 17150: 3.367295829986474, 20155: 6.551080335043404, 19545: 4.59511985013459, 14425: 5.517452896464707, 14256: 4.605170185988092, 14590: 4.07753744390572, 4618: 7.313220387090301, 4576: 7.955074273262696, 4119: 5.703782474656201, 5777: 4.07753744390572, 5284: 5.700443573390686, 5023: 4.59511985013459, 5360: 5.298317366548036, 3070: 5.700443573390686, 3968: 5.703782474656201, 8332: 4.07753744390572, 9848: 5.700443573390686, 9820: 6.040254711277414, 9777: 5.700443573390686, 9616: 5.003946305945459, 10133: 7.90100705199242, 10118: 3.367295829986474, 8773: 5.991464547107982, 8691: 3.367295829986474, 8983: 3.367295829986474, 8998: 6.214608098422191, 9084: 4.07753744390572, 7537: 6.802394763324311, 6275: 7.649692623711514, 6037: 5.991464547107982, 6696: 5.703782474656201, 7370: 5.521460917862246, 6897: 5.298317366548036, 17770: 5.003946305945459, 17001: 3.367295829986474, 19645: 3.367295829986474, 15448: 6.476972362889683, 15587: 3.367295829986474, 1765: 3.367295829986474, 2166: 8.070906088787819, 2510: 8.294049640102028, 2217: 7.170119543449628, 2200: 4.07753744390572, 1277: 5.703782474656201, 1218: 6.907755278982137, 1128: 7.346010209913293, 21327: 3.367295829986474, 19666: 5.003946305945459, 4378: 5.003946305945459, 5886: 5.857933154483459, 3075: 7.089243155027514, 3808: 4.07753744390572, 3710: 6.54965074223381, 12799: 5.247024072160486, 13472: 9.433403920090221, 13551: 5.700443573390686, 13990: 4.07753744390572, 14187: 5.521460917862246, 11582: 4.59511985013459, 10486: 2.70805020110221, 12519: 3.367295829986474, 12393: 3.367295829986474, 12373: 2.70805020110221, 12335: 5.298317366548036, 12074: 3.367295829986474, 12195: 5.521460917862246, 18167: 4.59511985013459, 18398: 3.367295829986474, 18348: 4.59511985013459, 17415: 5.517452896464707, 17727: 5.003946305945459, 17309: 5.003946305945459, 17926: 3.367295829986474, 19078: 4.59511985013459, 18797: 5.293304824724492, 18636: 4.07753744390572, 18610: 5.003946305945459, 18567: 5.0106352940962555, 14558: 4.07753744390572, 14656: 5.703782474656201, 16981: 5.072670685015709, 17078: 5.857933154483459, 16433: 5.517452896464707, 16415: 4.07753744390572, 15803: 3.367295829986474, 15792: 3.367295829986474, 14655: 5.703782474656201, 19663: 5.703782474656201, 19934: 4.59511985013459, 20007: 5.517452896464707, 17328: 4.07753744390572, 17312: 3.367295829986474, 18547: 5.703782474656201, 8990: 3.367295829986474, 10169: 4.59511985013459, 9861: 5.298317366548036, 11123: 4.59511985013459, 11565: 5.003946305945459, 11637: 4.59511985013459, 5345: 5.703782474656201, 5216: 5.521460917862246, 5157: 5.991464547107982, 4819: 5.517452896464707, 8222: 7.2078598714324755, 8202: 5.0106352940962555, 8168: 3.367295829986474, 6182: 3.367295829986474, 1605: 8.495152060539358, 1135: 5.857933154483459, 1647: 6.745236349484362, 2616: 7.313220387090301, 3701: 5.857933154483459, 3491: 5.648974238161206, 8651: 5.0106352940962555, 8964: 5.293304824724492, 7889: 9.43276366396591, 11912: 3.367295829986474, 9617: 6.214608098422191, 10872: 3.367295829986474, 5606: 5.003946305945459, 7277: 5.521460917862246, 7016: 4.59511985013459, 14154: 3.367295829986474, 14602: 5.003946305945459, 11165: 4.07753744390572, 10055: 4.07753744390572, 10250: 7.243512974665482, 10251: 5.517452896464707, 10653: 6.745236349484362, 12630: 5.517452896464707, 11667: 3.367295829986474, 11941: 5.0106352940962555, 19472: 4.59511985013459, 21707: 5.298317366548036, 21887: 4.605170185988092, 21845: 4.59511985013459, 21984: 5.703782474656201, 21743: 4.07753744390572, 16692: 4.59511985013459, 16634: 5.293304824724492, 16633: 5.988961416889864, 16520: 5.19295685089021, 16895: 5.857933154483459, 17179: 5.003946305945459, 19268: 4.07753744390572, 3504: 5.517452896464707, 2805: 7.243512974665482, 2459: 5.521460917862246, 2524: 5.703782474656201, 3212: 4.07753744390572, 6416: 5.988961416889864, 17722: 6.906754778648554, 13566: 3.367295829986474, 12203: 2.70805020110221, 14941: 6.212606095751519, 1053: 5.988961416889864, 690: 5.298317366548036, 660: 5.298317366548036, 628: 5.0106352940962555, 631: 5.0106352940962555, 621: 4.789157022101107, 3880: 6.907755278982137, 3805: 5.521460917862246, 3490: 4.07753744390572, 3371: 5.293304824724492, 4477: 7.495541943884256, 4500: 3.367295829986474, 4827: 6.212606095751519, 4668: 3.367295829986474, 2084: 5.298317366548036, 2450: 6.320876202097386, 2753: 5.703782474656201, 2449: 6.54965074223381, 2445: 6.396929655216146, 2446: 6.907755278982137, 2447: 6.907755278982137, 2448: 5.293304824724492, 1408: 6.476972362889683, 1407: 5.648974238161206, 1305: 5.703782474656201, 1890: 5.003946305945459, 1895: 5.988961416889864, 2750: 6.54965074223381, 2751: 6.320876202097386, 2749: 5.0106352940962555, 2533: 5.517452896464707, 2754: 6.54965074223381, 2755: 6.907755278982137, 10158: 5.991464547107982, 9808: 5.003946305945459, 9836: 5.517452896464707, 10725: 5.003946305945459, 8388: 3.912023005428146, 8390: 4.605170185988092, 9001: 8.699514748210191, 9045: 5.0106352940962555, 8667: 3.367295829986474, 8891: 4.59511985013459, 8892: 3.367295829986474, 12016: 5.517452896464707, 11921: 6.309918278226516, 11240: 5.0106352940962555, 10967: 5.135798437050262, 11000: 4.59511985013459, 11001: 6.309918278226516, 11043: 6.214608098422191, 11608: 5.0106352940962555, 11609: 5.0106352940962555, 11618: 5.0106352940962555, 11673: 3.912023005428146, 11558: 5.521460917862246, 6650: 4.59511985013459, 5885: 4.77912349311153, 5340: 5.703782474656201, 5451: 3.152736022363656, 1406: 5.293304824724492, 6105: 7.6005023795207425, 4828: 6.684611727667927, 5254: 6.684611727667927, 7304: 5.703782474656201, 7401: 5.298317366548036, 3561: 5.298317366548036, 8379: 4.382026634673881, 18633: 3.912023005428146, 18634: 4.605170185988092, 18771: 3.367295829986474, 18825: 5.991464547107982, 19755: 4.07753744390572, 18919: 4.59511985013459, 16581: 5.293304824724492, 16884: 3.728100167267218, 18164: 4.02535169073515, 17895: 5.700443573390686, 17359: 3.367295829986474, 17330: 3.367295829986474, 17198: 5.991464547107982, 31: 5.991464547107982, 30: 4.867534450455582, 1398: 5.0106352940962555, 1402: 7.243512974665482, 20169: 6.684611727667927, 20165: 6.684611727667927, 20157: 6.684611727667927, 20311: 3.367295829986474, 21321: 5.003946305945459, 11517: 5.438079308923196, 12575: 3.367295829986474, 14637: 3.367295829986474, 14640: 3.367295829986474, 15881: 6.510555915291006, 14759: 3.367295829986474, 15271: 6.579251212010101, 12906: 7.090076835776092, 12936: 6.396929655216146, 12694: 4.07753744390572, 14329: 4.59511985013459, 14363: 5.521460917862246, 14098: 5.517452896464707, 14434: 4.07753744390572, 14624: 3.367295829986474, 14550: 5.0106352940962555, 12745: 5.991464547107982, 13969: 4.59511985013459, 16582: 5.703782474656201, 16596: 3.367295829986474, 17798: 5.991464547107982, 14810: 4.382026634673881, 10109: 4.382026634673881, 10174: 6.309918278226516, 10847: 4.59511985013459, 10969: 5.135798437050262, 10995: 3.367295829986474, 9644: 5.003946305945459, 9684: 4.59511985013459, 13073: 5.703782474656201, 11145: 4.382026634673881, 11615: 5.0106352940962555, 1666: 6.956545443151569, 1825: 3.367295829986474, 2180: 7.003065458786462, 2212: 7.24422751560335, 1030: 5.293304824724492, 3313: 5.298317366548036, 3691: 7.154615356913663, 3370: 6.802394763324311, 18900: 3.367295829986474, 18754: 5.003946305945459, 18921: 5.700443573390686, 19165: 5.298317366548036, 19096: 4.07753744390572, 19135: 5.703782474656201, 18295: 5.703782474656201, 18437: 4.07753744390572, 19702: 5.517452896464707, 21705: 5.0106352940962555, 21735: 5.0106352940962555, 21435: 3.367295829986474, 21415: 4.07753744390572, 22020: 4.605170185988092, 19813: 6.309918278226516, 19703: 4.605170185988092, 19713: 5.298317366548036, 20238: 4.605170185988092, 18774: 6.396929655216146, 16937: 6.214608098422191, 19859: 5.521460917862246, 20312: 6.856461984594587, 20313: 5.003946305945459, 16500: 5.0106352940962555, 15324: 5.991464547107982, 5359: 5.703782474656201, 5991: 5.0106352940962555, 3643: 5.003946305945459, 7705: 4.324132656254979, 7704: 4.59511985013459, 8005: 5.293304824724492, 8538: 5.991464547107982, 8495: 5.703782474656201, 7388: 5.703782474656201, 1403: 8.294049640102028, 942: 3.332204510175204, 22021: 5.0106352940962555, 97: 5.0106352940962555, 1974: 5.293304824724492, 2711: 6.813444599510896, 3016: 7.490529402060711, 3149: 7.523481312573497, 2590: 5.521460917862246, 2601: 7.24422751560335, 3966: 5.703782474656201, 1114: 5.703782474656201, 36: 4.07753744390572, 1028: 5.003946305945459, 1035: 5.703782474656201, 2173: 6.476972362889683, 1840: 6.161207321695077, 1984: 7.600902459542082, 7442: 5.298317366548036, 7479: 6.1092475827643655, 7359: 5.298317366548036, 7340: 5.521460917862246, 9437: 6.214608098422191, 9488: 3.367295829986474, 9837: 5.003946305945459, 9724: 3.367295829986474, 9738: 4.07753744390572, 8476: 5.703782474656201, 8099: 2.70805020110221, 7988: 8.987196820661973, 8562: 4.430816798843313, 8762: 4.248495242049359, 8507: 5.521460917862246, 8513: 5.521460917862246, 5165: 6.396929655216146, 5113: 6.1092475827643655, 4502: 6.396929655216146, 4654: 5.703782474656201, 5495: 6.745236349484362, 5536: 7.762170607138205, 8237: 5.135798437050262, 10970: 5.135798437050262, 11619: 5.298317366548036, 10731: 4.59511985013459, 5253: 6.212606095751519, 4561: 6.620073206530356, 5948: 5.521460917862246, 19020: 4.07753744390572, 19379: 4.07753744390572, 17279: 5.521460917862246, 16861: 3.367295829986474, 17564: 3.367295829986474, 17797: 5.298317366548036, 17865: 4.382026634673881, 17494: 3.367295829986474, 21436: 5.293304824724492, 19746: 5.700443573390686, 19603: 5.298317366548036, 12811: 5.857933154483459, 12772: 4.605170185988092, 14849: 5.700443573390686, 14850: 5.831882477283517, 15446: 6.745236349484362, 15703: 3.367295829986474, 15740: 5.298317366548036, 15143: 4.59511985013459, 4034: 6.54965074223381, 4813: 4.07753744390572, 4380: 5.0106352940962555, 6658: 5.241747015059643, 7496: 5.521460917862246, 7551: 6.54965074223381, 7120: 5.700443573390686, 7344: 6.1092475827643655, 5614: 6.906754778648554, 1946: 5.168208681201016, 2745: 7.6004023345004, 1404: 8.294049640102028, 1632: 7.090076835776092, 1634: 7.090076835776092, 3493: 7.243512974665482, 2774: 4.32280727501391, 16684: 5.523458920524919, 18876: 4.07753744390572, 18239: 4.07753744390572, 15992: 6.214608098422191, 1009: 5.703782474656201, 20182: 6.212606095751519, 20839: 6.906754778648554, 20850: 5.988961416889864, 10404: 5.517452896464707, 7888: 7.596392304064196, 8689: 5.298317366548036, 8214: 8.496990484098719, 14343: 6.214608098422191, 13539: 6.212606095751519, 12557: 5.703782474656201, 14426: 3.367295829986474, 15347: 6.29156913955832, 16297: 6.212606095751519, 14858: 5.003946305945459, 14851: 5.293304824724492, 11047: 3.367295829986474, 12282: 4.07753744390572, 13497: 9.230113587075122, 11781: 5.293304824724492, 12046: 5.003946305945459, 19891: 7.313220387090301, 20876: 6.309918278226516, 19233: 4.59511985013459, 19465: 5.521460917862246, 21427: 5.135798437050262, 21521: 5.517452896464707, 21802: 5.521460917862246, 17650: 3.367295829986474, 16364: 5.521460917862246, 18772: 5.703782474656201, 18773: 5.703782474656201, 17864: 5.0106352940962555, 17791: 5.648974238161206, 20045: 5.298317366548036, 20084: 5.703782474656201, 20097: 3.367295829986474, 20107: 5.298317366548036, 20115: 3.367295829986474, 21701: 5.517452896464707, 21801: 5.521460917862246, 21805: 4.59511985013459, 21658: 4.59511985013459, 21592: 7.346010209913293, 21610: 5.521460917862246, 21632: 4.59511985013459, 21819: 5.298317366548036, 21998: 5.703782474656201, 19890: 7.313220387090301, 18895: 5.0689042022202315, 18961: 3.367295829986474, 18662: 5.0106352940962555, 18709: 4.248495242049359, 19809: 4.59511985013459, 19664: 4.59511985013459, 19853: 5.298317366548036, 19875: 3.367295829986474, 19512: 3.367295829986474, 4566: 5.988961416889864, 6146: 6.396929655216146, 6219: 6.802394763324311, 5385: 8.036573409707312, 5335: 6.476972362889683, 554: 5.0106352940962555, 2773: 4.07753744390572, 2162: 5.703782474656201, 14533: 5.298317366548036, 14132: 5.368962206117368, 14379: 5.517452896464707, 14859: 5.991464547107982, 14875: 5.991464547107982, 15883: 6.835184586147301, 14638: 4.59511985013459, 14728: 3.367295829986474, 13495: 9.209439966733019, 12793: 5.298317366548036, 12820: 5.703782474656201, 12769: 4.59511985013459, 12601: 3.367295829986474, 12546: 5.298317366548036, 12631: 5.0106352940962555, 14233: 4.07753744390572, 14034: 3.367295829986474, 13987: 5.003946305945459, 12950: 4.59511985013459, 13766: 5.0106352940962555, 17057: 3.367295829986474, 17611: 5.703782474656201, 16996: 3.367295829986474, 18504: 3.367295829986474, 19298: 4.07753744390572, 18542: 4.59511985013459, 18371: 4.59511985013459, 19320: 5.703782474656201, 18597: 3.367295829986474, 18296: 4.605170185988092, 18316: 5.003946305945459, 18330: 3.367295829986474, 18345: 3.367295829986474, 18356: 3.367295829986474, 18197: 3.367295829986474, 18213: 5.293304824724492, 18221: 5.298317366548036, 19284: 4.07753744390572, 18250: 4.07753744390572, 18252: 4.07753744390572, 18262: 4.59511985013459, 15717: 5.0106352940962555, 15738: 6.396929655216146, 16326: 5.087596335232384, 15659: 5.293304824724492, 15762: 5.991464547107982, 16413: 3.367295829986474, 16425: 4.59511985013459, 16358: 5.521460917862246, 15804: 3.367295829986474, 15643: 5.0106352940962555, 15589: 4.59511985013459, 15590: 5.003946305945459, 16912: 3.367295829986474, 16974: 4.07753744390572, 16724: 4.07753744390572, 16881: 5.0106352940962555, 4909: 6.57507584059962, 5249: 5.293304824724492, 4426: 4.59511985013459, 7508: 5.298317366548036, 6049: 4.59511985013459, 18165: 5.517452896464707, 18965: 4.709530201312334, 9569: 5.700443573390686, 8921: 3.367295829986474, 8922: 3.367295829986474, 8923: 3.367295829986474, 13116: 5.703782474656201, 11358: 5.521460917862246, 12736: 4.07753744390572, 9178: 4.07753744390572, 8389: 5.298317366548036, 7330: 5.703782474656201, 9967: 3.9219733362813143, 10898: 5.075173815233827, 10981: 5.003946305945459, 8795: 5.0106352940962555, 14281: 7.243512974665482, 20006: 4.07753744390572, 176: 5.5254529391317835, 21573: 4.07753744390572, 14876: 4.59511985013459, 14493: 4.59511985013459, 14496: 4.07753744390572, 17355: 4.59511985013459, 17538: 3.367295829986474, 12508: 7.882314918980268, 4822: 6.54965074223381, 1088: 3.367295829986474, 1258: 5.703782474656201, 1198: 5.521460917862246, 545: 5.521460917862246, 565: 5.298317366548036, 825: 5.703782474656201, 1614: 5.703782474656201, 1643: 6.620073206530356, 1456: 7.090076835776092, 224: 5.521460917862246, 12: 5.247024072160486, 13121: 5.521460917862246, 12272: 5.988961416889864, 10668: 6.478509642208569, 10672: 6.551080335043404, 9867: 3.367295829986474, 9886: 3.367295829986474, 11469: 5.0106352940962555, 11105: 4.890349128221754, 13921: 5.703782474656201, 14133: 4.59511985013459, 12871: 5.703782474656201, 5369: 8.068089626278244, 4017: 7.346010209913293, 4014: 7.346010209913293, 4725: 7.2438703089555085, 8342: 3.367295829986474, 6194: 7.696212639346407, 7507: 5.298317366548036, 7069: 4.77912349311153, 4118: 4.59511985013459, 20331: 6.866933284461882, 16496: 3.367295829986474, 18198: 5.703782474656201, 21965: 6.802394763324311, 9025: 5.298317366548036, 9026: 4.07753744390572, 8565: 5.5254529391317835, 8726: 3.367295829986474, 9756: 3.367295829986474, 9637: 6.802394763324311, 9683: 3.367295829986474, 10229: 7.494986233950533, 9036: 4.59511985013459, 9038: 3.367295829986474, 9435: 6.214608098422191, 9450: 6.212606095751519, 9566: 5.135798437050262, 9590: 5.298317366548036, 9486: 5.293304824724492, 7227: 8.098946748943339, 7229: 8.629449873761905, 7295: 7.047517221357296, 7160: 6.396929655216146, 7154: 7.782807262839695, 7379: 5.703782474656201, 7402: 4.59511985013459, 6360: 3.367295829986474, 6846: 4.07753744390572, 6822: 7.408530566894626, 8087: 5.0106352940962555, 7996: 6.684611727667927, 8033: 5.988961416889864, 8262: 3.367295829986474, 8274: 5.298317366548036, 8537: 5.991464547107982, 8172: 5.857933154483459, 7523: 5.703782474656201, 11639: 4.59511985013459, 11908: 3.367295829986474, 11910: 4.07753744390572, 11706: 4.59511985013459, 11396: 5.703782474656201, 12296: 7.377133712833954, 12276: 6.906754778648554, 12326: 5.298317366548036, 12435: 4.59511985013459, 12385: 3.367295829986474, 12156: 4.59511985013459, 11939: 4.59511985013459, 10645: 6.311734809152915, 10441: 4.07753744390572, 10471: 5.003946305945459, 10068: 5.0106352940962555, 10025: 4.07753744390572, 10009: 3.367295829986474, 10155: 8.909235279192261, 11350: 5.043425116919247, 11351: 5.521460917862246, 11084: 5.293304824724492, 11114: 3.367295829986474, 10954: 5.703782474656201, 10890: 7.346010209913293, 10932: 4.709530201312334, 3121: 6.476972362889683, 3127: 6.620073206530356, 3085: 7.438383530044307, 3907: 6.214608098422191, 3981: 4.59511985013459, 3803: 6.802394763324311, 3812: 6.620073206530356, 3583: 6.620073206530356, 3377: 7.27931883541462, 3646: 4.07753744390572, 3654: 6.309918278226516, 3782: 5.703782474656201, 2120: 5.293304824724492, 2139: 5.703782474656201, 2359: 5.703782474656201, 2093: 5.003946305945459, 2096: 6.802394763324311, 2237: 4.07753744390572, 1714: 6.620073206530356, 2575: 7.673223121121708, 2239: 6.309918278226516, 5938: 5.293304824724492, 5939: 5.700443573390686, 5940: 6.620073206530356, 5947: 5.634789603169249, 5949: 5.703782474656201, 5987: 6.476972362889683, 5936: 5.517452896464707, 5935: 6.173786103901937, 5929: 5.293304824724492, 5926: 5.293304824724492, 5927: 5.700443573390686, 6034: 6.396929655216146, 6042: 4.59511985013459, 6014: 6.309918278226516, 5529: 4.248495242049359, 5540: 7.762170607138205, 5544: 6.802394763324311, 5546: 7.090076835776092, 5774: 4.59511985013459, 5781: 5.298317366548036, 6288: 5.991464547107982, 6239: 5.521460917862246, 6242: 6.476972362889683, 6260: 5.703782474656201, 6199: 6.476972362889683, 4605: 7.600902459542082, 4580: 8.006367567650246, 4682: 7.600902459542082, 4473: 8.00603417874901, 4289: 5.991464547107982, 5089: 6.1092475827643655, 4556: 6.802394763324311, 4575: 3.367295829986474, 4448: 5.003946305945459, 4449: 5.293304824724492, 4450: 5.003946305945459, 4521: 6.620073206530356, 4452: 5.298317366548036, 5300: 6.476972362889683, 5434: 4.07753744390572, 5502: 7.003065458786462, 5315: 7.003065458786462, 21515: 4.948759890378168, 1147: 6.802394763324311, 1120: 6.856461984594587, 21813: 4.59511985013459, 21997: 3.367295829986474, 22097: 3.6375861597263857, 19095: 4.59511985013459, 15724: 3.367295829986474, 18868: 5.298317366548036, 18365: 3.367295829986474, 17461: 4.605170185988092, 1919: 4.59511985013459, 1312: 6.551080335043404, 2280: 4.07753744390572, 2391: 4.59511985013459, 5934: 5.517452896464707, 6047: 3.367295829986474, 6246: 6.476972362889683, 8053: 3.4339872044851463, 7985: 7.377133712833954, 8011: 6.684611727667927, 8258: 5.0106352940962555, 6886: 4.07753744390572, 4098: 5.857933154483459, 3900: 5.521460917862246, 14162: 5.521460917862246, 13022: 5.298317366548036, 13088: 4.07753744390572, 12690: 5.293304824724492, 14186: 5.991464547107982, 15979: 4.795790545596741, 15984: 4.189654742026425, 14896: 3.367295829986474, 14618: 7.600902459542082, 14358: 4.59511985013459, 10597: 5.521460917862246, 9230: 5.521460917862246, 8861: 5.700443573390686, 12018: 5.517452896464707, 18229: 3.367295829986474, 18421: 4.07753744390572, 17005: 5.703782474656201, 20154: 6.684611727667927, 20174: 6.684611727667927, 20114: 4.07753744390572, 12869: 3.367295829986474, 14236: 5.003946305945459, 16423: 4.59511985013459, 16833: 4.51085950651685, 2561: 6.309918278226516, 20964: 5.521460917862246, 21423: 3.367295829986474, 22150: 5.298317366548036, 5330: 7.27931883541462, 5528: 2.70805020110221, 6330: 5.700443573390686, 4469: 6.685236532436769, 4308: 7.8632667240095735, 3927: 7.3777589082278725, 4608: 7.170119543449628, 11743: 5.298317366548036, 10901: 3.367295829986474, 10897: 5.298317366548036, 11164: 3.367295829986474, 11007: 3.367295829986474, 11008: 3.367295829986474, 12531: 5.991464547107982, 7184: 6.684611727667927, 6789: 6.212606095751519, 6849: 5.703782474656201, 9555: 3.367295829986474, 10341: 5.293304824724492, 10029: 7.824046010856292, 10166: 7.346010209913293, 8269: 3.367295829986474, 8322: 5.438079308923196, 8929: 3.367295829986474, 8201: 5.0106352940962555, 12151: 5.703782474656201, 5415: 6.802394763324311, 5973: 6.476972362889683, 5974: 6.476972362889683, 7376: 3.367295829986474, 7828: 5.003946305945459, 654: 5.0106352940962555, 659: 5.298317366548036, 706: 5.0106352940962555, 771: 5.298317366548036, 697: 5.0106352940962555, 16743: 4.59511985013459, 15120: 5.521460917862246, 17766: 5.298317366548036, 18067: 6.54965074223381, 17673: 5.521460917862246, 19279: 4.07753744390572, 18816: 4.59511985013459, 9027: 3.367295829986474, 9664: 3.367295829986474, 9774: 5.703782474656201, 12068: 5.438079308923196, 3804: 6.214608098422191, 2352: 6.551080335043404, 16885: 4.605170185988092, 17532: 3.332204510175204, 16463: 6.309918278226516, 18435: 3.367295829986474, 12819: 5.857933154483459, 16299: 5.988961416889864, 14357: 5.517452896464707, 14074: 6.551080335043404, 2549: 5.703782474656201, 21416: 5.003946305945459, 9264: 4.454347296253507, 1613: 5.857933154483459, 11849: 4.454347296253507, 11836: 3.9318256327243257, 11852: 4.454347296253507, 946: 3.367295829986474, 4374: 5.988961416889864, 5374: 9.366831168735615, 2375: 6.1092475827643655, 11897: 7.313220387090301, 11245: 3.367295829986474, 11086: 6.309918278226516, 8635: 4.248495242049359, 8444: 5.707110264748875, 14908: 3.367295829986474, 15630: 3.367295829986474, 18390: 5.703782474656201, 19276: 4.07753744390572, 18186: 5.703782474656201, 17677: 3.367295829986474, 10704: 5.703782474656201, 10828: 6.620073206530356, 10878: 3.367295829986474, 10879: 3.367295829986474, 13074: 5.703782474656201, 2850: 4.07753744390572, 19886: 5.298317366548036, 19470: 4.59511985013459, 555: 5.0106352940962555, 387: 5.521460917862246, 1066: 5.003946305945459, 1161: 6.898714534329988, 814: 5.298317366548036, 1336: 7.718685495198466, 2054: 5.003946305945459, 1754: 5.298317366548036, 17751: 5.703782474656201, 20700: 7.090076835776092, 5297: 3.367295829986474, 6756: 7.243512974665482, 4345: 6.1092475827643655, 4537: 6.994849985833071, 1633: 7.24422751560335, 1668: 6.802394763324311, 2488: 7.003065458786462, 2113: 6.212606095751519, 2227: 7.170119543449628, 1078: 3.8918202981106265, 1200: 7.003065458786462, 1212: 6.214608098422191, 1130: 6.802394763324311, 1323: 9.099408811268901, 1444: 5.703782474656201, 3874: 7.090076835776092, 3373: 5.700443573390686, 4294: 6.309918278226516, 4302: 6.476972362889683, 3894: 3.367295829986474, 4077: 7.2078598714324755, 4080: 6.906754778648554, 7358: 5.703782474656201, 7829: 5.003946305945459, 11721: 4.07753744390572, 11399: 3.367295829986474, 10873: 5.0106352940962555, 4290: 5.521460917862246, 5890: 5.293304824724492, 5850: 5.517452896464707, 18650: 3.367295829986474, 18536: 4.07753744390572, 21880: 5.0106352940962555, 18385: 3.367295829986474, 14084: 5.703782474656201, 13050: 5.298317366548036, 12139: 5.003946305945459, 12144: 4.07753744390572, 17246: 3.367295829986474, 18204: 5.703782474656201, 20086: 4.59511985013459, 17923: 3.367295829986474, 18179: 4.07753744390572, 16880: 5.298317366548036, 3058: 3.332204510175204, 3064: 5.700443573390686, 3060: 6.54965074223381, 3207: 4.07753744390572, 3516: 5.298317366548036, 1636: 6.620073206530356, 1654: 6.620073206530356, 1638: 6.620073206530356, 1348: 4.07753744390572, 13886: 6.1092475827643655, 3886: 6.54965074223381, 7246: 5.857933154483459, 6110: 5.298317366548036, 1083: 7.590852123688581, 2243: 5.298317366548036, 3256: 5.857933154483459, 3517: 3.367295829986474, 2829: 7.600902459542082, 2941: 5.517452896464707, 10595: 5.703782474656201, 10623: 6.111467339502679, 12145: 4.07753744390572, 5391: 9.825039406206987, 5618: 7.3098814858247865, 7827: 4.59511985013459, 8499: 4.07753744390572, 9176: 5.5254529391317835, 273: 4.74493212836325, 4644: 5.003946305945459, 4061: 6.54965074223381, 3949: 7.467942332285852, 7900: 5.293304824724492, 2532: 7.8632667240095735, 2741: 6.476972362889683, 2351: 4.869302117979612, 21932: 4.59511985013459, 21889: 4.59511985013459, 22090: 4.962844630259907, 4543: 7.490529402060711, 5681: 3.367295829986474, 19878: 5.0106352940962555, 11752: 4.07753744390572, 13838: 5.703782474656201, 18763: 3.728100167267218, 19139: 5.293304824724492, 14051: 5.700443573390686, 16318: 7.673223121121708, 15663: 5.293304824724492, 15349: 3.332204510175204, 15350: 3.332204510175204, 15860: 7.509883061154913, 18904: 4.59511985013459, 19274: 3.332204510175204, 17550: 3.332204510175204, 17741: 5.973809611869261, 18247: 3.332204510175204, 11971: 5.521460917862246, 12695: 4.59511985013459, 12343: 3.332204510175204, 10791: 5.076423034634259, 11270: 3.332204510175204, 11631: 5.703782474656201, 15011: 3.367295829986474, 14459: 5.003274939689963, 13575: 6.855408798609928, 3319: 3.912023005428146, 20870: 5.517452896464707, 596: 5.0106352940962555, 570: 5.0106352940962555, 7870: 4.07753744390572, 2342: 6.54965074223381, 20013: 4.382026634673881, 9523: 4.07753744390572, 1601: 5.988961416889864, 1529: 7.696212639346407, 1966: 4.8283137373023015, 21890: 3.367295829986474, 1111: 3.367295829986474, 12896: 4.59511985013459, 14032: 3.367295829986474, 17704: 3.367295829986474, 15453: 6.396929655216146, 15884: 6.907755278982137, 6617: 6.54965074223381, 6487: 6.684611727667927, 3481: 3.367295829986474, 2713: 3.367295829986474, 2706: 5.0132984115157395, 2519: 7.003065458786462, 2582: 7.24422751560335, 2630: 5.857933154483459, 2150: 5.991464547107982, 2471: 6.856461984594587, 2710: 4.543294782270004, 3772: 6.396929655216146, 2672: 7.24422751560335, 18891: 4.59511985013459, 20190: 4.8283137373023015, 1451: 5.521460917862246, 822: 4.605170185988092, 626: 5.298317366548036, 625: 5.0106352940962555, 1080: 7.408530566894626, 1422: 3.367295829986474, 1145: 9.159047077588632, 1214: 6.802394763324311, 8947: 4.07753744390572, 7887: 6.54965074223381, 8700: 5.003946305945459, 8250: 7.2078598714324755, 12425: 5.003946305945459, 11342: 5.521460917862246, 5285: 6.309918278226516, 5847: 6.5489351786970165, 5690: 6.778784897685177, 4284: 7.494986233950533, 6807: 7.7406644019172415, 6774: 6.54965074223381, 6754: 6.71603771766778, 7532: 5.703782474656201, 7182: 6.214608098422191, 5957: 8.006367567650246, 5943: 7.52294091807237, 6074: 7.312886998189064, 10644: 6.478509642208569, 14867: 3.367295829986474, 17643: 5.988961416889864, 17603: 6.54965074223381, 12084: 3.367295829986474, 582: 4.5217885770490405, 2799: 6.214608098422191, 3848: 3.367295829986474, 3846: 6.212606095751519, 4160: 6.9930151229329605, 4834: 6.212606095751519, 4574: 5.25227342804663, 4913: 3.332204510175204, 4461: 6.476972362889683, 4166: 8.266421472984554, 4226: 3.332204510175204, 4465: 5.241747015059643, 1522: 7.1808311990445555, 1808: 3.332204510175204, 5318: 9.232101863757695, 5745: 7.495541943884256, 4165: 6.856461984594587, 272: 5.5254529391317835, 318: 5.703782474656201, 319: 5.703782474656201, 165: 5.521460917862246, 22089: 4.605170185988092, 475: 10.471666571132038, 477: 9.825580063659602, 20359: 7.114769448366463, 20406: 6.802394763324311, 19384: 5.003946305945459, 11302: 8.1886891244442, 11364: 7.630946580890459, 7868: 5.988961416889864, 8517: 5.438079308923196, 15901: 6.309918278226516, 11816: 8.006367567650246, 19955: 5.700443573390686, 7959: 9.272281773516365, 4817: 5.293304824724492, 2305: 7.192182058713246, 3881: 5.298317366548036, 21437: 6.309918278226516, 1533: 6.447305862541213, 1526: 6.447305862541213, 21789: 3.332204510175204, 21788: 3.332204510175204, 22138: 5.241747015059643, 22062: 5.700443573390686, 21923: 5.298317366548036, 17952: 4.07753744390572, 17558: 3.367295829986474, 18160: 3.332204510175204, 18235: 4.07753744390572, 17663: 3.332204510175204, 17116: 4.07753744390572, 17718: 5.278114659230518, 19084: 3.367295829986474, 18879: 4.605170185988092, 18878: 4.59511985013459, 19100: 5.293304824724492, 19517: 6.212606095751519, 18541: 3.332204510175204, 18767: 3.332204510175204, 18661: 3.332204510175204, 6104: 7.243512974665482, 9522: 3.332204510175204, 9081: 3.367295829986474, 10292: 5.135798437050262, 10621: 6.621405651764134, 10434: 5.521460917862246, 3190: 3.332204510175204, 1891: 7.19668657083435, 2728: 7.346010209913293, 5227: 5.484796933490655, 5215: 6.212606095751519, 5265: 5.517452896464707, 3359: 3.367295829986474, 8713: 4.02535169073515, 9351: 5.62040086571715, 8836: 3.6635616461296463, 10804: 5.293304824724492, 10946: 5.703782474656201, 10327: 5.703782474656201, 6470: 5.4638318050256105, 5740: 5.648974238161206, 5570: 4.543294782270004, 7152: 4.1588830833596715, 7217: 7.37650812632622, 7234: 5.937536205082426, 7449: 6.546785410760524, 15137: 5.940171252720432, 14625: 5.298317366548036, 14399: 3.367295829986474, 14843: 4.770684624465665, 15354: 3.332204510175204, 15358: 3.332204510175204, 16255: 4.543294782270004, 13962: 3.367295829986474, 12366: 3.367295829986474, 12518: 4.59511985013459, 13737: 3.332204510175204, 12798: 3.332204510175204, 13034: 3.332204510175204, 13913: 6.163104255555076, 14156: 3.332204510175204, 13799: 3.332204510175204, 13049: 5.857933154483459, 17460: 2.833213344056216, 17842: 3.367295829986474, 16717: 5.076423034634259, 16930: 3.367295829986474, 19217: 3.367295829986474, 18290: 5.298317366548036, 14013: 5.293304824724492, 13960: 5.521460917862246, 14131: 4.59511985013459, 15744: 3.367295829986474, 15475: 7.27931883541462, 15368: 6.1092475827643655, 15370: 6.214608098422191, 15339: 6.429719478039138, 15360: 6.476972362889683, 15461: 6.272877006546167, 16921: 3.367295829986474, 12143: 3.367295829986474, 9790: 4.07753744390572, 11291: 5.003946305945459, 20148: 3.1354942159291497, 18814: 5.0106352940962555, 18893: 3.367295829986474, 18897: 3.367295829986474, 21642: 5.298317366548036, 21647: 3.367295829986474, 21751: 5.521460917862246, 19819: 5.703782474656201, 19767: 5.703782474656201, 20893: 7.089243155027514, 20289: 5.0106352940962555, 20180: 6.684611727667927, 4379: 6.396929655216146, 22030: 3.367295829986474, 4674: 4.07753744390572, 4538: 6.898714534329988, 4005: 5.521460917862246, 3914: 7.3777589082278725, 4402: 5.29931686688112, 4451: 5.293304824724492, 4094: 6.214608098422191, 5426: 7.591357046698551, 5928: 5.700443573390686, 1755: 5.29931686688112, 2469: 5.703782474656201, 2201: 5.003946305945459, 1314: 5.521460917862246, 3305: 7.090076835776092, 3309: 4.59511985013459, 2624: 6.856461984594587, 2983: 7.462214939768189, 10827: 5.703782474656201, 10924: 5.298317366548036, 10925: 5.298317366548036, 12347: 3.367295829986474, 8254: 5.293304824724492, 8380: 5.293304824724492, 8331: 5.0106352940962555, 7153: 8.00603417874901, 7406: 5.076423034634259, 7410: 5.481471909645883, 9963: 5.703782474656201, 10425: 6.0867747269123065, 9426: 6.907755278982137, 9442: 6.214608098422191, 9340: 5.517452896464707, 9080: 3.367295829986474, 9088: 4.59511985013459, 3255: 5.293304824724492, 2495: 4.605170185988092, 5878: 8.036249942132116, 13003: 3.367295829986474, 14424: 5.517452896464707, 16754: 5.517452896464707, 15831: 6.396929655216146, 17054: 5.298317366548036, 8275: 5.703782474656201, 11040: 5.298317366548036, 18576: 4.07753744390572, 17310: 5.298317366548036, 16855: 3.367295829986474, 22086: 5.247024072160486, 21547: 4.07753744390572, 19673: 5.293304824724492, 10011: 5.298317366548036, 4043: 3.4011973816621555, 363: 5.521460917862246, 888: 5.19295685089021, 665: 5.0106352940962555, 683: 5.298317366548036, 9592: 5.703782474656201, 3888: 4.59511985013459, 2580: 6.212606095751519, 2547: 7.600902459542082, 19841: 4.07753744390572, 6791: 7.2078598714324755, 6831: 6.309918278226516, 6906: 5.857933154483459, 6274: 6.618738983517219, 6322: 4.07753744390572, 8897: 4.59511985013459, 8956: 4.07753744390572, 7568: 5.517452896464707, 4552: 5.703782474656201, 3645: 6.906754778648554, 5293: 4.605170185988092, 5302: 6.396929655216146, 10565: 5.703782474656201, 17358: 4.59511985013459, 17915: 5.991464547107982, 12050: 3.367295829986474, 14139: 3.332204510175204, 14179: 3.367295829986474, 7167: 6.54965074223381, 4126: 3.367295829986474, 4121: 5.634789603169249, 5404: 6.214608098422191, 4986: 7.377133712833954, 2262: 4.59511985013459, 14513: 3.8918202981106265, 14058: 4.07753744390572, 14067: 4.59511985013459, 14071: 3.367295829986474, 14010: 4.07753744390572, 17471: 4.59511985013459, 18124: 3.367295829986474, 11916: 5.703782474656201, 10365: 5.298317366548036, 13534: 5.700443573390686, 758: 5.393627546352361, 19881: 3.367295829986474, 16394: 5.003946305945459, 16854: 4.605170185988092, 15476: 6.152732694704104, 17723: 7.089243155027514, 12348: 4.07753744390572, 9185: 3.713572066704308, 4064: 7.089243155027514, 10680: 5.993961427306569, 9688: 3.367295829986474, 7352: 5.298317366548036, 7353: 5.298317366548036, 13072: 3.367295829986474, 12256: 3.367295829986474, 12148: 5.703782474656201, 3015: 7.596392304064196, 4621: 5.857933154483459, 10134: 5.298317366548036, 10137: 5.298317366548036, 10822: 5.298317366548036, 10984: 5.0106352940962555, 9058: 3.367295829986474, 9819: 6.1092475827643655, 9872: 6.396929655216146, 9623: 5.521460917862246, 9737: 3.367295829986474, 9686: 4.07753744390572, 12611: 5.703782474656201, 12354: 4.59511985013459, 12712: 4.07753744390572, 8604: 3.367295829986474, 5420: 8.224431573221159, 5531: 6.309918278226516, 6269: 5.521460917862246, 6192: 7.24422751560335, 6198: 7.649692623711514, 5930: 5.293304824724492, 5933: 5.003946305945459, 6038: 6.396929655216146, 4562: 5.857933154483459, 4978: 5.293304824724492, 7562: 8.330863613224745, 8306: 3.367295829986474, 8367: 5.0106352940962555, 7281: 8.45531778769815, 7183: 6.214608098422191, 6829: 7.3777589082278725, 6806: 7.7406644019172415, 6854: 6.476972362889683, 18972: 4.59511985013459, 18007: 5.703782474656201, 17528: 3.367295829986474, 18061: 3.367295829986474, 18073: 7.494986233950533, 17830: 4.07753744390572, 18429: 4.248495242049359, 21746: 4.07753744390572, 21645: 5.298317366548036, 542: 5.003946305945459, 20793: 6.212606095751519, 14635: 3.367295829986474, 14675: 5.135798437050262, 13857: 5.298317366548036, 13902: 4.07753744390572, 13596: 8.476371196895983, 12995: 5.003946305945459, 14319: 5.521460917862246, 13967: 3.367295829986474, 14184: 5.857933154483459, 16703: 6.212606095751519, 16709: 5.517452896464707, 17299: 3.367295829986474, 17738: 6.19644412779452, 17021: 8.648221453822641, 17071: 7.170119543449628, 10979: 4.07753744390572, 20156: 6.54965074223381, 20940: 5.988961416889864, 716: 5.0106352940962555, 941: 3.367295829986474, 561: 5.298317366548036, 14758: 5.0106352940962555, 17698: 4.07753744390572, 16936: 3.367295829986474, 16512: 5.135798437050262, 14481: 5.003946305945459, 13845: 5.981717195653102, 17974: 5.003946305945459, 18569: 5.293304824724492, 20935: 5.003946305945459, 2544: 7.600902459542082, 9504: 3.367295829986474, 11204: 5.0106352940962555, 10112: 3.8918202981106265, 7514: 5.703782474656201, 4868: 4.59511985013459, 2568: 5.857933154483459, 7179: 6.214608098422191, 7467: 5.298317366548036, 8137: 4.07753744390572, 6029: 6.214608098422191, 19356: 5.521460917862246, 19607: 5.703782474656201, 16863: 5.293304824724492, 15697: 3.367295829986474, 2105: 6.956545443151569, 1737: 5.857933154483459, 1733: 5.857933154483459, 22157: 4.07753744390572, 10602: 4.2626798770413155, 10258: 3.828641396489095, 1084: 7.590852123688581, 17077: 3.367295829986474, 14930: 3.367295829986474, 16521: 4.07753744390572, 20209: 3.367295829986474, 21913: 5.517452896464707, 19568: 3.367295829986474, 19146: 3.367295829986474, 11654: 4.59511985013459, 11408: 3.912023005428146, 10622: 5.988961416889864, 9718: 4.59511985013459, 1834: 3.367295829986474, 1942: 7.745002803515839, 1941: 5.988961416889864, 1940: 6.212606095751519, 1939: 6.212606095751519, 2919: 7.24422751560335, 20868: 5.700443573390686, 20596: 7.090076835776092, 21441: 5.298317366548036, 21440: 5.0106352940962555, 19196: 4.07753744390572, 19193: 4.382026634673881, 20159: 6.212606095751519, 21740: 3.912023005428146, 1461: 6.397762641520038, 1460: 6.396929655216146, 5626: 7.695757990554761, 6138: 6.802394763324311, 6121: 5.293304824724492, 5209: 7.783224016336037, 5208: 6.906754778648554, 5395: 3.367295829986474, 6624: 6.551080335043404, 6642: 5.857933154483459, 6455: 6.317164686747284, 6457: 6.551080335043404, 6500: 5.859360706474645, 6501: 5.523458920524919, 4908: 6.802394763324311, 3697: 7.213031659834869, 3696: 8.00603417874901, 3695: 7.090076835776092, 3690: 6.802394763324311, 3689: 7.090076835776092, 3800: 5.703782474656201, 3738: 5.703782474656201, 3673: 7.3777589082278725, 4830: 8.006367567650246, 4829: 7.729735331385051, 4228: 7.090076835776092, 4344: 6.54965074223381, 19415: 5.991464547107982, 8314: 5.0106352940962555, 8315: 5.298317366548036, 7556: 4.836281906951478, 7392: 5.703782474656201, 11162: 5.0106352940962555, 11085: 4.59511985013459, 11292: 5.293304824724492, 11194: 5.991464547107982, 11196: 6.620073206530356, 8986: 4.605170185988092, 8985: 5.0106352940962555, 8979: 5.991464547107982, 6639: 6.906754778648554, 6623: 6.802394763324311, 6739: 8.006367567650246, 6738: 6.907755278982137, 7072: 6.907755278982137, 7071: 6.907755278982137, 7073: 8.411832675758411, 7070: 5.857933154483459, 7076: 6.907755278982137, 7213: 7.090076835776092, 7077: 7.243512974665482, 7068: 6.396929655216146, 16485: 5.0106352940962555, 15485: 4.782479200958502, 15463: 6.29156913955832, 15462: 6.29156913955832, 16026: 7.8632667240095735, 18847: 4.382026634673881, 19408: 7.313220387090301, 19407: 7.600902459542082, 19406: 5.991464547107982, 19405: 5.991464547107982, 17851: 5.991464547107982, 17822: 5.857933154483459, 17784: 6.3965962663149085, 17783: 6.907755278982137, 17782: 5.991464547107982, 18122: 5.293304824724492, 14874: 5.991464547107982, 13459: 8.003363058629947, 13496: 9.249387993226849, 11711: 5.991464547107982, 12258: 5.293304824724492, 11957: 4.59511985013459, 13572: 4.59511985013459, 14575: 5.298317366548036, 14574: 5.420534999272286, 13783: 5.703782474656201, 13004: 5.991464547107982, 14384: 4.605170185988092, 14382: 5.857933154483459, 2622: 5.703782474656201, 2584: 5.703782474656201, 2959: 7.24422751560335, 2345: 6.212606095751519, 3828: 5.703782474656201, 2316: 3.332204510175204, 21741: 3.912023005428146, 22146: 6.396929655216146, 1756: 5.703782474656201, 1275: 5.521460917862246, 1196: 5.703782474656201, 1462: 6.54965074223381, 1123: 5.857933154483459, 8241: 5.634789603169249, 8666: 4.605170185988092, 7444: 5.521460917862246, 5291: 7.495541943884256, 5499: 0.4054651081081644, 4504: 5.703782474656201, 4113: 5.857933154483459, 5211: 8.411832675758411, 10559: 5.0106352940962555, 11186: 5.298317366548036, 9974: 5.298317366548036, 11554: 5.521460917862246, 6998: 5.003946305945459, 8426: 4.59511985013459, 8208: 4.605170185988092, 8771: 5.003946305945459, 18705: 4.382026634673881, 18683: 3.367295829986474, 18123: 5.003946305945459, 17806: 5.991464547107982, 18969: 5.298317366548036, 20231: 5.135798437050262, 20261: 5.0106352940962555, 19195: 3.367295829986474, 19188: 3.367295829986474, 18978: 5.0106352940962555, 19639: 4.605170185988092, 17156: 5.0106352940962555, 14073: 5.003946305945459, 15020: 5.0106352940962555, 12770: 5.991464547107982, 12744: 5.703782474656201, 12743: 5.521460917862246, 12841: 5.991464547107982, 12848: 4.605170185988092, 12942: 5.0106352940962555, 12875: 5.19295685089021, 16452: 5.0106352940962555, 16649: 5.19295685089021, 14753: 5.703782474656201, 5978: 3.367295829986474, 4101: 8.006367567650246, 5213: 8.411832675758411, 8911: 4.02535169073515, 8900: 4.07753744390572, 8856: 5.703782474656201, 8407: 3.367295829986474, 8124: 5.703782474656201, 8123: 3.367295829986474, 10175: 4.07753744390572, 10026: 5.521460917862246, 10302: 4.07753744390572, 6882: 4.59511985013459, 7476: 6.1092475827643655, 21443: 5.0106352940962555, 20358: 7.8632667240095735, 20554: 5.003946305945459, 18400: 3.367295829986474, 19709: 5.0106352940962555, 19130: 5.298317366548036, 3955: 7.408530566894626, 1473: 7.24422751560335, 2491: 5.857933154483459, 1778: 5.703782474656201, 1459: 6.907755278982137, 20043: 4.07753744390572, 20598: 6.9845311177841864, 485: 5.707110264748875, 22156: 3.367295829986474, 22152: 5.0106352940962555, 3739: 5.703782474656201, 12918: 4.07753744390572, 12853: 4.59511985013459, 12689: 5.003946305945459, 12635: 4.59511985013459, 12633: 5.991464547107982, 13506: 7.90100705199242, 14444: 3.367295829986474, 14141: 6.212606095751519, 13864: 4.324132656254979, 13793: 3.367295829986474, 11382: 5.298317366548036, 11643: 3.367295829986474, 11068: 5.517452896464707, 11044: 4.605170185988092, 12017: 5.0106352940962555, 17807: 4.07753744390572, 19628: 3.367295829986474, 19229: 5.521460917862246, 19214: 3.367295829986474, 19785: 5.0106352940962555, 19714: 5.298317366548036, 18931: 3.367295829986474, 18981: 3.367295829986474, 14916: 5.517452896464707, 17226: 4.59511985013459, 17365: 4.499809670330265, 17160: 4.07753744390572, 16453: 5.298317366548036, 16464: 4.59511985013459, 16995: 4.07753744390572, 12453: 3.367295829986474, 14402: 7.649692623711514, 13999: 5.0106352940962555, 13998: 5.0106352940962555, 13053: 5.703782474656201, 13051: 5.703782474656201, 13816: 5.521460917862246, 11101: 5.991464547107982, 11195: 5.703782474656201, 11995: 4.07753744390572, 11202: 3.367295829986474, 17834: 3.367295829986474, 17435: 3.367295829986474, 18588: 3.367295829986474, 15472: 6.309918278226516, 16941: 4.59511985013459, 16031: 6.907755278982137, 16024: 7.560080465021827, 4496: 4.07753744390572, 5396: 5.517452896464707, 5212: 8.411832675758411, 7950: 7.089243155027514, 9519: 4.59511985013459, 10090: 3.912023005428146, 10041: 4.07753744390572, 8378: 4.59511985013459, 7074: 7.782807262839695, 7194: 6.551080335043404, 7455: 5.703782474656201, 7422: 5.703782474656201, 7272: 5.703782474656201, 3829: 6.476972362889683, 3494: 6.684611727667927, 5964: 5.857933154483459, 5954: 6.956545443151569, 5877: 6.212606095751519, 22132: 5.0106352940962555, 37: 5.0106352940962555, 21825: 4.59511985013459, 21745: 3.912023005428146, 901: 5.521460917862246, 19566: 4.59511985013459, 19115: 5.0106352940962555, 18920: 5.003946305945459, 19798: 5.857933154483459, 20573: 7.090076835776092, 20557: 6.272877006546167, 2076: 5.703782474656201, 1757: 6.212606095751519, 2759: 7.495541943884256, 1944: 8.66561319653451, 1945: 8.66561319653451, 1735: 5.857933154483459, 19225: 5.19295685089021, 19784: 5.0106352940962555, 21826: 4.07753744390572, 19856: 4.605170185988092, 3173: 5.703782474656201, 11214: 5.0106352940962555, 8830: 4.248495242049359, 10369: 4.59511985013459, 10405: 5.293304824724492, 14250: 5.703782474656201, 15470: 5.521460917862246, 14572: 4.605170185988092, 14480: 5.521460917862246, 14474: 5.521460917862246, 14469: 5.521460917862246, 562: 5.0106352940962555, 1943: 6.396929655216146, 19599: 6.396929655216146, 2402: 5.298317366548036, 8668: 5.0106352940962555, 7631: 5.521460917862246, 7573: 7.408530566894626, 10671: 6.745236349484362, 10406: 5.988961416889864, 7334: 5.521460917862246, 14918: 4.07753744390572, 16627: 5.0106352940962555, 14048: 5.0106352940962555, 17427: 5.298317366548036, 8945: 4.59511985013459, 9432: 6.214608098422191, 9083: 4.382026634673881, 8580: 5.293304824724492, 8752: 5.298317366548036, 10284: 5.703782474656201, 10397: 5.703782474656201, 9806: 5.293304824724492, 9799: 4.382026634673881, 7000: 5.703782474656201, 8153: 5.991464547107982, 8152: 5.703782474656201, 8135: 4.07753744390572, 8125: 4.07753744390572, 8157: 5.991464547107982, 8483: 5.521460917862246, 8463: 5.521460917862246, 8165: 5.521460917862246, 7193: 6.327936783729195, 7876: 6.551080335043404, 12792: 3.367295829986474, 13002: 3.367295829986474, 13005: 6.214608098422191, 12403: 5.298317366548036, 12392: 5.0106352940962555, 12717: 3.912023005428146, 14303: 5.517452896464707, 14072: 3.367295829986474, 14381: 5.298317366548036, 14364: 4.59511985013459, 14356: 3.367295829986474, 13762: 5.0106352940962555, 13996: 5.0106352940962555, 13995: 5.0106352940962555, 10756: 4.07753744390572, 12207: 6.856461984594587, 12252: 3.367295829986474, 12251: 4.07753744390572, 12325: 4.07753744390572, 12038: 5.991464547107982, 11666: 4.07753744390572, 11452: 4.59511985013459, 11583: 3.367295829986474, 11808: 5.298317366548036, 1672: 5.703782474656201, 1744: 5.703782474656201, 1983: 6.214608098422191, 1411: 5.075173815233827, 2436: 6.54965074223381, 2148: 5.703782474656201, 16716: 4.31748811353631, 16638: 5.0106352940962555, 18314: 5.521460917862246, 18243: 4.59511985013459, 18220: 5.293304824724492, 1255: 6.212606095751519, 22037: 3.367295829986474, 21882: 5.298317366548036, 21439: 3.367295829986474, 100: 4.382026634673881, 5429: 8.875007486048396, 5423: 7.696667081526462, 5422: 8.875007486048396, 5421: 7.303843225277705, 5419: 7.591357046698551, 5214: 8.411832675758411, 3588: 6.744059186311348, 4624: 5.991464547107982, 3982: 5.003946305945459, 4033: 7.243512974665482, 15469: 5.521460917862246, 18353: 3.367295829986474, 17252: 3.367295829986474, 14796: 5.857933154483459, 12220: 7.3783837129967145, 2061: 5.700443573390686, 18706: 5.0106352940962555, 18649: 5.0106352940962555, 21979: 5.521460917862246, 22029: 4.6568134191399295, 20934: 5.988961416889864, 4273: 5.293304824724492, 5891: 7.088992915213054, 9079: 3.367295829986474, 10179: 4.59511985013459, 15664: 5.857933154483459, 14649: 4.605170185988092, 17360: 3.367295829986474, 14475: 6.684611727667927, 16551: 4.07753744390572, 16484: 4.07753744390572, 16465: 5.003946305945459, 17959: 3.367295829986474, 14677: 3.367295829986474, 14745: 3.367295829986474, 14468: 5.521460917862246, 15466: 6.309918278226516, 15379: 6.327936783729195, 21442: 5.521460917862246, 20116: 4.605170185988092, 20929: 3.367295829986474, 20754: 7.090076835776092, 20527: 7.090076835776092, 20526: 7.090076835776092, 22136: 5.0106352940962555, 21749: 5.0106352940962555, 21600: 5.517452896464707, 21902: 3.912023005428146, 18871: 5.0106352940962555, 18391: 3.367295829986474, 18618: 5.298317366548036, 19292: 4.59511985013459, 19226: 4.248495242049359, 19553: 3.912023005428146, 19725: 5.0106352940962555, 19458: 5.703782474656201, 19111: 5.298317366548036, 18918: 4.382026634673881, 19198: 5.991464547107982, 8163: 5.298317366548036, 8236: 4.59511985013459, 6852: 5.293304824724492, 7454: 5.521460917862246, 7463: 5.703782474656201, 8988: 4.59511985013459, 9503: 5.0106352940962555, 9501: 5.521460917862246, 9306: 4.07753744390572, 8323: 5.703782474656201, 8285: 5.0106352940962555, 8622: 3.367295829986474, 5982: 4.07753744390572, 5981: 6.620073206530356, 5968: 6.476972362889683, 6024: 6.396929655216146, 5931: 3.367295829986474, 5314: 6.309918278226516, 5299: 3.367295829986474, 5063: 7.346010209913293, 6832: 7.1308988302963465, 6814: 7.346010209913293, 6801: 8.242756345714477, 6218: 4.07753744390572, 6193: 5.703782474656201, 12532: 5.298317366548036, 12177: 6.212606095751519, 12176: 6.551080335043404, 13115: 5.991464547107982, 14251: 8.006367567650246, 13989: 5.0106352940962555, 13984: 5.700443573390686, 14049: 3.912023005428146, 14388: 5.937536205082426, 14400: 5.703782474656201, 12960: 3.367295829986474, 12801: 7.003065458786462, 13595: 3.367295829986474, 13791: 5.517452896464707, 10444: 5.0106352940962555, 10761: 4.897839799950911, 9796: 4.499809670330265, 9561: 3.367295829986474, 10152: 7.1308988302963465, 10151: 7.4673710669175595, 10117: 3.367295829986474, 10165: 6.1092475827643655, 9922: 3.367295829986474, 10031: 5.003946305945459, 10030: 3.367295829986474, 11585: 5.521460917862246, 11584: 5.521460917862246, 11257: 5.703782474656201, 11735: 5.298317366548036, 11694: 5.703782474656201, 11692: 4.59511985013459, 11163: 4.605170185988092, 3118: 5.634789603169249, 3102: 7.090076835776092, 3655: 7.824046010856292, 4407: 7.24422751560335, 4403: 8.389359819906353, 4435: 6.396929655216146, 4671: 6.214608098422191, 4630: 6.856461984594587, 4619: 6.214608098422191, 4007: 6.956545443151569, 3911: 5.991464547107982, 3796: 7.575584651557793, 3813: 6.684611727667927, 4313: 5.703782474656201, 4073: 3.367295829986474, 1278: 5.703782474656201, 1215: 7.600902459542082, 1127: 5.517452896464707, 17692: 4.454347296253507, 20131: 5.298317366548036, 2172: 6.396929655216146, 2165: 6.956545443151569, 1338: 5.293304824724492, 1680: 3.367295829986474, 1779: 5.521460917862246, 1640: 6.620073206530356, 16718: 3.367295829986474, 14756: 5.003946305945459, 7665: 7.313220387090301, 8796: 3.912023005428146, 13997: 5.0106352940962555, 3549: 6.620073206530356, 5289: 7.549609165154532, 4542: 7.736743682453495, 4434: 5.700443573390686, 21717: 3.332204510175204, 17829: 4.59511985013459, 18226: 7.24422751560335, 18224: 4.07753744390572, 18216: 3.367295829986474, 18127: 3.367295829986474, 17080: 3.367295829986474, 17552: 3.332204510175204, 17432: 5.293304824724492, 19535: 3.367295829986474, 19206: 5.517452896464707, 19604: 5.517452896464707, 19179: 5.298317366548036, 18428: 4.248495242049359, 18382: 5.703782474656201, 18529: 6.620073206530356, 18865: 4.07753744390572, 18782: 5.521460917862246, 17016: 5.247024072160486, 15357: 5.003946305945459, 14534: 4.59511985013459, 14742: 4.59511985013459, 14679: 5.857933154483459, 16568: 3.367295829986474, 16992: 3.367295829986474, 16617: 3.367295829986474, 16062: 7.495541943884256, 15671: 5.298317366548036, 15781: 5.298317366548036, 20528: 6.866724929424145, 20553: 6.272877006546167, 20891: 7.494986233950533, 20113: 4.07753744390572, 20219: 5.135798437050262, 1335: 6.476972362889683, 21702: 3.367295829986474, 21532: 4.59511985013459, 21531: 4.07753744390572, 11442: 4.07753744390572, 17186: 3.912023005428146, 17541: 4.07753744390572, 13010: 5.991464547107982, 14368: 3.367295829986474, 13483: 9.21024036697585, 21748: 3.367295829986474, 1770: 6.396929655216146, 14509: 3.367295829986474, 11697: 3.367295829986474, 14365: 5.521460917862246, 11617: 3.367295829986474, 12178: 6.396929655216146, 12267: 6.212606095751519, 15187: 5.700443573390686, 10034: 5.003946305945459, 11003: 3.367295829986474, 9761: 5.167639042905921, 5250: 5.517452896464707, 18728: 5.517452896464707, 20153: 6.212606095751519, 19715: 5.298317366548036, 21463: 3.332204510175204, 20095: 3.367295829986474, 2193: 7.170119543449628, 16505: 4.59511985013459, 16574: 4.07753744390572, 15852: 4.07753744390572, 15078: 5.521460917862246, 19953: 5.700443573390686, 19683: 3.367295829986474, 3765: 6.907755278982137, 12430: 5.293304824724492, 11976: 3.367295829986474, 9579: 3.367295829986474, 4888: 5.988961416889864, 6762: 5.241747015059643, 7150: 4.605170185988092, 6913: 5.241747015059643, 6209: 6.856461984594587, 3404: 3.332204510175204, 8387: 3.332204510175204, 8860: 7.170119543449628, 8326: 3.367295829986474, 9625: 3.367295829986474, 6800: 8.242756345714477, 7014: 6.126869184114185, 7563: 7.003065458786462, 7684: 3.367295829986474, 12784: 5.298317366548036, 12753: 5.003946305945459, 13942: 3.367295829986474, 11736: 3.367295829986474, 5644: 5.700443573390686, 3053: 6.54965074223381, 2056: 5.700443573390686, 17402: 4.07753744390572, 18632: 5.293304824724492, 17879: 4.07753744390572, 14694: 3.367295829986474, 19242: 3.367295829986474, 20135: 5.293304824724492, 6828: 6.309918278226516, 5689: 6.779921907472252, 8581: 5.293304824724492, 8797: 3.912023005428146, 16759: 4.189654742026425, 11851: 4.454347296253507, 9294: 3.367295829986474, 9287: 4.189654742026425, 9273: 4.454347296253507, 11847: 4.454347296253507, 21509: 4.330733340286331, 11841: 3.8918202981106265, 11840: 3.8918202981106265, 11839: 3.8918202981106265, 18726: 3.367295829986474, 15140: 5.703782474656201, 12161: 4.59511985013459, 378: 5.521460917862246, 20160: 6.212606095751519, 19930: 6.907755278982137, 20042: 3.367295829986474, 2962: 3.4011973816621555, 2250: 5.648974238161206, 4603: 8.330863613224745, 3151: 6.792344427470809, 18776: 5.303304908059076, 19342: 5.991464547107982, 16015: 6.551080335043404, 2074: 4.07753744390572, 1395: 5.293304824724492, 2807: 5.700443573390686, 608: 3.367295829986474, 552: 5.19295685089021, 16853: 4.07753744390572, 20556: 6.272877006546167, 11322: 3.367295829986474, 11395: 5.857933154483459, 12140: 4.59511985013459, 8437: 5.857933154483459, 7826: 5.003946305945459, 13177: 5.991464547107982, 3074: 5.293304824724492, 2393: 5.703782474656201, 2344: 5.298317366548036, 2676: 6.54965074223381, 6065: 7.170119543449628, 6114: 6.621405651764134, 3299: 3.367295829986474, 6871: 6.906754778648554, 20675: 7.596141142440372, 20603: 7.783224016336037, 20494: 6.90755525897947, 4250: 7.3777589082278725, 1719: 6.476972362889683, 20888: 7.783224016336037, 14917: 5.703782474656201, 4661: 7.4673710669175595, 4529: 6.802394763324311, 5507: 7.047517221357296, 6850: 9.259225769705994, 6071: 7.3777589082278725, 1262: 6.802394763324311, 1251: 6.476972362889683, 3511: 5.988961416889864, 2169: 6.856461984594587, 2207: 6.956545443151569, 2154: 5.700443573390686, 2098: 6.856461984594587, 14165: 5.703782474656201, 9190: 5.521460917862246, 9828: 5.703782474656201, 7866: 5.003946305945459, 15436: 6.309918278226516, 6865: 6.476972362889683, 6864: 6.476972362889683, 6860: 6.476972362889683, 12158: 4.02535169073515, 9144: 4.07753744390572, 16312: 6.906754778648554, 8711: 4.605170185988092, 5650: 8.698013622083925, 793: 8.101980731853192, 2617: 7.003065458786462, 2315: 7.782807262839695, 18068: 6.54965074223381, 7658: 5.545177444479562, 6120: 6.855408798609928, 3585: 6.259581464064923, 10416: 3.367295829986474, 13347: 5.703782474656201, 19610: 3.367295829986474, 19609: 4.07753744390572, 20123: 5.298317366548036, 9681: 5.298317366548036, 5932: 5.293304824724492, 11695: 5.857933154483459, 10398: 4.59511985013459, 9878: 4.07753744390572, 7813: 8.266421472984554, 6839: 6.309918278226516, 18321: 3.367295829986474, 15840: 5.0106352940962555, 12279: 4.07753744390572, 19343: 5.991464547107982, 12004: 3.367295829986474, 12776: 3.367295829986474, 17826: 5.0106352940962555, 20872: 4.59511985013459, 13813: 4.59511985013459, 15464: 6.309918278226516, 5749: 8.316544717929398, 5520: 6.802394763324311, 5425: 7.972810784121404, 5424: 8.484876589939695, 4716: 5.857933154483459, 5146: 7.824046010856292, 5397: 5.700443573390686, 6032: 6.476972362889683, 3575: 5.517452896464707, 4678: 5.857933154483459, 4237: 6.19644412779452, 3825: 5.703782474656201, 3906: 3.367295829986474, 4089: 6.907755278982137, 4087: 7.3777589082278725, 9602: 4.07753744390572, 9551: 5.298317366548036, 11881: 3.367295829986474, 11700: 3.367295829986474, 11696: 3.367295829986474, 11239: 3.367295829986474, 7383: 3.367295829986474, 9431: 6.214608098422191, 9023: 5.991464547107982, 9021: 5.991464547107982, 8231: 5.517452896464707, 8488: 5.5254529391317835, 4262: 5.293304824724492, 12602: 3.367295829986474, 12534: 4.07753744390572, 1612: 6.856461984594587, 1138: 6.396929655216146, 2612: 5.634789603169249, 2606: 7.24422751560335, 2605: 7.575584651557793, 2079: 5.517452896464707, 18094: 5.003946305945459, 6726: 5.517452896464707, 10590: 4.543294782270004, 11190: 3.367295829986474, 10705: 3.367295829986474, 10508: 5.703782474656201, 10685: 5.993961427306569, 5742: 6.54965074223381, 6069: 6.551080335043404, 15190: 3.367295829986474, 18582: 4.343805421853684, 68: 3.367295829986474, 14692: 4.07753744390572, 16449: 6.214608098422191, 16757: 5.703782474656201, 15913: 7.673223121121708, 12656: 5.521460917862246, 12179: 6.54965074223381, 12336: 5.298317366548036, 12301: 5.517452896464707, 13608: 4.07753744390572, 13796: 5.298317366548036, 19892: 7.313220387090301, 20838: 7.0896600822797495, 20865: 7.24422751560335, 19956: 5.700443573390686, 21755: 4.59511985013459, 22053: 3.367295829986474, 20945: 4.59511985013459, 21561: 3.367295829986474, 18769: 3.367295829986474, 17965: 5.298317366548036, 18533: 3.367295829986474, 18246: 4.59511985013459, 18207: 4.59511985013459, 8678: 5.003946305945459, 2260: 6.212606095751519, 14592: 5.298317366548036, 14491: 3.367295829986474, 19257: 3.367295829986474, 19541: 3.367295829986474, 9692: 5.293304824724492, 1955: 4.07753744390572, 8505: 5.293304824724492, 19370: 5.293304824724492, 19262: 4.07753744390572, 2981: 5.517452896464707, 4490: 5.293304824724492, 16214: 6.492239835020471, 22081: 5.0106352940962555, 8133: 3.367295829986474, 8126: 5.703782474656201, 7874: 5.517452896464707, 7941: 9.28720881623276, 8686: 5.438079308923196, 8283: 3.912023005428146, 8284: 4.605170185988092, 8288: 4.07753744390572, 6954: 3.367295829986474, 6853: 7.346010209913293, 7001: 6.907755278982137, 6873: 6.54965074223381, 6874: 6.54965074223381, 6825: 6.620073206530356, 6843: 6.620073206530356, 7464: 5.703782474656201, 7490: 5.703782474656201, 7436: 5.003946305945459, 7355: 3.367295829986474, 7360: 4.59511985013459, 7365: 6.1092475827643655, 7413: 5.703782474656201, 7598: 7.3938782901077555, 7321: 6.1092475827643655, 7170: 7.438383530044307, 7168: 7.438383530044307, 7122: 5.293304824724492, 7123: 5.293304824724492, 7141: 6.214608098422191, 7250: 6.214608098422191, 7186: 7.090076835776092, 7189: 6.214608098422191, 7190: 6.396929655216146, 10732: 4.6568134191399295, 10539: 4.07753744390572, 10540: 3.912023005428146, 10541: 4.605170185988092, 10057: 3.367295829986474, 10059: 3.367295829986474, 10368: 5.0106352940962555, 11088: 3.367295829986474, 11087: 5.0106352940962555, 10866: 4.382026634673881, 9189: 5.703782474656201, 8811: 5.0106352940962555, 8763: 3.912023005428146, 9921: 5.857933154483459, 9879: 5.521460917862246, 10002: 5.991464547107982, 9956: 5.991464547107982, 9957: 5.703782474656201, 9588: 5.521460917862246, 9560: 4.382026634673881, 9563: 5.521460917862246, 9810: 5.521460917862246, 4022: 4.07753744390572, 3991: 7.27931883541462, 4079: 5.293304824724492, 3939: 7.243512974665482, 4667: 6.907755278982137, 5086: 5.857933154483459, 4571: 5.703782474656201, 3436: 3.367295829986474, 3426: 6.551080335043404, 3047: 7.170119543449628, 3048: 7.170119543449628, 2659: 5.521460917862246, 2955: 7.24422751560335, 3781: 8.612503371220562, 3623: 6.802394763324311, 3938: 7.089243155027514, 3611: 5.703782474656201, 6058: 7.3777589082278725, 6204: 5.521460917862246, 6214: 6.956545443151569, 5958: 6.620073206530356, 6290: 5.293304824724492, 5194: 5.857933154483459, 5187: 6.684611727667927, 5170: 5.991464547107982, 5171: 5.991464547107982, 5276: 5.991464547107982, 5109: 5.857933154483459, 5122: 6.214608098422191, 5117: 6.620073206530356, 5099: 9.539644119118783, 5148: 6.802394763324311, 5150: 5.857933154483459, 5143: 5.857933154483459, 5131: 5.857933154483459, 5135: 5.857933154483459, 5530: 4.59511985013459, 5496: 6.907755278982137, 5440: 5.991464547107982, 5433: 5.703782474656201, 16670: 4.382026634673881, 16671: 5.703782474656201, 16695: 5.298317366548036, 16836: 6.378273370618036, 16789: 5.703782474656201, 16590: 5.703782474656201, 16576: 4.605170185988092, 17136: 5.857933154483459, 17130: 3.367295829986474, 17131: 5.003946305945459, 17176: 5.0106352940962555, 17132: 3.367295829986474, 17187: 5.991464547107982, 17205: 4.59511985013459, 16914: 4.07753744390572, 16736: 5.293304824724492, 16431: 3.367295829986474, 17076: 5.857933154483459, 17079: 5.857933154483459, 17087: 5.0106352940962555, 17098: 4.789157022101107, 17100: 5.0106352940962555, 17052: 5.991464547107982, 16424: 5.0106352940962555, 16422: 5.0106352940962555, 16169: 5.703782474656201, 16028: 6.54965074223381, 16029: 6.947168281338972, 15711: 6.214608098422191, 15710: 5.991464547107982, 16397: 5.857933154483459, 16410: 4.59511985013459, 16411: 6.214608098422191, 16420: 6.214608098422191, 16421: 6.214608098422191, 15606: 5.703782474656201, 16234: 5.991464547107982, 16218: 7.696212639346407, 15619: 5.0106352940962555, 15623: 5.0106352940962555, 15626: 6.620073206530356, 15646: 3.367295829986474, 19034: 6.684611727667927, 18982: 3.367295829986474, 19079: 5.0106352940962555, 19109: 5.0106352940962555, 18791: 5.0106352940962555, 18792: 5.0106352940962555, 18911: 6.620073206530356, 18852: 5.298317366548036, 19680: 5.517452896464707, 19681: 5.517452896464707, 19724: 5.0106352940962555, 19536: 5.0106352940962555, 19537: 4.555454593742159, 15526: 3.367295829986474, 17884: 3.367295829986474, 17823: 6.396929655216146, 17555: 5.0106352940962555, 18377: 5.298317366548036, 18298: 3.367295829986474, 12487: 5.521460917862246, 12545: 5.298317366548036, 12375: 5.857933154483459, 12263: 7.313220387090301, 12304: 8.294049640102028, 13410: 6.684611727667927, 12854: 3.367295829986474, 12815: 5.988961416889864, 12713: 5.0106352940962555, 13408: 8.987071812848821, 12895: 5.857933154483459, 11514: 5.0106352940962555, 11549: 5.521460917862246, 11498: 5.298317366548036, 11496: 4.867534450455582, 11416: 4.605170185988092, 11448: 5.0106352940962555, 11449: 5.703782474656201, 11475: 3.367295829986474, 12175: 6.684611727667927, 12180: 6.551080335043404, 12183: 3.367295829986474, 12169: 4.07753744390572, 12128: 5.003946305945459, 11718: 5.0106352940962555, 12104: 3.367295829986474, 12106: 4.59511985013459, 12107: 3.367295829986474, 14744: 3.367295829986474, 14672: 5.438079308923196, 14680: 3.367295829986474, 15063: 6.1092475827643655, 15064: 6.212606095751519, 14585: 5.703782474656201, 14906: 3.912023005428146, 14872: 4.59511985013459, 15319: 7.1308988302963465, 15321: 7.346010209913293, 15355: 5.700443573390686, 15200: 5.703782474656201, 15201: 6.214608098422191, 14842: 5.298317366548036, 13834: 5.135798437050262, 13784: 5.0106352940962555, 12989: 5.298317366548036, 12923: 5.0106352940962555, 13740: 5.703782474656201, 13046: 6.620073206530356, 14350: 3.367295829986474, 14974: 5.991464547107982, 15004: 5.293304824724492, 14445: 5.0106352940962555, 14241: 5.003946305945459, 14017: 5.298317366548036, 14129: 3.367295829986474, 14130: 5.003946305945459, 14240: 5.857933154483459, 14091: 3.367295829986474, 14092: 3.367295829986474, 2921: 6.1092475827643655, 19912: 3.912023005428146, 19007: 5.408157832227569, 21715: 5.408157832227569, 21541: 3.367295829986474, 21542: 5.857933154483459, 22155: 6.620073206530356, 22076: 3.367295829986474, 21352: 5.298317366548036, 21370: 6.684611727667927, 21371: 7.090076835776092, 21372: 7.090076835776092, 21373: 7.3777589082278725, 21374: 7.3777589082278725, 21351: 5.0106352940962555, 20239: 5.298317366548036, 21376: 5.991464547107982, 21457: 5.135798437050262, 21459: 5.0106352940962555, 13837: 5.135798437050262, 16710: 5.521460917862246, 17792: 5.857933154483459, 17232: 5.0106352940962555, 5220: 4.59511985013459, 1937: 6.396929655216146, 2124: 6.396929655216146, 2135: 3.912023005428146, 1324: 6.620073206530356, 2538: 5.991464547107982, 2586: 6.856461984594587, 2526: 6.956545443151569, 2737: 5.298317366548036, 2712: 6.627154739847439, 2730: 4.07753744390572, 1767: 5.703782474656201, 4776: 6.684611727667927, 4599: 6.212606095751519, 3372: 6.620073206530356, 3570: 0.4054651081081644, 3814: 6.214608098422191, 21375: 7.3777589082278725, 20309: 5.857933154483459, 21507: 4.59511985013459, 20949: 1.791759469228055, 19768: 4.59511985013459, 19854: 6.396929655216146, 19906: 5.517452896464707, 20030: 5.0106352940962555, 1057: 6.1092475827643655, 1256: 5.0106352940962555, 1476: 6.907755278982137, 22114: 3.367295829986474, 558: 4.605170185988092, 11002: 4.605170185988092, 10058: 5.517452896464707, 12105: 3.367295829986474, 5107: 5.857933154483459, 5108: 5.991464547107982, 5190: 6.309918278226516, 7264: 5.703782474656201, 66: 5.991464547107982, 65: 5.634789603169249, 472: 5.991464547107982, 956: 5.0106352940962555, 10015: 5.0106352940962555, 1764: 5.298317366548036, 1775: 6.214608098422191, 2174: 5.703782474656201, 2204: 5.988961416889864, 2206: 6.214608098422191, 2136: 5.298317366548036, 2487: 7.408530566894626, 2587: 6.476972362889683, 2585: 7.718685495198466, 2534: 5.703782474656201, 2777: 5.293304824724492, 1337: 5.703782474656201, 1610: 6.396929655216146, 1479: 3.367295829986474, 1250: 7.313220387090301, 1248: 7.170119543449628, 7138: 5.988961416889864, 6357: 5.703782474656201, 9762: 5.298317366548036, 17753: 3.367295829986474, 607: 3.367295829986474, 21842: 5.135798437050262, 4438: 5.298317366548036, 2137: 4.605170185988092, 2566: 6.684611727667927, 7374: 5.003946305945459, 7774: 7.313220387090301, 17214: 5.703782474656201, 17072: 5.857933154483459, 17810: 5.991464547107982, 1245: 5.991464547107982, 22064: 5.857933154483459, 253: 5.521460917862246, 20772: 6.476972362889683, 20784: 7.003065458786462, 20887: 7.6004023345004, 21412: 3.912023005428146, 22120: 3.367295829986474, 18991: 3.367295829986474, 20875: 6.309918278226516, 9343: 6.363028103540465, 12233: 5.991464547107982, 13168: 5.991464547107982, 9887: 5.521460917862246, 9695: 6.745236349484362, 8197: 3.367295829986474, 6669: 7.6004023345004, 17778: 5.298317366548036, 19935: 3.332204510175204, 18755: 3.367295829986474, 22067: 4.07753744390572, 21927: 4.07753744390572, 20685: 7.549609165154532, 20493: 6.54965074223381, 3101: 6.214608098422191, 1670: 6.214608098422191, 2210: 6.214608098422191, 7429: 5.521460917862246, 7002: 6.907755278982137, 7886: 6.212606095751519, 8134: 4.59511985013459, 12773: 5.991464547107982, 10024: 3.367295829986474, 10467: 5.991464547107982, 11497: 6.684611727667927, 1657: 5.521460917862246, 2472: 6.476972362889683, 2486: 6.856461984594587, 20783: 7.003065458786462, 17693: 4.454347296253507, 5477: 6.745236349484362, 5290: 7.3777589082278725, 4833: 7.495541943884256, 9193: 4.74493212836325, 1957: 5.700443573390686, 9327: 6.214608098422191, 902: 5.393627546352361, 695: 5.298317366548036, 476: 10.328787967145063, 548: 5.298317366548036, 549: 5.298317366548036, 559: 5.0106352940962555, 610: 5.073923033332174, 2512: 7.696212639346407, 3143: 10.298935994257638, 2156: 7.6255950721324535, 13090: 2.4849066497880004, 13103: 3.4965075614664802, 14954: 5.991464547107982, 13729: 4.74493212836325, 13730: 4.59511985013459, 11820: 3.7612001156935624, 11422: 4.8283137373023015, 19926: 4.8283137373023015, 20965: 5.176149732573829, 17601: 4.74493212836325, 17679: 4.867534450455582, 18778: 5.703782474656201, 13069: 6.212606095751519, 17211: 4.07753744390572, 7373: 5.521460917862246, 9295: 6.802394763324311, 2646: 5.298317366548036, 6015: 6.214608098422191, 11819: 6.802394763324311, 11818: 6.802394763324311, 12850: 5.293304824724492, 13738: 8.77971129020447, 14172: 8.497194544909547, 5532: 6.565264970035361, 7128: 8.556606193773073, 10087: 4.605170185988092, 11419: 5.521460917862246, 19499: 4.59511985013459, 16918: 6.214608098422191, 17314: 5.521460917862246, 21898: 5.953139432786314, 12816: 6.309918278226516, 11230: 5.293304824724492, 9515: 3.367295829986474, 10428: 4.700480365792417, 18600: 4.382026634673881, 3013: 8.515391569469609, 3762: 6.906754778648554, 18732: 4.07753744390572, 1747: 6.212606095751519, 1746: 7.27931883541462, 1745: 5.988961416889864, 6862: 0.4054651081081644, 6775: 6.212606095751519, 7132: 5.937536205082426, 6856: 5.988961416889864, 5969: 6.620073206530356, 7844: 3.367295829986474, 3104: 6.906754778648554, 3055: 6.906754778648554, 2507: 7.346010209913293, 2214: 6.907755278982137, 2529: 7.8632667240095735, 4662: 0.4054651081081644, 5699: 7.358830898342354, 3818: 6.620073206530356, 551: 5.298317366548036, 8704: 6.309918278226516, 10531: 5.703782474656201, 6213: 7.090076835776092, 9525: 5.293304824724492, 10564: 6.212606095751519, 7896: 9.209439966733019, 8518: 7.1631723908466425, 2644: 3.367295829986474, 4405: 6.956545443151569, 19339: 5.857933154483459, 19323: 3.367295829986474, 12210: 3.367295829986474, 13388: 5.703782474656201, 15696: 5.857933154483459, 16331: 4.07753744390572, 500: 3.367295829986474, 2776: 5.003946305945459, 2675: 5.703782474656201, 468: 3.367295829986474, 469: 3.367295829986474, 105: 3.367295829986474, 14877: 5.0106352940962555, 9919: 4.605170185988092, 11169: 3.367295829986474, 21977: 5.993961427306569, 22077: 3.4011973816621555, 12909: 4.07753744390572, 19277: 4.59511985013459, 21508: 4.330733340286331, 2158: 7.346010209913293, 20781: 6.476972362889683, 4317: 5.003946305945459, 3595: 7.047517221357296, 4082: 6.551080335043404, 4081: 6.907755278982137, 16426: 4.605170185988092, 16365: 5.521460917862246, 14907: 5.0106352940962555, 15976: 4.795790545596741, 15975: 4.189654742026425, 8798: 3.912023005428146, 19624: 4.59511985013459, 19026: 4.59511985013459, 22085: 5.298317366548036, 15686: 5.703782474656201, 12019: 4.07753744390572, 15642: 4.07753744390572, 15732: 5.0106352940962555, 16194: 6.54965074223381, 18729: 3.367295829986474, 7028: 6.212606095751519, 7773: 6.161207321695077, 7561: 6.877296071497429, 5069: 7.0825485693553, 22113: 5.521460917862246, 544: 5.521460917862246, 1699: 6.802394763324311, 5611: 7.307202314764738, 6196: 6.335054251498059, 5329: 7.27931883541462, 5805: 3.367295829986474, 5316: 8.303999970955196, 6350: 7.24422751560335, 10835: 4.07753744390572, 10473: 4.59511985013459, 11642: 3.367295829986474, 8904: 3.367295829986474, 9028: 3.367295829986474, 10113: 3.367295829986474, 1769: 5.703782474656201, 1615: 6.476972362889683, 1655: 6.745236349484362, 9262: 3.367295829986474, 9265: 4.454347296253507, 9290: 4.189654742026425, 10257: 3.828641396489095, 10262: 4.2626798770413155, 10607: 4.2626798770413155, 11298: 3.367295829986474, 11301: 3.367295829986474, 14942: 3.9318256327243257, 14953: 3.4339872044851463, 15516: 3.6635616461296463, 17685: 3.4339872044851463, 19945: 4.2626798770413155, 19946: 4.2626798770413155, 3817: 6.54965074223381, 3978: 5.991464547107982, 4020: 7.27931883541462, 5136: 5.991464547107982, 4631: 5.003946305945459, 2520: 7.495541943884256, 2562: 6.745236349484362, 2476: 5.857933154483459, 2739: 6.907755278982137, 3387: 7.954723334497908, 4880: 6.802394763324311, 20328: 5.991464547107982, 20864: 7.24422751560335, 18998: 5.0106352940962555, 22115: 5.0106352940962555, 6141: 8.249352961177996, 4805: 4.59511985013459, 4801: 5.517452896464707, 21438: 3.367295829986474, 3169: 6.476972362889683, 1363: 3.367295829986474, 6369: 5.0106352940962555, 20805: 7.6246189861593985, 19748: 4.07753744390572, 17331: 6.214608098422191, 17413: 3.367295829986474, 19376: 3.367295829986474, 9885: 4.59511985013459, 17004: 3.367295829986474, 14507: 4.07753744390572, 21064: 6.8825656679084775, 21087: 7.170119543449628, 21171: 7.170119543449628, 21172: 6.882693848386766, 20547: 6.86651653096554, 20896: 7.089243155027514, 21665: 3.367295829986474, 21514: 4.330733340286331, 19010: 3.367295829986474, 18419: 5.988961416889864, 18566: 3.367295829986474, 7312: 5.521460917862246, 14395: 4.59511985013459, 11745: 5.003946305945459, 12530: 5.703782474656201, 17040: 4.07753744390572, 16737: 5.703782474656201, 18002: 5.293304824724492, 17964: 5.298317366548036, 17905: 3.2108436531709366, 17917: 4.07753744390572, 17498: 4.59511985013459, 14790: 5.293304824724492, 15714: 5.0106352940962555, 5776: 3.367295829986474, 8394: 4.59511985013459, 12945: 5.298317366548036, 16518: 5.703782474656201, 9897: 3.367295829986474, 674: 5.0106352940962555, 82: 5.703782474656201, 13918: 3.367295829986474, 14030: 3.367295829986474, 12746: 5.0106352940962555, 12657: 5.293304824724492, 15441: 5.857933154483459, 10830: 5.703782474656201, 13844: 3.367295829986474, 16393: 4.07753744390572, 18459: 5.703782474656201, 19349: 5.703782474656201, 21471: 6.54965074223381, 20790: 6.906754778648554, 20983: 6.946975992135418, 20994: 6.882437470997847, 21082: 7.170119543449628, 21300: 7.170119543449628, 21016: 7.170119543449628, 21601: 6.907455233973135, 3501: 5.003946305945459, 4875: 7.24422751560335, 4533: 7.4082274906686365, 2742: 5.521460917862246, 18575: 3.367295829986474, 3368: 6.54965074223381, 3884: 6.396095974467569, 6824: 5.991464547107982, 957: 4.59511985013459, 15254: 7.090076835776092, 16667: 5.991464547107982, 2738: 5.988961416889864, 13371: 5.703782474656201, 1827: 6.54965074223381, 19888: 5.703782474656201, 2826: 5.703782474656201, 7296: 5.857933154483459, 7939: 8.648045999835, 8834: 6.212606095751519, 16965: 5.703782474656201, 13821: 5.298317366548036, 12669: 4.605170185988092, 21822: 5.003946305945459, 5548: 6.802394763324311, 5648: 9.209439966733019, 5889: 6.906754778648554, 5312: 5.988961416889864, 16883: 4.605170185988092, 17844: 4.07753744390572, 21468: 5.135798437050262, 20785: 6.476972362889683, 14134: 5.703782474656201, 978: 5.703782474656201, 9149: 5.991464547107982, 13807: 4.605170185988092, 12076: 5.298317366548036, 12749: 5.730716475896282, 16256: 3.152736022363656, 14608: 3.367295829986474, 14642: 5.703782474656201, 20240: 5.298317366548036, 18827: 3.912023005428146, 18751: 5.298317366548036, 18988: 5.0106352940962555, 18983: 4.605170185988092, 18584: 5.298317366548036, 19301: 6.907755278982137, 18486: 5.703782474656201, 19453: 3.367295829986474, 19530: 3.912023005428146, 19529: 3.912023005428146, 1478: 7.8632667240095735, 1477: 7.8632667240095735, 1310: 5.521460917862246, 1421: 3.367295829986474, 21635: 5.517452896464707, 21587: 5.0106352940962555, 958: 5.293304824724492, 972: 5.857933154483459, 1115: 3.367295829986474, 14351: 4.07753744390572, 15044: 5.517452896464707, 15043: 6.212606095751519, 15046: 6.551080335043404, 15045: 6.551080335043404, 13015: 6.396929655216146, 13013: 5.857933154483459, 12813: 3.912023005428146, 16973: 3.367295829986474, 14755: 4.382026634673881, 14860: 3.367295829986474, 15647: 4.07753744390572, 6134: 5.293304824724492, 6135: 6.54965074223381, 6496: 5.521460917862246, 5123: 5.857933154483459, 5858: 6.522092798170152, 7466: 5.298317366548036, 7739: 4.07753744390572, 8009: 5.703782474656201, 6338: 4.07753744390572, 1726: 5.521460917862246, 2458: 5.703782474656201, 4296: 5.703782474656201, 4769: 4.59511985013459, 3685: 5.298317366548036, 3637: 6.212606095751519, 18752: 5.703782474656201, 19002: 3.367295829986474, 18855: 5.298317366548036, 20947: 5.517452896464707, 20260: 4.605170185988092, 19149: 5.991464547107982, 19454: 5.517452896464707, 19704: 4.59511985013459, 2478: 6.684611727667927, 1330: 7.7406644019172415, 11553: 5.521460917862246, 10957: 5.076423034634259, 10956: 5.991464547107982, 10992: 5.521460917862246, 10991: 4.605170185988092, 12443: 5.857933154483459, 12734: 4.07753744390572, 8350: 7.27931883541462, 11311: 6.802394763324311, 10860: 6.214608098422191, 10737: 4.382026634673881, 9487: 5.008633291425583, 10001: 5.438079308923196, 9958: 6.396929655216146, 9904: 7.649692623711514, 9900: 8.229511118964457, 14861: 3.367295829986474, 14852: 5.0106352940962555, 14841: 5.0106352940962555, 16540: 5.293304824724492, 16481: 5.991464547107982, 16900: 5.517452896464707, 13811: 5.991464547107982, 13810: 7.3777589082278725, 14691: 7.2078598714324755, 6680: 6.802394763324311, 11102: 5.991464547107982, 11339: 5.857933154483459, 11338: 5.857933154483459, 10443: 5.991464547107982, 4400: 5.521460917862246, 6137: 6.802394763324311, 6136: 6.908255154023788, 6497: 7.313220387090301, 5119: 5.857933154483459, 5134: 5.991464547107982, 12221: 7.3783837129967145, 12735: 3.367295829986474, 10419: 3.367295829986474, 10408: 4.07753744390572, 16585: 6.620073206530356, 17158: 5.990714265717278, 13809: 6.476972362889683, 14820: 5.298317366548036, 14818: 5.298317366548036, 14817: 5.298317366548036, 3565: 6.54965074223381, 9020: 4.343805421853684, 6222: 5.703782474656201, 10738: 4.605170185988092, 10407: 3.367295829986474, 11453: 5.298317366548036, 18388: 4.07753744390572, 18451: 3.367295829986474, 2645: 5.298317366548036, 3566: 5.988961416889864, 2765: 6.214608098422191, 13924: 5.991464547107982, 13132: 5.521460917862246, 14731: 4.59511985013459, 14819: 5.298317366548036, 14429: 5.003946305945459, 14410: 3.367295829986474, 9160: 5.298317366548036, 9156: 5.703782474656201, 10484: 3.367295829986474, 11478: 5.991464547107982, 11209: 5.991464547107982, 11218: 4.59511985013459, 11170: 4.07753744390572, 21410: 3.367295829986474, 19722: 5.0106352940962555, 16583: 5.0106352940962555, 17129: 5.0106352940962555, 19455: 6.54965074223381, 18984: 3.367295829986474, 19460: 5.703782474656201, 17486: 3.367295829986474, 17193: 5.0106352940962555, 17190: 5.0106352940962555, 17324: 3.367295829986474, 17944: 5.298317366548036, 6118: 6.54965074223381, 6790: 5.703782474656201, 8870: 6.214608098422191, 20755: 6.54965074223381, 20497: 7.090076835776092, 1045: 5.298317366548036, 20496: 7.090076835776092, 830: 8.517393171418904, 18574: 3.367295829986474, 18577: 3.367295829986474, 18784: 4.07753744390572, 1758: 7.313220387090301, 1129: 6.745236349484362, 973: 6.956545443151569, 3089: 6.309918278226516, 3163: 7.3777589082278725, 3110: 4.07753744390572, 2481: 6.956545443151569, 2594: 7.803843303538772, 16480: 5.298317366548036, 17199: 5.0106352940962555, 6770: 4.59511985013459, 19322: 3.367295829986474, 19307: 6.907755278982137, 14170: 10.236417809461043, 106: 3.367295829986474, 18985: 6.396929655216146, 19143: 5.298317366548036, 18436: 5.298317366548036, 3809: 5.703782474656201, 3875: 6.907755278982137, 920: 3.367295829986474, 893: 5.393627546352361, 861: 3.367295829986474, 550: 3.367295829986474, 531: 4.07753744390572, 605: 3.367295829986474, 8893: 3.367295829986474, 14821: 6.745236349484362, 2332: 3.332204510175204, 6514: 3.367295829986474, 17019: 6.54965074223381, 16643: 5.0106352940962555, 18786: 3.367295829986474, 19103: 5.857933154483459, 17769: 3.912023005428146, 17768: 5.0106352940962555, 18372: 5.703782474656201, 18418: 5.298317366548036, 18245: 6.856461984594587, 16303: 6.214608098422191, 16308: 6.214608098422191, 15353: 3.367295829986474, 15359: 3.367295829986474, 15373: 3.367295829986474, 16023: 7.762170607138205, 1962: 7.377133712833954, 20512: 6.684611727667927, 20511: 6.1092475827643655, 20787: 7.673223121121708, 19224: 4.07753744390572, 22161: 4.07753744390572, 21648: 4.07753744390572, 6792: 7.27931883541462, 8263: 4.59511985013459, 8109: 5.700443573390686, 7663: 4.07753744390572, 4306: 6.956545443151569, 3600: 7.003065458786462, 5853: 7.272537271814766, 5463: 5.703782474656201, 5054: 3.367295829986474, 6022: 6.214608098422191, 5088: 6.620073206530356, 4911: 6.802394763324311, 5151: 5.991464547107982, 5173: 5.991464547107982, 5175: 5.991464547107982, 8308: 5.521460917862246, 12001: 4.07753744390572, 12157: 5.293304824724492, 13112: 9.51044496442652, 11605: 4.07753744390572, 11495: 4.59511985013459, 13014: 7.3777589082278725, 13026: 7.1308988302963465, 13885: 5.703782474656201, 13840: 5.981717195653102, 9072: 5.293304824724492, 8895: 5.703782474656201, 9838: 4.07753744390572, 9642: 3.367295829986474, 8865: 5.298317366548036, 11116: 6.620073206530356, 10013: 3.367295829986474, 19574: 5.298317366548036, 7219: 8.070593539949519, 16972: 5.298317366548036, 15751: 5.703782474656201, 3684: 5.293304824724492, 11994: 3.367295829986474, 12959: 3.367295829986474, 12535: 3.367295829986474, 9970: 4.59511985013459, 2598: 5.988961416889864, 7528: 4.59511985013459, 5734: 6.396929655216146, 13009: 5.298317366548036, 13189: 5.3612921657094255, 18091: 5.991464547107982, 21709: 6.47543271670409, 18558: 4.07753744390572, 21687: 6.54965074223381, 14853: 5.0106352940962555, 13818: 5.703782474656201, 8212: 7.408530566894626, 13980: 5.0106352940962555, 20296: 3.367295829986474, 16437: 4.867534450455582, 8675: 5.857933154483459, 7421: 7.6255950721324535, 13508: 7.738488122494646, 14316: 3.367295829986474, 11959: 4.07753744390572, 14943: 3.367295829986474, 1652: 8.0861025356691, 4297: 6.212606095751519, 1749: 6.257667587882639, 6401: 7.243512974665482, 6403: 7.377133712833954, 13000: 3.367295829986474, 17377: 3.367295829986474, 20023: 5.521460917862246, 6907: 5.521460917862246, 12643: 5.0106352940962555, 16683: 5.703782474656201, 16307: 5.988961416889864, 17881: 3.367295829986474, 18112: 5.003946305945459, 15383: 5.293304824724492, 20761: 6.745236349484362, 20510: 6.684611727667927, 21086: 7.170119543449628, 21078: 6.882437470997847, 21017: 6.882437470997847, 2353: 5.003946305945459, 2613: 7.2078598714324755, 7567: 6.856461984594587, 7570: 7.544861068658458, 7586: 5.940171252720432, 5484: 6.476972362889683, 5504: 6.956545443151569, 5332: 5.703782474656201, 5533: 5.703782474656201, 12404: 5.0106352940962555, 7923: 5.988961416889864, 7649: 5.703782474656201, 1141: 5.703782474656201, 2080: 5.438079308923196, 546: 5.521460917862246, 9259: 3.9318256327243257, 11300: 3.367295829986474, 14948: 3.367295829986474, 16774: 3.6635616461296463, 16780: 3.367295829986474, 16781: 3.6635616461296463, 17681: 3.4339872044851463, 16779: 3.6635616461296463, 13564: 5.703782474656201, 14146: 7.003065458786462, 14311: 5.298317366548036, 17307: 5.703782474656201, 17450: 4.59511985013459, 18293: 5.003946305945459, 18524: 3.367295829986474, 18386: 4.59511985013459, 18373: 3.367295829986474, 15790: 5.703782474656201, 16305: 6.214608098422191, 10295: 5.0106352940962555, 10066: 4.59511985013459, 11980: 3.367295829986474, 12298: 8.00603417874901, 11492: 3.367295829986474, 12217: 6.9874902470009905, 7446: 5.003946305945459, 6107: 5.937536205082426, 11098: 5.703782474656201, 11702: 3.152736022363656, 7119: 5.988961416889864, 533: 5.521460917862246, 9573: 4.59511985013459, 8302: 3.367295829986474, 10123: 4.07753744390572, 19514: 6.802394763324311, 19880: 3.367295829986474, 17367: 5.0106352940962555, 15074: 4.787491742782046, 15076: 5.991464547107982, 15077: 6.802394763324311, 15072: 5.991464547107982, 14933: 4.0943445622221, 14976: 5.521460917862246, 15006: 5.0106352940962555, 15071: 6.396929655216146, 15987: 4.852030263919617, 16334: 5.298317366548036, 21506: 4.248495242049359, 21803: 5.0106352940962555, 22078: 5.991464547107982, 21505: 4.248495242049359, 21504: 4.248495242049359, 16756: 4.61512051684126, 17606: 3.9318256327243257, 17614: 4.248495242049359, 17615: 4.867534450455582, 17618: 5.298317366548036, 17626: 5.568344503761097, 17675: 5.991464547107982, 17702: 4.605170185988092, 19282: 5.0106352940962555, 19353: 5.0106352940962555, 19372: 7.0825485693553, 19382: 5.342334251964811, 19383: 4.852030263919617, 19386: 4.852030263919617, 19918: 4.852030263919617, 19941: 5.857933154483459, 16272: 4.61512051684126, 14208: 5.278114659230518, 14207: 5.278114659230518, 14205: 4.983606621708336, 21048: 7.170119543449628, 21050: 7.170119543449628, 21051: 7.170119543449628, 21049: 6.882437470997847, 20762: 7.24422751560335, 20278: 4.59511985013459, 21594: 5.517452896464707, 21534: 6.396929655216146, 21433: 3.367295829986474, 20094: 5.703782474656201, 20112: 4.59511985013459, 19615: 4.59511985013459, 4770: 5.991464547107982, 4783: 5.703782474656201, 4772: 5.703782474656201, 4775: 5.521460917862246, 4778: 5.703782474656201, 4777: 6.396929655216146, 4785: 4.605170185988092, 4767: 5.298317366548036, 4764: 4.564348191467836, 4270: 5.703782474656201, 4263: 4.605170185988092, 4268: 4.605170185988092, 4264: 5.703782474656201, 4280: 6.551080335043404, 4483: 5.860786223465865, 4501: 5.081404364984463, 4738: 4.787491742782046, 4765: 4.605170185988092, 4745: 3.58351893845611, 4750: 3.4339872044851463, 4786: 4.605170185988092, 4789: 6.040254711277414, 4797: 5.703782474656201, 4864: 4.787491742782046, 4876: 5.703782474656201, 4912: 5.703782474656201, 4921: 7.237778191923443, 4929: 6.950814768442584, 4937: 6.898714534329988, 4947: 6.898714534329988, 4950: 7.02108396428914, 5196: 6.363028103540465, 5225: 5.703782474656201, 5229: 5.703782474656201, 4941: 7.2399325913204695, 4799: 5.703782474656201, 4824: 5.0106352940962555, 4622: 6.551080335043404, 4168: 6.8679744089702925, 2747: 5.703782474656201, 2752: 6.214608098422191, 2758: 5.0106352940962555, 2756: 6.214608098422191, 3018: 6.214608098422191, 3039: 6.214608098422191, 3157: 6.985641817639208, 3430: 6.802394763324311, 3431: 6.551080335043404, 3440: 6.214608098422191, 2498: 5.991464547107982, 2500: 5.846438775057724, 3435: 5.991464547107982, 3469: 5.703782474656201, 4146: 6.580639137284949, 4151: 7.340186835320115, 4027: 5.991964422149633, 3324: 5.703782474656201, 3532: 6.907755278982137, 3715: 6.396929655216146, 3742: 4.836281906951478, 3749: 5.855071922202427, 5259: 5.703782474656201, 5279: 5.703782474656201, 11271: 5.017279836814924, 11272: 6.214608098422191, 11273: 2.772588722239781, 11274: 2.772588722239781, 11275: 2.772588722239781, 11276: 2.772588722239781, 11281: 2.772588722239781, 11282: 2.772588722239781, 11283: 2.772588722239781, 11290: 5.703782474656201, 11285: 5.991464547107982, 9531: 5.703782474656201, 10194: 6.214608098422191, 10217: 5.298317366548036, 11269: 2.772588722239781, 10580: 4.605170185988092, 10586: 5.703782474656201, 10588: 5.298317366548036, 10232: 4.61512051684126, 11294: 5.298317366548036, 11543: 4.852030263919617, 14195: 5.278114659230518, 14197: 5.298317366548036, 14199: 5.278114659230518, 13570: 5.991464547107982, 14200: 5.278114659230518, 14201: 4.983606621708336, 14202: 4.983606621708336, 14203: 4.983606621708336, 14204: 4.983606621708336, 11814: 5.0106352940962555, 11827: 5.0106352940962555, 11722: 4.852030263919617, 12115: 5.521460917862246, 12191: 5.991464547107982, 12189: 5.298317366548036, 13082: 3.6888794541139363, 13083: 4.852030263919617, 13571: 5.5254529391317835, 9528: 3.4011973816621555, 6434: 6.802394763324311, 6456: 6.551080335043404, 6454: 5.703782474656201, 6718: 4.605170185988092, 6776: 5.703782474656201, 6936: 4.1588830833596715, 6960: 4.605170185988092, 6964: 6.907755278982137, 6719: 5.298317366548036, 6429: 6.214608098422191, 5029: 5.703782474656201, 5294: 7.696667081526462, 5296: 7.3783837129967145, 5709: 8.030409562130485, 5711: 7.3783837129967145, 5849: 5.481471909645883, 6097: 5.991464547107982, 6100: 5.703782474656201, 6102: 8.006700845440367, 6175: 5.598421958998375, 6180: 5.1647859739235145, 5217: 5.703782474656201, 6976: 6.214608098422191, 9116: 3.9318256327243257, 9119: 3.9318256327243257, 9122: 3.9318256327243257, 9125: 3.9318256327243257, 9524: 5.0106352940962555, 9276: 4.852030263919617, 9526: 5.0106352940962555, 9527: 5.521460917862246, 8520: 6.898714534329988, 7910: 6.907755278982137, 6979: 6.551080335043404, 6989: 5.703782474656201, 7010: 5.481471909645883, 7013: 5.703782474656201, 7030: 6.214608098422191, 7033: 4.787491742782046, 7083: 5.991464547107982, 7100: 6.907755278982137, 7140: 5.991464547107982, 7174: 5.568344503761097, 7225: 5.0106352940962555, 7740: 5.703782474656201, 7748: 6.1092475827643655, 7898: 5.991464547107982, 7914: 5.19295685089021, 6975: 6.214608098422191, 2497: 5.521460917862246, 602: 5.153291594497779, 616: 5.153291594497779, 618: 5.153291594497779, 627: 5.153291594497779, 629: 5.153291594497779, 664: 5.153291594497779, 666: 5.153291594497779, 676: 5.153291594497779, 698: 5.60947179518496, 724: 5.241747015059643, 726: 5.241747015059643, 775: 5.241747015059643, 779: 5.241747015059643, 798: 5.017279836814924, 600: 5.153291594497779, 492: 6.398594934535208, 497: 5.017279836814924, 501: 4.61512051684126, 502: 4.605170185988092, 503: 4.605170185988092, 504: 4.605170185988092, 507: 4.836281906951478, 508: 4.605170185988092, 515: 5.0106352940962555, 516: 5.0106352940962555, 522: 5.0106352940962555, 524: 5.241747015059643, 576: 5.153291594497779, 577: 5.153291594497779, 799: 3.258096538021482, 924: 5.241747015059643, 943: 4.852030263919617, 1100: 4.605170185988092, 1117: 4.852030263919617, 1162: 6.628041376179533, 914: 5.241747015059643, 1374: 5.298317366548036, 1380: 5.703782474656201, 1425: 5.703782474656201, 908: 5.241747015059643, 890: 5.241747015059643, 889: 4.890349128221754, 800: 5.017279836814924, 809: 5.241747015059643, 838: 3.258096538021482, 842: 8.517393171418904, 847: 5.241747015059643, 867: 5.081404364984463, 876: 5.241747015059643, 242: 5.153291594497779, 279: 4.976733742420574, 1429: 6.684611727667927, 1831: 6.396929655216146, 2018: 3.4011973816621555, 2020: 3.912023005428146, 2021: 3.4011973816621555, 2017: 3.4011973816621555, 2014: 3.4011973816621555, 2015: 3.4011973816621555, 2016: 3.912023005428146, 2022: 3.4011973816621555, 2396: 5.703782474656201, 2397: 6.802394763324311, 2403: 5.298317366548036, 2421: 5.703782474656201, 2236: 3.258096538021482, 2455: 5.0106352940962555, 2382: 5.135798437050262, 2444: 6.214608098422191, 2454: 5.703782474656201, 2334: 6.214608098422191, 2023: 3.4011973816621555, 2024: 3.4011973816621555, 2060: 4.867534450455582, 2069: 5.703782474656201, 2306: 6.214608098422191, 2317: 5.857933154483459, 2320: 6.907755278982137, 2012: 3.4011973816621555, 1845: 5.703782474656201, 1839: 6.684611727667927, 1848: 7.090076835776092, 1844: 5.703782474656201, 1886: 5.703782474656201, 1888: 5.703782474656201, 1938: 5.991464547107982, 1981: 4.605170185988092, 1872: 5.703782474656201, 1842: 5.703782474656201, 1828: 5.991464547107982, 1841: 5.703782474656201, 1989: 5.017279836814924, 2008: 3.4011973816621555, 2010: 3.912023005428146, 2011: 3.4011973816621555, 2007: 3.4011973816621555, 1991: 5.521460917862246, 1993: 5.857933154483459, 1998: 5.135798437050262, 4803: 6.684611727667927, 20985: 7.170119543449628, 13509: 6.659293919683638, 16317: 7.7406644019172415, 17249: 6.214608098422191, 11850: 3.8918202981106265, 5567: 8.188966863648876, 10060: 4.07753744390572, 7897: 8.698013622083925, 9381: 6.396929655216146, 8531: 9.390659926099465, 8230: 7.783224016336037, 8223: 7.600902459542082, 836: 9.19023970026918, 530: 4.605170185988092, 19515: 6.4457198193855785, 15352: 3.367295829986474, 5773: 5.517452896464707, 5772: 5.831882477283517, 17779: 5.298317366548036, 18747: 6.214608098422191, 20431: 6.309918278226516, 19616: 5.700443573390686, 13131: 5.521460917862246, 15982: 4.795790545596741, 8054: 3.4339872044851463, 9667: 6.214608098422191, 1664: 7.843848638152472, 1344: 5.003946305945459, 5743: 5.241747015059643, 6918: 6.907755278982137, 3176: 4.8283137373023015, 2775: 4.8283137373023015, 22110: 4.61512051684126, 10696: 4.61512051684126, 8435: 4.61512051684126, 8196: 3.367295829986474, 20550: 6.54965074223381, 20471: 6.309918278226516, 19824: 5.991464547107982, 19823: 4.605170185988092, 16827: 5.988961416889864, 20789: 6.364750756851911, 19278: 5.0106352940962555, 16306: 6.214608098422191, 4012: 5.703782474656201, 1972: 6.54965074223381, 10985: 5.991464547107982, 11197: 4.382026634673881, 10986: 6.309918278226516, 9953: 5.298317366548036, 12900: 6.907755278982137, 12901: 5.300015923183619, 12907: 6.396929655216146, 12908: 5.135798437050262, 12571: 5.857933154483459, 6111: 3.367295829986474, 6112: 5.988961416889864, 6113: 6.54965074223381, 5975: 5.703782474656201, 6108: 4.59511985013459, 6498: 6.214608098422191, 6499: 6.551080335043404, 9016: 5.857933154483459, 8746: 3.367295829986474, 8842: 4.605170185988092, 8843: 4.605170185988092, 7430: 5.857933154483459, 7545: 4.07753744390572, 18273: 5.298317366548036, 18828: 4.605170185988092, 18750: 5.857933154483459, 17197: 3.912023005428146, 17200: 6.620073206530356, 17216: 4.605170185988092, 17217: 3.912023005428146, 17293: 5.857933154483459, 17143: 5.857933154483459, 16901: 6.214608098422191, 17906: 5.0106352940962555, 18131: 6.620073206530356, 17754: 6.802394763324311, 21487: 5.988961416889864, 20957: 7.089243155027514, 21335: 5.0106352940962555, 19593: 5.703782474656201, 19594: 5.293304824724492, 19799: 5.293304824724492, 14485: 5.991464547107982, 14289: 4.07753744390572, 14337: 4.382026634673881, 14338: 5.703782474656201, 14551: 3.912023005428146, 14552: 4.605170185988092, 12937: 5.0106352940962555, 13936: 5.298317366548036, 13823: 5.049856007249537, 13929: 6.214608098422191, 13935: 5.0106352940962555, 16787: 7.649692623711514, 15707: 4.07753744390572, 15741: 5.703782474656201, 15742: 4.07753744390572, 16732: 3.912023005428146, 16733: 5.298317366548036, 16734: 5.703782474656201, 16735: 5.298317366548036, 16792: 8.070906088787819, 16793: 8.070906088787819, 17133: 3.367295829986474, 17259: 5.703782474656201, 17292: 3.912023005428146, 15708: 5.805134968916488, 16672: 5.0106352940962555, 19045: 5.703782474656201, 19148: 6.309918278226516, 13819: 5.991464547107982, 21543: 3.367295829986474, 14717: 5.3471075307174685, 14094: 4.07753744390572, 14290: 5.293304824724492, 15021: 5.0106352940962555, 3629: 5.293304824724492, 3630: 6.906754778648554, 3631: 7.377133712833954, 4032: 6.802394763324311, 2918: 7.24422751560335, 3184: 7.495541943884256, 3196: 6.551080335043404, 4597: 5.703782474656201, 243: 5.5254529391317835, 21924: 5.0106352940962555, 21925: 5.0106352940962555, 22025: 5.0106352940962555, 22026: 5.517452896464707, 20958: 4.77912349311153, 21544: 4.07753744390572, 21783: 5.0106352940962555, 2398: 6.253828811575473, 2400: 7.090076835776092, 2318: 4.07753744390572, 2341: 4.07753744390572, 2087: 5.703782474656201, 2766: 4.59511985013459, 2768: 5.298317366548036, 1686: 5.857933154483459, 6091: 6.212606095751519, 6090: 6.907755278982137, 5625: 7.6004023345004, 7976: 6.906754778648554, 9003: 4.605170185988092, 9002: 5.01396308418893, 6962: 5.857933154483459, 7405: 5.857933154483459, 7427: 5.857933154483459, 7447: 5.857933154483459, 7472: 6.1092475827643655, 7502: 6.1092475827643655, 1717: 5.703782474656201, 2505: 5.703782474656201, 933: 5.0106352940962555, 21596: 5.003946305945459, 21675: 3.912023005428146, 21677: 3.912023005428146, 2958: 6.839123056739142, 2641: 5.703782474656201, 2517: 5.991464547107982, 3185: 7.24422751560335, 9952: 5.0106352940962555, 10987: 5.703782474656201, 10733: 5.0106352940962555, 7891: 7.487733761436444, 7521: 5.298317366548036, 8804: 6.396929655216146, 8924: 5.703782474656201, 13489: 9.433403920090221, 14028: 3.367295829986474, 13059: 5.703782474656201, 13060: 5.703782474656201, 13615: 5.298317366548036, 13618: 5.298317366548036, 13621: 5.298317366548036, 12078: 5.703782474656201, 3644: 5.700443573390686, 1688: 6.802394763324311, 2603: 5.521460917862246, 6894: 5.991464547107982, 14078: 5.0106352940962555, 5462: 6.745236349484362, 5478: 6.212606095751519, 3682: 5.857933154483459, 21588: 4.324132656254979, 21867: 4.07753744390572, 955: 5.991464547107982, 22112: 5.857933154483459, 11353: 9.323579767582693, 11986: 5.703782474656201, 16240: 7.090076835776092, 15648: 4.59511985013459, 15658: 5.703782474656201, 16304: 6.214608098422191, 15634: 5.703782474656201, 15922: 7.673223121121708, 16136: 7.090076835776092, 16057: 6.429719478039138, 14304: 4.605170185988092, 14093: 3.367295829986474, 14596: 3.367295829986474, 14718: 5.703782474656201, 19643: 5.991464547107982, 19462: 5.703782474656201, 19463: 5.521460917862246, 20287: 4.07753744390572, 20376: 7.090076835776092, 17134: 3.367295829986474, 17141: 5.521460917862246, 17539: 5.857933154483459, 17110: 5.298317366548036, 17873: 3.367295829986474, 17896: 3.367295829986474, 17907: 5.300015923183619, 18325: 5.438079308923196, 3388: 5.298317366548036, 16673: 3.912023005428146, 20081: 5.298317366548036, 974: 6.802394763324311, 20272: 5.293304824724492, 17109: 5.0106352940962555, 20959: 6.956545443151569, 11958: 3.367295829986474, 6750: 3.367295829986474, 10374: 3.367295829986474, 18775: 3.367295829986474, 19629: 3.367295829986474, 11552: 5.521460917862246, 12458: 5.0106352940962555, 15617: 3.367295829986474, 14650: 3.367295829986474, 2602: 5.521460917862246, 3956: 7.3777589082278725, 15687: 5.4638318050256105, 92: 5.521460917862246, 20873: 5.003946305945459, 7349: 5.703782474656201, 5985: 8.055157731819678, 5924: 6.396929655216146, 9581: 5.703782474656201, 1728: 5.521460917862246, 4447: 5.298317366548036, 16578: 4.59511985013459, 16572: 3.367295829986474, 21907: 5.0106352940962555, 21910: 5.0106352940962555, 21298: 7.170119543449628, 9286: 4.189654742026425, 12629: 5.991464547107982, 10061: 4.07753744390572, 10303: 5.0106352940962555, 14359: 6.214608098422191, 15385: 4.59511985013459, 15372: 3.367295829986474, 15185: 3.367295829986474, 14242: 4.382026634673881, 13916: 4.07753744390572, 12396: 4.59511985013459, 17366: 4.382026634673881, 17325: 5.991464547107982, 7149: 3.367295829986474, 5251: 6.212606095751519, 4505: 6.75110146893676, 16241: 6.461468176353717, 4239: 6.673297967767654, 12280: 5.988961416889864, 1978: 5.988961416889864, 4157: 6.90875477931522, 1977: 5.003946305945459, 483: 9.04793908261736, 442: 5.298317366548036, 390: 5.521460917862246, 3523: 6.54965074223381, 1687: 7.7406644019172415, 15206: 5.521460917862246, 19181: 5.521460917862246, 14174: 5.521460917862246, 11724: 6.620073206530356, 20513: 6.684611727667927, 15689: 4.605170185988092, 14302: 6.396929655216146, 19870: 5.0106352940962555, 11038: 3.912023005428146, 7480: 6.1092475827643655, 11835: 3.9318256327243257, 9292: 3.713572066704308, 9268: 4.454347296253507, 16764: 3.713572066704308, 22096: 3.9318256327243257, 18739: 5.703782474656201, 13348: 3.912023005428146, 4368: 4.59511985013459, 2794: 6.54965074223381, 21466: 5.471261761529394, 3751: 5.937536205082426, 3882: 5.755742213586912, 9689: 5.003946305945459, 9730: 6.802394763324311, 15649: 3.367295829986474, 15837: 5.298317366548036, 20640: 5.700443573390686, 12035: 4.07753744390572, 14036: 5.003946305945459, 8706: 4.07753744390572, 7666: 6.620073206530356, 10019: 4.07753744390572, 8917: 5.455321115357702, 6282: 5.003946305945459, 6208: 5.517452896464707, 7181: 6.214608098422191, 7158: 6.396929655216146, 6799: 7.7406644019172415, 13111: 9.51044496442652, 11089: 4.59511985013459, 10461: 3.367295829986474, 10909: 5.293304824724492, 2142: 6.54965074223381, 2127: 5.003946305945459, 16778: 3.6635616461296463, 5085: 5.857933154483459, 4528: 6.802394763324311, 5458: 6.620073206530356, 5482: 5.988961416889864, 3091: 6.1092475827643655, 2513: 8.006367567650246, 2521: 5.517452896464707, 3915: 7.52294091807237, 7776: 6.906754778648554, 11591: 5.003946305945459, 11738: 4.605170185988092, 2668: 5.857933154483459, 1925: 5.521460917862246, 21344: 5.703782474656201, 18573: 5.298317366548036, 15763: 4.07753744390572, 15828: 3.367295829986474, 15391: 5.293304824724492, 15337: 5.003946305945459, 21545: 3.367295829986474, 18676: 5.298317366548036, 4589: 5.293304824724492, 21398: 5.0106352940962555, 10154: 7.1308988302963465, 20799: 6.780149154376991, 17590: 4.59511985013459, 11518: 6.906153997615164, 7777: 4.543294782270004, 9236: 3.367295829986474, 9317: 5.857933154483459, 13600: 5.003946305945459, 6410: 7.824046010856292, 2053: 3.367295829986474, 571: 5.298317366548036, 3502: 5.517452896464707, 9856: 4.59511985013459, 9961: 5.0106352940962555, 18020: 3.367295829986474, 17781: 4.605170185988092, 18010: 5.521460917862246, 9529: 3.4011973816621555, 9133: 3.9318256327243257, 9130: 3.9318256327243257, 8514: 4.605170185988092, 7034: 4.787491742782046, 7031: 6.684611727667927, 6982: 5.703782474656201, 6981: 5.703782474656201, 10236: 4.852030263919617, 12108: 6.1092475827643655, 11344: 5.5254529391317835, 10698: 4.852030263919617, 10585: 4.605170185988092, 10584: 4.605170185988092, 10583: 5.298317366548036, 10582: 4.605170185988092, 10581: 4.605170185988092, 6978: 6.214608098422191, 5729: 6.3818160174060985, 5708: 7.155396301896734, 4936: 7.596392304064196, 5730: 6.3818160174060985, 5813: 5.298317366548036, 6973: 5.703782474656201, 6971: 6.214608098422191, 6970: 6.396929655216146, 6963: 5.0106352940962555, 6944: 5.983911091453068, 6769: 4.787491742782046, 6443: 4.962844630259907, 6059: 7.3783837129967145, 19329: 5.916202062607435, 18090: 3.258096538021482, 18053: 4.852030263919617, 17700: 5.241747015059643, 17699: 5.241747015059643, 17674: 5.298317366548036, 19375: 6.673297967767654, 17639: 4.852030263919617, 17617: 5.703782474656201, 17616: 4.605170185988092, 17612: 4.248495242049359, 16392: 4.852030263919617, 16391: 4.852030263919617, 16388: 4.852030263919617, 16384: 4.852030263919617, 16383: 4.852030263919617, 16373: 4.852030263919617, 19450: 5.204006687076795, 21995: 5.703782474656201, 21781: 5.568344503761097, 21779: 5.342334251964811, 21778: 5.568344503761097, 20004: 4.499809670330265, 16369: 4.852030263919617, 16367: 4.852030263919617, 14198: 5.278114659230518, 13523: 6.111467339502679, 13173: 5.204006687076795, 12237: 5.62040086571715, 12228: 5.298317366548036, 5988: 6.476972362889683, 13858: 4.59511985013459, 13848: 3.367295829986474, 14378: 5.247024072160486, 14499: 3.367295829986474, 11410: 3.367295829986474, 11037: 3.367295829986474, 11174: 6.956545443151569, 9896: 4.07753744390572, 10400: 4.59511985013459, 10367: 3.367295829986474, 12303: 7.8628820346414905, 12292: 7.494986233950533, 21330: 6.309918278226516, 21019: 7.170119543449628, 21699: 3.367295829986474, 2373: 4.941642422609304, 2385: 3.9318256327243257, 2388: 3.5263605246161616, 2452: 6.214608098422191, 2438: 6.396929655216146, 2405: 5.703782474656201, 2404: 5.0106352940962555, 2399: 7.24422751560335, 2401: 5.298317366548036, 2395: 5.991464547107982, 2383: 5.075173815233827, 2381: 3.9318256327243257, 2496: 7.119635638017636, 1982: 6.907755278982137, 4766: 4.605170185988092, 4739: 6.111467339502679, 4274: 3.2188758248682006, 4259: 4.8283137373023015, 4212: 6.803505257608338, 4209: 5.017279836814924, 4030: 5.481471909645883, 4762: 3.58351893845611, 4761: 3.58351893845611, 4760: 3.58351893845611, 4759: 3.258096538021482, 4758: 3.4339872044851463, 4755: 5.25227342804663, 4754: 5.14166355650266, 4753: 4.110873864173311, 4748: 3.58351893845611, 4747: 4.110873864173311, 4744: 3.58351893845611, 3864: 3.258096538021482, 3744: 6.214608098422191, 2502: 6.8966943316227125, 2501: 6.608000625296087, 2499: 7.119635638017636, 3567: 7.069874128458572, 3330: 6.684611727667927, 3156: 6.621405651764134, 3150: 6.594413459749778, 3194: 5.484796933490655, 3192: 6.363028103540465, 3051: 5.857933154483459, 3037: 5.991464547107982, 3035: 5.703782474656201, 2996: 6.470799503782602, 22028: 4.07753744390572, 490: 5.241747015059643, 488: 5.241747015059643, 305: 4.74493212836325, 274: 4.74493212836325, 118: 4.74493212836325, 868: 5.43372200355424, 864: 4.890349128221754, 862: 5.241747015059643, 849: 4.890349128221754, 844: 5.241747015059643, 772: 5.153291594497779, 765: 4.919980925828125, 760: 5.241747015059643, 756: 5.241747015059643, 752: 5.241747015059643, 735: 5.241747015059643, 727: 5.241747015059643, 707: 4.919980925828125, 869: 5.081404364984463, 871: 5.241747015059643, 874: 5.081404364984463, 1432: 6.802394763324311, 1396: 5.703782474656201, 1170: 8.005033344637111, 1149: 7.372118028337787, 911: 5.241747015059643, 906: 5.241747015059643, 903: 5.241747015059643, 897: 4.890349128221754, 896: 4.890349128221754, 891: 5.241747015059643, 885: 5.241747015059643, 882: 5.241747015059643, 880: 5.241747015059643, 512: 4.61512051684126, 509: 4.61512051684126, 670: 5.241747015059643, 656: 5.153291594497779, 652: 5.153291594497779, 650: 5.153291594497779, 644: 5.153291594497779, 622: 5.153291594497779, 612: 5.153291594497779, 611: 5.153291594497779, 592: 4.919980925828125, 585: 5.153291594497779, 583: 5.153291594497779, 581: 5.153291594497779, 525: 6.8885724595653635, 526: 6.478509642208569, 518: 4.605170185988092, 17147: 3.367295829986474, 16879: 3.912023005428146, 16314: 7.089243155027514, 18730: 4.37449836825309, 17910: 3.367295829986474, 18614: 3.367295829986474, 12976: 5.298317366548036, 8882: 6.214608098422191, 18901: 4.59511985013459, 22148: 4.07753744390572, 17742: 6.19644412779452, 16597: 4.59511985013459, 17171: 6.476972362889683, 10481: 6.309918278226516, 16763: 3.6635616461296463, 16766: 3.713572066704308, 11299: 3.367295829986474, 21345: 4.605170185988092, 2170: 6.956545443151569, 1146: 5.438079308923196, 1229: 7.3777589082278725, 1211: 7.346010209913293, 8725: 3.367295829986474, 9416: 3.367295829986474, 9415: 3.367295829986474, 9393: 6.396929655216146, 7686: 3.367295829986474, 7656: 5.988961416889864, 4066: 5.293304824724492, 3113: 5.003946305945459, 2647: 5.703782474656201, 5474: 6.684611727667927, 4523: 6.476972362889683, 4298: 7.718685495198466, 10856: 6.396929655216146, 20459: 6.866933284461882, 22043: 5.0106352940962555, 22121: 5.991464547107982, 22122: 6.309918278226516, 959: 5.0106352940962555, 964: 4.382026634673881, 21377: 5.135798437050262, 1468: 7.003065458786462, 18877: 5.298317366548036, 18474: 3.367295829986474, 18134: 5.857933154483459, 19266: 4.605170185988092, 19269: 5.0106352940962555, 19404: 7.495541943884256, 18894: 3.367295829986474, 18903: 4.382026634673881, 17181: 5.0106352940962555, 17182: 5.076423034634259, 17272: 6.907755278982137, 17294: 4.608464752937522, 17818: 4.605170185988092, 19759: 5.0106352940962555, 19544: 5.298317366548036, 3763: 5.560681631015528, 3714: 6.212606095751519, 4870: 7.170119543449628, 2240: 5.298317366548036, 2769: 6.907755278982137, 2770: 6.907755278982137, 2707: 4.07753744390572, 3109: 5.703782474656201, 3183: 6.396929655216146, 2811: 5.298317366548036, 2812: 5.298317366548036, 8799: 3.912023005428146, 8888: 5.438079308923196, 9053: 4.605170185988092, 9055: 4.605170185988092, 9056: 5.298317366548036, 9057: 4.605170185988092, 8944: 5.0106352940962555, 11312: 5.634789603169249, 9787: 3.912023005428146, 9788: 4.605170185988092, 10288: 5.991464547107982, 10289: 6.214608098422191, 10393: 5.0106352940962555, 9959: 5.0106352940962555, 10077: 5.0106352940962555, 6295: 3.367295829986474, 6433: 5.293304824724492, 6079: 6.907755278982137, 7259: 5.703782474656201, 7303: 5.703782474656201, 7335: 5.703782474656201, 7651: 5.703782474656201, 16130: 6.214608098422191, 16100: 5.521460917862246, 14829: 6.551080335043404, 16081: 6.1092475827643655, 14828: 5.298317366548036, 14741: 5.0106352940962555, 14601: 4.605170185988092, 16664: 4.382026634673881, 16850: 6.309918278226516, 16904: 4.382026634673881, 16849: 5.991464547107982, 16738: 4.605170185988092, 16750: 5.560681631015528, 15638: 5.991464547107982, 12181: 4.07753744390572, 12725: 4.07753744390572, 11491: 5.0106352940962555, 11551: 5.29931686688112, 11387: 6.907755278982137, 14353: 4.59511985013459, 15867: 6.709304340258299, 15408: 6.253828811575473, 15639: 6.214608098422191, 16111: 7.24422751560335, 14052: 5.857933154483459, 18592: 5.0106352940962555, 18591: 5.0106352940962555, 18175: 5.991464547107982, 19741: 5.991464547107982, 16663: 3.912023005428146, 16751: 6.620073206530356, 17849: 5.0106352940962555, 17487: 3.367295829986474, 16907: 5.857933154483459, 7341: 5.703782474656201, 6802: 0.4054651081081644, 5637: 7.8857429986592065, 5024: 5.703782474656201, 5883: 6.802394763324311, 5409: 5.418320158942733, 11155: 5.857933154483459, 11960: 5.0106352940962555, 12346: 4.59511985013459, 9051: 5.298317366548036, 14932: 5.988961416889864, 15382: 5.293304824724492, 15390: 4.07753744390572, 15474: 5.293304824724492, 16049: 7.696212639346407, 15542: 5.0106352940962555, 15543: 7.719129840906732, 12481: 5.0106352940962555, 13899: 5.857933154483459, 14045: 5.0106352940962555, 17237: 5.0106352940962555, 17493: 3.367295829986474, 17462: 8.086717920303906, 17442: 7.467942332285852, 16967: 5.0106352940962555, 17093: 8.875007486048396, 17559: 8.507344855361422, 17761: 5.857933154483459, 17874: 5.003946305945459, 18070: 7.803843303538772, 18143: 5.857933154483459, 16514: 4.382026634673881, 7411: 5.857933154483459, 6833: 6.214608098422191, 8351: 6.395261598115449, 8361: 7.090076835776092, 7772: 7.139105066843446, 7675: 6.396929655216146, 5535: 7.8632667240095735, 5172: 5.991464547107982, 5174: 5.991464547107982, 8679: 7.467942332285852, 11206: 5.0106352940962555, 11104: 8.265135629937385, 11072: 5.298317366548036, 9275: 7.170119543449628, 10410: 5.293304824724492, 11325: 3.367295829986474, 11326: 5.634789603169249, 10895: 7.3777589082278725, 10084: 4.382026634673881, 10349: 5.703782474656201, 10125: 3.367295829986474, 19403: 7.495541943884256, 21885: 4.605170185988092, 14588: 5.298317366548036, 3713: 7.600902459542082, 5447: 5.703782474656201, 5223: 6.684611727667927, 2954: 6.839123056739142, 3423: 6.907755278982137, 1804: 7.170119543449628, 1483: 6.907755278982137, 21884: 4.605170185988092, 20854: 6.212606095751519, 20855: 7.3777589082278725, 20029: 5.0106352940962555, 8256: 5.298317366548036, 11581: 6.396929655216146, 10291: 6.1092475827643655, 3605: 5.857933154483459, 5707: 7.154615356913663, 15810: 5.991464547107982, 14609: 6.8001700683022, 15409: 6.709304340258299, 15386: 5.003946305945459, 15242: 6.551080335043404, 15245: 6.309918278226516, 14857: 7.467942332285852, 15387: 5.293304824724492, 15381: 5.003946305945459, 18064: 5.988961416889864, 16916: 4.07753744390572, 16917: 5.521460917862246, 17229: 5.703782474656201, 11463: 5.857933154483459, 11071: 5.298317366548036, 11073: 5.298317366548036, 10568: 7.090076835776092, 9882: 4.07753744390572, 14490: 3.367295829986474, 14352: 4.07753744390572, 21083: 7.170119543449628, 3626: 5.703782474656201, 7273: 5.703782474656201, 7345: 6.1092475827643655, 21921: 3.912023005428146, 19682: 5.0106352940962555, 21062: 7.170119543449628, 21079: 7.170119543449628, 21339: 8.517193191416238, 20323: 5.003946305945459, 20075: 6.898714534329988, 20374: 7.170119543449628, 6296: 5.703782474656201, 6119: 6.54965074223381, 6280: 5.703782474656201, 2708: 5.293304824724492, 4640: 7.575584651557793, 4889: 6.1092475827643655, 13377: 5.703782474656201, 4984: 5.703782474656201, 20809: 7.240649694255466, 8601: 5.135798437050262, 9232: 5.521460917862246, 9520: 3.367295829986474, 20375: 7.170119543449628, 3761: 7.138231877663139, 3506: 5.700443573390686, 11368: 5.707110264748875, 7242: 6.907755278982137, 13364: 5.703782474656201, 21319: 5.700443573390686, 19433: 6.214608098422191, 13389: 5.703782474656201, 14779: 4.02535169073515, 15829: 3.332204510175204, 17034: 3.332204510175204, 7375: 5.703782474656201, 8399: 5.703782474656201, 5983: 3.367295829986474, 7011: 3.367295829986474, 7165: 5.0106352940962555, 20795: 5.857933154483459, 16909: 6.620073206530356, 17875: 4.07753744390572, 18870: 5.0106352940962555, 14797: 5.0106352940962555, 1158: 8.11102783819368, 20808: 7.346010209913293, 22093: 5.017279836814924, 9933: 4.07753744390572, 2793: 6.54965074223381, 22099: 3.1780538303479458, 3564: 4.07753744390572, 3865: 4.59511985013459, 1873: 7.090076835776092, 4860: 8.987071812848821, 4283: 4.59511985013459, 15384: 5.517452896464707, 20794: 5.988961416889864, 3586: 7.346010209913293, 3589: 7.696212639346407, 3794: 7.313220387090301, 10150: 7.1308988302963465, 10634: 6.684611727667927, 17651: 3.367295829986474, 15945: 6.7464121285733745, 8841: 5.298317366548036, 11665: 5.0106352940962555, 15605: 5.703782474656201, 10241: 7.00397413672268, 10247: 4.07753744390572, 10189: 5.988961416889864, 6921: 7.377133712833954, 6442: 5.003946305945459, 3521: 4.59511985013459, 3522: 4.59511985013459, 15515: 3.6635616461296463, 16777: 3.6635616461296463, 1207: 6.802394763324311, 1659: 6.476972362889683, 1690: 7.170119543449628, 1685: 3.367295829986474, 17901: 5.703782474656201, 4326: 8.517193191416238, 2191: 6.906754778648554, 20723: 7.090076835776092, 20867: 6.54965074223381, 6716: 5.700443573390686, 7265: 5.703782474656201, 7037: 5.700443573390686, 7129: 6.396929655216146, 17694: 3.9318256327243257, 9289: 3.713572066704308, 22036: 5.098829304832172, 13190: 5.857933154483459, 11564: 5.857933154483459, 3793: 7.130098510125578, 12285: 5.517452896464707, 14529: 5.293304824724492, 18711: 5.0106352940962555, 150: 5.241747015059643, 221: 4.976733742420574, 209: 5.153291594497779, 222: 4.976733742420574, 223: 4.976733742420574, 394: 5.153291594497779, 470: 6.53813982376767, 1990: 5.0106352940962555, 2033: 5.0106352940962555, 2075: 5.703782474656201, 2338: 5.521460917862246, 2374: 5.481471909645883, 1995: 3.4011973816621555, 1997: 5.521460917862246, 1999: 5.0106352940962555, 671: 5.153291594497779, 672: 5.153291594497779, 675: 5.153291594497779, 680: 5.153291594497779, 691: 5.241747015059643, 694: 5.241747015059643, 667: 5.153291594497779, 713: 5.153291594497779, 769: 5.241747015059643, 778: 5.241747015059643, 520: 5.170483995038151, 521: 5.0106352940962555, 523: 5.241747015059643, 563: 5.153291594497779, 564: 5.153291594497779, 567: 5.241747015059643, 916: 4.890349128221754, 917: 4.890349128221754, 904: 5.241747015059643, 1174: 6.679599185844383, 1186: 7.201170883281678, 1431: 5.991464547107982, 1172: 7.465082736399547, 899: 5.241747015059643, 894: 4.890349128221754, 21170: 6.882437470997847, 21065: 7.170119543449628, 21063: 7.170119543449628, 15186: 3.367295829986474, 14144: 5.521460917862246, 13963: 3.367295829986474, 16552: 5.298317366548036, 16589: 4.07753744390572, 17627: 4.852030263919617, 17720: 5.991464547107982, 19348: 4.382026634673881, 19396: 5.342334251964811, 16821: 5.755742213586912, 15138: 4.852030263919617, 16280: 5.602118820879701, 16281: 5.602118820879701, 16282: 5.602118820879701, 16283: 5.303304908059076, 16285: 4.605170185988092, 16372: 5.342334251964811, 16376: 5.342334251964811, 19397: 5.342334251964811, 19399: 5.342334251964811, 19398: 4.852030263919617, 21986: 4.852030263919617, 11278: 2.772588722239781, 11279: 2.772588722239781, 11280: 2.772588722239781, 11284: 2.772588722239781, 11384: 4.852030263919617, 15075: 5.991464547107982, 12202: 4.852030263919617, 13191: 5.5254529391317835, 13192: 5.303304908059076, 13732: 5.991464547107982, 10587: 5.298317366548036, 4162: 7.3783837129967145, 4210: 7.596392304064196, 4235: 6.19644412779452, 3137: 7.43307534889858, 3441: 5.991464547107982, 3361: 6.214608098422191, 4740: 3.258096538021482, 4742: 3.258096538021482, 4763: 3.258096538021482, 4741: 3.258096538021482, 4743: 3.258096538021482, 4749: 3.258096538021482, 4751: 3.258096538021482, 4752: 3.258096538021482, 2440: 5.703782474656201, 2386: 3.5263605246161616, 2767: 5.991464547107982, 2961: 5.857933154483459, 2968: 6.214608098422191, 2986: 5.82600010738045, 2991: 7.3783837129967145, 7043: 6.802394763324311, 7112: 5.298317366548036, 7116: 6.856461984594587, 7121: 6.551080335043404, 7032: 4.787491742782046, 6966: 6.907755278982137, 6968: 5.703782474656201, 6990: 6.214608098422191, 6985: 6.214608098422191, 7548: 5.521460917862246, 10280: 4.852030263919617, 8506: 5.707110264748875, 8533: 7.0909098220799835, 9099: 3.9318256327243257, 9104: 3.9318256327243257, 9108: 3.9318256327243257, 9113: 3.9318256327243257, 9127: 3.9318256327243257, 9136: 3.9318256327243257, 9140: 3.9318256327243257, 4942: 7.596392304064196, 5218: 5.703782474656201, 4788: 6.551080335043404, 4825: 7.0909098220799835, 6638: 6.396929655216146, 6720: 5.703782474656201, 5691: 6.0867747269123065, 6115: 4.1588830833596715, 6430: 6.476972362889683, 16769: 3.713572066704308, 1976: 4.59511985013459, 16238: 6.396929655216146, 2570: 6.684611727667927, 3103: 7.313220387090301, 8320: 4.59511985013459, 8642: 3.367295829986474, 7994: 7.313220387090301, 12486: 6.212606095751519, 12310: 7.8628820346414905, 12685: 4.59511985013459, 4509: 5.003946305945459, 3584: 7.27931883541462, 3513: 5.293304824724492, 7637: 7.090076835776092, 16270: 6.90875477931522, 2511: 6.212606095751519, 19358: 5.988961416889864, 2134: 3.367295829986474, 15244: 6.551080335043404, 15246: 6.309918278226516, 10304: 5.298317366548036, 12163: 3.367295829986474, 13477: 8.76389700713946, 1521: 6.898714534329988, 5413: 6.551080335043404, 11004: 4.605170185988092, 18996: 5.0106352940962555, 11717: 5.278114659230518, 9852: 5.0106352940962555, 12789: 5.703782474656201, 8837: 5.170483995038151, 264: 5.298317366548036, 19213: 5.19295685089021, 20807: 6.54965074223381, 5884: 3.367295829986474, 10695: 5.991464547107982, 16964: 5.703782474656201, 20897: 6.906754778648554, 20297: 5.293304824724492, 21758: 3.912023005428146, 21636: 5.0106352940962555, 22019: 3.912023005428146, 22018: 4.382026634673881, 21922: 4.605170185988092, 21589: 5.0106352940962555, 1517: 5.298317366548036, 1516: 5.703782474656201, 1416: 6.832967075523551, 1417: 7.313220387090301, 1441: 6.2166061010848646, 1445: 7.170119543449628, 19531: 4.605170185988092, 19563: 5.438079308923196, 19595: 5.0106352940962555, 19033: 4.605170185988092, 18829: 4.605170185988092, 18848: 4.605170185988092, 2070: 3.367295829986474, 20076: 5.703782474656201, 20065: 3.912023005428146, 20252: 5.0106352940962555, 20646: 7.090076835776092, 20647: 7.090076835776092, 19771: 5.135798437050262, 19772: 5.521460917862246, 19787: 5.0106352940962555, 19786: 5.0106352940962555, 2071: 4.07753744390572, 5819: 6.907755278982137, 6473: 5.01396308418893, 6390: 5.480638923341991, 5688: 6.212606095751519, 7056: 6.907755278982137, 7055: 6.907755278982137, 7054: 5.703782474656201, 7052: 7.169734854081545, 7047: 5.703782474656201, 2969: 3.367295829986474, 2971: 4.59511985013459, 2892: 6.907755278982137, 2897: 6.551080335043404, 2900: 6.551080335043404, 2907: 6.551080335043404, 2913: 6.551080335043404, 2915: 8.006367567650246, 2891: 6.907755278982137, 2890: 7.24422751560335, 2889: 7.24422751560335, 4129: 7.082296648457129, 4178: 7.372118028337787, 4181: 7.1631723908466425, 4186: 7.596392304064196, 4350: 6.906754778648554, 3475: 6.684611727667927, 3936: 7.495541943884256, 3937: 7.243512974665482, 8058: 6.2166061010848646, 12910: 5.298317366548036, 12912: 6.214608098422191, 14369: 5.298317366548036, 14021: 3.912023005428146, 13925: 5.0106352940962555, 14288: 5.348677725886986, 11457: 5.003946305945459, 11459: 6.117171659730716, 11219: 6.396929655216146, 11223: 4.59511985013459, 11732: 3.367295829986474, 11733: 5.298317366548036, 11942: 5.0106352940962555, 11943: 5.703782474656201, 17243: 5.991464547107982, 17244: 5.95316540917378, 17159: 5.0106352940962555, 17709: 6.802394763324311, 17570: 3.367295829986474, 16906: 5.857933154483459, 18659: 5.003946305945459, 18660: 3.912023005428146, 17996: 7.24422751560335, 17846: 3.367295829986474, 17824: 4.605170185988092, 17839: 5.0106352940962555, 18230: 3.367295829986474, 16531: 5.438079308923196, 16532: 6.802394763324311, 16533: 5.700443573390686, 16558: 5.991464547107982, 15650: 3.367295829986474, 16454: 5.135798437050262, 16455: 5.991464547107982, 3380: 3.367295829986474, 6388: 6.551080335043404, 5305: 5.703782474656201, 5277: 6.684611727667927, 7371: 5.003946305945459, 7485: 6.1092475827643655, 8698: 5.857933154483459, 8684: 5.438079308923196, 8789: 3.912023005428146, 7048: 6.907755278982137, 7051: 6.684611727667927, 4498: 6.165333817086952, 5257: 6.684611727667927, 4904: 5.991464547107982, 3994: 5.703782474656201, 8974: 5.991464547107982, 17571: 5.634789603169249, 19253: 4.605170185988092, 21970: 5.991464547107982, 19620: 5.298317366548036, 11812: 5.652664603477591, 10016: 5.857933154483459, 8975: 6.309918278226516, 14024: 3.912023005428146, 12608: 3.367295829986474, 15292: 6.684611727667927, 15294: 7.003065458786462, 15243: 6.091309882077698, 8800: 3.912023005428146, 8589: 3.912023005428146, 20648: 7.090076835776092, 19867: 5.298317366548036, 19147: 3.912023005428146, 1073: 5.991464547107982, 19412: 6.907755278982137, 19459: 6.6210061045789566, 20035: 5.0106352940962555, 20365: 7.090076835776092, 15813: 5.298317366548036, 14699: 5.0106352940962555, 15519: 5.298317366548036, 15525: 5.480638923341991, 15252: 6.684611727667927, 15248: 6.309918278226516, 15249: 6.937314081223682, 18071: 7.803843303538772, 16868: 4.605170185988092, 2887: 5.062595033026967, 2916: 8.006367567650246, 8056: 6.90875477931522, 3703: 6.802394763324311, 3662: 5.003946305945459, 1439: 6.90875477931522, 1440: 7.313886831633462, 22107: 5.0106352940962555, 788: 5.703782474656201, 2072: 6.212606095751519, 7050: 7.438383530044307, 7053: 7.170119543449628, 5687: 7.170119543449628, 5258: 5.992713766508414, 12771: 5.521460917862246, 11548: 5.29931686688112, 12171: 3.367295829986474, 13919: 5.703782474656201, 14022: 3.912023005428146, 14025: 3.912023005428146, 8335: 6.1092475827643655, 11048: 5.298317366548036, 10253: 5.703782474656201, 19254: 3.367295829986474, 20207: 5.298317366548036, 20208: 5.298317366548036, 20341: 6.131226489483141, 20342: 6.131226489483141, 20356: 6.131226489483141, 20357: 6.131226489483141, 20363: 6.745236349484362, 20335: 7.047517221357296, 16236: 8.294049640102028, 15293: 6.684611727667927, 15251: 6.684611727667927, 15916: 7.495541943884256, 20656: 6.907755278982137, 3764: 5.703782474656201, 21969: 6.551080335043404, 21756: 5.703782474656201, 20657: 6.907755278982137, 20658: 6.907755278982137, 1074: 6.907755278982137, 6902: 7.243512974665482, 7049: 7.438383530044307, 12916: 4.605170185988092, 12914: 5.298317366548036, 12222: 7.496097345175956, 12170: 3.367295829986474, 9372: 3.367295829986474, 9054: 5.521460917862246, 6355: 5.0106352940962555, 10091: 5.703782474656201, 8406: 4.605170185988092, 8577: 4.605170185988092, 4132: 6.802394763324311, 18517: 5.0106352940962555, 17939: 5.0106352940962555, 21599: 4.07753744390572, 14615: 6.345636360828596, 8838: 5.170483995038151, 10233: 5.298317366548036, 4028: 4.07753744390572, 1527: 6.907755278982137, 13540: 6.54965074223381, 6925: 4.59511985013459, 7557: 4.941642422609304, 7823: 8.291797105048733, 2905: 6.551080335043404, 11411: 5.700443573390686, 15250: 6.937314081223682, 20213: 5.25227342804663, 20457: 6.54965074223381, 18770: 5.300015923183619, 15376: 6.396929655216146, 17101: 5.298317366548036, 1975: 5.293304824724492, 2904: 6.551080335043404, 2073: 5.988961416889864, 20024: 5.988961416889864, 15253: 6.684611727667927, 13365: 5.703782474656201, 17885: 5.857933154483459, 11523: 6.907755278982137, 20524: 7.090076835776092, 11006: 5.857933154483459, 15084: 3.332204510175204, 13839: 5.991464547107982, 14155: 5.521460917862246, 15247: 6.309918278226516, 15861: 8.34283980427146, 15451: 6.684611727667927, 15431: 6.152732694704104, 11616: 3.367295829986474, 13555: 7.090076835776092, 13620: 5.393627546352361, 13619: 5.703782474656201, 13614: 5.991464547107982, 13674: 7.408530566894626, 12338: 4.07753744390572, 12312: 7.494986233950533, 12036: 4.07753744390572, 12634: 6.54965074223381, 19525: 5.0106352940962555, 19770: 4.59511985013459, 21299: 7.170119543449628, 21187: 7.170119543449628, 20422: 7.549609165154532, 20412: 8.575462099540212, 20604: 6.907755278982137, 20605: 7.824046010856292, 20617: 7.600902459542082, 16753: 3.367295829986474, 16752: 3.912023005428146, 17993: 4.248495242049359, 17729: 5.517452896464707, 3926: 5.293304824724492, 3386: 5.703782474656201, 3795: 7.24422751560335, 15743: 5.0106352940962555, 9373: 4.07753744390572, 9324: 6.380122536899765, 10639: 6.311734809152915, 1230: 7.047517221357296, 1221: 6.802394763324311, 1148: 6.802394763324311, 2543: 7.090076835776092, 2518: 7.047517221357296, 2912: 6.551080335043404, 19411: 6.907755278982137, 8251: 7.1308988302963465, 4664: 7.170119543449628, 4684: 7.2078598714324755, 4582: 7.4673710669175595, 3797: 7.696212639346407, 5989: 8.160518247477505, 2910: 6.551080335043404, 19416: 5.991464547107982, 19394: 5.342334251964811, 19392: 5.342334251964811, 19255: 4.852030263919617, 22165: 4.0943445622221, 689: 4.919980925828125, 575: 5.153291594497779, 912: 4.890349128221754, 918: 5.081404364984463, 921: 5.241747015059643, 2723: 4.787491742782046, 2464: 5.991464547107982, 2387: 4.605170185988092, 1424: 6.396929655216146, 1936: 5.8289456176102075, 1843: 5.703782474656201, 422: 5.752572638825633, 299: 5.37989735354046, 227: 4.74493212836325, 103: 9.60918360377546, 7743: 5.298317366548036, 7109: 6.214608098422191, 7114: 4.605170185988092, 7113: 4.248495242049359, 7111: 4.605170185988092, 7110: 3.912023005428146, 8516: 5.153291594497779, 6933: 6.579251212010101, 6899: 5.703782474656201, 6760: 6.1092475827643655, 6643: 5.703782474656201, 6462: 5.0106352940962555, 6461: 5.0106352940962555, 6463: 5.0106352940962555, 6961: 5.703782474656201, 6999: 5.298317366548036, 6984: 6.214608098422191, 6980: 6.214608098422191, 15002: 4.852030263919617, 16386: 5.568344503761097, 16339: 5.0106352940962555, 16284: 5.241747015059643, 15968: 5.703782474656201, 15144: 4.852030263919617, 15142: 4.852030263919617, 13611: 4.852030263919617, 13604: 4.852030263919617, 12729: 7.307202314764738, 12728: 7.307202314764738, 13179: 5.703782474656201, 12225: 5.860786223465865, 11310: 4.852030263919617, 6458: 5.0106352940962555, 4460: 7.596392304064196, 4253: 4.31748811353631, 4236: 6.673297967767654, 4176: 7.3783837129967145, 4149: 7.596392304064196, 4131: 7.0909098220799835, 4757: 3.4339872044851463, 4756: 3.4339872044851463, 4746: 4.110873864173311, 3139: 7.467942332285852, 3195: 5.484796933490655, 3061: 6.214608098422191, 3154: 7.074116816197362, 3356: 4.605170185988092, 3420: 5.0106352940962555, 6384: 5.703782474656201, 6383: 6.396929655216146, 6382: 5.0106352940962555, 6060: 6.90875477931522, 21806: 4.59511985013459, 4499: 5.988961416889864, 17947: 4.07753744390572, 17808: 5.0106352940962555, 17760: 8.086717920303906, 18470: 3.367295829986474, 16689: 5.298317366548036, 17540: 6.98100574072173, 20979: 7.170119543449628, 20980: 7.170119543449628, 20984: 7.170119543449628, 18691: 5.298317366548036, 17575: 5.003946305945459, 4190: 7.307202314764738, 436: 5.703782474656201, 1089: 5.521460917862246, 2903: 6.551080335043404, 2895: 6.551080335043404, 14478: 5.293304824724492, 14287: 4.07753744390572, 13616: 5.703782474656201, 13617: 5.991464547107982, 13613: 5.703782474656201, 15712: 3.912023005428146, 9474: 7.937374696163295, 9653: 5.521460917862246, 9359: 6.396929655216146, 9302: 7.089243155027514, 9421: 6.476972362889683, 8461: 5.857933154483459, 8462: 5.857933154483459, 8465: 5.857933154483459, 8881: 5.298317366548036, 11139: 4.07753744390572, 19519: 5.521460917862246, 7779: 3.367295829986474, 14888: 6.214608098422191, 19184: 3.367295829986474, 8276: 5.703782474656201, 8939: 6.214608098422191, 13920: 5.0106352940962555, 11629: 5.703782474656201, 11660: 5.703782474656201, 16605: 5.703782474656201, 18992: 5.0106352940962555, 18993: 6.396929655216146, 16962: 5.303304908059076, 11237: 5.991464547107982, 10808: 5.298317366548036, 9143: 3.367295829986474, 15356: 4.59511985013459, 15888: 7.824046010856292, 12561: 5.298317366548036, 13970: 3.912023005428146, 13629: 5.298317366548036, 2155: 5.293304824724492, 2535: 6.54965074223381, 5091: 6.1092475827643655, 6215: 3.367295829986474, 2339: 5.988961416889864, 11390: 6.802394763324311, 11519: 6.396929655216146, 16448: 3.367295829986474, 7644: 8.77261185246622, 21557: 3.367295829986474, 3587: 7.438383530044307, 2701: 7.037905963447182, 3601: 5.003946305945459, 988: 5.298317366548036, 7778: 5.517452896464707, 7922: 4.59511985013459, 10245: 3.367295829986474, 10246: 3.367295829986474, 8552: 3.367295829986474, 6706: 6.790175972571541, 10577: 4.07753744390572, 12239: 3.367295829986474, 13438: 9.433403920090221, 10884: 4.605170185988092, 8057: 7.313886831633462, 9371: 4.59511985013459, 16477: 5.0106352940962555, 14778: 5.298317366548036, 17120: 5.0106352940962555, 16538: 5.521460917862246, 20445: 7.438383530044307, 6723: 4.59511985013459, 10357: 5.298317366548036, 10360: 4.895299262082924, 5219: 5.703782474656201, 7239: 9.431962766918454, 19281: 5.703782474656201, 17805: 5.703782474656201, 19561: 5.703782474656201, 16322: 7.824046010856292, 15640: 5.991464547107982, 20473: 5.700443573390686, 20895: 7.089243155027514, 5966: 6.476972362889683, 5317: 8.727454116899434, 4441: 5.521460917862246, 3997: 6.476972362889683, 7450: 3.367295829986474, 6039: 6.476972362889683, 2571: 6.802394763324311, 1960: 6.843717965552329, 18779: 5.703782474656201, 18777: 5.703782474656201, 7845: 4.59511985013459, 17997: 5.455321115357702, 17295: 5.351858133476067, 16977: 6.396929655216146, 16952: 5.003946305945459, 11636: 5.0106352940962555, 8802: 5.703782474656201, 1838: 6.672032945461067, 6409: 6.182084906716632, 10618: 5.700443573390686, 1349: 9.998388557730848, 15887: 7.823926003655716, 13368: 5.703782474656201, 22048: 5.991464547107982, 22058: 4.867534450455582, 22060: 5.298317366548036, 22072: 5.293304824724492, 1448: 6.089044875446846, 1319: 5.703782474656201, 20293: 6.063785208687608, 20301: 4.248495242049359, 20302: 6.214608098422191, 21874: 5.0106352940962555, 21400: 4.605170185988092, 3337: 7.824046010856292, 3740: 8.160518247477505, 3496: 6.907755278982137, 3709: 5.703782474656201, 3732: 8.131530710604252, 3734: 8.131530710604252, 3736: 8.699514748210191, 3737: 8.699514748210191, 4845: 7.26654099367608, 4233: 6.802394763324311, 2809: 7.313220387090301, 2810: 7.089243155027514, 3329: 7.090076835776092, 3331: 6.684611727667927, 3335: 7.090076835776092, 3336: 7.824046010856292, 3224: 5.988961416889864, 3197: 4.060443010546419, 16523: 5.700443573390686, 17137: 4.605170185988092, 16942: 5.991464547107982, 16999: 5.991464547107982, 17436: 5.857933154483459, 16069: 6.684611727667927, 15434: 6.131226489483141, 19089: 5.0106352940962555, 19091: 4.605170185988092, 19092: 5.298317366548036, 19150: 5.0106352940962555, 20070: 4.07753744390572, 20364: 7.170119543449628, 18933: 6.309918278226516, 18682: 4.07753744390572, 14019: 5.0106352940962555, 14023: 4.382026634673881, 14026: 4.605170185988092, 14440: 5.293304824724492, 12600: 4.382026634673881, 12182: 6.551080335043404, 11966: 4.59511985013459, 11967: 5.739792912179234, 12938: 5.517452896464707, 12939: 6.309918278226516, 13486: 9.510370887608827, 13436: 9.035867930125628, 17785: 5.135798437050262, 16499: 5.298317366548036, 11915: 3.367295829986474, 7096: 5.988961416889864, 7097: 7.243512974665482, 7098: 5.766444235780912, 7407: 5.521460917862246, 5896: 5.700443573390686, 5035: 7.090076835776092, 5036: 7.090076835776092, 6474: 5.521460917862246, 6391: 6.551080335043404, 6084: 7.438383530044307, 6086: 5.700443573390686, 10958: 5.135798437050262, 10988: 4.605170185988092, 11289: 8.006367567650246, 8644: 4.382026634673881, 8766: 5.135798437050262, 10196: 7.443663683115591, 9781: 5.560681631015528, 9782: 7.090076835776092, 9784: 5.703782474656201, 9797: 4.382026634673881, 9798: 4.382026634673881, 9857: 5.857933154483459, 9917: 3.912023005428146, 6389: 6.620073206530356, 4736: 3.367295829986474, 3741: 8.160518247477505, 3717: 7.089243155027514, 5639: 7.494986233950533, 5897: 6.212606095751519, 5899: 6.212606095751519, 6017: 5.298317366548036, 6087: 7.438383530044307, 5881: 6.907755278982137, 5055: 5.003946305945459, 3497: 5.700443573390686, 3499: 7.600902459542082, 11587: 3.912023005428146, 11588: 5.0106352940962555, 12448: 4.605170185988092, 12455: 6.396929655216146, 12206: 7.824046010856292, 10734: 4.6568134191399295, 14553: 4.605170185988092, 14020: 5.0106352940962555, 13428: 8.986071187374463, 12599: 5.634789603169249, 13515: 7.649216319820633, 12926: 4.605170185988092, 10659: 6.907755278982137, 7306: 5.703782474656201, 6892: 5.703782474656201, 9785: 6.957497370876951, 9915: 4.59511985013459, 7802: 5.703782474656201, 7803: 5.703782474656201, 8047: 5.857933154483459, 8049: 6.309918278226516, 4891: 6.212606095751519, 5738: 7.495541943884256, 7804: 5.703782474656201, 6362: 5.703782474656201, 17686: 3.4339872044851463, 20294: 7.170119543449628, 18907: 5.003946305945459, 1620: 3.367295829986474, 13741: 6.1092475827643655, 12925: 3.912023005428146, 16749: 4.605170185988092, 16902: 5.0106352940962555, 15524: 5.075173815233827, 15528: 5.19295685089021, 15429: 6.173786103901937, 15518: 5.703782474656201, 3716: 7.089243155027514, 3498: 7.8632667240095735, 5737: 7.495541943884256, 21590: 3.912023005428146, 21689: 4.543294782270004, 17010: 6.309918278226516, 19090: 4.605170185988092, 15657: 3.367295829986474, 22027: 5.0106352940962555, 786: 5.886104031450156, 1446: 6.212606095751519, 7381: 5.703782474656201, 4514: 7.346010209913293, 3392: 7.170119543449628, 9983: 4.07753744390572, 12845: 5.991464547107982, 12391: 5.293304824724492, 6346: 6.396929655216146, 9379: 3.367295829986474, 8293: 4.605170185988092, 7325: 5.703782474656201, 8815: 4.867534450455582, 5624: 6.54965074223381, 18849: 4.605170185988092, 17893: 5.298317366548036, 16905: 5.438079308923196, 71: 6.214608098422191, 20253: 3.912023005428146, 13016: 5.0106352940962555, 14360: 5.991464547107982, 22167: 5.703782474656201, 22073: 4.605170185988092, 14540: 5.991464547107982, 14580: 5.991464547107982, 11729: 5.991464547107982, 15433: 6.214608098422191, 18342: 5.298317366548036, 17302: 4.605170185988092, 20430: 5.700443573390686, 19093: 5.298317366548036, 15565: 5.298317366548036, 16899: 6.522092798170152, 15509: 5.988961416889864, 5398: 6.212606095751519, 8590: 4.59511985013459, 9417: 7.3777589082278725, 20192: 5.857933154483459, 21399: 5.0106352940962555, 16727: 7.313220387090301, 17767: 5.298317366548036, 5616: 6.54965074223381, 4938: 6.898714534329988, 510: 4.07753744390572, 20072: 5.003946305945459, 4182: 6.80128303447162, 2052: 3.367295829986474, 12405: 5.298317366548036, 18341: 5.298317366548036, 14722: 5.703782474656201, 10023: 5.991464547107982, 7222: 6.212606095751519, 9740: 6.802394763324311, 10234: 4.07753744390572, 8002: 6.855408798609928, 17015: 8.68270762989381, 13865: 7.003065458786462, 11793: 7.090076835776092, 12683: 6.396929655216146, 12488: 6.47543271670409, 8412: 7.24422751560335, 8356: 7.2078598714324755, 8352: 7.2078598714324755, 8048: 7.3777589082278725, 3225: 4.07753744390572, 3133: 6.450470422144176, 8933: 5.991464547107982, 20525: 7.3777589082278725, 20514: 6.906754778648554, 8729: 3.367295829986474, 9326: 6.380122536899765, 9325: 6.380122536899765, 7648: 8.852378886511985, 8474: 5.635503633902907, 8286: 5.703782474656201, 4569: 5.003946305945459, 5176: 7.27931883541462, 5191: 7.3777589082278725, 15774: 4.605170185988092, 14721: 5.348535082708654, 10542: 5.703782474656201, 10108: 5.703782474656201, 13554: 7.090076835776092, 13426: 8.293799608846818, 11989: 7.313220387090301, 3681: 7.377133712833954, 3474: 5.857933154483459, 15432: 6.214608098422191, 15430: 6.214608098422191, 14576: 4.605170185988092, 21357: 5.703782474656201, 3524: 4.59511985013459, 3094: 7.696212639346407, 2599: 5.703782474656201, 2489: 5.438079308923196, 12447: 3.912023005428146, 19619: 6.214608098422191, 6195: 6.1092475827643655, 5620: 5.648974238161206, 5965: 6.907755278982137, 11021: 5.991464547107982, 10504: 6.906754778648554, 2567: 6.620073206530356, 1370: 4.605170185988092, 3550: 6.54965074223381, 13516: 7.695757990554761, 12598: 5.634789603169249, 21326: 5.703782474656201, 20982: 7.170119543449628, 7382: 5.521460917862246, 12877: 5.0106352940962555, 9727: 6.214608098422191, 9627: 6.214608098422191, 11144: 4.605170185988092, 20071: 6.684611727667927, 20241: 5.298317366548036, 17301: 4.605170185988092, 5072: 5.241747015059643, 20757: 6.47543271670409, 134: 5.521460917862246, 13427: 8.293799608846818, 8790: 3.912023005428146, 15890: 6.214608098422191, 20310: 5.0106352940962555, 20127: 5.991464547107982, 2410: 10.387085854047635, 20436: 7.170119543449628, 11367: 6.2166061010848646, 14105: 8.1886891244442, 15767: 8.086717920303906, 17894: 5.298317366548036, 1799: 6.54965074223381, 20048: 5.298317366548036, 18934: 6.898714534329988, 22013: 5.298317366548036, 20523: 7.3777589082278725, 2508: 3.367295829986474, 3785: 4.59511985013459, 3079: 5.703782474656201, 3111: 4.07753744390572, 7947: 8.867709208039386, 16715: 4.07753744390572, 17492: 3.367295829986474, 16702: 5.247024072160486, 5647: 6.212606095751519, 4526: 5.517452896464707, 21641: 5.703782474656201, 18152: 5.521460917862246, 20317: 3.2526973733437115, 19077: 4.59511985013459, 16776: 3.6635616461296463, 4197: 7.969357742016346, 3951: 8.216088098632316, 12904: 5.703782474656201, 8375: 7.1308988302963465, 10640: 6.255750041753367, 9370: 5.700443573390686, 21350: 5.703782474656201, 8145: 5.703782474656201, 10403: 5.517452896464707, 9766: 3.367295829986474, 11125: 4.59511985013459, 11066: 5.298317366548036, 16969: 5.293304824724492, 16513: 5.293304824724492, 4062: 5.703782474656201, 2234: 7.378071359409918, 8210: 3.367295829986474, 9375: 5.003946305945459, 8373: 7.1308988302963465, 7317: 5.521460917862246, 20981: 7.170119543449628, 21301: 7.170119543449628, 18374: 3.367295829986474, 19925: 5.973809611869261, 17705: 4.852030263919617, 18015: 5.707110264748875, 19327: 4.919980925828125, 15059: 5.703782474656201, 10231: 4.605170185988092, 10279: 3.912023005428146, 7106: 6.907755278982137, 8440: 3.6888794541139363, 8522: 7.707512194600341, 9283: 4.852030263919617, 9137: 3.9318256327243257, 9141: 3.9318256327243257, 12215: 7.3783837129967145, 11277: 2.772588722239781, 11345: 5.857933154483459, 7102: 5.438079308923196, 879: 5.241747015059643, 913: 4.890349128221754, 801: 5.017279836814924, 803: 4.61512051684126, 915: 5.241747015059643, 1373: 4.384523514872469, 505: 4.605170185988092, 519: 4.61512051684126, 539: 5.153291594497779, 114: 5.153291594497779, 256: 5.241747015059643, 728: 5.241747015059643, 731: 5.241747015059643, 733: 5.241747015059643, 743: 5.241747015059643, 745: 5.241747015059643, 748: 5.241747015059643, 751: 5.241747015059643, 753: 5.241747015059643, 774: 5.241747015059643, 782: 5.241747015059643, 574: 5.153291594497779, 587: 5.153291594497779, 620: 5.153291594497779, 630: 5.153291594497779, 632: 5.153291594497779, 649: 5.153291594497779, 663: 5.153291594497779, 4795: 4.605170185988092, 4924: 6.898714534329988, 5710: 7.2868764117507, 7044: 6.802394763324311, 7045: 6.684611727667927, 6263: 5.521460917862246, 6264: 4.61512051684126, 3219: 6.19644412779452, 3135: 7.8383433155571165, 3136: 7.528331766707247, 3161: 7.080867896690782, 3422: 5.703782474656201, 3308: 5.703782474656201, 3155: 7.390798521735676, 2337: 5.521460917862246, 2394: 5.703782474656201, 2451: 5.703782474656201, 4031: 6.214608098422191, 4134: 6.803505257608338, 4193: 8.268988209506656, 4202: 5.707110264748875, 4215: 8.268988209506656, 3664: 5.481471909645883, 3545: 6.54965074223381, 3544: 5.988961416889864, 3543: 4.07753744390572, 3535: 5.700443573390686, 4669: 5.703782474656201, 4646: 5.003946305945459, 4107: 5.857933154483459, 4083: 4.07753744390572, 4382: 4.382026634673881, 4615: 6.1092475827643655, 4513: 4.59511985013459, 4497: 4.07753744390572, 1851: 7.313220387090301, 1850: 6.620073206530356, 2244: 5.703782474656201, 2181: 5.991464547107982, 1849: 0.4054651081081644, 1513: 7.3777589082278725, 1512: 7.170504084888706, 5473: 7.495541943884256, 1503: 8.294049640102028, 1809: 5.857933154483459, 1858: 7.090076835776092, 1855: 6.684611727667927, 1812: 7.002155954403621, 1811: 7.170119543449628, 1810: 5.988961416889864, 2763: 7.3777589082278725, 2657: 6.551080335043404, 2831: 7.090076835776092, 5511: 5.703782474656201, 9085: 4.59511985013459, 9986: 5.298317366548036, 9985: 5.298317366548036, 9984: 5.0106352940962555, 9388: 3.367295829986474, 9385: 3.367295829986474, 8669: 5.703782474656201, 11813: 7.3777589082278725, 11811: 7.090076835776092, 11458: 7.313220387090301, 10298: 5.135798437050262, 10955: 5.857933154483459, 10547: 5.991464547107982, 6471: 5.523458920524919, 6353: 5.991464547107982, 6229: 5.703782474656201, 7942: 8.137103389639302, 7821: 9.209439966733019, 6883: 3.367295829986474, 7206: 5.298317366548036, 7204: 5.298317366548036, 14545: 5.298317366548036, 14723: 5.703782474656201, 15342: 3.367295829986474, 15341: 4.02535169073515, 15343: 3.367295829986474, 14847: 5.298317366548036, 14335: 5.703782474656201, 14334: 4.07753744390572, 14333: 6.251903883165888, 14541: 6.309918278226516, 16056: 6.802394763324311, 16791: 6.396929655216146, 16502: 6.214608098422191, 16501: 4.290459441148391, 16851: 5.0106352940962555, 16541: 6.214608098422191, 11962: 6.396929655216146, 12328: 4.709530201312334, 12027: 5.298317366548036, 12024: 5.857933154483459, 13054: 4.605170185988092, 13140: 3.367295829986474, 13488: 8.188411308079031, 12613: 5.857933154483459, 12609: 5.0106352940962555, 21624: 5.703782474656201, 21623: 6.309918278226516, 21621: 7.824046010856292, 21620: 5.703782474656201, 20387: 8.006367567650246, 21919: 4.605170185988092, 21918: 4.605170185988092, 22126: 5.0106352940962555, 22059: 5.857933154483459, 19814: 5.135798437050262, 17976: 6.309918278226516, 17975: 6.856461984594587, 17780: 5.0106352940962555, 17978: 5.135798437050262, 18138: 5.857933154483459, 17253: 3.367295829986474, 17470: 5.298317366548036, 17254: 4.605170185988092, 19157: 5.991464547107982, 19156: 5.991464547107982, 19094: 5.703782474656201, 18624: 5.521460917862246, 18622: 5.135798437050262, 4008: 5.857933154483459, 4381: 5.0106352940962555, 4994: 7.649216319820633, 4992: 7.002155954403621, 5621: 6.212606095751519, 2178: 5.521460917862246, 2129: 4.07753744390572, 3332: 6.396929655216146, 3334: 6.396929655216146, 10300: 5.703782474656201, 9783: 6.620073206530356, 6418: 3.367295829986474, 7202: 5.298317366548036, 7965: 7.3777589082278725, 7940: 8.476162841858246, 8624: 4.59511985013459, 7249: 6.1092475827643655, 15216: 6.907755278982137, 14430: 5.135798437050262, 16215: 5.703782474656201, 15727: 5.991464547107982, 12162: 4.59511985013459, 13856: 3.367295829986474, 13045: 5.857933154483459, 1856: 6.396929655216146, 18492: 5.298317366548036, 18442: 5.298317366548036, 19022: 5.991464547107982, 19074: 5.991464547107982, 19173: 6.309918278226516, 2982: 7.596392304064196, 3421: 6.802394763324311, 1499: 8.648221453822641, 7812: 8.698013622083925, 7207: 5.298317366548036, 7205: 5.003946305945459, 7215: 7.090076835776092, 6083: 7.090076835776092, 7310: 5.857933154483459, 4125: 5.703782474656201, 6174: 3.367295829986474, 4623: 5.003946305945459, 17352: 3.367295829986474, 8193: 5.521460917862246, 9931: 5.0106352940962555, 11557: 5.521460917862246, 10811: 3.367295829986474, 7203: 5.298317366548036, 7201: 5.298317366548036, 7465: 5.298317366548036, 15465: 5.700443573390686, 15396: 5.857933154483459, 18136: 5.298317366548036, 18519: 8.1886891244442, 20050: 5.703782474656201, 22106: 5.521460917862246, 7961: 7.377133712833954, 7491: 5.703782474656201, 7059: 7.170119543449628, 10795: 5.0106352940962555, 11963: 3.912023005428146, 9789: 5.0106352940962555, 9018: 5.0106352940962555, 3044: 7.257707677160043, 3043: 7.495541943884256, 2832: 6.212606095751519, 6415: 5.988961416889864, 4046: 7.549609165154532, 4584: 5.517452896464707, 20763: 6.551080335043404, 20764: 7.3777589082278725, 20766: 6.551080335043404, 20786: 6.551080335043404, 20780: 6.551080335043404, 20779: 6.745236349484362, 20778: 6.907755278982137, 20773: 7.003065458786462, 20771: 6.551080335043404, 20770: 6.214608098422191, 20769: 6.214608098422191, 20768: 6.476972362889683, 20767: 6.551080335043404, 20765: 6.551080335043404, 20355: 7.1308988302963465, 20354: 7.1308988302963465, 20350: 7.170119543449628, 20338: 7.52294091807237, 20788: 7.649692623711514, 18310: 5.703782474656201, 19247: 3.367295829986474, 19983: 7.346010209913293, 18830: 3.912023005428146, 1795: 6.54965074223381, 1500: 8.699514748210191, 1504: 8.268731832117737, 1508: 8.070906088787819, 2031: 7.24422751560335, 21935: 7.313220387090301, 21934: 7.313220387090301, 22123: 5.0106352940962555, 78: 5.991464547107982, 13961: 4.07753744390572, 13971: 5.703782474656201, 15136: 4.07753744390572, 15135: 4.07753744390572, 15097: 5.991464547107982, 14486: 5.0106352940962555, 12572: 7.090076835776092, 12351: 5.0106352940962555, 12350: 4.330733340286331, 13052: 5.0106352940962555, 13437: 9.392578591964389, 14703: 3.367295829986474, 16694: 5.303304908059076, 17981: 5.634789603169249, 17979: 5.991464547107982, 17372: 5.0106352940962555, 17577: 4.605170185988092, 17448: 5.0106352940962555, 15317: 7.24422751560335, 15921: 6.551080335043404, 15920: 7.090076835776092, 15919: 7.27931883541462, 15923: 8.006367567650246, 15269: 7.090243488555412, 15236: 6.907755278982137, 15235: 6.684861696423135, 15231: 6.907755278982137, 15224: 6.907755278982137, 15219: 6.907755278982137, 15217: 7.003065458786462, 15572: 7.438383530044307, 2764: 7.495541943884256, 5026: 5.703782474656201, 19197: 5.0106352940962555, 19630: 5.0106352940962555, 17980: 5.135798437050262, 13439: 9.510370887608827, 14868: 5.0106352940962555, 2062: 6.802394763324311, 1509: 8.070906088787819, 20273: 5.298317366548036, 21417: 5.298317366548036, 2032: 7.170119543449628, 166: 5.521460917862246, 1453: 5.517452896464707, 12132: 7.7406644019172415, 8594: 5.0106352940962555, 10965: 3.912023005428146, 10707: 7.170119543449628, 15374: 4.59511985013459, 15366: 5.700443573390686, 14724: 5.703782474656201, 17664: 5.645446897643238, 15425: 5.293304824724492, 8493: 5.857933154483459, 9574: 5.700443573390686, 9313: 5.857933154483459, 7384: 6.620073206530356, 6344: 6.481577129276431, 4383: 9.740968623038354, 4649: 6.907755278982137, 4018: 6.476972362889683, 2633: 7.090076835776092, 2130: 6.620073206530356, 10767: 5.703782474656201, 2656: 6.54965074223381, 19861: 5.703782474656201, 20295: 5.703782474656201, 22105: 5.298317366548036, 21775: 8.268731832117737, 19361: 6.214608098422191, 20351: 7.003065458786462, 21340: 5.703782474656201, 19538: 5.0106352940962555, 20079: 4.605170185988092, 20136: 5.857933154483459, 16963: 5.991464547107982, 15340: 3.332204510175204, 17329: 5.0106352940962555, 14895: 5.703782474656201, 3944: 7.3777589082278725, 3943: 6.551080335043404, 9380: 3.367295829986474, 12863: 4.07753744390572, 13786: 5.991464547107982, 12079: 5.0106352940962555, 10735: 5.0106352940962555, 10706: 7.1693500166706, 10354: 8.630521876723241, 11429: 5.0106352940962555, 11400: 5.521460917862246, 11362: 5.521460917862246, 11201: 5.0106352940962555, 11556: 5.521460917862246, 16547: 5.857933154483459, 16522: 3.367295829986474, 18516: 4.59511985013459, 17982: 4.499809670330265, 17529: 3.367295829986474, 17715: 7.495541943884256, 15193: 5.703782474656201, 14919: 5.991464547107982, 14556: 5.857933154483459, 15022: 4.605170185988092, 15367: 5.135798437050262, 15709: 5.0106352940962555, 15699: 5.293304824724492, 15473: 7.3777589082278725, 15471: 7.3777589082278725, 15426: 5.3471075307174685, 16080: 6.335054251498059, 15520: 5.438079308923196, 15918: 7.003065458786462, 15911: 6.684611727667927, 15907: 7.090076835776092, 15906: 7.495541943884256, 5234: 7.090076835776092, 4991: 6.745236349484362, 3863: 3.258096538021482, 3534: 6.907755278982137, 4169: 6.8679744089702925, 4122: 4.605170185988092, 4214: 8.682877107057168, 4185: 7.596392304064196, 6932: 6.684611727667927, 6986: 5.703782474656201, 7042: 4.605170185988092, 7041: 4.787491742782046, 7012: 5.703782474656201, 6992: 5.991464547107982, 6987: 6.214608098422191, 6404: 3.6888794541139363, 6150: 5.768945800562614, 6089: 5.991464547107982, 5727: 5.968707559985366, 5726: 6.898714534329988, 5407: 5.8866594327418555, 5408: 5.635503633902907, 5067: 7.824445930877619, 6431: 5.135798437050262, 1854: 6.907755278982137, 2030: 5.929589143389895, 1401: 4.983606621708336, 1369: 5.768945800562614, 1368: 5.703782474656201, 3134: 6.994849985833071, 3471: 5.771441123130016, 2266: 6.396929655216146, 2264: 6.907755278982137, 2384: 5.135798437050262, 22166: 5.017279836814924, 13193: 5.298317366548036, 13080: 5.017279836814924, 11296: 5.860786223465865, 7918: 6.721425700790643, 7909: 5.075173815233827, 9105: 3.9318256327243257, 19326: 4.919980925828125, 19311: 6.2166061010848646, 19256: 4.852030263919617, 19371: 7.0825485693553, 19380: 5.0106352940962555, 19388: 4.852030263919617, 19387: 4.852030263919617, 13546: 9.105090961257085, 16250: 5.5254529391317835, 20353: 6.856461984594587, 579: 5.153291594497779, 132: 5.37989735354046, 124: 4.74493212836325, 123: 5.752572638825633, 121: 5.153291594497779, 214: 5.153291594497779, 455: 5.153291594497779, 447: 5.153291594497779, 404: 4.74493212836325, 403: 4.74493212836325, 381: 4.74493212836325, 355: 5.153291594497779, 348: 4.976733742420574, 251: 5.153291594497779, 619: 5.153291594497779, 851: 5.241747015059643, 833: 5.017279836814924, 877: 4.890349128221754, 755: 5.241747015059643, 723: 5.241747015059643, 21558: 3.4011973816621555, 20337: 6.396929655216146, 4583: 5.991464547107982, 4047: 7.549609165154532, 5468: 7.600902459542082, 10344: 3.367295829986474, 10290: 5.0106352940962555, 12449: 5.703782474656201, 12834: 5.298317366548036, 8164: 7.52294091807237, 9652: 6.620073206530356, 9706: 5.003946305945459, 9721: 6.309918278226516, 9849: 3.367295829986474, 8592: 3.912023005428146, 8591: 4.59511985013459, 8364: 7.52294091807237, 8803: 3.367295829986474, 8792: 5.0106352940962555, 8791: 5.0106352940962555, 16476: 3.367295829986474, 16539: 7.003065458786462, 16731: 4.59511985013459, 14546: 5.8971538676367405, 13900: 7.2078598714324755, 15910: 6.684611727667927, 15578: 7.438383530044307, 1454: 5.988961416889864, 293: 5.521460917862246, 1642: 7.783390669115358, 16246: 6.212606095751519, 4058: 7.549609165154532, 5879: 8.098946748943339, 5160: 7.3777589082278725, 5505: 7.600902459542082, 5059: 7.346010209913293, 3784: 4.59511985013459, 3780: 5.700443573390686, 6345: 7.52294091807237, 11945: 5.703782474656201, 12593: 5.521460917862246, 3000: 7.0825485693553, 5061: 6.956545443151569, 3946: 5.298317366548036, 18404: 3.367295829986474, 4468: 6.396929655216146, 9164: 5.991464547107982, 5967: 6.476972362889683, 5518: 7.7406644019172415, 16782: 3.828641396489095, 16767: 3.6635616461296463, 10605: 3.367295829986474, 20346: 6.396929655216146, 12129: 7.549609165154532, 7313: 5.521460917862246, 15912: 6.551080335043404, 15908: 6.802394763324311, 15909: 7.003065458786462, 16943: 6.620073206530356, 16887: 4.605170185988092, 17266: 5.703782474656201, 12606: 5.0106352940962555, 19381: 5.702515005089236, 6759: 4.07753744390572, 7865: 4.59511985013459, 13372: 5.703782474656201, 15365: 5.700443573390686, 14095: 3.912023005428146, 9387: 3.367295829986474, 8593: 4.59511985013459, 11406: 6.214608098422191, 18440: 5.521460917862246, 18695: 6.620073206530356, 15227: 7.8632667240095735, 16345: 8.411832675758411, 16761: 3.367295829986474, 10603: 3.367295829986474, 4558: 7.346010209913293, 16728: 4.543294782270004, 18176: 5.0106352940962555, 17739: 6.19644412779452, 17743: 6.19644412779452, 17745: 6.19644412779452, 17732: 5.293304824724492, 15574: 8.955448122347393, 11949: 5.0106352940962555, 15218: 7.8632667240095735, 13585: 7.549609165154532, 11701: 4.59511985013459, 19550: 6.396929655216146, 19549: 4.605170185988092, 19174: 7.575584651557793, 21349: 6.086320078120661, 21694: 5.703782474656201, 16625: 5.455321115357702, 17776: 5.860786223465865, 14700: 4.07753744390572, 6808: 7.346010209913293, 12894: 7.003065458786462, 10103: 5.0106352940962555, 4194: 8.266421472984554, 17602: 5.937536205082426, 8532: 8.612685172875459, 5442: 6.39024066706535, 12670: 5.298317366548036, 10353: 8.294049640102028, 10525: 5.19295685089021, 21204: 6.882437470997847, 9374: 3.367295829986474, 5543: 6.620073206530356, 5467: 7.408530566894626, 15554: 4.59511985013459, 16258: 6.907755278982137, 16259: 6.907755278982137, 16262: 6.907755278982137, 16841: 6.396929655216146, 17630: 7.495541943884256, 17631: 7.495541943884256, 17632: 7.313220387090301, 16838: 6.396929655216146, 16263: 6.907755278982137, 16264: 6.907755278982137, 16265: 6.907755278982137, 16268: 7.495541943884256, 16269: 7.495541943884256, 15501: 7.7406644019172415, 15502: 7.152073065527754, 15318: 6.802394763324311, 15320: 6.396929655216146, 15322: 6.396929655216146, 15924: 7.673223121121708, 21020: 6.882129731343165, 21024: 6.882693848386766, 21025: 6.882437470997847, 21026: 6.882437470997847, 21027: 6.882437470997847, 21028: 6.882437470997847, 21029: 6.882693848386766, 21030: 6.882437470997847, 21055: 6.882522937430616, 21018: 6.882437470997847, 20995: 7.170119543449628, 20340: 7.003065458786462, 21056: 6.882437470997847, 15304: 7.696212639346407, 13582: 7.495541943884256, 13583: 7.495541943884256, 12185: 5.703782474656201, 12186: 5.703782474656201, 13584: 7.495541943884256, 15226: 7.003065458786462, 15282: 7.783224016336037, 13639: 6.633581556555148, 13640: 6.856461984594587, 15053: 7.313095379277151, 14995: 6.907755278982137, 14996: 6.907755278982137, 14998: 7.52294091807237, 14999: 7.52294091807237, 21058: 6.882693848386766, 6670: 7.037905963447182, 21057: 6.882437470997847, 21205: 6.8825656679084775, 21222: 6.882693848386766, 21223: 6.882181027862707, 21224: 6.882693848386766, 21215: 6.882351997259943, 21216: 6.882437470997847, 21217: 6.8825656679084775, 21218: 6.8825656679084775, 21219: 6.882693848386766, 21220: 6.882693848386766, 21221: 6.882437470997847, 21225: 6.882522937430616, 21203: 6.882693848386766, 21179: 6.881924518947615, 21180: 6.882181027862707, 21181: 6.882437470997847, 21182: 6.882693848386766, 21183: 6.882437470997847, 21184: 6.882437470997847, 21185: 6.882437470997847, 21186: 6.8822494191295105, 21202: 6.882437470997847, 21226: 6.882437470997847, 21227: 6.882052781629764, 21309: 6.882437470997847, 21310: 6.882693848386766, 21308: 6.882437470997847, 21307: 6.8826083965605225, 21306: 6.8826083965605225, 21228: 6.882309257650662, 21229: 6.882437470997847, 21230: 6.882693848386766, 21231: 6.882437470997847, 21232: 6.882693848386766, 21233: 6.882181027862707, 21234: 6.882693848386766, 21235: 6.882437470997847, 21236: 6.882181027862707, 21237: 6.8826083965605225, 21238: 6.8825656679084775, 21302: 6.882437470997847, 21303: 6.882501571507468, 21304: 6.882437470997847, 21305: 6.882437470997847, 21178: 6.8825656679084775, 21177: 6.882437470997847, 21085: 6.882437470997847, 21088: 7.170119543449628, 21089: 6.882693848386766, 21090: 6.882522937430616, 21091: 6.882437470997847, 21092: 6.882693848386766, 21093: 6.692083742506628, 21094: 7.170119543449628, 21095: 6.882522937430616, 21096: 6.882181027862707, 21127: 6.882437470997847, 21128: 6.882437470997847, 21084: 6.882437470997847, 21140: 6.882437470997847, 21059: 6.882273354967445, 21060: 6.882437470997847, 21061: 6.882437470997847, 21080: 7.170119543449628, 21081: 7.170119543449628, 21141: 7.170119543449628, 21142: 6.882693848386766, 21158: 7.170119543449628, 21160: 6.882437470997847, 21161: 7.170119543449628, 21173: 6.882693848386766, 21174: 6.882351997259943, 21175: 6.882693848386766, 21176: 6.882693848386766, 21157: 6.882693848386766, 21155: 6.882522937430616, 21143: 6.882437470997847, 21144: 6.8825656679084775, 21145: 6.882693848386766, 21146: 6.882693848386766, 21147: 6.882540029841073, 21148: 6.882693848386766, 21149: 7.170119543449628, 21150: 6.882693848386766, 21151: 6.882437470997847, 21152: 6.882309257650662, 21153: 6.882351997259943, 21154: 6.882522937430616, 21156: 6.882437470997847, 22011: 7.600902459542082, 20892: 7.6004023345004, 18017: 5.703782474656201, 21774: 8.268731832117737, 20639: 7.783224016336037, 20545: 6.54965074223381, 20441: 6.54965074223381, 13382: 5.703782474656201, 11225: 4.844187086458591, 18780: 3.367295829986474, 17596: 5.857933154483459, 17592: 5.857933154483459, 10462: 6.396929655216146, 6374: 6.214608098422191, 10297: 6.620073206530356, 10299: 6.522092798170152, 9077: 3.367295829986474, 8976: 3.367295829986474, 9017: 4.605170185988092, 11075: 5.703782474656201, 11022: 4.59511985013459, 11023: 5.885548321516433, 11034: 5.808142489980444, 10543: 3.367295829986474, 10771: 7.2078598714324755, 10961: 5.402677381872279, 7161: 8.006367567650246, 7477: 6.1092475827643655, 7736: 6.54965074223381, 7851: 5.991464547107982, 6285: 5.857933154483459, 6675: 10.060192111293768, 8606: 4.605170185988092, 8206: 6.309918278226516, 8207: 7.090076835776092, 8793: 3.912023005428146, 8670: 5.0106352940962555, 7720: 7.8632667240095735, 7721: 7.8632667240095735, 7872: 3.367295829986474, 7917: 4.59511985013459, 7980: 6.212606095751519, 14893: 5.703782474656201, 15851: 6.802394763324311, 14557: 4.605170185988092, 16443: 4.382026634673881, 16548: 6.396929655216146, 16527: 3.367295829986474, 16528: 3.367295829986474, 15591: 6.214608098422191, 14454: 5.298317366548036, 13481: 9.3048320350689, 12764: 5.298317366548036, 13518: 7.313220387090301, 12763: 5.0106352940962555, 12110: 7.146772179452637, 12321: 5.0106352940962555, 12322: 5.298317366548036, 12356: 5.857933154483459, 12028: 4.605170185988092, 14228: 4.605170185988092, 14229: 4.605170185988092, 13931: 6.620073206530356, 13930: 5.991464547107982, 14451: 5.521460917862246, 14275: 3.912023005428146, 14296: 3.367295829986474, 1853: 6.906754778648554, 2331: 7.937374696163295, 2267: 7.3777589082278725, 1514: 8.006367567650246, 2269: 6.214608098422191, 2888: 7.24422751560335, 2896: 6.551080335043404, 2899: 6.551080335043404, 2830: 5.293304824724492, 2625: 4.59511985013459, 2270: 7.3777589082278725, 2263: 5.517452896464707, 2273: 7.8632667240095735, 2274: 7.494986233950533, 2278: 5.988961416889864, 2279: 6.551080335043404, 21721: 4.07753744390572, 21622: 7.3777589082278725, 20276: 3.367295829986474, 20448: 5.703782474656201, 21406: 5.298317366548036, 21407: 5.438079308923196, 21502: 5.857933154483459, 21481: 5.991464547107982, 21378: 7.408530566894626, 21380: 6.309918278226516, 1495: 6.214608098422191, 1449: 6.396929655216146, 1498: 8.433811582477187, 1502: 7.640027014226132, 1507: 7.24422751560335, 1511: 6.684611727667927, 1414: 6.212606095751519, 5444: 5.857933154483459, 5323: 5.703782474656201, 5058: 7.600902459542082, 4679: 5.857933154483459, 5235: 5.857933154483459, 5236: 6.620739651073516, 5238: 7.041735320948491, 5083: 5.438079308923196, 5210: 5.293304824724492, 6459: 5.988961416889864, 5671: 8.186185994226083, 5672: 8.186185994226083, 5615: 7.089243155027514, 6075: 6.802394763324311, 3333: 6.620073206530356, 3108: 5.857933154483459, 3117: 6.956545443151569, 4427: 5.703782474656201, 4355: 7.783224016336037, 4353: 7.600902459542082, 4271: 7.7406644019172415, 4303: 5.703782474656201, 4351: 5.991464547107982, 4352: 7.170119543449628, 3930: 5.700443573390686, 4231: 7.7406644019172415, 18154: 4.605170185988092, 17956: 5.135798437050262, 17957: 6.396929655216146, 17958: 5.991464547107982, 18004: 5.990714265717278, 18837: 5.0106352940962555, 18850: 4.605170185988092, 18884: 4.0943445622221, 18963: 5.991464547107982, 19430: 6.551080335043404, 17347: 5.991464547107982, 17763: 5.991464547107982, 17346: 4.867534450455582, 19687: 5.598421958998375, 19688: 5.703782474656201, 19689: 7.3777589082278725, 19690: 6.907755278982137, 19691: 7.170119543449628, 19126: 4.07753744390572, 19596: 5.700443573390686, 20088: 5.521460917862246, 20089: 6.907755278982137, 20090: 5.700443573390686, 20385: 7.919356190660617, 19900: 5.0106352940962555, 19901: 6.907755278982137, 19902: 5.521460917862246, 14227: 4.605170185988092, 14122: 6.063785208687608, 14123: 7.346010209913293, 14427: 5.0106352940962555, 4285: 5.857933154483459, 7852: 5.521460917862246, 8605: 3.912023005428146, 6367: 5.517452896464707, 7368: 5.703782474656201, 3899: 4.07753744390572, 2357: 7.313220387090301, 2358: 6.212606095751519, 2407: 5.0106352940962555, 20902: 6.907755278982137, 19837: 5.991464547107982, 21720: 5.298317366548036, 21343: 6.684611727667927, 21360: 5.808142489980444, 21530: 6.551080335043404, 17912: 5.703782474656201, 18153: 3.2386784521643803, 18301: 3.367295829986474, 18922: 5.0106352940962555, 18886: 3.367295829986474, 18858: 4.382026634673881, 19246: 6.396929655216146, 18590: 5.0106352940962555, 18394: 5.799092654460526, 18403: 5.703782474656201, 18801: 3.912023005428146, 18804: 3.912023005428146, 18810: 5.0106352940962555, 18813: 3.912023005428146, 18815: 3.912023005428146, 18623: 5.857933154483459, 18702: 5.298317366548036, 5754: 8.157943507105037, 5439: 5.991464547107982, 7432: 5.703782474656201, 7718: 7.438383530044307, 6737: 5.298317366548036, 6908: 7.438383530044307, 1723: 5.293304824724492, 21678: 3.912023005428146, 20204: 5.0106352940962555, 19698: 5.003946305945459, 19907: 5.0106352940962555, 21503: 5.857933154483459, 20824: 7.170119543449628, 20822: 7.170119543449628, 20492: 6.54965074223381, 20546: 6.54965074223381, 20792: 6.212606095751519, 10143: 7.824046010856292, 10665: 6.111467339502679, 8411: 6.907755278982137, 13873: 4.605170185988092, 11555: 5.296315363877364, 12380: 5.521460917862246, 13512: 7.313220387090301, 15085: 6.551080335043404, 15375: 3.367295829986474, 16101: 6.802394763324311, 15521: 5.991464547107982, 15862: 7.8632667240095735, 13577: 6.779921907472252, 18360: 5.298317366548036, 18402: 5.703782474656201, 18237: 4.07753744390572, 18484: 5.298317366548036, 17933: 5.703782474656201, 19665: 5.438079308923196, 19004: 5.135798437050262, 18954: 3.367295829986474, 16286: 4.1588830833596715, 16220: 7.600902459542082, 10994: 4.605170185988092, 10690: 6.907755278982137, 9847: 5.703782474656201, 9595: 5.521460917862246, 9596: 4.927253685157205, 8043: 7.696212639346407, 8818: 5.703782474656201, 7719: 7.438383530044307, 18838: 3.912023005428146, 16207: 6.907755278982137, 1413: 6.684611727667927, 14740: 6.214608098422191, 16442: 4.59511985013459, 20080: 4.605170185988092, 5100: 6.684611727667927, 4428: 5.991464547107982, 5898: 5.648974238161206, 2409: 8.947806093057054, 7503: 5.655991810819852, 4286: 5.988961416889864, 21625: 7.438383530044307, 18839: 5.0106352940962555, 17911: 5.560681631015528, 2796: 5.700443573390686, 2797: 6.476972362889683, 20866: 6.551080335043404, 20203: 5.0106352940962555, 7963: 8.242493153187626, 16591: 4.605170185988092, 8349: 8.131530710604252, 18359: 5.703782474656201, 14175: 3.332204510175204, 14068: 5.703782474656201, 18703: 5.298317366548036, 3904: 5.857933154483459, 3573: 4.59511985013459, 2906: 6.551080335043404, 2908: 6.551080335043404, 2658: 5.517452896464707, 5577: 5.988961416889864, 6339: 5.857933154483459, 6641: 3.367295829986474, 5127: 5.991464547107982, 5154: 5.991464547107982, 5104: 5.438079308923196, 5094: 5.991464547107982, 5103: 5.991464547107982, 4563: 6.907755278982137, 4591: 5.991464547107982, 5161: 6.956545443151569, 5166: 5.438079308923196, 5169: 6.620073206530356, 9901: 6.956545443151569, 9554: 5.298317366548036, 10346: 5.703782474656201, 10736: 4.605170185988092, 10805: 5.298317366548036, 14441: 3.367295829986474, 13479: 9.08239335764556, 14657: 3.367295829986474, 16329: 5.521460917862246, 9303: 5.521460917862246, 8720: 4.07753744390572, 10248: 4.07753744390572, 9668: 6.214608098422191, 9538: 4.07753744390572, 9850: 5.293304824724492, 7468: 5.703782474656201, 7474: 5.703782474656201, 7506: 4.59511985013459, 7515: 5.703782474656201, 7297: 5.857933154483459, 11973: 4.07753744390572, 11817: 6.551080335043404, 13183: 8.131530710604252, 7546: 7.9644199398424815, 6905: 5.857933154483459, 4933: 7.02108396428914, 4647: 6.212606095751519, 16925: 6.214608098422191, 16933: 5.703782474656201, 17642: 8.294049640102028, 17174: 5.298317366548036, 14310: 4.07753744390572, 7731: 5.648974238161206, 10050: 5.703782474656201, 12357: 6.309918278226516, 20047: 6.032918342000342, 4311: 8.779557455883728, 15576: 7.438383530044307, 3807: 6.856461984594587, 8112: 8.1886891244442, 8739: 4.248495242049359, 7565: 7.313220387090301, 7188: 7.466799475018602, 11010: 5.438079308923196, 11664: 4.59511985013459, 4718: 5.517452896464707, 5479: 6.684611727667927, 2806: 5.003946305945459, 10993: 3.367295829986474, 9654: 5.521460917862246, 19419: 4.364371699435161, 18485: 5.703782474656201, 7451: 4.59511985013459, 7555: 4.941642422609304, 7185: 7.783224016336037, 6889: 4.07753744390572, 8029: 7.3777589082278725, 5942: 7.52294091807237, 5857: 7.937374696163295, 5785: 3.367295829986474, 6786: 8.006367567650246, 9944: 4.07753744390572, 1724: 6.551080335043404, 1139: 5.293304824724492, 1209: 7.2078598714324755, 99: 5.0106352940962555, 4568: 4.07753744390572, 5188: 6.214608098422191, 5137: 5.991464547107982, 5149: 5.857933154483459, 4670: 5.703782474656201, 3594: 3.912023005428146, 6869: 6.956545443151569, 1785: 5.700443573390686, 1961: 4.07753744390572, 499: 3.367295829986474, 19303: 6.907755278982137, 9240: 6.803505257608338, 9284: 5.003946305945459, 10570: 7.046647277848756, 16758: 3.152736022363656, 5437: 7.003065458786462, 2648: 4.59511985013459, 20901: 6.907755278982137, 20826: 7.170119543449628, 19359: 6.54965074223381, 342: 4.976733742420574, 58: 4.852030263919617, 514: 4.61512051684126, 517: 4.61512051684126, 815: 4.61512051684126, 843: 4.890349128221754, 658: 5.153291594497779, 643: 5.153291594497779, 669: 5.153291594497779, 540: 5.153291594497779, 568: 5.153291594497779, 781: 4.919980925828125, 773: 5.153291594497779, 770: 5.153291594497779, 673: 5.153291594497779, 681: 5.153291594497779, 693: 5.241747015059643, 704: 5.241747015059643, 721: 5.241747015059643, 722: 5.241747015059643, 725: 5.241747015059643, 714: 5.241747015059643, 15863: 7.696212639346407, 15718: 4.07753744390572, 17886: 5.0106352940962555, 6945: 5.768945800562614, 6758: 5.703782474656201, 6419: 5.991464547107982, 6428: 3.6888794541139363, 7760: 3.4011973816621555, 7759: 2.772588722239781, 7758: 2.772588722239781, 7757: 4.0943445622221, 7755: 5.0106352940962555, 7754: 5.0106352940962555, 7753: 5.0106352940962555, 7752: 5.0106352940962555, 7751: 3.7612001156935624, 7750: 5.298317366548036, 7155: 6.551080335043404, 7017: 6.907755278982137, 6972: 6.214608098422191, 7099: 4.248495242049359, 7104: 4.7535901911063645, 4737: 5.771441123130016, 4196: 7.972810784121404, 5071: 6.620073206530356, 5725: 6.19644412779452, 5295: 7.0909098220799835, 5568: 9.741027444837728, 5917: 4.0943445622221, 5920: 4.605170185988092, 5565: 8.853808274977197, 7761: 4.0943445622221, 4928: 7.969357742016346, 4949: 6.898714534329988, 7762: 4.0943445622221, 7764: 4.0943445622221, 14168: 5.69035945432406, 13750: 4.605170185988092, 12226: 4.605170185988092, 7765: 2.0794415416798357, 7767: 4.0943445622221, 7768: 4.0943445622221, 7871: 5.703782474656201, 10218: 4.852030263919617, 7763: 4.0943445622221, 8523: 6.206575926724928, 9109: 3.9318256327243257, 1996: 3.912023005428146, 1994: 5.135798437050262, 1852: 7.495541943884256, 1927: 4.605170185988092, 2000: 3.912023005428146, 1950: 5.521460917862246, 1967: 5.29931686688112, 2013: 3.912023005428146, 2006: 3.4011973816621555, 2005: 3.4011973816621555, 2004: 3.912023005428146, 2003: 3.912023005428146, 2001: 3.912023005428146, 2002: 3.912023005428146, 1506: 6.063785208687608, 1505: 6.214608098422191, 1426: 5.298317366548036, 1152: 8.364275084991524, 910: 4.890349128221754, 1510: 5.991464547107982, 1519: 5.521460917862246, 2019: 3.4011973816621555, 2990: 6.652863029353347, 2992: 7.065613363597717, 2995: 7.085901464365611, 3525: 5.298317366548036, 2025: 3.4011973816621555, 2714: 5.568344503761097, 2408: 5.703782474656201, 19324: 4.919980925828125, 19377: 5.298317366548036, 19996: 5.298317366548036, 14934: 5.0106352940962555, 17649: 4.852030263919617, 16275: 4.61512051684126, 16389: 5.342334251964811, 16837: 4.852030263919617, 16926: 5.153291594497779, 3119: 5.003946305945459, 11754: 3.367295829986474, 10144: 9.035986984831405, 10799: 5.003946305945459, 14145: 5.703782474656201, 12005: 3.367295829986474, 5163: 5.991464547107982, 5789: 4.07753744390572, 5050: 5.700443573390686, 9011: 4.07753744390572, 8744: 5.703782474656201, 12846: 5.0106352940962555, 19076: 5.0106352940962555, 1639: 6.745236349484362, 20000: 5.214935757608986, 19513: 5.988961416889864, 10351: 8.630521876723241, 8489: 8.006367567650246, 294: 5.521460917862246, 87: 6.214608098422191, 74: 6.214608098422191, 15942: 8.101526220823477, 16008: 7.24422751560335, 6358: 4.59511985013459, 12692: 6.620073206530356, 20499: 6.906754778648554, 11887: 5.703782474656201, 20724: 8.242756345714477, 14554: 5.298317366548036, 17802: 5.991464547107982, 17549: 5.703782474656201, 17803: 6.309918278226516, 17121: 3.912023005428146, 17056: 5.298317366548036, 16983: 5.0106352940962555, 16984: 6.309918278226516, 16985: 5.298317366548036, 17055: 4.382026634673881, 17228: 5.0106352940962555, 17382: 5.420534999272286, 17281: 5.703782474656201, 18389: 4.07753744390572, 18409: 3.367295829986474, 18445: 5.298317366548036, 18452: 5.0106352940962555, 18481: 5.298317366548036, 18475: 5.0106352940962555, 18740: 5.298317366548036, 18005: 5.799092654460526, 17948: 4.605170185988092, 18189: 5.293304824724492, 18347: 5.298317366548036, 18144: 4.07753744390572, 18146: 5.700443573390686, 15629: 5.991464547107982, 16233: 7.600902459542082, 16153: 6.396929655216146, 16534: 4.499809670330265, 16674: 4.382026634673881, 16944: 4.382026634673881, 16947: 3.912023005428146, 16948: 3.912023005428146, 16980: 5.293304824724492, 17591: 5.857933154483459, 15814: 5.703782474656201, 16340: 7.7406644019172415, 16336: 7.313220387090301, 20320: 3.912023005428146, 21355: 6.214608098422191, 20591: 7.090076835776092, 20606: 7.003065458786462, 20608: 7.600902459542082, 20607: 7.003065458786462, 20776: 6.214608098422191, 20777: 7.047517221357296, 20782: 7.2078598714324755, 20811: 6.396929655216146, 20812: 6.551080335043404, 20814: 6.327936783729195, 20820: 7.170119543449628, 20818: 6.476972362889683, 20816: 5.521460917862246, 20815: 5.521460917862246, 20609: 7.003065458786462, 20610: 7.003065458786462, 20645: 8.68270762989381, 21719: 4.605170185988092, 21837: 5.991464547107982, 22045: 3.367295829986474, 22046: 4.382026634673881, 21421: 2.995732273553991, 21379: 7.2078598714324755, 21718: 3.258096538021482, 21772: 5.991464547107982, 19067: 6.620073206530356, 19065: 5.991464547107982, 19066: 7.313220387090301, 19555: 4.605170185988092, 19554: 4.605170185988092, 19127: 5.293304824724492, 18885: 5.298317366548036, 18937: 6.620073206530356, 19042: 5.0106352940962555, 19028: 5.991464547107982, 18951: 5.857933154483459, 20038: 5.703782474656201, 20379: 7.600902459542082, 20373: 7.919356190660617, 20333: 7.377133712833954, 19608: 8.621733370690162, 19832: 5.0106352940962555, 19851: 5.703782474656201, 19721: 5.298317366548036, 12164: 4.867534450455582, 12166: 3.332204510175204, 12165: 5.598421958998375, 11983: 4.59511985013459, 12274: 7.494986233950533, 11985: 4.59511985013459, 11649: 6.620073206530356, 11710: 7.2078598714324755, 11676: 7.2078598714324755, 11592: 5.991464547107982, 11593: 5.703782474656201, 11922: 6.309918278226516, 12126: 7.1631723908466425, 12120: 8.409830673087738, 11789: 7.8632667240095735, 13423: 8.699348067653093, 13485: 9.158941808890182, 13466: 8.92252495730139, 13548: 7.003065458786462, 13545: 7.9724660159745655, 12748: 4.07753744390572, 12747: 3.367295829986474, 12410: 6.620073206530356, 12482: 6.476972362889683, 13201: 8.476371196895983, 10630: 6.111467339502679, 10652: 6.311734809152915, 10362: 5.299966006793561, 10376: 5.991464547107982, 10377: 6.620073206530356, 10487: 5.003946305945459, 10482: 6.620073206530356, 10006: 5.298317366548036, 10007: 4.605170185988092, 10078: 4.605170185988092, 10296: 6.907755278982137, 10079: 3.912023005428146, 10148: 5.521460917862246, 11036: 5.703782474656201, 11462: 5.634789603169249, 11461: 5.135798437050262, 10556: 6.620073206530356, 10876: 4.605170185988092, 10963: 6.309918278226516, 10962: 7.346010209913293, 14882: 4.07753744390572, 14900: 5.703782474656201, 14912: 5.598421958998375, 15215: 6.907755278982137, 15276: 7.003065458786462, 15279: 6.780149154376991, 15284: 7.003065458786462, 15287: 7.003065458786462, 14593: 3.912023005428146, 14630: 5.298317366548036, 14719: 5.0106352940962555, 14720: 3.912023005428146, 15974: 5.298317366548036, 15970: 5.298317366548036, 15932: 7.003065458786462, 15931: 7.600902459542082, 15929: 7.003065458786462, 15972: 5.298317366548036, 16077: 6.907755278982137, 16070: 5.991464547107982, 15886: 7.824046010856292, 13849: 6.502790045915623, 14176: 3.367295829986474, 12940: 5.0106352940962555, 13676: 5.298317366548036, 13677: 5.298317366548036, 14412: 5.857933154483459, 14413: 6.309918278226516, 14586: 5.991464547107982, 14283: 5.857933154483459, 14370: 5.455321115357702, 14385: 3.912023005428146, 14297: 6.309918278226516, 1412: 7.089243155027514, 1285: 5.0106352940962555, 1309: 5.703782474656201, 806: 5.521460917862246, 81: 5.703782474656201, 1857: 7.313220387090301, 1968: 3.367295829986474, 1892: 5.700443573390686, 18228: 3.367295829986474, 18211: 3.367295829986474, 16621: 5.417477231717294, 22074: 5.0106352940962555, 3932: 7.1693500166706, 3933: 7.649692623711514, 3934: 7.6004023345004, 3935: 7.4377951216719325, 4048: 7.6004023345004, 4019: 5.991464547107982, 3707: 7.313220387090301, 3708: 7.090076835776092, 4354: 7.494986233950533, 4545: 6.994849985833071, 4585: 7.6255950721324535, 4534: 6.621405651764134, 2536: 5.991464547107982, 2623: 4.59511985013459, 2638: 8.699514748210191, 2313: 5.991464547107982, 2901: 5.988961416889864, 3114: 7.495541943884256, 4232: 6.907755278982137, 5663: 7.9420068084898565, 5660: 7.43307534889858, 5655: 7.1631723908466425, 5673: 5.988961416889864, 5664: 7.596392304064196, 5665: 5.988961416889864, 5669: 8.186185994226083, 5243: 7.090076835776092, 5237: 7.600902459542082, 5242: 7.313220387090301, 5241: 7.090076835776092, 5009: 6.907755278982137, 4993: 7.089243155027514, 5307: 6.684611727667927, 5325: 4.605170185988092, 22127: 4.248495242049359, 1734: 5.991464547107982, 2086: 5.703782474656201, 2114: 7.3777589082278725, 13411: 8.157943507105037, 12702: 5.991464547107982, 11984: 5.700443573390686, 11961: 5.298317366548036, 15023: 4.07753744390572, 14884: 5.298317366548036, 7244: 5.991464547107982, 6472: 6.214608098422191, 6247: 6.1092475827643655, 6319: 5.703782474656201, 6545: 6.551080335043404, 6549: 6.214608098422191, 6551: 5.991464547107982, 6555: 6.214608098422191, 6558: 5.991464547107982, 6569: 8.006367567650246, 6571: 7.783224016336037, 10412: 4.605170185988092, 10411: 5.857933154483459, 10711: 5.521460917862246, 8420: 6.309918278226516, 7920: 5.988961416889864, 8108: 5.703782474656201, 8130: 5.443023587547295, 8300: 3.912023005428146, 8470: 5.857933154483459, 9155: 5.298317366548036, 8858: 6.309918278226516, 5607: 6.54965074223381, 5608: 6.212606095751519, 7473: 6.1092475827643655, 6546: 6.551080335043404, 6544: 6.551080335043404, 6536: 6.214608098422191, 7015: 3.367295829986474, 3153: 7.736743682453495, 5018: 8.291797105048733, 14881: 5.298317366548036, 14255: 5.298317366548036, 18322: 5.298317366548036, 18236: 3.367295829986474, 8482: 5.857933154483459, 8249: 5.298317366548036, 8409: 6.745236349484362, 7919: 6.212606095751519, 8027: 5.298317366548036, 8997: 5.703782474656201, 9151: 4.07753744390572, 9457: 5.799092654460526, 17209: 6.173786103901937, 11550: 5.521460917862246, 10281: 5.703782474656201, 10282: 5.703782474656201, 19199: 4.605170185988092, 18274: 5.298317366548036, 20380: 7.696212639346407, 5521: 5.521460917862246, 6250: 6.907755278982137, 4693: 7.495541943884256, 5084: 5.991464547107982, 4681: 6.907755278982137, 5118: 5.991464547107982, 4429: 6.396929655216146, 5019: 8.409830673087738, 5138: 5.991464547107982, 8316: 5.703782474656201, 8490: 6.856461984594587, 8169: 5.517452896464707, 9521: 7.346010209913293, 10237: 5.799092654460526, 9827: 5.703782474656201, 9763: 3.912023005428146, 9776: 3.912023005428146, 9238: 5.857933154483459, 9357: 6.380122536899765, 9358: 6.396929655216146, 9368: 6.214608098422191, 7881: 6.80128303447162, 6547: 6.551080335043404, 6553: 5.991464547107982, 6554: 6.214608098422191, 6559: 6.214608098422191, 6562: 6.214608098422191, 6564: 6.907755278982137, 6565: 6.907755278982137, 6566: 6.907755278982137, 6567: 6.907755278982137, 6568: 6.907755278982137, 6292: 7.090076835776092, 6534: 6.551080335043404, 6543: 6.551080335043404, 6542: 6.551080335043404, 6541: 6.551080335043404, 6540: 6.551080335043404, 6537: 6.214608098422191, 7336: 5.857933154483459, 7256: 5.857933154483459, 7652: 6.907755278982137, 1286: 3.367295829986474, 1704: 7.003065458786462, 19788: 5.0106352940962555, 701: 5.60947179518496, 811: 5.298317366548036, 3790: 6.396929655216146, 4109: 7.1693500166706, 2556: 5.700443573390686, 2115: 5.517452896464707, 10968: 4.382026634673881, 5326: 4.07753744390572, 3099: 7.649692623711514, 17903: 5.298317366548036, 18319: 5.298317366548036, 20660: 7.24422751560335, 19708: 6.856461984594587, 16330: 5.991464547107982, 17383: 6.90875477931522, 20775: 7.047517221357296, 2348: 4.59511985013459, 20319: 3.912023005428146, 1458: 6.54965074223381, 1457: 6.90625415285587, 3304: 4.59511985013459, 3097: 5.991464547107982, 3105: 5.991464547107982, 3374: 5.857933154483459, 2683: 7.089243155027514, 3024: 5.293304824724492, 3078: 5.700443573390686, 6221: 7.27931883541462, 6556: 5.991464547107982, 6535: 6.214608098422191, 8183: 5.988961416889864, 15150: 5.799092654460526, 16185: 8.294049640102028, 15927: 7.003065458786462, 16892: 6.907755278982137, 14276: 4.605170185988092, 13983: 6.907755278982137, 1619: 7.762170607138205, 1238: 7.438383530044307, 20641: 8.242756345714477, 7322: 6.1092475827643655, 7400: 5.703782474656201, 6552: 5.991464547107982, 6548: 6.214608098422191, 6557: 6.214608098422191, 5503: 7.2078598714324755, 11488: 5.521460917862246, 12127: 7.1631723908466425, 12123: 7.596392304064196, 12119: 8.003363058629947, 8170: 9.065314599925925, 8192: 5.298317366548036, 10149: 8.496990484098719, 10301: 5.521460917862246, 9461: 5.857933154483459, 7540: 7.3777589082278725, 8473: 5.857933154483459, 12167: 3.367295829986474, 12121: 7.373374309910049, 14279: 5.700443573390686, 3090: 5.991464547107982, 3998: 6.212606095751519, 6538: 6.214608098422191, 10168: 5.438079308923196, 12122: 7.596392304064196, 19783: 5.298317366548036, 20472: 5.293304824724492, 15362: 3.332204510175204, 16344: 7.7406644019172415, 22098: 2.0794415416798357, 5327: 4.605170185988092, 2825: 4.955827057601261, 4159: 6.483107351457199, 3311: 6.380122536899765, 8574: 3.332204510175204, 12579: 3.332204510175204, 4726: 4.955827057601261, 7148: 3.332204510175204, 6741: 5.910796644040527, 7847: 4.02535169073515, 6099: 6.855408798609928, 6797: 7.003065458786462, 6560: 5.991464547107982, 8190: 7.2078598714324755, 3802: 6.620073206530356, 3779: 6.684611727667927, 3893: 7.313220387090301, 2608: 6.907755278982137, 5751: 8.515391569469609, 20810: 5.521460917862246, 19700: 5.703782474656201, 17103: 5.703782474656201, 15930: 5.958424693029782, 17384: 6.309918278226516, 17264: 5.703782474656201, 19030: 5.703782474656201, 16419: 5.703782474656201, 19825: 5.703782474656201, 3306: 4.59511985013459, 16794: 8.612503371220562, 9367: 6.214608098422191, 9366: 6.214608098422191, 8529: 9.073168073576719, 8901: 3.367295829986474, 21518: 8.242756345714477, 39: 8.794824928014517, 14645: 5.0106352940962555, 9646: 6.214608098422191, 9648: 6.214608098422191, 9649: 6.214608098422191, 9699: 6.214608098422191, 9700: 6.551080335043404, 9701: 6.551080335043404, 9647: 6.214608098422191, 7962: 9.035867930125628, 16687: 5.25227342804663, 20197: 6.1092475827643655, 15003: 3.367295829986474, 16131: 6.86714159609684, 16132: 6.759255270663693, 7504: 4.59511985013459, 929: 7.696667081526462, 1952: 6.212606095751519, 1240: 7.549609165154532, 6106: 6.214608098422191, 557: 5.247024072160486, 2482: 5.700443573390686, 13981: 6.907755278982137, 6561: 6.214608098422191, 6550: 6.214608098422191, 6539: 6.214608098422191, 3375: 5.517452896464707, 4683: 7.047517221357296, 4515: 7.52294091807237, 1263: 5.991464547107982, 14947: 3.367295829986474, 1281: 4.59511985013459, 17023: 8.824677891164198, 8189: 7.2078598714324755, 15928: 7.003065458786462, 15973: 5.298317366548036, 17928: 5.247024072160486, 6563: 6.214608098422191, 11838: 3.8918202981106265, 12289: 7.6004023345004, 12299: 7.782807262839695, 12308: 7.6004023345004, 9365: 6.214608098422191, 10135: 5.247024072160486, 12622: 6.214608098422191, 14915: 6.907755278982137, 18302: 5.703782474656201, 823: 5.298317366548036, 21469: 4.430816798843313, 1361: 8.515391569469609, 19707: 6.856461984594587, 641: 5.153291594497779, 506: 4.605170185988092, 513: 4.61512051684126, 805: 4.61512051684126, 845: 5.241747015059643, 848: 4.890349128221754, 336: 4.976733742420574, 309: 5.153291594497779, 2026: 3.4011973816621555, 2027: 3.4011973816621555, 2009: 3.4011973816621555, 2963: 5.703782474656201, 2949: 5.298317366548036, 2932: 4.605170185988092, 2922: 4.605170185988092, 2856: 5.991464547107982, 1171: 6.903747257584598, 1399: 5.703782474656201, 1860: 6.684611727667927, 20817: 6.173786103901937, 21679: 3.912023005428146, 5393: 5.481471909645883, 5239: 6.684611727667927, 7645: 5.703782474656201, 9100: 3.9318256327243257, 8442: 8.481566013773087, 6460: 6.551080335043404, 6654: 4.248495242049359, 6655: 5.703782474656201, 9114: 3.9318256327243257, 4939: 6.898714534329988, 4177: 7.0909098220799835, 4463: 5.768945800562614, 4189: 7.307202314764738, 4932: 7.090076835776092, 4794: 4.605170185988092, 16370: 5.568344503761097, 16371: 5.755742213586912, 16374: 5.342334251964811, 16395: 5.568344503761097, 16399: 4.852030263919617, 16271: 4.61512051684126, 16273: 4.61512051684126, 16274: 4.61512051684126, 16366: 5.342334251964811, 16279: 4.61512051684126, 16277: 4.61512051684126, 16276: 4.61512051684126, 18023: 5.707110264748875, 18054: 4.61512051684126, 19310: 6.2166061010848646, 19373: 7.0825485693553, 9464: 5.25227342804663, 10244: 4.852030263919617, 12223: 5.153291594497779, 11171: 4.59511985013459, 11355: 5.703782474656201, 4798: 6.966024187106113, 20813: 5.521460917862246, 20819: 5.521460917862246, 18909: 3.367295829986474, 14285: 5.991464547107982, 12680: 4.59511985013459, 11877: 6.476972362889683, 14452: 5.003946305945459, 18785: 5.0106352940962555, 10047: 3.912023005428146, 10548: 5.0106352940962555, 11306: 6.1092475827643655, 10629: 6.684611727667927, 10386: 5.634789603169249, 10688: 6.802394763324311, 8400: 4.605170185988092, 8401: 4.605170185988092, 8369: 5.298317366548036, 8368: 4.382026634673881, 8301: 4.605170185988092, 9342: 6.363028103540465, 8954: 5.991464547107982, 8955: 6.214608098422191, 13048: 4.382026634673881, 13568: 6.396929655216146, 13670: 4.787491742782046, 8078: 3.912023005428146, 8077: 3.912023005428146, 8071: 5.0106352940962555, 8072: 5.298317366548036, 11050: 5.991464547107982, 11903: 5.857933154483459, 11900: 5.991464547107982, 5766: 8.947806093057054, 4639: 7.3777589082278725, 4637: 6.907755278982137, 4636: 6.907755278982137, 4806: 4.605170185988092, 4544: 7.596392304064196, 4633: 7.843848638152472, 4635: 6.907755278982137, 7968: 6.80128303447162, 7972: 7.6004023345004, 5679: 5.517452896464707, 6314: 4.59511985013459, 19121: 5.857933154483459, 18579: 5.298317366548036, 18578: 5.857933154483459, 446: 5.153291594497779, 262: 5.153291594497779, 339: 4.976733742420574, 511: 4.61512051684126, 569: 5.153291594497779, 22056: 5.991464547107982, 633: 5.153291594497779, 692: 5.241747015059643, 865: 5.241747015059643, 827: 5.916202062607435, 21320: 5.825557531582122, 21967: 6.363028103540465, 21725: 3.912023005428146, 21726: 4.605170185988092, 14913: 5.703782474656201, 14887: 7.2078598714324755, 15299: 6.966024187106113, 15300: 6.866933284461882, 14696: 5.991464547107982, 16030: 5.298317366548036, 14300: 4.07753744390572, 14336: 5.0106352940962555, 14054: 4.605170185988092, 15054: 5.517452896464707, 14536: 5.857933154483459, 14542: 4.605170185988092, 17519: 4.605170185988092, 17520: 4.605170185988092, 17219: 6.620073206530356, 17151: 5.991464547107982, 17152: 6.620073206530356, 17521: 4.0943445622221, 15636: 5.560681631015528, 15841: 5.298317366548036, 16642: 6.309918278226516, 16641: 5.857933154483459, 16739: 5.991464547107982, 1501: 7.783224016336037, 1480: 5.991464547107982, 1303: 5.703782474656201, 7970: 7.243512974665482, 1094: 5.991464547107982, 1086: 3.367295829986474, 16770: 3.6635616461296463, 3376: 7.696212639346407, 2466: 5.703782474656201, 14629: 7.24422751560335, 13669: 4.787491742782046, 14265: 4.382026634673881, 13982: 6.907755278982137, 17892: 5.298317366548036, 11460: 4.499809670330265, 9760: 5.19295685089021, 10631: 6.745236349484362, 8613: 5.298317366548036, 7880: 5.988961416889864, 7883: 5.988961416889864, 14455: 4.605170185988092, 12234: 5.241747015059643, 9098: 3.9318256327243257, 9112: 3.9318256327243257, 9117: 3.9318256327243257, 19997: 4.605170185988092, 19998: 4.605170185988092, 20012: 5.204006687076795, 21800: 4.0943445622221, 19393: 5.342334251964811, 18055: 4.61512051684126, 15950: 7.67368812926773, 15988: 5.5254529391317835, 15007: 5.0106352940962555, 15055: 6.214608098422191, 15056: 5.991464547107982, 16377: 5.342334251964811, 16396: 5.342334251964811, 16398: 5.342334251964811, 17587: 5.703782474656201, 8519: 7.237778191923443, 2917: 4.605170185988092, 2927: 4.605170185988092, 2943: 4.605170185988092, 3568: 7.424165281042028, 3855: 4.143134726391533, 3856: 2.8903717578961645, 3857: 3.4965075614664802, 2944: 4.605170185988092, 2994: 7.122059881629142, 2310: 5.135798437050262, 2028: 3.912023005428146, 4025: 2.302585092994046, 4026: 2.302585092994046, 6634: 5.298317366548036, 6697: 4.1588830833596715, 6712: 4.605170185988092, 5394: 3.6888794541139363, 5818: 6.684611727667927, 7746: 5.703782474656201, 6991: 7.600902459542082, 8252: 5.988961416889864, 6249: 8.006367567650246, 10104: 5.991464547107982, 6673: 8.935771938669784, 12438: 5.159055299214529, 13133: 5.521460917862246, 13202: 7.8632667240095735, 10817: 5.991464547107982, 10598: 5.857933154483459, 11749: 5.298317366548036, 2101: 6.856461984594587, 3365: 7.090076835776092, 1415: 7.313220387090301, 5027: 6.212606095751519, 5764: 8.698013622083925, 5267: 5.988961416889864, 5192: 6.745236349484362, 5264: 6.906754778648554, 5221: 7.089243155027514, 21429: 5.991464547107982, 21700: 4.07753744390572, 15301: 6.684861696423135, 15679: 6.620073206530356, 15754: 4.605170185988092, 16228: 6.253828811575473, 15191: 8.881836305004146, 19611: 4.07753744390572, 16867: 3.367295829986474, 17522: 4.605170185988092, 17942: 6.396929655216146, 11051: 5.0106352940962555, 10875: 2.833213344056216, 10105: 5.53338948872752, 16554: 3.912023005428146, 16872: 5.991464547107982, 15302: 6.7912214627261855, 21968: 6.856461984594587, 18145: 7.24422751560335, 10635: 6.478509642208569, 15903: 6.309918278226516, 3419: 5.0106352940962555, 717: 5.0106352940962555, 20941: 3.367295829986474, 4230: 6.212606095751519, 12637: 7.24422751560335, 3301: 4.59511985013459, 14171: 9.465060106725137, 10336: 5.703782474656201, 10156: 8.922658299524402, 10153: 7.1308988302963465, 16639: 5.703782474656201, 17204: 5.703782474656201, 2238: 5.293304824724492, 16319: 7.600652428286873, 21680: 4.605170185988092, 6054: 6.476972362889683, 13385: 5.703782474656201, 18426: 4.07753744390572, 13373: 5.703782474656201, 15560: 5.703782474656201, 3395: 7.243512974665482, 4784: 6.214608098422191, 2268: 7.438383530044307, 817: 4.605170185988092, 3290: 6.1092475827643655, 21790: 7.438383530044307, 1748: 6.745236349484362, 4319: 6.396929655216146, 3125: 7.3777589082278725, 2211: 6.54965074223381, 14762: 6.1092475827643655, 14735: 5.991464547107982, 14845: 5.298317366548036, 15868: 8.131530710604252, 15993: 6.214608098422191, 14268: 5.703782474656201, 14713: 5.0106352940962555, 16530: 6.309918278226516, 16555: 3.912023005428146, 16556: 4.605170185988092, 16444: 4.605170185988092, 16445: 4.248495242049359, 16446: 5.703782474656201, 16447: 4.07753744390572, 16503: 4.605170185988092, 16113: 7.3777589082278725, 16112: 7.549609165154532, 16083: 6.1092475827643655, 16090: 6.1092475827643655, 15799: 5.298317366548036, 10702: 5.521460917862246, 10498: 6.620073206530356, 10499: 6.956545443151569, 10500: 6.214608098422191, 11559: 5.231108616854587, 11561: 5.521460917862246, 11233: 5.857933154483459, 11234: 6.087229169092361, 11127: 5.298317366548036, 10497: 5.598421958998375, 13552: 7.313220387090301, 13932: 4.382026634673881, 14178: 5.703782474656201, 12720: 5.991464547107982, 13066: 5.298317366548036, 11896: 6.309918278226516, 11901: 7.313220387090301, 11902: 6.131226489483141, 11968: 5.0106352940962555, 12287: 7.494986233950533, 22142: 6.620073206530356, 934: 4.248495242049359, 935: 5.298317366548036, 1497: 7.090076835776092, 19617: 5.991464547107982, 19618: 5.298317366548036, 17833: 5.521460917862246, 17855: 5.598421958998375, 17569: 6.214608098422191, 17568: 5.560681631015528, 17425: 3.367295829986474, 17523: 4.605170185988092, 17856: 6.309918278226516, 18277: 4.07753744390572, 18551: 5.991464547107982, 17941: 5.857933154483459, 19752: 4.248495242049359, 20712: 7.090076835776092, 21662: 5.857933154483459, 21663: 6.309918278226516, 19753: 7.24422751560335, 19754: 5.700443573390686, 4360: 7.696212639346407, 4471: 6.212606095751519, 3835: 7.696212639346407, 3929: 5.703782474656201, 5240: 6.684611727667927, 4877: 4.941642422609304, 4728: 5.521460917862246, 4557: 6.1092475827643655, 4634: 7.3777589082278725, 2354: 5.293304824724492, 3385: 5.703782474656201, 3425: 5.988961416889864, 3393: 7.696212639346407, 7530: 5.634789603169249, 7531: 5.298317366548036, 7252: 6.214608098422191, 7075: 7.313220387090301, 7003: 5.703782474656201, 7004: 5.703782474656201, 7005: 6.907755278982137, 7007: 6.907755278982137, 9862: 4.605170185988092, 10192: 5.521460917862246, 9146: 5.517452896464707, 9147: 5.700443573390686, 8037: 7.24422751560335, 8637: 5.703782474656201, 5634: 8.098946748943339, 6476: 5.521460917862246, 11893: 5.135798437050262, 11761: 4.382026634673881, 11734: 4.605170185988092, 13739: 5.799092654460526, 12715: 5.703782474656201, 12707: 6.214608098422191, 9048: 5.135798437050262, 9864: 4.382026634673881, 9575: 5.0106352940962555, 8382: 5.991464547107982, 8304: 5.003946305945459, 8639: 5.703782474656201, 10840: 5.0106352940962555, 10877: 2.833213344056216, 10998: 5.135798437050262, 10694: 5.703782474656201, 16529: 5.857933154483459, 16903: 5.991464547107982, 19283: 5.521460917862246, 17255: 3.367295829986474, 14606: 4.382026634673881, 15866: 7.170119543449628, 15522: 5.521460917862246, 15325: 6.802394763324311, 15151: 5.703782474656201, 14714: 4.382026634673881, 14715: 5.0106352940962555, 4362: 7.696212639346407, 11563: 3.367295829986474, 11128: 5.636003152234911, 12319: 5.135798437050262, 12378: 3.367295829986474, 13184: 5.703782474656201, 12708: 5.991464547107982, 12098: 3.367295829986474, 10221: 5.703782474656201, 9576: 5.0106352940962555, 9990: 4.382026634673881, 14921: 5.0106352940962555, 15894: 8.974492714146654, 16086: 6.1092475827643655, 16059: 6.214608098422191, 14065: 5.135798437050262, 14298: 5.0106352940962555, 14299: 3.912023005428146, 14282: 5.517452896464707, 5120: 5.991464547107982, 4638: 7.24422751560335, 4663: 4.07753744390572, 4704: 5.703782474656201, 5762: 8.128880142125638, 5066: 5.703782474656201, 3862: 4.941642422609304, 4361: 7.377133712833954, 4357: 5.991464547107982, 8638: 5.991464547107982, 8817: 6.684611727667927, 8512: 5.521460917862246, 10594: 5.703782474656201, 1194: 5.521460917862246, 21485: 5.799092654460526, 16847: 5.857933154483459, 18953: 3.367295829986474, 17202: 4.248495242049359, 18518: 7.549609165154532, 18561: 5.0106352940962555, 18832: 3.912023005428146, 18941: 5.0106352940962555, 17927: 3.367295829986474, 17936: 5.703782474656201, 19764: 4.382026634673881, 19885: 5.703782474656201, 19069: 5.0106352940962555, 16470: 4.382026634673881, 15610: 4.382026634673881, 16401: 4.382026634673881, 17124: 5.0106352940962555, 17320: 4.07753744390572, 2355: 5.988961416889864, 2356: 6.212606095751519, 20128: 5.0106352940962555, 20201: 5.857933154483459, 20210: 5.298317366548036, 22133: 4.382026634673881, 22141: 5.991464547107982, 13812: 4.605170185988092, 14339: 5.0106352940962555, 12025: 4.605170185988092, 12412: 4.382026634673881, 13178: 7.313220387090301, 16084: 6.1092475827643655, 16085: 6.1092475827643655, 16087: 5.885548321516433, 16089: 6.1092475827643655, 15189: 5.703782474656201, 14909: 4.382026634673881, 8298: 5.0106352940962555, 10749: 5.0106352940962555, 11467: 4.59511985013459, 9858: 5.0106352940962555, 10220: 5.703782474656201, 10224: 5.703782474656201, 1673: 6.1092475827643655, 17746: 7.313220387090301, 16842: 7.313220387090301, 20715: 7.090076835776092, 15943: 7.600902459542082, 18006: 5.0106352940962555, 18760: 5.135798437050262, 18531: 5.008633291425583, 16949: 4.248495242049359, 16524: 4.382026634673881, 21851: 5.0106352940962555, 21852: 4.382026634673881, 1062: 6.396929655216146, 21869: 5.0106352940962555, 19128: 5.0106352940962555, 20022: 8.294049640102028, 1822: 3.367295829986474, 7486: 6.1092475827643655, 1104: 5.003946305945459, 20774: 6.214608098422191, 10617: 6.536691597591305, 5816: 7.090076835776092, 3648: 4.07753744390572, 4359: 6.906754778648554, 2911: 6.212606095751519, 2778: 4.605170185988092, 4672: 4.07753744390572, 4673: 4.07753744390572, 5252: 6.54965074223381, 985: 4.382026634673881, 10964: 4.605170185988092, 6061: 3.332204510175204, 3180: 4.543294782270004, 5619: 6.977281341630747, 6232: 5.521460917862246, 16114: 6.626320319290823, 15625: 4.382026634673881, 2411: 10.085434038999999, 13396: 8.85352256068954, 2248: 5.988961416889864, 5741: 3.367295829986474, 7478: 6.1092475827643655, 175: 5.521460917862246, 17298: 5.247024072160486, 170: 5.521460917862246, 3694: 5.159055299214529, 6893: 5.988961416889864, 8758: 5.135798437050262, 14761: 6.54965074223381, 19183: 5.703782474656201, 2457: 5.703782474656201, 18178: 5.003946305945459, 13470: 8.630343289348893, 7332: 5.298317366548036, 1063: 6.396929655216146, 1711: 7.003065458786462, 7027: 4.59511985013459, 17000: 5.0106352940962555, 16027: 7.783224016336037, 11787: 4.382026634673881, 4616: 8.546751993657782, 5701: 7.581209826196346, 19833: 3.912023005428146, 1709: 6.620073206530356, 1706: 6.396929655216146, 1702: 6.396929655216146, 1705: 6.396929655216146, 1691: 6.396929655216146, 1692: 6.396929655216146, 1693: 7.003065458786462, 1694: 7.003065458786462, 1695: 7.003065458786462, 1696: 7.003065458786462, 1698: 7.003065458786462, 1700: 6.396929655216146, 14269: 5.0106352940962555, 8422: 4.248495242049359, 4916: 7.438383530044307, 19286: 5.799092654460526, 8806: 3.367295829986474, 13366: 5.703782474656201, 10614: 6.551080335043404, 10814: 5.135798437050262, 17321: 5.003946305945459, 12494: 3.367295829986474, 12290: 7.494986233950533, 14716: 3.912023005428146, 2095: 6.802394763324311, 12032: 4.382026634673881, 9920: 4.382026634673881, 18126: 5.0106352940962555, 19701: 5.857933154483459, 14614: 6.3818160174060985, 7981: 5.988961416889864, 16225: 8.160518247477505, 16224: 8.242756345714477, 16223: 6.907755278982137, 16222: 6.907755278982137, 14897: 5.703782474656201, 10613: 6.396929655216146, 12043: 6.907755278982137, 21770: 5.799092654460526, 528: 6.8885724595653635, 120: 4.74493212836325, 112: 5.153291594497779, 164: 4.74493212836325, 338: 4.976733742420574, 2265: 6.907755278982137, 2051: 5.0106352940962555, 2938: 4.605170185988092, 2935: 4.605170185988092, 3860: 4.61512051684126, 2950: 4.605170185988092, 3671: 5.703782474656201, 821: 4.919980925828125, 768: 4.919980925828125, 776: 5.153291594497779, 780: 4.919980925828125, 1367: 6.174202683787152, 853: 4.890349128221754, 859: 5.241747015059643, 19855: 3.367295829986474, 7008: 5.703782474656201, 9533: 5.966146739123692, 9534: 6.194405391104672, 6977: 5.703782474656201, 4878: 4.61512051684126, 4255: 5.298317366548036, 4256: 4.605170185988092, 6435: 6.361302477572996, 6423: 5.481471909645883, 6686: 6.396929655216146, 6151: 5.298317366548036, 4948: 6.898714534329988, 4940: 7.596392304064196, 21486: 5.351858133476067, 12235: 5.241747015059643, 19325: 4.919980925828125, 20009: 5.703782474656201, 19328: 4.919980925828125, 17613: 4.248495242049359, 21849: 5.0106352940962555, 20290: 4.382026634673881, 16504: 3.367295829986474, 15869: 8.34283980427146, 12044: 6.396929655216146, 18958: 5.991464547107982, 19050: 6.476972362889683, 19086: 4.2626798770413155, 18957: 5.768320995793772, 18286: 5.298317366548036, 18836: 3.912023005428146, 18945: 5.0106352940962555, 22143: 5.857933154483459, 22144: 7.313220387090301, 22145: 5.298317366548036, 22050: 4.07753744390572, 21703: 5.991464547107982, 21863: 6.131226489483141, 21864: 6.1092475827643655, 14147: 5.703782474656201, 13888: 5.991464547107982, 14482: 5.80679022473043, 14435: 5.298317366548036, 12445: 6.396929655216146, 12398: 5.298317366548036, 12397: 3.367295829986474, 13491: 9.615205300012315, 12742: 4.605170185988092, 16603: 5.991464547107982, 16604: 5.703782474656201, 17441: 5.0106352940962555, 16118: 6.492239835020471, 16175: 6.551080335043404, 10550: 5.991464547107982, 10557: 3.367295829986474, 10455: 4.605170185988092, 10456: 5.135798437050262, 11489: 3.912023005428146, 11490: 4.605170185988092, 8450: 7.6004023345004, 8415: 5.857933154483459, 10388: 5.438079308923196, 9863: 5.298317366548036, 13948: 5.135798437050262, 12358: 5.0106352940962555, 8101: 6.620073206530356, 8100: 5.991464547107982, 8060: 8.070906088787819, 3928: 7.7406644019172415, 3832: 7.170119543449628, 4836: 7.600902459542082, 2687: 6.906754778648554, 2688: 6.906754778648554, 2689: 7.089243155027514, 2690: 7.243512974665482, 2691: 8.699514748210191, 2470: 5.703782474656201, 1762: 5.298317366548036, 6866: 3.332204510175204, 7006: 7.090076835776092, 7018: 6.907755278982137, 7021: 8.556221578383715, 6687: 5.703782474656201, 6689: 7.090076835776092, 6690: 6.531198276021181, 6691: 7.3395376954076745, 6693: 8.006367567650246, 7062: 4.442651256490317, 7063: 4.442651256490317, 5308: 5.703782474656201, 5271: 7.090076835776092, 6085: 7.495541943884256, 6413: 4.356708826689592, 1759: 5.703782474656201, 4470: 6.684611727667927, 8059: 7.78372805595339, 13623: 5.298317366548036, 18133: 4.382026634673881, 15678: 5.991464547107982, 8671: 5.298317366548036, 8000: 7.495541943884256, 11480: 5.0106352940962555, 11146: 4.605170185988092, 10615: 6.396929655216146, 4628: 5.857933154483459, 4837: 5.700443573390686, 4821: 4.07753744390572, 4835: 6.54965074223381, 5270: 7.090076835776092, 6900: 6.54965074223381, 7314: 5.703782474656201, 6422: 3.2526973733437115, 6692: 7.494986233950533, 5309: 7.047517221357296, 2523: 7.1308988302963465, 4123: 5.298317366548036, 19660: 5.991464547107982, 18593: 5.0106352940962555, 18833: 3.912023005428146, 20124: 5.857933154483459, 1061: 6.396929655216146, 13432: 8.73214326770192, 14284: 4.59511985013459, 12187: 6.309918278226516, 16287: 5.298317366548036, 17977: 5.521460917862246, 16074: 6.684611727667927, 14854: 5.703782474656201, 3106: 6.683360945766275, 18431: 5.799092654460526, 16302: 3.332204510175204, 16795: 5.799092654460526, 1364: 5.293304824724492, 16681: 6.620073206530356, 19845: 5.298317366548036, 20529: 7.3777589082278725, 9929: 3.367295829986474, 10099: 5.298317366548036, 9845: 4.605170185988092, 8596: 6.620073206530356, 8754: 5.0106352940962555, 8755: 5.700443573390686, 8756: 6.620073206530356, 8001: 7.8632667240095735, 17882: 5.135798437050262, 17405: 5.0106352940962555, 16614: 4.59511985013459, 16680: 4.59511985013459, 20125: 5.298317366548036, 20531: 7.3777589082278725, 19021: 5.991464547107982, 14027: 5.857933154483459, 13467: 8.92252495730139, 13420: 9.072341873818893, 16362: 5.799092654460526, 16249: 6.802394763324311, 15221: 7.313220387090301, 15229: 7.313220387090301, 8449: 7.6004023345004, 3896: 5.857933154483459, 4710: 6.1092475827643655, 21879: 5.703782474656201, 494: 5.942799375126701, 2692: 7.914405775733105, 2914: 6.551080335043404, 17584: 5.988961416889864, 17900: 5.857933154483459, 5640: 5.988961416889864, 6270: 4.07753744390572, 20274: 3.912023005428146, 16876: 5.991464547107982, 16006: 5.886104031450156, 18917: 5.991464547107982, 18986: 5.0106352940962555, 20530: 6.802394763324311, 4689: 7.313220387090301, 3083: 7.3777589082278725, 9841: 4.382026634673881, 10098: 5.298317366548036, 16690: 5.521460917862246, 7274: 5.857933154483459, 10760: 5.991464547107982, 11755: 5.0106352940962555, 11118: 5.0106352940962555, 10101: 5.298317366548036, 10312: 3.367295829986474, 14587: 5.0106352940962555, 15234: 7.313220387090301, 2893: 6.551080335043404, 2898: 6.551080335043404, 2902: 6.551080335043404, 2909: 6.551080335043404, 7671: 7.346010209913293, 8310: 3.367295829986474, 8682: 4.605170185988092, 5962: 6.551080335043404, 6299: 6.54965074223381, 6256: 7.600902459542082, 21574: 5.703782474656201, 20275: 3.912023005428146, 20714: 8.34283980427146, 22023: 4.382026634673881, 21992: 6.396929655216146, 125: 4.74493212836325, 260: 5.241747015059643, 307: 4.74493212836325, 344: 5.37989735354046, 343: 5.37989735354046, 345: 4.976733742420574, 400: 5.153291594497779, 416: 4.976733742420574, 434: 5.153291594497779, 334: 4.976733742420574, 21431: 5.991464547107982, 18185: 5.703782474656201, 18425: 5.799092654460526, 17940: 4.605170185988092, 19963: 7.495541943884256, 8500: 5.5254529391317835, 8554: 4.59511985013459, 9279: 4.852030263919617, 9120: 3.9318256327243257, 7915: 7.438383530044307, 6688: 6.396929655216146, 6757: 4.852030263919617, 6176: 6.656726524178391, 6969: 6.214608098422191, 7107: 5.703782474656201, 7236: 5.298317366548036, 15949: 6.68586094706836, 15957: 7.409136443920128, 16278: 4.61512051684126, 16379: 5.568344503761097, 19351: 4.852030263919617, 19385: 4.852030263919617, 20326: 4.852030263919617, 1169: 7.465082736399547, 1173: 6.898714534329988, 1365: 5.634789603169249, 1951: 5.521460917862246, 1366: 6.396929655216146, 493: 5.5254529391317835, 536: 7.438971592395862, 572: 5.153291594497779, 624: 5.153291594497779, 679: 5.153291594497779, 682: 5.153291594497779, 688: 5.60947179518496, 4254: 5.857933154483459, 4459: 6.903747257584598, 5365: 7.916078096302786, 5717: 7.3783837129967145, 5561: 5.673323267171493, 2942: 4.605170185988092, 3357: 5.298317366548036, 3358: 5.703782474656201, 13938: 5.003946305945459, 13986: 5.700443573390686, 13181: 8.131530710604252, 12420: 5.003946305945459, 12427: 5.703782474656201, 11719: 4.382026634673881, 18184: 5.703782474656201, 14834: 5.298317366548036, 4692: 6.551080335043404, 8374: 7.003065458786462, 9219: 5.703782474656201, 7885: 6.54965074223381, 6334: 6.856461984594587, 6847: 5.703782474656201, 7676: 6.54965074223381, 1325: 6.1092475827643655, 16618: 5.298317366548036, 21522: 4.07753744390572, 22169: 8.37793112408273, 19923: 9.121509158269568, 12847: 5.703782474656201, 10717: 4.605170185988092, 2894: 6.551080335043404, 1155: 8.698013622083925, 820: 4.605170185988092, 826: 5.703782474656201, 905: 3.8501476017100584, 13363: 5.703782474656201, 460: 5.521460917862246, 9702: 6.214608098422191, 1662: 6.856461984594587, 392: 5.521460917862246, 3310: 5.293304824724492, 9226: 5.703782474656201, 11878: 6.907755278982137, 14787: 5.135798437050262, 5028: 5.988961416889864, 7964: 7.377133712833954, 135: 5.5254529391317835, 15051: 7.649692623711514, 20659: 7.1308988302963465, 21853: 4.382026634673881, 10646: 5.993961427306569, 14977: 5.703782474656201, 22008: 5.0106352940962555, 22007: 5.0106352940962555, 62: 5.703782474656201, 17053: 5.0106352940962555, 17716: 7.3777589082278725, 15295: 7.8632667240095735, 796: 9.04793908261736, 12339: 6.214608098422191, 8305: 3.367295829986474, 12324: 5.480638923341991, 21576: 7.3777589082278725, 21897: 5.0106352940962555, 7434: 5.988961416889864, 19296: 4.02535169073515, 19919: 4.48863636973214, 12367: 3.332204510175204, 22084: 3.332204510175204, 3526: 3.332204510175204, 3699: 6.182084906716632, 1447: 4.02535169073515, 1532: 7.1808311990445555, 1806: 4.955827057601261, 7848: 4.543294782270004, 7046: 5.4680601411351315, 6880: 5.262690188904886, 8430: 3.332204510175204, 5852: 5.910796644040527, 5854: 6.361302477572996, 6181: 4.174387269895637, 19300: 6.907755278982137, 15879: 7.600902459542082, 10940: 6.54965074223381, 11825: 6.907755278982137, 7240: 9.811427086686914, 18446: 5.298317366548036, 18553: 5.0106352940962555, 18552: 5.0106352940962555, 19023: 5.003946305945459, 19005: 5.135798437050262, 18843: 4.605170185988092, 16557: 5.0106352940962555, 16700: 5.940171252720432, 16699: 6.620073206530356, 15842: 6.309918278226516, 17326: 5.857933154483459, 17804: 5.0106352940962555, 17510: 5.857933154483459, 16888: 3.912023005428146, 16858: 4.07753744390572, 17583: 6.684611727667927, 16748: 4.382026634673881, 20242: 5.0106352940962555, 20735: 6.214608098422191, 20734: 6.214608098422191, 20733: 5.991464547107982, 20651: 7.313220387090301, 20650: 6.802394763324311, 20649: 6.802394763324311, 20632: 7.783224016336037, 20652: 7.313220387090301, 20732: 5.991464547107982, 20731: 6.214608098422191, 20730: 6.214608098422191, 20684: 7.549609165154532, 20681: 7.673223121121708, 20667: 7.549609165154532, 20663: 7.090076835776092, 21404: 5.135798437050262, 21403: 6.684611727667927, 21402: 7.313220387090301, 21385: 7.090076835776092, 21384: 5.598421958998375, 21383: 6.214608098422191, 21382: 7.3777589082278725, 21381: 7.313220387090301, 19692: 5.135798437050262, 19686: 5.991464547107982, 19644: 6.309918278226516, 19613: 3.912023005428146, 19068: 4.499809670330265, 19578: 5.293304824724492, 20478: 7.600902459542082, 20367: 7.549609165154532, 20366: 7.549609165154532, 20361: 7.495541943884256, 20532: 7.90100705199242, 20533: 7.313220387090301, 13829: 5.857933154483459, 13787: 5.857933154483459, 13860: 5.298317366548036, 13859: 5.438079308923196, 13625: 5.298317366548036, 13624: 5.298317366548036, 13622: 5.298317366548036, 12762: 5.298317366548036, 14267: 5.438079308923196, 14392: 5.703782474656201, 14391: 4.2626798770413155, 11923: 7.090076835776092, 11925: 6.309918278226516, 11570: 5.991464547107982, 11571: 5.703782474656201, 13395: 8.424858580213442, 16115: 6.492239835020471, 16117: 6.492239835020471, 16002: 6.946783665949615, 16025: 8.006367567650246, 15631: 5.703782474656201, 15616: 6.214608098422191, 15615: 5.991464547107982, 15632: 6.551080335043404, 15278: 7.003065458786462, 15275: 7.549609165154532, 3487: 7.549609165154532, 3840: 7.170119543449628, 2815: 7.782807262839695, 2814: 6.802394763324311, 3424: 7.090076835776092, 3251: 3.367295829986474, 3115: 5.857933154483459, 3181: 7.090076835776092, 3092: 7.495541943884256, 4391: 6.212606095751519, 580: 5.0106352940962555, 1075: 5.135798437050262, 950: 6.907755278982137, 19395: 5.342334251964811, 19425: 6.398594934535208, 19510: 4.499809670330265, 20956: 4.0943445622221, 20011: 5.342334251964811, 20010: 5.342334251964811, 21978: 5.017279836814924, 1377: 7.170119543449628, 2685: 6.684611727667927, 1306: 5.703782474656201, 10395: 4.605170185988092, 9814: 6.620073206530356, 9786: 5.135798437050262, 11920: 8.294049640102028, 11242: 4.605170185988092, 10718: 4.4343818650078095, 10971: 4.605170185988092, 6309: 7.046647277848756, 6332: 4.07753744390572, 8416: 5.298317366548036, 7019: 7.090076835776092, 2686: 6.684611727667927, 3025: 7.495541943884256, 2985: 5.298317366548036, 2945: 5.703782474656201, 2933: 4.605170185988092, 2372: 4.852030263919617, 1863: 6.396929655216146, 2336: 5.521460917862246, 2335: 5.521460917862246, 2029: 3.912023005428146, 22047: 4.605170185988092, 22071: 4.07753744390572, 21520: 6.620073206530356, 21714: 5.991464547107982, 21713: 5.298317366548036, 1: 8.409830673087738, 623: 5.153291594497779, 598: 5.153291594497779, 589: 5.153291594497779, 678: 5.153291594497779, 754: 5.153291594497779, 718: 5.153291594497779, 266: 4.976733742420574, 122: 4.330733340286331, 104: 8.497194544909547, 9128: 3.9318256327243257, 9123: 3.9318256327243257, 7816: 8.757469141470748, 7788: 6.684611727667927, 7786: 7.090076835776092, 7747: 5.703782474656201, 7742: 6.1092475827643655, 9218: 5.170483995038151, 16252: 5.5254529391317835, 15961: 6.90875477931522, 15948: 7.496097345175956, 13342: 5.017279836814924, 12236: 5.241747015059643, 4200: 5.707110264748875, 4454: 7.1631723908466425, 3191: 5.568344503761097, 7084: 3.258096538021482, 6927: 6.214608098422191, 5715: 7.155396301896734, 5390: 7.930565854233965, 5381: 8.200013648175434, 5375: 9.43914785291483, 5370: 7.9483852851118995, 4943: 7.596392304064196, 4915: 6.19644412779452, 18147: 5.135798437050262, 15994: 6.214608098422191, 11547: 5.521460917862246, 11546: 5.521460917862246, 10959: 5.991464547107982, 1328: 7.718685495198466, 1322: 5.703782474656201, 1208: 7.313220387090301, 1287: 4.605170185988092, 1116: 5.991464547107982, 1077: 5.703782474656201, 1076: 6.551080335043404, 967: 5.703782474656201, 951: 6.802394763324311, 949: 5.703782474656201, 948: 5.703782474656201, 3489: 7.313220387090301, 9512: 3.912023005428146, 9148: 4.605170185988092, 9012: 5.991464547107982, 7428: 6.1092475827643655, 7741: 5.703782474656201, 4641: 5.703782474656201, 4395: 7.6004023345004, 4717: 5.703782474656201, 8038: 6.684611727667927, 8117: 8.612503371220562, 6625: 6.907755278982137, 6804: 7.346010209913293, 6333: 5.799092654460526, 6328: 5.703782474656201, 6570: 7.362645270417825, 6810: 7.346010209913293, 6815: 7.24422751560335, 7022: 8.987071812848821, 10666: 5.993961427306569, 10472: 5.703782474656201, 11402: 7.2078598714324755, 11243: 3.912023005428146, 8672: 5.135798437050262, 9227: 5.703782474656201, 9892: 5.857933154483459, 10027: 7.600902459542082, 3488: 7.313220387090301, 5351: 4.07753744390572, 5677: 6.212606095751519, 4394: 7.377133712833954, 4396: 7.649216319820633, 9893: 6.309918278226516, 20432: 7.7406644019172415, 20091: 5.135798437050262, 7366: 5.857933154483459, 8761: 3.367295829986474, 18401: 5.298317366548036, 21860: 6.1092475827643655, 21855: 6.1092475827643655, 15575: 8.909235279192261, 19024: 5.517452896464707, 3500: 7.170119543449628, 16490: 5.857933154483459, 16356: 5.298317366548036, 13830: 6.309918278226516, 14237: 5.703782474656201, 16960: 4.605170185988092, 9513: 3.912023005428146, 10333: 5.703782474656201, 19511: 5.703782474656201, 2537: 7.438383530044307, 14189: 5.857933154483459, 18208: 5.703782474656201, 11924: 8.242756345714477, 9154: 5.703782474656201, 9881: 5.298317366548036, 9876: 5.298317366548036, 4393: 6.54965074223381, 4973: 7.3777589082278725, 4970: 5.293304824724492, 4650: 6.54965074223381, 3833: 7.170119543449628, 3539: 5.988961416889864, 3957: 7.549609165154532, 6914: 5.988961416889864, 5310: 7.313220387090301, 5366: 7.596392304064196, 6016: 5.293304824724492, 12204: 5.857933154483459, 15035: 6.19644412779452, 13378: 5.703782474656201, 19614: 3.912023005428146, 19581: 5.003946305945459, 15637: 4.605170185988092, 15612: 5.003946305945459, 17572: 4.382026634673881, 18952: 5.0106352940962555, 19631: 5.0106352940962555, 604: 4.07753744390572, 298: 5.521460917862246, 18583: 5.703782474656201, 10521: 6.54965074223381, 16889: 3.912023005428146, 3677: 6.684861696423135, 16341: 7.7406644019172415, 17678: 8.006367567650246, 20756: 5.988961416889864, 19706: 5.857933154483459, 19032: 6.309918278226516, 19580: 5.517452896464707, 20414: 8.678291111758565, 15895: 7.24422751560335, 19003: 4.499809670330265, 21836: 7.313220387090301, 18781: 4.605170185988092, 21859: 6.620073206530356, 21854: 6.620073206530356, 9628: 6.214608098422191, 17153: 5.0106352940962555, 15752: 5.298317366548036, 15581: 7.649692623711514, 8949: 5.298317366548036, 8851: 6.214608098422191, 9062: 5.810152480607201, 13451: 9.249464926660233, 22125: 4.110873864173311, 2085: 5.988961416889864, 2655: 6.54965074223381, 8360: 6.54965074223381, 12489: 7.346010209913293, 15573: 7.438383530044307, 8995: 5.703782474656201, 2654: 5.988961416889864, 16342: 7.7406644019172415, 14704: 3.367295829986474, 14543: 5.298317366548036, 18629: 6.396929655216146, 2506: 5.293304824724492, 20683: 7.549609165154532, 21886: 5.857933154483459, 9009: 5.991464547107982, 13386: 5.703782474656201, 21693: 3.367295829986474, 9159: 5.991464547107982, 13106: 7.003065458786462, 8728: 5.703782474656201, 17671: 7.24422751560335, 20835: 9.615805480084347, 12159: 4.07753744390572, 20281: 5.0106352940962555, 14194: 5.703782474656201, 18012: 5.857933154483459, 8247: 5.0106352940962555, 3783: 3.367295829986474, 14914: 5.0106352940962555, 16346: 7.7406644019172415, 15853: 9.159047077588632, 10612: 7.170119543449628, 19031: 5.857933154483459, 21835: 7.090076835776092, 20223: 5.634789603169249, 20884: 6.907755278982137, 19894: 5.298317366548036, 20017: 5.700443573390686, 19893: 6.1092475827643655, 1019: 5.703782474656201, 1014: 5.703782474656201, 1134: 7.24422751560335, 77: 5.0106352940962555, 76: 5.703782474656201, 18835: 5.0106352940962555, 18110: 5.857933154483459, 17891: 5.521460917862246, 17890: 4.382026634673881, 17445: 5.991464547107982, 17889: 6.856461984594587, 18430: 5.298317366548036, 18523: 6.684611727667927, 15844: 5.991464547107982, 17225: 5.438079308923196, 17233: 5.293304824724492, 17234: 5.700443573390686, 17661: 8.006367567650246, 17656: 8.006367567650246, 2733: 6.214608098422191, 3364: 7.090076835776092, 1803: 5.517452896464707, 1496: 6.802394763324311, 2196: 5.703782474656201, 2443: 7.090076835776092, 1988: 7.170119543449628, 2047: 3.367295829986474, 2049: 6.212606095751519, 2050: 6.54965074223381, 1033: 5.703782474656201, 3692: 7.170119543449628, 1727: 5.521460917862246, 20874: 4.59511985013459, 21777: 7.243798852311796, 7836: 7.3777589082278725, 7837: 8.006367567650246, 7838: 7.3777589082278725, 7834: 6.684611727667927, 7713: 5.703782474656201, 7806: 6.802394763324311, 7807: 7.824046010856292, 7808: 7.495541943884256, 7805: 5.988585406357139, 7798: 7.243512974665482, 7799: 7.6004023345004, 7800: 7.649216319820633, 7801: 7.6004023345004, 7797: 7.494986233950533, 7790: 6.684611727667927, 7794: 6.684611727667927, 7795: 7.6004023345004, 7796: 7.937017489515453, 10768: 5.857933154483459, 10784: 6.214608098422191, 11603: 3.367295829986474, 12493: 4.382026634673881, 11890: 5.991464547107982, 9478: 3.367295829986474, 9532: 5.991464547107982, 10100: 5.703782474656201, 10020: 5.0106352940962555, 10502: 5.438079308923196, 4872: 7.313220387090301, 3971: 5.703782474656201, 4086: 5.521460917862246, 6926: 5.298317366548036, 12052: 5.703782474656201, 13151: 5.293304824724492, 13159: 5.703782474656201, 12730: 7.307202314764738, 13397: 9.209439966733019, 13690: 6.396929655216146, 8614: 5.703782474656201, 7975: 7.243512974665482, 17857: 4.605170185988092, 17814: 5.991464547107982, 18453: 4.605170185988092, 19496: 5.298317366548036, 15893: 7.24422751560335, 7879: 8.213652703029998, 5557: 7.307202314764738, 5657: 8.646641258603124, 3989: 6.309918278226516, 7142: 7.377133712833954, 6929: 7.8632667240095735, 6930: 7.3920870188422025, 6928: 7.313220387090301, 7266: 5.703782474656201, 7307: 5.703782474656201, 7326: 5.703782474656201, 4225: 4.59511985013459, 3777: 5.857933154483459, 3972: 7.408530566894626, 3287: 7.843848638152472, 4974: 7.52294091807237, 4976: 7.346010209913293, 13606: 5.799092654460526, 13144: 4.07753744390572, 11431: 4.07753744390572, 18487: 5.703782474656201, 1288: 4.59511985013459, 1663: 7.575584651557793, 20224: 6.214608098422191, 1024: 5.700443573390686, 15905: 8.699681400989514, 15468: 6.309918278226516, 19498: 5.298317366548036, 19502: 6.684611727667927, 19506: 6.684611727667927, 19088: 3.367295829986474, 19039: 7.649692623711514, 19013: 3.367295829986474, 20442: 5.988961416889864, 20057: 5.857933154483459, 17340: 3.367295829986474, 17446: 6.214608098422191, 17495: 5.703782474656201, 17091: 5.991464547107982, 18736: 5.298317366548036, 18205: 5.799092654460526, 9341: 5.517452896464707, 8875: 7.649692623711514, 10021: 5.299966006793561, 13549: 6.214608098422191, 13612: 6.396929655216146, 13135: 5.521460917862246, 13136: 5.521460917862246, 13683: 6.396929655216146, 13687: 7.495541943884256, 11432: 5.799092654460526, 10769: 6.309918278226516, 16560: 4.07753744390572, 18233: 5.703782474656201, 18280: 5.298317366548036, 18500: 5.0106352940962555, 15601: 4.382026634673881, 1190: 8.387312270561717, 3770: 6.856461984594587, 7351: 5.703782474656201, 1020: 5.003946305945459, 20914: 6.212606095751519, 20915: 7.6004023345004, 5589: 3.367295829986474, 13679: 6.396929655216146, 19124: 5.0106352940962555, 15602: 5.303304908059076, 17816: 6.309918278226516, 3063: 4.02535169073515, 3674: 5.159055299214529, 3142: 10.332213354218844, 8885: 5.25227342804663, 4401: 5.521460917862246, 16343: 7.7406644019172415, 16348: 8.411832675758411, 1012: 4.59511985013459, 3006: 7.544861068658458, 6223: 7.24422751560335, 6224: 7.24422751560335, 3986: 6.309918278226516, 11579: 5.703782474656201, 9925: 5.703782474656201, 17931: 5.703782474656201, 14327: 5.703782474656201, 13749: 4.07753744390572, 6667: 6.54965074223381, 19559: 5.703782474656201, 1282: 5.703782474656201, 1707: 7.047517221357296, 14371: 5.117514655723352, 22153: 5.481471909645883, 761: 5.298317366548036, 80: 5.25227342804663, 13680: 5.991464547107982, 10102: 5.298317366548036, 11438: 5.991464547107982, 10188: 5.703782474656201, 14538: 5.703782474656201, 17094: 5.298317366548036, 10005: 5.703782474656201, 7835: 6.907755278982137, 7787: 6.684611727667927, 8521: 7.368339686311381, 6950: 7.090076835776092, 6949: 7.600902459542082, 7023: 6.214608098422191, 7749: 5.298317366548036, 7783: 6.684611727667927, 7026: 7.090076835776092, 15009: 5.0106352940962555, 15953: 7.762596048540069, 15965: 6.957497370876951, 10593: 4.61512051684126, 12230: 5.241747015059643, 12201: 5.298317366548036, 11293: 6.1092475827643655, 6709: 6.396929655216146, 3038: 6.907755278982137, 1949: 5.634789603169249, 2048: 6.214608098422191, 2368: 6.551080335043404, 2364: 4.605170185988092, 2363: 4.330733340286331, 2362: 4.605170185988092, 2312: 5.135798437050262, 5367: 7.62608275807238, 5695: 6.423246963533519, 5719: 7.2868764117507, 5723: 5.521460917862246, 5562: 7.972810784121404, 4918: 6.3818160174060985, 6698: 5.081404364984463, 4170: 7.307202314764738, 4171: 7.0909098220799835, 4173: 7.972810784121404, 4175: 7.3783837129967145, 4152: 7.340186835320115, 4133: 6.803505257608338, 4150: 7.596392304064196, 4796: 4.605170185988092, 19389: 4.852030263919617, 19391: 4.852030263919617, 19409: 6.802394763324311, 19426: 6.803505257608338, 20016: 6.396929655216146, 19400: 5.342334251964811, 19494: 5.298317366548036, 18343: 5.521460917862246, 341: 4.976733742420574, 346: 4.976733742420574, 420: 4.976733742420574, 1191: 5.5254529391317835, 1428: 4.605170185988092, 1489: 3.6635616461296463, 1490: 4.605170185988092, 655: 5.153291594497779, 578: 5.153291594497779, 1346: 8.515391569469609, 1626: 5.991464547107982, 9285: 3.367295829986474, 1805: 5.517452896464707, 17531: 5.703782474656201, 17144: 6.214608098422191, 6248: 7.047517221357296, 9161: 5.135798437050262, 9162: 5.135798437050262, 18512: 5.298317366548036, 11826: 8.160518247477505, 14191: 5.703782474656201, 13174: 5.857933154483459, 19497: 5.298317366548036, 812: 4.605170185988092, 18667: 4.59511985013459, 20705: 7.170119543449628, 20707: 6.684611727667927, 13672: 5.991464547107982, 10684: 6.802394763324311, 10445: 5.991464547107982, 9396: 5.703782474656201, 9398: 5.703782474656201, 10378: 5.135798437050262, 9964: 5.003946305945459, 10046: 5.991464547107982, 8656: 5.135798437050262, 8874: 6.396929655216146, 10446: 6.620073206530356, 13493: 9.433403920090221, 13521: 7.100555080063719, 12833: 5.0106352940962555, 13825: 6.907755278982137, 13058: 5.0106352940962555, 13826: 5.703782474656201, 13828: 5.598421958998375, 12898: 5.991464547107982, 13055: 4.605170185988092, 13057: 5.799092654460526, 10778: 6.396929655216146, 11020: 5.991464547107982, 11875: 5.703782474656201, 11889: 5.857933154483459, 6117: 5.521460917862246, 4442: 4.59511985013459, 4979: 5.703782474656201, 4965: 6.54965074223381, 4964: 6.906754778648554, 4962: 5.700443573390686, 4963: 7.1693500166706, 7172: 7.313220387090301, 7543: 4.59511985013459, 7187: 5.703782474656201, 6628: 6.212606095751519, 6875: 5.703782474656201, 6710: 6.396929655216146, 21414: 5.521460917862246, 968: 4.07753744390572, 969: 5.293304824724492, 961: 5.298317366548036, 15748: 6.309918278226516, 16055: 6.396929655216146, 16553: 5.0106352940962555, 16729: 4.382026634673881, 16730: 5.703782474656201, 14436: 5.135798437050262, 15263: 5.988961416889864, 15268: 7.24422751560335, 14846: 5.298317366548036, 19176: 6.309918278226516, 18737: 5.0106352940962555, 18738: 6.214608098422191, 16961: 5.003946305945459, 17096: 5.0106352940962555, 17097: 5.700443573390686, 18496: 5.438079308923196, 19501: 6.684611727667927, 19492: 5.298317366548036, 19495: 5.298317366548036, 20332: 5.517452896464707, 19647: 4.59511985013459, 17474: 5.0106352940962555, 17815: 7.313220387090301, 17937: 5.991464547107982, 1197: 5.703782474656201, 960: 5.991464547107982, 3640: 5.703782474656201, 3990: 5.703782474656201, 2964: 6.214608098422191, 2669: 5.857933154483459, 2578: 5.857933154483459, 20842: 9.947504437952903, 20638: 5.988961416889864, 21272: 5.700443573390686, 21792: 5.988961416889864, 21793: 5.988961416889864, 21796: 6.802394763324311, 21799: 6.212606095751519, 21827: 7.7406644019172415, 10227: 7.8160138391590275, 10116: 5.991464547107982, 10305: 5.293304824724492, 9965: 6.309918278226516, 9401: 5.298317366548036, 9403: 5.298317366548036, 9404: 5.703782474656201, 9405: 5.703782474656201, 9412: 5.703782474656201, 9413: 5.703782474656201, 9397: 5.703782474656201, 11052: 5.0106352940962555, 7323: 6.1092475827643655, 7257: 5.703782474656201, 8496: 5.703782474656201, 8280: 5.298317366548036, 8279: 4.382026634673881, 8102: 4.382026634673881, 15745: 6.593044534142437, 15746: 6.272877006546167, 15747: 5.991464547107982, 15749: 5.991464547107982, 15750: 6.309918278226516, 13627: 5.003946305945459, 13628: 5.003946305945459, 13522: 7.050018438530106, 13520: 7.495541943884256, 8055: 7.6004023345004, 3985: 4.59511985013459, 3633: 7.3777589082278725, 2735: 6.551080335043404, 2734: 6.551080335043404, 3300: 3.367295829986474, 3312: 5.298317366548036, 6896: 5.991464547107982, 4980: 6.1092475827643655, 4981: 7.2078598714324755, 5747: 6.907755278982137, 3082: 5.991464547107982, 1087: 5.857933154483459, 792: 6.887552571664617, 4969: 5.988961416889864, 7301: 5.703782474656201, 4553: 3.367295829986474, 18681: 5.991464547107982, 18476: 4.605170185988092, 17453: 5.298317366548036, 8657: 4.605170185988092, 10532: 5.703782474656201, 10729: 4.605170185988092, 13599: 5.703782474656201, 13025: 5.298317366548036, 13031: 3.367295829986474, 14053: 5.991464547107982, 16216: 6.745236349484362, 15351: 6.309918278226516, 15364: 6.309918278226516, 16165: 6.492239835020471, 7497: 6.1092475827643655, 6386: 5.517452896464707, 10307: 5.0106352940962555, 9791: 4.382026634673881, 9400: 5.703782474656201, 9395: 5.703782474656201, 7342: 5.703782474656201, 18275: 3.367295829986474, 21797: 6.907755278982137, 21273: 6.1092475827643655, 2642: 5.298317366548036, 8439: 5.857933154483459, 8441: 4.543294782270004, 7655: 5.703782474656201, 3634: 7.3777589082278725, 3988: 5.703782474656201, 4091: 7.24422751560335, 21795: 5.988961416889864, 21274: 6.1092475827643655, 2215: 5.703782474656201, 2442: 7.090076835776092, 21794: 5.988961416889864, 13117: 5.799092654460526, 10662: 6.856461984594587, 15264: 7.495541943884256, 16213: 6.396929655216146, 11621: 5.298317366548036, 21271: 5.700443573390686, 17701: 5.703782474656201, 21275: 6.1092475827643655, 303: 4.0943445622221, 18598: 5.703782474656201, 3009: 7.032703693001182, 16561: 7.003065458786462, 2329: 5.003946305945459, 3012: 5.075173815233827, 3020: 5.700443573390686, 3551: 5.700443573390686, 15017: 7.494986233950533, 13562: 6.792344427470809, 19305: 6.907755278982137, 6922: 5.517452896464707, 10546: 5.703782474656201, 2128: 6.476972362889683, 14135: 5.5326777730674115, 15917: 7.313220387090301, 12993: 4.07753744390572, 17963: 6.309918278226516, 11137: 5.703782474656201, 21798: 6.802394763324311, 5693: 6.985641817639208, 21206: 7.170119543449628, 20829: 7.549609165154532, 20960: 5.241747015059643, 19994: 5.991464547107982, 19999: 4.605170185988092, 9097: 5.707110264748875, 9131: 3.9318256327243257, 6983: 5.703782474656201, 6974: 5.703782474656201, 6967: 5.703782474656201, 7769: 4.1588830833596715, 7544: 5.0106352940962555, 7117: 6.214608098422191, 7143: 6.684611727667927, 7541: 6.551080335043404, 12227: 5.298317366548036, 11874: 5.303304908059076, 20704: 6.684611727667927, 275: 4.976733742420574, 19503: 6.684611727667927, 19504: 6.684611727667927, 4172: 7.596392304064196, 4174: 8.268988209506656, 4204: 7.0909098220799835, 4213: 6.803505257608338, 3683: 5.521460917862246, 3632: 6.802394763324311, 3853: 5.768945800562614, 6161: 6.396929655216146, 5559: 6.803505257608338, 6627: 6.551080335043404, 5412: 4.605170185988092, 1188: 7.937731775260109, 766: 5.241747015059643, 709: 5.241747015059643, 742: 5.37989735354046, 2367: 4.330733340286331, 2311: 5.857933154483459, 2272: 5.135798437050262, 2277: 5.135798437050262, 2361: 4.330733340286331, 2365: 4.605170185988092, 2366: 3.6635616461296463, 2993: 7.467942332285852, 2947: 4.605170185988092, 2965: 6.684611727667927, 1494: 5.075173815233827, 1868: 6.684611727667927, 1875: 7.600902459542082, 1493: 4.330733340286331, 1487: 4.605170185988092, 1488: 4.330733340286331, 1491: 4.787491742782046, 1492: 4.330733340286331, 1948: 4.219507705176107, 13626: 5.857933154483459, 19640: 5.0106352940962555, 19641: 5.0106352940962555, 17672: 5.703782474656201, 10883: 3.367295829986474, 10396: 5.517452896464707, 20021: 8.294049640102028, 19500: 6.684611727667927, 22063: 5.857933154483459, 8916: 6.214608098422191, 5486: 7.8632667240095735, 20347: 7.52294091807237, 17871: 5.298317366548036, 17869: 5.298317366548036, 16790: 7.9724660159745655, 19985: 5.298317366548036, 979: 6.309918278226516, 984: 5.598421958998375, 982: 5.703782474656201, 981: 6.907755278982137, 980: 7.003065458786462, 21540: 5.857933154483459, 7492: 5.703782474656201, 6631: 7.600902459542082, 6630: 7.377133712833954, 4431: 5.703782474656201, 14088: 5.703782474656201, 15213: 6.907755278982137, 14831: 7.003065458786462, 12341: 5.991464547107982, 16677: 6.214608098422191, 17872: 5.991464547107982, 6629: 7.600902459542082, 9242: 7.313886831633462, 9035: 5.521460917862246, 7298: 5.703782474656201, 7397: 5.703782474656201, 15233: 6.907755278982137, 14830: 5.703782474656201, 14087: 5.991464547107982, 8918: 3.367295829986474, 12212: 8.294049640102028, 16143: 6.684611727667927, 21276: 6.1092475827643655, 21875: 5.703782474656201, 6387: 7.243512974665482, 6316: 5.991464547107982, 4067: 5.703782474656201, 6073: 6.907755278982137, 4774: 6.684611727667927, 4771: 6.214608098422191, 13889: 5.438079308923196, 16174: 6.802394763324311, 9541: 5.991464547107982, 10075: 5.420534999272286, 9980: 6.907755278982137, 13525: 6.898714534329988, 11804: 5.0106352940962555, 11801: 5.0106352940962555, 11767: 5.298317366548036, 11685: 5.0106352940962555, 11681: 5.298317366548036, 12213: 8.188966863648876, 16657: 5.0106352940962555, 16676: 5.0106352940962555, 8919: 5.003946305945459, 9805: 5.298317366548036, 9243: 8.160803920954665, 11799: 5.0106352940962555, 1743: 5.857933154483459, 21704: 5.135798437050262, 19986: 7.313220387090301, 19988: 7.783224016336037, 19858: 5.521460917862246, 1041: 6.802394763324311, 18708: 5.521460917862246, 18520: 5.298317366548036, 21612: 5.521460917862246, 20588: 7.24422751560335, 3635: 5.700443573390686, 2369: 7.170119543449628, 14407: 5.521460917862246, 14318: 5.521460917862246, 16542: 5.521460917862246, 15835: 5.521460917862246, 15832: 5.521460917862246, 8245: 5.799092654460526, 11133: 5.521460917862246, 10003: 4.605170185988092, 16156: 7.313220387090301, 17703: 4.867534450455582, 17385: 4.605170185988092, 17870: 6.522092798170152, 13075: 7.090076835776092, 19987: 7.600902459542082, 4433: 6.907755278982137, 18115: 5.298317366548036, 17403: 7.27931883541462, 18069: 7.600902459542082, 19591: 5.0106352940962555, 19539: 5.521460917862246, 1038: 6.907755278982137, 11687: 5.0106352940962555, 11686: 5.298317366548036, 11806: 5.0106352940962555, 11805: 5.298317366548036, 11800: 5.0106352940962555, 11795: 5.298317366548036, 11684: 5.0106352940962555, 11682: 4.605170185988092, 11595: 4.605170185988092, 9870: 5.703782474656201, 9050: 4.605170185988092, 13715: 6.856461984594587, 15088: 6.684611727667927, 15127: 5.521460917862246, 15126: 5.521460917862246, 12823: 5.0106352940962555, 13421: 8.85352256068954, 13527: 6.898714534329988, 7997: 5.703782474656201, 8238: 5.521460917862246, 9296: 7.243512974665482, 8848: 5.521460917862246, 10032: 8.006367567650246, 22162: 5.857933154483459, 18511: 5.438079308923196, 16543: 5.703782474656201, 8429: 7.090076835776092, 15105: 7.495541943884256, 11807: 5.0106352940962555, 12394: 4.605170185988092, 11156: 5.560681631015528, 5515: 7.7406644019172415, 5401: 6.684611727667927, 4242: 7.170119543449628, 1708: 7.7406644019172415, 9241: 7.00397413672268, 8808: 3.912023005428146, 9832: 4.605170185988092, 9831: 4.605170185988092, 9830: 5.0106352940962555, 7009: 6.54965074223381, 1039: 6.802394763324311, 18493: 5.123963979403259, 18396: 5.298317366548036, 5713: 7.372118028337787, 4606: 7.170119543449628, 17419: 5.405825574263321, 8971: 4.605170185988092, 10763: 6.551080335043404, 10833: 5.0106352940962555, 17389: 4.605170185988092, 17399: 4.32161292811326, 11802: 4.605170185988092, 11683: 5.0106352940962555, 13790: 4.605170185988092, 19621: 4.605170185988092, 19505: 6.684611727667927, 13444: 9.998388557730848, 19573: 4.605170185988092, 19491: 5.298317366548036, 19432: 5.703782474656201, 21280: 7.1308988302963465, 21519: 4.605170185988092, 20462: 7.824046010856292, 5512: 7.7406644019172415, 14464: 3.912023005428146, 14734: 5.521460917862246, 14658: 4.605170185988092, 14423: 6.396929655216146, 14457: 5.135798437050262, 11181: 4.605170185988092, 11541: 6.551080335043404, 11430: 3.912023005428146, 10710: 4.605170185988092, 10762: 5.991464547107982, 11970: 5.298317366548036, 12214: 8.294049640102028, 11803: 5.0106352940962555, 11797: 5.0106352940962555, 11796: 5.0106352940962555, 11680: 5.0106352940962555, 17859: 4.605170185988092, 17126: 4.605170185988092, 18521: 5.298317366548036, 18714: 5.0106352940962555, 18114: 5.991464547107982, 17986: 5.298317366548036, 17985: 5.298317366548036, 18278: 5.799092654460526, 15882: 6.756932389247553, 16418: 5.560681631015528, 8220: 8.006367567650246, 8443: 5.799092654460526, 10560: 5.703782474656201, 9843: 6.802394763324311, 9502: 4.61512051684126, 10273: 5.799092654460526, 6265: 7.346010209913293, 6811: 7.52294091807237, 7547: 8.128880142125638, 15904: 7.27931883541462, 14577: 4.61512051684126, 11798: 5.0106352940962555, 11883: 5.703782474656201, 11586: 4.61512051684126, 14414: 5.0106352940962555, 13492: 9.323579767582693, 2551: 7.090076835776092, 3657: 7.7406644019172415, 21605: 4.605170185988092, 38: 7.7406644019172415, 6: 4.61512051684126, 3: 4.07753744390572, 18072: 7.803843303538772, 4078: 6.212606095751519, 17406: 5.0106352940962555, 17260: 4.605170185988092, 21830: 7.090076835776092, 21528: 3.912023005428146, 21609: 4.61512051684126, 437: 5.752572638825633, 463: 5.752572638825633, 20702: 6.802394763324311, 21282: 7.1308988302963465, 2371: 4.852030263919617, 2370: 4.852030263919617, 2693: 6.214608098422191, 2282: 6.907755278982137, 1861: 6.684611727667927, 2732: 6.214608098422191, 763: 5.241747015059643, 684: 5.153291594497779, 1518: 3.6635616461296463, 1383: 6.907755278982137, 1589: 6.551080335043404, 17410: 4.61512051684126, 20027: 4.61512051684126, 19029: 4.61512051684126, 13734: 6.133398042996649, 13341: 5.017279836814924, 15964: 6.111467339502679, 15960: 7.762596048540069, 16368: 5.568344503761097, 4782: 6.802394763324311, 5694: 6.778784897685177, 5392: 9.72859830755947, 4862: 8.27410200229233, 4848: 6.396929655216146, 4847: 5.703782474656201, 4846: 5.703782474656201, 4787: 4.382026634673881, 4130: 7.0909098220799835, 3636: 6.214608098422191, 3339: 7.495541943884256, 4260: 6.214608098422191, 4258: 5.703782474656201, 4257: 6.214608098422191, 4205: 6.803505257608338, 7973: 6.2166061010848646, 7969: 6.90875477931522, 7967: 6.907755278982137, 8040: 4.330733340286331, 7966: 7.8632667240095735, 7784: 5.703782474656201, 7144: 5.703782474656201, 7822: 9.261983605128021, 6375: 6.396929655216146, 6168: 5.521460917862246, 5556: 7.313886831633462, 6160: 6.214608098422191, 6988: 3.912023005428146, 6649: 6.898714534329988, 6934: 3.4011973816621555, 18715: 5.521460917862246, 19295: 6.907755278982137, 11307: 7.52294091807237, 16173: 7.313220387090301, 5199: 5.648974238161206, 966: 3.332204510175204, 20719: 7.090076835776092, 20687: 7.549609165154532, 20721: 7.24422751560335, 12642: 3.332204510175204, 7237: 9.169622538697624, 976: 7.7406644019172415, 4158: 6.80128303447162, 4155: 6.8560408432954585, 15052: 8.517193191416238, 13528: 6.898714534329988, 13526: 6.898714534329988, 13753: 5.755742213586912, 12333: 4.605170185988092, 16537: 7.2078598714324755, 5057: 7.7406644019172415, 1040: 6.907755278982137, 9274: 6.551080335043404, 15124: 5.521460917862246, 15125: 5.521460917862246, 20061: 5.521460917862246, 4432: 7.090076835776092, 3973: 7.824046010856292, 1044: 6.907755278982137, 17420: 5.298317366548036, 3659: 7.7406644019172415, 10616: 7.783224016336037, 16347: 7.7406644019172415, 16116: 6.492239835020471, 10187: 5.703782474656201, 5659: 6.745236349484362, 17112: 4.59511985013459, 20695: 7.549609165154532, 15653: 3.912023005428146, 393: 5.521460917862246, 444: 5.521460917862246, 247: 5.5254529391317835, 7283: 6.54965074223381, 4549: 3.367295829986474, 16127: 6.212606095751519, 16063: 7.438383530044307, 16104: 6.684611727667927, 15306: 7.170119543449628, 15309: 7.170119543449628, 7369: 5.703782474656201, 11268: 4.605170185988092, 6164: 7.089243155027514, 6163: 7.089243155027514, 6162: 6.1703426821241765, 5661: 5.991464547107982, 5678: 5.988961416889864, 16958: 5.988961416889864, 6376: 5.517452896464707, 6377: 7.089243155027514, 5014: 5.517452896464707, 5013: 5.988961416889864, 5485: 5.857933154483459, 5012: 5.703782474656201, 5815: 7.600902459542082, 5814: 7.090076835776092, 8336: 4.59511985013459, 9065: 5.0106352940962555, 7791: 6.802394763324311, 2550: 5.703782474656201, 2140: 5.857933154483459, 2818: 8.006367567650246, 2817: 8.00603417874901, 2816: 8.006367567650246, 1239: 5.857933154483459, 1914: 5.521460917862246, 4261: 5.703782474656201, 4024: 5.703782474656201, 5139: 7.649692623711514, 16535: 5.0106352940962555, 17164: 5.991464547107982, 17157: 4.07753744390572, 17135: 5.991464547107982, 16957: 5.988961416889864, 16956: 5.703782474656201, 16508: 5.0106352940962555, 17165: 6.309918278226516, 16120: 7.170119543449628, 15547: 5.991464547107982, 15777: 5.703782474656201, 15776: 6.684611727667927, 15775: 5.991464547107982, 15688: 4.605170185988092, 19040: 5.857933154483459, 18368: 5.438079308923196, 19132: 5.25227342804663, 18209: 5.799092654460526, 17376: 5.298317366548036, 17374: 5.0106352940962555, 17168: 5.298317366548036, 17167: 5.991464547107982, 17840: 5.003946305945459, 17841: 5.517452896464707, 10990: 5.0106352940962555, 10989: 4.605170185988092, 11054: 6.1092475827643655, 11055: 5.298317366548036, 12047: 5.438079308923196, 10053: 5.991464547107982, 10120: 5.0106352940962555, 15040: 6.396929655216146, 14077: 5.857933154483459, 13543: 8.006367567650246, 13542: 8.517193191416238, 13205: 5.703782474656201, 13728: 4.59511985013459, 13727: 4.59511985013459, 13726: 4.07753744390572, 13724: 5.298317366548036, 4436: 7.27931883541462, 13725: 4.07753744390572, 21690: 5.298317366548036, 20739: 6.214608098422191, 20662: 7.7406644019172415, 20519: 7.24422751560335, 20308: 5.857933154483459, 20654: 7.549609165154532, 7212: 6.54965074223381, 15607: 5.521460917862246, 20736: 6.214608098422191, 18370: 5.438079308923196, 20653: 7.549609165154532, 10869: 5.991464547107982, 10867: 5.991464547107982, 12374: 5.991464547107982, 21706: 5.135798437050262, 1485: 7.090076835776092, 20664: 8.086410275323782, 20708: 7.170119543449628, 20368: 8.086410275323782, 21283: 7.1308988302963465, 5674: 6.214608098422191, 6378: 7.089243155027514, 8035: 5.703782474656201, 7275: 5.703782474656201, 20740: 6.214608098422191, 18137: 7.003065458786462, 20218: 5.135798437050262, 2159: 7.52294091807237, 1297: 7.24422751560335, 1294: 6.906754778648554, 1133: 7.7406644019172415, 4135: 7.0825485693553, 20362: 8.242756345714477, 16327: 5.857933154483459, 17113: 4.605170185988092, 20419: 8.85366542803745, 20410: 8.699514748210191, 20601: 8.612503371220562, 21560: 5.991464547107982, 17514: 5.298317366548036, 18956: 4.07753744390572, 19058: 5.135798437050262, 11937: 6.856461984594587, 19081: 5.517452896464707, 9908: 4.59511985013459, 15821: 4.605170185988092, 7793: 7.495541943884256, 11936: 4.605170185988092, 7846: 7.170119543449628, 9932: 5.298317366548036, 1042: 6.54965074223381, 6370: 7.27931883541462, 7971: 7.601402334583733, 8511: 5.241747015059643, 9142: 3.9318256327243257, 9138: 3.9318256327243257, 9134: 3.9318256327243257, 6939: 7.170119543449628, 6937: 7.495541943884256, 6935: 3.912023005428146, 6380: 6.396929655216146, 6684: 4.787491742782046, 6633: 5.703782474656201, 7105: 5.438079308923196, 7101: 4.248495242049359, 7024: 6.214608098422191, 6379: 5.170483995038151, 19427: 6.398594934535208, 15962: 7.496097345175956, 19288: 6.2166061010848646, 19424: 6.398594934535208, 19374: 7.0825485693553, 16928: 5.521460917862246, 16820: 5.673323267171493, 16819: 6.673297967767654, 16815: 6.673297967767654, 16812: 5.673323267171493, 16802: 5.673323267171493, 3220: 6.163314804034641, 1558: 7.170119543449628, 1552: 7.495541943884256, 4863: 9.302098797215724, 6159: 5.991464547107982, 5563: 8.853808274977197, 6167: 6.396929655216146, 6166: 6.214608098422191, 5388: 9.081483749851179, 4136: 7.0909098220799835, 4137: 7.0909098220799835, 4139: 6.803505257608338, 4140: 6.803505257608338, 3465: 7.170119543449628, 3454: 7.495541943884256, 4184: 7.186144304522325, 9854: 5.0106352940962555, 9949: 5.521460917862246, 12838: 5.298317366548036, 20464: 7.24422751560335, 11266: 3.912023005428146, 9993: 4.605170185988092, 7211: 5.003946305945459, 13541: 8.294049640102028, 18499: 5.438079308923196, 13194: 5.857933154483459, 10701: 5.703782474656201, 10960: 5.0106352940962555, 12721: 4.07753744390572, 19099: 5.0106352940962555, 250: 4.976733742420574, 21535: 6.551080335043404, 9884: 4.07753744390572, 17507: 6.214608098422191, 2141: 7.783640596221253, 4009: 7.7406644019172415, 25: 4.07753744390572, 295: 5.521460917862246, 20: 4.07753744390572, 9: 4.07753744390572, 8: 4.07753744390572, 2: 4.07753744390572, 7408: 4.59511985013459, 9013: 7.52294091807237, 9094: 4.59511985013459, 8467: 5.703782474656201, 8309: 4.07753744390572, 4364: 6.906754778648554, 6281: 7.24422751560335, 5494: 7.3777589082278725, 20217: 5.135798437050262, 14106: 7.762170607138205, 18563: 4.07753744390572, 20465: 6.802394763324311, 13374: 5.703782474656201, 2516: 8.306472160100585, 14056: 6.396929655216146, 6516: 6.214608098422191, 6515: 6.214608098422191, 7553: 9.472012088995733, 433: 5.521460917862246, 377: 5.521460917862246, 143: 5.521460917862246, 15332: 6.309918278226516, 9471: 8.006367567650246, 12309: 7.192182058713246, 20711: 7.1308988302963465, 20590: 6.309918278226516, 20575: 7.090076835776092, 20853: 7.090076835776092, 20885: 7.24422751560335, 20861: 7.3777589082278725, 20860: 6.907755278982137, 20858: 6.907755278982137, 20856: 6.745236349484362, 20847: 7.24422751560335, 20438: 7.24422751560335, 20437: 7.24422751560335, 17984: 5.0106352940962555, 17919: 5.0106352940962555, 18707: 5.0106352940962555, 10516: 7.438383530044307, 9992: 5.0106352940962555, 5141: 7.600902459542082, 12501: 6.1092475827643655, 12504: 5.802118375377063, 12515: 6.1092475827643655, 12527: 6.1092475827643655, 14701: 3.367295829986474, 21285: 7.1308988302963465, 21281: 7.1308988302963465, 12523: 6.1092475827643655, 21279: 7.1308988302963465, 18: 4.07753744390572, 4596: 6.907755278982137, 5079: 6.907755278982137, 5185: 6.1092475827643655, 5164: 6.1092475827643655, 67: 5.135798437050262, 64: 4.605170185988092, 12507: 6.1092475827643655, 18722: 5.0106352940962555, 6517: 7.600902459542082, 21877: 5.521460917862246, 21878: 5.62278931544667, 90: 5.991464547107982, 2743: 7.600902459542082, 2744: 6.212606095751519, 2299: 5.298317366548036, 2300: 5.991464547107982, 18794: 5.991464547107982, 18795: 6.551080335043404, 18994: 5.298317366548036, 18995: 5.178914269300256, 17457: 5.298317366548036, 20402: 8.37793112408273, 8061: 7.090076835776092, 4247: 7.600902459542082, 5038: 7.824046010856292, 5039: 7.313220387090301, 5040: 7.824046010856292, 5037: 7.313220387090301, 2779: 7.438383530044307, 2780: 7.600902459542082, 2781: 7.438383530044307, 3340: 7.090076835776092, 3341: 7.313220387090301, 3342: 7.824046010856292, 3343: 7.313220387090301, 3345: 7.8632667240095735, 3346: 7.313553664880422, 3347: 6.620739651073516, 7085: 6.551080335043404, 6763: 5.857933154483459, 7020: 7.313220387090301, 6901: 7.8632667240095735, 7780: 5.517452896464707, 7864: 6.802394763324311, 6504: 7.824046010856292, 5516: 5.703782474656201, 6503: 7.600902459542082, 6502: 7.313220387090301, 6183: 7.600902459542082, 8452: 8.003363058629947, 15041: 7.600902459542082, 14305: 5.884992302597465, 17027: 5.991464547107982, 17042: 4.605170185988092, 10435: 5.991464547107982, 10436: 6.620073206530356, 10437: 7.003065458786462, 11173: 5.857933154483459, 11216: 5.991464547107982, 10383: 5.768945800562614, 8852: 5.991464547107982, 9355: 5.857933154483459, 13441: 9.9426601876106, 12812: 5.0106352940962555, 13024: 5.298317366548036, 12610: 5.991464547107982, 13404: 10.043206015705211, 13405: 10.0519075576544, 14597: 4.867534450455582, 14795: 3.912023005428146, 14307: 5.988961416889864, 91: 5.298317366548036, 486: 5.707110264748875, 1237: 7.4673710669175595, 21681: 5.0106352940962555, 19868: 5.991464547107982, 7877: 7.6004023345004, 11997: 5.703782474656201, 12093: 5.857933154483459, 10514: 6.214608098422191, 13922: 5.991464547107982, 13105: 6.214608098422191, 10438: 5.703782474656201, 7933: 7.237778191923443, 10083: 3.912023005428146, 17458: 5.703782474656201, 10480: 5.298317366548036, 10511: 5.991464547107982, 11217: 5.703782474656201, 10384: 7.313220387090301, 8455: 8.10666528896561, 10385: 5.298317366548036, 13707: 6.907755278982137, 13713: 6.802394763324311, 2785: 7.494986233950533, 2783: 8.85352256068954, 7809: 7.377133712833954, 5658: 6.684611727667927, 17970: 4.59511985013459, 4966: 6.54965074223381, 13104: 5.991464547107982, 14598: 5.178914269300256, 11688: 5.0106352940962555, 10512: 6.684611727667927, 12826: 4.605170185988092, 15042: 6.54965074223381, 14306: 6.907755278982137, 12526: 6.1092475827643655, 2786: 7.6004023345004, 17: 4.59511985013459, 5817: 6.620739651073516, 3557: 7.600902459542082, 9157: 5.991464547107982, 8213: 7.24422751560335, 8228: 7.824046010856292, 6088: 7.495541943884256, 20435: 8.006367567650246, 19507: 7.824046010856292, 15214: 7.438383530044307, 13748: 6.907755278982137, 13709: 6.907755278982137, 7924: 6.906754778648554, 7984: 5.700443573390686, 17459: 5.298317366548036, 18326: 5.438079308923196, 15902: 6.309918278226516, 405: 5.521460917862246, 1859: 7.313220387090301, 2360: 5.521460917862246, 14664: 6.1092475827643655, 15232: 6.745236349484362, 17013: 8.824677891164198, 6243: 5.857933154483459, 3277: 5.857933154483459, 2784: 8.242493153187626, 2694: 5.700443573390686, 3344: 7.824046010856292, 8448: 8.495152060539358, 7337: 5.703782474656201, 7934: 5.988961416889864, 10479: 5.991464547107982, 12511: 5.991464547107982, 12524: 6.1092475827643655, 6826: 7.438383530044307, 8044: 7.600902459542082, 12883: 5.991464547107982, 20737: 6.214608098422191, 20360: 7.495541943884256, 18942: 4.605170185988092, 19053: 4.605170185988092, 19051: 6.476972362889683, 19160: 4.605170185988092, 16138: 6.522092798170152, 8731: 5.0106352940962555, 2819: 7.377133712833954, 1515: 6.854217362050046, 14855: 4.605170185988092, 17371: 4.605170185988092, 13958: 5.703782474656201, 7564: 7.600902459542082, 7173: 7.313220387090301, 12522: 6.309918278226516, 8362: 7.495541943884256, 6931: 5.521460917862246, 6464: 5.521460917862246, 313: 5.521460917862246, 17043: 5.0106352940962555, 9462: 5.940171252720432, 8862: 7.24422751560335, 8867: 7.24422751560335, 1623: 7.090076835776092, 2615: 7.718685495198466, 2483: 6.706862336602747, 13: 4.07753744390572, 21: 4.07753744390572, 4: 4.07753744390572, 0: 4.07753744390572, 3348: 7.1308988302963465, 12884: 6.131226489483141, 17456: 5.991464547107982, 19211: 5.0106352940962555, 19212: 5.0106352940962555, 16566: 6.309918278226516, 16565: 6.1092475827643655, 14055: 5.991464547107982, 13109: 7.495541943884256, 1176: 7.00397413672268, 4408: 5.703782474656201, 6046: 5.703782474656201, 13692: 6.856461984594587, 11531: 6.309918278226516, 11533: 6.309918278226516, 17670: 6.551080335043404, 17971: 6.551080335043404, 17508: 5.298317366548036, 17513: 5.298317366548036, 17509: 5.272999558563747, 17515: 5.298317366548036, 17516: 5.857933154483459, 17517: 5.298317366548036, 7232: 7.002155954403621, 19044: 7.24422751560335, 17375: 5.991464547107982, 13400: 9.851720461714246, 13360: 5.703782474656201, 5244: 7.313220387090301, 3792: 7.24422751560335, 15228: 6.745236349484362, 10239: 5.799092654460526, 5996: 7.313220387090301, 5436: 7.090076835776092, 6294: 7.090076835776092, 4295: 4.07753744390572, 4524: 5.700443573390686, 5177: 6.1092475827643655, 4593: 7.313220387090301, 5078: 6.214608098422191, 5082: 6.214608098422191, 4675: 7.575584651557793, 10186: 5.799092654460526, 7566: 7.2078598714324755, 6837: 7.600902459542082, 6823: 7.4673710669175595, 6794: 7.27931883541462, 6796: 7.27931883541462, 8471: 5.857933154483459, 8110: 7.649692623711514, 2208: 7.090076835776092, 3167: 7.824046010856292, 2205: 7.090076835776092, 7878: 8.070593539949519, 7180: 7.600902459542082, 1180: 7.692113339595466, 292: 5.521460917862246, 17369: 5.298317366548036, 15223: 6.907755278982137, 17512: 5.0106352940962555, 17511: 5.0106352940962555, 10750: 4.605170185988092, 14225: 4.59511985013459, 14190: 5.857933154483459, 11532: 6.309918278226516, 15220: 6.745236349484362, 21286: 7.1308988302963465, 4550: 7.600902459542082, 7235: 5.700443573390686, 4138: 6.802394763324311, 4243: 7.243512974665482, 3520: 5.521460917862246, 17341: 5.703782474656201, 4685: 7.600902459542082, 4000: 7.24422751560335, 2581: 7.803843303538772, 1689: 7.4673710669175595, 1703: 7.4673710669175595, 17669: 7.24422751560335, 13574: 8.006367567650246, 20450: 7.438383530044307, 20500: 7.1308988302963465, 7824: 7.596392304064196, 8457: 5.700443573390686, 11882: 9.104979856318357, 17488: 5.298317366548036, 6830: 6.396929655216146, 11265: 7.313220387090301, 10317: 4.605170185988092, 2987: 5.521460917862246, 2988: 6.212606095751519, 2997: 7.1631723908466425, 3002: 7.3783837129967145, 3003: 7.596392304064196, 3008: 7.75833346749091, 3011: 8.935377071932177, 3252: 5.481471909645883, 4851: 8.660600654710967, 4858: 8.660947155060933, 4967: 4.605170185988092, 5203: 6.684611727667927, 4188: 7.596392304064196, 4192: 7.307202314764738, 4203: 5.991464547107982, 4207: 7.0909098220799835, 4199: 5.991464547107982, 4179: 7.3783837129967145, 4180: 7.3783837129967145, 4187: 7.596392304064196, 4183: 7.186144304522325, 846: 5.241747015059643, 926: 8.699681400989514, 101: 5.0238805208462765, 169: 5.153291594497779, 1150: 7.372118028337787, 1163: 6.628041376179533, 2275: 5.135798437050262, 2037: 7.090076835776092, 2276: 5.857933154483459, 2453: 7.090076835776092, 1189: 8.266421472984554, 1360: 3.4011973816621555, 13097: 6.90875477931522, 13099: 6.2166061010848646, 13098: 7.601402334583733, 9458: 5.3981627015177525, 11286: 5.991464547107982, 10699: 4.852030263919617, 10278: 5.0106352940962555, 19940: 4.852030263919617, 16: 4.07753744390572, 22080: 5.568344503761097, 17605: 5.707110264748875, 13343: 5.017279836814924, 16803: 6.673297967767654, 16804: 5.673323267171493, 16805: 5.673323267171493, 16808: 5.673323267171493, 16817: 5.673323267171493, 16927: 5.0106352940962555, 16800: 5.673323267171493, 15946: 7.0909098220799835, 15954: 6.398594934535208, 15955: 7.208600337960199, 15956: 6.398594934535208, 15966: 7.0909098220799835, 6444: 7.090076835776092, 5846: 3.9318256327243257, 5910: 7.090076835776092, 5564: 8.853808274977197, 5387: 9.081483749851179, 5389: 8.200013648175434, 5696: 6.985641817639208, 5705: 7.581209826196346, 6385: 4.836281906951478, 6381: 5.703782474656201, 7781: 5.991464547107982, 6997: 4.962844630259907, 15305: 6.907755278982137, 15307: 6.907755278982137, 2600: 7.313220387090301, 11349: 5.799092654460526, 11143: 5.298317366548036, 12362: 5.521460917862246, 11750: 6.684611727667927, 10513: 7.313220387090301, 12364: 6.551080335043404, 14126: 5.0106352940962555, 14075: 3.367295829986474, 14062: 3.912023005428146, 13880: 5.438079308923196, 14127: 6.476972362889683, 14128: 6.214608098422191, 14125: 7.438383530044307, 14124: 6.856461984594587, 13398: 9.169414205363537, 12935: 5.703782474656201, 12954: 5.438079308923196, 13641: 6.907755278982137, 13498: 9.9426601876106, 12363: 6.684611727667927, 6768: 7.937374696163295, 6766: 5.003946305945459, 6619: 7.243512974665482, 6618: 5.517452896464707, 6677: 10.064713146035349, 9875: 5.521460917862246, 9874: 5.703782474656201, 9873: 5.0106352940962555, 9071: 4.382026634673881, 9069: 4.382026634673881, 9414: 5.298317366548036, 8091: 5.0106352940962555, 8084: 6.214608098422191, 8083: 5.991464547107982, 7931: 5.517452896464707, 7925: 7.823645930834952, 8701: 5.0106352940962555, 8626: 5.298317366548036, 8226: 7.047517221357296, 8625: 4.867534450455582, 19436: 6.54965074223381, 19056: 5.556828061699537, 19439: 8.070593539949519, 19441: 7.243512974665482, 19006: 5.521460917862246, 20092: 5.0106352940962555, 19220: 5.521460917862246, 21420: 5.0106352940962555, 21614: 4.605170185988092, 21419: 5.991464547107982, 21480: 5.521460917862246, 21762: 7.346010209913293, 21761: 6.856461984594587, 20990: 7.170119543449628, 20988: 7.170119543449628, 20259: 5.0106352940962555, 15395: 6.551080335043404, 15335: 5.19295685089021, 15260: 6.214608098422191, 15261: 6.396929655216146, 15262: 6.396929655216146, 15266: 6.551080335043404, 15265: 6.309918278226516, 16040: 6.551080335043404, 16037: 5.703782474656201, 16032: 6.214608098422191, 14419: 6.551080335043404, 14418: 5.991464547107982, 14994: 7.1308988302963465, 14526: 5.703782474656201, 14848: 5.703782474656201, 15160: 6.361302477572996, 16970: 5.991464547107982, 17595: 5.857933154483459, 16571: 6.309918278226516, 16570: 5.991464547107982, 17125: 5.991464547107982, 17270: 5.298317366548036, 17269: 5.991464547107982, 17248: 5.799092654460526, 17247: 5.991464547107982, 17659: 8.294049640102028, 17654: 8.294049640102028, 17142: 5.991464547107982, 16261: 6.2324480165505225, 15571: 5.438079308923196, 16232: 6.396929655216146, 16260: 6.856461984594587, 16511: 6.309918278226516, 18334: 5.438079308923196, 20389: 7.919356190660617, 13671: 6.476972362889683, 13652: 6.476972362889683, 13023: 5.438079308923196, 12116: 6.907755278982137, 12672: 7.090076835776092, 15336: 5.521460917862246, 16033: 6.214608098422191, 16034: 6.214608098422191, 16186: 5.703782474656201, 16038: 5.703782474656201, 16036: 6.214608098422191, 16035: 6.214608098422191, 16110: 8.294049640102028, 14823: 7.003065458786462, 4363: 6.906754778648554, 4873: 7.313220387090301, 4493: 5.988961416889864, 3552: 7.8632667240095735, 3553: 7.937374696163295, 4050: 7.600902459542082, 4049: 6.802394763324311, 5662: 5.988961416889864, 5837: 5.703782474656201, 5827: 5.521460917862246, 6184: 6.212606095751519, 6436: 6.907755278982137, 5653: 6.684611727667927, 6092: 7.090076835776092, 5246: 7.824046010856292, 5207: 7.6004023345004, 5205: 7.3777589082278725, 5152: 7.064759027791802, 4996: 7.495541943884256, 4997: 8.070906088787819, 4998: 7.649692623711514, 1865: 7.824046010856292, 2039: 6.1070228877422545, 1099: 5.0106352940962555, 936: 5.0106352940962555, 837: 8.210939733379021, 1391: 6.906754778648554, 1389: 7.243512974665482, 1384: 5.293304824724492, 1387: 5.700443573390686, 1388: 7.313220387090301, 3472: 6.309918278226516, 3234: 5.700443573390686, 3236: 7.6004023345004, 3237: 7.6004023345004, 3239: 7.089243155027514, 2782: 7.438383530044307, 3054: 7.7406644019172415, 1125: 5.703782474656201, 1289: 5.135798437050262, 1390: 7.089243155027514, 269: 5.857933154483459, 26: 4.07753744390572, 2176: 5.521460917862246, 2413: 9.010791269515602, 2041: 7.649692623711514, 2040: 6.54965074223381, 15423: 5.4412048540965845, 15422: 5.298317366548036, 15334: 0.688134638736401, 16242: 7.4673710669175595, 16226: 7.313220387090301, 13965: 7.24422751560335, 13875: 7.003065458786462, 19138: 6.309918278226516, 21386: 5.135798437050262, 17026: 6.620073206530356, 5206: 7.377133712833954, 5204: 7.243512974665482, 5202: 5.700443573390686, 4999: 7.089243155027514, 5183: 8.83927669058535, 5331: 5.703782474656201, 4052: 6.907755278982137, 11092: 5.438079308923196, 7983: 9.487972108574462, 16201: 5.886104031450156, 3238: 7.377133712833954, 6236: 5.703782474656201, 7937: 7.494986233950533, 10316: 4.605170185988092, 9399: 5.298317366548036, 4051: 6.745236349484362, 9201: 7.2078598714324755, 8353: 7.824046010856292, 9822: 5.991464547107982, 6888: 5.857933154483459, 7159: 5.857933154483459, 7558: 3.367295829986474, 7932: 6.54965074223381, 11524: 6.551080335043404, 12525: 5.857933154483459, 11019: 5.991464547107982, 4609: 6.253828811575473, 3381: 7.6255950721324535, 3546: 5.703782474656201, 5182: 6.1092475827643655, 5080: 6.907755278982137, 5081: 6.907755278982137, 5074: 6.214608098422191, 5077: 6.214608098422191, 20741: 6.214608098422191, 20840: 7.090076835776092, 20033: 5.991464547107982, 20489: 8.216088098632316, 21268: 7.170119543449628, 21269: 7.170119543449628, 21100: 7.170119543449628, 20950: 7.090076835776092, 20986: 7.170119543449628, 20987: 7.170119543449628, 20992: 7.170119543449628, 18363: 5.799092654460526, 19484: 7.718685495198466, 22070: 5.991464547107982, 21760: 6.856461984594587, 21959: 6.907755278982137, 15326: 7.8632667240095735, 15212: 5.598421958998375, 13744: 7.24422751560335, 13646: 6.907755278982137, 13658: 6.856461984594587, 15971: 5.521460917862246, 14986: 8.242756345714477, 14987: 8.242756345714477, 17637: 7.696212639346407, 17636: 7.696212639346407, 18077: 5.703782474656201, 17968: 5.857933154483459, 16211: 5.703782474656201, 16158: 6.396929655216146, 15997: 6.802394763324311, 16019: 8.006367567650246, 2271: 7.313220387090301, 18212: 5.298317366548036, 7930: 6.54965074223381, 6620: 7.243512974665482, 9394: 5.703782474656201, 9402: 5.298317366548036, 4356: 7.089243155027514, 5106: 6.214608098422191, 1866: 7.824046010856292, 1608: 7.090076835776092, 20034: 6.309918278226516, 21290: 7.170119543449628, 9070: 4.382026634673881, 6513: 7.313220387090301, 9214: 7.600902459542082, 13593: 7.7406644019172415, 13561: 8.85366542803745, 13638: 6.856461984594587, 13685: 7.029972911706386, 13694: 6.856461984594587, 13663: 6.856461984594587, 11526: 6.856461984594587, 11527: 6.907755278982137, 11528: 6.551080335043404, 11529: 6.551080335043404, 10199: 5.703782474656201, 13114: 7.495541943884256, 11534: 6.856461984594587, 11536: 6.856461984594587, 11542: 6.856461984594587, 21284: 7.1308988302963465, 17524: 6.8885724595653635, 5915: 7.319719223830131, 13711: 6.907755278982137, 9345: 6.476972362889683, 11421: 5.438079308923196, 13533: 6.898714534329988, 10528: 5.991464547107982, 5368: 8.921457578947884, 14981: 8.086410275323782, 20668: 8.699514748210191, 20698: 7.24422751560335, 20759: 6.309918278226516, 20841: 6.866933284461882, 20993: 7.170119543449628, 21068: 7.170119543449628, 21069: 7.170119543449628, 20444: 7.1308988302963465, 21118: 7.495264127519086, 21960: 6.907755278982137, 21131: 7.170119543449628, 21241: 7.170119543449628, 21262: 7.170119543449628, 21263: 7.170119543449628, 19493: 7.549609165154532, 20634: 7.549609165154532, 20665: 8.612503371220562, 20502: 7.090076835776092, 20491: 8.164794804244766, 20682: 7.549609165154532, 20688: 7.549609165154532, 20738: 6.214608098422191, 20828: 7.495541943884256, 19486: 7.718685495198466, 19490: 7.718685495198466, 20429: 8.006367567650246, 20830: 7.549609165154532, 21162: 7.170119543449628, 21207: 7.549609165154532, 21208: 7.549609165154532, 21209: 7.170119543449628, 21159: 7.170119543449628, 21210: 7.549609165154532, 21211: 7.549609165154532, 21212: 7.549609165154532, 21213: 7.549609165154532, 21239: 7.170119543449628, 21240: 7.170119543449628, 21123: 7.170119543449628, 21124: 7.170119543449628, 21125: 7.549609165154532, 21126: 7.549609165154532, 21130: 7.170119543449628, 21132: 7.170119543449628, 21133: 7.170119543449628, 21134: 7.170119543449628, 21135: 7.170119543449628, 21243: 7.170119543449628, 21261: 7.170119543449628, 21264: 7.170119543449628, 21255: 7.170119543449628, 21265: 7.170119543449628, 21266: 7.170119543449628, 21267: 7.170119543449628, 21270: 7.170119543449628, 21277: 6.745236349484362, 21242: 7.170119543449628, 21254: 7.170119543449628, 21245: 7.170119543449628, 21247: 7.170119543449628, 21248: 7.170119543449628, 21249: 6.946975992135418, 21250: 7.170119543449628, 21251: 7.170119543449628, 21252: 7.170119543449628, 21253: 7.170119543449628, 21120: 7.495541943884256, 20991: 7.170119543449628, 21066: 7.170119543449628, 21067: 7.170119543449628, 21071: 7.170119543449628, 21076: 7.170119543449628, 21077: 7.170119543449628, 21070: 7.170119543449628, 20989: 7.170119543449628, 21097: 7.549609165154532, 21098: 7.549609165154532, 21099: 7.170119543449628, 21117: 7.495541943884256, 21119: 7.549609165154532, 15155: 7.2078598714324755, 15159: 7.003065458786462, 15154: 7.003065458786462, 15153: 6.558197802812269, 15152: 7.2078598714324755, 14980: 8.517193191416238, 14997: 7.2078598714324755, 17629: 7.495541943884256, 16266: 7.495541943884256, 17628: 7.495541943884256, 15331: 7.718685495198466, 15327: 7.346010209913293, 15328: 7.549609165154532, 21278: 6.745236349484362, 9068: 4.382026634673881, 21293: 7.170119543449628, 21294: 7.170119543449628, 21295: 7.170119543449628, 21296: 7.170119543449628, 21292: 7.170119543449628, 21297: 7.170119543449628, 21312: 7.170119543449628, 21314: 7.170119543449628, 21316: 7.170119543449628, 21318: 7.170119543449628, 21311: 7.170119543449628, 21291: 6.946975992135418, 21287: 7.170119543449628, 21288: 7.170119543449628, 21289: 7.170119543449628, 21791: 7.313220387090301, 21952: 6.907755278982137, 21773: 7.3777589082278725, 9067: 4.382026634673881, 4409: 7.575584651557793, 13798: 7.003065458786462, 16045: 7.824046010856292, 14632: 7.1308988302963465, 10893: 7.7406644019172415, 11708: 7.346010209913293, 10978: 6.214608098422191, 4397: 6.906754778648554, 2233: 7.600902459542082, 16239: 6.684611727667927, 13642: 6.907755278982137, 13689: 6.907755278982137, 13673: 6.476972362889683, 9472: 8.131530710604252, 9475: 8.006367567650246, 9476: 8.131530710604252, 9477: 8.006367567650246, 14982: 7.408530566894626, 14988: 7.495541943884256, 14989: 8.1886891244442, 14990: 8.1886891244442, 14935: 6.309918278226516, 15310: 6.907755278982137, 21129: 7.170119543449628, 20803: 7.313220387090301, 20753: 7.090076835776092, 20846: 8.294049640102028, 20886: 7.313220387090301, 21315: 7.170119543449628, 21260: 7.170119543449628, 21246: 7.170119543449628, 21313: 7.170119543449628, 17635: 7.272398392570047, 20369: 8.007490270516797, 20370: 8.007490270516797, 20371: 8.006367567650246, 15311: 6.907755278982137, 16267: 7.495541943884256, 15891: 7.313220387090301, 20636: 7.24422751560335, 20633: 7.549609165154532, 20593: 7.3777589082278725, 20661: 8.294049640102028, 20720: 7.090076835776092, 20716: 7.549609165154532, 20686: 7.549609165154532, 20699: 7.24422751560335, 20589: 7.24422751560335, 20440: 7.549609165154532, 20446: 8.294049640102028, 20447: 8.294049640102028, 20449: 8.294049640102028, 20408: 7.170119543449628, 20415: 8.699514748210191, 20421: 7.314339760358218, 20423: 8.294049640102028, 20548: 7.24422751560335, 20552: 7.24422751560335, 20562: 7.549609165154532, 20549: 7.090076835776092, 20576: 7.549609165154532, 20566: 7.3777589082278725, 20501: 7.090076835776092, 20522: 6.309918278226516, 2119: 7.090076835776092, 13369: 5.703782474656201, 16637: 5.991464547107982, 9066: 4.382026634673881, 15344: 0.688134638736401, 3177: 5.003946305945459, 20195: 6.580639137284949, 14362: 7.24422751560335, 15996: 6.802394763324311, 3820: 7.090076835776092, 3859: 4.948759890378168, 15963: 7.67368812926773, 15952: 6.398594934535208, 15057: 5.703782474656201, 16799: 6.673297967767654, 19352: 4.852030263919617, 19451: 5.298317366548036, 19446: 6.1092475827643655, 19445: 7.1308988302963465, 19437: 6.802394763324311, 297: 5.521460917862246, 19054: 4.382026634673881, 18335: 5.799092654460526, 21564: 7.090076835776092, 21563: 7.090076835776092, 330: 5.37989735354046, 102: 10.236417809461043, 15392: 6.659293919683638, 15308: 7.803843303538772, 17268: 4.07753744390572, 5728: 5.968707559985366, 5718: 6.551080335043404, 5410: 3.912023005428146, 6446: 7.438383530044307, 6447: 7.170119543449628, 6417: 5.991464547107982, 4995: 7.600902459542082, 4472: 8.837971491357209, 4492: 5.991464547107982, 4859: 7.855932199718614, 4853: 8.27410200229233, 9106: 3.9318256327243257, 6959: 6.396929655216146, 6711: 5.29931686688112, 6898: 5.298317366548036, 6767: 6.214608098422191, 7785: 6.551080335043404, 7025: 6.214608098422191, 1599: 5.991464547107982, 1392: 6.551080335043404, 1385: 5.5254529391317835, 1551: 6.907755278982137, 2038: 7.600902459542082, 1379: 5.521460917862246, 661: 5.153291594497779, 1183: 8.157943507105037, 1181: 7.692113339595466, 1177: 6.86171134048073, 1175: 6.898714534329988, 1154: 7.596392304064196, 1376: 6.1092475827643655, 858: 5.0238805208462765, 852: 5.37989735354046, 841: 6.53813982376767, 3473: 6.214608098422191, 3235: 6.907755278982137, 3233: 6.907755278982137, 3240: 6.063785208687608, 3418: 6.063785208687608, 3262: 6.802394763324311, 4042: 4.9141243937154115, 3536: 6.907755278982137, 3363: 6.684611727667927, 2717: 4.418840607796598, 2042: 5.802118375377063, 2998: 7.632885505395133, 22033: 5.298317366548036, 3547: 6.907755278982137, 13134: 5.703782474656201, 6632: 7.494986233950533, 5493: 6.856461984594587, 2116: 7.090076835776092, 3815: 7.090076835776092, 12517: 5.857933154483459, 12505: 5.857933154483459, 8118: 8.748304912379623, 7554: 7.673223121121708, 10741: 5.991464547107982, 20198: 7.170119543449628, 18719: 3.912023005428146, 178: 5.5254529391317835, 3548: 6.906754778648554, 10975: 6.214608098422191, 6518: 7.600902459542082, 15394: 6.608000625296087, 11264: 7.313220387090301, 12509: 5.857933154483459, 15816: 5.003946305945459, 14420: 7.1308988302963465, 12502: 5.857933154483459, 12499: 5.857933154483459, 9658: 6.214608098422191, 9657: 6.214608098422191, 8972: 5.0106352940962555, 18955: 4.07753744390572, 21653: 4.61512051684126, 16050: 8.006367567650246, 22012: 5.298317366548036, 20420: 8.594154232552366, 17332: 4.605170185988092, 1887: 6.54965074223381, 15346: 4.867534450455582, 3843: 7.890208213109961, 3460: 7.090076835776092, 4334: 6.212606095751519, 4337: 7.937017489515453, 4478: 7.090076835776092, 4339: 7.243512974665482, 5489: 7.783224016336037, 5490: 7.2078598714324755, 6051: 6.1092475827643655, 5900: 5.988961416889864, 3461: 6.904820978129083, 3462: 6.908255154023788, 3463: 7.313220387090301, 3031: 7.313220387090301, 2293: 6.684611727667927, 2295: 8.070906088787819, 3028: 7.495541943884256, 3027: 7.661597667102579, 3026: 7.495541943884256, 2592: 6.214608098422191, 3464: 7.600902459542082, 3733: 8.411832675758411, 3735: 8.411832675758411, 3675: 6.947168281338972, 3842: 7.937374696163295, 3891: 5.857933154483459, 3537: 5.988961416889864, 14458: 5.703782474656201, 12814: 5.0106352940962555, 17104: 5.135798437050262, 15283: 7.803843303538772, 15286: 7.549609165154532, 15503: 6.492239835020471, 15545: 6.551080335043404, 15544: 5.991464547107982, 15850: 6.833031732786201, 7863: 7.170119543449628, 7725: 7.649692623711514, 7927: 8.098946748943339, 7928: 8.098946748943339, 7650: 5.0106352940962555, 11179: 5.703782474656201, 10518: 5.991464547107982, 21387: 7.438383530044307, 21389: 6.396929655216146, 21388: 7.27931883541462, 20631: 6.551080335043404, 20404: 7.090076835776092, 20405: 7.090076835776092, 20475: 6.803505257608338, 20463: 7.7406644019172415, 20923: 7.600902459542082, 1556: 6.907755278982137, 1564: 7.438383530044307, 2283: 6.684611727667927, 2284: 7.90100705199242, 2286: 7.8632667240095735, 2287: 7.600902459542082, 2288: 7.089243155027514, 1555: 6.396929655216146, 1549: 7.824046010856292, 21608: 5.0106352940962555, 21627: 5.991464547107982, 21628: 5.991964422149633, 21670: 5.991464547107982, 21430: 6.907755278982137, 21682: 4.584967478670572, 21976: 7.313220387090301, 21686: 7.575584651557793, 2294: 7.9724660159745655, 2296: 7.740229524763182, 2297: 7.600902459542082, 3030: 7.170119543449628, 3032: 7.170504084888706, 1557: 6.907755278982137, 1565: 6.802394763324311, 1548: 7.495541943884256, 1542: 7.772331575169614, 1569: 6.907755278982137, 2285: 8.006367567650246, 2289: 7.6004023345004, 1570: 7.600902459542082, 1534: 7.170119543449628, 3841: 6.907755278982137, 4479: 7.090076835776092, 4494: 7.6004023345004, 4338: 7.9724660159745655, 4336: 7.9724660159745655, 3447: 8.00603417874901, 3449: 7.600902459542082, 19158: 4.542123884270456, 19571: 5.438079308923196, 18148: 6.1092475827643655, 18149: 6.551080335043404, 17105: 6.476972362889683, 5488: 7.9724660159745655, 13443: 10.239638308916676, 13560: 8.294049640102028, 12194: 5.988961416889864, 7861: 8.006367567650246, 7723: 7.649692623711514, 8615: 5.293304824724492, 15403: 7.432483807917119, 15393: 7.361540599579898, 15345: 0.688134638736401, 15936: 7.696212639346407, 15940: 7.824046010856292, 15504: 6.396929655216146, 15296: 6.966024187106113, 15289: 7.575584651557793, 15691: 5.991464547107982, 16351: 6.684611727667927, 16352: 6.684611727667927, 16350: 6.684611727667927, 15783: 5.703782474656201, 15704: 5.991464547107982, 15705: 6.551080335043404, 15998: 6.802394763324311, 15000: 7.090076835776092, 13747: 6.684611727667927, 13746: 6.684611727667927, 14166: 5.703782474656201, 13968: 5.298317366548036, 14663: 5.438079308923196, 14710: 5.768320995793772, 15093: 6.802394763324311, 15103: 6.907755278982137, 14442: 5.703782474656201, 18796: 5.0106352940962555, 18831: 5.0106352940962555, 18840: 5.0106352940962555, 18851: 5.0106352940962555, 18887: 4.382026634673881, 18594: 5.991464547107982, 18441: 5.703782474656201, 20018: 7.495541943884256, 19884: 5.438079308923196, 19760: 5.991464547107982, 19916: 5.991464547107982, 19116: 5.991464547107982, 19117: 7.003065458786462, 19118: 6.684611727667927, 19159: 5.703782474656201, 19087: 5.0106352940962555, 19667: 5.991464547107982, 19668: 5.703782474656201, 19509: 5.521460917862246, 16951: 6.522092798170152, 17607: 5.703782474656201, 17138: 5.991464547107982, 17106: 6.214608098422191, 17108: 5.521460917862246, 17107: 6.684611727667927, 16628: 5.991464547107982, 16629: 5.298317366548036, 17789: 4.499809670330265, 18163: 4.59511985013459, 18135: 5.703782474656201, 17296: 5.991464547107982, 17235: 5.0106352940962555, 4495: 7.494986233950533, 18834: 5.0106352940962555, 15764: 3.912023005428146, 3774: 5.703782474656201, 3448: 8.021029553480894, 5046: 5.857933154483459, 5319: 5.703782474656201, 5903: 7.428333194190806, 1450: 7.600902459542082, 2643: 5.298317366548036, 6308: 5.703782474656201, 6064: 7.090076835776092, 6234: 5.703782474656201, 6420: 7.24422751560335, 7712: 5.0106352940962555, 13422: 9.011767474596178, 8658: 5.135798437050262, 10934: 5.298317366548036, 12480: 5.991464547107982, 13592: 7.600902459542082, 12693: 7.313220387090301, 13442: 10.203555107263542, 19438: 7.495541943884256, 11178: 5.991464547107982, 6170: 8.411832675758411, 6226: 5.438079308923196, 6062: 7.090076835776092, 5901: 7.495541943884256, 9869: 5.991464547107982, 10402: 7.313220387090301, 9208: 7.495541943884256, 7433: 5.703782474656201, 8417: 5.135798437050262, 9206: 7.495541943884256, 12193: 7.090076835776092, 13401: 10.06441521664241, 15400: 7.432483807917119, 6225: 7.346010209913293, 5684: 5.438079308923196, 9835: 5.991464547107982, 11185: 5.991464547107982, 8218: 5.521460917862246, 2290: 7.8628820346414905, 2292: 8.00603417874901, 3451: 7.170119543449628, 1185: 8.802522498284421, 17662: 7.3777589082278725, 17817: 5.0106352940962555, 12889: 5.438079308923196, 5833: 6.396929655216146, 4871: 7.170119543449628, 10131: 5.438079308923196, 8008: 5.857933154483459, 8187: 8.92930284224307, 7724: 7.549609165154532, 17297: 6.551080335043404, 15885: 8.294049640102028, 15934: 7.696212639346407, 15935: 7.696212639346407, 16065: 6.214608098422191, 15995: 7.824046010856292, 4335: 7.24422751560335, 3641: 5.703782474656201, 8146: 5.0106352940962555, 5902: 7.312553498102598, 3033: 7.313553664880422, 3216: 5.517452896464707, 962: 5.135798437050262, 1535: 7.600902459542082, 8472: 5.857933154483459, 9187: 5.521460917862246, 7929: 8.098946748943339, 7935: 9.209439966733019, 7936: 7.6004023345004, 9233: 5.703782474656201, 7839: 7.495541943884256, 12399: 4.605170185988092, 11904: 5.0106352940962555, 12496: 5.991464547107982, 13399: 9.615205300012315, 10675: 6.745236349484362, 10596: 5.703782474656201, 11413: 5.991464547107982, 11414: 5.703782474656201, 10937: 5.298317366548036, 2291: 8.165889510667132, 2591: 7.8632667240095735, 270: 5.521460917862246, 20926: 7.600902459542082, 5140: 7.696212639346407, 5153: 7.170119543449628, 5167: 6.214608098422191, 5130: 6.907755278982137, 5184: 7.003065458786462, 5124: 8.517193191416238, 5076: 7.438383530044307, 5105: 6.214608098422191, 5010: 6.620073206530356, 5835: 6.396929655216146, 5834: 6.396929655216146, 5832: 6.396929655216146, 3450: 7.937017489515453, 1550: 7.170119543449628, 15: 4.07753744390572, 11: 4.07753744390572, 16349: 6.684611727667927, 15086: 6.802394763324311, 8227: 7.495541943884256, 11401: 5.0106352940962555, 11412: 5.991464547107982, 10931: 7.600902459542082, 12054: 5.0106352940962555, 11876: 6.396929655216146, 10132: 5.438079308923196, 9815: 5.298317366548036, 10793: 5.0106352940962555, 14707: 5.298317366548036, 14705: 5.521460917862246, 15173: 8.160518247477505, 12704: 6.212606095751519, 13591: 7.495541943884256, 6276: 7.495541943884256, 5971: 6.620073206530356, 5247: 7.824046010856292, 8221: 7.495541943884256, 9209: 7.495541943884256, 8970: 6.396929655216146, 15999: 6.802394763324311, 19036: 7.24422751560335, 1543: 7.549609165154532, 6426: 7.313220387090301, 15404: 7.432483807917119, 10936: 5.298317366548036, 396: 5.37989735354046, 220: 4.976733742420574, 108: 5.153291594497779, 107: 5.153291594497779, 856: 5.37989735354046, 757: 5.241747015059643, 20703: 6.396929655216146, 20644: 7.438383530044307, 3396: 5.521460917862246, 3258: 5.991464547107982, 3257: 5.703782474656201, 3259: 4.382026634673881, 3241: 7.313220387090301, 2978: 6.063785208687608, 2970: 6.214608098422191, 2928: 4.605170185988092, 2842: 5.521460917862246, 2841: 5.521460917862246, 2837: 6.551080335043404, 3398: 4.605170185988092, 3403: 6.063785208687608, 3466: 7.090076835776092, 3602: 5.707110264748875, 3672: 5.752572638825633, 2834: 6.214608098422191, 3452: 7.313220387090301, 3411: 5.393627546352361, 3455: 7.783224016336037, 1559: 7.090076835776092, 1553: 7.600902459542082, 1784: 4.477336814478207, 1789: 5.703782474656201, 1792: 6.040254711277414, 1794: 6.040254711277414, 1797: 4.442651256490317, 1798: 6.040254711277414, 2418: 6.1092475827643655, 2347: 6.551080335043404, 2729: 6.684611727667927, 1774: 3.6888794541139363, 2261: 5.393627546352361, 15797: 6.54965074223381, 16911: 5.0106352940962555, 19113: 5.298317366548036, 19098: 5.298317366548036, 18057: 7.170119543449628, 18635: 5.0106352940962555, 20025: 6.152732694704104, 19428: 7.0909098220799835, 6421: 6.684611727667927, 5904: 6.906754778648554, 6509: 6.684611727667927, 6398: 5.991464547107982, 5765: 8.921457578947884, 5763: 8.66406026722579, 5411: 3.912023005428146, 6173: 4.836281906951478, 6145: 5.521460917862246, 6958: 4.605170185988092, 6956: 6.063785208687608, 6955: 5.991464547107982, 6948: 6.309918278226516, 6947: 6.063785208687608, 6946: 6.063785208687608, 6957: 6.063785208687608, 4198: 7.972810784121404, 4191: 7.307202314764738, 4217: 7.596392304064196, 4219: 7.307202314764738, 4730: 5.673323267171493, 4491: 4.605170185988092, 4341: 6.684611727667927, 4346: 5.703782474656201, 4369: 6.040254711277414, 4342: 5.857933154483459, 3931: 6.040254711277414, 5020: 8.294299608857235, 5282: 8.101980731853192, 5281: 8.24301946898925, 4954: 7.1631723908466425, 4951: 7.596392304064196, 4917: 6.684611727667927, 4905: 6.040254711277414, 4903: 5.521460917862246, 4881: 2.3978952727983707, 4854: 7.467942332285852, 16814: 5.673323267171493, 16809: 6.673297967767654, 16806: 6.673297967767654, 16798: 5.673323267171493, 16378: 5.568344503761097, 7833: 4.605170185988092, 7095: 6.246106765481563, 7086: 6.907755278982137, 7103: 5.438079308923196, 7810: 4.867534450455582, 7542: 6.214608098422191, 10205: 6.984716320118265, 9115: 3.9318256327243257, 9110: 3.9318256327243257, 9102: 5.707110264748875, 9456: 5.0106352940962555, 8527: 7.707512194600341, 9095: 5.707110264748875, 9096: 5.707110264748875, 3217: 6.54965074223381, 5836: 6.396929655216146, 16133: 6.679599185844383, 15001: 7.090076835776092, 21483: 9.975808214115753, 20848: 7.24422751560335, 20857: 6.907755278982137, 20670: 7.24422751560335, 20587: 7.24422751560335, 6171: 7.718685495198466, 5049: 7.323830566202317, 5053: 7.504391559161238, 3789: 6.985641817639208, 3791: 6.918695219020472, 179: 5.5254529391317835, 236: 5.521460917862246, 11677: 7.600902459542082, 11109: 6.396929655216146, 12867: 7.090076835776092, 6411: 8.459775920546287, 20922: 7.600902459542082, 6063: 7.090076835776092, 15796: 7.090076835776092, 4011: 5.521460917862246, 2651: 7.255591274253665, 8410: 7.824046010856292, 8348: 7.346010209913293, 12407: 7.783224016336037, 11112: 5.991464547107982, 3218: 6.906754778648554, 17169: 6.214608098422191, 8366: 6.309918278226516, 10870: 4.382026634673881, 10868: 4.382026634673881, 5011: 6.620073206530356, 19248: 7.24422751560335, 19249: 7.003065458786462, 17123: 5.298317366548036, 20911: 7.600902459542082, 4424: 5.703782474656201, 21630: 5.298317366548036, 10905: 7.696212639346407, 16119: 7.3777589082278725, 19423: 5.857933154483459, 9004: 7.003065458786462, 13381: 5.703782474656201, 9536: 7.003065458786462, 19180: 7.2078598714324755, 19250: 7.003065458786462, 19251: 7.090076835776092, 13367: 5.703782474656201, 7625: 5.5254529391317835, 7624: 5.5254529391317835, 7618: 5.3981627015177525, 15182: 7.882314918980268, 14033: 5.521460917862246, 15937: 7.143617602704121, 12411: 5.298317366548036, 2597: 7.313220387090301, 3029: 7.824046010856292, 21075: 7.170119543449628, 9938: 5.293304824724492, 17315: 5.991464547107982, 17316: 6.214608098422191, 17500: 5.703782474656201, 17501: 6.551080335043404, 17748: 5.666945584604227, 17373: 5.991464547107982, 16897: 5.703782474656201, 16896: 5.991464547107982, 17022: 8.794824928014517, 19440: 7.495541943884256, 18974: 5.991464547107982, 19133: 5.991464547107982, 19134: 6.309918278226516, 18407: 5.438079308923196, 17904: 5.991464547107982, 18116: 5.0106352940962555, 19363: 5.857933154483459, 18939: 5.0106352940962555, 18478: 5.703782474656201, 18477: 5.0106352940962555, 18455: 5.298317366548036, 18501: 5.799092654460526, 15281: 7.003065458786462, 15532: 5.991464547107982, 15487: 6.309918278226516, 15483: 6.309918278226516, 14446: 5.135798437050262, 14506: 5.991464547107982, 14583: 4.07753744390572, 15047: 7.313220387090301, 14409: 5.991464547107982, 15759: 5.0106352940962555, 15784: 5.0106352940962555, 16434: 5.991464547107982, 16435: 6.551080335043404, 16360: 6.684611727667927, 15787: 5.703782474656201, 15786: 5.703782474656201, 15785: 5.703782474656201, 15788: 6.214608098422191, 16061: 7.600902459542082, 16078: 6.907755278982137, 16192: 5.703782474656201, 16137: 5.768945800562614, 10628: 6.745236349484362, 10488: 4.605170185988092, 10489: 5.991464547107982, 10490: 6.551080335043404, 10382: 5.298317366548036, 10379: 5.0106352940962555, 10380: 5.521460917862246, 10381: 5.703782474656201, 10074: 5.521460917862246, 11097: 5.991464547107982, 11103: 6.309918278226516, 11157: 5.293304824724492, 10719: 5.991464547107982, 10842: 5.991464547107982, 10854: 5.991464547107982, 10861: 4.605170185988092, 10862: 4.605170185988092, 10820: 5.298317366548036, 10748: 5.521460917862246, 10770: 5.0106352940962555, 10776: 5.991464547107982, 10073: 5.521460917862246, 8702: 5.521460917862246, 8703: 6.214608098422191, 9200: 7.2078598714324755, 7982: 10.09377727897926, 9794: 6.551080335043404, 9494: 3.912023005428146, 9995: 6.620073206530356, 9994: 6.1092475827643655, 9419: 5.293304824724492, 9420: 5.517452896464707, 11436: 5.438079308923196, 13682: 7.047517221357296, 13688: 6.907755278982137, 13643: 7.090076835776092, 13644: 6.907755278982137, 13649: 6.745236349484362, 13651: 7.090076835776092, 13655: 6.856461984594587, 13659: 6.620073206530356, 13666: 6.684611727667927, 13827: 5.135798437050262, 13594: 7.7406644019172415, 14143: 6.551080335043404, 14142: 5.703782474656201, 14991: 8.411832675758411, 13867: 5.857933154483459, 13869: 5.857933154483459, 12060: 5.703782474656201, 12090: 5.991464547107982, 12091: 6.214608098422191, 12315: 5.438079308923196, 12059: 5.991464547107982, 12031: 5.521460917862246, 12421: 5.521460917862246, 12369: 5.991464547107982, 11520: 6.802394763324311, 11723: 5.298317366548036, 11730: 5.991464547107982, 13494: 9.615205300012315, 13465: 8.85352256068954, 13406: 10.01681623784313, 13553: 8.699514748210191, 12514: 6.1092475827643655, 13122: 7.313220387090301, 13124: 7.346010209913293, 13125: 7.8632667240095735, 13127: 7.824046010856292, 12500: 6.1092475827643655, 12512: 6.1092475827643655, 12513: 6.1092475827643655, 19528: 5.991464547107982, 1541: 7.600902459542082, 1486: 7.090076835776092, 1233: 7.003065458786462, 21674: 5.521460917862246, 21673: 5.703782474656201, 21669: 5.0106352940962555, 21200: 7.170119543449628, 21199: 6.7464121285733745, 21752: 5.768945800562614, 22054: 7.696212639346407, 2877: 7.803720847061692, 2876: 7.803598375587187, 2875: 6.551508814661472, 2873: 6.551508814661472, 2878: 7.803843303538772, 2870: 6.551508814661472, 2813: 7.313220387090301, 2859: 5.348535082708654, 2866: 6.550651671751851, 2864: 6.550651671751851, 2863: 6.551508814661472, 2862: 6.550651671751851, 2861: 7.495541943884256, 2860: 7.138628876358258, 2424: 6.214608098422191, 2429: 7.090076835776092, 2430: 7.600902459542082, 2431: 6.214608098422191, 15795: 7.24422751560335, 15480: 6.396929655216146, 15477: 6.396929655216146, 20398: 7.600902459542082, 20397: 7.600902459542082, 20395: 7.600902459542082, 20394: 7.600902459542082, 20393: 7.600902459542082, 20434: 7.170119543449628, 19794: 5.0106352940962555, 19774: 6.684611727667927, 19646: 5.857933154483459, 19795: 5.703782474656201, 19796: 5.991464547107982, 20059: 5.991464547107982, 19797: 5.703782474656201, 20831: 7.549609165154532, 20613: 7.003065458786462, 20614: 7.003065458786462, 18454: 4.605170185988092, 17306: 3.912023005428146, 6057: 5.703782474656201, 5666: 8.186185994226083, 5638: 8.098946748943339, 5631: 7.937017489515453, 8930: 4.07753744390572, 7498: 5.857933154483459, 7792: 7.824046010856292, 3443: 6.396929655216146, 4869: 7.313220387090301, 4456: 7.494986233950533, 4455: 5.293304824724492, 4480: 7.003065458786462, 1232: 7.843848638152472, 3479: 7.313220387090301, 20713: 9.798127036878302, 20433: 8.006367567650246, 20542: 7.600902459542082, 20544: 7.600902459542082, 20243: 5.0106352940962555, 20834: 7.3777589082278725, 19952: 7.24422751560335, 21683: 5.0106352940962555, 21672: 5.521460917862246, 21776: 6.684611727667927, 22118: 4.59511985013459, 20953: 6.551080335043404, 9792: 5.991464547107982, 9550: 4.59511985013459, 10785: 6.1092475827643655, 13524: 7.696212639346407, 14792: 4.59511985013459, 5654: 7.237778191923443, 20399: 7.600902459542082, 20454: 6.907755278982137, 20455: 6.907755278982137, 17045: 5.0106352940962555, 2422: 6.214608098422191, 3477: 6.907755278982137, 15333: 7.243512974665482, 12955: 5.438079308923196, 13914: 5.0106352940962555, 15760: 3.912023005428146, 15424: 7.243512974665482, 7270: 5.703782474656201, 7487: 5.703782474656201, 6307: 5.703782474656201, 10823: 5.0106352940962555, 11952: 6.551080335043404, 11465: 4.07753744390572, 7458: 5.703782474656201, 7328: 5.521460917862246, 2871: 6.551508814661472, 4001: 5.703782474656201, 2865: 6.551508814661472, 3171: 8.006367567650246, 2879: 8.160518247477505, 2867: 6.551080335043404, 6512: 6.802394763324311, 5509: 5.703782474656201, 13021: 7.2078598714324755, 12528: 6.1092475827643655, 15280: 7.003065458786462, 13861: 5.0106352940962555, 7726: 6.906754778648554, 983: 5.135798437050262, 1730: 5.293304824724492, 17044: 5.0106352940962555, 17390: 4.605170185988092, 16361: 6.907755278982137, 20126: 5.135798437050262, 20611: 7.718685495198466, 20456: 6.907755278982137, 12048: 5.0106352940962555, 7293: 5.703782474656201, 16685: 5.991464547107982, 20521: 7.600902459542082, 12619: 3.912023005428146, 12436: 4.605170185988092, 11259: 3.912023005428146, 11132: 4.605170185988092, 13908: 7.1308988302963465, 12971: 7.2078598714324755, 13664: 7.029972911706386, 9710: 5.298317366548036, 9599: 5.298317366548036, 7452: 6.1092475827643655, 16848: 5.0106352940962555, 18640: 4.605170185988092, 18793: 3.912023005428146, 18393: 5.799092654460526, 19485: 7.937374696163295, 17391: 4.605170185988092, 20443: 7.495541943884256, 17638: 7.495541943884256, 20951: 6.907755278982137, 20954: 6.551080335043404, 17421: 5.135798437050262, 13129: 7.1853870155804165, 13128: 7.1853870155804165, 13126: 7.795646536334594, 12516: 6.1092475827643655, 12118: 9.851773116849449, 11951: 5.528635121610247, 13966: 7.24422751560335, 13964: 7.346010209913293, 14192: 5.703782474656201, 13519: 7.696212639346407, 13557: 7.824046010856292, 9793: 7.090076835776092, 9500: 4.605170185988092, 9966: 5.0106352940962555, 11147: 7.696212639346407, 10523: 3.912023005428146, 15872: 7.600902459542082, 15179: 7.640123172695364, 14293: 5.0106352940962555, 15291: 7.003065458786462, 6368: 5.991464547107982, 8469: 5.857933154483459, 10314: 5.521460917862246, 20480: 7.824046010856292, 21810: 5.991464547107982, 4457: 6.673297967767654, 20396: 7.600902459542082, 19648: 4.384523514872469, 21317: 7.170119543449628, 20952: 6.551080335043404, 20883: 6.802394763324311, 20882: 6.802394763324311, 20832: 7.549609165154532, 18011: 5.703782474656201, 17496: 5.991464547107982, 17451: 3.912023005428146, 19025: 4.382026634673881, 18222: 5.703782474656201, 21685: 7.003065458786462, 16468: 5.991464547107982, 15815: 5.991464547107982, 4956: 6.551080335043404, 414: 5.521460917862246, 386: 5.5254529391317835, 20479: 7.549609165154532, 18106: 8.242756345714477, 20559: 5.0106352940962555, 20558: 5.135798437050262, 20555: 5.135798437050262, 20452: 9.210340371976184, 20877: 6.309918278226516, 20849: 7.24422751560335, 21256: 7.170119543449628, 21113: 7.549609165154532, 11372: 6.054439346269371, 9378: 6.396929655216146, 9199: 7.2078598714324755, 9177: 6.214608098422191, 10318: 5.298317366548036, 9473: 8.294049640102028, 9467: 9.105090961257085, 10319: 5.298317366548036, 16840: 6.396929655216146, 16839: 6.396929655216146, 17714: 6.7464121285733745, 17752: 6.907755278982137, 14152: 8.070906088787819, 13754: 6.154858094016418, 7608: 8.471358655072438, 5909: 10.274740715974103, 9542: 7.2078598714324755, 14631: 7.1308988302963465, 13887: 7.696212639346407, 8141: 7.1308988302963465, 939: 5.991464547107982, 940: 5.991464547107982, 938: 5.991464547107982, 14671: 7.2078598714324755, 19897: 3.912023005428146, 11115: 5.0106352940962555, 11720: 5.0106352940962555, 10633: 6.802394763324311, 14: 3.367295829986474, 7: 3.367295829986474, 5: 3.367295829986474, 3590: 7.313220387090301, 18628: 7.600902459542082, 18267: 7.003065458786462, 15580: 7.2078598714324755, 16688: 5.991464547107982, 16989: 7.346010209913293, 11238: 5.605802066295998, 9899: 7.24422751560335, 15180: 7.6004023345004, 19857: 4.605170185988092, 21201: 7.170119543449628, 21325: 7.003065458786462, 14046: 5.991464547107982, 12647: 7.003065458786462, 19447: 4.382026634673881, 19355: 7.313886831633462, 19354: 6.898714534329988, 19448: 4.382026634673881, 15951: 6.111467339502679, 16810: 5.673323267171493, 16807: 6.673297967767654, 15567: 7.24422751560335, 20060: 5.298317366548036, 19968: 8.070906088787819, 19970: 8.070906088787819, 19969: 8.070906088787819, 13801: 4.07753744390572, 15174: 8.061486866871327, 4927: 7.307202314764738, 4919: 6.898714534329988, 4855: 8.27410200229233, 4946: 7.596392304064196, 4955: 7.596392304064196, 5280: 7.972810784121404, 5230: 5.351858133476067, 5200: 6.396929655216146, 4957: 6.53813982376767, 6445: 4.605170185988092, 5977: 5.62040086571715, 5882: 5.521460917862246, 5880: 5.521460917862246, 3940: 6.1092475827643655, 3889: 6.063785208687608, 3854: 4.867534450455582, 4275: 3.912023005428146, 4276: 2.995732273553991, 4221: 7.779466967458324, 4220: 7.307202314764738, 9311: 5.521460917862246, 8524: 6.898714534329988, 6941: 7.313220387090301, 6938: 7.783224016336037, 6940: 7.090076835776092, 7756: 2.772588722239781, 7108: 5.703782474656201, 7079: 6.4457198193855785, 300: 5.153291594497779, 21868: 5.298317366548036, 20534: 9.680344001221918, 20520: 8.556413904569519, 20709: 6.802394763324311, 20701: 6.684611727667927, 2757: 4.948759890378168, 2979: 5.857933154483459, 2065: 6.1092475827643655, 1773: 3.6888794541139363, 1772: 4.605170185988092, 1771: 6.063785208687608, 2046: 4.867534450455582, 3215: 6.551080335043404, 3397: 4.605170185988092, 3005: 6.68586094706836, 1156: 7.779466967458324, 538: 9.581972891547895, 537: 5.241747015059643, 653: 5.241747015059643, 767: 4.919980925828125, 764: 5.241747015059643, 1157: 8.592486175451668, 1862: 6.396929655216146, 1405: 5.703782474656201, 1352: 7.438971592395862, 1350: 7.3783837129967145, 1182: 8.157943507105037, 1179: 7.596392304064196, 1554: 5.1647859739235145, 1043: 6.54965074223381, 15986: 6.111467339502679, 15181: 7.824046010856292, 9712: 5.298317366548036, 13081: 5.799092654460526, 11466: 5.521460917862246, 20490: 8.216088098632316, 19967: 8.070906088787819, 5158: 5.991464547107982, 7643: 7.262628600974241, 7642: 7.518064181233078, 7634: 8.698013622083925, 7632: 7.745435610274381, 7629: 5.857933154483459, 7628: 5.5254529391317835, 7627: 5.857933154483459, 7626: 5.3981627015177525, 7622: 5.3981627015177525, 7621: 5.5254529391317835, 7620: 5.5254529391317835, 7619: 5.5254529391317835, 7617: 5.5254529391317835, 7616: 5.5254529391317835, 7615: 5.5254529391317835, 7614: 5.5254529391317835, 7611: 5.334673403508691, 7609: 7.745435610274381, 7605: 8.253488028345904, 7603: 7.595884892580284, 7595: 7.67368812926773, 7590: 7.3938782901077555, 7589: 7.262628600974241, 7580: 7.67368812926773, 7569: 8.610685355995543, 7260: 5.703782474656201, 8431: 5.0106352940962555, 8149: 5.0106352940962555, 8150: 5.0106352940962555, 20477: 7.824046010856292, 19162: 6.309918278226516, 19161: 5.703782474656201, 21342: 6.906754778648554, 21955: 7.313220387090301, 21956: 7.313220387090301, 15398: 7.029972911706386, 15066: 6.684611727667927, 15048: 7.313220387090301, 15267: 7.1308988302963465, 19000: 5.075173815233827, 16788: 7.649692623711514, 4555: 5.991464547107982, 7583: 7.67368812926773, 7584: 7.544861068658458, 6396: 5.293304824724492, 6266: 5.991464547107982, 6400: 6.907755278982137, 6394: 7.783224016336037, 2541: 6.684611727667927, 11641: 5.991464547107982, 11207: 5.991464547107982, 11208: 6.551080335043404, 11229: 5.991464547107982, 8886: 5.991464547107982, 13675: 7.1308988302963465, 13721: 5.438079308923196, 18101: 8.242756345714477, 17962: 5.857933154483459, 17960: 5.857933154483459, 17961: 5.857933154483459, 20635: 7.549609165154532, 20900: 7.090076835776092, 11117: 5.521460917862246, 16109: 8.612503371220562, 13123: 7.313220387090301, 13390: 5.703782474656201, 13719: 5.438079308923196, 13720: 5.438079308923196, 13722: 5.438079308923196, 13723: 5.438079308923196, 14502: 7.696212639346407, 8653: 5.135798437050262, 11247: 5.857933154483459, 17333: 5.991464547107982, 4554: 5.703782474656201, 6393: 5.700443573390686, 6399: 6.907755278982137, 4437: 7.27931883541462, 14121: 6.396929655216146, 3945: 6.907755278982137, 5999: 6.214608098422191, 16003: 7.313220387090301, 16058: 6.1092475827643655, 1299: 7.24422751560335, 1298: 7.24422751560335, 13138: 5.288267030694535, 8115: 7.438383530044307, 4944: 7.313220387090301, 14018: 6.1092475827643655, 613: 5.241747015059643, 614: 5.241747015059643, 634: 5.241747015059643, 789: 8.776630098427717, 6679: 10.30865261563529, 16200: 7.170119543449628, 18395: 7.600902459542082, 15588: 5.298317366548036, 17239: 5.298317366548036, 10882: 5.991464547107982, 3444: 7.438383530044307, 21257: 7.170119543449628, 8654: 5.703782474656201, 9582: 5.0106352940962555, 16004: 6.620073206530356, 14844: 5.703782474656201, 16088: 7.7406644019172415, 16066: 5.517452896464707, 13706: 6.214608098422191, 13904: 7.2078598714324755, 14153: 8.006367567650246, 15178: 7.835974581721566, 14613: 7.673223121121708, 4935: 6.898714534329988, 13697: 6.214608098422191, 9422: 5.857933154483459, 16650: 5.521460917862246, 16651: 5.521460917862246, 14822: 7.003065458786462, 15399: 7.029972911706386, 15401: 7.029972911706386, 15402: 7.029972911706386, 429: 5.478970866241294, 443: 5.521460917862246, 787: 6.042632833682381, 450: 5.703782474656201, 2627: 6.3473892096560105, 7585: 7.613818684808629, 7604: 7.613818684808629, 7630: 5.5254529391317835, 7638: 7.544861068658458, 21617: 6.214608098422191, 19658: 5.991464547107982, 9423: 6.1092475827643655, 8216: 7.24422751560335, 21595: 7.696212639346407, 14398: 5.703782474656201, 13866: 7.003065458786462, 22109: 7.090076835776092, 20955: 5.991464547107982, 9855: 5.521460917862246, 8138: 5.521460917862246, 5770: 9.472012088995733, 6615: 6.907755278982137, 8185: 8.92930284224307, 8184: 8.92930284224307, 15407: 6.646390514847729, 13505: 7.003065458786462, 20921: 7.450079569807499, 20572: 7.673223121121708, 14605: 5.521460917862246, 15938: 7.170119543449628, 15406: 6.1092475827643655, 13701: 6.214608098422191, 13113: 8.34283980427146, 13110: 8.11969625295725, 17215: 3.367295829986474, 10240: 4.605170185988092, 12192: 7.600902459542082, 7145: 6.396929655216146, 9101: 3.9318256327243257, 9310: 5.521460917862246, 9309: 5.521460917862246, 9118: 3.9318256327243257, 9220: 4.90527477843843, 8526: 7.237778191923443, 7921: 6.214608098422191, 19444: 5.231108616854587, 15065: 6.684611727667927, 13198: 5.298317366548036, 15958: 6.398594934535208, 16380: 4.852030263919617, 16075: 7.090076835776092, 7460: 5.703782474656201, 20916: 7.450079569807499, 15896: 6.309918278226516, 4195: 8.268988209506656, 4222: 7.779466967458324, 4218: 7.596392304064196, 4206: 7.0909098220799835, 3638: 6.620073206530356, 3727: 7.600902459542082, 4857: 9.688622142666144, 4856: 9.954703343920398, 4340: 6.214608098422191, 4329: 4.663439094112067, 4343: 6.802394763324311, 4729: 6.620073206530356, 4392: 6.214608098422191, 4358: 6.040254711277414, 4347: 5.991464547107982, 2843: 4.605170185988092, 2840: 4.605170185988092, 2771: 4.605170185988092, 3399: 4.605170185988092, 3400: 4.605170185988092, 3401: 4.605170185988092, 5752: 8.68265508614053, 5733: 7.307202314764738, 5714: 7.155396301896734, 5702: 7.358193752733032, 5703: 7.358193752733032, 4952: 6.898714534329988, 126: 4.74493212836325, 1796: 5.521460917862246, 2298: 7.824046010856292, 2045: 5.521460917862246, 395: 5.153291594497779, 374: 5.153291594497779, 361: 4.976733742420574, 360: 4.976733742420574, 359: 4.976733742420574, 358: 4.976733742420574, 301: 5.153291594497779, 291: 5.153291594497779, 145: 4.976733742420574, 141: 4.976733742420574, 131: 4.74493212836325, 130: 4.74493212836325, 129: 4.74493212836325, 128: 4.74493212836325, 127: 4.74493212836325, 1159: 8.098946748943339, 909: 5.0238805208462765, 797: 5.5254529391317835, 10: 3.367295829986474, 21920: 5.135798437050262, 22164: 6.309918278226516, 18626: 6.309918278226516, 18923: 5.991464547107982, 18543: 5.298317366548036, 17468: 5.703782474656201, 17467: 5.857933154483459, 20909: 6.745236349484362, 20580: 6.907755278982137, 19806: 5.857933154483459, 19815: 6.90875477931522, 20056: 6.214608098422191, 20055: 5.991464547107982, 19817: 6.1092475827643655, 19816: 6.620073206530356, 2874: 6.907755278982137, 2884: 6.907755278982137, 2883: 6.907755278982137, 2882: 6.550651671751851, 2881: 6.551508814661472, 2880: 6.551080335043404, 1783: 5.700443573390686, 1199: 5.521460917862246, 1674: 6.1092475827643655, 8074: 6.551080335043404, 13698: 6.214608098422191, 8819: 6.684611727667927, 9840: 5.521460917862246, 9407: 5.857933154483459, 9408: 5.857933154483459, 9411: 5.857933154483459, 15739: 6.214608098422191, 16784: 5.991464547107982, 16493: 5.991464547107982, 16825: 7.7406644019172415, 16826: 8.160518247477505, 16923: 5.298317366548036, 15323: 6.234410725718371, 15240: 6.396929655216146, 15112: 5.075173815233827, 15238: 6.413458957167357, 15239: 6.214608098422191, 2885: 6.907755278982137, 2886: 6.551508814661472, 7087: 6.551080335043404, 6714: 7.495541943884256, 6395: 7.243512974665482, 6252: 5.703782474656201, 6254: 7.047517221357296, 9424: 6.1092475827643655, 9586: 6.396929655216146, 9585: 5.991464547107982, 8359: 7.24422751560335, 8391: 6.1092475827643655, 8393: 6.684611727667927, 8204: 5.991464547107982, 8205: 6.620073206530356, 3753: 5.991464547107982, 3243: 6.396929655216146, 3244: 7.495541943884256, 3445: 7.600902459542082, 3446: 7.495541943884256, 3071: 6.684611727667927, 5828: 5.991464547107982, 13708: 6.551080335043404, 13696: 6.551080335043404, 13695: 6.551080335043404, 21676: 5.0106352940962555, 20904: 6.745236349484362, 20913: 6.745236349484362, 20924: 6.745236349484362, 16922: 5.703782474656201, 18625: 5.991464547107982, 16041: 6.684611727667927, 3245: 7.313220387090301, 3992: 5.703782474656201, 6003: 5.991464547107982, 14865: 4.605170185988092, 14866: 5.0106352940962555, 15405: 6.659293919683638, 13700: 6.214608098422191, 14348: 6.684611727667927, 14347: 5.991464547107982, 14044: 5.991464547107982, 13704: 6.214608098422191, 13712: 6.214608098422191, 8073: 5.991464547107982, 11663: 5.521460917862246, 15237: 6.214608098422191, 15914: 7.3777589082278725, 20920: 7.450079569807499, 20581: 6.907755278982137, 20578: 6.907755278982137, 15169: 8.006367567650246, 8065: 5.991464547107982, 11200: 4.32161292811326, 11648: 5.857933154483459, 21742: 5.991464547107982, 21684: 5.0106352940962555, 20925: 9.210340371976184, 20586: 6.907755278982137, 21258: 7.170119543449628, 21259: 7.170119543449628, 20579: 6.907755278982137, 20582: 6.907755278982137, 20908: 7.293031285122406, 1046: 6.907755278982137, 15939: 7.762170607138205, 16179: 7.824046010856292, 14188: 5.703782474656201, 15165: 8.006367567650246, 15163: 8.006367567650246, 16630: 5.857933154483459, 20917: 7.450079569807499, 13710: 6.214608098422191, 20585: 6.745236349484362, 20642: 9.082507000466299, 20919: 7.450079569807499, 10973: 6.214608098422191, 919: 5.43372200355424, 922: 5.43372200355424, 21765: 5.521460917862246, 11486: 5.703782474656201, 9121: 3.9318256327243257, 7093: 5.438079308923196, 7089: 5.438079308923196, 7088: 6.907755278982137, 16251: 5.860786223465865, 3728: 7.600902459542082, 3754: 6.396929655216146, 2999: 6.470799503782602, 3010: 8.006700845440367, 3456: 6.214608098422191, 3242: 7.313220387090301, 3246: 7.673223121121708, 3248: 7.843848638152472, 3250: 6.684611727667927, 4899: 7.2078598714324755, 4893: 6.956545443151569, 5245: 7.313220387090301, 4852: 8.660947155060933, 4850: 8.660947155060933, 6392: 6.551080335043404, 5755: 8.515992470839718, 8510: 5.521460917862246, 8392: 7.3777589082278725, 13705: 6.214608098422191, 19410: 6.551080335043404, 19434: 3.9318256327243257, 406: 5.5254529391317835, 20918: 7.450079569807499, 10966: 5.075173815233827, 18916: 5.298317366548036, 12673: 6.476972362889683, 13702: 6.214608098422191, 20110: 5.181895903530785, 19175: 7.7406644019172415, 12648: 4.110873864173311, 15778: 5.135798437050262, 527: 6.8885724595653635, 8181: 7.346010209913293, 18162: 5.298317366548036, 10522: 7.783224016336037, 15633: 5.991464547107982, 12049: 5.991464547107982, 137: 5.153291594497779, 261: 5.153291594497779, 362: 5.153291594497779, 452: 5.153291594497779, 1566: 7.600902459542082, 19049: 7.7406644019172415, 19106: 3.367295829986474, 23: 3.367295829986474, 1108: 5.703782474656201, 10553: 5.991464547107982, 6713: 7.170119543449628, 13139: 5.703782474656201, 8534: 7.7406644019172415, 11991: 5.135798437050262, 12980: 7.346010209913293, 15167: 8.006367567650246, 15915: 7.560080465021827, 10517: 7.52294091807237, 15989: 6.214608098422191, 8217: 7.824046010856292, 11715: 7.673223121121708, 10753: 5.521460917862246, 10752: 5.521460917862246, 16910: 5.521460917862246, 116: 4.499809670330265, 8681: 5.521460917862246, 7576: 7.680637427560936, 9093: 7.2078598714324755, 11371: 5.707110264748875, 13200: 10.239995502805316, 20474: 7.824046010856292, 20906: 7.762170607138205, 12941: 5.298317366548036, 15598: 5.298317366548036, 8176: 7.438383530044307, 8171: 7.438383530044307, 20584: 6.907755278982137, 7292: 5.991464547107982, 7291: 5.991464547107982, 11193: 5.521460917862246, 18908: 7.090076835776092, 17548: 5.991464547107982, 3901: 5.703782474656201, 10311: 5.521460917862246, 9989: 5.521460917862246, 11479: 5.521460917862246, 16400: 5.521460917862246, 3088: 6.214608098422191, 7571: 7.544861068658458, 7577: 8.078998258685154, 7587: 7.415175109613295, 7601: 7.873217054862741, 7596: 7.766840537085513, 7594: 7.1631723908466425, 7613: 5.5254529391317835, 8805: 5.521460917862246, 7623: 5.3981627015177525, 20797: 6.54965074223381, 20907: 7.762170607138205, 12329: 7.2078598714324755, 21364: 5.991464547107982, 21365: 6.907755278982137, 21366: 7.3777589082278725, 21367: 6.551080335043404, 21361: 7.600902459542082, 21362: 7.003065458786462, 21363: 8.070906088787819, 21736: 5.521460917862246, 22104: 5.521460917862246, 18595: 7.003065458786462, 17887: 5.991464547107982, 18940: 5.521460917862246, 18944: 5.521460917862246, 19849: 5.521460917862246, 19869: 5.135798437050262, 19895: 5.521460917862246, 20037: 5.521460917862246, 20226: 6.476972362889683, 20392: 7.696212639346407, 20225: 6.1092475827643655, 18975: 5.0106352940962555, 1971: 8.188411308079031, 1878: 7.495541943884256, 1879: 7.824046010856292, 1880: 7.495541943884256, 1881: 7.824046010856292, 1882: 7.495541943884256, 1682: 6.1092475827643655, 1969: 8.294049640102028, 1970: 8.881697406469304, 1883: 7.49581968308893, 2376: 6.212606095751519, 1877: 7.824046010856292, 870: 5.521460917862246, 1847: 7.090076835776092, 1876: 7.495541943884256, 1563: 7.090076835776092, 1568: 7.313220387090301, 10839: 5.521460917862246, 10478: 6.476972362889683, 8080: 6.551080335043404, 10476: 6.1092475827643655, 10477: 7.090076835776092, 13142: 5.703782474656201, 13261: 6.214608098422191, 13262: 6.214608098422191, 11690: 5.521460917862246, 11926: 7.090076835776092, 11927: 6.309918278226516, 7233: 6.396929655216146, 7308: 5.857933154483459, 9409: 5.857933154483459, 8570: 6.214608098422191, 8569: 5.991464547107982, 8696: 5.521460917862246, 8573: 5.991464547107982, 15684: 5.991464547107982, 15685: 6.551080335043404, 16655: 5.521460917862246, 17046: 5.521460917862246, 17048: 6.551080335043404, 15817: 5.991464547107982, 15818: 6.551080335043404, 16469: 5.521460917862246, 14101: 6.1092475827643655, 14102: 6.620073206530356, 13802: 6.1092475827643655, 15489: 7.047517221357296, 14786: 5.521460917862246, 6128: 7.6004023345004, 6127: 7.600902459542082, 6126: 6.54965074223381, 5830: 6.309918278226516, 6728: 7.24422751560335, 8504: 6.684611727667927, 8961: 5.135798437050262, 8981: 5.991464547107982, 9406: 5.857933154483459, 7267: 5.703782474656201, 7440: 5.703782474656201, 7493: 5.857933154483459, 8120: 7.346010209913293, 3170: 5.703782474656201, 3482: 8.242756345714477, 3484: 8.824677891164198, 2937: 7.24422751560335, 3072: 8.160518247477505, 3221: 5.988961416889864, 2975: 7.494986233950533, 2976: 7.170119543449628, 4102: 5.857933154483459, 4348: 6.839123056739142, 4516: 5.857933154483459, 4367: 7.24422751560335, 4466: 7.24422751560335, 17565: 5.991464547107982, 16946: 5.298317366548036, 14673: 5.991464547107982, 14243: 5.991464547107982, 14308: 5.135798437050262, 14573: 5.298317366548036, 15645: 5.991464547107982, 16121: 7.313220387090301, 20265: 5.135798437050262, 11142: 5.521460917862246, 8079: 5.991464547107982, 10439: 5.135798437050262, 13803: 6.476972362889683, 12353: 5.991464547107982, 6834: 5.703782474656201, 2951: 7.24422751560335, 6407: 7.696212639346407, 4349: 7.24422751560335, 4365: 7.24422751560335, 4467: 7.24422751560335, 10726: 5.991464547107982, 15490: 7.047517221357296, 6297: 7.408530566894626, 7529: 5.521460917862246, 21591: 5.991464547107982, 1469: 7.090076835776092, 17028: 7.24422751560335, 16042: 6.214608098422191, 11652: 5.991464547107982, 8502: 6.684611727667927, 8503: 6.684611727667927, 10190: 7.090076835776092, 16091: 5.481471909645883, 15162: 8.006367567650246, 6408: 7.8632667240095735, 6253: 7.8632667240095735, 14108: 8.101677747454572, 7386: 5.703782474656201, 20386: 7.170119543449628, 17047: 6.907755278982137, 14437: 5.135798437050262, 15755: 5.991464547107982, 15812: 6.856461984594587, 16487: 5.991464547107982, 15941: 7.762170607138205, 15288: 7.824046010856292, 16155: 7.495541943884256, 9497: 5.0106352940962555, 9499: 4.605170185988092, 10216: 5.0106352940962555, 10464: 5.991464547107982, 12703: 5.991464547107982, 12709: 5.991464547107982, 21812: 4.605170185988092, 21368: 7.313220387090301, 17764: 4.605170185988092, 20905: 7.733539076974653, 19244: 4.605170185988092, 20233: 5.438079308923196, 20538: 7.313220387090301, 20220: 6.684611727667927, 20411: 7.170119543449628, 21881: 5.703782474656201, 4104: 6.745236349484362, 13556: 7.824046010856292, 6129: 7.377133712833954, 15857: 7.313220387090301, 14922: 5.521460917862246, 15290: 7.824046010856292, 16046: 6.214608098422191, 16129: 7.313220387090301, 13906: 5.991464547107982, 18087: 5.857933154483459, 18050: 5.521460917862246, 19037: 5.857933154483459, 18049: 5.521460917862246, 18046: 5.521460917862246, 18040: 5.521460917862246, 18026: 5.521460917862246, 18041: 5.153291594497779, 18042: 5.521460917862246, 18047: 5.521460917862246, 14547: 6.802394763324311, 21961: 6.363028103540465, 529: 4.844187086458591, 3073: 8.160518247477505, 2940: 6.907755278982137, 6130: 7.6004023345004, 11108: 5.521460917862246, 11110: 5.521460917862246, 17943: 5.521460917862246, 20269: 5.135798437050262, 6371: 7.3777589082278725, 5760: 7.313220387090301, 5731: 6.3818160174060985, 5757: 6.956545443151569, 5759: 6.684611727667927, 3453: 6.802394763324311, 4238: 6.19644412779452, 4732: 5.455321115357702, 4733: 6.1092475827643655, 9124: 3.9318256327243257, 6440: 6.476972362889683, 7091: 5.438079308923196, 1567: 7.24422751560335, 1562: 6.396929655216146, 1561: 7.495541943884256, 1393: 3.9318256327243257, 119: 4.330733340286331, 144: 4.74493212836325, 3040: 7.312553498102598, 3041: 6.214608098422191, 3249: 7.843848638152472, 3247: 7.673223121121708, 2043: 5.521460917862246, 2044: 5.521460917862246, 2378: 6.214608098422191, 2380: 6.551080335043404, 2301: 7.313220387090301, 10266: 5.703782474656201, 13359: 5.017279836814924, 16375: 5.568344503761097, 16785: 6.396929655216146, 16818: 6.673297967767654, 19429: 6.398594934535208, 19449: 5.521460917862246, 8501: 7.1308988302963465, 21962: 7.1308988302963465, 16103: 6.396929655216146, 8386: 5.521460917862246, 15285: 7.824046010856292, 12710: 5.521460917862246, 20409: 7.600902459542082, 20413: 7.438383530044307, 20540: 7.313220387090301, 20268: 5.135798437050262, 20270: 5.135798437050262, 16645: 5.521460917862246, 8273: 5.700443573390686, 8111: 7.438383530044307, 8116: 7.438383530044307, 8122: 7.438383530044307, 615: 5.247024072160486, 635: 5.247024072160486, 17566: 7.047517221357296, 18031: 5.521460917862246, 18048: 5.521460917862246, 18051: 5.703782474656201, 16177: 7.824046010856292, 15856: 6.802394763324311, 10515: 5.135798437050262, 2802: 5.517452896464707, 854: 3.367295829986474, 855: 5.37989735354046, 857: 5.37989735354046, 860: 5.37989735354046, 8119: 8.66561319653451, 8162: 5.521460917862246, 15277: 7.003065458786462, 16586: 5.296315363877364, 2823: 5.293304824724492, 646: 5.241747015059643, 840: 6.53813982376767, 14314: 7.2078598714324755, 593: 5.298317366548036, 594: 5.298317366548036, 729: 5.438079308923196, 740: 5.438079308923196, 17014: 7.24422751560335, 16834: 2.8903717578961645, 16835: 3.2188758248682006, 17012: 7.24422751560335, 4103: 7.919356190660617, 3483: 8.242756345714477, 872: 5.393627546352361, 873: 5.438079308923196, 875: 5.438079308923196, 878: 5.37989735354046, 881: 5.37989735354046, 883: 5.37989735354046, 884: 5.393627546352361, 886: 5.521460917862246, 895: 5.771441123130016, 923: 5.393627546352361, 1721: 7.7406644019172415, 20722: 7.3777589082278725, 20426: 7.549609165154532, 20583: 8.433811582477187, 19852: 7.718685495198466, 18030: 5.703782474656201, 18757: 7.24422751560335, 13229: 6.214608098422191, 18052: 5.521460917862246, 18024: 5.521460917862246, 9352: 5.517452896464707, 13268: 6.214608098422191, 13269: 6.214608098422191, 13597: 3.044522437723423, 9495: 4.605170185988092, 9498: 4.605170185988092, 14246: 7.575584651557793, 14100: 7.24422751560335, 18142: 7.090076835776092, 7574: 7.698936199813447, 7582: 7.766840537085513, 7593: 7.67368812926773, 7612: 5.5254529391317835, 8902: 5.703782474656201, 13230: 6.214608098422191, 16191: 6.214608098422191, 19540: 5.298317366548036, 218: 5.521460917862246, 232: 5.521460917862246, 233: 5.521460917862246, 235: 5.521460917862246, 278: 5.521460917862246, 280: 5.5254529391317835, 290: 5.521460917862246, 310: 5.521460917862246, 311: 5.521460917862246, 312: 5.521460917862246, 326: 5.707110264748875, 328: 5.521460917862246, 369: 5.521460917862246, 370: 5.5254529391317835, 382: 5.521460917862246, 391: 5.521460917862246, 401: 5.521460917862246, 411: 5.521460917862246, 417: 5.703782474656201, 418: 5.521460917862246, 425: 5.521460917862246, 426: 5.521460917862246, 427: 5.521460917862246, 431: 5.521460917862246, 441: 5.521460917862246, 365: 5.5254529391317835, 449: 5.703782474656201, 458: 5.521460917862246, 459: 5.521460917862246, 14099: 7.24422751560335, 12020: 5.703782474656201, 2698: 7.824046010856292, 2696: 6.684611727667927, 1544: 8.56900735013041, 3731: 7.696212639346407, 1307: 5.857933154483459, 21698: 5.886104031450156, 21656: 5.886104031450156, 1290: 5.857933154483459, 70: 5.857933154483459, 8451: 6.802394763324311, 6507: 7.313220387090301, 7039: 5.703782474656201, 6994: 8.006367567650246, 10454: 6.476972362889683, 10093: 5.991464547107982, 4894: 8.294049640102028, 4892: 6.907755278982137, 3868: 6.907755278982137, 4895: 8.294049640102028, 4896: 8.76389700713946, 5551: 5.991464547107982, 16721: 5.886104031450156, 15680: 5.991464547107982, 16722: 6.684611727667927, 17387: 6.1092475827643655, 17388: 6.476972362889683, 17660: 8.006367567650246, 17655: 8.006367567650246, 15481: 7.038783541388542, 16145: 6.802394763324311, 11252: 6.1092475827643655, 20093: 5.703782474656201, 20234: 5.991464547107982, 18183: 5.298317366548036, 18570: 5.991464547107982, 19291: 6.907755278982137, 19290: 6.907755278982137, 18513: 5.521460917862246, 18571: 6.907755278982137, 18572: 6.551080335043404, 11253: 6.476972362889683, 2868: 6.550651671751851, 2869: 6.550651671751851, 2872: 6.551508814661472, 2035: 7.824046010856292, 2697: 7.438383530044307, 15595: 5.0106352940962555, 12082: 6.551080335043404, 12081: 5.521460917862246, 12022: 7.170119543449628, 12021: 6.620073206530356, 12603: 5.991464547107982, 11611: 6.077642243349034, 11610: 5.991464547107982, 11913: 6.1092475827643655, 11914: 6.684611727667927, 12932: 5.886104031450156, 14892: 6.396929655216146, 13976: 5.703782474656201, 1293: 5.857933154483459, 1178: 7.467942332285852, 1547: 8.630521876723241, 1545: 8.006367567650246, 234: 5.521460917862246, 1327: 7.438383530044307, 2036: 7.937017489515453, 3485: 6.907755278982137, 15681: 6.214608098422191, 14836: 5.703782474656201, 15171: 7.170119543449628, 15170: 7.170119543449628, 11141: 5.298317366548036, 11404: 5.991464547107982, 10746: 5.886104031450156, 10453: 6.1092475827643655, 10071: 6.684611727667927, 10070: 6.173786103901937, 9894: 5.857933154483459, 10094: 6.214608098422191, 14422: 5.135798437050262, 12083: 6.476972362889683, 12957: 5.438079308923196, 13653: 7.090076835776092, 13699: 6.396929655216146, 13256: 6.214608098422191, 13255: 6.214608098422191, 13326: 6.476972362889683, 13276: 6.476972362889683, 4897: 8.51699317141357, 5336: 5.703782474656201, 7853: 6.309918278226516, 8550: 6.907755278982137, 5944: 7.919356190660617, 6993: 7.696212639346407, 18357: 5.703782474656201, 20271: 5.135798437050262, 20262: 5.135798437050262, 15624: 5.521460917862246, 18086: 5.703782474656201, 17988: 5.0106352940962555, 5845: 7.24422751560335, 4070: 5.857933154483459, 12604: 6.551080335043404, 6662: 3.367295829986474, 6747: 7.600902459542082, 21657: 6.684611727667927, 9254: 7.170888478512505, 9250: 7.313886831633462, 9246: 7.00397413672268, 11760: 5.521460917862246, 10751: 5.521460917862246, 13387: 5.703782474656201, 9356: 5.991464547107982, 9277: 6.214608098422191, 8085: 5.0106352940962555, 8491: 5.857933154483459, 10495: 4.605170185988092, 5913: 6.684611727667927, 5841: 7.24422751560335, 5233: 7.090076835776092, 6081: 7.170119543449628, 14244: 6.551080335043404, 14322: 4.605170185988092, 15270: 7.24422751560335, 15168: 7.170119543449628, 13714: 7.003065458786462, 13665: 7.090076835776092, 5769: 8.778171881033469, 4983: 8.006367567650246, 4517: 7.7406644019172415, 6995: 8.006200887093147, 7600: 7.941295570906532, 12456: 5.521460917862246, 11572: 5.521460917862246, 13307: 6.620073206530356, 14676: 7.130098510125578, 17987: 5.0106352940962555, 17989: 4.605170185988092, 2984: 6.3818160174060985, 1546: 8.006367567650246, 16908: 3.367295829986474, 15597: 5.0106352940962555, 15164: 7.170119543449628, 2419: 3.367295829986474, 6465: 3.367295829986474, 1295: 7.346010209913293, 1296: 7.346010209913293, 1466: 6.907755278982137, 9496: 4.605170185988092, 7350: 5.857933154483459, 13650: 7.090076835776092, 14323: 4.605170185988092, 11892: 5.521460917862246, 15172: 8.006367567650246, 15166: 7.170119543449628, 13645: 6.907755278982137, 13681: 7.090076835776092, 13668: 7.090076835776092, 13660: 7.090076835776092, 18105: 8.174702882469461, 18764: 5.521460917862246, 19289: 6.907755278982137, 21482: 9.039670667922676, 15161: 7.170119543449628, 15577: 7.2078598714324755, 15484: 7.038783541388542, 16816: 5.673323267171493, 19001: 5.521460917862246, 69: 5.5254529391317835, 927: 8.101980731853192, 711: 5.241747015059643, 412: 5.484796933490655, 163: 4.867534450455582, 196: 4.867534450455582, 271: 4.867534450455582, 347: 4.976733742420574, 383: 5.37989735354046, 1353: 7.901377353792616, 5379: 8.24564690087386, 5720: 7.1316985104669115, 5724: 6.792344427470809, 6441: 7.495541943884256, 4900: 7.313220387090301, 4930: 6.898714534329988, 4953: 7.0825485693553, 4971: 5.298317366548036, 4898: 6.214608098422191, 9126: 3.9318256327243257, 9255: 7.170888478512505, 9253: 7.170888478512505, 9245: 7.1758672295711055, 9247: 7.012587083464839, 9249: 7.313886831633462, 9251: 7.313886831633462, 6951: 7.7406644019172415, 6952: 8.160518247477505, 7841: 6.684611727667927, 7722: 7.24422751560335, 3222: 6.214608098422191, 3226: 5.0106352940962555, 3230: 5.971261839790462, 2695: 7.090076835776092, 1793: 6.802394763324311, 1588: 5.703782474656201, 3730: 7.600902459542082, 4223: 7.490529402060711, 3720: 6.066108090103747, 3721: 6.7580945044277305, 3729: 7.600902459542082, 3722: 7.937374696163295, 3723: 4.948759890378168, 3724: 5.442417710521793, 3725: 7.265429723253953, 22009: 6.396929655216146, 3649: 5.003946305945459, 7505: 5.703782474656201, 7484: 5.703782474656201, 2699: 7.438383530044307, 22: 3.367295829986474, 24: 4.59511985013459, 15225: 7.170119543449628, 15478: 7.038783541388542, 7550: 5.003946305945459, 9580: 6.802394763324311, 10306: 5.521460917862246, 10126: 5.0106352940962555, 18132: 5.521460917862246, 12097: 5.521460917862246, 18653: 5.521460917862246, 18654: 5.521460917862246, 720: 5.247024072160486, 705: 5.393627546352361, 18938: 5.521460917862246, 21328: 5.521460917862246, 19765: 5.521460917862246, 11713: 7.24422751560335, 8064: 7.1308988302963465, 12857: 5.521460917862246, 12852: 6.309918278226516, 11650: 5.298317366548036, 12400: 5.521460917862246, 10745: 5.521460917862246, 11996: 5.521460917862246, 8260: 5.521460917862246, 2700: 7.313220387090301, 19874: 7.2078598714324755, 18107: 8.242756345714477, 19523: 6.1092475827643655, 353: 5.521460917862246, 331: 5.521460917862246, 285: 5.521460917862246, 432: 5.703782474656201, 777: 5.298317366548036, 10363: 7.346010209913293, 9166: 5.0106352940962555, 9163: 5.0106352940962555, 9418: 7.3777589082278725, 9252: 7.170888478512505, 9248: 7.313886831633462, 9244: 7.00397413672268, 7127: 9.375939552625749, 16844: 6.396929655216146, 16924: 5.991464547107982, 17195: 5.515040350059324, 17335: 5.991464547107982, 15488: 7.038783541388542, 22102: 7.1316985104669115, 21820: 6.173786103901937, 19659: 5.991464547107982, 18140: 6.309918278226516, 18456: 5.438079308923196, 18910: 5.991464547107982, 18912: 7.170119543449628, 20206: 5.521460917862246, 20612: 7.003065458786462, 20615: 7.673223121121708, 20616: 7.649692623711514, 5911: 7.937374696163295, 7534: 5.703782474656201, 7842: 7.3777589082278725, 5842: 7.24422751560335, 4088: 7.346010209913293, 11188: 5.886104031450156, 11180: 5.135798437050262, 11474: 5.991464547107982, 10429: 6.1092475827643655, 10430: 7.313220387090301, 10431: 6.476972362889683, 10918: 5.298317366548036, 11074: 5.991464547107982, 10420: 5.886104031450156, 12451: 5.700443573390686, 8898: 6.1092475827643655, 8166: 6.309918278226516, 8186: 8.92930284224307, 10212: 9.047821442478408, 10213: 9.210340371976184, 10214: 9.210340371976184, 10042: 5.991464547107982, 10043: 6.907755278982137, 10044: 6.620073206530356, 10211: 8.160518247477505, 10207: 7.090076835776092, 10209: 7.313220387090301, 10210: 8.160518247477505, 17261: 5.886104031450156, 18646: 5.703782474656201, 13379: 5.703782474656201, 15523: 5.703782474656201, 1725: 5.703782474656201, 1761: 5.703782474656201, 2152: 6.1092475827643655, 1846: 7.090076835776092, 3274: 5.857933154483459, 3486: 7.8632667240095735, 21575: 5.703782474656201, 5912: 7.600902459542082, 3609: 5.857933154483459, 10529: 5.135798437050262, 10997: 5.521460917862246, 11189: 6.684611727667927, 12705: 5.298317366548036, 12317: 5.521460917862246, 7657: 5.857933154483459, 8543: 7.244941546337007, 8544: 7.244941546337007, 8899: 6.476972362889683, 9047: 5.521460917862246, 16195: 6.907755278982137, 15546: 5.135798437050262, 18438: 5.438079308923196, 16843: 6.396929655216146, 2183: 7.955074273262696, 22159: 5.991464547107982, 1539: 6.396929655216146, 4653: 5.703782474656201, 8839: 5.0106352940962555, 10551: 5.703782474656201, 11011: 5.703782474656201, 3916: 5.703782474656201, 1464: 6.907755278982137, 79: 5.991464547107982, 1669: 7.346010209913293, 6312: 5.703782474656201, 11975: 5.521460917862246, 7843: 7.3777589082278725, 7324: 5.857933154483459, 4316: 7.600902459542082, 4406: 7.346010209913293, 4660: 7.346010209913293, 2213: 7.346010209913293, 9643: 6.214608098422191, 8244: 5.521460917862246, 8607: 6.1092475827643655, 8732: 5.135798437050262, 8733: 5.135798437050262, 8734: 5.135798437050262, 6082: 7.090076835776092, 5914: 7.600902459542082, 7578: 8.055475141757274, 7338: 5.857933154483459, 13824: 5.135798437050262, 13333: 6.1092475827643655, 13248: 7.1308988302963465, 11069: 5.828062875166538, 11070: 6.214608098422191, 12452: 6.214608098422191, 11930: 5.0106352940962555, 11931: 5.703782474656201, 17196: 6.214608098422191, 18724: 4.605170185988092, 18457: 5.857933154483459, 16068: 6.684611727667927, 9410: 5.857933154483459, 7948: 9.323579767582693, 8801: 5.298317366548036, 5767: 8.986071187374463, 17831: 5.703782474656201, 22101: 7.208600337960199, 20903: 6.76849321164863, 20927: 7.512071245835466, 20928: 7.114769448366463, 19847: 5.298317366548036, 15495: 5.991464547107982, 16076: 6.907755278982137, 2226: 7.346010209913293, 2231: 7.346010209913293, 2232: 7.346010209913293, 1625: 7.346010209913293, 16067: 5.703782474656201, 18108: 7.8632667240095735, 5435: 7.346010209913293, 5453: 7.52294091807237, 5995: 7.346010209913293, 3892: 7.346010209913293, 3616: 7.824046010856292, 4676: 7.346010209913293, 4312: 7.600902459542082, 2423: 6.907755278982137, 15497: 6.551080335043404, 19684: 5.521460917862246, 16221: 6.907755278982137, 16691: 5.521460917862246, 18745: 5.521460917862246, 20036: 5.991464547107982, 20345: 7.170119543449628, 12696: 5.521460917862246, 15491: 5.991464547107982, 17731: 5.857933154483459, 17370: 5.521460917862246, 17220: 5.521460917862246, 21606: 5.991464547107982, 8530: 9.4535218170269, 4216: 7.074116816197362, 13296: 6.476972362889683, 13064: 7.2078598714324755, 2138: 5.638354669333745, 18085: 5.857933154483459, 9823: 7.346010209913293, 13258: 6.194405391104672, 15493: 6.551080335043404, 15706: 5.135798437050262, 12667: 5.517452896464707, 13407: 10.020914969412093, 15156: 7.090076835776092, 15157: 7.090076835776092, 15158: 7.090076835776092, 15175: 7.090076835776092, 15176: 7.090076835776092, 15177: 7.090076835776092, 19975: 8.070906088787819, 18725: 4.605170185988092, 16123: 6.907755278982137, 1220: 7.575584651557793, 3144: 7.645397699428633, 14341: 5.703782474656201, 16140: 6.684611727667927, 13297: 6.476972362889683, 13305: 6.476972362889683, 13182: 9.433483923290392, 12344: 5.703782474656201, 19978: 8.070906088787819, 19980: 8.070906088787819, 20666: 9.210340371976184, 20679: 8.699514748210191, 20706: 6.684611727667927, 20710: 6.907755278982137, 16237: 6.802394763324311, 15849: 5.521460917862246, 13325: 6.476972362889683, 10157: 7.346010209913293, 16000: 7.843848638152472, 16190: 6.684611727667927, 3845: 6.2166061010848646, 4866: 7.7406644019172415, 4865: 7.600902459542082, 4734: 5.298317366548036, 4731: 5.991464547107982, 3872: 6.1092475827643655, 1576: 7.600902459542082, 1818: 7.3613754289773485, 1820: 6.551080335043404, 2377: 6.396929655216146, 8525: 7.368339686311381, 9129: 3.9318256327243257, 5558: 7.601402334583733, 5706: 7.989899374942939, 5697: 6.898714534329988, 6685: 4.605170185988092, 5984: 5.991464547107982, 5007: 4.948759890378168, 117: 5.153291594497779, 110: 5.153291594497779, 327: 4.867534450455582, 289: 5.43372200355424, 286: 4.867534450455582, 16204: 7.937374696163295, 12664: 5.521460917862246, 15959: 6.68586094706836, 10215: 6.907755278982137, 10206: 7.649692623711514, 10208: 7.090076835776092, 3913: 7.3777589082278725, 8857: 5.703782474656201, 10976: 6.214608098422191, 19979: 8.070906088787819, 1814: 8.1886891244442, 1813: 6.907755278982137, 3787: 5.857933154483459, 3866: 7.090076835776092, 3182: 8.006367567650246, 5825: 5.521460917862246, 4085: 6.1092475827643655, 4084: 6.214608098422191, 4385: 6.396929655216146, 17899: 7.170119543449628, 17898: 6.684611727667927, 17897: 5.991464547107982, 18038: 5.521460917862246, 18035: 5.703782474656201, 17582: 6.551080335043404, 17581: 5.991464547107982, 16525: 5.991464547107982, 20630: 7.783224016336037, 20629: 7.783224016336037, 13416: 6.684611727667927, 8608: 6.476972362889683, 13464: 7.438383530044307, 12663: 5.521460917862246, 10552: 6.551080335043404, 4708: 7.4673710669175595, 4706: 5.703782474656201, 4415: 7.346010209913293, 4388: 8.006367567650246, 4387: 7.8632667240095735, 5838: 6.214608098422191, 5829: 6.194405391104672, 18641: 5.886104031450156, 18480: 5.857933154483459, 18479: 5.438079308923196, 18915: 5.991464547107982, 19341: 6.214608098422191, 19245: 5.135798437050262, 19744: 5.0106352940962555, 19742: 5.298317366548036, 19976: 8.070906088787819, 19974: 8.070906088787819, 18924: 5.135798437050262, 18036: 5.521460917862246, 18034: 5.521460917862246, 18033: 5.521460917862246, 18029: 5.521460917862246, 18028: 5.521460917862246, 18027: 5.521460917862246, 18045: 5.521460917862246, 18044: 5.521460917862246, 18043: 5.521460917862246, 17945: 5.298317366548036, 18190: 5.799092654460526, 18129: 5.799092654460526, 22017: 5.0106352940962555, 21555: 5.991464547107982, 22051: 5.991464547107982, 20484: 7.783224016336037, 20539: 7.438383530044307, 19801: 6.684611727667927, 19800: 5.991464547107982, 20100: 4.605170185988092, 20184: 5.82938669679107, 20623: 6.476972362889683, 20624: 6.476972362889683, 20285: 5.991464547107982, 20286: 6.620073206530356, 20628: 7.783224016336037, 20627: 6.476972362889683, 20625: 6.476972362889683, 4002: 5.857933154483459, 2936: 7.24422751560335, 15859: 6.551080335043404, 15858: 6.0867747269123065, 15854: 6.756932389247553, 9032: 5.991464547107982, 7393: 5.857933154483459, 13076: 7.090076835776092, 2187: 6.1092475827643655, 14957: 5.703782474656201, 17408: 5.991464547107982, 18039: 5.521460917862246, 17262: 6.684611727667927, 16247: 6.802394763324311, 5739: 8.006367567650246, 4416: 8.160518247477505, 8215: 7.600902459542082, 6836: 5.703782474656201, 6855: 7.843848638152472, 6695: 7.090076835776092, 4709: 7.090076835776092, 4707: 7.90100705199242, 8296: 5.298317366548036, 8086: 5.991464547107982, 2531: 7.919356190660617, 1090: 6.214608098422191, 356: 5.521460917862246, 322: 5.703782474656201, 850: 5.37989735354046, 606: 5.60947179518496, 601: 5.298317366548036, 599: 5.298317366548036, 597: 5.298317366548036, 4417: 7.047517221357296, 4315: 7.803843303538772, 4314: 7.6255950721324535, 3457: 7.170119543449628, 15494: 6.684611727667927, 15492: 6.363028103540465, 16054: 6.396929655216146, 16012: 7.3777589082278725, 15507: 6.7912214627261855, 14643: 5.991464547107982, 17290: 5.991464547107982, 16959: 5.135798437050262, 16231: 7.696212639346407, 16142: 6.684611727667927, 16573: 5.991464547107982, 16509: 5.991464547107982, 16488: 5.135798437050262, 16436: 5.135798437050262, 11403: 5.991464547107982, 10983: 5.0106352940962555, 10720: 5.135798437050262, 13056: 5.135798437050262, 13718: 5.438079308923196, 13717: 5.438079308923196, 13716: 5.438079308923196, 12752: 5.991464547107982, 12751: 5.0106352940962555, 13440: 10.142228824473392, 13270: 6.194405391104672, 12723: 5.298317366548036, 13703: 7.313220387090301, 18568: 5.991464547107982, 20189: 6.042632833682381, 18219: 5.857933154483459, 17485: 5.703782474656201, 5831: 8.85366542803745, 7286: 5.703782474656201, 4414: 7.6255950721324535, 20912: 6.76849321164863, 20800: 7.313220387090301, 5517: 8.006367567650246, 5997: 7.346010209913293, 12697: 5.991464547107982, 794: 8.101980731853192, 10656: 6.309918278226516, 7840: 6.684611727667927, 6881: 6.396929655216146, 142: 5.703782474656201, 1231: 7.575584651557793, 284: 5.521460917862246, 283: 5.521460917862246, 10491: 5.135798437050262, 20316: 5.521460917862246, 21757: 5.003946305945459, 3458: 7.170119543449628, 18032: 5.521460917862246, 18025: 5.703782474656201, 20482: 7.783224016336037, 9731: 6.551080335043404, 12061: 5.135798437050262, 13084: 5.857933154483459, 13327: 6.620073206530356, 4090: 7.346010209913293, 4595: 7.346010209913293, 2673: 7.090076835776092, 3923: 7.3777589082278725, 3480: 7.313220387090301, 6694: 7.090076835776092, 6867: 7.346010209913293, 5342: 7.346010209913293, 5311: 7.346010209913293, 5056: 5.517452896464707, 18037: 5.703782474656201, 18109: 7.8632667240095735, 4629: 7.7406644019172415, 6291: 7.346010209913293, 3816: 7.52294091807237, 20099: 4.605170185988092, 3847: 7.820439515262181, 1618: 7.346010209913293, 5047: 7.346010209913293, 16013: 6.476972362889683, 15900: 6.684611727667927, 15899: 6.551080335043404, 15898: 6.551080335043404, 20487: 7.783224016336037, 20565: 7.313220387090301, 20488: 7.783224016336037, 20280: 7.24422751560335, 20910: 8.0519780789023, 20427: 6.212606095751519, 15871: 8.922658299524402, 16053: 6.802394763324311, 14193: 5.703782474656201, 6035: 7.346010209913293, 12711: 5.521460917862246, 14301: 6.396929655216146, 15855: 8.400659375160286, 20626: 6.476972362889683, 18009: 7.9724660159745655, 15897: 6.684611727667927, 16016: 6.492239835020471, 603: 4.7535901911063645, 465: 5.19295685089021, 466: 5.19295685089021, 15596: 5.0106352940962555, 2952: 7.090076835776092, 18962: 5.521460917862246, 2230: 7.346010209913293, 10972: 6.214608098422191, 20485: 7.356279876550748, 15870: 8.720950028930258, 4386: 6.396929655216146, 5373: 9.439625028047155, 4959: 6.53813982376767, 3229: 5.991464547107982, 3004: 7.5352967024440884, 2435: 5.298317366548036, 3412: 4.605170185988092, 3413: 3.6888794541139363, 3416: 4.605170185988092, 3415: 4.605170185988092, 3414: 4.605170185988092, 6942: 6.1092475827643655, 7092: 5.703782474656201, 7038: 7.600902459542082, 863: 5.37989735354046, 2034: 5.236441962829949, 1573: 8.101677747454572, 379: 4.976733742420574, 352: 4.795790545596741, 337: 4.976733742420574, 304: 4.74493212836325, 255: 5.37989735354046, 206: 4.795790545596741, 191: 4.61512051684126, 161: 4.787491742782046, 160: 4.709530201312334, 158: 4.709530201312334, 20214: 6.476972362889683, 9732: 5.521460917862246, 19586: 6.956545443151569, 20183: 5.638354669333745, 19347: 5.993961427306569, 19443: 6.802394763324311, 12731: 7.307202314764738, 13507: 6.802394763324311, 7390: 5.857933154483459, 3263: 8.160518247477505, 1816: 8.699514748210191, 1571: 6.907755278982137, 3688: 7.7406644019172415, 15496: 6.214608098422191, 15806: 6.551080335043404, 15805: 5.991464547107982, 10714: 5.991464547107982, 11953: 5.135798437050262, 9923: 5.703782474656201, 9795: 5.135798437050262, 14396: 5.703782474656201, 15068: 5.703782474656201, 15049: 7.313220387090301, 14476: 5.0106352940962555, 10845: 5.857933154483459, 4413: 5.703782474656201, 20570: 6.684611727667927, 22100: 6.4457198193855785, 14659: 5.298317366548036, 18734: 5.298317366548036, 14477: 5.298317366548036, 13661: 7.27931883541462, 13331: 5.991464547107982, 10115: 5.991464547107982, 13328: 6.620073206530356, 13308: 5.991464547107982, 13302: 6.327936783729195, 13301: 6.29156913955832, 13300: 6.29156913955832, 13292: 6.063785208687608, 13286: 6.152732694704104, 13278: 5.991464547107982, 13240: 6.111467339502679, 13214: 6.492239835020471, 11248: 5.135798437050262, 11215: 5.857933154483459, 11161: 6.856461984594587, 1560: 7.495541943884256, 1538: 6.907755278982137, 1537: 6.907755278982137, 1815: 8.1886891244442, 1484: 7.090076835776092, 1465: 6.907755278982137, 17334: 5.135798437050262, 17657: 7.783224016336037, 18104: 8.006367567650246, 18497: 5.438079308923196, 20202: 5.298317366548036, 462: 5.521460917862246, 8871: 6.309918278226516, 7715: 7.24422751560335, 8365: 7.762170607138205, 4389: 7.8632667240095735, 5450: 7.346010209913293, 4063: 5.521460917862246, 1572: 6.907755278982137, 14393: 5.991464547107982, 6311: 6.1092475827643655, 15725: 5.991464547107982, 1817: 8.699514748210191, 14963: 5.521460917862246, 14962: 5.521460917862246, 14961: 5.521460917862246, 14960: 5.521460917862246, 13415: 7.438383530044307, 4390: 8.006367567650246, 12899: 5.991464547107982, 15498: 6.802394763324311, 13212: 5.991464547107982, 20568: 6.684611727667927, 20569: 6.684611727667927, 20833: 7.313220387090301, 20571: 6.684611727667927, 419: 5.521460917862246, 399: 5.857933154483459, 398: 5.857933154483459, 397: 5.521460917862246, 281: 5.29931686688112, 19977: 8.070906088787819, 19309: 6.907755278982137, 19308: 6.907755278982137, 13285: 6.152732694704104, 3912: 7.27931883541462, 13743: 6.214608098422191, 15096: 6.4105037752432645, 14751: 5.991464547107982, 13216: 5.991464547107982, 13217: 5.991464547107982, 13361: 5.703782474656201, 13265: 6.1092475827643655, 13213: 5.857933154483459, 13210: 5.799092654460526, 13211: 5.857933154483459, 10712: 5.991464547107982, 11113: 5.991464547107982, 11674: 5.991464547107982, 16164: 7.313220387090301, 16166: 6.684611727667927, 19951: 6.907755278982137, 20567: 6.684611727667927, 15050: 7.090076835776092, 14964: 5.521460917862246, 590: 5.298317366548036, 584: 5.0106352940962555, 586: 5.247024072160486, 588: 5.247024072160486, 647: 5.241747015059643, 172: 5.5254529391317835, 171: 5.521460917862246, 14711: 6.551080335043404, 15087: 7.170119543449628, 13252: 5.841222883777439, 3459: 7.8632667240095735, 20483: 7.783224016336037, 7146: 7.7406644019172415, 4594: 7.346010209913293, 532: 5.521460917862246, 712: 5.19295685089021, 719: 5.393627546352361, 759: 5.298317366548036, 5732: 6.3818160174060985, 14764: 7.9724660159745655, 4045: 5.703782474656201, 6870: 6.906754778648554, 15563: 5.991464547107982, 16602: 5.991464547107982, 18276: 5.703782474656201, 18494: 5.799092654460526, 3746: 4.605170185988092, 3712: 4.605170185988092, 4279: 5.0106352940962555, 4142: 7.0909098220799835, 7667: 8.839421607620602, 7817: 9.38437770918244, 6646: 6.745236349484362, 6647: 6.907755278982137, 6648: 6.745236349484362, 7057: 8.1886891244442, 1433: 7.824046010856292, 1474: 6.214608098422191, 268: 5.153291594497779, 287: 4.394449154672439, 332: 4.394449154672439, 340: 4.976733742420574, 349: 4.394449154672439, 350: 4.394449154672439, 3406: 7.600902459542082, 3231: 6.1092475827643655, 1934: 6.040254711277414, 2989: 5.521460917862246, 2392: 5.0106352940962555, 225: 5.521460917862246, 15947: 6.398594934535208, 2660: 5.857933154483459, 9132: 3.9318256327243257, 203: 4.394449154672439, 180: 4.394449154672439, 157: 4.709530201312334, 617: 5.298317366548036, 15608: 5.521460917862246, 16243: 7.824046010856292, 16613: 5.521460917862246, 14965: 5.521460917862246, 14966: 5.521460917862246, 5266: 3.367295829986474, 5675: 5.521460917862246, 3821: 7.346010209913293, 3819: 7.52294091807237, 10219: 5.703782474656201, 9821: 6.956545443151569, 7579: 7.9865049385539955, 7599: 8.055475141757274, 7662: 5.700443573390686, 8421: 5.521460917862246, 20458: 8.699514748210191, 20428: 7.3777589082278725, 19850: 5.521460917862246, 20277: 7.24422751560335, 19163: 5.135798437050262, 3264: 8.160518247477505, 440: 5.29931686688112, 248: 5.521460917862246, 19933: 3.8501476017100584, 8905: 5.521460917862246, 13336: 6.476972362889683, 20046: 6.551080335043404, 609: 5.298317366548036, 5405: 4.07753744390572, 20844: 7.24422751560335, 16711: 5.521460917862246, 15609: 5.521460917862246, 8295: 5.521460917862246, 11140: 5.857933154483459, 11567: 5.521460917862246, 19937: 5.521460917862246, 18490: 5.703782474656201, 4108: 7.24422751560335, 17658: 7.696212639346407, 2490: 7.52294091807237, 205: 5.521460917862246, 4535: 7.237778191923443, 4588: 7.9724660159745655, 16001: 8.366370301681654, 16622: 5.991464547107982, 13544: 7.090076835776092, 13532: 6.907755278982137, 13306: 6.684611727667927, 13317: 6.476972362889683, 13324: 6.620073206530356, 13329: 6.620073206530356, 13463: 7.438383530044307, 14956: 5.703782474656201, 14967: 5.703782474656201, 13304: 6.684611727667927, 14277: 5.438079308923196, 13822: 5.521460917862246, 13934: 5.298317366548036, 11785: 6.684611727667927, 11784: 6.1092475827643655, 11354: 8.294049640102028, 11768: 5.521460917862246, 13237: 6.856461984594587, 13246: 5.886104031450156, 13272: 5.91350300563827, 13290: 5.635503633902907, 13291: 5.991464547107982, 13233: 6.476972362889683, 12698: 5.0106352940962555, 12701: 5.0106352940962555, 13215: 6.684611727667927, 12675: 5.991464547107982, 16163: 5.703782474656201, 14840: 6.684611727667927, 14737: 5.857933154483459, 7029: 6.907755278982137, 7067: 6.907755278982137, 7147: 7.740446986979978, 6506: 7.313220387090301, 6674: 10.341452118734878, 5232: 7.090076835776092, 4874: 7.512071245835466, 10037: 5.991464547107982, 10124: 5.991464547107982, 11056: 6.1092475827643655, 11057: 5.991464547107982, 11058: 6.684611727667927, 10460: 5.857933154483459, 10375: 5.521460917862246, 7398: 5.857933154483459, 7789: 7.495541943884256, 8735: 6.214608098422191, 8736: 6.907755278982137, 8219: 5.521460917862246, 3442: 7.495541943884256, 2671: 5.991464547107982, 2081: 7.346010209913293, 2838: 7.9724660159745655, 2839: 7.9724660159745655, 3678: 7.8632667240095735, 22163: 5.135798437050262, 20303: 5.991464547107982, 20304: 6.551080335043404, 21394: 5.857933154483459, 19705: 5.991464547107982, 20745: 6.214608098422191, 1788: 6.907755278982137, 1540: 7.600902459542082, 15798: 5.991464547107982, 19125: 5.991464547107982, 13225: 7.24422751560335, 13218: 6.476972362889683, 5824: 5.521460917862246, 10177: 5.991464547107982, 10485: 5.991464547107982, 8693: 6.684611727667927, 8738: 6.620073206530356, 2063: 6.907755278982137, 2153: 7.824046010856292, 20728: 6.856461984594587, 162: 5.521460917862246, 252: 5.521460917862246, 367: 5.521460917862246, 368: 5.521460917862246, 376: 5.521460917862246, 380: 5.521460917862246, 457: 5.703782474656201, 9307: 7.408530566894626, 8692: 6.1092475827643655, 7526: 5.857933154483459, 5839: 6.396929655216146, 18323: 5.703782474656201, 18102: 8.101677747454572, 21102: 7.495541943884256, 21110: 7.495541943884256, 21111: 7.495541943884256, 21136: 7.495541943884256, 21139: 7.495541943884256, 21022: 7.495541943884256, 20305: 6.1092475827643655, 20727: 7.003065458786462, 20729: 6.856461984594587, 20746: 6.214608098422191, 20416: 7.8632667240095735, 13236: 6.856461984594587, 13243: 6.856461984594587, 9323: 6.551080335043404, 14969: 5.521460917862246, 14970: 5.521460917862246, 14971: 5.521460917862246, 13266: 6.684611727667927, 13332: 7.24422751560335, 5840: 6.396929655216146, 9361: 6.551080335043404, 9369: 6.551080335043404, 9376: 6.551080335043404, 9377: 6.551080335043404, 9211: 7.600902459542082, 10519: 6.551080335043404, 5676: 8.003363058629947, 6070: 7.600902459542082, 15511: 7.090076835776092, 15512: 7.090076835776092, 14839: 5.521460917862246, 17162: 5.991464547107982, 16569: 5.991464547107982, 15690: 7.090076835776092, 13238: 6.684611727667927, 13226: 6.492239835020471, 13235: 6.476972362889683, 13220: 6.745236349484362, 11763: 5.521460917862246, 12040: 5.991464547107982, 12080: 5.991464547107982, 11525: 6.856461984594587, 14274: 5.991464547107982, 13316: 6.371611847231857, 13311: 6.745236349484362, 13312: 6.684611727667927, 13314: 6.37178277279419, 13315: 6.371611847231857, 13587: 7.408530566894626, 8240: 5.857933154483459, 7331: 5.857933154483459, 11409: 5.0106352940962555, 13223: 6.639614361737191, 13259: 6.684611727667927, 17469: 5.135798437050262, 20041: 5.991464547107982, 19487: 8.160518247477505, 16494: 5.135798437050262, 20747: 6.214608098422191, 20717: 8.006367567650246, 19972: 8.070906088787819, 18759: 5.521460917862246, 20537: 7.346010209913293, 20643: 8.006367567650246, 20862: 7.438383530044307, 17201: 5.521460917862246, 21021: 7.495541943884256, 21137: 7.495541943884256, 13222: 6.745236349484362, 7499: 5.991464547107982, 9951: 5.0106352940962555, 20726: 7.003065458786462, 467: 5.19295685089021, 21112: 7.495541943884256, 12377: 5.521460917862246, 15371: 7.484368643286131, 12699: 5.0106352940962555, 4540: 7.43307534889858, 4539: 7.43307534889858, 10812: 5.521460917862246, 13409: 7.600902459542082, 13452: 7.600902459542082, 8148: 5.0106352940962555, 10315: 5.0106352940962555, 8967: 5.0106352940962555, 14712: 6.214608098422191, 8039: 7.090076835776092, 9139: 3.9318256327243257, 9135: 3.9318256327243257, 5761: 5.857933154483459, 5400: 7.24422751560335, 5399: 6.907755278982137, 6438: 7.600902459542082, 6437: 6.802394763324311, 4816: 5.298317366548036, 7115: 6.856461984594587, 7058: 7.600902459542082, 19442: 5.521460917862246, 13095: 6.2166061010848646, 13093: 5.5254529391317835, 3227: 5.1647859739235145, 3145: 7.645397699428633, 4720: 6.956545443151569, 4224: 6.214608098422191, 4144: 6.898714534329988, 495: 8.699681400989514, 323: 4.867534450455582, 296: 5.153291594497779, 195: 4.61512051684126, 148: 4.74493212836325, 1435: 7.600902459542082, 1160: 7.3783837129967145, 8757: 5.521460917862246, 20743: 6.214608098422191, 15510: 7.090076835776092, 20718: 8.389359819906353, 20744: 6.214608098422191, 20825: 7.1929718144941255, 21109: 7.495541943884256, 9202: 7.495541943884256, 15348: 7.4205789054108005, 15410: 7.038783541388542, 18530: 5.521460917862246, 11772: 5.521460917862246, 11770: 5.521460917862246, 13458: 7.600902459542082, 18125: 5.521460917862246, 14064: 5.521460917862246, 15338: 7.170119543449628, 15397: 7.358830898342354, 21848: 5.521460917862246, 21103: 7.495541943884256, 9308: 6.684611727667927, 9322: 6.551080335043404, 9333: 6.745236349484362, 15027: 6.309918278226516, 13742: 6.907755278982137, 13586: 7.3777589082278725, 13588: 7.408530566894626, 13691: 7.029972911706386, 21023: 7.495541943884256, 13693: 6.745236349484362, 10600: 5.703782474656201, 7549: 4.07753744390572, 7036: 3.367295829986474, 4804: 3.367295829986474, 22065: 5.521460917862246, 20543: 9.249561085129464, 3858: 3.367295829986474, 4143: 6.898714534329988, 15874: 7.346010209913293, 20742: 6.214608098422191, 17440: 5.521460917862246, 9321: 6.551080335043404, 17888: 5.991464547107982, 2118: 7.7406644019172415, 9203: 7.600902459542082, 9210: 7.52294091807237, 6055: 7.346010209913293, 4292: 7.24422751560335, 13684: 6.856461984594587, 13630: 7.003065458786462, 13662: 7.029972911706386, 13221: 6.745236349484362, 14985: 8.160518247477505, 11769: 5.521460917862246, 11535: 6.745236349484362, 20563: 7.24422751560335, 20821: 7.24422751560335, 20823: 7.24422751560335, 20827: 7.24422751560335, 15873: 8.294049640102028, 15513: 7.090076835776092, 9207: 7.495541943884256, 9212: 7.600902459542082, 11538: 6.745236349484362, 11540: 6.745236349484362, 11423: 4.59511985013459, 14903: 5.0106352940962555, 324: 5.521460917862246, 219: 5.521460917862246, 2634: 7.346010209913293, 2632: 7.7406644019172415, 11773: 5.521460917862246, 15933: 7.600902459542082, 20655: 7.495541943884256, 21138: 7.495541943884256, 21244: 7.170119543449628, 21105: 7.495541943884256, 7636: 7.650168700845001, 13686: 7.003065458786462, 13631: 7.003065458786462, 13654: 7.003065458786462, 14983: 8.294049640102028, 11774: 5.521460917862246, 11775: 5.521460917862246, 13253: 6.745236349484362, 13267: 6.684611727667927, 13274: 6.522092798170152, 13282: 6.0867747269123065, 12124: 10.239674034047525, 8548: 7.090076835776092, 9213: 7.495541943884256, 8737: 7.3777589082278725, 8547: 7.090076835776092, 9469: 7.772752716468742, 10200: 5.991464547107982, 9930: 6.1092475827643655, 9463: 5.991464547107982, 9334: 6.745236349484362, 9337: 6.802394763324311, 9338: 6.802394763324311, 15878: 7.346010209913293, 14809: 6.907755278982137, 18482: 5.857933154483459, 18327: 5.799092654460526, 18375: 5.799092654460526, 16975: 5.991464547107982, 16653: 5.0106352940962555, 17409: 6.1092475827643655, 14808: 6.309918278226516, 12881: 5.991464547107982, 12882: 6.620073206530356, 13011: 5.703782474656201, 13339: 5.886104031450156, 13340: 5.886104031450156, 13294: 6.063785208687608, 13330: 6.309918278226516, 12786: 6.1092475827643655, 13499: 10.373209892223665, 15067: 8.612503371220562, 15069: 7.824046010856292, 14421: 5.857933154483459, 14801: 6.1092475827643655, 14802: 7.313220387090301, 14803: 6.684611727667927, 14807: 7.600902459542082, 14057: 5.703782474656201, 2788: 8.411832675758411, 2791: 8.612503371220562, 2792: 8.612503371220562, 2059: 7.3777589082278725, 3353: 8.294049640102028, 3352: 8.006367567650246, 3558: 8.1886891244442, 3350: 8.006367567650246, 3351: 8.294049640102028, 3597: 7.696212639346407, 3598: 7.600902459542082, 3599: 7.047517221357296, 2666: 7.1308988302963465, 1963: 6.396929655216146, 1716: 5.857933154483459, 18742: 5.991464547107982, 19431: 7.9724660159745655, 17847: 5.521460917862246, 20602: 7.346010209913293, 20748: 6.551080335043404, 1121: 5.857933154483459, 5670: 8.409830673087738, 6165: 7.696212639346407, 6676: 10.257343526911063, 6301: 5.857933154483459, 4719: 6.907755278982137, 4721: 8.1886891244442, 4838: 7.24422751560335, 4839: 8.294049640102028, 4722: 8.1886891244442, 3920: 7.408530566894626, 3919: 7.90100705199242, 3769: 5.703782474656201, 3917: 6.1092475827643655, 3918: 7.313220387090301, 4840: 8.45531778769815, 4201: 5.991464547107982, 5041: 8.294049640102028, 5043: 8.006367567650246, 5044: 8.006367567650246, 4843: 9.210340371976184, 4844: 9.210340371976184, 4841: 8.294049640102028, 4842: 8.45531778769815, 20349: 7.346010209913293, 19913: 5.991464547107982, 14968: 5.521460917862246, 13457: 7.600902459542082, 16052: 6.684611727667927, 15875: 7.346010209913293, 16199: 7.600902459542082, 16187: 7.215239978730097, 16197: 7.170119543449628, 7668: 8.986071187374463, 8178: 5.991464547107982, 13288: 6.152732694704104, 14321: 5.521460917862246, 20749: 6.551080335043404, 20752: 6.551080335043404, 20751: 6.551080335043404, 20620: 7.346010209913293, 18841: 5.991464547107982, 21722: 7.495541943884256, 21369: 5.135798437050262, 21104: 7.495541943884256, 10554: 5.991464547107982, 13254: 6.745236349484362, 13260: 5.886104031450156, 13208: 6.396929655216146, 5656: 8.646641258603124, 19697: 7.346010209913293, 20678: 8.294049640102028, 2789: 8.164794804244766, 12125: 10.10201048866809, 5042: 8.294049640102028, 9331: 6.802394763324311, 8225: 7.52294091807237, 21671: 5.991464547107982, 2665: 7.090076835776092, 7327: 5.857933154483459, 20536: 7.549609165154532, 13335: 5.857933154483459, 11187: 5.991464547107982, 13239: 6.684611727667927, 13228: 6.620073206530356, 16188: 7.215239978730097, 16208: 5.991464547107982, 6257: 5.857933154483459, 5003: 8.294049640102028, 9390: 6.551080335043404, 10727: 5.991464547107982, 12503: 6.1092475827643655, 12589: 5.0106352940962555, 15876: 7.346010209913293, 15877: 7.346010209913293, 2726: 5.703782474656201, 4141: 7.0825485693553, 9204: 7.495541943884256, 9481: 5.0106352940962555, 15073: 6.396929655216146, 16248: 6.478509642208569, 13197: 4.852030263919617, 13513: 7.003065458786462, 13412: 7.491087593534876, 16801: 6.673297967767654, 17990: 5.521460917862246, 18188: 5.799092654460526, 15594: 5.521460917862246, 16005: 6.214608098422191, 20725: 7.696212639346407, 10320: 5.135798437050262, 12700: 5.0106352940962555, 20267: 5.135798437050262, 17848: 5.0106352940962555, 13283: 6.309918278226516, 21458: 5.135798437050262, 12529: 6.1092475827643655, 2787: 8.216088098632316, 3001: 7.1631723908466425, 3228: 6.040254711277414, 1930: 3.258096538021482, 1929: 4.330733340286331, 1964: 6.396929655216146, 2379: 5.857933154483459, 2414: 8.795127912413138, 2433: 5.298317366548036, 4208: 6.803505257608338, 4044: 7.090076835776092, 4145: 6.898714534329988, 3726: 7.600902459542082, 167: 5.0106352940962555, 211: 5.37989735354046, 212: 5.37989735354046, 216: 5.153291594497779, 217: 5.153291594497779, 231: 4.394449154672439, 239: 4.394449154672439, 240: 4.976733742420574, 241: 4.394449154672439, 288: 4.394449154672439, 1351: 7.824445930877619, 1354: 7.438971592395862, 1355: 7.901377353792616, 1400: 5.298317366548036, 1427: 5.298317366548036, 925: 5.37989735354046, 928: 8.853808274977197, 415: 4.976733742420574, 9459: 5.484796933490655, 13091: 6.90875477931522, 13094: 7.824445930877619, 5685: 5.616771097666572, 5698: 6.898714534329988, 5716: 6.723832440821209, 5758: 6.1092475827643655, 5768: 7.668561108015897, 5560: 6.621405651764134, 5376: 9.349319399257634, 5382: 8.291797105048733, 5386: 8.291797105048733, 6172: 6.684611727667927, 5000: 7.495541943884256, 5001: 7.495541943884256, 5006: 7.7406644019172415, 4926: 7.969357742016346, 7908: 7.313220387090301, 7090: 5.438079308923196, 20750: 6.551080335043404, 20622: 7.346010209913293, 7409: 5.703782474656201, 14984: 8.294049640102028, 8174: 7.438383530044307, 8175: 7.438383530044307, 6191: 5.703782474656201, 20263: 5.135798437050262, 9330: 6.802394763324311, 314: 5.521460917862246, 456: 5.857933154483459, 11771: 5.521460917862246, 16997: 5.0106352940962555, 16474: 5.0106352940962555, 13077: 4.59511985013459, 7818: 9.509778075438817, 15037: 6.309918278226516, 3560: 3.367295829986474, 4567: 4.37449836825309, 2790: 8.411832675758411, 20264: 5.135798437050262, 10505: 8.006367567650246, 8180: 5.991464547107982, 1617: 7.24422751560335, 5002: 8.006367567650246, 5383: 8.387312270561717, 6189: 5.703782474656201, 1965: 8.160518247477505, 636: 5.247024072160486, 20758: 7.3777589082278725, 20339: 7.346010209913293, 9818: 6.956545443151569, 13529: 6.907755278982137, 13530: 6.907755278982137, 13531: 6.907755278982137, 13320: 6.396929655216146, 13321: 6.396929655216146, 13322: 6.396929655216146, 14520: 7.170119543449628, 13319: 6.396929655216146, 13318: 6.522092798170152, 11956: 6.309918278226516, 12479: 7.649692623711514, 12506: 6.1092475827643655, 19696: 7.24422751560335, 3987: 5.703782474656201, 7315: 5.991464547107982, 8468: 5.857933154483459, 5004: 8.006367567650246, 5005: 8.294049640102028, 4541: 7.897668150726906, 11794: 5.857933154483459, 11537: 6.745236349484362, 13224: 6.745236349484362, 10780: 5.857933154483459, 10648: 5.700443573390686, 17011: 6.396929655216146, 14253: 7.170119543449628, 14979: 6.907755278982137, 1334: 7.90100705199242, 207: 4.59511985013459, 9335: 6.745236349484362, 22001: 5.135798437050262, 22002: 5.135798437050262, 22003: 5.135798437050262, 18088: 5.703782474656201, 9328: 6.802394763324311, 9332: 6.745236349484362, 6851: 9.517825071724143, 7581: 7.766840537085513, 7597: 7.873217054862741, 7606: 7.745435610274381, 7639: 8.149312843635345, 7641: 7.745435610274381, 13219: 5.703782474656201, 13293: 6.396929655216146, 10571: 5.703782474656201, 10850: 5.298317366548036, 11260: 3.367295829986474, 8113: 5.857933154483459, 18355: 5.857933154483459, 2492: 7.346010209913293, 2652: 5.857933154483459, 2143: 7.090076835776092, 20266: 5.135798437050262, 9329: 6.802394763324311, 2664: 7.600902459542082, 20407: 7.575584651557793, 20460: 7.24422751560335, 20352: 7.346010209913293, 21937: 7.346010209913293, 12981: 5.857933154483459, 13334: 5.886104031450156, 14958: 5.703782474656201, 12851: 5.703782474656201, 13634: 6.907755278982137, 14736: 5.991464547107982, 13287: 6.152732694704104, 11703: 6.1092475827643655, 11704: 6.684611727667927, 11678: 5.857933154483459, 13241: 6.111467339502679, 13247: 5.91350300563827, 13277: 5.886104031450156, 13281: 6.620073206530356, 12023: 5.135798437050262, 12408: 5.857933154483459, 12612: 6.1092475827643655, 22004: 5.135798437050262, 1341: 5.857933154483459, 1586: 8.699514748210191, 1581: 8.411832675758411, 1583: 8.273846932784508, 1584: 8.294049640102028, 17747: 5.8289456176102075, 17772: 6.856461984594587, 17773: 7.3777589082278725, 17774: 6.620073206530356, 17775: 5.991464547107982, 19144: 5.991464547107982, 2131: 5.857933154483459, 1578: 9.104979856318357, 2663: 5.703782474656201, 2576: 5.857933154483459, 2577: 7.738488122494646, 21011: 7.549609165154532, 21942: 7.346010209913293, 8177: 7.824046010856292, 7223: 8.294049640102028, 7224: 8.411832675758411, 8546: 7.136217991776599, 10201: 6.645897215487812, 10202: 7.07326971745971, 9927: 5.991464547107982, 9928: 6.684611727667927, 3756: 8.935903526274423, 3838: 9.472704636443673, 3898: 5.703782474656201, 4055: 8.006367567650246, 5905: 7.003065458786462, 5950: 7.919356190660617, 6040: 5.857933154483459, 10449: 6.684611727667927, 12671: 5.521460917862246, 8397: 5.991464547107982, 9015: 5.991464547107982, 8327: 5.991464547107982, 14286: 5.991464547107982, 13449: 10.403990075979044, 13656: 6.907755278982137, 14525: 6.214608098422191, 14973: 5.703782474656201, 13279: 5.991464547107982, 13234: 6.856461984594587, 13323: 5.886104031450156, 3837: 8.090708716083997, 3839: 8.85366542803745, 3034: 8.294049640102028, 7135: 7.696212639346407, 6505: 7.313220387090301, 7255: 5.857933154483459, 5668: 8.364275084991524, 19015: 5.521460917862246, 7230: 6.551080335043404, 7231: 6.907755278982137, 4054: 7.824046010856292, 12706: 5.521460917862246, 9039: 5.857933154483459, 12088: 5.991464547107982, 11063: 5.991464547107982, 17755: 7.495541943884256, 13678: 6.907755278982137, 22005: 5.135798437050262, 22006: 5.135798437050262, 1579: 9.104979856318357, 12646: 5.991464547107982, 12688: 5.298317366548036, 13667: 6.907755278982137, 13299: 5.966146739123692, 8868: 5.857933154483459, 9391: 6.551080335043404, 8453: 8.515391569469609, 8398: 6.620073206530356, 17364: 5.0106352940962555, 18743: 5.857933154483459, 15413: 6.174202683787152, 15419: 6.684611727667927, 15420: 6.476972362889683, 1582: 8.411832675758411, 17031: 5.991464547107982, 19835: 5.521460917862246, 13227: 6.492239835020471, 12382: 5.857933154483459, 13375: 5.703782474656201, 13403: 10.545130890228958, 13337: 6.396929655216146, 12891: 5.857933154483459, 13636: 6.907755278982137, 13244: 5.768320995793772, 10447: 6.1092475827643655, 10448: 7.294377299288821, 11539: 6.745236349484362, 8063: 5.991464547107982, 11530: 6.907755278982137, 11779: 5.0106352940962555, 17665: 7.346010209913293, 17666: 7.346010209913293, 15793: 5.857933154483459, 16988: 5.991464547107982, 17032: 6.620073206530356, 19075: 5.521460917862246, 19655: 5.703782474656201, 19656: 7.003065458786462, 19657: 6.620073206530356, 19478: 8.006367567650246, 19479: 8.006367567650246, 19520: 5.521460917862246, 19642: 5.521460917862246, 16098: 7.803843303538772, 15500: 7.090076835776092, 15230: 7.346010209913293, 1587: 8.699514748210191, 3755: 8.85366542803745, 3758: 8.935903526274423, 3572: 7.003065458786462, 3042: 8.070906088787819, 15415: 6.476972362889683, 15926: 9.358760377094455, 409: 5.521460917862246, 22158: 5.521460917862246, 20801: 8.922658299524402, 20619: 7.346010209913293, 21449: 6.1092475827643655, 21604: 5.521460917862246, 7134: 8.1886891244442, 6678: 10.180854102460378, 8699: 5.521460917862246, 8454: 8.515391569469609, 8456: 8.453401058328458, 5352: 5.991464547107982, 3831: 5.703782474656201, 5907: 8.242756345714477, 5908: 8.070906088787819, 5906: 8.070906088787819, 21195: 7.549609165154532, 21450: 6.684611727667927, 21548: 5.991464547107982, 21041: 7.549609165154532, 21013: 7.549609165154532, 21034: 7.549609165154532, 21973: 7.495541943884256, 21948: 7.438383530044307, 19204: 5.991464547107982, 19205: 6.620073206530356, 19552: 5.135798437050262, 18483: 5.857933154483459, 20618: 7.346010209913293, 20621: 7.346010209913293, 20637: 8.612503371220562, 19971: 8.070906088787819, 4053: 7.824046010856292, 3757: 8.85366542803745, 18397: 5.521460917862246, 6041: 7.843848638152472, 21954: 7.3777589082278725, 15222: 7.346010209913293, 13448: 10.462846164547514, 13578: 7.495541943884256, 13579: 7.495541943884256, 13289: 6.476972362889683, 13298: 6.620073206530356, 13590: 7.696212639346407, 17597: 5.703782474656201, 17598: 5.703782474656201, 17608: 6.7864799021953, 17609: 7.24422751560335, 18383: 5.521460917862246, 18303: 5.480638923341991, 17902: 4.59511985013459, 15411: 6.551080335043404, 15412: 6.214608098422191, 15421: 6.4457198193855785, 16073: 6.396929655216146, 16102: 7.346010209913293, 16064: 6.856461984594587, 16047: 7.600902459542082, 15692: 5.857933154483459, 16196: 7.718685495198466, 16212: 6.396929655216146, 8694: 5.857933154483459, 9389: 6.551080335043404, 20334: 7.575584651557793, 20344: 7.346010209913293, 473: 6.1092475827643655, 21664: 6.802394763324311, 18514: 5.799092654460526, 13637: 6.907755278982137, 9107: 3.9318256327243257, 10204: 5.991464547107982, 7717: 7.495541943884256, 7716: 5.926926025970411, 7126: 7.064759027791802, 9103: 3.9318256327243257, 13092: 7.601402334583733, 3409: 7.313220387090301, 6943: 6.1092475827643655, 6644: 6.396929655216146, 6663: 6.907755278982137, 6703: 6.907755278982137, 6920: 5.521460917862246, 4914: 6.806829360392176, 4931: 6.898714534329988, 4945: 7.2399325913204695, 4958: 6.182084906716632, 5704: 7.467942332285852, 18060: 5.153291594497779, 16797: 6.673297967767654, 12733: 7.307202314764738, 4059: 7.600902459542082, 7462: 5.857933154483459, 15925: 9.38429367909962, 7133: 7.696212639346407, 5951: 7.919356190660617, 9354: 6.551080335043404, 6356: 5.857933154483459, 15499: 6.684611727667927, 4056: 8.006367567650246, 13589: 7.3777589082278725, 5355: 6.684611727667927, 9425: 5.857933154483459, 931: 5.37989735354046, 932: 5.37989735354046, 189: 4.605170185988092, 190: 4.605170185988092, 192: 4.605170185988092, 193: 4.605170185988092, 194: 4.605170185988092, 201: 4.394449154672439, 188: 4.605170185988092, 208: 5.153291594497779, 245: 4.61512051684126, 364: 5.0106352940962555, 229: 4.394449154672439, 187: 4.605170185988092, 186: 4.61512051684126, 146: 4.709530201312334, 147: 4.709530201312334, 159: 4.709530201312334, 174: 4.394449154672439, 181: 4.61512051684126, 182: 4.61512051684126, 183: 4.605170185988092, 184: 4.605170185988092, 185: 4.605170185988092, 2736: 5.991464547107982, 1819: 7.313220387090301, 2390: 4.605170185988092, 1935: 5.521460917862246, 2066: 5.298317366548036, 9392: 6.551080335043404, 10072: 5.135798437050262, 13503: 10.462846164547514, 19590: 7.24422751560335, 15807: 7.2078598714324755, 12732: 7.307202314764738, 15892: 7.2078598714324755, 21166: 7.1316985104669115, 21121: 7.1316985104669115, 20859: 7.3777589082278725, 21033: 7.549609165154532, 21039: 7.549609165154532, 21040: 7.549609165154532, 21043: 7.549609165154532, 21106: 7.549609165154532, 21114: 7.549609165154532, 3849: 7.824046010856292, 573: 5.298317366548036, 662: 5.247024072160486, 12973: 7.313220387090301, 14766: 7.955074273262696, 12209: 5.60947179518496, 9194: 7.600902459542082, 9196: 7.600902459542082, 9195: 7.600902459542082, 9197: 7.600902459542082, 9198: 7.600902459542082, 9349: 6.620073206530356, 9353: 6.397762641520038, 13581: 7.495541943884256, 9470: 8.131530710604252, 11521: 6.802394763324311, 11522: 6.802394763324311, 13632: 6.907755278982137, 12460: 7.649692623711514, 487: 5.438079308923196, 489: 5.438079308923196, 21944: 7.438383530044307, 21945: 7.438383530044307, 21946: 7.438383530044307, 21947: 7.438383530044307, 21949: 7.438383530044307, 21950: 7.438383530044307, 21951: 7.438383530044307, 21943: 7.438383530044307, 21936: 7.438383530044307, 21938: 7.438383530044307, 21939: 7.438383530044307, 21940: 7.438383530044307, 21941: 7.438383530044307, 21957: 7.438383530044307, 21971: 7.495541943884256, 21972: 7.495541943884256, 21168: 7.549609165154532, 3759: 8.294049640102028, 21167: 7.549609165154532, 18103: 8.242756345714477, 13751: 8.764053269347762, 13752: 8.764053269347762, 14151: 8.006367567650246, 13635: 6.907755278982137, 13657: 6.907755278982137, 19488: 8.26870619076336, 14992: 8.294044640089528, 14993: 8.294049640102028, 19489: 8.116715624819111, 20997: 7.549609165154532, 20998: 7.549609165154532, 21000: 7.549609165154532, 21001: 7.549609165154532, 21002: 7.549609165154532, 21101: 7.549609165154532, 21107: 7.549609165154532, 21115: 7.549609165154532, 21116: 7.549609165154532, 21122: 7.549609165154532, 21165: 7.549609165154532, 21054: 7.549609165154532, 21003: 7.549609165154532, 21004: 7.549609165154532, 21006: 7.549609165154532, 21007: 7.549609165154532, 21008: 7.549609165154532, 21009: 7.549609165154532, 21014: 7.549609165154532, 21015: 7.549609165154532, 21046: 7.549609165154532, 21047: 7.549609165154532, 21053: 7.549609165154532, 21012: 7.549609165154532, 20451: 7.438383530044307, 20453: 8.594154232552366, 19965: 8.389359819906353, 20336: 7.346010209913293, 20348: 7.346010209913293, 11766: 5.521460917862246, 8864: 5.991464547107982, 8866: 5.991464547107982, 16079: 7.047517221357296, 5956: 7.52294091807237, 7136: 8.1886891244442, 18723: 6.309918278226516, 1622: 7.495541943884256, 9583: 5.521460917862246, 15416: 6.907755278982137, 12332: 5.521460917862246, 19964: 8.34283980427146, 17653: 7.2079339427632005, 17633: 7.696212639346407, 17634: 7.696212639346407, 20343: 7.346010209913293, 21005: 7.549609165154532, 21010: 7.549609165154532, 21031: 7.549609165154532, 21032: 7.549609165154532, 21035: 7.549609165154532, 21036: 7.549609165154532, 21037: 7.549609165154532, 21038: 7.549609165154532, 20999: 7.549609165154532, 21045: 7.549609165154532, 21052: 7.549609165154532, 21072: 7.549609165154532, 21074: 7.549609165154532, 21042: 7.549609165154532, 21108: 7.549609165154532, 13647: 7.1308988302963465, 13648: 7.1308988302963465, 13580: 7.495541943884256, 9205: 7.783224016336037, 866: 5.521460917862246, 898: 5.393627546352361, 750: 5.438079308923196, 749: 5.37989735354046, 645: 5.298317366548036, 685: 5.298317366548036, 696: 5.247024072160486, 702: 5.298317366548036, 703: 5.298317366548036, 710: 5.247024072160486, 732: 5.438079308923196, 734: 5.37989735354046, 736: 5.438079308923196, 737: 5.438079308923196, 738: 5.37989735354046, 739: 5.438079308923196, 741: 5.37989735354046, 744: 5.438079308923196, 746: 5.438079308923196, 747: 5.438079308923196, 730: 5.438079308923196, 595: 5.247024072160486, 543: 5.521460917862246, 547: 5.521460917862246, 5960: 10.308952660644293, 2425: 6.214608098422191, 21198: 7.549609165154532, 21163: 7.549609165154532, 21164: 7.549609165154532, 21169: 7.549609165154532, 21189: 7.549609165154532, 21190: 7.549609165154532, 21191: 7.549609165154532, 21192: 7.549609165154532, 21193: 7.549609165154532, 21197: 7.549609165154532, 21958: 7.3777589082278725, 21593: 7.2078598714324755, 11905: 7.882314918980268, 9826: 7.346010209913293, 12474: 7.649692623711514, 13633: 6.907755278982137, 16007: 7.937374696163295, 138: 5.521460917862246, 11309: 6.309918278226516, 20564: 7.24422751560335, 21188: 7.549609165154532, 21194: 7.549609165154532, 21044: 7.549609165154532, 13245: 6.309918278226516, 5953: 7.52294091807237, 5959: 7.52294091807237, 10935: 5.298317366548036, 10062: 3.367295829986474, 238: 5.521460917862246, 986: 5.521460917862246, 461: 5.521460917862246, 15889: 8.006367567650246, 16093: 7.170119543449628, 15417: 6.684611727667927, 21073: 7.244941546337007, 139: 5.521460917862246, 315: 5.521460917862246, 445: 5.521460917862246, 930: 6.68586094706836, 7151: 4.07753744390572, 15414: 6.254213353014551, 13476: 8.987071812848821, 13280: 6.1092475827643655, 16105: 7.24422751560335, 16094: 7.803843303538772, 14709: 6.802228082767212, 8428: 5.521460917862246, 7903: 9.409109260148737, 7610: 7.969357742016346, 7635: 7.650168700845001, 7640: 8.304247465078474}\n"
          ],
          "name": "stdout"
        }
      ]
    },
    {
      "cell_type": "code",
      "metadata": {
        "colab": {
          "base_uri": "https://localhost:8080/",
          "height": 0
        },
        "id": "wVBIlqUwLPUS",
        "outputId": "2d9a8971-bc87-4fca-8b4f-8612c3383d94"
      },
      "source": [
        "price_dict_df = pd.DataFrame.from_dict(price_dict, orient='index', columns=['price'])\n",
        "price_df = price_dict_df.reset_index()\n",
        "price_df.columns = ['item_id', 'price']\n",
        "\n",
        "price_df.head()"
      ],
      "execution_count": 163,
      "outputs": [
        {
          "output_type": "execute_result",
          "data": {
            "text/html": [
              "<div>\n",
              "<style scoped>\n",
              "    .dataframe tbody tr th:only-of-type {\n",
              "        vertical-align: middle;\n",
              "    }\n",
              "\n",
              "    .dataframe tbody tr th {\n",
              "        vertical-align: top;\n",
              "    }\n",
              "\n",
              "    .dataframe thead th {\n",
              "        text-align: right;\n",
              "    }\n",
              "</style>\n",
              "<table border=\"1\" class=\"dataframe\">\n",
              "  <thead>\n",
              "    <tr style=\"text-align: right;\">\n",
              "      <th></th>\n",
              "      <th>item_id</th>\n",
              "      <th>price</th>\n",
              "    </tr>\n",
              "  </thead>\n",
              "  <tbody>\n",
              "    <tr>\n",
              "      <th>0</th>\n",
              "      <td>22154</td>\n",
              "      <td>299.00</td>\n",
              "    </tr>\n",
              "    <tr>\n",
              "      <th>1</th>\n",
              "      <td>2552</td>\n",
              "      <td>949.00</td>\n",
              "    </tr>\n",
              "    <tr>\n",
              "      <th>2</th>\n",
              "      <td>2554</td>\n",
              "      <td>1709.05</td>\n",
              "    </tr>\n",
              "    <tr>\n",
              "      <th>3</th>\n",
              "      <td>2555</td>\n",
              "      <td>1149.00</td>\n",
              "    </tr>\n",
              "    <tr>\n",
              "      <th>4</th>\n",
              "      <td>2564</td>\n",
              "      <td>249.00</td>\n",
              "    </tr>\n",
              "  </tbody>\n",
              "</table>\n",
              "</div>"
            ],
            "text/plain": [
              "   item_id    price\n",
              "0    22154   299.00\n",
              "1     2552   949.00\n",
              "2     2554  1709.05\n",
              "3     2555  1149.00\n",
              "4     2564   249.00"
            ]
          },
          "metadata": {
            "tags": []
          },
          "execution_count": 163
        }
      ]
    },
    {
      "cell_type": "code",
      "metadata": {
        "colab": {
          "base_uri": "https://localhost:8080/",
          "height": 0
        },
        "id": "eMA45cjJL6rM",
        "outputId": "1fdc5f20-bf7a-4eff-bf41-7cb2ee69cc3a"
      },
      "source": [
        "logprice_dict_df = pd.DataFrame.from_dict(logprice_dict, orient='index', columns=['price'])\n",
        "logprice_df = logprice_dict_df.reset_index()\n",
        "logprice_df.columns = ['item_id', 'log_prices']\n",
        "\n",
        "logprice_df.head()"
      ],
      "execution_count": 164,
      "outputs": [
        {
          "output_type": "execute_result",
          "data": {
            "text/html": [
              "<div>\n",
              "<style scoped>\n",
              "    .dataframe tbody tr th:only-of-type {\n",
              "        vertical-align: middle;\n",
              "    }\n",
              "\n",
              "    .dataframe tbody tr th {\n",
              "        vertical-align: top;\n",
              "    }\n",
              "\n",
              "    .dataframe thead th {\n",
              "        text-align: right;\n",
              "    }\n",
              "</style>\n",
              "<table border=\"1\" class=\"dataframe\">\n",
              "  <thead>\n",
              "    <tr style=\"text-align: right;\">\n",
              "      <th></th>\n",
              "      <th>item_id</th>\n",
              "      <th>log_prices</th>\n",
              "    </tr>\n",
              "  </thead>\n",
              "  <tbody>\n",
              "    <tr>\n",
              "      <th>0</th>\n",
              "      <td>22154</td>\n",
              "      <td>5.703782</td>\n",
              "    </tr>\n",
              "    <tr>\n",
              "      <th>1</th>\n",
              "      <td>2552</td>\n",
              "      <td>6.856462</td>\n",
              "    </tr>\n",
              "    <tr>\n",
              "      <th>2</th>\n",
              "      <td>2554</td>\n",
              "      <td>7.444278</td>\n",
              "    </tr>\n",
              "    <tr>\n",
              "      <th>3</th>\n",
              "      <td>2555</td>\n",
              "      <td>7.047517</td>\n",
              "    </tr>\n",
              "    <tr>\n",
              "      <th>4</th>\n",
              "      <td>2564</td>\n",
              "      <td>5.521461</td>\n",
              "    </tr>\n",
              "  </tbody>\n",
              "</table>\n",
              "</div>"
            ],
            "text/plain": [
              "   item_id  log_prices\n",
              "0    22154    5.703782\n",
              "1     2552    6.856462\n",
              "2     2554    7.444278\n",
              "3     2555    7.047517\n",
              "4     2564    5.521461"
            ]
          },
          "metadata": {
            "tags": []
          },
          "execution_count": 164
        }
      ]
    },
    {
      "cell_type": "code",
      "metadata": {
        "id": "q8qBbM1lNTVq"
      },
      "source": [
        "# full_test = test_datas.merge(logprice_df, on='item_id',how='left')\n",
        "# full_test.isna().sum()"
      ],
      "execution_count": 165,
      "outputs": []
    },
    {
      "cell_type": "markdown",
      "metadata": {
        "id": "9omtxtfmQCuB"
      },
      "source": [
        "a lot of prices are empty. Not good. I will fill with median, better for the set of data we have due to skew. I will have to hold off on adding logprices, and go with real prices and then turn them back into logprices, if I am filling na with median. "
      ]
    },
    {
      "cell_type": "code",
      "metadata": {
        "colab": {
          "base_uri": "https://localhost:8080/",
          "height": 0
        },
        "id": "Uun3YFLiQAnd",
        "outputId": "0f4ff6cd-228a-4270-a1a8-191f02780f8c"
      },
      "source": [
        "full_test = test_datas.merge(price_df, on='item_id', how='left')\n",
        "full_test.head()\n",
        "# full_test.isna().sum()"
      ],
      "execution_count": 166,
      "outputs": [
        {
          "output_type": "execute_result",
          "data": {
            "text/html": [
              "<div>\n",
              "<style scoped>\n",
              "    .dataframe tbody tr th:only-of-type {\n",
              "        vertical-align: middle;\n",
              "    }\n",
              "\n",
              "    .dataframe tbody tr th {\n",
              "        vertical-align: top;\n",
              "    }\n",
              "\n",
              "    .dataframe thead th {\n",
              "        text-align: right;\n",
              "    }\n",
              "</style>\n",
              "<table border=\"1\" class=\"dataframe\">\n",
              "  <thead>\n",
              "    <tr style=\"text-align: right;\">\n",
              "      <th></th>\n",
              "      <th>ID</th>\n",
              "      <th>shop_id</th>\n",
              "      <th>item_id</th>\n",
              "      <th>date_block_num</th>\n",
              "      <th>item_category_id</th>\n",
              "      <th>price</th>\n",
              "    </tr>\n",
              "  </thead>\n",
              "  <tbody>\n",
              "    <tr>\n",
              "      <th>0</th>\n",
              "      <td>0</td>\n",
              "      <td>5</td>\n",
              "      <td>5037</td>\n",
              "      <td>34</td>\n",
              "      <td>19</td>\n",
              "      <td>1499.0</td>\n",
              "    </tr>\n",
              "    <tr>\n",
              "      <th>1</th>\n",
              "      <td>1</td>\n",
              "      <td>5</td>\n",
              "      <td>5320</td>\n",
              "      <td>34</td>\n",
              "      <td>55</td>\n",
              "      <td>NaN</td>\n",
              "    </tr>\n",
              "    <tr>\n",
              "      <th>2</th>\n",
              "      <td>2</td>\n",
              "      <td>5</td>\n",
              "      <td>5233</td>\n",
              "      <td>34</td>\n",
              "      <td>19</td>\n",
              "      <td>1199.0</td>\n",
              "    </tr>\n",
              "    <tr>\n",
              "      <th>3</th>\n",
              "      <td>3</td>\n",
              "      <td>5</td>\n",
              "      <td>5232</td>\n",
              "      <td>34</td>\n",
              "      <td>23</td>\n",
              "      <td>1199.0</td>\n",
              "    </tr>\n",
              "    <tr>\n",
              "      <th>4</th>\n",
              "      <td>4</td>\n",
              "      <td>5</td>\n",
              "      <td>5268</td>\n",
              "      <td>34</td>\n",
              "      <td>20</td>\n",
              "      <td>NaN</td>\n",
              "    </tr>\n",
              "  </tbody>\n",
              "</table>\n",
              "</div>"
            ],
            "text/plain": [
              "   ID  shop_id  item_id  date_block_num  item_category_id   price\n",
              "0   0        5     5037              34                19  1499.0\n",
              "1   1        5     5320              34                55     NaN\n",
              "2   2        5     5233              34                19  1199.0\n",
              "3   3        5     5232              34                23  1199.0\n",
              "4   4        5     5268              34                20     NaN"
            ]
          },
          "metadata": {
            "tags": []
          },
          "execution_count": 166
        }
      ]
    },
    {
      "cell_type": "code",
      "metadata": {
        "colab": {
          "base_uri": "https://localhost:8080/",
          "height": 0
        },
        "id": "occl4tzTQeuJ",
        "outputId": "ea445fed-a3ac-4c24-ff21-0ce0a3655742"
      },
      "source": [
        "full_test.fillna(full_test['price'].median(), inplace=True)\n",
        "print(full_test['price'].median())\n",
        "full_test.head()"
      ],
      "execution_count": 167,
      "outputs": [
        {
          "output_type": "stream",
          "text": [
            "449.0\n"
          ],
          "name": "stdout"
        },
        {
          "output_type": "execute_result",
          "data": {
            "text/html": [
              "<div>\n",
              "<style scoped>\n",
              "    .dataframe tbody tr th:only-of-type {\n",
              "        vertical-align: middle;\n",
              "    }\n",
              "\n",
              "    .dataframe tbody tr th {\n",
              "        vertical-align: top;\n",
              "    }\n",
              "\n",
              "    .dataframe thead th {\n",
              "        text-align: right;\n",
              "    }\n",
              "</style>\n",
              "<table border=\"1\" class=\"dataframe\">\n",
              "  <thead>\n",
              "    <tr style=\"text-align: right;\">\n",
              "      <th></th>\n",
              "      <th>ID</th>\n",
              "      <th>shop_id</th>\n",
              "      <th>item_id</th>\n",
              "      <th>date_block_num</th>\n",
              "      <th>item_category_id</th>\n",
              "      <th>price</th>\n",
              "    </tr>\n",
              "  </thead>\n",
              "  <tbody>\n",
              "    <tr>\n",
              "      <th>0</th>\n",
              "      <td>0</td>\n",
              "      <td>5</td>\n",
              "      <td>5037</td>\n",
              "      <td>34</td>\n",
              "      <td>19</td>\n",
              "      <td>1499.0</td>\n",
              "    </tr>\n",
              "    <tr>\n",
              "      <th>1</th>\n",
              "      <td>1</td>\n",
              "      <td>5</td>\n",
              "      <td>5320</td>\n",
              "      <td>34</td>\n",
              "      <td>55</td>\n",
              "      <td>449.0</td>\n",
              "    </tr>\n",
              "    <tr>\n",
              "      <th>2</th>\n",
              "      <td>2</td>\n",
              "      <td>5</td>\n",
              "      <td>5233</td>\n",
              "      <td>34</td>\n",
              "      <td>19</td>\n",
              "      <td>1199.0</td>\n",
              "    </tr>\n",
              "    <tr>\n",
              "      <th>3</th>\n",
              "      <td>3</td>\n",
              "      <td>5</td>\n",
              "      <td>5232</td>\n",
              "      <td>34</td>\n",
              "      <td>23</td>\n",
              "      <td>1199.0</td>\n",
              "    </tr>\n",
              "    <tr>\n",
              "      <th>4</th>\n",
              "      <td>4</td>\n",
              "      <td>5</td>\n",
              "      <td>5268</td>\n",
              "      <td>34</td>\n",
              "      <td>20</td>\n",
              "      <td>449.0</td>\n",
              "    </tr>\n",
              "  </tbody>\n",
              "</table>\n",
              "</div>"
            ],
            "text/plain": [
              "   ID  shop_id  item_id  date_block_num  item_category_id   price\n",
              "0   0        5     5037              34                19  1499.0\n",
              "1   1        5     5320              34                55   449.0\n",
              "2   2        5     5233              34                19  1199.0\n",
              "3   3        5     5232              34                23  1199.0\n",
              "4   4        5     5268              34                20   449.0"
            ]
          },
          "metadata": {
            "tags": []
          },
          "execution_count": 167
        }
      ]
    },
    {
      "cell_type": "code",
      "metadata": {
        "colab": {
          "base_uri": "https://localhost:8080/",
          "height": 0
        },
        "id": "gPGoti0sRMig",
        "outputId": "e3e63542-9e85-4bc3-a9e6-a831be5845c7"
      },
      "source": [
        "full_test['log_prices'] = np.log(full_test['price'])\n",
        "full_test.head()"
      ],
      "execution_count": 168,
      "outputs": [
        {
          "output_type": "execute_result",
          "data": {
            "text/html": [
              "<div>\n",
              "<style scoped>\n",
              "    .dataframe tbody tr th:only-of-type {\n",
              "        vertical-align: middle;\n",
              "    }\n",
              "\n",
              "    .dataframe tbody tr th {\n",
              "        vertical-align: top;\n",
              "    }\n",
              "\n",
              "    .dataframe thead th {\n",
              "        text-align: right;\n",
              "    }\n",
              "</style>\n",
              "<table border=\"1\" class=\"dataframe\">\n",
              "  <thead>\n",
              "    <tr style=\"text-align: right;\">\n",
              "      <th></th>\n",
              "      <th>ID</th>\n",
              "      <th>shop_id</th>\n",
              "      <th>item_id</th>\n",
              "      <th>date_block_num</th>\n",
              "      <th>item_category_id</th>\n",
              "      <th>price</th>\n",
              "      <th>log_prices</th>\n",
              "    </tr>\n",
              "  </thead>\n",
              "  <tbody>\n",
              "    <tr>\n",
              "      <th>0</th>\n",
              "      <td>0</td>\n",
              "      <td>5</td>\n",
              "      <td>5037</td>\n",
              "      <td>34</td>\n",
              "      <td>19</td>\n",
              "      <td>1499.0</td>\n",
              "      <td>7.312553</td>\n",
              "    </tr>\n",
              "    <tr>\n",
              "      <th>1</th>\n",
              "      <td>1</td>\n",
              "      <td>5</td>\n",
              "      <td>5320</td>\n",
              "      <td>34</td>\n",
              "      <td>55</td>\n",
              "      <td>449.0</td>\n",
              "      <td>6.107023</td>\n",
              "    </tr>\n",
              "    <tr>\n",
              "      <th>2</th>\n",
              "      <td>2</td>\n",
              "      <td>5</td>\n",
              "      <td>5233</td>\n",
              "      <td>34</td>\n",
              "      <td>19</td>\n",
              "      <td>1199.0</td>\n",
              "      <td>7.089243</td>\n",
              "    </tr>\n",
              "    <tr>\n",
              "      <th>3</th>\n",
              "      <td>3</td>\n",
              "      <td>5</td>\n",
              "      <td>5232</td>\n",
              "      <td>34</td>\n",
              "      <td>23</td>\n",
              "      <td>1199.0</td>\n",
              "      <td>7.089243</td>\n",
              "    </tr>\n",
              "    <tr>\n",
              "      <th>4</th>\n",
              "      <td>4</td>\n",
              "      <td>5</td>\n",
              "      <td>5268</td>\n",
              "      <td>34</td>\n",
              "      <td>20</td>\n",
              "      <td>449.0</td>\n",
              "      <td>6.107023</td>\n",
              "    </tr>\n",
              "  </tbody>\n",
              "</table>\n",
              "</div>"
            ],
            "text/plain": [
              "   ID  shop_id  item_id  date_block_num  item_category_id   price  log_prices\n",
              "0   0        5     5037              34                19  1499.0    7.312553\n",
              "1   1        5     5320              34                55   449.0    6.107023\n",
              "2   2        5     5233              34                19  1199.0    7.089243\n",
              "3   3        5     5232              34                23  1199.0    7.089243\n",
              "4   4        5     5268              34                20   449.0    6.107023"
            ]
          },
          "metadata": {
            "tags": []
          },
          "execution_count": 168
        }
      ]
    },
    {
      "cell_type": "code",
      "metadata": {
        "colab": {
          "base_uri": "https://localhost:8080/",
          "height": 0
        },
        "id": "0LLM1-zNRmHe",
        "outputId": "fc6d8232-6aca-4e3c-cda4-7bc6f5d7e065"
      },
      "source": [
        "full_test = full_test.drop('price', axis=1)\n",
        "full_test.head()"
      ],
      "execution_count": 169,
      "outputs": [
        {
          "output_type": "execute_result",
          "data": {
            "text/html": [
              "<div>\n",
              "<style scoped>\n",
              "    .dataframe tbody tr th:only-of-type {\n",
              "        vertical-align: middle;\n",
              "    }\n",
              "\n",
              "    .dataframe tbody tr th {\n",
              "        vertical-align: top;\n",
              "    }\n",
              "\n",
              "    .dataframe thead th {\n",
              "        text-align: right;\n",
              "    }\n",
              "</style>\n",
              "<table border=\"1\" class=\"dataframe\">\n",
              "  <thead>\n",
              "    <tr style=\"text-align: right;\">\n",
              "      <th></th>\n",
              "      <th>ID</th>\n",
              "      <th>shop_id</th>\n",
              "      <th>item_id</th>\n",
              "      <th>date_block_num</th>\n",
              "      <th>item_category_id</th>\n",
              "      <th>log_prices</th>\n",
              "    </tr>\n",
              "  </thead>\n",
              "  <tbody>\n",
              "    <tr>\n",
              "      <th>0</th>\n",
              "      <td>0</td>\n",
              "      <td>5</td>\n",
              "      <td>5037</td>\n",
              "      <td>34</td>\n",
              "      <td>19</td>\n",
              "      <td>7.312553</td>\n",
              "    </tr>\n",
              "    <tr>\n",
              "      <th>1</th>\n",
              "      <td>1</td>\n",
              "      <td>5</td>\n",
              "      <td>5320</td>\n",
              "      <td>34</td>\n",
              "      <td>55</td>\n",
              "      <td>6.107023</td>\n",
              "    </tr>\n",
              "    <tr>\n",
              "      <th>2</th>\n",
              "      <td>2</td>\n",
              "      <td>5</td>\n",
              "      <td>5233</td>\n",
              "      <td>34</td>\n",
              "      <td>19</td>\n",
              "      <td>7.089243</td>\n",
              "    </tr>\n",
              "    <tr>\n",
              "      <th>3</th>\n",
              "      <td>3</td>\n",
              "      <td>5</td>\n",
              "      <td>5232</td>\n",
              "      <td>34</td>\n",
              "      <td>23</td>\n",
              "      <td>7.089243</td>\n",
              "    </tr>\n",
              "    <tr>\n",
              "      <th>4</th>\n",
              "      <td>4</td>\n",
              "      <td>5</td>\n",
              "      <td>5268</td>\n",
              "      <td>34</td>\n",
              "      <td>20</td>\n",
              "      <td>6.107023</td>\n",
              "    </tr>\n",
              "  </tbody>\n",
              "</table>\n",
              "</div>"
            ],
            "text/plain": [
              "   ID  shop_id  item_id  date_block_num  item_category_id  log_prices\n",
              "0   0        5     5037              34                19    7.312553\n",
              "1   1        5     5320              34                55    6.107023\n",
              "2   2        5     5233              34                19    7.089243\n",
              "3   3        5     5232              34                23    7.089243\n",
              "4   4        5     5268              34                20    6.107023"
            ]
          },
          "metadata": {
            "tags": []
          },
          "execution_count": 169
        }
      ]
    },
    {
      "cell_type": "code",
      "metadata": {
        "colab": {
          "base_uri": "https://localhost:8080/",
          "height": 0
        },
        "id": "dLKT037WR9Ut",
        "outputId": "54d2dff2-70b8-41c0-e684-d5243163ad14"
      },
      "source": [
        "full_test = full_test.drop('ID', axis=1)\n",
        "full_test.head()"
      ],
      "execution_count": 170,
      "outputs": [
        {
          "output_type": "execute_result",
          "data": {
            "text/html": [
              "<div>\n",
              "<style scoped>\n",
              "    .dataframe tbody tr th:only-of-type {\n",
              "        vertical-align: middle;\n",
              "    }\n",
              "\n",
              "    .dataframe tbody tr th {\n",
              "        vertical-align: top;\n",
              "    }\n",
              "\n",
              "    .dataframe thead th {\n",
              "        text-align: right;\n",
              "    }\n",
              "</style>\n",
              "<table border=\"1\" class=\"dataframe\">\n",
              "  <thead>\n",
              "    <tr style=\"text-align: right;\">\n",
              "      <th></th>\n",
              "      <th>shop_id</th>\n",
              "      <th>item_id</th>\n",
              "      <th>date_block_num</th>\n",
              "      <th>item_category_id</th>\n",
              "      <th>log_prices</th>\n",
              "    </tr>\n",
              "  </thead>\n",
              "  <tbody>\n",
              "    <tr>\n",
              "      <th>0</th>\n",
              "      <td>5</td>\n",
              "      <td>5037</td>\n",
              "      <td>34</td>\n",
              "      <td>19</td>\n",
              "      <td>7.312553</td>\n",
              "    </tr>\n",
              "    <tr>\n",
              "      <th>1</th>\n",
              "      <td>5</td>\n",
              "      <td>5320</td>\n",
              "      <td>34</td>\n",
              "      <td>55</td>\n",
              "      <td>6.107023</td>\n",
              "    </tr>\n",
              "    <tr>\n",
              "      <th>2</th>\n",
              "      <td>5</td>\n",
              "      <td>5233</td>\n",
              "      <td>34</td>\n",
              "      <td>19</td>\n",
              "      <td>7.089243</td>\n",
              "    </tr>\n",
              "    <tr>\n",
              "      <th>3</th>\n",
              "      <td>5</td>\n",
              "      <td>5232</td>\n",
              "      <td>34</td>\n",
              "      <td>23</td>\n",
              "      <td>7.089243</td>\n",
              "    </tr>\n",
              "    <tr>\n",
              "      <th>4</th>\n",
              "      <td>5</td>\n",
              "      <td>5268</td>\n",
              "      <td>34</td>\n",
              "      <td>20</td>\n",
              "      <td>6.107023</td>\n",
              "    </tr>\n",
              "  </tbody>\n",
              "</table>\n",
              "</div>"
            ],
            "text/plain": [
              "   shop_id  item_id  date_block_num  item_category_id  log_prices\n",
              "0        5     5037              34                19    7.312553\n",
              "1        5     5320              34                55    6.107023\n",
              "2        5     5233              34                19    7.089243\n",
              "3        5     5232              34                23    7.089243\n",
              "4        5     5268              34                20    6.107023"
            ]
          },
          "metadata": {
            "tags": []
          },
          "execution_count": 170
        }
      ]
    },
    {
      "cell_type": "markdown",
      "metadata": {
        "id": "bsCGgTsTVamh"
      },
      "source": [
        "# Model Training/Selection"
      ]
    },
    {
      "cell_type": "code",
      "metadata": {
        "id": "WYtBXyb6V3ww"
      },
      "source": [
        "from sklearn.model_selection import train_test_split\n",
        "\n",
        "from sklearn.linear_model import LinearRegression, Ridge, Lasso\n",
        "from sklearn.ensemble import RandomForestRegressor\n",
        "from sklearn.ensemble import GradientBoostingRegressor\n",
        "from lightgbm import LGBMRegressor\n",
        "\n",
        "from sklearn.metrics import mean_squared_error\n",
        "from sklearn.pipeline import Pipeline\n",
        "\n",
        "from sklearn.preprocessing import StandardScaler, LabelEncoder\n",
        "from itertools import product\n",
        "\n",
        "# Modelling\n",
        "from xgboost import XGBRegressor\n",
        "from sklearn.preprocessing import LabelEncoder\n",
        "from sklearn.linear_model import LinearRegression\n",
        "from sklearn.neighbors import KNeighborsRegressor\n",
        "from sklearn.ensemble import RandomForestRegressor\n",
        "import lightgbm as lgb"
      ],
      "execution_count": 171,
      "outputs": []
    },
    {
      "cell_type": "code",
      "metadata": {
        "id": "OwHPxmGoVeEq"
      },
      "source": [
        "X_train = agg_dataset[agg_dataset.date_block_num < 33].drop(['item_cnt_month'], axis=1)\n",
        "Y_train = agg_dataset[agg_dataset.date_block_num < 33]['item_cnt_month']\n",
        "X_valid = agg_dataset[agg_dataset.date_block_num == 33].drop(['item_cnt_month'], axis=1)\n",
        "Y_valid = agg_dataset[agg_dataset.date_block_num == 33]['item_cnt_month']\n",
        "X_test = full_test"
      ],
      "execution_count": 172,
      "outputs": []
    },
    {
      "cell_type": "markdown",
      "metadata": {
        "id": "7huFfK6SfSTX"
      },
      "source": [
        "Linear Regression"
      ]
    },
    {
      "cell_type": "code",
      "metadata": {
        "colab": {
          "base_uri": "https://localhost:8080/"
        },
        "id": "0MlKALS0fJlA",
        "outputId": "1779c535-af8a-4b2c-fb68-360f55d03597"
      },
      "source": [
        "lr=LinearRegression()\n",
        "lr.fit(X_train, Y_train)\n",
        "print(mean_squared_error(Y_train, lr.predict(X_train)))\n",
        "print(lr.score(X_train, Y_train))"
      ],
      "execution_count": 92,
      "outputs": [
        {
          "output_type": "stream",
          "text": [
            "68.91073818768115\n",
            "nan\n"
          ],
          "name": "stdout"
        },
        {
          "output_type": "stream",
          "text": [
            "/usr/local/lib/python3.7/dist-packages/sklearn/metrics/_regression.py:594: RuntimeWarning: overflow encountered in square\n",
            "  y_true, axis=0, weights=sample_weight)) ** 2).sum(axis=0,\n",
            "/usr/local/lib/python3.7/dist-packages/numpy/lib/function_base.py:412: RuntimeWarning: invalid value encountered in double_scalars\n",
            "  avg = np.multiply(a, wgt, dtype=result_dtype).sum(axis)/scl\n"
          ],
          "name": "stderr"
        }
      ]
    },
    {
      "cell_type": "markdown",
      "metadata": {
        "id": "_jn99PqAgf2M"
      },
      "source": [
        "Lasso"
      ]
    },
    {
      "cell_type": "code",
      "metadata": {
        "colab": {
          "base_uri": "https://localhost:8080/"
        },
        "id": "av4sO-Tagb8q",
        "outputId": "c55c3808-12f4-46cd-91e3-6a9588ed7188"
      },
      "source": [
        "lso=Lasso()\n",
        "lso.fit(X_train, Y_train)\n",
        "print(mean_squared_error(Y_train, lso.predict(X_train)))\n",
        "print(lso.score(X_train,Y_train))"
      ],
      "execution_count": 93,
      "outputs": [
        {
          "output_type": "stream",
          "text": [
            "68.92658110029699\n",
            "nan\n"
          ],
          "name": "stdout"
        },
        {
          "output_type": "stream",
          "text": [
            "/usr/local/lib/python3.7/dist-packages/sklearn/metrics/_regression.py:594: RuntimeWarning: overflow encountered in square\n",
            "  y_true, axis=0, weights=sample_weight)) ** 2).sum(axis=0,\n",
            "/usr/local/lib/python3.7/dist-packages/numpy/lib/function_base.py:412: RuntimeWarning: invalid value encountered in double_scalars\n",
            "  avg = np.multiply(a, wgt, dtype=result_dtype).sum(axis)/scl\n"
          ],
          "name": "stderr"
        }
      ]
    },
    {
      "cell_type": "code",
      "metadata": {
        "colab": {
          "base_uri": "https://localhost:8080/"
        },
        "id": "IrLmROi6g_SD",
        "outputId": "7be798d8-178c-4774-c63c-438cdee6a4c1"
      },
      "source": [
        "grad_boost = GradientBoostingRegressor(learning_rate = 0.1, n_estimators = 100, random_state = 42)\n",
        "grad_boost.fit(X_train, Y_train) #fitting the model took 2m 24 seconds. "
      ],
      "execution_count": 183,
      "outputs": [
        {
          "output_type": "execute_result",
          "data": {
            "text/plain": [
              "GradientBoostingRegressor(alpha=0.9, ccp_alpha=0.0, criterion='friedman_mse',\n",
              "                          init=None, learning_rate=0.1, loss='ls', max_depth=3,\n",
              "                          max_features=None, max_leaf_nodes=None,\n",
              "                          min_impurity_decrease=0.0, min_impurity_split=None,\n",
              "                          min_samples_leaf=1, min_samples_split=2,\n",
              "                          min_weight_fraction_leaf=0.0, n_estimators=100,\n",
              "                          n_iter_no_change=None, presort='deprecated',\n",
              "                          random_state=42, subsample=1.0, tol=0.0001,\n",
              "                          validation_fraction=0.1, verbose=0, warm_start=False)"
            ]
          },
          "metadata": {
            "tags": []
          },
          "execution_count": 183
        }
      ]
    },
    {
      "cell_type": "code",
      "metadata": {
        "colab": {
          "base_uri": "https://localhost:8080/"
        },
        "id": "5wz8dZ_UiYja",
        "outputId": "21b4f893-a48f-424f-e8c0-5781f9fd9976"
      },
      "source": [
        "print('Train set mse:', mean_squared_error(Y_train, grad_boost.predict(X_train)))"
      ],
      "execution_count": 89,
      "outputs": [
        {
          "output_type": "stream",
          "text": [
            "Train set mse: 43.35131132113967\n"
          ],
          "name": "stdout"
        }
      ]
    },
    {
      "cell_type": "code",
      "metadata": {
        "id": "22DeBekiytcH"
      },
      "source": [
        "prediction = grad_boost.predict(X_test)"
      ],
      "execution_count": 184,
      "outputs": []
    },
    {
      "cell_type": "markdown",
      "metadata": {
        "id": "ZRuoljQFlGL_"
      },
      "source": [
        "lightgbm\n"
      ]
    },
    {
      "cell_type": "code",
      "metadata": {
        "id": "DrYxudifmb8M"
      },
      "source": [
        "# !pip install cmake\n",
        "# !git clone --recursive https://github.com/Microsoft/LightGBM\n",
        "# %cd LightGBM\n",
        "# !mkdir build\n",
        "# !cd build\n",
        "# !cmake ./LightGBM\n",
        "# !make -j4"
      ],
      "execution_count": null,
      "outputs": []
    },
    {
      "cell_type": "code",
      "metadata": {
        "id": "AoF5N8Lxm25T"
      },
      "source": [
        "# !git clone --recursive https://github.com/Microsoft/LightGBM.git\n",
        "# %cd LightGBM/python-package\n",
        "# !python3 setup.py install --gpu"
      ],
      "execution_count": null,
      "outputs": []
    },
    {
      "cell_type": "code",
      "metadata": {
        "id": "nZ0Ot4SaigAt"
      },
      "source": [
        "feature_names = X_train.columns.tolist()\n",
        "params = {\n",
        "    'objective': 'mse',\n",
        "    'metric': 'rmse',\n",
        "    'num_leaves': 15,\n",
        "    'learning_rate': 0.005,\n",
        "    'feature_fraction': 0.75,\n",
        "    'bagging_fraction': 0.75,\n",
        "    'bagging_freq': 5,\n",
        "    'seed': 1,\n",
        "    'verbose': 1,\n",
        "#     'gpu_platform_id': 0,\n",
        "#     'gpu_device_id': 0,\n",
        "    'force_row_wise' : True\n",
        "}"
      ],
      "execution_count": 174,
      "outputs": []
    },
    {
      "cell_type": "code",
      "metadata": {
        "colab": {
          "base_uri": "https://localhost:8080/"
        },
        "id": "XaHKGHGYkIgh",
        "outputId": "1bba5ca8-5351-41fe-9f1a-4db8a58dc73f"
      },
      "source": [
        "feature_names"
      ],
      "execution_count": 81,
      "outputs": [
        {
          "output_type": "execute_result",
          "data": {
            "text/plain": [
              "['date_block_num', 'shop_id', 'item_id', 'item_category_id', 'log_prices']"
            ]
          },
          "metadata": {
            "tags": []
          },
          "execution_count": 81
        }
      ]
    },
    {
      "cell_type": "code",
      "metadata": {
        "id": "ZvLnVzqQkKf1"
      },
      "source": [
        "feature_cat= ['date_block_num', 'shop_id', 'item_id', 'item_category_id']"
      ],
      "execution_count": 175,
      "outputs": []
    },
    {
      "cell_type": "code",
      "metadata": {
        "id": "tWQpk_o1kVPW"
      },
      "source": [
        "lgb_train = lgb.Dataset(X_train[feature_names], Y_train)\n",
        "lgb_eval = lgb.Dataset(X_valid[feature_names], Y_valid, reference=lgb_train)"
      ],
      "execution_count": 176,
      "outputs": []
    },
    {
      "cell_type": "code",
      "metadata": {
        "colab": {
          "base_uri": "https://localhost:8080/"
        },
        "id": "-6DKhMSwkczB",
        "outputId": "a4e0ffe4-f8ba-4a0b-8147-bc1da2db2b0d"
      },
      "source": [
        "evals_result = {}\n",
        "gbm = lgb.train(\n",
        "        params, \n",
        "        lgb_train,\n",
        "        num_boost_round= 3000,\n",
        "        valid_sets=(lgb_train, lgb_eval), \n",
        "        feature_name = feature_names,\n",
        "        categorical_feature = feature_cat,\n",
        "        verbose_eval=50, \n",
        "        evals_result = evals_result,\n",
        "        early_stopping_rounds = 100)"
      ],
      "execution_count": 177,
      "outputs": [
        {
          "output_type": "stream",
          "text": [
            "/usr/local/lib/python3.7/dist-packages/lightgbm/basic.py:1209: UserWarning: categorical_feature in Dataset is overridden.\n",
            "New categorical_feature is ['date_block_num', 'item_category_id', 'item_id', 'shop_id']\n",
            "  'New categorical_feature is {}'.format(sorted(list(categorical_feature))))\n",
            "/usr/local/lib/python3.7/dist-packages/lightgbm/basic.py:762: UserWarning: categorical_feature in param dict is overridden.\n",
            "  warnings.warn('categorical_feature in param dict is overridden.')\n"
          ],
          "name": "stderr"
        },
        {
          "output_type": "stream",
          "text": [
            "Training until validation scores don't improve for 100 rounds.\n",
            "[50]\ttraining's rmse: 7.61956\tvalid_1's rmse: 6.38278\n",
            "[100]\ttraining's rmse: 7.12434\tvalid_1's rmse: 5.91449\n",
            "[150]\ttraining's rmse: 6.74972\tvalid_1's rmse: 5.60204\n",
            "[200]\ttraining's rmse: 6.46492\tvalid_1's rmse: 5.41077\n",
            "[250]\ttraining's rmse: 6.22246\tvalid_1's rmse: 5.21225\n",
            "[300]\ttraining's rmse: 6.02857\tvalid_1's rmse: 5.08404\n",
            "[350]\ttraining's rmse: 5.89299\tvalid_1's rmse: 5.00242\n",
            "[400]\ttraining's rmse: 5.77475\tvalid_1's rmse: 4.95251\n",
            "[450]\ttraining's rmse: 5.67433\tvalid_1's rmse: 4.9138\n",
            "[500]\ttraining's rmse: 5.58719\tvalid_1's rmse: 4.88375\n",
            "[550]\ttraining's rmse: 5.51672\tvalid_1's rmse: 4.86374\n",
            "[600]\ttraining's rmse: 5.45636\tvalid_1's rmse: 4.86265\n",
            "[650]\ttraining's rmse: 5.4073\tvalid_1's rmse: 4.87605\n",
            "[700]\ttraining's rmse: 5.36616\tvalid_1's rmse: 4.87542\n",
            "Early stopping, best iteration is:\n",
            "[606]\ttraining's rmse: 5.45058\tvalid_1's rmse: 4.86253\n"
          ],
          "name": "stdout"
        }
      ]
    },
    {
      "cell_type": "code",
      "metadata": {
        "id": "AYzf4oA6vyU6"
      },
      "source": [
        "submission = pd.read_csv('sample_submission.csv.zip', compression='zip')"
      ],
      "execution_count": 178,
      "outputs": []
    },
    {
      "cell_type": "code",
      "metadata": {
        "id": "VsCQi1sZw_Zp"
      },
      "source": [
        "prediction = gbm.predict(X_test)\n"
      ],
      "execution_count": 179,
      "outputs": []
    },
    {
      "cell_type": "code",
      "metadata": {
        "colab": {
          "base_uri": "https://localhost:8080/",
          "height": 206
        },
        "id": "BzHbtgLexbPm",
        "outputId": "3e60cfaf-ba66-40ae-dfa7-e92798239f0f"
      },
      "source": [
        "submission.head()"
      ],
      "execution_count": 180,
      "outputs": [
        {
          "output_type": "execute_result",
          "data": {
            "text/html": [
              "<div>\n",
              "<style scoped>\n",
              "    .dataframe tbody tr th:only-of-type {\n",
              "        vertical-align: middle;\n",
              "    }\n",
              "\n",
              "    .dataframe tbody tr th {\n",
              "        vertical-align: top;\n",
              "    }\n",
              "\n",
              "    .dataframe thead th {\n",
              "        text-align: right;\n",
              "    }\n",
              "</style>\n",
              "<table border=\"1\" class=\"dataframe\">\n",
              "  <thead>\n",
              "    <tr style=\"text-align: right;\">\n",
              "      <th></th>\n",
              "      <th>ID</th>\n",
              "      <th>item_cnt_month</th>\n",
              "    </tr>\n",
              "  </thead>\n",
              "  <tbody>\n",
              "    <tr>\n",
              "      <th>0</th>\n",
              "      <td>0</td>\n",
              "      <td>2.044254</td>\n",
              "    </tr>\n",
              "    <tr>\n",
              "      <th>1</th>\n",
              "      <td>1</td>\n",
              "      <td>1.537549</td>\n",
              "    </tr>\n",
              "    <tr>\n",
              "      <th>2</th>\n",
              "      <td>2</td>\n",
              "      <td>2.044254</td>\n",
              "    </tr>\n",
              "    <tr>\n",
              "      <th>3</th>\n",
              "      <td>3</td>\n",
              "      <td>1.918819</td>\n",
              "    </tr>\n",
              "    <tr>\n",
              "      <th>4</th>\n",
              "      <td>4</td>\n",
              "      <td>2.449497</td>\n",
              "    </tr>\n",
              "  </tbody>\n",
              "</table>\n",
              "</div>"
            ],
            "text/plain": [
              "   ID  item_cnt_month\n",
              "0   0        2.044254\n",
              "1   1        1.537549\n",
              "2   2        2.044254\n",
              "3   3        1.918819\n",
              "4   4        2.449497"
            ]
          },
          "metadata": {
            "tags": []
          },
          "execution_count": 180
        }
      ]
    },
    {
      "cell_type": "code",
      "metadata": {
        "id": "VMZRqw5yxcFz"
      },
      "source": [
        "submission['item_cnt_month'] = prediction\n",
        "submission.to_csv('submission2.csv', index=False)"
      ],
      "execution_count": 185,
      "outputs": []
    },
    {
      "cell_type": "markdown",
      "metadata": {
        "id": "rzGyiPxCxmPp"
      },
      "source": [
        "https://www.kaggle.com/jerifate/future-sales-time-series-visualization\n",
        "\n",
        "\n",
        "\n",
        "https://www.kaggle.com/jeongwonkim10516/ts-eda-pred-on-gpu-orange-visualization/data\n"
      ]
    },
    {
      "cell_type": "markdown",
      "metadata": {
        "id": "ZpIpjiq20G8T"
      },
      "source": [
        "Clearly none of the regression based algorithms did great. Our features are mostly categorical so that could only make sense. The model did quite badly, looking at the rmse numbers. The submission also did quite poorly at about 10,000th place. \n",
        "One key takeaway is to find better features. I did not perform any feature analysis during my feature engineering stage, did not look at any correlation matrix for that matter, hardly any exploratory analysis at all. Exploratory analysis is as important as the modelling."
      ]
    },
    {
      "cell_type": "code",
      "metadata": {
        "colab": {
          "base_uri": "https://localhost:8080/",
          "height": 206
        },
        "id": "E1sztTF10jYe",
        "outputId": "6284b8a6-3c21-4e69-b527-9d79281117d6"
      },
      "source": [
        "shops.head()"
      ],
      "execution_count": 186,
      "outputs": [
        {
          "output_type": "execute_result",
          "data": {
            "text/html": [
              "<div>\n",
              "<style scoped>\n",
              "    .dataframe tbody tr th:only-of-type {\n",
              "        vertical-align: middle;\n",
              "    }\n",
              "\n",
              "    .dataframe tbody tr th {\n",
              "        vertical-align: top;\n",
              "    }\n",
              "\n",
              "    .dataframe thead th {\n",
              "        text-align: right;\n",
              "    }\n",
              "</style>\n",
              "<table border=\"1\" class=\"dataframe\">\n",
              "  <thead>\n",
              "    <tr style=\"text-align: right;\">\n",
              "      <th></th>\n",
              "      <th>shop_name</th>\n",
              "      <th>shop_id</th>\n",
              "    </tr>\n",
              "  </thead>\n",
              "  <tbody>\n",
              "    <tr>\n",
              "      <th>0</th>\n",
              "      <td>!Якутск Орджоникидзе, 56 фран</td>\n",
              "      <td>0</td>\n",
              "    </tr>\n",
              "    <tr>\n",
              "      <th>1</th>\n",
              "      <td>!Якутск ТЦ \"Центральный\" фран</td>\n",
              "      <td>1</td>\n",
              "    </tr>\n",
              "    <tr>\n",
              "      <th>2</th>\n",
              "      <td>Адыгея ТЦ \"Мега\"</td>\n",
              "      <td>2</td>\n",
              "    </tr>\n",
              "    <tr>\n",
              "      <th>3</th>\n",
              "      <td>Балашиха ТРК \"Октябрь-Киномир\"</td>\n",
              "      <td>3</td>\n",
              "    </tr>\n",
              "    <tr>\n",
              "      <th>4</th>\n",
              "      <td>Волжский ТЦ \"Волга Молл\"</td>\n",
              "      <td>4</td>\n",
              "    </tr>\n",
              "  </tbody>\n",
              "</table>\n",
              "</div>"
            ],
            "text/plain": [
              "                        shop_name  shop_id\n",
              "0   !Якутск Орджоникидзе, 56 фран        0\n",
              "1   !Якутск ТЦ \"Центральный\" фран        1\n",
              "2                Адыгея ТЦ \"Мега\"        2\n",
              "3  Балашиха ТРК \"Октябрь-Киномир\"        3\n",
              "4        Волжский ТЦ \"Волга Молл\"        4"
            ]
          },
          "metadata": {
            "tags": []
          },
          "execution_count": 186
        }
      ]
    },
    {
      "cell_type": "code",
      "metadata": {
        "colab": {
          "base_uri": "https://localhost:8080/",
          "height": 206
        },
        "id": "Vdn6WEL90lh7",
        "outputId": "e69e7c62-c76a-471d-8289-303ea0e2cd9c"
      },
      "source": [
        "item_categories.head()"
      ],
      "execution_count": 187,
      "outputs": [
        {
          "output_type": "execute_result",
          "data": {
            "text/html": [
              "<div>\n",
              "<style scoped>\n",
              "    .dataframe tbody tr th:only-of-type {\n",
              "        vertical-align: middle;\n",
              "    }\n",
              "\n",
              "    .dataframe tbody tr th {\n",
              "        vertical-align: top;\n",
              "    }\n",
              "\n",
              "    .dataframe thead th {\n",
              "        text-align: right;\n",
              "    }\n",
              "</style>\n",
              "<table border=\"1\" class=\"dataframe\">\n",
              "  <thead>\n",
              "    <tr style=\"text-align: right;\">\n",
              "      <th></th>\n",
              "      <th>item_category_name</th>\n",
              "      <th>item_category_id</th>\n",
              "    </tr>\n",
              "  </thead>\n",
              "  <tbody>\n",
              "    <tr>\n",
              "      <th>0</th>\n",
              "      <td>PC - Гарнитуры/Наушники</td>\n",
              "      <td>0</td>\n",
              "    </tr>\n",
              "    <tr>\n",
              "      <th>1</th>\n",
              "      <td>Аксессуары - PS2</td>\n",
              "      <td>1</td>\n",
              "    </tr>\n",
              "    <tr>\n",
              "      <th>2</th>\n",
              "      <td>Аксессуары - PS3</td>\n",
              "      <td>2</td>\n",
              "    </tr>\n",
              "    <tr>\n",
              "      <th>3</th>\n",
              "      <td>Аксессуары - PS4</td>\n",
              "      <td>3</td>\n",
              "    </tr>\n",
              "    <tr>\n",
              "      <th>4</th>\n",
              "      <td>Аксессуары - PSP</td>\n",
              "      <td>4</td>\n",
              "    </tr>\n",
              "  </tbody>\n",
              "</table>\n",
              "</div>"
            ],
            "text/plain": [
              "        item_category_name  item_category_id\n",
              "0  PC - Гарнитуры/Наушники                 0\n",
              "1         Аксессуары - PS2                 1\n",
              "2         Аксессуары - PS3                 2\n",
              "3         Аксессуары - PS4                 3\n",
              "4         Аксессуары - PSP                 4"
            ]
          },
          "metadata": {
            "tags": []
          },
          "execution_count": 187
        }
      ]
    },
    {
      "cell_type": "code",
      "metadata": {
        "colab": {
          "base_uri": "https://localhost:8080/",
          "height": 206
        },
        "id": "qbyaTIuT0n9Q",
        "outputId": "6efd6c21-06a0-4605-aff9-3cc7991391cb"
      },
      "source": [
        "items_table.head()"
      ],
      "execution_count": 188,
      "outputs": [
        {
          "output_type": "execute_result",
          "data": {
            "text/html": [
              "<div>\n",
              "<style scoped>\n",
              "    .dataframe tbody tr th:only-of-type {\n",
              "        vertical-align: middle;\n",
              "    }\n",
              "\n",
              "    .dataframe tbody tr th {\n",
              "        vertical-align: top;\n",
              "    }\n",
              "\n",
              "    .dataframe thead th {\n",
              "        text-align: right;\n",
              "    }\n",
              "</style>\n",
              "<table border=\"1\" class=\"dataframe\">\n",
              "  <thead>\n",
              "    <tr style=\"text-align: right;\">\n",
              "      <th></th>\n",
              "      <th>item_name</th>\n",
              "      <th>item_id</th>\n",
              "      <th>item_category_id</th>\n",
              "      <th>item_category_name</th>\n",
              "    </tr>\n",
              "  </thead>\n",
              "  <tbody>\n",
              "    <tr>\n",
              "      <th>0</th>\n",
              "      <td>! ВО ВЛАСТИ НАВАЖДЕНИЯ (ПЛАСТ.)         D</td>\n",
              "      <td>0</td>\n",
              "      <td>40</td>\n",
              "      <td>Кино - DVD</td>\n",
              "    </tr>\n",
              "    <tr>\n",
              "      <th>1</th>\n",
              "      <td>!ABBYY FineReader 12 Professional Edition Full...</td>\n",
              "      <td>1</td>\n",
              "      <td>76</td>\n",
              "      <td>Программы - Для дома и офиса (Цифра)</td>\n",
              "    </tr>\n",
              "    <tr>\n",
              "      <th>2</th>\n",
              "      <td>***В ЛУЧАХ СЛАВЫ   (UNV)                    D</td>\n",
              "      <td>2</td>\n",
              "      <td>40</td>\n",
              "      <td>Кино - DVD</td>\n",
              "    </tr>\n",
              "    <tr>\n",
              "      <th>3</th>\n",
              "      <td>***ГОЛУБАЯ ВОЛНА  (Univ)                      D</td>\n",
              "      <td>3</td>\n",
              "      <td>40</td>\n",
              "      <td>Кино - DVD</td>\n",
              "    </tr>\n",
              "    <tr>\n",
              "      <th>4</th>\n",
              "      <td>***КОРОБКА (СТЕКЛО)                       D</td>\n",
              "      <td>4</td>\n",
              "      <td>40</td>\n",
              "      <td>Кино - DVD</td>\n",
              "    </tr>\n",
              "  </tbody>\n",
              "</table>\n",
              "</div>"
            ],
            "text/plain": [
              "                                           item_name  ...                    item_category_name\n",
              "0          ! ВО ВЛАСТИ НАВАЖДЕНИЯ (ПЛАСТ.)         D  ...                            Кино - DVD\n",
              "1  !ABBYY FineReader 12 Professional Edition Full...  ...  Программы - Для дома и офиса (Цифра)\n",
              "2      ***В ЛУЧАХ СЛАВЫ   (UNV)                    D  ...                            Кино - DVD\n",
              "3    ***ГОЛУБАЯ ВОЛНА  (Univ)                      D  ...                            Кино - DVD\n",
              "4        ***КОРОБКА (СТЕКЛО)                       D  ...                            Кино - DVD\n",
              "\n",
              "[5 rows x 4 columns]"
            ]
          },
          "metadata": {
            "tags": []
          },
          "execution_count": 188
        }
      ]
    }
  ]
}